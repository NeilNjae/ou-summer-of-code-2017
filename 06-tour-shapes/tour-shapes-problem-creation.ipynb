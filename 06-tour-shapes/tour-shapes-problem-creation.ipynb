{
 "cells": [
  {
   "cell_type": "markdown",
   "metadata": {},
   "source": [
    "Given a sequence of {F|L|R}, each of which is \"move forward one step\", \"turn left, then move forward one step\", \"turn right, then move forward one step\":\n",
    "1. which tours are closed?\n",
    "2. what is the area enclosed by the tour?"
   ]
  },
  {
   "cell_type": "code",
   "execution_count": 1301,
   "metadata": {
    "collapsed": true
   },
   "outputs": [],
   "source": [
    "import collections\n",
    "import enum\n",
    "import random\n",
    "import os\n",
    "\n",
    "import matplotlib.pyplot as plt\n",
    "%matplotlib inline\n"
   ]
  },
  {
   "cell_type": "code",
   "execution_count": 2,
   "metadata": {
    "collapsed": true
   },
   "outputs": [],
   "source": [
    "class Direction(enum.Enum):\n",
    "    UP = 1\n",
    "    RIGHT = 2\n",
    "    DOWN = 3\n",
    "    LEFT = 4\n",
    "    \n",
    "turn_lefts = {Direction.UP: Direction.LEFT, Direction.LEFT: Direction.DOWN,\n",
    "              Direction.DOWN: Direction.RIGHT, Direction.RIGHT: Direction.UP}\n",
    "\n",
    "turn_rights = {Direction.UP: Direction.RIGHT, Direction.RIGHT: Direction.DOWN,\n",
    "               Direction.DOWN: Direction.LEFT, Direction.LEFT: Direction.UP}\n",
    "\n",
    "def turn_left(d):\n",
    "    return turn_lefts[d]\n",
    "\n",
    "def turn_right(d):\n",
    "    return turn_rights[d]\n"
   ]
  },
  {
   "cell_type": "code",
   "execution_count": 82,
   "metadata": {
    "collapsed": true
   },
   "outputs": [],
   "source": [
    "Step = collections.namedtuple('Step', ['x', 'y', 'dir'])\n",
    "Mistake = collections.namedtuple('Mistake', ['i', 'step'])"
   ]
  },
  {
   "cell_type": "code",
   "execution_count": 4,
   "metadata": {
    "collapsed": true
   },
   "outputs": [],
   "source": [
    "def advance(step, d):\n",
    "    if d == Direction.UP:\n",
    "        return Step(step.x, step.y+1, d)\n",
    "    elif d == Direction.DOWN:\n",
    "        return Step(step.x, step.y-1, d)\n",
    "    elif d == Direction.LEFT:\n",
    "        return Step(step.x-1, step.y, d)\n",
    "    elif d == Direction.RIGHT:\n",
    "        return Step(step.x+1, step.y, d)"
   ]
  },
  {
   "cell_type": "code",
   "execution_count": 489,
   "metadata": {
    "collapsed": true
   },
   "outputs": [],
   "source": [
    "def trace_tour(tour, startx=0, starty=0, startdir=Direction.RIGHT):\n",
    "    current = Step(startx, starty, startdir)\n",
    "    trace = [current]\n",
    "    for s in tour:\n",
    "        if s == 'F':\n",
    "            current = advance(current, current.dir)\n",
    "        elif s == 'L':\n",
    "            current = advance(current, turn_left(current.dir))\n",
    "        elif s == 'R':\n",
    "            current = advance(current, turn_right(current.dir))\n",
    "        trace += [current]\n",
    "    return trace    "
   ]
  },
  {
   "cell_type": "code",
   "execution_count": 490,
   "metadata": {
    "collapsed": true
   },
   "outputs": [],
   "source": [
    "k = Step(1, 2, 3)"
   ]
  },
  {
   "cell_type": "code",
   "execution_count": 491,
   "metadata": {},
   "outputs": [
    {
     "data": {
      "text/plain": [
       "Step(x=1, y=2, dir=3)"
      ]
     },
     "execution_count": 491,
     "metadata": {},
     "output_type": "execute_result"
    }
   ],
   "source": [
    "k"
   ]
  },
  {
   "cell_type": "code",
   "execution_count": 8,
   "metadata": {},
   "outputs": [
    {
     "data": {
      "text/plain": [
       "__main__.Step"
      ]
     },
     "execution_count": 8,
     "metadata": {},
     "output_type": "execute_result"
    }
   ],
   "source": [
    "Step"
   ]
  },
  {
   "cell_type": "code",
   "execution_count": 9,
   "metadata": {},
   "outputs": [
    {
     "data": {
      "text/plain": [
       "<Direction.UP: 1>"
      ]
     },
     "execution_count": 9,
     "metadata": {},
     "output_type": "execute_result"
    }
   ],
   "source": [
    "d = Direction.UP\n",
    "d"
   ]
  },
  {
   "cell_type": "code",
   "execution_count": 10,
   "metadata": {},
   "outputs": [
    {
     "data": {
      "text/plain": [
       "<Direction.RIGHT: 2>"
      ]
     },
     "execution_count": 10,
     "metadata": {},
     "output_type": "execute_result"
    }
   ],
   "source": [
    "turn_right(d)"
   ]
  },
  {
   "cell_type": "code",
   "execution_count": 11,
   "metadata": {},
   "outputs": [
    {
     "data": {
      "text/plain": [
       "{<Direction.RIGHT: 2>: <Direction.DOWN: 3>,\n",
       " <Direction.DOWN: 3>: <Direction.LEFT: 4>,\n",
       " <Direction.LEFT: 4>: <Direction.UP: 1>,\n",
       " <Direction.UP: 1>: <Direction.RIGHT: 2>}"
      ]
     },
     "execution_count": 11,
     "metadata": {},
     "output_type": "execute_result"
    }
   ],
   "source": [
    "turn_rights"
   ]
  },
  {
   "cell_type": "code",
   "execution_count": 494,
   "metadata": {},
   "outputs": [
    {
     "data": {
      "text/plain": [
       "[Step(x=0, y=0, dir=<Direction.RIGHT: 2>),\n",
       " Step(x=1, y=0, dir=<Direction.RIGHT: 2>),\n",
       " Step(x=1, y=1, dir=<Direction.UP: 1>),\n",
       " Step(x=2, y=1, dir=<Direction.RIGHT: 2>),\n",
       " Step(x=2, y=2, dir=<Direction.UP: 1>)]"
      ]
     },
     "execution_count": 494,
     "metadata": {},
     "output_type": "execute_result"
    }
   ],
   "source": [
    "trace_tour('FLRL')"
   ]
  },
  {
   "cell_type": "code",
   "execution_count": 13,
   "metadata": {},
   "outputs": [
    {
     "data": {
      "text/plain": [
       "[Step(x=0, y=0, dir=<Direction.RIGHT: 2>),\n",
       " Step(x=1, y=0, dir=<Direction.RIGHT: 2>),\n",
       " Step(x=2, y=0, dir=<Direction.RIGHT: 2>),\n",
       " Step(x=2, y=1, dir=<Direction.UP: 1>),\n",
       " Step(x=3, y=1, dir=<Direction.RIGHT: 2>),\n",
       " Step(x=3, y=2, dir=<Direction.UP: 1>),\n",
       " Step(x=2, y=2, dir=<Direction.LEFT: 4>),\n",
       " Step(x=1, y=2, dir=<Direction.LEFT: 4>),\n",
       " Step(x=1, y=1, dir=<Direction.DOWN: 3>),\n",
       " Step(x=0, y=1, dir=<Direction.LEFT: 4>),\n",
       " Step(x=0, y=0, dir=<Direction.DOWN: 3>)]"
      ]
     },
     "execution_count": 13,
     "metadata": {},
     "output_type": "execute_result"
    }
   ],
   "source": [
    "trace_tour('FFLRLLFLRL')"
   ]
  },
  {
   "cell_type": "code",
   "execution_count": 14,
   "metadata": {},
   "outputs": [
    {
     "data": {
      "text/plain": [
       "[Step(x=0, y=0, dir=<Direction.RIGHT: 2>),\n",
       " Step(x=1, y=0, dir=<Direction.RIGHT: 2>),\n",
       " Step(x=1, y=1, dir=<Direction.UP: 1>),\n",
       " Step(x=0, y=1, dir=<Direction.LEFT: 4>),\n",
       " Step(x=-1, y=1, dir=<Direction.LEFT: 4>),\n",
       " Step(x=-2, y=1, dir=<Direction.LEFT: 4>),\n",
       " Step(x=-2, y=0, dir=<Direction.DOWN: 3>),\n",
       " Step(x=-2, y=-1, dir=<Direction.DOWN: 3>),\n",
       " Step(x=-2, y=-2, dir=<Direction.DOWN: 3>),\n",
       " Step(x=-2, y=-3, dir=<Direction.DOWN: 3>),\n",
       " Step(x=-1, y=-3, dir=<Direction.RIGHT: 2>),\n",
       " Step(x=0, y=-3, dir=<Direction.RIGHT: 2>),\n",
       " Step(x=1, y=-3, dir=<Direction.RIGHT: 2>),\n",
       " Step(x=1, y=-2, dir=<Direction.UP: 1>),\n",
       " Step(x=1, y=-1, dir=<Direction.UP: 1>),\n",
       " Step(x=0, y=-1, dir=<Direction.LEFT: 4>),\n",
       " Step(x=0, y=-2, dir=<Direction.DOWN: 3>),\n",
       " Step(x=-1, y=-2, dir=<Direction.LEFT: 4>),\n",
       " Step(x=-1, y=-1, dir=<Direction.UP: 1>),\n",
       " Step(x=-1, y=0, dir=<Direction.UP: 1>),\n",
       " Step(x=0, y=0, dir=<Direction.RIGHT: 2>)]"
      ]
     },
     "execution_count": 14,
     "metadata": {},
     "output_type": "execute_result"
    }
   ],
   "source": [
    "trace_tour('FLLFFLFFFLFFLFLLRRFR')"
   ]
  },
  {
   "cell_type": "code",
   "execution_count": 15,
   "metadata": {},
   "outputs": [
    {
     "data": {
      "text/plain": [
       "[Step(x=0, y=0, dir=<Direction.RIGHT: 2>),\n",
       " Step(x=1, y=0, dir=<Direction.RIGHT: 2>),\n",
       " Step(x=2, y=0, dir=<Direction.RIGHT: 2>),\n",
       " Step(x=2, y=-1, dir=<Direction.DOWN: 3>),\n",
       " Step(x=3, y=-1, dir=<Direction.RIGHT: 2>),\n",
       " Step(x=3, y=0, dir=<Direction.UP: 1>),\n",
       " Step(x=3, y=1, dir=<Direction.UP: 1>),\n",
       " Step(x=4, y=1, dir=<Direction.RIGHT: 2>),\n",
       " Step(x=4, y=2, dir=<Direction.UP: 1>),\n",
       " Step(x=3, y=2, dir=<Direction.LEFT: 4>),\n",
       " Step(x=2, y=2, dir=<Direction.LEFT: 4>),\n",
       " Step(x=1, y=2, dir=<Direction.LEFT: 4>),\n",
       " Step(x=0, y=2, dir=<Direction.LEFT: 4>),\n",
       " Step(x=0, y=3, dir=<Direction.UP: 1>),\n",
       " Step(x=0, y=4, dir=<Direction.UP: 1>),\n",
       " Step(x=-1, y=4, dir=<Direction.LEFT: 4>),\n",
       " Step(x=-1, y=3, dir=<Direction.DOWN: 3>),\n",
       " Step(x=-2, y=3, dir=<Direction.LEFT: 4>),\n",
       " Step(x=-2, y=2, dir=<Direction.DOWN: 3>),\n",
       " Step(x=-1, y=2, dir=<Direction.RIGHT: 2>),\n",
       " Step(x=-1, y=1, dir=<Direction.DOWN: 3>),\n",
       " Step(x=-2, y=1, dir=<Direction.LEFT: 4>),\n",
       " Step(x=-2, y=0, dir=<Direction.DOWN: 3>),\n",
       " Step(x=-1, y=0, dir=<Direction.RIGHT: 2>),\n",
       " Step(x=-1, y=-1, dir=<Direction.DOWN: 3>),\n",
       " Step(x=0, y=-1, dir=<Direction.RIGHT: 2>),\n",
       " Step(x=0, y=0, dir=<Direction.UP: 1>)]"
      ]
     },
     "execution_count": 15,
     "metadata": {},
     "output_type": "execute_result"
    }
   ],
   "source": [
    "trace_tour('FFRLLFRLLFFFRFLLRLLRRLLRLL')"
   ]
  },
  {
   "cell_type": "code",
   "execution_count": 16,
   "metadata": {
    "collapsed": true
   },
   "outputs": [],
   "source": [
    "def positions(trace):\n",
    "    return [(s.x, s.y) for s in trace]"
   ]
  },
  {
   "cell_type": "code",
   "execution_count": 17,
   "metadata": {},
   "outputs": [
    {
     "data": {
      "text/plain": [
       "[(0, 0),\n",
       " (1, 0),\n",
       " (2, 0),\n",
       " (2, -1),\n",
       " (3, -1),\n",
       " (3, 0),\n",
       " (3, 1),\n",
       " (4, 1),\n",
       " (4, 2),\n",
       " (3, 2),\n",
       " (2, 2),\n",
       " (1, 2),\n",
       " (0, 2),\n",
       " (0, 3),\n",
       " (0, 4),\n",
       " (-1, 4),\n",
       " (-1, 3),\n",
       " (-2, 3),\n",
       " (-2, 2),\n",
       " (-1, 2),\n",
       " (-1, 1),\n",
       " (-2, 1),\n",
       " (-2, 0),\n",
       " (-1, 0),\n",
       " (-1, -1),\n",
       " (0, -1),\n",
       " (0, 0)]"
      ]
     },
     "execution_count": 17,
     "metadata": {},
     "output_type": "execute_result"
    }
   ],
   "source": [
    "positions(trace_tour('FFRLLFRLLFFFRFLLRLLRRLLRLL'))"
   ]
  },
  {
   "cell_type": "code",
   "execution_count": 18,
   "metadata": {
    "collapsed": true
   },
   "outputs": [],
   "source": [
    "def valid(trace):\n",
    "    return (trace[-1].x == 0 \n",
    "            and trace[-1].y == 0 \n",
    "            and len(set(positions(trace))) + 1 == len(trace))"
   ]
  },
  {
   "cell_type": "code",
   "execution_count": 19,
   "metadata": {},
   "outputs": [
    {
     "data": {
      "text/plain": [
       "True"
      ]
     },
     "execution_count": 19,
     "metadata": {},
     "output_type": "execute_result"
    }
   ],
   "source": [
    "valid(trace_tour('FFRLLFRLLFFFRFLLRLLRRLLRLL'))"
   ]
  },
  {
   "cell_type": "code",
   "execution_count": 20,
   "metadata": {},
   "outputs": [
    {
     "data": {
      "text/plain": [
       "False"
      ]
     },
     "execution_count": 20,
     "metadata": {},
     "output_type": "execute_result"
    }
   ],
   "source": [
    "valid(trace_tour('FFRLLFRLLFFFRFLLRLLRRLLRLLFF'))"
   ]
  },
  {
   "cell_type": "code",
   "execution_count": 21,
   "metadata": {},
   "outputs": [
    {
     "data": {
      "text/plain": [
       "False"
      ]
     },
     "execution_count": 21,
     "metadata": {},
     "output_type": "execute_result"
    }
   ],
   "source": [
    "valid(trace_tour('FFLLLFRR'))"
   ]
  },
  {
   "cell_type": "code",
   "execution_count": 22,
   "metadata": {},
   "outputs": [
    {
     "data": {
      "text/plain": [
       "False"
      ]
     },
     "execution_count": 22,
     "metadata": {},
     "output_type": "execute_result"
    }
   ],
   "source": [
    "valid(trace_tour('F'))"
   ]
  },
  {
   "cell_type": "code",
   "execution_count": 23,
   "metadata": {},
   "outputs": [
    {
     "data": {
      "text/plain": [
       "True"
      ]
     },
     "execution_count": 23,
     "metadata": {},
     "output_type": "execute_result"
    }
   ],
   "source": [
    "valid(trace_tour('LLLL'))"
   ]
  },
  {
   "cell_type": "code",
   "execution_count": 24,
   "metadata": {
    "collapsed": true
   },
   "outputs": [],
   "source": [
    "def chunks(items, n=2):\n",
    "    return [items[i:i+n] for i in range(len(items) - n + 1)]"
   ]
  },
  {
   "cell_type": "code",
   "execution_count": 25,
   "metadata": {},
   "outputs": [
    {
     "data": {
      "text/plain": [
       "['abcdefg',\n",
       " 'bcdefgh',\n",
       " 'cdefghi',\n",
       " 'defghij',\n",
       " 'efghijk',\n",
       " 'fghijkl',\n",
       " 'ghijklm',\n",
       " 'hijklmn',\n",
       " 'ijklmno',\n",
       " 'jklmnop',\n",
       " 'klmnopq',\n",
       " 'lmnopqr',\n",
       " 'mnopqrs',\n",
       " 'nopqrst',\n",
       " 'opqrstu',\n",
       " 'pqrstuv',\n",
       " 'qrstuvw',\n",
       " 'rstuvwx',\n",
       " 'stuvwxy',\n",
       " 'tuvwxyz']"
      ]
     },
     "execution_count": 25,
     "metadata": {},
     "output_type": "execute_result"
    }
   ],
   "source": [
    "import string\n",
    "chunks(string.ascii_lowercase, 7)"
   ]
  },
  {
   "cell_type": "markdown",
   "metadata": {},
   "source": [
    "Using the [Shoelace formula](https://en.wikipedia.org/wiki/Shoelace_formula)"
   ]
  },
  {
   "cell_type": "code",
   "execution_count": 26,
   "metadata": {
    "collapsed": true
   },
   "outputs": [],
   "source": [
    "def shoelace(trace):\n",
    "    return abs(sum(s.x * t.y - t.x * s.y for s, t in chunks(trace, 2))) // 2"
   ]
  },
  {
   "cell_type": "code",
   "execution_count": 27,
   "metadata": {},
   "outputs": [
    {
     "data": {
      "text/plain": [
       "4"
      ]
     },
     "execution_count": 27,
     "metadata": {},
     "output_type": "execute_result"
    }
   ],
   "source": [
    "shoelace(trace_tour('FFLRLLFLRL'))"
   ]
  },
  {
   "cell_type": "code",
   "execution_count": 28,
   "metadata": {},
   "outputs": [
    {
     "data": {
      "text/plain": [
       "9"
      ]
     },
     "execution_count": 28,
     "metadata": {},
     "output_type": "execute_result"
    }
   ],
   "source": [
    "shoelace(trace_tour('FLLFFLFFFLFFLFLLRRFR'))"
   ]
  },
  {
   "cell_type": "code",
   "execution_count": 29,
   "metadata": {},
   "outputs": [
    {
     "data": {
      "text/plain": [
       "15"
      ]
     },
     "execution_count": 29,
     "metadata": {},
     "output_type": "execute_result"
    }
   ],
   "source": [
    "shoelace(trace_tour('FFRLLFRLLFFFRFLLRLLRRLLRLL'))"
   ]
  },
  {
   "cell_type": "code",
   "execution_count": 30,
   "metadata": {
    "collapsed": true
   },
   "outputs": [],
   "source": [
    "def step(s, current):\n",
    "    if s == 'F':\n",
    "        return advance(current, current.dir)\n",
    "    elif s == 'L':\n",
    "        return advance(current, turn_left(current.dir))\n",
    "    elif s == 'R':\n",
    "        return advance(current, turn_right(current.dir))\n",
    "    else:\n",
    "        raise ValueError"
   ]
  },
  {
   "cell_type": "code",
   "execution_count": 31,
   "metadata": {
    "collapsed": true
   },
   "outputs": [],
   "source": [
    "def valid_prefix(tour):\n",
    "    current = Step(0, 0, Direction.RIGHT)\n",
    "    prefix = []\n",
    "    posns = []\n",
    "    for s in tour:\n",
    "        current = step(s, current)\n",
    "        prefix += [s]\n",
    "        if (current.x, current.y) in posns:\n",
    "            return ''\n",
    "        elif current.x == 0 and current.y == 0: \n",
    "            return ''.join(prefix)\n",
    "        posns += [(current.x, current.y)]\n",
    "    if current.x == 0 and current.y == 0:\n",
    "        return ''.join(prefix)\n",
    "    else:\n",
    "        return ''"
   ]
  },
  {
   "cell_type": "code",
   "execution_count": 267,
   "metadata": {
    "collapsed": true
   },
   "outputs": [],
   "source": [
    "def mistake_positions(trace, debug=False):\n",
    "    mistakes = []\n",
    "    current = trace[0]\n",
    "    posns = [(0, 0)]\n",
    "    for i, current in enumerate(trace[1:]):\n",
    "        if (current.x, current.y) in posns:\n",
    "            if debug: print(i, current)\n",
    "            mistakes += [Mistake(i+1, current)]\n",
    "        posns += [(current.x, current.y)]\n",
    "    if (current.x, current.y) == (0, 0):\n",
    "        return mistakes[:-1]\n",
    "    else:\n",
    "        return mistakes + [Mistake(len(trace)+1, current)]"
   ]
  },
  {
   "cell_type": "code",
   "execution_count": 84,
   "metadata": {
    "collapsed": true
   },
   "outputs": [],
   "source": [
    "def returns_to_origin(mistake_positions):\n",
    "    return [i for i, m in mistake_positions\n",
    "           if (m.x, m.y) == (0, 0)]"
   ]
  },
  {
   "cell_type": "code",
   "execution_count": 34,
   "metadata": {
    "collapsed": true
   },
   "outputs": [],
   "source": [
    "sample_tours = ['FFLRLLFLRL', 'FLLFFLFFFLFFLFLLRRFR', 'FFRLLFRLLFFFRFLLRLLRRLLRLL']"
   ]
  },
  {
   "cell_type": "code",
   "execution_count": 35,
   "metadata": {},
   "outputs": [
    {
     "data": {
      "text/plain": [
       "'FFLRLLFLRL'"
      ]
     },
     "execution_count": 35,
     "metadata": {},
     "output_type": "execute_result"
    }
   ],
   "source": [
    "valid_prefix(sample_tours[0])"
   ]
  },
  {
   "cell_type": "code",
   "execution_count": 36,
   "metadata": {
    "scrolled": true
   },
   "outputs": [
    {
     "data": {
      "text/plain": [
       "True"
      ]
     },
     "execution_count": 36,
     "metadata": {},
     "output_type": "execute_result"
    }
   ],
   "source": [
    "all(valid_prefix(t) == t for t in sample_tours)"
   ]
  },
  {
   "cell_type": "code",
   "execution_count": 37,
   "metadata": {},
   "outputs": [
    {
     "data": {
      "text/plain": [
       "True"
      ]
     },
     "execution_count": 37,
     "metadata": {},
     "output_type": "execute_result"
    }
   ],
   "source": [
    "valid_prefix(sample_tours[0] + 'FLLLL') == sample_tours[0]"
   ]
  },
  {
   "cell_type": "code",
   "execution_count": 89,
   "metadata": {},
   "outputs": [
    {
     "data": {
      "text/plain": [
       "[Mistake(i=1, step=Step(x=0, y=0, dir=<Direction.RIGHT: 2>)),\n",
       " Mistake(i=11, step=Step(x=0, y=0, dir=<Direction.DOWN: 3>)),\n",
       " (13, Step(x=0, y=-1, dir=<Direction.DOWN: 3>))]"
      ]
     },
     "execution_count": 89,
     "metadata": {},
     "output_type": "execute_result"
    }
   ],
   "source": [
    "mistake_positions(trace_tour(sample_tours[0] + 'F'))"
   ]
  },
  {
   "cell_type": "code",
   "execution_count": 90,
   "metadata": {},
   "outputs": [
    {
     "data": {
      "text/plain": [
       "[Mistake(i=1, step=Step(x=0, y=0, dir=<Direction.RIGHT: 2>)),\n",
       " Mistake(i=11, step=Step(x=0, y=0, dir=<Direction.DOWN: 3>)),\n",
       " Mistake(i=14, step=Step(x=1, y=0, dir=<Direction.UP: 1>)),\n",
       " Mistake(i=15, step=Step(x=0, y=0, dir=<Direction.LEFT: 4>)),\n",
       " Mistake(i=16, step=Step(x=0, y=-1, dir=<Direction.DOWN: 3>)),\n",
       " (17, Step(x=0, y=-1, dir=<Direction.DOWN: 3>))]"
      ]
     },
     "execution_count": 90,
     "metadata": {},
     "output_type": "execute_result"
    }
   ],
   "source": [
    "mistake_positions(trace_tour(sample_tours[0] + 'FLLLL'))"
   ]
  },
  {
   "cell_type": "code",
   "execution_count": 91,
   "metadata": {},
   "outputs": [
    {
     "data": {
      "text/plain": [
       "'FFLRLLFLRL'"
      ]
     },
     "execution_count": 91,
     "metadata": {},
     "output_type": "execute_result"
    }
   ],
   "source": [
    "(sample_tours[0] + 'FLLLL')[:10]"
   ]
  },
  {
   "cell_type": "code",
   "execution_count": 574,
   "metadata": {
    "collapsed": true
   },
   "outputs": [],
   "source": [
    "def random_walk(steps=1000):\n",
    "    return ''.join(random.choice('FFLR') for _ in range(steps))"
   ]
  },
  {
   "cell_type": "code",
   "execution_count": 42,
   "metadata": {},
   "outputs": [
    {
     "data": {
      "text/plain": [
       "''"
      ]
     },
     "execution_count": 42,
     "metadata": {},
     "output_type": "execute_result"
    }
   ],
   "source": [
    "valid_prefix(random_walk(1000))"
   ]
  },
  {
   "cell_type": "code",
   "execution_count": 44,
   "metadata": {},
   "outputs": [
    {
     "data": {
      "text/plain": [
       "''"
      ]
     },
     "execution_count": 44,
     "metadata": {},
     "output_type": "execute_result"
    }
   ],
   "source": [
    "valid_prefix(random_walk(1000))"
   ]
  },
  {
   "cell_type": "code",
   "execution_count": 45,
   "metadata": {
    "collapsed": true,
    "scrolled": true
   },
   "outputs": [],
   "source": [
    "walks = []\n",
    "while len(walks) < 10:\n",
    "    w = valid_prefix(random_walk())\n",
    "    if len(w) > 30: walks += [w]"
   ]
  },
  {
   "cell_type": "code",
   "execution_count": 46,
   "metadata": {},
   "outputs": [
    {
     "data": {
      "text/plain": [
       "['RFLFFLFFFFFFLRRLLRLFFFLFFFLRFRLLFFRR',\n",
       " 'FLRLFLFFLFRLLRRFLFRFLLFFFLLRRFLF',\n",
       " 'LRFLFRFRLLRLRLRRLRRFLFRLRLFRLRRFLLRRLFFRFRRL',\n",
       " 'RFLLRFLFFFFLRFFLFLFLRFRFLRRLLFLFRL',\n",
       " 'LFFRLFRLLRFFLLRFLFFLRFRFFLLRLRLF',\n",
       " 'LRFRLFRFFLRRLRLFFRFFFRFLRFFFFRLR',\n",
       " 'LRFLFFFRRLLRFFFRRLFRFFRLLFLRFRFLRRLR',\n",
       " 'LLRRLFLFRLFFFFFFLLRLFRLRFLFFRFRLRFLLRFLFLRFLFFFF',\n",
       " 'FLFRFFRFLRFLLRFRFRLFRRLLRRFLFLRRFFLR',\n",
       " 'FRFFFRFFRRLLFRFLRFRLFLRRFRFLFFRFRL']"
      ]
     },
     "execution_count": 46,
     "metadata": {},
     "output_type": "execute_result"
    }
   ],
   "source": [
    "walks"
   ]
  },
  {
   "cell_type": "code",
   "execution_count": 47,
   "metadata": {},
   "outputs": [
    {
     "data": {
      "text/plain": [
       "[Step(x=0, y=0, dir=<Direction.RIGHT: 2>),\n",
       " Step(x=1, y=0, dir=<Direction.RIGHT: 2>),\n",
       " Step(x=1, y=1, dir=<Direction.UP: 1>),\n",
       " Step(x=0, y=1, dir=<Direction.LEFT: 4>),\n",
       " Step(x=0, y=0, dir=<Direction.DOWN: 3>)]"
      ]
     },
     "execution_count": 47,
     "metadata": {},
     "output_type": "execute_result"
    }
   ],
   "source": [
    "trace_tour('FLLL')"
   ]
  },
  {
   "cell_type": "code",
   "execution_count": 48,
   "metadata": {},
   "outputs": [
    {
     "data": {
      "text/plain": [
       "(-1, 3)"
      ]
     },
     "execution_count": 48,
     "metadata": {},
     "output_type": "execute_result"
    },
    {
     "data": {
      "image/png": "[encoded data removed]",
      "text/plain": [
       "<matplotlib.figure.Figure at 0x7f40411df278>"
      ]
     },
     "metadata": {},
     "output_type": "display_data"
    }
   ],
   "source": [
    "import matplotlib.pyplot as plt\n",
    "%matplotlib inline\n",
    "plt.axis('on')\n",
    "plt.arrow(0, 0, 0.8, 0, head_width=0.1, head_length=0.1, fc='k', ec='k', length_includes_head=True)\n",
    "plt.arrow(0.2, 0, 0, 1, head_width=0.1, head_length=0.1, fc='k', ec='k', length_includes_head=True)\n",
    "plt.xlim([-1, 2])\n",
    "plt.ylim([-1, 3])"
   ]
  },
  {
   "cell_type": "code",
   "execution_count": 49,
   "metadata": {
    "collapsed": true
   },
   "outputs": [],
   "source": [
    "def bounds(trace):\n",
    "    return (max(s.x for s in trace),\n",
    "            max(s.y for s in trace),\n",
    "            min(s.x for s in trace),\n",
    "            min(s.y for s in trace))"
   ]
  },
  {
   "cell_type": "code",
   "execution_count": 50,
   "metadata": {},
   "outputs": [
    {
     "data": {
      "text/plain": [
       "(0, 2, -13, -13)"
      ]
     },
     "execution_count": 50,
     "metadata": {},
     "output_type": "execute_result"
    }
   ],
   "source": [
    "bounds(trace_tour('RFRFFLRFLFFRRFFRRRRLLLRRRRRRFRLFRFFRFFRRFRLRRFLLFRLLFRFLFLFRFRLLFRLFRFLRRLLFRRRFRRRRLLFLFRFRRFFRRLLLRLRRFRLRRFFRRFLFRRLLRRFFRFRRRRRFLLLLLRRFFFLLFFFRRLFLFFLRRRFRFLLFFRRLLRFLLRRF'))"
   ]
  },
  {
   "cell_type": "code",
   "execution_count": 51,
   "metadata": {
    "collapsed": true
   },
   "outputs": [],
   "source": [
    "plot_wh = {Direction.UP: (0, 1), Direction.LEFT: (-1, 0),\n",
    "           Direction.DOWN: (0, -1), Direction.RIGHT: (1, 0)}"
   ]
  },
  {
   "cell_type": "code",
   "execution_count": 1198,
   "metadata": {
    "collapsed": true
   },
   "outputs": [],
   "source": [
    "def plot_trace(trace, colour='k', xybounds=None, fig=None, subplot_details=None, filename=None):\n",
    "    plt.axis('on')\n",
    "    plt.axes().set_aspect('equal')\n",
    "    for s, t in chunks(trace, 2):\n",
    "        w, h = plot_wh[t.dir]\n",
    "        plt.arrow(s.x, s.y, w, h, head_width=0.1, head_length=0.1, fc=colour, ec=colour, length_includes_head=True)\n",
    "    xh, yh, xl, yl = bounds(trace)\n",
    "    if xybounds is not None:    \n",
    "        bxh, byh, bxl, byl = xybounds\n",
    "        plt.xlim([min(xl, bxl)-1, max(xh, bxh)+1])\n",
    "        plt.ylim([min(yl, byl)-1, max(yh, byh)+1])\n",
    "    else:\n",
    "        plt.xlim([xl-1, xh+1])\n",
    "        plt.ylim([yl-1, yh+1])\n",
    "    if filename:\n",
    "        plt.savefig(filename)"
   ]
  },
  {
   "cell_type": "code",
   "execution_count": 995,
   "metadata": {
    "collapsed": true
   },
   "outputs": [],
   "source": [
    "# def plot_trace(trace, colour='k', xybounds=None, fig=None, subplot_details=None):\n",
    "#     plt.ioff()\n",
    "#     if fig is None:\n",
    "#         fig = plt.figure()\n",
    "#         ax = fig.gca()\n",
    "#     if subplot_details is not None:\n",
    "#         ax = fig.add_subplot(*subplot_details)\n",
    "#     plt.axis('on')\n",
    "# #     plt.axes().set_aspect('equal')\n",
    "#     ax.set_aspect('equal')\n",
    "#     for s, t in chunks(trace, 2):\n",
    "#         w, h = plot_wh[t.dir]\n",
    "#         ax.arrow(s.x, s.y, w, h, head_width=0.1, head_length=0.1, fc=colour, ec=colour, length_includes_head=True)\n",
    "#     xh, yh, xl, yl = bounds(trace)\n",
    "#     if xybounds is not None:    \n",
    "#         bxh, byh, bxl, byl = xybounds\n",
    "#         ax.set_xlim([min(xl, bxl)-1, max(xh, bxh)+1])\n",
    "#         ax.set_ylim([min(yl, byl)-1, max(yh, byh)+1])\n",
    "#     else:\n",
    "#         ax.set_xlim([xl-1, xh+1])\n",
    "#         ax.set_ylim([yl-1, yh+1])\n",
    "#     plt.close(fig)\n",
    "#     return fig"
   ]
  },
  {
   "cell_type": "code",
   "execution_count": 967,
   "metadata": {
    "collapsed": true
   },
   "outputs": [],
   "source": [
    "def pqr(p, q, r):\n",
    "    return '{}:{};{}'.format(p, q, r)"
   ]
  },
  {
   "cell_type": "code",
   "execution_count": 968,
   "metadata": {},
   "outputs": [
    {
     "data": {
      "text/plain": [
       "'1:2;3'"
      ]
     },
     "execution_count": 968,
     "metadata": {},
     "output_type": "execute_result"
    }
   ],
   "source": [
    "pqrt = (1, 2, 3)\n",
    "pqr(*pqrt)"
   ]
  },
  {
   "cell_type": "code",
   "execution_count": 1002,
   "metadata": {},
   "outputs": [
    {
     "data": {
      "image/png": "[encoded data removed]",
      "text/plain": [
       "<matplotlib.figure.Figure at 0x7f4026af4b00>"
      ]
     },
     "metadata": {},
     "output_type": "display_data"
    }
   ],
   "source": [
    "plot_trace(trace_tour(sample_tours[0] + 'FLLLL'))"
   ]
  },
  {
   "cell_type": "code",
   "execution_count": 1003,
   "metadata": {},
   "outputs": [
    {
     "data": {
      "image/png": "[encoded data removed]",
      "text/plain": [
       "<matplotlib.figure.Figure at 0x7f4026adc278>"
      ]
     },
     "metadata": {},
     "output_type": "display_data"
    }
   ],
   "source": [
    "plot_trace(trace_tour(sample_tours[0] + 'FLLLL'), colour='g')"
   ]
  },
  {
   "cell_type": "code",
   "execution_count": 1004,
   "metadata": {},
   "outputs": [
    {
     "data": {
      "image/png": "[encoded data removed]",
      "text/plain": [
       "<matplotlib.figure.Figure at 0x7f4027cd51d0>"
      ]
     },
     "metadata": {},
     "output_type": "display_data"
    }
   ],
   "source": [
    "plot_trace(trace_tour('FFFLLFFL'))"
   ]
  },
  {
   "cell_type": "code",
   "execution_count": 1005,
   "metadata": {},
   "outputs": [
    {
     "data": {
      "text/plain": [
       "[Step(x=0, y=0, dir=<Direction.RIGHT: 2>),\n",
       " Step(x=0, y=-1, dir=<Direction.DOWN: 3>),\n",
       " Step(x=0, y=-2, dir=<Direction.DOWN: 3>),\n",
       " Step(x=1, y=-2, dir=<Direction.RIGHT: 2>),\n",
       " Step(x=1, y=-1, dir=<Direction.UP: 1>),\n",
       " Step(x=2, y=-1, dir=<Direction.RIGHT: 2>),\n",
       " Step(x=3, y=-1, dir=<Direction.RIGHT: 2>),\n",
       " Step(x=3, y=0, dir=<Direction.UP: 1>),\n",
       " Step(x=3, y=1, dir=<Direction.UP: 1>),\n",
       " Step(x=3, y=2, dir=<Direction.UP: 1>),\n",
       " Step(x=3, y=3, dir=<Direction.UP: 1>),\n",
       " Step(x=3, y=4, dir=<Direction.UP: 1>),\n",
       " Step(x=2, y=4, dir=<Direction.LEFT: 4>),\n",
       " Step(x=2, y=5, dir=<Direction.UP: 1>),\n",
       " Step(x=2, y=6, dir=<Direction.UP: 1>),\n",
       " Step(x=2, y=7, dir=<Direction.UP: 1>),\n",
       " Step(x=1, y=7, dir=<Direction.LEFT: 4>),\n",
       " Step(x=0, y=7, dir=<Direction.LEFT: 4>),\n",
       " Step(x=0, y=6, dir=<Direction.DOWN: 3>),\n",
       " Step(x=0, y=5, dir=<Direction.DOWN: 3>),\n",
       " Step(x=1, y=5, dir=<Direction.RIGHT: 2>),\n",
       " Step(x=1, y=4, dir=<Direction.DOWN: 3>),\n",
       " Step(x=1, y=3, dir=<Direction.DOWN: 3>),\n",
       " Step(x=0, y=3, dir=<Direction.LEFT: 4>),\n",
       " Step(x=-1, y=3, dir=<Direction.LEFT: 4>),\n",
       " Step(x=-1, y=2, dir=<Direction.DOWN: 3>),\n",
       " Step(x=-2, y=2, dir=<Direction.LEFT: 4>),\n",
       " Step(x=-2, y=3, dir=<Direction.UP: 1>),\n",
       " Step(x=-3, y=3, dir=<Direction.LEFT: 4>),\n",
       " Step(x=-3, y=2, dir=<Direction.DOWN: 3>),\n",
       " Step(x=-3, y=1, dir=<Direction.DOWN: 3>),\n",
       " Step(x=-2, y=1, dir=<Direction.RIGHT: 2>),\n",
       " Step(x=-1, y=1, dir=<Direction.RIGHT: 2>),\n",
       " Step(x=-1, y=0, dir=<Direction.DOWN: 3>),\n",
       " Step(x=0, y=0, dir=<Direction.RIGHT: 2>)]"
      ]
     },
     "execution_count": 1005,
     "metadata": {},
     "output_type": "execute_result"
    }
   ],
   "source": [
    "trace_tour(walks[3])"
   ]
  },
  {
   "cell_type": "code",
   "execution_count": 1006,
   "metadata": {},
   "outputs": [
    {
     "data": {
      "image/png": "[encoded data removed]",
      "text/plain": [
       "<matplotlib.figure.Figure at 0x7f4027bb3e80>"
      ]
     },
     "metadata": {},
     "output_type": "display_data"
    }
   ],
   "source": [
    "plot_trace(trace_tour(walks[3]))"
   ]
  },
  {
   "cell_type": "code",
   "execution_count": 57,
   "metadata": {},
   "outputs": [
    {
     "data": {
      "text/plain": [
       "10"
      ]
     },
     "execution_count": 57,
     "metadata": {},
     "output_type": "execute_result"
    }
   ],
   "source": [
    "long_walks = [w for w in walks if len(w) >= 30]\n",
    "len(long_walks)"
   ]
  },
  {
   "cell_type": "code",
   "execution_count": 58,
   "metadata": {},
   "outputs": [
    {
     "data": {
      "image/png": "[encoded data removed]",
      "text/plain": [
       "<matplotlib.figure.Figure at 0x7f4027d30588>"
      ]
     },
     "metadata": {},
     "output_type": "display_data"
    }
   ],
   "source": [
    "plot_trace(trace_tour(long_walks[0]))"
   ]
  },
  {
   "cell_type": "code",
   "execution_count": 59,
   "metadata": {},
   "outputs": [
    {
     "data": {
      "image/png": "[encoded data removed]",
      "text/plain": [
       "<matplotlib.figure.Figure at 0x7f4027d86518>"
      ]
     },
     "metadata": {},
     "output_type": "display_data"
    }
   ],
   "source": [
    "plot_trace(trace_tour(long_walks[1]))"
   ]
  },
  {
   "cell_type": "code",
   "execution_count": 60,
   "metadata": {},
   "outputs": [
    {
     "data": {
      "image/png": "[encoded data removed]",
      "text/plain": [
       "<matplotlib.figure.Figure at 0x7f4027c0a8d0>"
      ]
     },
     "metadata": {},
     "output_type": "display_data"
    }
   ],
   "source": [
    "plot_trace(trace_tour(long_walks[2]))"
   ]
  },
  {
   "cell_type": "code",
   "execution_count": 61,
   "metadata": {},
   "outputs": [
    {
     "data": {
      "image/png": "[encoded data removed]",
      "text/plain": [
       "<matplotlib.figure.Figure at 0x7f4027d86518>"
      ]
     },
     "metadata": {},
     "output_type": "display_data"
    }
   ],
   "source": [
    "plot_trace(trace_tour(long_walks[3]))"
   ]
  },
  {
   "cell_type": "code",
   "execution_count": 62,
   "metadata": {},
   "outputs": [
    {
     "data": {
      "image/png": "[encoded data removed]",
      "text/plain": [
       "<matplotlib.figure.Figure at 0x7f4027d88ac8>"
      ]
     },
     "metadata": {},
     "output_type": "display_data"
    }
   ],
   "source": [
    "plot_trace(trace_tour(long_walks[4]))"
   ]
  },
  {
   "cell_type": "code",
   "execution_count": 63,
   "metadata": {},
   "outputs": [
    {
     "data": {
      "image/png": "[encoded data removed]",
      "text/plain": [
       "<matplotlib.figure.Figure at 0x7f4027db4390>"
      ]
     },
     "metadata": {},
     "output_type": "display_data"
    }
   ],
   "source": [
    "plot_trace(trace_tour(long_walks[5]))"
   ]
  },
  {
   "cell_type": "code",
   "execution_count": 64,
   "metadata": {},
   "outputs": [
    {
     "data": {
      "image/png": "[encoded data removed]",
      "text/plain": [
       "<matplotlib.figure.Figure at 0x7f4027d1fcf8>"
      ]
     },
     "metadata": {},
     "output_type": "display_data"
    }
   ],
   "source": [
    "plot_trace(trace_tour(long_walks[6]))"
   ]
  },
  {
   "cell_type": "code",
   "execution_count": 65,
   "metadata": {},
   "outputs": [
    {
     "data": {
      "image/png": "[encoded data removed]",
      "text/plain": [
       "<matplotlib.figure.Figure at 0x7f4027ca70b8>"
      ]
     },
     "metadata": {},
     "output_type": "display_data"
    }
   ],
   "source": [
    "plot_trace(trace_tour(long_walks[7]))"
   ]
  },
  {
   "cell_type": "code",
   "execution_count": 66,
   "metadata": {},
   "outputs": [
    {
     "data": {
      "image/png": "[encoded data removed]",
      "text/plain": [
       "<matplotlib.figure.Figure at 0x7f402c0d3588>"
      ]
     },
     "metadata": {},
     "output_type": "display_data"
    }
   ],
   "source": [
    "plot_trace(trace_tour(long_walks[8]))"
   ]
  },
  {
   "cell_type": "code",
   "execution_count": 67,
   "metadata": {},
   "outputs": [
    {
     "data": {
      "text/plain": [
       "['RFLFFLFFFFFFLRRLLRLFFFLFFFLRFRLLFFRR',\n",
       " 'FLRLFLFFLFRLLRRFLFRFLLFFFLLRRFLF',\n",
       " 'LRFLFRFRLLRLRLRRLRRFLFRLRLFRLRRFLLRRLFFRFRRL',\n",
       " 'RFLLRFLFFFFLRFFLFLFLRFRFLRRLLFLFRL',\n",
       " 'LFFRLFRLLRFFLLRFLFFLRFRFFLLRLRLF',\n",
       " 'LRFRLFRFFLRRLRLFFRFFFRFLRFFFFRLR',\n",
       " 'LRFLFFFRRLLRFFFRRLFRFFRLLFLRFRFLRRLR',\n",
       " 'LLRRLFLFRLFFFFFFLLRLFRLRFLFFRFRLRFLLRFLFLRFLFFFF',\n",
       " 'FLFRFFRFLRFLLRFRFRLFRRLLRRFLFLRRFFLR',\n",
       " 'FRFFFRFFRRLLFRFLRFRLFLRRFRFLFFRFRL']"
      ]
     },
     "execution_count": 67,
     "metadata": {},
     "output_type": "execute_result"
    }
   ],
   "source": [
    "walks"
   ]
  },
  {
   "cell_type": "code",
   "execution_count": 68,
   "metadata": {},
   "outputs": [
    {
     "data": {
      "image/png": "[encoded data removed]",
      "text/plain": [
       "<matplotlib.figure.Figure at 0x7f402c0babe0>"
      ]
     },
     "metadata": {},
     "output_type": "display_data"
    }
   ],
   "source": [
    "plot_trace(trace_tour('FLFFLRFRLFRRRR'))"
   ]
  },
  {
   "cell_type": "code",
   "execution_count": 69,
   "metadata": {},
   "outputs": [
    {
     "data": {
      "text/plain": [
       "(310, [])"
      ]
     },
     "execution_count": 69,
     "metadata": {},
     "output_type": "execute_result"
    }
   ],
   "source": [
    "w = random_walk()\n",
    "ms = mistake_positions(w)\n",
    "len(ms), returns_to_origin(ms)"
   ]
  },
  {
   "cell_type": "code",
   "execution_count": 70,
   "metadata": {},
   "outputs": [
    {
     "data": {
      "image/png": "[encoded data removed]",
      "text/plain": [
       "<matplotlib.figure.Figure at 0x7f402c0b97f0>"
      ]
     },
     "metadata": {},
     "output_type": "display_data"
    }
   ],
   "source": [
    "plot_trace(trace_tour(w))"
   ]
  },
  {
   "cell_type": "code",
   "execution_count": 1216,
   "metadata": {},
   "outputs": [],
   "source": [
    "def trim_loop(tour, random_mistake=False):\n",
    "    trace = trace_tour(tour)\n",
    "    mistakes = mistake_positions(trace)\n",
    "    if random_mistake:\n",
    "        end_mistake_index = random.randrange(len(mistakes))\n",
    "    else:\n",
    "        end_mistake_index = 0\n",
    "#     print('end_mistake_index {} pointing to trace position {}; {} mistakes and {} in trace; {}'.format(end_mistake_index, mistakes[end_mistake_index].i, len(mistakes), len(trace), mistakes))\n",
    "    # while this mistake extends to the next step in the trace...\n",
    "    while (mistakes[end_mistake_index].i + 1 < len(trace) and \n",
    "           end_mistake_index + 1 < len(mistakes) and\n",
    "           mistakes[end_mistake_index].i + 1 == \n",
    "           mistakes[end_mistake_index + 1].i):\n",
    "#         print('end_mistake_index {} pointing to trace position {}; {} mistakes and {} in trace'.format(end_mistake_index, mistakes[end_mistake_index].i, len(mistakes), len(trace), mistakes))\n",
    "        # push this mistake finish point later\n",
    "        end_mistake_index += 1\n",
    "    mistake = mistakes[end_mistake_index]\n",
    "    \n",
    "    # find the first location that mentions where this mistake ends (which the point where the loop starts)\n",
    "    mistake_loop_start = max(i for i, loc in enumerate(trace[:mistake.i])\n",
    "                             if (loc.x, loc.y) == (mistake.step.x, mistake.step.y))\n",
    "#     print('Dealing with mistake from', mistake_loop_start, 'to', mistake.i, ', trace has len', len(trace))\n",
    "    \n",
    "    # direction before entering the loop\n",
    "    direction_before = trace[mistake_loop_start].dir\n",
    "    \n",
    "    # find the new instruction to turn from heading before the loop to heading after the loop\n",
    "    new_instruction = 'F'\n",
    "    if (mistake.i + 1) < len(trace):\n",
    "        if turn_left(direction_before) == trace[mistake.i + 1].dir:\n",
    "            new_instruction = 'L'\n",
    "        if turn_right(direction_before) == trace[mistake.i + 1].dir:\n",
    "            new_instruction = 'R'\n",
    "#     if (mistake.i + 1) < len(trace):\n",
    "#         print('turning from', direction_before, 'to', trace[mistake.i + 1].dir, 'with', new_instruction )\n",
    "#     else:\n",
    "#         print('turning from', direction_before, 'to BEYOND END', 'with', new_instruction )\n",
    "    return tour[:mistake_loop_start] + new_instruction + tour[mistake.i+1:]\n",
    "#     return mistake, mistake_loop_start, trace[mistake_loop_start-2:mistake_loop_start+8]"
   ]
  },
  {
   "cell_type": "code",
   "execution_count": 299,
   "metadata": {},
   "outputs": [
    {
     "data": {
      "text/plain": [
       "'RFFRRFFFRFFRFLLRFLFFLLLLFRRRFLFFFFRRFFFRLLLRRFLLFRLLLFRLLRFLRRLFLFFRLLRFLLFRRLLRLFRFFFLLFFLFLRRLFRLRRLRRRRFFFFFFRRRLLFFFFFFLRRRLLLRLLLLRFRLRFRRRFRLRLLRFRLFLLRFRFLRRRRLRFLLRLRRLFFFRLRRFFRFLRFLLFLFRLRLRLRRRLFFRLRRFFRRFFLLRLLFLLLFRFRFLRLFFLFRRRRLRRLRRLRFRRLRRRFRRRRLLRFLLRRFFRLRFFLFLFRRLLLRLFFFRFRLRLLFRRFLLRLFFFLLRLLRRLRFRFFFFFRRFFLFRFLRFRFLFLFRLFLFLRFFLFRLRRRLRRRRFFFRFLLRLFRFRRRLRFFFFFLLFRRLFRRFRFRFLRLLFRFFFLLRRFRRRRLFFFLFLLLFFLRRLRFLFLFFRLLFFRRFFLRLLRFLRLLFLFRLLLRFFFFFFFFLFLRLLRLRLRFLLFFFLFLFFLFRRRRRFFRLLFFFRLFFLFRLFFRFFFFRLRRRLLFLRRFLRFFLRRFRRFLRFLRRLFRRLFFFFRLFLFFLRFFFFFRLFLFLRFFFLLLFLLLFFLRRLFLFRRFRRFFRRRFFRFLFLLFLFRFRFLLLRRRLFRRFFRLRFLFLFLRRLFFFLFRLRFRFFRFLRRFFFFFLFRLRRFRLLRLLFFLLLFFLFFFRLFRFRRRRLFLFLLLLRLFRFRLRLLFLFLLLRRRLLLFRRFRLRFFRRRLLLFRLRLLFFLLRFFFFRLLRLRLLLRLFFFRRLRFRFFRRRFFFRFFFFLRFLFRFLRFRRLLLRLLFRRLFFLRRFFFRLLFRLFLRRFLRLLRRFFLLFLLLFFFFRRFFRLFFLLFLLFRFRLRFLRFFRFRLRLLLFFFLFLRFRFRFLRRLLLLLRFRRLFLLLLRRFFFLLRFLFFRLLLLFLFRLRFFFFFLRLLFFLLLFFLLRRFLRRFLRLRRLLLRRRRRLLLFLRRLFFFRFLRRLF'"
      ]
     },
     "execution_count": 299,
     "metadata": {},
     "output_type": "execute_result"
    }
   ],
   "source": [
    "w = 'RFFRRFFFRFFRFLLRFLFFLLLLFRRRFLFFFFRRFFFRLLLRRFLLFRLLLFRLLRFLRRLFLFFRLLRFLLFRRLLRLFRFFFLLFFLFLRRLFRLRRLRRRRFFFFFFRRRLLFFFFFFLRRRLLLRLLLLRFRLRFRRRFRLRLLRFRLFLLRFRFLRRRRLRFLLRLRRLFFFRLRRFFRFLRFLLFLFRLRLRLRRRLFFRLRRFFRRFFLLRLLFLLLFRFRFLRLFFLFRRRRLRRLRRLRFRRLRRRFRRRRLLRFLLRRFFRLRFFLFLFRRLLLRLFFFRFRLRLLFRRFLLRLFFFLLRLLRRLRFRFFFFFRRFFLFRFLRFRFLFLFRLFLFLRFFLFRLRRRLRRRRFFFRFLLRLFRFRRRLRFFFFFLLFRRLFRRFRFRFLRLLFRFFFLLRRFRRRRLFFFLFLLLFFLRRLRFLFLFFRLLFFRRFFLRLLRFLRLLFLFRLLLRFFFFFFFFLFLRLLRLRLRFLLFFFLFLFFLFRRRRRFFRLLFFFRLFFLFRLFFRFFFFRLRRRLLFLRRFLRFFLRRFRRFLRFLRRLFRRLFFFFRLFLFFLRFFFFFRLFLFLRFFFLLLFLLLFFLRRLFLFRRFRRFFRRRFFRFLFLLFLFRFRFLLLRRRLFRRFFRLRFLFLFLRRLFFFLFRLRFRFFRFLRRFFFFFLFRLRRFRLLRLLFFLLLFFLFFFRLFRFRRRRLFLFLLLLRLFRFRLRLLFLFLLLRRRLLLFRRFRLRFFRRRLLLFRLRLLFFLLRFFFFRLLRLRLLLRLFFFRRLRFRFFRRRFFFRFFFFLRFLFRFLRFRRLLLRLLFRRLFFLRRFFFRLLFRLFLRRFLRLLRRFFLLFLLLFFFFRRFFRLFFLLFLLFRFRLRFLRFFRFRLRLLLFFFLFLRFRFRFLRRLLLLLRFRRLFLLLLRRFFFLLRFLFFRLLLLFLFRLRFFFFFLRLLFFLLLFFLLRRFLRRFLRLRRLLLRRRRRLLLFLRRLFFFRFLRRLF'\n",
    "w"
   ]
  },
  {
   "cell_type": "code",
   "execution_count": 238,
   "metadata": {},
   "outputs": [
    {
     "data": {
      "image/png": "[encoded data removed]",
      "text/plain": [
       "<matplotlib.figure.Figure at 0x7f4027310390>"
      ]
     },
     "metadata": {},
     "output_type": "display_data"
    }
   ],
   "source": [
    "w_short = w[:100]\n",
    "plot_trace(trace_tour(w_short))"
   ]
  },
  {
   "cell_type": "code",
   "execution_count": 214,
   "metadata": {},
   "outputs": [
    {
     "name": "stdout",
     "output_type": "stream",
     "text": [
      "turning from Direction.UP to Direction.UP with F\n",
      "RFFRRFFFRFFRFLLRFLFFLLLLFRRRFLFFFFRRFFFRLLLRRFLLFRLLLFRLLRFLRRLFLFFRLLRFLLFRRLLRLFRFFFLLFFLFLRRLFRLR\n",
      "RFFRRFFFRFFRFLLRFLFFFRRRFLFFFFRRFFFRLLLRRFLLFRLLLFRLLRFLRRLFLFFRLLRFLLFRRLLRLFRFFFLLFFLFLRRLFRLR\n"
     ]
    },
    {
     "data": {
      "image/png": "[encoded data removed]",
      "text/plain": [
       "<matplotlib.figure.Figure at 0x7f40274ccbe0>"
      ]
     },
     "metadata": {},
     "output_type": "display_data"
    }
   ],
   "source": [
    "trimmed = trim_loop(w_short)\n",
    "print('{}\\n{}'.format(w_short, trimmed))\n",
    "plot_trace(trace_tour(trimmed))"
   ]
  },
  {
   "cell_type": "code",
   "execution_count": 215,
   "metadata": {},
   "outputs": [
    {
     "name": "stdout",
     "output_type": "stream",
     "text": [
      "turning from Direction.UP to Direction.LEFT with L\n",
      "RFFRRFFFRFFRFLLRFLFFFRRRFLFFFFRRFFFRLLLRRFLLFRLLLFRLLRFLRRLFLFFRLLRFLLFRRLLRLFRFFFLLFFLFLRRLFRLR\n",
      "RFFRRFFFRFFRFLLRFLFFLLFFFFRRFFFRLLLRRFLLFRLLLFRLLRFLRRLFLFFRLLRFLLFRRLLRLFRFFFLLFFLFLRRLFRLR\n"
     ]
    },
    {
     "data": {
      "image/png": "[encoded data removed]",
      "text/plain": [
       "<matplotlib.figure.Figure at 0x7f40271e3240>"
      ]
     },
     "metadata": {},
     "output_type": "display_data"
    }
   ],
   "source": [
    "trimmed2 = trim_loop(trimmed)\n",
    "print('{}\\n{}'.format(trimmed, trimmed2))\n",
    "plot_trace(trace_tour(trimmed2))"
   ]
  },
  {
   "cell_type": "code",
   "execution_count": 250,
   "metadata": {},
   "outputs": [
    {
     "data": {
      "text/plain": [
       "[Mistake(i=104, step=Step(x=-4, y=6, dir=<Direction.DOWN: 3>)),\n",
       " Mistake(i=105, step=Step(x=-5, y=6, dir=<Direction.LEFT: 4>)),\n",
       " Mistake(i=106, step=Step(x=-5, y=7, dir=<Direction.UP: 1>)),\n",
       " Mistake(i=107, step=Step(x=-5, y=8, dir=<Direction.UP: 1>)),\n",
       " Mistake(i=108, step=Step(x=-5, y=9, dir=<Direction.UP: 1>)),\n",
       " Mistake(i=115, step=Step(x=-5, y=12, dir=<Direction.LEFT: 4>)),\n",
       " Mistake(i=116, step=Step(x=-5, y=11, dir=<Direction.DOWN: 3>)),\n",
       " Mistake(i=127, step=Step(x=2, y=11, dir=<Direction.LEFT: 4>)),\n",
       " Mistake(i=130, step=Step(x=3, y=11, dir=<Direction.UP: 1>)),\n",
       " (132, Step(x=3, y=11, dir=<Direction.UP: 1>))]"
      ]
     },
     "execution_count": 250,
     "metadata": {},
     "output_type": "execute_result"
    }
   ],
   "source": [
    "mistake_positions(trace_tour(w[:130]))[-10:]"
   ]
  },
  {
   "cell_type": "code",
   "execution_count": 288,
   "metadata": {},
   "outputs": [
    {
     "name": "stdout",
     "output_type": "stream",
     "text": [
      "Step(x=40, y=36, dir=<Direction.UP: 1>)\n"
     ]
    },
    {
     "data": {
      "image/png": "[encoded data removed]",
      "text/plain": [
       "<matplotlib.figure.Figure at 0x7f4027beb4a8>"
      ]
     },
     "metadata": {},
     "output_type": "display_data"
    }
   ],
   "source": [
    "w_tour_start = w #[:250]\n",
    "print(trace_tour(w_tour_start)[-1])\n",
    "plot_trace(trace_tour(w_tour_start))"
   ]
  },
  {
   "cell_type": "code",
   "execution_count": 289,
   "metadata": {},
   "outputs": [
    {
     "name": "stdout",
     "output_type": "stream",
     "text": [
      "RFFRRFFFRFFRFLLRFLFFLLLLFRRRFLFFFFRRFFFRLLLRRFLLFRLLLFRLLRFLRRLFLFFRLLRFLLFRRLLRLFRFFFLLFFLFLRRLFRLRRLRRRRFFFFFFRRRLLFFFFFFLRRRLLLRLLLLRFRLRFRRRFRLRLLRFRLFLLRFRFLRRRRLRFLLRLRRLFFFRLRRFFRFLRFLLFLFRLRLRLRRRLFFRLRRFFRRFFLLRLLFLLLFRFRFLRLFFLFRRRRLRRLRRLRFRRLRRRFRRRRLLRFLLRRFFRLRFFLFLFRRLLLRLFFFRFRLRLLFRRFLLRLFFFLLRLLRRLRFRFFFFFRRFFLFRFLRFRFLFLFRLFLFLRFFLFRLRRRLRRRRFFFRFLLRLFRFRRRLRFFFFFLLFRRLFRRFRFRFLRLLFRFFFLLRRFRRRRLFFFLFLLLFFLRRLRFLFLFFRLLFFRRFFLRLLRFLRLLFLFRLLLRFFFFFFFFLFLRLLRLRLRFLLFFFLFLFFLFRRRRRFFRLLFFFRLFFLFRLFFRFFFFRLRRRLLFLRRFLRFFLRRFRRFLRFLRRLFRRLFFFFRLFLFFLRFFFFFRLFLFLRFFFLLLFLLLFFLRRLFLFRRFRRFFRRRFFRFLFLLFLFRFRFLLLRRRLFRRFFRLRFLFLFLRRLFFFLFRLRFRFFRFLRRFFFFFLFRLRRFRLLRLLFFLLLFFLFFFRLFRFRRRRLFLFLLLLRLFRFRLRLLFLFLLLRRRLLLFRRFRLRFFRRRLLLFRLRLLFFLLRFFFFRLLRLRLLLRLFFFRRLRFRFFRRRFFFRFFFFLRFLFRFLRFRRLLLRLLFRRLFFLRRFFFRLLFRLFLRRFLRLLRRFFLLFLLLFFFFRRFFRLFFLLFLLFRFRLRFLRFFRFRLRLLLFFFLFLRFRFRFLRRLLLLLRFRRLFLLLLRRFFFLLRFLFFRLLLLFLFRLRFFFFFLRLLFFLLLFFLLRRFLRRFLRLRRLLLRRRRRLLLFLRRLFFFRFLRRLF\n",
      "RFFRRFFFRFLRFRFLLRFLLRLRRLFRLRRFFLLRLLRRFRFLRLFFLFLRRLRRLRLFLLRRFFLRLLFFFFFRRFFLFRLFFRLLRRFLFFFLRFLRRLRFLFLFFRLLFFRRFFLRLFRFFRLFFLRRFLRFLRRLFRRLFFFFRLFLFFLRFFLFRFLRRFFFFFLFRLRRFRLLRLLFRFLFFFRLFRFLFLRLRFFFFFLFFRFFFFLRFLFRFLRLRLFFLRRFFFRLLFRLFLRRFLRLLRLFFRFLRRLFLLRFLFFRFLFRLRFFFFFLRLLFRFLLRRFLRRFLRLRFLRRLFFFRFLRRLF\n",
      "Step(x=40, y=36, dir=<Direction.UP: 1>)\n"
     ]
    },
    {
     "data": {
      "image/png": "[encoded data removed]",
      "text/plain": [
       "<matplotlib.figure.Figure at 0x7f4026fcb9b0>"
      ]
     },
     "metadata": {},
     "output_type": "display_data"
    }
   ],
   "source": [
    "w_tour = w_tour_start\n",
    "w_trace = trace_tour(w_tour)\n",
    "mks = mistake_positions(w_trace)\n",
    "while len(mks) > 1:\n",
    "#     print(len(mks))\n",
    "    w_tour = trim_loop(w_tour)\n",
    "    w_trace = trace_tour(w_tour)\n",
    "    mks = mistake_positions(w_trace)\n",
    "print('{}\\n{}\\n{}'.format(w_tour_start, w_tour, trace_tour(w_tour)[-1]))\n",
    "plot_trace(trace_tour(w_tour))"
   ]
  },
  {
   "cell_type": "code",
   "execution_count": 950,
   "metadata": {},
   "outputs": [],
   "source": [
    "def trim_all_loops(tour, mistake_reduction_attempt_limit=10):\n",
    "    trace = trace_tour(tour)\n",
    "    mistake_limit = 1\n",
    "    if trace[-1].x == 0 and trace[-1].y == 0:\n",
    "        mistake_limit = 0\n",
    "    mistakes = mistake_positions(trace)\n",
    "    \n",
    "    old_mistake_count = len(mistakes)\n",
    "    mistake_reduction_tries = 0\n",
    "    \n",
    "    while len(mistakes) > mistake_limit and mistake_reduction_tries < mistake_reduction_attempt_limit:\n",
    "        tour = trim_loop(tour)\n",
    "        trace = trace_tour(tour)\n",
    "        mistakes = mistake_positions(trace)\n",
    "        if len(mistakes) < old_mistake_count:\n",
    "            old_mistake_count = len(mistakes)\n",
    "            mistake_reduction_tries = 0\n",
    "        else:\n",
    "            mistake_reduction_tries += 1\n",
    "    if mistake_reduction_tries >= mistake_reduction_attempt_limit:\n",
    "        return ''\n",
    "    else:\n",
    "        return tour"
   ]
  },
  {
   "cell_type": "code",
   "execution_count": 306,
   "metadata": {},
   "outputs": [
    {
     "data": {
      "text/plain": [
       "'RFFRRFFFRFLRFRFLLRFLLRLRRLFRLRRFFLLRLLRRFRFLRLFFLFLRRLRRLRLFLLRRFFLRLLFFFFFRRFFLFRLFFRLLRRFLFFFLRFLRRLRFLFLFFRLLFFRRFFLRLFRFFRLFFLRRFLRFLRRLFRRLFFFFRLFLFFLRFFLFRFLRRFFFFFLFRLRRFRLLRLLFRFLFFFRLFRFLFLRLRFFFFFLFFRFFFFLRFLFRFLRLRLFFLRRFFFRLLFRLFLRRFLRLLRLFFRFLRRLFLLRFLFFRFLFRLRFFFFFLRLLFRFLLRRFLRRFLRLRFLRRLFFFRFLRRLF'"
      ]
     },
     "execution_count": 306,
     "metadata": {},
     "output_type": "execute_result"
    }
   ],
   "source": [
    "w_trimmed = trim_all_loops(w)\n",
    "w_trimmed"
   ]
  },
  {
   "cell_type": "code",
   "execution_count": 304,
   "metadata": {},
   "outputs": [
    {
     "data": {
      "image/png": "[encoded data removed]",
      "text/plain": [
       "<matplotlib.figure.Figure at 0x7f40271d91d0>"
      ]
     },
     "metadata": {},
     "output_type": "display_data"
    }
   ],
   "source": [
    "plot_trace(trace_tour(trim_all_loops(w)))"
   ]
  },
  {
   "cell_type": "code",
   "execution_count": 309,
   "metadata": {
    "collapsed": true
   },
   "outputs": [],
   "source": [
    "def reverse_tour(tour):\n",
    "    def swap(tour_step):\n",
    "        if tour_step == 'R':\n",
    "            return 'L'\n",
    "        elif tour_step == 'L':\n",
    "            return 'R'\n",
    "        else:\n",
    "            return tour_step\n",
    "        \n",
    "    return ''.join(swap(s) for s in reversed(tour))"
   ]
  },
  {
   "cell_type": "code",
   "execution_count": 308,
   "metadata": {},
   "outputs": [
    {
     "data": {
      "image/png": "[encoded data removed]",
      "text/plain": [
       "<matplotlib.figure.Figure at 0x7f4027562b38>"
      ]
     },
     "metadata": {},
     "output_type": "display_data"
    }
   ],
   "source": [
    "plot_trace(trace_tour(w_trimmed))"
   ]
  },
  {
   "cell_type": "code",
   "execution_count": 310,
   "metadata": {},
   "outputs": [
    {
     "data": {
      "image/png": "[encoded data removed]",
      "text/plain": [
       "<matplotlib.figure.Figure at 0x7f40275594e0>"
      ]
     },
     "metadata": {},
     "output_type": "display_data"
    }
   ],
   "source": [
    "plot_trace(trace_tour(reverse_tour(w_trimmed)))"
   ]
  },
  {
   "cell_type": "code",
   "execution_count": 575,
   "metadata": {},
   "outputs": [
    {
     "data": {
      "image/png": "[encoded data removed]",
      "text/plain": [
       "<matplotlib.figure.Figure at 0x7f4026efc4e0>"
      ]
     },
     "metadata": {},
     "output_type": "display_data"
    }
   ],
   "source": [
    "w1 = random_walk()\n",
    "w2 = random_walk()\n",
    "plot_trace(trace_tour(w1))\n",
    "w1bounds = bounds(trace_tour(w1))\n",
    "plot_trace(trace_tour(w2), colour='r', xybounds=w1bounds)"
   ]
  },
  {
   "cell_type": "code",
   "execution_count": 562,
   "metadata": {},
   "outputs": [
    {
     "name": "stdout",
     "output_type": "stream",
     "text": [
      "w1 = 'FFRFFRRFFFRRFRFRFRLFRRLLFFLRFFLLRFLLRRLFFLLLFLRRFFLLLFLFLRFRRLRRFLLLFFRRFRFRRRRFRRRFLRLLRRRFRFFFLFLRLFFLRFLRLFLRRFFRRFFLFLRFLLFRFLLRRRLLFFRLLRRLFRRFLLLRLRLLLLRRRRRRFFLRRRFLLLLRFRRFRFLRLFRFLFLLLLLFFFLFRLLLRLRFRRFRRRRLRFFRRFRLRFFRLRFLLFLLLRLRFFRLRFFRFLRRLLRRRFFRLRLFLRFLLRLFFRFFLFFFFFLFFLFLLLFLFRFLLFRLFRFRFLFFRRLLFRLRFRFFLRFRFFLRFFLFFLFRLRFRLLRFRRRRFRFRRFRRRRFLFRFLFFLFLFFRFLFFFFLLRRFFLLRFRRFLFRFLLRLRLRRFFLFFLFFRLFLLRFFLRRFLFLRRRRFLFFLFRLFFFRRLFRLFLLFRRLFLFFRRLRLRFFFFFFRFRRRRFLLLFRFRFRFLRFFRFRRRRFFFFRLFRRLLFLLLRRLFLFRLRLLRRFFLRRFRLFLLFRLLRRLLRLFLRRFLLLRFLRFRFFFFRFLLLRRFRFFFFFRFRLRFFLFFLRLLRFRLRFLRLRLRFRFRLLLLFFLFRLRLLRFRRLRLFLLRFLLRRLRRFRLLFRFRLFLLRFRLFLRLLLLLFRFFRLLFFLLFRLFLRFRFLFFRRRFRFRRFRFFRLFFRRLRRRLLLFLFRFRRRFFFRFFFFRRFLRLLLRFFFFFRLRLRLLLLFRRRLFRLFRRLRFFFLFFLRFRFRFFFFFRLFLLRFRRRFFLFLFFFLRRFLLLLFLFFLRRLLLRLRRFFRLRLLRFRLRRLRRRFRFLLRLFFLLFFLLLLRRLRFLLRFRRRRRRRLRFFRFLFLRLLFFRFRRRLRLRLLFLRLFLFRLRLRRRLLLLFFFRFFRFFFFLLFLLLLRRLFFRLLFFFFRRRLFRFLRFLLFRLLRLRFLRRFFRRRRLRLFFFFLLFLFFFLRFFLRLRFRFLL\n",
      "w2 = 'FFFLRFFLLFFRFRFLFLRLLLRRRLRRLFFFLFRFLRRFFRLFRRLFRRFRRLLFLLFFFFRFLLFRFFFFLFRFFRFLFRRLFRRLFRRRRLLFRRLFRRRLFFFFFLFLRLFFLRLLRFFLFLRLFLRLLRLLLRLLRFLFFRFRFLRRLLLRFLFFFLFRFFRLFRFLLLRLFFLFFLFRFRFFFFFRLLRLFLLRRFLFFFLRFLFFLLLFFRRRRFLLRFFRFLRRFLLFFFFRFLLRRLRFRLRLRLRLRRLRFLRLFLLRLFLFRLFRFRLLRFFLRLRRLFRLRFFRRFLLLRFFLLFRRLRRRFRLRLRRLFFRLFRRRRRFLFRFLLRLFFRFLFRLFRLRFRFRFLLRLRLFLRLFLLFRFRRFRFLLLFFFRLLLLFFFRFLLLFRLRFRLRRLLFLLLRFLLFRFFRRRRLRFRLFLRLRLLRFLRLRFRLRFRLLRFLFRRLRRLFRFLRLRRFLRRLRFLRRRRLFLFLFLFLRRFFFLLFRFRLLFLFRRLLLRRRLLLRFRFFRFRFFLLFFLFRFLRFRRLLLLLRFRLLRRRFRRRLRLRLFRRRRLRFRFRLLRLRFLLFLLFFLFLFRRLLLLLFFFRFRFRFRRLRFLFLLRRFLLLFFRLRRLLFRRLLRLFLLLFFLRFFLLFRLLRRLFFFRLRFLRLFRRLRRLRRFRFFRLLLFRLLFLLRFFRLFLLFFFRLFRFFLRRLFLFRLLRLRFFLRLFFRFRFRRFFRFFLFFFFFFFRFRFFRLLLRFLFRLRLLLLRFFRLLFFFLLLLRFRFFLFRFFRRFFFRFRRLFLLFFRRLFLFFRFRFRLFFRLRFFLLFFFLLRRFFFFFFLRFLLRRRFFLFFFRFLFFFRLFFRLRRFFRRRRLFFLRFLLFRFFRLFFRRLFRRRFFFRFLFRFFRFFFRFRRRRRLRLLLLFFFRLRLLLFRLRRLFRFRFLFLRRLRFRFFRFRLLRLRFLLLRLRFLFFRLRLLRFLLLFFRRFFFLLLFRRRLFFRL\n"
     ]
    }
   ],
   "source": [
    "print(\"w1 = '{}\".format(w1))\n",
    "print(\"w2 = '{}\".format(w2))"
   ]
  },
  {
   "cell_type": "code",
   "execution_count": 725,
   "metadata": {
    "collapsed": true
   },
   "outputs": [],
   "source": [
    "def wander_near(locus, current, limit=10):\n",
    "    valid_proposal = False\n",
    "    while not valid_proposal:\n",
    "        s = random.choice('FFFRL')\n",
    "        if s == 'F':\n",
    "            proposed = advance(current, current.dir)\n",
    "        elif s == 'L':\n",
    "            proposed = advance(current, turn_left(current.dir))\n",
    "        elif s == 'R':\n",
    "            proposed = advance(current, turn_right(current.dir))\n",
    "        if abs(proposed.x - locus.x) < limit and abs(proposed.y - locus.y) < limit:\n",
    "            valid_proposal = True\n",
    "#     print('At {} going to {} by step {} to {}'.format(current, locus, s, proposed))\n",
    "    return s, proposed"
   ]
  },
  {
   "cell_type": "code",
   "execution_count": 1192,
   "metadata": {},
   "outputs": [],
   "source": [
    "def seek(goal, current):\n",
    "    dx = current.x - goal.x\n",
    "    dy = current.y - goal.y\n",
    "\n",
    "    if dx < 0 and abs(dx) > abs(dy): # to the left\n",
    "        side = 'left'\n",
    "        if current.dir == Direction.RIGHT:\n",
    "            s = 'F'\n",
    "        elif current.dir == Direction.UP:\n",
    "            s = 'R'\n",
    "        else:\n",
    "            s = 'L'\n",
    "    elif dx > 0 and abs(dx) > abs(dy): # to the right\n",
    "        side = 'right'\n",
    "        if current.dir == Direction.LEFT:\n",
    "            s = 'F'\n",
    "        elif current.dir == Direction.UP:\n",
    "            s = 'L'\n",
    "        else:\n",
    "            s = 'R'\n",
    "    elif dy > 0 and abs(dx) <= abs(dy): # above\n",
    "        side = 'above'\n",
    "        if current.dir == Direction.DOWN:\n",
    "            s = 'F'\n",
    "        elif current.dir == Direction.RIGHT:\n",
    "            s = 'R'\n",
    "        else:\n",
    "            s = 'L'\n",
    "    else: # below\n",
    "        side = 'below'\n",
    "        if current.dir == Direction.UP:\n",
    "            s = 'F'\n",
    "        elif current.dir == Direction.LEFT:\n",
    "            s = 'R'\n",
    "        else:\n",
    "            s = 'L'\n",
    "    if s == 'F':\n",
    "        proposed = advance(current, current.dir)\n",
    "    elif s == 'L':\n",
    "        proposed = advance(current, turn_left(current.dir))\n",
    "    elif s == 'R':\n",
    "        proposed = advance(current, turn_right(current.dir))\n",
    "        \n",
    "#     print('At {} going to {}, currently {},  by step {} to {}'.format(current, goal, side, s, proposed))\n",
    "\n",
    "    return s, proposed"
   ]
  },
  {
   "cell_type": "code",
   "execution_count": 1145,
   "metadata": {
    "collapsed": true
   },
   "outputs": [],
   "source": [
    "def guided_walk(loci, locus_limit=5, wander_limit=10, seek_step_limit=20):\n",
    "    trail = ''\n",
    "    current = Step(0, 0, Direction.RIGHT)    \n",
    "    l = 0\n",
    "    finished = False\n",
    "    while not finished:\n",
    "        if abs(current.x - loci[l].x) < locus_limit and abs(current.y - loci[l].y) < locus_limit:\n",
    "            l += 1\n",
    "            if l == len(loci) - 1:\n",
    "                finished = True\n",
    "        s, proposed = wander_near(loci[l], current, limit=wander_limit)\n",
    "        trail += s\n",
    "        current = proposed\n",
    "#     print('!! Finished loci')\n",
    "    seek_steps = 0\n",
    "    while not (current.x == loci[l].x and current.y == loci[l].y) and seek_steps < seek_step_limit:\n",
    "#         error = max(abs(current.x - loci[l].x), abs(current.y - loci[l].y))\n",
    "#         s, proposed = wander_near(loci[l], current, limit=error+1)\n",
    "        s, proposed = seek(loci[l], current)\n",
    "        trail += s\n",
    "        current = proposed\n",
    "        seek_steps += 1\n",
    "    if seek_steps >= seek_step_limit:\n",
    "        return ''\n",
    "    else:\n",
    "        return trail"
   ]
  },
  {
   "cell_type": "code",
   "execution_count": 896,
   "metadata": {},
   "outputs": [
    {
     "data": {
      "image/png": "[encoded data removed]",
      "text/plain": [
       "<matplotlib.figure.Figure at 0x7f4027b86898>"
      ]
     },
     "metadata": {},
     "output_type": "display_data"
    }
   ],
   "source": [
    "def square_tour(a=80):\n",
    "    \"a is width of square\"\n",
    "    return ('F' * a + 'L') * 4\n",
    "\n",
    "plot_trace(trace_tour(square_tour()))"
   ]
  },
  {
   "cell_type": "code",
   "execution_count": 898,
   "metadata": {},
   "outputs": [
    {
     "data": {
      "image/png": "[encoded data removed]",
      "text/plain": [
       "<matplotlib.figure.Figure at 0x7f4027da7048>"
      ]
     },
     "metadata": {},
     "output_type": "display_data"
    }
   ],
   "source": [
    "def cross_tour(a=50, b=40):\n",
    "    \"a is width of cross arm, b is length of cross arm\"\n",
    "    return ('F' *  a + 'L' + 'F' * b + 'R' + 'F' * b + 'L') * 4\n",
    "\n",
    "plot_trace(trace_tour(cross_tour()))"
   ]
  },
  {
   "cell_type": "code",
   "execution_count": 1181,
   "metadata": {},
   "outputs": [
    {
     "data": {
      "image/png": "[encoded data removed]",
      "text/plain": [
       "<matplotlib.figure.Figure at 0x7f402c0cc5c0>"
      ]
     },
     "metadata": {},
     "output_type": "display_data"
    }
   ],
   "source": [
    "def quincunx_tour(a=60, b=30, c=50):\n",
    "    \"a is length of indent, b is indent/outdent distance, c is outdent outer length\"\n",
    "    return ('F' * a + 'R' + 'F' * b + 'L' + 'F' * c + 'L' + 'F' * c + 'L' + 'F' * b + 'R') * 4\n",
    "plot_trace(trace_tour(quinqux_tour()))"
   ]
  },
  {
   "cell_type": "code",
   "execution_count": 792,
   "metadata": {},
   "outputs": [
    {
     "data": {
      "image/png": "[encoded data removed]",
      "text/plain": [
       "<matplotlib.figure.Figure at 0x7f4026e9cc18>"
      ]
     },
     "metadata": {},
     "output_type": "display_data"
    }
   ],
   "source": [
    "plot_trace(trace_tour(('F' * 10 + 'R' + 'F' * 5 + 'L' + 'F' * 10 + 'L' + 'F' * 10 + 'L' + 'F' * 5 + 'R') * 4))"
   ]
  },
  {
   "cell_type": "code",
   "execution_count": 1205,
   "metadata": {},
   "outputs": [
    {
     "data": {
      "image/png": "[encoded data removed]",
      "text/plain": [
       "<matplotlib.figure.Figure at 0x7f401d61d860>"
      ]
     },
     "metadata": {},
     "output_type": "display_data"
    }
   ],
   "source": [
    "heart_points = [Step(60, 50, Direction.UP), Step(50, 90, Direction.UP),\n",
    "                Step(20, 70, Direction.UP), \n",
    "                Step(-40, 90, Direction.UP), Step(-60, 80, Direction.UP), \n",
    "                Step(0, 0, Direction.RIGHT)]\n",
    "\n",
    "heart_tour = ''\n",
    "current = Step(0, 0, Direction.RIGHT)\n",
    "\n",
    "for hp in heart_points:\n",
    "    while not (current.x == hp.x and current.y == hp.y):\n",
    "        s, proposed = seek(hp, current)\n",
    "        heart_tour += s\n",
    "        current = proposed\n",
    "\n",
    "plot_trace(trace_tour(heart_tour))\n",
    "\n",
    "def heart_tour_func(): return heart_tour"
   ]
  },
  {
   "cell_type": "code",
   "execution_count": 882,
   "metadata": {},
   "outputs": [
    {
     "data": {
      "text/plain": [
       "'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'"
      ]
     },
     "execution_count": 882,
     "metadata": {},
     "output_type": "execute_result"
    }
   ],
   "source": [
    "# lc = trace_tour(('F' * 50 + 'L') * 4)\n",
    "# lc = trace_tour(('F' * 50 + 'L' + 'F' * 20 + 'R' + 'F' * 20 + 'L') * 4)\n",
    "# lc = trace_tour(('F' * 60 + 'R' + 'F' * 30 + 'L' + 'F' * 60 + 'L' + 'F' * 60 + 'L' + 'F' * 30 + 'R') * 4)\n",
    "lc = trace_tour(heart_tour)\n",
    "rw = guided_walk(lc, wander_limit=8)\n",
    "rw"
   ]
  },
  {
   "cell_type": "code",
   "execution_count": 883,
   "metadata": {},
   "outputs": [
    {
     "data": {
      "image/png": "[encoded data removed]",
      "text/plain": [
       "<matplotlib.figure.Figure at 0x7f402c1a68d0>"
      ]
     },
     "metadata": {},
     "output_type": "display_data"
    }
   ],
   "source": [
    "plot_trace(trace_tour(rw))"
   ]
  },
  {
   "cell_type": "code",
   "execution_count": 884,
   "metadata": {},
   "outputs": [
    {
     "data": {
      "image/png": "[encoded data removed]",
      "text/plain": [
       "<matplotlib.figure.Figure at 0x7f40271d9320>"
      ]
     },
     "metadata": {},
     "output_type": "display_data"
    }
   ],
   "source": [
    "rw_trimmed = trim_all_loops(rw)\n",
    "plot_trace(trace_tour(rw_trimmed))"
   ]
  },
  {
   "cell_type": "code",
   "execution_count": 885,
   "metadata": {},
   "outputs": [
    {
     "data": {
      "text/plain": [
       "760"
      ]
     },
     "execution_count": 885,
     "metadata": {},
     "output_type": "execute_result"
    }
   ],
   "source": [
    "len(rw_trimmed)"
   ]
  },
  {
   "cell_type": "code",
   "execution_count": 1180,
   "metadata": {},
   "outputs": [
    {
     "name": "stdout",
     "output_type": "stream",
     "text": [
      "At Step(x=-2, y=0, dir=<Direction.DOWN: 3>) going to Step(x=0, y=0, dir=<Direction.RIGHT: 2>), currently left,  by step L to Step(x=-1, y=0, dir=<Direction.RIGHT: 2>)\n",
      "At Step(x=-1, y=0, dir=<Direction.RIGHT: 2>) going to Step(x=0, y=0, dir=<Direction.RIGHT: 2>), currently left,  by step F to Step(x=0, y=0, dir=<Direction.RIGHT: 2>)\n"
     ]
    },
    {
     "data": {
      "text/plain": [
       "(204,\n",
       " 80,\n",
       " 'RLLRFRFLFFFLFRFFRFLFFLFFFFFLLFRFFRFFFLFRFLFFFFRFRFFFLFLFFFFFFLFFFFRFLRLLRFLRFFLF')"
      ]
     },
     "execution_count": 1180,
     "metadata": {},
     "output_type": "execute_result"
    },
    {
     "data": {
      "image/png": "[encoded data removed]",
      "text/plain": [
       "<matplotlib.figure.Figure at 0x7f4027412588>"
      ]
     },
     "metadata": {},
     "output_type": "display_data"
    }
   ],
   "source": [
    "lc = trace_tour(square_tour(a=10))\n",
    "rw = guided_walk(lc, wander_limit=4, locus_limit=2)\n",
    "rw_trimmed = trim_all_loops(rw)\n",
    "plot_trace(trace_tour(rw_trimmed))\n",
    "len(rw), len(rw_trimmed), rw_trimmed"
   ]
  },
  {
   "cell_type": "code",
   "execution_count": 1194,
   "metadata": {},
   "outputs": [],
   "source": [
    "success_count = 0\n",
    "while success_count <= 20:\n",
    "    lc = trace_tour(square_tour(a=10))\n",
    "    rw = guided_walk(lc, wander_limit=4, locus_limit=2)\n",
    "    if rw:\n",
    "        rw_trimmed = trim_all_loops(rw)\n",
    "        if len(rw_trimmed) > 10:\n",
    "            with open('small-squares.txt', 'a') as f:\n",
    "                f.write(rw_trimmed + '\\n')\n",
    "                success_count += 1"
   ]
  },
  {
   "cell_type": "code",
   "execution_count": 1195,
   "metadata": {
    "collapsed": true
   },
   "outputs": [],
   "source": [
    "success_count = 0\n",
    "while success_count <= 20:\n",
    "    lc = trace_tour(square_tour())\n",
    "    rw = guided_walk(lc)\n",
    "    if rw:\n",
    "        rw_trimmed = trim_all_loops(rw)\n",
    "        if len(rw_trimmed) > 10:\n",
    "            with open('large-squares.txt', 'a') as f:\n",
    "                f.write(rw_trimmed + '\\n')\n",
    "                success_count += 1"
   ]
  },
  {
   "cell_type": "code",
   "execution_count": 1196,
   "metadata": {
    "collapsed": true
   },
   "outputs": [],
   "source": [
    "success_count = 0\n",
    "while success_count <= 20:\n",
    "    lc = trace_tour(cross_tour())\n",
    "    rw = guided_walk(lc)\n",
    "    if rw:\n",
    "        rw_trimmed = trim_all_loops(rw)\n",
    "        if len(rw_trimmed) > 10:\n",
    "            with open('cross.txt', 'a') as f:\n",
    "                f.write(rw_trimmed + '\\n')\n",
    "                success_count += 1"
   ]
  },
  {
   "cell_type": "code",
   "execution_count": 1197,
   "metadata": {
    "collapsed": true
   },
   "outputs": [],
   "source": [
    "success_count = 0\n",
    "while success_count <= 20:\n",
    "    lc = trace_tour(quincunx_tour())\n",
    "    rw = guided_walk(lc)\n",
    "    if rw:\n",
    "        rw_trimmed = trim_all_loops(rw)\n",
    "        if len(rw_trimmed) > 10:\n",
    "            with open('quincunx.txt', 'a') as f:\n",
    "                f.write(rw_trimmed + '\\n')\n",
    "                success_count += 1"
   ]
  },
  {
   "cell_type": "code",
   "execution_count": 1203,
   "metadata": {},
   "outputs": [
    {
     "data": {
      "image/png": "[encoded data removed]",
      "text/plain": [
       "<matplotlib.figure.Figure at 0x7f40276510b8>"
      ]
     },
     "metadata": {},
     "output_type": "display_data"
    }
   ],
   "source": [
    "plot_trace(trace_tour(rw_trimmed), filename='test.png')"
   ]
  },
  {
   "cell_type": "code",
   "execution_count": 1206,
   "metadata": {},
   "outputs": [],
   "source": [
    "patterns = [square_tour, cross_tour, quincunx_tour, heart_tour_func]\n",
    "tours_filename = 'tours.txt'\n",
    "\n",
    "try:\n",
    "    os.remove(tours_filename)\n",
    "except OSError:\n",
    "    pass\n",
    "\n",
    "success_count = 0\n",
    "while success_count < 100:\n",
    "    lc = trace_tour(random.choice(patterns)())\n",
    "    rw = guided_walk(lc)\n",
    "    if rw:\n",
    "        rw_trimmed = trim_all_loops(rw)\n",
    "        if len(rw_trimmed) > 10:\n",
    "            with open(tours_filename, 'a') as f:\n",
    "                f.write(rw_trimmed + '\\n')\n",
    "                success_count += 1"
   ]
  },
  {
   "cell_type": "code",
   "execution_count": 1190,
   "metadata": {},
   "outputs": [
    {
     "name": "stdout",
     "output_type": "stream",
     "text": [
      "At Step(x=2, y=3, dir=<Direction.DOWN: 3>) going to Step(x=0, y=0, dir=<Direction.RIGHT: 2>), currently above,  by step F to Step(x=2, y=2, dir=<Direction.DOWN: 3>)\n",
      "At Step(x=2, y=2, dir=<Direction.DOWN: 3>) going to Step(x=0, y=0, dir=<Direction.RIGHT: 2>), currently above,  by step F to Step(x=2, y=1, dir=<Direction.DOWN: 3>)\n",
      "At Step(x=2, y=1, dir=<Direction.DOWN: 3>) going to Step(x=0, y=0, dir=<Direction.RIGHT: 2>), currently right,  by step R to Step(x=1, y=1, dir=<Direction.LEFT: 4>)\n",
      "At Step(x=1, y=1, dir=<Direction.LEFT: 4>) going to Step(x=0, y=0, dir=<Direction.RIGHT: 2>), currently above,  by step L to Step(x=1, y=0, dir=<Direction.DOWN: 3>)\n",
      "At Step(x=1, y=0, dir=<Direction.DOWN: 3>) going to Step(x=0, y=0, dir=<Direction.RIGHT: 2>), currently right,  by step R to Step(x=0, y=0, dir=<Direction.LEFT: 4>)\n",
      "Found mistakes: 2052\n"
     ]
    },
    {
     "data": {
      "text/plain": [
       "(5348,\n",
       " 1210,\n",
       " 'RFLFRLFLFFFRRFFFFFRLFLFRLRLFFFFLFRFFLFFRFFLFFRRLFFLFFFFFLRFFRFRFFFFFLFFFFFFFFFFLRRFFLFRLLRLFFFFFRFLFFFFFFFRRFFFFLRLFFLFRFFFFFFFFFLLFFFFFFFFFFRFFFLRLFFRFFFRFLFFFRFFFFFFFFFLLFRRFFFFLRRFFLFLFFLRLRRLRLFFFLFRRFFFFLFFFRLFFFFRLRRFLFFFFLFFFFFRLFRFFRLFRFFFRLFFLFFRLRFFFFFFLLFFRFFFFFFFLFRLFFRFRLLFFFRFFLFFFLFLFRFFRFFFLFFFFRFFFFFFFFFLFFRFFFFRLFRFFRLFFFFLFRFFFFFFLFRFLFLFFRRLRLLRLFLRRFRFFLFFFLFFFRFLRFLFLFFRRLFLRFFRLFLRRFFRFLFLFRFFLFFFFRFLFFRFFFFRLFFLFFLFRRLLFFFFFRLFFRFFLLFFRLRFFFFFRFFRLFFFFFFFRFRRLFFFLFLFFFRFLFRFRFFLFRFLFLFFRFFRFLFFLFFLLRRFFLFFFRLRFFFFRFFFFRFLFFFLFRFRLFFLRRFFFLLRLFLRFRFFFFRLLFFRLLRFFFFFRFFFFFFFFFFFFLFFFFFFFFFFLFRRLRFLRFFLLFFFFFFRFRFFLFFFLRFLFRFRLLFLFRRFFFFFFFFLFRFFLFFFRFLRLFFFRFFFFFLLRLFFFFFFFFFFRFFFRRLFFFFLLRFLRFFRFFFFRLFLFLRFFRFLFFLRLRFFFFFFFFFFRFRFFFLRRFLLFFFFLFFFRRLFFFFFFFRFFFFFFFLLFRLFRFRFLFLRFFFFFRLFFFFLFFFFLFFLRRFRFFFFLFFRFRLFFFRLFFRFLFFLFRFFLRLFFFFLFFFLFFRFFFRFFFLRFFFLFFRFRFFLLFRRFFFFFFLRLFFFLRRFFRFLLFFFFFFLFFLRFFRLFFFFFFRFRFFFFFFFLFRFLFLFFFFFFFRFLFFFRFFFLFRRFFFFFFFFLLFFRFFLFFRFFLLFFFRLRFFFFFFLFRFRLLFFLRFRFFFFFRFLFFFFLRRLFFFRFFFLFFLFRFRFFRLRFLFRFLLRLFFFRRLFLFFFFRLFFRLFRFLFLFRLFFFRRFFFFFFRLFRFFFLRFFFFFRLFLFFRRLRLLFFRFLFFLFFFRFLFLRLFRFRFLFFLFRFLFRFFRFFFLRFFRLFFFFRFFFLFFLRFRFLFFFFFRLR')"
      ]
     },
     "execution_count": 1190,
     "metadata": {},
     "output_type": "execute_result"
    },
    {
     "data": {
      "image/png": "[encoded data removed]",
      "text/plain": [
       "<matplotlib.figure.Figure at 0x7f402c03b908>"
      ]
     },
     "metadata": {},
     "output_type": "display_data"
    }
   ],
   "source": [
    "lc = trace_tour(cross_tour())\n",
    "rw = guided_walk(lc)\n",
    "print('Found mistakes:', len(mistake_positions(trace_tour(rw))))\n",
    "rw_trimmed = trim_all_loops(rw)\n",
    "plot_trace(trace_tour(rw_trimmed))\n",
    "len(rw), len(rw_trimmed), rw_trimmed"
   ]
  },
  {
   "cell_type": "code",
   "execution_count": 1187,
   "metadata": {},
   "outputs": [
    {
     "data": {
      "image/png": "[encoded data removed]",
      "text/plain": [
       "<matplotlib.figure.Figure at 0x7f4026f76c18>"
      ]
     },
     "metadata": {},
     "output_type": "display_data"
    }
   ],
   "source": [
    "plot_trace(trace_tour(rw))"
   ]
  },
  {
   "cell_type": "code",
   "execution_count": 1037,
   "metadata": {},
   "outputs": [
    {
     "data": {
      "image/png": "[encoded data removed]",
      "text/plain": [
       "<matplotlib.figure.Figure at 0x7f402c0e22e8>"
      ]
     },
     "metadata": {},
     "output_type": "display_data"
    }
   ],
   "source": [
    "plot_trace(trace_tour(trim_all_loops(rw)))"
   ]
  },
  {
   "cell_type": "code",
   "execution_count": 1013,
   "metadata": {},
   "outputs": [
    {
     "name": "stdout",
     "output_type": "stream",
     "text": [
      "[Mistake(i=20, step=Step(x=8, y=0, dir=<Direction.UP: 1>)), Mistake(i=38, step=Step(x=10, y=2, dir=<Direction.UP: 1>)), Mistake(i=42, step=Step(x=8, y=4, dir=<Direction.LEFT: 4>))]\n"
     ]
    },
    {
     "data": {
      "text/plain": [
       "'FFFFFLLRRFRFLFLLRFFRRFLFFFFRRFFRFFLFFRFFFFRRRRRRFLRRFLLFFFLRFRRFFFFFRRFRRFRFFRFLLFLLLFLLFFLFLFFFFFLFFFFRRFFFFRRFFFFRRFFFFFRFRFFFFLFLRFRRRLLRFFRRFFRFRFLRLFFFFRRRFLFFRFRLFRRFRFLFFLLFLRFFFRFRFLRFLLFFFFRLLLLFLFFFLFLFRRFFLR'"
      ]
     },
     "execution_count": 1013,
     "metadata": {},
     "output_type": "execute_result"
    }
   ],
   "source": [
    "w_tour = rw\n",
    "w_trace = trace_tour(w_tour)\n",
    "mks = mistake_positions(w_trace)\n",
    "print(mks[:3])\n",
    "trim_loop(w_tour)"
   ]
  },
  {
   "cell_type": "code",
   "execution_count": 1014,
   "metadata": {},
   "outputs": [
    {
     "name": "stdout",
     "output_type": "stream",
     "text": [
      "74\n",
      "73\n",
      "72\n",
      "70\n",
      "66\n",
      "54\n",
      "47\n",
      "45\n",
      "41\n",
      "37\n",
      "25\n",
      "22\n",
      "15\n",
      "14\n",
      "13\n",
      "RFFRRFFFRFFRFLLRFLFFLLLLFRRRFLFFFFRRFFFRLLLRRFLLFRLLLFRLLRFLRRLFLFFRLLRFLLFRRLLRLFRFFFLLFFLFLRRLFRLRRLRRRRFFFFFFRRRLLFFFFFFLRRRLLLRLLLLRFRLRFRRRFRLRLLRFRLFLLRFRFLRRRRLRFLLRLRRLFFFRLRRFFRFLRFLLFLFRLRLRLRRRLFFRLRRFFRRFFLLRLLFLLLFRFRFLRLFFLFRRRRLRRLRRLRFRRLRRRFRRRRLLRFLLRRFFRLRFFLFLFRRLLLRLFFFRFRLRLLFRRFLLRLFFFLLRLLRRLRFRFFFFFRRFFLFRFLRFRFLFLFRLFLFLRFFLFRLRRRLRRRRFFFRFLLRLFRFRRRLRFFFFFLLFRRLFRRFRFRFLRLLFRFFFLLRRFRRRRLFFFLFLLLFFLRRLRFLFLFFRLLFFRRFFLRLLRFLRLLFLFRLLLRFFFFFFFFLFLRLLRLRLRFLLFFFLFLFFLFRRRRRFFRLLFFFRLFFLFRLFFRFFFFRLRRRLLFLRRFLRFFLRRFRRFLRFLRRLFRRLFFFFRLFLFFLRFFFFFRLFLFLRFFFLLLFLLLFFLRRLFLFRRFRRFFRRRFFRFLFLLFLFRFRFLLLRRRLFRRFFRLRFLFLFLRRLFFFLFRLRFRFFRFLRRFFFFFLFRLRRFRLLRLLFFLLLFFLFFFRLFRFRRRRLFLFLLLLRLFRFRLRLLFLFLLLRRRLLLFRRFRLRFFRRRLLLFRLRLLFFLLRFFFFRLLRLRLLLRLFFFRRLRFRFFRRRFFFRFFFFLRFLFRFLRFRRLLLRLLFRRLFFLRRFFFRLLFRLFLRRFLRLLRRFFLLFLLLFFFFRRFFRLFFLLFLLFRFRLRFLRFFRFRLRLLLFFFLFLRFRFRFLRRLLLLLRFRRLFLLLLRRFFFLLRFLFFRLLLLFLFRLRFFFFFLRLLFFLLLFFLLRRFLRRFLRLRRLLLRRRRRLLLFLRRLFFFRFLRRLF\n",
      "FFFFFLLRRFRFLFLLRFFFFFRFLFFFFLFFLFRFRFLRLFFFLLFRLRFFFRFRFLRFLLFFFFRLLLLFLFFFLFLFRRFFLR\n",
      "Step(x=0, y=0, dir=<Direction.DOWN: 3>)\n"
     ]
    },
    {
     "data": {
      "image/png": "[encoded data removed]",
      "text/plain": [
       "<matplotlib.figure.Figure at 0x7f40276002e8>"
      ]
     },
     "metadata": {},
     "output_type": "display_data"
    }
   ],
   "source": [
    "w_tour = rw\n",
    "w_trace = trace_tour(w_tour)\n",
    "mks = mistake_positions(w_trace)\n",
    "while len(mks) > 3:\n",
    "    print(len(mks))\n",
    "    w_tour = trim_loop(w_tour)\n",
    "    w_trace = trace_tour(w_tour)\n",
    "    mks = mistake_positions(w_trace)\n",
    "print('{}\\n{}\\n{}'.format(w_tour_start, w_tour, trace_tour(w_tour)[-1]))\n",
    "plot_trace(trace_tour(w_tour))"
   ]
  },
  {
   "cell_type": "code",
   "execution_count": 1015,
   "metadata": {},
   "outputs": [
    {
     "data": {
      "text/plain": [
       "[Mistake(i=70, step=Step(x=-2, y=6, dir=<Direction.UP: 1>)),\n",
       " Mistake(i=71, step=Step(x=-3, y=6, dir=<Direction.LEFT: 4>))]"
      ]
     },
     "execution_count": 1015,
     "metadata": {},
     "output_type": "execute_result"
    }
   ],
   "source": [
    "mks"
   ]
  },
  {
   "cell_type": "code",
   "execution_count": 1016,
   "metadata": {},
   "outputs": [
    {
     "data": {
      "text/plain": [
       "'FFFFFLLRRFRFLFLLRFFFFFRFLFFFFLFFLFRFRFLRLFFFLLFRLRFFFRFRFLRFLLFFFFRFLFFFLFLFRRFFLR'"
      ]
     },
     "execution_count": 1016,
     "metadata": {},
     "output_type": "execute_result"
    }
   ],
   "source": [
    "trim_loop(w_tour)"
   ]
  },
  {
   "cell_type": "code",
   "execution_count": 1212,
   "metadata": {},
   "outputs": [
    {
     "data": {
      "image/png": "[encoded data removed]",
      "text/plain": [
       "<matplotlib.figure.Figure at 0x7f4027ba30b8>"
      ]
     },
     "metadata": {},
     "output_type": "display_data"
    }
   ],
   "source": [
    "lc = trace_tour(square_tour(a=10))\n",
    "rw = guided_walk(lc, wander_limit=4, locus_limit=2)\n",
    "plot_trace(trace_tour(rw))"
   ]
  },
  {
   "cell_type": "code",
   "execution_count": 1247,
   "metadata": {},
   "outputs": [
    {
     "data": {
      "text/plain": [
       "(254,\n",
       " 20,\n",
       " 'RLLFLRRFLLFFFFLFLFRL',\n",
       " [Step(x=-1, y=0, dir=<Direction.DOWN: 3>),\n",
       "  Step(x=0, y=0, dir=<Direction.RIGHT: 2>)])"
      ]
     },
     "execution_count": 1247,
     "metadata": {},
     "output_type": "execute_result"
    },
    {
     "data": {
      "image/png": "[encoded data removed]",
      "text/plain": [
       "<matplotlib.figure.Figure at 0x7f402c1a5cf8>"
      ]
     },
     "metadata": {},
     "output_type": "display_data"
    }
   ],
   "source": [
    "rw_trimmed = trim_all_loops(rw)\n",
    "plot_trace(trace_tour(rw_trimmed))\n",
    "len(rw), len(rw_trimmed), rw_trimmed, trace_tour(rw_trimmed)[-2:]"
   ]
  },
  {
   "cell_type": "code",
   "execution_count": 1281,
   "metadata": {},
   "outputs": [
    {
     "data": {
      "text/plain": [
       "(1, Step(x=0, y=0, dir=<Direction.RIGHT: 2>))"
      ]
     },
     "execution_count": 1281,
     "metadata": {},
     "output_type": "execute_result"
    },
    {
     "data": {
      "image/png": "[encoded data removed]",
      "text/plain": [
       "<matplotlib.figure.Figure at 0x7f40275e2908>"
      ]
     },
     "metadata": {},
     "output_type": "display_data"
    }
   ],
   "source": [
    "rw_trimmed = rw\n",
    "mks = len(mistake_positions(trace_tour(rw_trimmed)))\n",
    "while mks >= 4:\n",
    "    rw_trimmed = trim_loop(rw_trimmed, random_mistake=True)\n",
    "    mks = len(mistake_positions(trace_tour(rw_trimmed)))\n",
    "    \n",
    "# rw_trimmed = trim_all_loops(rw)\n",
    "plot_trace(trace_tour(rw_trimmed))\n",
    "mks, trace_tour(rw_trimmed)[-1]"
   ]
  },
  {
   "cell_type": "code",
   "execution_count": 1282,
   "metadata": {
    "collapsed": true
   },
   "outputs": [],
   "source": [
    "def trim_some_mistakes(tour, mistake_limit):\n",
    "    trimmed_tour = rw\n",
    "    mistake_count = len(mistake_positions(trace_tour(trimmed_tour)))\n",
    "    while len(mistake_positions(trace_tour(trimmed_tour))) >= mistake_limit:\n",
    "        trimmed_tour = trim_loop(trimmed_tour, random_mistake=True)\n",
    "    return trimmed_tour"
   ]
  },
  {
   "cell_type": "code",
   "execution_count": 1299,
   "metadata": {},
   "outputs": [
    {
     "data": {
      "text/plain": [
       "(1, Step(x=0, y=0, dir=<Direction.RIGHT: 2>))"
      ]
     },
     "execution_count": 1299,
     "metadata": {},
     "output_type": "execute_result"
    },
    {
     "data": {
      "image/png": "[encoded data removed]",
      "text/plain": [
       "<matplotlib.figure.Figure at 0x7f402c0c5f98>"
      ]
     },
     "metadata": {},
     "output_type": "display_data"
    }
   ],
   "source": [
    "rw_trimmed = trim_some_mistakes(rw, 4)\n",
    "\n",
    "plot_trace(trace_tour(rw_trimmed))\n",
    "len(mistake_positions(trace_tour(rw_trimmed))), trace_tour(rw_trimmed)[-1]"
   ]
  },
  {
   "cell_type": "code",
   "execution_count": 1300,
   "metadata": {
    "collapsed": true
   },
   "outputs": [],
   "source": [
    "patterns = [square_tour, cross_tour, quincunx_tour, heart_tour_func]\n",
    "tours_filename = 'tours-with-mistakes.txt'\n",
    "\n",
    "try:\n",
    "    os.remove(tours_filename)\n",
    "except OSError:\n",
    "    pass\n",
    "\n",
    "success_count = 0\n",
    "while success_count < 100:\n",
    "    lc = trace_tour(random.choice(patterns)())\n",
    "    rw = guided_walk(lc)\n",
    "    if rw:\n",
    "        rw_trimmed = trim_some_mistakes(rw, random.randint(0, 15) + random.randint(1, 3))\n",
    "        if len(rw_trimmed) > 10:\n",
    "            with open(tours_filename, 'a') as f:\n",
    "                f.write(rw_trimmed + '\\n')\n",
    "                success_count += 1"
   ]
  },
  {
   "cell_type": "code",
   "execution_count": null,
   "metadata": {
    "collapsed": true
   },
   "outputs": [],
   "source": []
  }
 ],
 "metadata": {
  "kernelspec": {
   "display_name": "Python 3",
   "language": "python",
   "name": "python3"
  },
  "language_info": {
   "codemirror_mode": {
    "name": "ipython",
    "version": 3
   },
   "file_extension": ".py",
   "mimetype": "text/x-python",
   "name": "python",
   "nbconvert_exporter": "python",
   "pygments_lexer": "ipython3",
   "version": "3.5.2+"
  }
 },
 "nbformat": 4,
 "nbformat_minor": 2
}
