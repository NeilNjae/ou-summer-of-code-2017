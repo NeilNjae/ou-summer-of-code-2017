{
 "cells": [
  {
   "cell_type": "markdown",
   "metadata": {},
   "source": [
    "Given a sequence of {F|L|R}, each of which is \"move forward one step\", \"turn left, then move forward one step\", \"turn right, then move forward one step\":\n",
    "1. which tours are closed?\n",
    "2. what is the area enclosed by the tour?"
   ]
  },
  {
   "cell_type": "code",
   "execution_count": 69,
   "metadata": {
    "collapsed": true
   },
   "outputs": [],
   "source": [
    "import collections\n",
    "import enum\n",
    "import random"
   ]
  },
  {
   "cell_type": "code",
   "execution_count": 20,
   "metadata": {
    "collapsed": true
   },
   "outputs": [],
   "source": [
    "class Direction(enum.Enum):\n",
    "    UP = 1\n",
    "    RIGHT = 2\n",
    "    DOWN = 3\n",
    "    LEFT = 4\n",
    "    \n",
    "turn_lefts = {Direction.UP: Direction.LEFT, Direction.LEFT: Direction.DOWN,\n",
    "              Direction.DOWN: Direction.RIGHT, Direction.RIGHT: Direction.UP}\n",
    "\n",
    "turn_rights = {Direction.UP: Direction.RIGHT, Direction.RIGHT: Direction.DOWN,\n",
    "               Direction.DOWN: Direction.LEFT, Direction.LEFT: Direction.UP}\n",
    "\n",
    "def turn_left(d):\n",
    "    return turn_lefts[d]\n",
    "\n",
    "def turn_right(d):\n",
    "    return turn_rights[d]\n"
   ]
  },
  {
   "cell_type": "code",
   "execution_count": 8,
   "metadata": {
    "collapsed": true
   },
   "outputs": [],
   "source": [
    "Step = collections.namedtuple('Step', ['x', 'y', 'dir'])"
   ]
  },
  {
   "cell_type": "code",
   "execution_count": 30,
   "metadata": {
    "collapsed": true
   },
   "outputs": [],
   "source": [
    "def advance(step, d):\n",
    "    if d == Direction.UP:\n",
    "        return Step(step.x, step.y+1, d)\n",
    "    elif d == Direction.DOWN:\n",
    "        return Step(step.x, step.y-1, d)\n",
    "    elif d == Direction.LEFT:\n",
    "        return Step(step.x-1, step.y, d)\n",
    "    elif d == Direction.RIGHT:\n",
    "        return Step(step.x+1, step.y, d)"
   ]
  },
  {
   "cell_type": "code",
   "execution_count": 28,
   "metadata": {
    "collapsed": true
   },
   "outputs": [],
   "source": [
    "def trace_tour(tour):\n",
    "    current = Step(0, 0, Direction.RIGHT)\n",
    "    trace = [current]\n",
    "    for s in tour:\n",
    "        if s == 'F':\n",
    "            current = advance(current, current.dir)\n",
    "        elif s == 'L':\n",
    "            current = advance(current, turn_left(current.dir))\n",
    "        elif s == 'R':\n",
    "            current = advance(current, turn_right(current.dir))\n",
    "        trace += [current]\n",
    "    return trace    "
   ]
  },
  {
   "cell_type": "code",
   "execution_count": 9,
   "metadata": {
    "collapsed": true
   },
   "outputs": [],
   "source": [
    "k = Step(1, 2, 3)"
   ]
  },
  {
   "cell_type": "code",
   "execution_count": 10,
   "metadata": {},
   "outputs": [
    {
     "data": {
      "text/plain": [
       "Step(x=1, y=2, dir=3)"
      ]
     },
     "execution_count": 10,
     "metadata": {},
     "output_type": "execute_result"
    }
   ],
   "source": [
    "k"
   ]
  },
  {
   "cell_type": "code",
   "execution_count": 11,
   "metadata": {},
   "outputs": [
    {
     "data": {
      "text/plain": [
       "__main__.Step"
      ]
     },
     "execution_count": 11,
     "metadata": {},
     "output_type": "execute_result"
    }
   ],
   "source": [
    "Step"
   ]
  },
  {
   "cell_type": "code",
   "execution_count": 22,
   "metadata": {},
   "outputs": [
    {
     "data": {
      "text/plain": [
       "<Direction.UP: 1>"
      ]
     },
     "execution_count": 22,
     "metadata": {},
     "output_type": "execute_result"
    }
   ],
   "source": [
    "d = Direction.UP\n",
    "d"
   ]
  },
  {
   "cell_type": "code",
   "execution_count": 23,
   "metadata": {},
   "outputs": [
    {
     "data": {
      "text/plain": [
       "<Direction.RIGHT: 2>"
      ]
     },
     "execution_count": 23,
     "metadata": {},
     "output_type": "execute_result"
    }
   ],
   "source": [
    "turn_right(d)"
   ]
  },
  {
   "cell_type": "code",
   "execution_count": 21,
   "metadata": {},
   "outputs": [
    {
     "data": {
      "text/plain": [
       "{<Direction.LEFT: 4>: <Direction.UP: 1>,\n",
       " <Direction.UP: 1>: <Direction.RIGHT: 2>,\n",
       " <Direction.DOWN: 3>: <Direction.LEFT: 4>,\n",
       " <Direction.RIGHT: 2>: <Direction.DOWN: 3>}"
      ]
     },
     "execution_count": 21,
     "metadata": {},
     "output_type": "execute_result"
    }
   ],
   "source": [
    "turn_rights"
   ]
  },
  {
   "cell_type": "code",
   "execution_count": 31,
   "metadata": {},
   "outputs": [
    {
     "data": {
      "text/plain": [
       "[Step(x=0, y=0, dir=<Direction.RIGHT: 2>),\n",
       " Step(x=1, y=0, dir=<Direction.RIGHT: 2>),\n",
       " Step(x=1, y=1, dir=<Direction.UP: 1>),\n",
       " Step(x=2, y=1, dir=<Direction.RIGHT: 2>),\n",
       " Step(x=2, y=2, dir=<Direction.UP: 1>)]"
      ]
     },
     "execution_count": 31,
     "metadata": {},
     "output_type": "execute_result"
    }
   ],
   "source": [
    "trace_tour('FLRL')"
   ]
  },
  {
   "cell_type": "code",
   "execution_count": 33,
   "metadata": {},
   "outputs": [
    {
     "data": {
      "text/plain": [
       "[Step(x=0, y=0, dir=<Direction.RIGHT: 2>),\n",
       " Step(x=1, y=0, dir=<Direction.RIGHT: 2>),\n",
       " Step(x=2, y=0, dir=<Direction.RIGHT: 2>),\n",
       " Step(x=2, y=1, dir=<Direction.UP: 1>),\n",
       " Step(x=3, y=1, dir=<Direction.RIGHT: 2>),\n",
       " Step(x=3, y=2, dir=<Direction.UP: 1>),\n",
       " Step(x=2, y=2, dir=<Direction.LEFT: 4>),\n",
       " Step(x=1, y=2, dir=<Direction.LEFT: 4>),\n",
       " Step(x=1, y=1, dir=<Direction.DOWN: 3>),\n",
       " Step(x=0, y=1, dir=<Direction.LEFT: 4>),\n",
       " Step(x=0, y=0, dir=<Direction.DOWN: 3>)]"
      ]
     },
     "execution_count": 33,
     "metadata": {},
     "output_type": "execute_result"
    }
   ],
   "source": [
    "trace_tour('FFLRLLFLRL')"
   ]
  },
  {
   "cell_type": "code",
   "execution_count": 34,
   "metadata": {},
   "outputs": [
    {
     "data": {
      "text/plain": [
       "[Step(x=0, y=0, dir=<Direction.RIGHT: 2>),\n",
       " Step(x=1, y=0, dir=<Direction.RIGHT: 2>),\n",
       " Step(x=1, y=1, dir=<Direction.UP: 1>),\n",
       " Step(x=0, y=1, dir=<Direction.LEFT: 4>),\n",
       " Step(x=-1, y=1, dir=<Direction.LEFT: 4>),\n",
       " Step(x=-2, y=1, dir=<Direction.LEFT: 4>),\n",
       " Step(x=-2, y=0, dir=<Direction.DOWN: 3>),\n",
       " Step(x=-2, y=-1, dir=<Direction.DOWN: 3>),\n",
       " Step(x=-2, y=-2, dir=<Direction.DOWN: 3>),\n",
       " Step(x=-2, y=-3, dir=<Direction.DOWN: 3>),\n",
       " Step(x=-1, y=-3, dir=<Direction.RIGHT: 2>),\n",
       " Step(x=0, y=-3, dir=<Direction.RIGHT: 2>),\n",
       " Step(x=1, y=-3, dir=<Direction.RIGHT: 2>),\n",
       " Step(x=1, y=-2, dir=<Direction.UP: 1>),\n",
       " Step(x=1, y=-1, dir=<Direction.UP: 1>),\n",
       " Step(x=0, y=-1, dir=<Direction.LEFT: 4>),\n",
       " Step(x=0, y=-2, dir=<Direction.DOWN: 3>),\n",
       " Step(x=-1, y=-2, dir=<Direction.LEFT: 4>),\n",
       " Step(x=-1, y=-1, dir=<Direction.UP: 1>),\n",
       " Step(x=-1, y=0, dir=<Direction.UP: 1>),\n",
       " Step(x=0, y=0, dir=<Direction.RIGHT: 2>)]"
      ]
     },
     "execution_count": 34,
     "metadata": {},
     "output_type": "execute_result"
    }
   ],
   "source": [
    "trace_tour('FLLFFLFFFLFFLFLLRRFR')"
   ]
  },
  {
   "cell_type": "code",
   "execution_count": 35,
   "metadata": {},
   "outputs": [
    {
     "data": {
      "text/plain": [
       "[Step(x=0, y=0, dir=<Direction.RIGHT: 2>),\n",
       " Step(x=1, y=0, dir=<Direction.RIGHT: 2>),\n",
       " Step(x=2, y=0, dir=<Direction.RIGHT: 2>),\n",
       " Step(x=2, y=-1, dir=<Direction.DOWN: 3>),\n",
       " Step(x=3, y=-1, dir=<Direction.RIGHT: 2>),\n",
       " Step(x=3, y=0, dir=<Direction.UP: 1>),\n",
       " Step(x=3, y=1, dir=<Direction.UP: 1>),\n",
       " Step(x=4, y=1, dir=<Direction.RIGHT: 2>),\n",
       " Step(x=4, y=2, dir=<Direction.UP: 1>),\n",
       " Step(x=3, y=2, dir=<Direction.LEFT: 4>),\n",
       " Step(x=2, y=2, dir=<Direction.LEFT: 4>),\n",
       " Step(x=1, y=2, dir=<Direction.LEFT: 4>),\n",
       " Step(x=0, y=2, dir=<Direction.LEFT: 4>),\n",
       " Step(x=0, y=3, dir=<Direction.UP: 1>),\n",
       " Step(x=0, y=4, dir=<Direction.UP: 1>),\n",
       " Step(x=-1, y=4, dir=<Direction.LEFT: 4>),\n",
       " Step(x=-1, y=3, dir=<Direction.DOWN: 3>),\n",
       " Step(x=-2, y=3, dir=<Direction.LEFT: 4>),\n",
       " Step(x=-2, y=2, dir=<Direction.DOWN: 3>),\n",
       " Step(x=-1, y=2, dir=<Direction.RIGHT: 2>),\n",
       " Step(x=-1, y=1, dir=<Direction.DOWN: 3>),\n",
       " Step(x=-2, y=1, dir=<Direction.LEFT: 4>),\n",
       " Step(x=-2, y=0, dir=<Direction.DOWN: 3>),\n",
       " Step(x=-1, y=0, dir=<Direction.RIGHT: 2>),\n",
       " Step(x=-1, y=-1, dir=<Direction.DOWN: 3>),\n",
       " Step(x=0, y=-1, dir=<Direction.RIGHT: 2>),\n",
       " Step(x=0, y=0, dir=<Direction.UP: 1>)]"
      ]
     },
     "execution_count": 35,
     "metadata": {},
     "output_type": "execute_result"
    }
   ],
   "source": [
    "trace_tour('FFRLLFRLLFFFRFLLRLLRRLLRLL')"
   ]
  },
  {
   "cell_type": "code",
   "execution_count": 112,
   "metadata": {
    "collapsed": true
   },
   "outputs": [],
   "source": [
    "def positions(trace):\n",
    "    return [(s.x, s.y) for s in trace]"
   ]
  },
  {
   "cell_type": "code",
   "execution_count": 113,
   "metadata": {},
   "outputs": [
    {
     "data": {
      "text/plain": [
       "[(0, 0),\n",
       " (1, 0),\n",
       " (2, 0),\n",
       " (2, -1),\n",
       " (3, -1),\n",
       " (3, 0),\n",
       " (3, 1),\n",
       " (4, 1),\n",
       " (4, 2),\n",
       " (3, 2),\n",
       " (2, 2),\n",
       " (1, 2),\n",
       " (0, 2),\n",
       " (0, 3),\n",
       " (0, 4),\n",
       " (-1, 4),\n",
       " (-1, 3),\n",
       " (-2, 3),\n",
       " (-2, 2),\n",
       " (-1, 2),\n",
       " (-1, 1),\n",
       " (-2, 1),\n",
       " (-2, 0),\n",
       " (-1, 0),\n",
       " (-1, -1),\n",
       " (0, -1),\n",
       " (0, 0)]"
      ]
     },
     "execution_count": 113,
     "metadata": {},
     "output_type": "execute_result"
    }
   ],
   "source": [
    "positions(trace_tour('FFRLLFRLLFFFRFLLRLLRRLLRLL'))"
   ]
  },
  {
   "cell_type": "code",
   "execution_count": 114,
   "metadata": {
    "collapsed": true
   },
   "outputs": [],
   "source": [
    "def valid(trace):\n",
    "    return (trace[-1].x == 0 \n",
    "            and trace[-1].y == 0 \n",
    "            and len(set(positions(trace))) + 1 == len(trace))"
   ]
  },
  {
   "cell_type": "code",
   "execution_count": 115,
   "metadata": {},
   "outputs": [
    {
     "data": {
      "text/plain": [
       "True"
      ]
     },
     "execution_count": 115,
     "metadata": {},
     "output_type": "execute_result"
    }
   ],
   "source": [
    "valid(trace_tour('FFRLLFRLLFFFRFLLRLLRRLLRLL'))"
   ]
  },
  {
   "cell_type": "code",
   "execution_count": 116,
   "metadata": {},
   "outputs": [
    {
     "data": {
      "text/plain": [
       "False"
      ]
     },
     "execution_count": 116,
     "metadata": {},
     "output_type": "execute_result"
    }
   ],
   "source": [
    "valid(trace_tour('FFRLLFRLLFFFRFLLRLLRRLLRLLFF'))"
   ]
  },
  {
   "cell_type": "code",
   "execution_count": 117,
   "metadata": {},
   "outputs": [
    {
     "data": {
      "text/plain": [
       "False"
      ]
     },
     "execution_count": 117,
     "metadata": {},
     "output_type": "execute_result"
    }
   ],
   "source": [
    "valid(trace_tour('FFLLLFRR'))"
   ]
  },
  {
   "cell_type": "code",
   "execution_count": 118,
   "metadata": {},
   "outputs": [
    {
     "data": {
      "text/plain": [
       "False"
      ]
     },
     "execution_count": 118,
     "metadata": {},
     "output_type": "execute_result"
    }
   ],
   "source": [
    "valid(trace_tour('F'))"
   ]
  },
  {
   "cell_type": "code",
   "execution_count": 119,
   "metadata": {},
   "outputs": [
    {
     "data": {
      "text/plain": [
       "True"
      ]
     },
     "execution_count": 119,
     "metadata": {},
     "output_type": "execute_result"
    }
   ],
   "source": [
    "valid(trace_tour('LLLL'))"
   ]
  },
  {
   "cell_type": "code",
   "execution_count": 120,
   "metadata": {
    "collapsed": true
   },
   "outputs": [],
   "source": [
    "def chunks(items, n=2):\n",
    "    return [items[i:i+n] for i in range(len(items) - n + 1)]"
   ]
  },
  {
   "cell_type": "code",
   "execution_count": 121,
   "metadata": {},
   "outputs": [
    {
     "data": {
      "text/plain": [
       "['abcdefg',\n",
       " 'bcdefgh',\n",
       " 'cdefghi',\n",
       " 'defghij',\n",
       " 'efghijk',\n",
       " 'fghijkl',\n",
       " 'ghijklm',\n",
       " 'hijklmn',\n",
       " 'ijklmno',\n",
       " 'jklmnop',\n",
       " 'klmnopq',\n",
       " 'lmnopqr',\n",
       " 'mnopqrs',\n",
       " 'nopqrst',\n",
       " 'opqrstu',\n",
       " 'pqrstuv',\n",
       " 'qrstuvw',\n",
       " 'rstuvwx',\n",
       " 'stuvwxy',\n",
       " 'tuvwxyz']"
      ]
     },
     "execution_count": 121,
     "metadata": {},
     "output_type": "execute_result"
    }
   ],
   "source": [
    "import string\n",
    "chunks(string.ascii_lowercase, 7)"
   ]
  },
  {
   "cell_type": "markdown",
   "metadata": {},
   "source": [
    "Using the [Shoelace formula](https://en.wikipedia.org/wiki/Shoelace_formula)"
   ]
  },
  {
   "cell_type": "code",
   "execution_count": 122,
   "metadata": {
    "collapsed": true
   },
   "outputs": [],
   "source": [
    "def shoelace(trace):\n",
    "    return abs(sum(s.x * t.y - t.x * s.y for s, t in chunks(trace, 2))) // 2"
   ]
  },
  {
   "cell_type": "code",
   "execution_count": 123,
   "metadata": {},
   "outputs": [
    {
     "data": {
      "text/plain": [
       "4"
      ]
     },
     "execution_count": 123,
     "metadata": {},
     "output_type": "execute_result"
    }
   ],
   "source": [
    "shoelace(trace_tour('FFLRLLFLRL'))"
   ]
  },
  {
   "cell_type": "code",
   "execution_count": 124,
   "metadata": {},
   "outputs": [
    {
     "data": {
      "text/plain": [
       "9"
      ]
     },
     "execution_count": 124,
     "metadata": {},
     "output_type": "execute_result"
    }
   ],
   "source": [
    "shoelace(trace_tour('FLLFFLFFFLFFLFLLRRFR'))"
   ]
  },
  {
   "cell_type": "code",
   "execution_count": 125,
   "metadata": {},
   "outputs": [
    {
     "data": {
      "text/plain": [
       "15"
      ]
     },
     "execution_count": 125,
     "metadata": {},
     "output_type": "execute_result"
    }
   ],
   "source": [
    "shoelace(trace_tour('FFRLLFRLLFFFRFLLRLLRRLLRLL'))"
   ]
  },
  {
   "cell_type": "code",
   "execution_count": 329,
   "metadata": {},
   "outputs": [],
   "source": [
    "def step(s, current):\n",
    "    if s == 'F':\n",
    "        return advance(current, current.dir)\n",
    "    elif s == 'L':\n",
    "        return advance(current, turn_left(current.dir))\n",
    "    elif s == 'R':\n",
    "        return advance(current, turn_right(current.dir))\n",
    "    else:\n",
    "        raise ValueError"
   ]
  },
  {
   "cell_type": "code",
   "execution_count": 507,
   "metadata": {},
   "outputs": [],
   "source": [
    "def valid_prefix(tour):\n",
    "    current = Step(0, 0, Direction.RIGHT)\n",
    "    prefix = []\n",
    "    posns = []\n",
    "    for s in tour:\n",
    "        current = step(s, current)\n",
    "        prefix += [s]\n",
    "        if (current.x, current.y) in posns:\n",
    "            return ''\n",
    "        elif current.x == 0 and current.y == 0: \n",
    "            return ''.join(prefix)\n",
    "        posns += [(current.x, current.y)]\n",
    "    if current.x == 0 and current.y == 0:\n",
    "        return ''.join(prefix)\n",
    "    else:\n",
    "        return ''"
   ]
  },
  {
   "cell_type": "code",
   "execution_count": 552,
   "metadata": {},
   "outputs": [],
   "source": [
    "def mistake_positions(tour, debug=False):\n",
    "    mistakes = []\n",
    "    current = Step(0, 0, Direction.RIGHT)\n",
    "    posns = [(0, 0)]\n",
    "    for i, s in enumerate(tour):\n",
    "        current = step(s, current)\n",
    "        if (current.x, current.y) in posns:\n",
    "            if debug: print(i, current)\n",
    "            mistakes += [(i+1, current)]\n",
    "        posns += [(current.x, current.y)]\n",
    "    if (current.x, current.y) == (0, 0):\n",
    "        return mistakes[:-1]\n",
    "    else:\n",
    "        return mistakes + [(len(tour)+1, current)]"
   ]
  },
  {
   "cell_type": "code",
   "execution_count": 550,
   "metadata": {
    "collapsed": true
   },
   "outputs": [],
   "source": [
    "def returns_to_origin(mistake_positions):\n",
    "    return [i for i, m in mistake_positions\n",
    "           if (m.x, m.y) == (0, 0)]"
   ]
  },
  {
   "cell_type": "code",
   "execution_count": 492,
   "metadata": {
    "collapsed": true
   },
   "outputs": [],
   "source": [
    "sample_tours = ['FFLRLLFLRL', 'FLLFFLFFFLFFLFLLRRFR', 'FFRLLFRLLFFFRFLLRLLRRLLRLL']"
   ]
  },
  {
   "cell_type": "code",
   "execution_count": 493,
   "metadata": {},
   "outputs": [
    {
     "data": {
      "text/plain": [
       "'FFLRLLFLRL'"
      ]
     },
     "execution_count": 493,
     "metadata": {},
     "output_type": "execute_result"
    }
   ],
   "source": [
    "valid_prefix(sample_tours[0])"
   ]
  },
  {
   "cell_type": "code",
   "execution_count": 494,
   "metadata": {
    "scrolled": true
   },
   "outputs": [
    {
     "data": {
      "text/plain": [
       "True"
      ]
     },
     "execution_count": 494,
     "metadata": {},
     "output_type": "execute_result"
    }
   ],
   "source": [
    "all(valid_prefix(t) == t for t in sample_tours)"
   ]
  },
  {
   "cell_type": "code",
   "execution_count": 495,
   "metadata": {},
   "outputs": [
    {
     "data": {
      "text/plain": [
       "False"
      ]
     },
     "execution_count": 495,
     "metadata": {},
     "output_type": "execute_result"
    }
   ],
   "source": [
    "valid_prefix(sample_tours[0] + 'FLLLL') == sample_tours[0]"
   ]
  },
  {
   "cell_type": "code",
   "execution_count": 526,
   "metadata": {},
   "outputs": [
    {
     "name": "stdout",
     "output_type": "stream",
     "text": [
      "9 Step(x=0, y=0, dir=<Direction.DOWN: 3>)\n"
     ]
    },
    {
     "data": {
      "text/plain": [
       "[(10, Step(x=0, y=0, dir=<Direction.DOWN: 3>)),\n",
       " (12, Step(x=0, y=-1, dir=<Direction.DOWN: 3>))]"
      ]
     },
     "execution_count": 526,
     "metadata": {},
     "output_type": "execute_result"
    }
   ],
   "source": [
    "mistake_positions(sample_tours[0] + 'F')"
   ]
  },
  {
   "cell_type": "code",
   "execution_count": 527,
   "metadata": {},
   "outputs": [
    {
     "name": "stdout",
     "output_type": "stream",
     "text": [
      "9 Step(x=0, y=0, dir=<Direction.DOWN: 3>)\n",
      "12 Step(x=1, y=0, dir=<Direction.UP: 1>)\n",
      "13 Step(x=0, y=0, dir=<Direction.LEFT: 4>)\n",
      "14 Step(x=0, y=-1, dir=<Direction.DOWN: 3>)\n"
     ]
    },
    {
     "data": {
      "text/plain": [
       "[(10, Step(x=0, y=0, dir=<Direction.DOWN: 3>)),\n",
       " (13, Step(x=1, y=0, dir=<Direction.UP: 1>)),\n",
       " (14, Step(x=0, y=0, dir=<Direction.LEFT: 4>)),\n",
       " (15, Step(x=0, y=-1, dir=<Direction.DOWN: 3>)),\n",
       " (16, Step(x=0, y=-1, dir=<Direction.DOWN: 3>))]"
      ]
     },
     "execution_count": 527,
     "metadata": {},
     "output_type": "execute_result"
    }
   ],
   "source": [
    "mistake_positions(sample_tours[0] + 'FLLLL')"
   ]
  },
  {
   "cell_type": "code",
   "execution_count": 528,
   "metadata": {},
   "outputs": [
    {
     "data": {
      "text/plain": [
       "'FFLRLLFLRL'"
      ]
     },
     "execution_count": 528,
     "metadata": {},
     "output_type": "execute_result"
    }
   ],
   "source": [
    "(sample_tours[0] + 'FLLLL')[:10]"
   ]
  },
  {
   "cell_type": "code",
   "execution_count": 375,
   "metadata": {
    "collapsed": true
   },
   "outputs": [],
   "source": [
    "def random_walk(steps=1000):\n",
    "    return ''.join(random.choice('FLR') for _ in range(steps))"
   ]
  },
  {
   "cell_type": "code",
   "execution_count": 548,
   "metadata": {},
   "outputs": [
    {
     "data": {
      "text/plain": [
       "''"
      ]
     },
     "execution_count": 548,
     "metadata": {},
     "output_type": "execute_result"
    }
   ],
   "source": [
    "valid_prefix(random_walk(1000))"
   ]
  },
  {
   "cell_type": "code",
   "execution_count": 342,
   "metadata": {},
   "outputs": [
    {
     "data": {
      "text/plain": [
       "'FLFFLRFRLFRRRR'"
      ]
     },
     "execution_count": 342,
     "metadata": {},
     "output_type": "execute_result"
    }
   ],
   "source": [
    "valid_prefix(random_walk(1000), allowed_mistakes=1)"
   ]
  },
  {
   "cell_type": "code",
   "execution_count": 440,
   "metadata": {
    "scrolled": true
   },
   "outputs": [],
   "source": [
    "walks = []\n",
    "while len(walks) < 10:\n",
    "    w = valid_prefix(random_walk())\n",
    "    if len(w) > 30: walks += [w]"
   ]
  },
  {
   "cell_type": "code",
   "execution_count": 441,
   "metadata": {},
   "outputs": [
    {
     "data": {
      "text/plain": [
       "['LFRRFLLRFLRLLRFLRLFLRFLFFFRLLRLL',\n",
       " 'LRFFLFFFRLLRFRFFLRRFRLFLRFRLFRLRFFFF',\n",
       " 'FFFLRFRLRLFLRLFLFFFFFRFFRLLFFFLRLFFLRF',\n",
       " 'LFRLFFFFRLLRFFLLFFFRFFLLRFRLFLRFLF',\n",
       " 'LFLRRFLLRRFRFLFFRFFFFRRLLRFLRFRRLF',\n",
       " 'FLRLRLRFRLRFRLLFRFFRRLFRFLFLRRLR',\n",
       " 'RFRRFFFFRLRFLFRRLRFFFFRRFFLLFFRF',\n",
       " 'FFLFLRLFRLFFRFFLLFFRLLFRRLLRLFFF',\n",
       " 'RFFLFRRLRRLRLLFRFRLLRRLRFRLLRRFFRLFFLR',\n",
       " 'RFLFFLFRLFLRLFLRRLFFLRFLFLFRLLRF']"
      ]
     },
     "execution_count": 441,
     "metadata": {},
     "output_type": "execute_result"
    }
   ],
   "source": [
    "walks"
   ]
  },
  {
   "cell_type": "code",
   "execution_count": 350,
   "metadata": {},
   "outputs": [
    {
     "data": {
      "text/plain": [
       "[Step(x=0, y=0, dir=<Direction.RIGHT: 2>),\n",
       " Step(x=1, y=0, dir=<Direction.RIGHT: 2>),\n",
       " Step(x=1, y=1, dir=<Direction.UP: 1>),\n",
       " Step(x=0, y=1, dir=<Direction.LEFT: 4>),\n",
       " Step(x=0, y=0, dir=<Direction.DOWN: 3>)]"
      ]
     },
     "execution_count": 350,
     "metadata": {},
     "output_type": "execute_result"
    }
   ],
   "source": [
    "trace_tour('FLLL')"
   ]
  },
  {
   "cell_type": "code",
   "execution_count": 147,
   "metadata": {},
   "outputs": [
    {
     "data": {
      "text/plain": [
       "(-1, 3)"
      ]
     },
     "execution_count": 147,
     "metadata": {},
     "output_type": "execute_result"
    },
    {
     "data": {
      "image/png": "[encoded data removed]",
      "text/plain": [
       "<matplotlib.figure.Figure at 0x7fc85ef4c240>"
      ]
     },
     "metadata": {},
     "output_type": "display_data"
    }
   ],
   "source": [
    "import matplotlib.pyplot as plt\n",
    "%matplotlib inline\n",
    "plt.axis('on')\n",
    "plt.arrow(0, 0, 0.8, 0, head_width=0.1, head_length=0.1, fc='k', ec='k', length_includes_head=True)\n",
    "plt.arrow(0.2, 0, 0, 1, head_width=0.1, head_length=0.1, fc='k', ec='k', length_includes_head=True)\n",
    "plt.xlim([-1, 2])\n",
    "plt.ylim([-1, 3])"
   ]
  },
  {
   "cell_type": "code",
   "execution_count": 135,
   "metadata": {
    "collapsed": true
   },
   "outputs": [],
   "source": [
    "def bounds(trace):\n",
    "    return (max(s.x for s in trace),\n",
    "            max(s.y for s in trace),\n",
    "            min(s.x for s in trace),\n",
    "            min(s.y for s in trace))"
   ]
  },
  {
   "cell_type": "code",
   "execution_count": 136,
   "metadata": {},
   "outputs": [
    {
     "data": {
      "text/plain": [
       "(0, 2, -13, -13)"
      ]
     },
     "execution_count": 136,
     "metadata": {},
     "output_type": "execute_result"
    }
   ],
   "source": [
    "bounds(trace_tour('RFRFFLRFLFFRRFFRRRRLLLRRRRRRFRLFRFFRFFRRFRLRRFLLFRLLFRFLFLFRFRLLFRLFRFLRRLLFRRRFRRRRLLFLFRFRRFFRRLLLRLRRFRLRRFFRRFLFRRLLRRFFRFRRRRRFLLLLLRRFFFLLFFFRRLFLFFLRRRFRFLLFFRRLLRFLLRRF'))"
   ]
  },
  {
   "cell_type": "code",
   "execution_count": 148,
   "metadata": {
    "collapsed": true
   },
   "outputs": [],
   "source": [
    "plot_wh = {Direction.UP: (0, 1), Direction.LEFT: (-1, 0),\n",
    "           Direction.DOWN: (0, -1), Direction.RIGHT: (1, 0)}"
   ]
  },
  {
   "cell_type": "code",
   "execution_count": 214,
   "metadata": {
    "collapsed": true
   },
   "outputs": [],
   "source": [
    "def plot_trace(trace):\n",
    "    plt.axis('on')\n",
    "    plt.axes().set_aspect('equal')\n",
    "    for s, t in chunks(trace, 2):\n",
    "        w, h = plot_wh[t.dir]\n",
    "        plt.arrow(s.x, s.y, w, h, head_width=0.1, head_length=0.1, fc='k', ec='k', length_includes_head=True)\n",
    "    xh, yh, xl, yl = bounds(trace)\n",
    "    plt.xlim([xl-1, xh+1])\n",
    "    plt.ylim([yl-1, yh+1])"
   ]
  },
  {
   "cell_type": "code",
   "execution_count": 514,
   "metadata": {},
   "outputs": [
    {
     "data": {
      "image/png": "[encoded data removed]",
      "text/plain": [
       "<matplotlib.figure.Figure at 0x7fc85ef71c50>"
      ]
     },
     "metadata": {},
     "output_type": "display_data"
    }
   ],
   "source": [
    "plot_trace(trace_tour(sample_tours[0] + 'FLLLL'))"
   ]
  },
  {
   "cell_type": "code",
   "execution_count": 215,
   "metadata": {},
   "outputs": [
    {
     "data": {
      "image/png": "[encoded data removed]",
      "text/plain": [
       "<matplotlib.figure.Figure at 0x7fc85ef505f8>"
      ]
     },
     "metadata": {},
     "output_type": "display_data"
    }
   ],
   "source": [
    "plot_trace(trace_tour('FFFLLFFL'))"
   ]
  },
  {
   "cell_type": "code",
   "execution_count": 216,
   "metadata": {},
   "outputs": [
    {
     "data": {
      "text/plain": [
       "[Step(x=0, y=0, dir=<Direction.RIGHT: 2>),\n",
       " Step(x=1, y=0, dir=<Direction.RIGHT: 2>),\n",
       " Step(x=1, y=-1, dir=<Direction.DOWN: 3>),\n",
       " Step(x=1, y=-2, dir=<Direction.DOWN: 3>),\n",
       " Step(x=0, y=-2, dir=<Direction.LEFT: 4>),\n",
       " Step(x=-1, y=-2, dir=<Direction.LEFT: 4>),\n",
       " Step(x=-1, y=-3, dir=<Direction.DOWN: 3>),\n",
       " Step(x=-2, y=-3, dir=<Direction.LEFT: 4>),\n",
       " Step(x=-2, y=-2, dir=<Direction.UP: 1>),\n",
       " Step(x=-2, y=-1, dir=<Direction.UP: 1>),\n",
       " Step(x=-1, y=-1, dir=<Direction.RIGHT: 2>),\n",
       " Step(x=-1, y=0, dir=<Direction.UP: 1>),\n",
       " Step(x=0, y=0, dir=<Direction.RIGHT: 2>)]"
      ]
     },
     "execution_count": 216,
     "metadata": {},
     "output_type": "execute_result"
    }
   ],
   "source": [
    "trace_tour(walks[3])"
   ]
  },
  {
   "cell_type": "code",
   "execution_count": 405,
   "metadata": {},
   "outputs": [
    {
     "data": {
      "image/png": "[encoded data removed]",
      "text/plain": [
       "<matplotlib.figure.Figure at 0x7fc85eaef0f0>"
      ]
     },
     "metadata": {},
     "output_type": "display_data"
    }
   ],
   "source": [
    "plot_trace(trace_tour(walks[3]))"
   ]
  },
  {
   "cell_type": "code",
   "execution_count": 442,
   "metadata": {},
   "outputs": [
    {
     "data": {
      "text/plain": [
       "10"
      ]
     },
     "execution_count": 442,
     "metadata": {},
     "output_type": "execute_result"
    }
   ],
   "source": [
    "long_walks = [w for w in walks if len(w) >= 30]\n",
    "len(long_walks)"
   ]
  },
  {
   "cell_type": "code",
   "execution_count": 443,
   "metadata": {},
   "outputs": [
    {
     "data": {
      "image/png": "[encoded data removed]",
      "text/plain": [
       "<matplotlib.figure.Figure at 0x7fc85ebd9f28>"
      ]
     },
     "metadata": {},
     "output_type": "display_data"
    }
   ],
   "source": [
    "plot_trace(trace_tour(long_walks[0]))"
   ]
  },
  {
   "cell_type": "code",
   "execution_count": 444,
   "metadata": {},
   "outputs": [
    {
     "data": {
      "image/png": "[encoded data removed]",
      "text/plain": [
       "<matplotlib.figure.Figure at 0x7fc8640290b8>"
      ]
     },
     "metadata": {},
     "output_type": "display_data"
    }
   ],
   "source": [
    "plot_trace(trace_tour(long_walks[1]))"
   ]
  },
  {
   "cell_type": "code",
   "execution_count": 445,
   "metadata": {},
   "outputs": [
    {
     "data": {
      "image/png": "[encoded data removed]",
      "text/plain": [
       "<matplotlib.figure.Figure at 0x7fc85eddf7b8>"
      ]
     },
     "metadata": {},
     "output_type": "display_data"
    }
   ],
   "source": [
    "plot_trace(trace_tour(long_walks[2]))"
   ]
  },
  {
   "cell_type": "code",
   "execution_count": 446,
   "metadata": {},
   "outputs": [
    {
     "data": {
      "image/png": "[encoded data removed]",
      "text/plain": [
       "<matplotlib.figure.Figure at 0x7fc85ef41048>"
      ]
     },
     "metadata": {},
     "output_type": "display_data"
    }
   ],
   "source": [
    "plot_trace(trace_tour(long_walks[3]))"
   ]
  },
  {
   "cell_type": "code",
   "execution_count": 447,
   "metadata": {},
   "outputs": [
    {
     "data": {
      "image/png": "[encoded data removed]",
      "text/plain": [
       "<matplotlib.figure.Figure at 0x7fc85ef240f0>"
      ]
     },
     "metadata": {},
     "output_type": "display_data"
    }
   ],
   "source": [
    "plot_trace(trace_tour(long_walks[4]))"
   ]
  },
  {
   "cell_type": "code",
   "execution_count": 448,
   "metadata": {},
   "outputs": [
    {
     "data": {
      "image/png": "[encoded data removed]",
      "text/plain": [
       "<matplotlib.figure.Figure at 0x7fc87c3185c0>"
      ]
     },
     "metadata": {},
     "output_type": "display_data"
    }
   ],
   "source": [
    "plot_trace(trace_tour(long_walks[5]))"
   ]
  },
  {
   "cell_type": "code",
   "execution_count": 449,
   "metadata": {},
   "outputs": [
    {
     "data": {
      "image/png": "[encoded data removed]",
      "text/plain": [
       "<matplotlib.figure.Figure at 0x7fc85ec78198>"
      ]
     },
     "metadata": {},
     "output_type": "display_data"
    }
   ],
   "source": [
    "plot_trace(trace_tour(long_walks[6]))"
   ]
  },
  {
   "cell_type": "code",
   "execution_count": 450,
   "metadata": {},
   "outputs": [
    {
     "data": {
      "image/png": "[encoded data removed]",
      "text/plain": [
       "<matplotlib.figure.Figure at 0x7fc85f006a90>"
      ]
     },
     "metadata": {},
     "output_type": "display_data"
    }
   ],
   "source": [
    "plot_trace(trace_tour(long_walks[7]))"
   ]
  },
  {
   "cell_type": "code",
   "execution_count": 451,
   "metadata": {},
   "outputs": [
    {
     "data": {
      "image/png": "[encoded data removed]",
      "text/plain": [
       "<matplotlib.figure.Figure at 0x7fc85efd7208>"
      ]
     },
     "metadata": {},
     "output_type": "display_data"
    }
   ],
   "source": [
    "plot_trace(trace_tour(long_walks[8]))"
   ]
  },
  {
   "cell_type": "code",
   "execution_count": 416,
   "metadata": {},
   "outputs": [
    {
     "data": {
      "text/plain": [
       "['RFLRFFRFFFFRLRFRFFRLLFFFFFRRLRRL',\n",
       " 'FFFFRFRLRLFRLRLRFRRLLFFRFRLFLRRFLRRL',\n",
       " 'RLLRLFFFRFFLLRRLLFRLLRRFLLRRLLFFFFLRFLRF',\n",
       " 'FFLRRLFRLFLFFFFLLRFRLFFFFLLRLRRL',\n",
       " 'FLFRFLFRFFFLFRLFRLLFFLRRFLRLLFRLRLRRLLFFFRFLFLRLRL',\n",
       " 'LRFRLRFLFFFFFRRFLRLRFRLRLFRLFFRRLR',\n",
       " 'LRFLFLRLRRFLFFRRFFFLFRFFLRFRFLLRFFRRLLRFFRLRRFFLLRLR',\n",
       " 'LFRLFFFRLLRLLFFRRLLRLFFFLRRLLFFL',\n",
       " 'FLRFFLFFRLFRLLFRLLFFFRLFRRLFLFFL',\n",
       " 'LLRFRLRRLRLFRFFFFRLRFFLRFFRLRRLFRFFL']"
      ]
     },
     "execution_count": 416,
     "metadata": {},
     "output_type": "execute_result"
    }
   ],
   "source": [
    "walks"
   ]
  },
  {
   "cell_type": "code",
   "execution_count": 452,
   "metadata": {},
   "outputs": [
    {
     "data": {
      "image/png": "[encoded data removed]",
      "text/plain": [
       "<matplotlib.figure.Figure at 0x7fc85eaed1d0>"
      ]
     },
     "metadata": {},
     "output_type": "display_data"
    }
   ],
   "source": [
    "plot_trace(trace_tour('FLFFLRFRLFRRRR'))"
   ]
  },
  {
   "cell_type": "code",
   "execution_count": 582,
   "metadata": {},
   "outputs": [
    {
     "data": {
      "text/plain": [
       "(408, [8, 16, 20])"
      ]
     },
     "execution_count": 582,
     "metadata": {},
     "output_type": "execute_result"
    }
   ],
   "source": [
    "w = random_walk()\n",
    "ms = mistake_positions(w)\n",
    "len(ms), returns_to_origin(ms)"
   ]
  },
  {
   "cell_type": "code",
   "execution_count": 583,
   "metadata": {},
   "outputs": [
    {
     "data": {
      "image/png": "[encoded data removed]",
      "text/plain": [
       "<matplotlib.figure.Figure at 0x7fc85ce54208>"
      ]
     },
     "metadata": {},
     "output_type": "display_data"
    }
   ],
   "source": [
    "plot_trace(trace_tour(w))"
   ]
  },
  {
   "cell_type": "code",
   "execution_count": 488,
   "metadata": {},
   "outputs": [],
   "source": [
    "walks_m = {i: list() for i in range(4)}\n",
    "while all(len(w_m) < 10 for w_m in walks_m.values()):\n",
    "    w = random_walk()\n",
    "    ps = mistake_positions(w)\n",
    "    if not ps or ps[0][0] > 30:\n",
    "        walks_m[0] += [w[:ps[0][0]]]\n",
    "    if len(ps) >= 2\n",
    "        \n",
    "    if len(w) > 30: \n",
    "        walks_m[i] += [w]"
   ]
  },
  {
   "cell_type": "code",
   "execution_count": 489,
   "metadata": {},
   "outputs": [
    {
     "data": {
      "text/plain": [
       "{0: ['LRLRLRLFRFLFFLRFRRLRLFLLRFLRRLLFFFLRLRLLRLF',\n",
       "  'FFRLLFFFFRFLRFRLLRFFRFFFFFFLLRRLRRFFR',\n",
       "  'LFRRFLLRFFLFRLRFLRRLLFRRFLFLRRFFLFFLRFFLFFLFLFRRR',\n",
       "  'FLFLFFLRRFFFFLFRFFLFRFFLFFRLFRRR',\n",
       "  'LLFLLRFFRLLFRFLFRLRFFRFFLFFLRLFRLLFLFF',\n",
       "  'RFRRLRLLRRFLFFRRLRFFFLFRRLFLFLRRR',\n",
       "  'FFLFFRFLFLRLFFLLFRRFFFRLLFFFRFFRRR',\n",
       "  'LRRLFRFLRFFFFRLLRLRFLRFLLRRFRLLRFRLFLFLRRR',\n",
       "  'LRLFLRRFLFRRLRFRFLFLRLLFRRFFRLRFLLFL',\n",
       "  'RLRRLFLFRRLLFFRFRFLFFLRLFLRLRFLLFRFFFLRRFRFLFFRFLFRLFFRRR'],\n",
       " 1: ['RRFLRRLLFLRLRRLFRLFFFRLLFRFLFRRLLLL',\n",
       "  'LRLFFLRRFLLRLRRLLRLRFLRLFFLLLFLRRR',\n",
       "  'RFRRLFRLRLRRFLLRFLFFLRRFLRRFRRL',\n",
       "  'FFFRFLFRLFFLFLLLFLFFLRFFRFFFRRLRRLF',\n",
       "  'FLFRFFRLLRFRLLRFFRFLFLFLRFFFLRRLLLF',\n",
       "  'FRRLRLLFRFLRFRLRRFRFFFLRFFRLRFFLLFRFLRFFRLFRRLLL',\n",
       "  'FFLRLRFLFLRRFFLFFRRRFRLFLFRRLLFRFRLLFFLLF',\n",
       "  'FLRRFLRLFFFFRFLFLLLFFRFLFRLLFRRLLL',\n",
       "  'RFFFRFLLRFFRFFFRRRFLRLFRFFLRLLFLF',\n",
       "  'FFRFLFLLRRLRLFFRLFFLFRLFLRFFLLFFLF'],\n",
       " 2: ['FFLRFRFRLFRFFFFLRFRLRFRLFLLLRLFLRLFLLRLR',\n",
       "  'FFLFRLLRLRRFFRLFLRFFFFRLFLRFFLLLFRFLFRRLR',\n",
       "  'RRLFRRFFFLLRFFLFFLFFLFLRFRLLRFFLFFLFRLLFRF',\n",
       "  'FFRFLRLLRRFFRRLFFFFFFLLLFRFLFRFL',\n",
       "  'FFRFFFLFLFRLRFRRLRLLFFLLLFLRFLRFLLLL',\n",
       "  'FFFFFFFFFFFFFFLLFLFLFRLRFFLRFFRFLFRFLFRRLLRLRLRLFRFLFLLLL',\n",
       "  'LFFRFFRFFFFRFRLFFRLFRLFFLLRFRLLFLRFLRRLLFR',\n",
       "  'FRFRLRLLFFRFFLRFLRFRFLLFLRLFFLLL',\n",
       "  'LRLLLLRFLRRFFLFRFRFFLFLLRRLFRLFRLFLFFFFFFRFRFLFRLFFLRFFLRFRRLLRFFRRLRRL',\n",
       "  'FLRFLRLLRLRFRLRLLRFLFFLRLRLFRRRLLFLFFRFLLRLLRFLRLFRFLFRRR']}"
      ]
     },
     "execution_count": 489,
     "metadata": {},
     "output_type": "execute_result"
    }
   ],
   "source": [
    "walks_m"
   ]
  },
  {
   "cell_type": "code",
   "execution_count": 490,
   "metadata": {},
   "outputs": [
    {
     "data": {
      "image/png": "[encoded data removed]",
      "text/plain": [
       "<matplotlib.figure.Figure at 0x7fc85eae9c88>"
      ]
     },
     "metadata": {},
     "output_type": "display_data"
    }
   ],
   "source": [
    "plot_trace(trace_tour(walks_m[0][0]))"
   ]
  },
  {
   "cell_type": "code",
   "execution_count": null,
   "metadata": {
    "collapsed": true
   },
   "outputs": [],
   "source": []
  }
 ],
 "metadata": {
  "kernelspec": {
   "display_name": "Python 3",
   "language": "python",
   "name": "python3"
  },
  "language_info": {
   "codemirror_mode": {
    "name": "ipython",
    "version": 3
   },
   "file_extension": ".py",
   "mimetype": "text/x-python",
   "name": "python",
   "nbconvert_exporter": "python",
   "pygments_lexer": "ipython3",
   "version": "3.5.2+"
  }
 },
 "nbformat": 4,
 "nbformat_minor": 2
}
