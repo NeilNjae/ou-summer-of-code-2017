{
 "cells": [
  {
   "cell_type": "markdown",
   "metadata": {},
   "source": [
    "Given a sequence of {F|L|R}, each of which is \"move forward one step\", \"turn left, then move forward one step\", \"turn right, then move forward one step\":\n",
    "1. which tours are closed?\n",
    "2. what is the area enclosed by the tour?"
   ]
  },
  {
   "cell_type": "code",
   "execution_count": 4,
   "metadata": {
    "collapsed": true
   },
   "outputs": [],
   "source": [
    "import collections\n",
    "import enum\n",
    "import random\n",
    "import os\n",
    "\n",
    "import matplotlib.pyplot as plt\n",
    "%matplotlib inline\n"
   ]
  },
  {
   "cell_type": "code",
   "execution_count": 5,
   "metadata": {
    "collapsed": true
   },
   "outputs": [],
   "source": [
    "class Direction(enum.Enum):\n",
    "    UP = 1\n",
    "    RIGHT = 2\n",
    "    DOWN = 3\n",
    "    LEFT = 4\n",
    "    \n",
    "turn_lefts = {Direction.UP: Direction.LEFT, Direction.LEFT: Direction.DOWN,\n",
    "              Direction.DOWN: Direction.RIGHT, Direction.RIGHT: Direction.UP}\n",
    "\n",
    "turn_rights = {Direction.UP: Direction.RIGHT, Direction.RIGHT: Direction.DOWN,\n",
    "               Direction.DOWN: Direction.LEFT, Direction.LEFT: Direction.UP}\n",
    "\n",
    "def turn_left(d):\n",
    "    return turn_lefts[d]\n",
    "\n",
    "def turn_right(d):\n",
    "    return turn_rights[d]\n"
   ]
  },
  {
   "cell_type": "code",
   "execution_count": 6,
   "metadata": {
    "collapsed": true
   },
   "outputs": [],
   "source": [
    "Step = collections.namedtuple('Step', ['x', 'y', 'dir'])\n",
    "Mistake = collections.namedtuple('Mistake', ['i', 'step'])"
   ]
  },
  {
   "cell_type": "code",
   "execution_count": 7,
   "metadata": {
    "collapsed": true
   },
   "outputs": [],
   "source": [
    "def advance(step, d):\n",
    "    if d == Direction.UP:\n",
    "        return Step(step.x, step.y+1, d)\n",
    "    elif d == Direction.DOWN:\n",
    "        return Step(step.x, step.y-1, d)\n",
    "    elif d == Direction.LEFT:\n",
    "        return Step(step.x-1, step.y, d)\n",
    "    elif d == Direction.RIGHT:\n",
    "        return Step(step.x+1, step.y, d)"
   ]
  },
  {
   "cell_type": "code",
   "execution_count": 8,
   "metadata": {
    "collapsed": true
   },
   "outputs": [],
   "source": [
    "def step(s, current):\n",
    "    if s == 'F':\n",
    "        return advance(current, current.dir)\n",
    "    elif s == 'L':\n",
    "        return advance(current, turn_left(current.dir))\n",
    "    elif s == 'R':\n",
    "        return advance(current, turn_right(current.dir))\n",
    "    else:\n",
    "        raise ValueError"
   ]
  },
  {
   "cell_type": "code",
   "execution_count": 9,
   "metadata": {
    "collapsed": true
   },
   "outputs": [],
   "source": [
    "def trace_tour(tour, startx=0, starty=0, startdir=Direction.RIGHT):\n",
    "    current = Step(startx, starty, startdir)\n",
    "    trace = [current]\n",
    "    for s in tour:\n",
    "        current = step(s, current)\n",
    "        trace += [current]\n",
    "    return trace    "
   ]
  },
  {
   "cell_type": "code",
   "execution_count": 10,
   "metadata": {
    "collapsed": true
   },
   "outputs": [],
   "source": [
    "def positions(trace):\n",
    "    return [(s.x, s.y) for s in trace]"
   ]
  },
  {
   "cell_type": "code",
   "execution_count": 11,
   "metadata": {
    "collapsed": true
   },
   "outputs": [],
   "source": [
    "def valid(trace):\n",
    "    return (trace[-1].x == 0 \n",
    "            and trace[-1].y == 0 \n",
    "            and len(set(positions(trace))) + 1 == len(trace))"
   ]
  },
  {
   "cell_type": "code",
   "execution_count": 12,
   "metadata": {
    "collapsed": true
   },
   "outputs": [],
   "source": [
    "def valid_prefix(tour):\n",
    "    current = Step(0, 0, Direction.RIGHT)\n",
    "    prefix = []\n",
    "    posns = []\n",
    "    for s in tour:\n",
    "        current = step(s, current)\n",
    "        prefix += [s]\n",
    "        if (current.x, current.y) in posns:\n",
    "            return ''\n",
    "        elif current.x == 0 and current.y == 0: \n",
    "            return ''.join(prefix)\n",
    "        posns += [(current.x, current.y)]\n",
    "    if current.x == 0 and current.y == 0:\n",
    "        return ''.join(prefix)\n",
    "    else:\n",
    "        return ''"
   ]
  },
  {
   "cell_type": "code",
   "execution_count": 13,
   "metadata": {
    "collapsed": true
   },
   "outputs": [],
   "source": [
    "def mistake_positions(trace, debug=False):\n",
    "    mistakes = []\n",
    "    current = trace[0]\n",
    "    posns = [(0, 0)]\n",
    "    for i, current in enumerate(trace[1:]):\n",
    "        if (current.x, current.y) in posns:\n",
    "            if debug: print(i, current)\n",
    "            mistakes += [Mistake(i+1, current)]\n",
    "        posns += [(current.x, current.y)]\n",
    "    if (current.x, current.y) == (0, 0):\n",
    "        return mistakes[:-1]\n",
    "    else:\n",
    "        return mistakes + [Mistake(len(trace)+1, current)]"
   ]
  },
  {
   "cell_type": "code",
   "execution_count": 14,
   "metadata": {
    "collapsed": true
   },
   "outputs": [],
   "source": [
    "def returns_to_origin(mistake_positions):\n",
    "    return [i for i, m in mistake_positions\n",
    "           if (m.x, m.y) == (0, 0)]"
   ]
  },
  {
   "cell_type": "code",
   "execution_count": 15,
   "metadata": {
    "collapsed": true
   },
   "outputs": [],
   "source": [
    "sample_tours = ['FFLRLLFLRL', 'FLLFFLFFFLFFLFLLRRFR', 'FFRLLFRLLFFFRFLLRLLRRLLRLL']"
   ]
  },
  {
   "cell_type": "code",
   "execution_count": 16,
   "metadata": {
    "collapsed": true
   },
   "outputs": [],
   "source": [
    "def random_walk(steps=1000):\n",
    "    return ''.join(random.choice('FFLR') for _ in range(steps))"
   ]
  },
  {
   "cell_type": "code",
   "execution_count": 17,
   "metadata": {
    "collapsed": true
   },
   "outputs": [],
   "source": [
    "def bounds(trace):\n",
    "    return (max(s.x for s in trace),\n",
    "            max(s.y for s in trace),\n",
    "            min(s.x for s in trace),\n",
    "            min(s.y for s in trace))"
   ]
  },
  {
   "cell_type": "code",
   "execution_count": 18,
   "metadata": {
    "collapsed": true
   },
   "outputs": [],
   "source": [
    "plot_wh = {Direction.UP: (0, 1), Direction.LEFT: (-1, 0),\n",
    "           Direction.DOWN: (0, -1), Direction.RIGHT: (1, 0)}"
   ]
  },
  {
   "cell_type": "code",
   "execution_count": 27,
   "metadata": {
    "collapsed": true
   },
   "outputs": [],
   "source": [
    "def chunks(items, n=2):\n",
    "    return [items[i:i+n] for i in range(len(items) - n + 1)]"
   ]
  },
  {
   "cell_type": "code",
   "execution_count": 19,
   "metadata": {
    "collapsed": true
   },
   "outputs": [],
   "source": [
    "def plot_trace(trace, colour='k', highlight_start=True,\n",
    "               xybounds=None, fig=None, subplot_details=None, filename=None):\n",
    "    plt.axis('on')\n",
    "    plt.axes().set_aspect('equal')\n",
    "        \n",
    "    if highlight_start:\n",
    "        plt.axes().add_patch(plt.Circle((trace[0].x, trace[0].y), 0.2, color=colour))\n",
    "        \n",
    "    for s, t in chunks(trace, 2):\n",
    "        w, h = plot_wh[t.dir]\n",
    "        plt.arrow(s.x, s.y, w, h, head_width=0.1, head_length=0.1, fc=colour, ec=colour, length_includes_head=True)\n",
    "    xh, yh, xl, yl = bounds(trace)\n",
    "    if xybounds is not None:    \n",
    "        bxh, byh, bxl, byl = xybounds\n",
    "        plt.xlim([min(xl, bxl)-1, max(xh, bxh)+1])\n",
    "        plt.ylim([min(yl, byl)-1, max(yh, byh)+1])\n",
    "    else:\n",
    "        plt.xlim([xl-1, xh+1])\n",
    "        plt.ylim([yl-1, yh+1])\n",
    "    if filename:\n",
    "        plt.savefig(filename)"
   ]
  },
  {
   "cell_type": "code",
   "execution_count": 20,
   "metadata": {
    "collapsed": true
   },
   "outputs": [],
   "source": [
    "def trim_loop(tour, random_mistake=False):\n",
    "    trace = trace_tour(tour)\n",
    "    mistakes = mistake_positions(trace)\n",
    "    if random_mistake:\n",
    "        end_mistake_index = random.randrange(len(mistakes))\n",
    "    else:\n",
    "        end_mistake_index = 0\n",
    "#     print('end_mistake_index {} pointing to trace position {}; {} mistakes and {} in trace; {}'.format(end_mistake_index, mistakes[end_mistake_index].i, len(mistakes), len(trace), mistakes))\n",
    "    # while this mistake extends to the next step in the trace...\n",
    "    while (mistakes[end_mistake_index].i + 1 < len(trace) and \n",
    "           end_mistake_index + 1 < len(mistakes) and\n",
    "           mistakes[end_mistake_index].i + 1 == \n",
    "           mistakes[end_mistake_index + 1].i):\n",
    "#         print('end_mistake_index {} pointing to trace position {}; {} mistakes and {} in trace'.format(end_mistake_index, mistakes[end_mistake_index].i, len(mistakes), len(trace), mistakes))\n",
    "        # push this mistake finish point later\n",
    "        end_mistake_index += 1\n",
    "    mistake = mistakes[end_mistake_index]\n",
    "    \n",
    "    # find the first location that mentions where this mistake ends (which the point where the loop starts)\n",
    "    mistake_loop_start = max(i for i, loc in enumerate(trace[:mistake.i])\n",
    "                             if (loc.x, loc.y) == (mistake.step.x, mistake.step.y))\n",
    "#     print('Dealing with mistake from', mistake_loop_start, 'to', mistake.i, ', trace has len', len(trace))\n",
    "    \n",
    "    # direction before entering the loop\n",
    "    direction_before = trace[mistake_loop_start].dir\n",
    "    \n",
    "    # find the new instruction to turn from heading before the loop to heading after the loop\n",
    "    new_instruction = 'F'\n",
    "    if (mistake.i + 1) < len(trace):\n",
    "        if turn_left(direction_before) == trace[mistake.i + 1].dir:\n",
    "            new_instruction = 'L'\n",
    "        if turn_right(direction_before) == trace[mistake.i + 1].dir:\n",
    "            new_instruction = 'R'\n",
    "#     if (mistake.i + 1) < len(trace):\n",
    "#         print('turning from', direction_before, 'to', trace[mistake.i + 1].dir, 'with', new_instruction )\n",
    "#     else:\n",
    "#         print('turning from', direction_before, 'to BEYOND END', 'with', new_instruction )\n",
    "    return tour[:mistake_loop_start] + new_instruction + tour[mistake.i+1:]\n",
    "#     return mistake, mistake_loop_start, trace[mistake_loop_start-2:mistake_loop_start+8]"
   ]
  },
  {
   "cell_type": "code",
   "execution_count": 21,
   "metadata": {
    "collapsed": true
   },
   "outputs": [],
   "source": [
    "def trim_all_loops(tour, mistake_reduction_attempt_limit=10):\n",
    "    trace = trace_tour(tour)\n",
    "    mistake_limit = 1\n",
    "    if trace[-1].x == 0 and trace[-1].y == 0:\n",
    "        mistake_limit = 0\n",
    "    mistakes = mistake_positions(trace)\n",
    "    \n",
    "    old_mistake_count = len(mistakes)\n",
    "    mistake_reduction_tries = 0\n",
    "    \n",
    "    while len(mistakes) > mistake_limit and mistake_reduction_tries < mistake_reduction_attempt_limit:\n",
    "        tour = trim_loop(tour)\n",
    "        trace = trace_tour(tour)\n",
    "        mistakes = mistake_positions(trace)\n",
    "        if len(mistakes) < old_mistake_count:\n",
    "            old_mistake_count = len(mistakes)\n",
    "            mistake_reduction_tries = 0\n",
    "        else:\n",
    "            mistake_reduction_tries += 1\n",
    "    if mistake_reduction_tries >= mistake_reduction_attempt_limit:\n",
    "        return ''\n",
    "    else:\n",
    "        return tour"
   ]
  },
  {
   "cell_type": "code",
   "execution_count": 22,
   "metadata": {
    "collapsed": true
   },
   "outputs": [],
   "source": [
    "def reverse_tour(tour):\n",
    "    def swap(tour_step):\n",
    "        if tour_step == 'R':\n",
    "            return 'L'\n",
    "        elif tour_step == 'L':\n",
    "            return 'R'\n",
    "        else:\n",
    "            return tour_step\n",
    "        \n",
    "    return ''.join(swap(s) for s in reversed(tour))"
   ]
  },
  {
   "cell_type": "code",
   "execution_count": 23,
   "metadata": {
    "collapsed": true
   },
   "outputs": [],
   "source": [
    "def wander_near(locus, current, limit=10):\n",
    "    valid_proposal = False\n",
    "    while not valid_proposal:\n",
    "        s = random.choice('FFFRL')\n",
    "        if s == 'F':\n",
    "            proposed = advance(current, current.dir)\n",
    "        elif s == 'L':\n",
    "            proposed = advance(current, turn_left(current.dir))\n",
    "        elif s == 'R':\n",
    "            proposed = advance(current, turn_right(current.dir))\n",
    "        if abs(proposed.x - locus.x) < limit and abs(proposed.y - locus.y) < limit:\n",
    "            valid_proposal = True\n",
    "#     print('At {} going to {} by step {} to {}'.format(current, locus, s, proposed))\n",
    "    return s, proposed"
   ]
  },
  {
   "cell_type": "code",
   "execution_count": 24,
   "metadata": {
    "collapsed": true
   },
   "outputs": [],
   "source": [
    "def seek(goal, current):\n",
    "    dx = current.x - goal.x\n",
    "    dy = current.y - goal.y\n",
    "\n",
    "    if dx < 0 and abs(dx) > abs(dy): # to the left\n",
    "        side = 'left'\n",
    "        if current.dir == Direction.RIGHT:\n",
    "            s = 'F'\n",
    "        elif current.dir == Direction.UP:\n",
    "            s = 'R'\n",
    "        else:\n",
    "            s = 'L'\n",
    "    elif dx > 0 and abs(dx) > abs(dy): # to the right\n",
    "        side = 'right'\n",
    "        if current.dir == Direction.LEFT:\n",
    "            s = 'F'\n",
    "        elif current.dir == Direction.UP:\n",
    "            s = 'L'\n",
    "        else:\n",
    "            s = 'R'\n",
    "    elif dy > 0 and abs(dx) <= abs(dy): # above\n",
    "        side = 'above'\n",
    "        if current.dir == Direction.DOWN:\n",
    "            s = 'F'\n",
    "        elif current.dir == Direction.RIGHT:\n",
    "            s = 'R'\n",
    "        else:\n",
    "            s = 'L'\n",
    "    else: # below\n",
    "        side = 'below'\n",
    "        if current.dir == Direction.UP:\n",
    "            s = 'F'\n",
    "        elif current.dir == Direction.LEFT:\n",
    "            s = 'R'\n",
    "        else:\n",
    "            s = 'L'\n",
    "    if s == 'F':\n",
    "        proposed = advance(current, current.dir)\n",
    "    elif s == 'L':\n",
    "        proposed = advance(current, turn_left(current.dir))\n",
    "    elif s == 'R':\n",
    "        proposed = advance(current, turn_right(current.dir))\n",
    "        \n",
    "#     print('At {} going to {}, currently {},  by step {} to {}'.format(current, goal, side, s, proposed))\n",
    "\n",
    "    return s, proposed"
   ]
  },
  {
   "cell_type": "code",
   "execution_count": 25,
   "metadata": {
    "collapsed": true
   },
   "outputs": [],
   "source": [
    "def guided_walk(loci, locus_limit=5, wander_limit=10, seek_step_limit=20, return_anyway=False):\n",
    "    trail = ''\n",
    "    current = Step(0, 0, Direction.RIGHT)    \n",
    "    l = 0\n",
    "    finished = False\n",
    "    while not finished:\n",
    "        if abs(current.x - loci[l].x) < locus_limit and abs(current.y - loci[l].y) < locus_limit:\n",
    "            l += 1\n",
    "            if l == len(loci) - 1:\n",
    "                finished = True\n",
    "        s, proposed = wander_near(loci[l], current, limit=wander_limit)\n",
    "        trail += s\n",
    "        current = proposed\n",
    "#     print('!! Finished loci')\n",
    "    seek_steps = 0\n",
    "    while not (current.x == loci[l].x and current.y == loci[l].y) and seek_steps < seek_step_limit:\n",
    "#         error = max(abs(current.x - loci[l].x), abs(current.y - loci[l].y))\n",
    "#         s, proposed = wander_near(loci[l], current, limit=error+1)\n",
    "        s, proposed = seek(loci[l], current)\n",
    "        trail += s\n",
    "        current = proposed\n",
    "        seek_steps += 1\n",
    "    if seek_steps >= seek_step_limit and not return_anyway:\n",
    "        return ''\n",
    "    else:\n",
    "        return trail"
   ]
  },
  {
   "cell_type": "code",
   "execution_count": 28,
   "metadata": {},
   "outputs": [
    {
     "data": {
      "image/png": "[encoded data removed]",
      "text/plain": [
       "<matplotlib.figure.Figure at 0x7ffba4edcf60>"
      ]
     },
     "metadata": {},
     "output_type": "display_data"
    }
   ],
   "source": [
    "def square_tour(a=80):\n",
    "    \"a is width of square\"\n",
    "    return ('F' * a + 'L') * 4\n",
    "\n",
    "plot_trace(trace_tour(square_tour()))"
   ]
  },
  {
   "cell_type": "code",
   "execution_count": 29,
   "metadata": {},
   "outputs": [
    {
     "data": {
      "image/png": "[encoded data removed]",
      "text/plain": [
       "<matplotlib.figure.Figure at 0x7ffba4b355c0>"
      ]
     },
     "metadata": {},
     "output_type": "display_data"
    }
   ],
   "source": [
    "def cross_tour(a=50, b=40):\n",
    "    \"a is width of cross arm, b is length of cross arm\"\n",
    "    return ('F' *  a + 'L' + 'F' * b + 'R' + 'F' * b + 'L') * 4\n",
    "\n",
    "plot_trace(trace_tour(cross_tour()))"
   ]
  },
  {
   "cell_type": "code",
   "execution_count": 30,
   "metadata": {},
   "outputs": [
    {
     "data": {
      "image/png": "[encoded data removed]",
      "text/plain": [
       "<matplotlib.figure.Figure at 0x7ffba4bf1278>"
      ]
     },
     "metadata": {},
     "output_type": "display_data"
    }
   ],
   "source": [
    "def quincunx_tour(a=60, b=30, c=50):\n",
    "    \"a is length of indent, b is indent/outdent distance, c is outdent outer length\"\n",
    "    return ('F' * a + 'R' + 'F' * b + 'L' + 'F' * c + 'L' + 'F' * c + 'L' + 'F' * b + 'R') * 4\n",
    "plot_trace(trace_tour(quincunx_tour()))"
   ]
  },
  {
   "cell_type": "code",
   "execution_count": 31,
   "metadata": {},
   "outputs": [
    {
     "data": {
      "image/png": "[encoded data removed]",
      "text/plain": [
       "<matplotlib.figure.Figure at 0x7ffba49b3710>"
      ]
     },
     "metadata": {},
     "output_type": "display_data"
    }
   ],
   "source": [
    "heart_points = [Step(60, 50, Direction.UP), Step(50, 90, Direction.UP),\n",
    "                Step(20, 70, Direction.UP), \n",
    "                Step(-40, 90, Direction.UP), Step(-60, 80, Direction.UP), \n",
    "                Step(0, 0, Direction.RIGHT)]\n",
    "\n",
    "heart_tour = ''\n",
    "current = Step(0, 0, Direction.RIGHT)\n",
    "\n",
    "for hp in heart_points:\n",
    "    while not (current.x == hp.x and current.y == hp.y):\n",
    "        s, proposed = seek(hp, current)\n",
    "        heart_tour += s\n",
    "        current = proposed\n",
    "\n",
    "plot_trace(trace_tour(heart_tour))\n",
    "\n",
    "def heart_tour_func(): return heart_tour"
   ]
  },
  {
   "cell_type": "code",
   "execution_count": 32,
   "metadata": {
    "collapsed": true
   },
   "outputs": [],
   "source": [
    "def trim_some_mistakes(tour, mistake_limit):\n",
    "    trimmed_tour = rw\n",
    "    mistake_count = len(mistake_positions(trace_tour(trimmed_tour)))\n",
    "    while len(mistake_positions(trace_tour(trimmed_tour))) > mistake_limit:\n",
    "        trimmed_tour = trim_loop(trimmed_tour, random_mistake=True)\n",
    "    return trimmed_tour"
   ]
  },
  {
   "cell_type": "code",
   "execution_count": 33,
   "metadata": {},
   "outputs": [
    {
     "name": "stdout",
     "output_type": "stream",
     "text": [
      "cross.txt\t   small-squares.txt\t  tours.txt\r\n",
      "large-squares.txt  tours-open.txt\t  tours-with-mistakes.txt\r\n",
      "quincunx.txt\t   tours-random-walk.txt\r\n"
     ]
    }
   ],
   "source": [
    "!ls *txt"
   ]
  },
  {
   "cell_type": "code",
   "execution_count": 46,
   "metadata": {},
   "outputs": [
    {
     "data": {
      "text/plain": [
       "113"
      ]
     },
     "execution_count": 46,
     "metadata": {},
     "output_type": "execute_result"
    }
   ],
   "source": [
    "valid_tours = [t.strip() for t in open('tours.txt').readlines() if valid(trace_tour(t.strip()))]\n",
    "valid_tours += [t.strip() for t in open('tours-with-mistakes.txt').readlines() if valid(trace_tour(t.strip()))]\n",
    "valid_tours += [t.strip() for t in open('tours-open.txt').readlines() if valid(trace_tour(t.strip()))]\n",
    "valid_tours += [t.strip() for t in open('tours-random-walk.txt').readlines() if valid(trace_tour(t.strip()))]\n",
    "\n",
    "len(valid_tours)"
   ]
  },
  {
   "cell_type": "code",
   "execution_count": 35,
   "metadata": {},
   "outputs": [
    {
     "data": {
      "text/plain": [
       "True"
      ]
     },
     "execution_count": 35,
     "metadata": {},
     "output_type": "execute_result"
    }
   ],
   "source": [
    "all(valid(trace_tour(t)) for t in valid_tours)"
   ]
  },
  {
   "cell_type": "code",
   "execution_count": 47,
   "metadata": {},
   "outputs": [
    {
     "data": {
      "text/plain": [
       "(87, 0)"
      ]
     },
     "execution_count": 47,
     "metadata": {},
     "output_type": "execute_result"
    }
   ],
   "source": [
    "tours_with_mistakes = [t.strip() for t in open('tours-with-mistakes.txt').readlines() \n",
    "                       if not valid(trace_tour(t.strip()))]\n",
    "len(tours_with_mistakes)"
   ]
  },
  {
   "cell_type": "code",
   "execution_count": 48,
   "metadata": {},
   "outputs": [
    {
     "data": {
      "text/plain": [
       "100"
      ]
     },
     "execution_count": 48,
     "metadata": {},
     "output_type": "execute_result"
    }
   ],
   "source": [
    "tours_open = [t.strip() for t in open('tours-open.txt').readlines() \n",
    "                       if not valid(trace_tour(t.strip()))]\n",
    "len(tours_open)"
   ]
  },
  {
   "cell_type": "code",
   "execution_count": 50,
   "metadata": {},
   "outputs": [
    {
     "data": {
      "text/plain": [
       "(84, 116)"
      ]
     },
     "execution_count": 50,
     "metadata": {},
     "output_type": "execute_result"
    }
   ],
   "source": [
    "tours_walks_loops = [t.strip() for t in open('tours-random-walk.txt').readlines() \n",
    "                       if len(mistake_positions(trace_tour(t.strip()))) > 1]\n",
    "tours_walks_unloops = [t.strip() for t in open('tours-random-walk.txt').readlines() \n",
    "                       if len(mistake_positions(trace_tour(t.strip()))) == 1]\n",
    "len(tours_walks_loops), len(tours_walks_unloops)"
   ]
  },
  {
   "cell_type": "code",
   "execution_count": 51,
   "metadata": {},
   "outputs": [
    {
     "data": {
      "image/png": "[encoded data removed]",
      "text/plain": [
       "<matplotlib.figure.Figure at 0x7ffba4647c18>"
      ]
     },
     "metadata": {},
     "output_type": "display_data"
    }
   ],
   "source": [
    "plot_trace(trace_tour(tours_with_mistakes[31]))"
   ]
  },
  {
   "cell_type": "code",
   "execution_count": 54,
   "metadata": {},
   "outputs": [
    {
     "data": {
      "text/plain": [
       "65"
      ]
     },
     "execution_count": 54,
     "metadata": {},
     "output_type": "execute_result"
    }
   ],
   "source": [
    "sum(1 for t in valid_tours if len(t) > 100)"
   ]
  },
  {
   "cell_type": "code",
   "execution_count": 92,
   "metadata": {},
   "outputs": [
    {
     "data": {
      "text/plain": [
       "48"
      ]
     },
     "execution_count": 92,
     "metadata": {},
     "output_type": "execute_result"
    }
   ],
   "source": [
    "problem_set = [t for t in valid_tours if len(t) <= 100]\n",
    "len(problem_set)"
   ]
  },
  {
   "cell_type": "code",
   "execution_count": 93,
   "metadata": {},
   "outputs": [
    {
     "data": {
      "text/plain": [
       "(48, 65)"
      ]
     },
     "execution_count": 93,
     "metadata": {},
     "output_type": "execute_result"
    }
   ],
   "source": [
    "# problem_set += [t for t in valid_tours if len(t) > 100][0::2]\n",
    "valids_to_split = [t for t in valid_tours if len(t) > 100]\n",
    "len(problem_set), len(valids_to_split)"
   ]
  },
  {
   "cell_type": "code",
   "execution_count": 94,
   "metadata": {},
   "outputs": [
    {
     "data": {
      "text/plain": [
       "148"
      ]
     },
     "execution_count": 94,
     "metadata": {},
     "output_type": "execute_result"
    }
   ],
   "source": [
    "problem_set += random.sample(tours_with_mistakes + tours_open + tours_walks_loops + tours_walks_unloops, 100)\n",
    "len(problem_set)"
   ]
  },
  {
   "cell_type": "code",
   "execution_count": 95,
   "metadata": {},
   "outputs": [
    {
     "data": {
      "text/plain": [
       "2284"
      ]
     },
     "execution_count": 95,
     "metadata": {},
     "output_type": "execute_result"
    }
   ],
   "source": [
    "max(len(t) for t in valids_to_split)"
   ]
  },
  {
   "cell_type": "code",
   "execution_count": 96,
   "metadata": {},
   "outputs": [
    {
     "data": {
      "text/plain": [
       "1680"
      ]
     },
     "execution_count": 96,
     "metadata": {},
     "output_type": "execute_result"
    }
   ],
   "source": [
    "sum(len(t) for t in problem_set if valid(trace_tour(t)))"
   ]
  },
  {
   "cell_type": "code",
   "execution_count": 85,
   "metadata": {},
   "outputs": [
    {
     "data": {
      "text/plain": [
       "[]"
      ]
     },
     "execution_count": 85,
     "metadata": {},
     "output_type": "execute_result"
    }
   ],
   "source": [
    "[(i, j) \n",
    " for i in range(len(problem_set)) \n",
    " for j in range(len(problem_set))\n",
    " if i != j\n",
    " if valid(trace_tour(problem_set[i] + problem_set[j]))]"
   ]
  },
  {
   "cell_type": "code",
   "execution_count": 87,
   "metadata": {
    "scrolled": true
   },
   "outputs": [
    {
     "name": "stdout",
     "output_type": "stream",
     "text": [
      "attempting 0\n",
      "** found split for 0\n",
      "attempting 1\n",
      "attempting 2\n",
      "attempting 3\n",
      "attempting 4\n",
      "attempting 5\n",
      "attempting 6\n",
      "attempting 7\n",
      "attempting 8\n",
      "attempting 9\n",
      "attempting 10\n",
      "attempting 11\n",
      "** found split for 11\n",
      "attempting 12\n",
      "attempting 13\n",
      "attempting 14\n",
      "attempting 15\n",
      "attempting 16\n",
      "attempting 17\n",
      "** found split for 17\n",
      "attempting 18\n",
      "attempting 19\n",
      "attempting 20\n",
      "attempting 21\n",
      "attempting 22\n",
      "attempting 23\n",
      "attempting 24\n",
      "attempting 25\n",
      "attempting 26\n",
      "attempting 27\n",
      "attempting 28\n",
      "attempting 29\n",
      "** found split for 29\n",
      "attempting 30\n",
      "attempting 31\n",
      "attempting 32\n",
      "attempting 33\n",
      "attempting 34\n",
      "** found split for 34\n",
      "attempting 35\n",
      "attempting 36\n",
      "attempting 37\n",
      "attempting 38\n",
      "** found split for 38\n",
      "attempting 39\n",
      "attempting 40\n",
      "attempting 41\n",
      "** found split for 41\n",
      "attempting 42\n",
      "attempting 43\n",
      "attempting 44\n",
      "attempting 45\n",
      "attempting 46\n",
      "attempting 47\n",
      "attempting 48\n",
      "** found split for 48\n",
      "attempting 49\n",
      "** found split for 49\n",
      "attempting 50\n",
      "** found split for 50\n",
      "attempting 51\n",
      "attempting 52\n",
      "attempting 53\n",
      "attempting 54\n",
      "attempting 55\n",
      "attempting 56\n",
      "attempting 57\n",
      "** found split for 57\n",
      "attempting 58\n",
      "attempting 59\n",
      "** found split for 59\n",
      "attempting 60\n",
      "attempting 61\n",
      "attempting 62\n",
      "** found split for 62\n",
      "attempting 63\n",
      "attempting 64\n"
     ]
    }
   ],
   "source": [
    "split_valids = []\n",
    "unsplit_valids = []\n",
    "i = 0\n",
    "for v in valids_to_split:\n",
    "    can_add = False\n",
    "    attempts_remaining = 500\n",
    "    print('attempting', i)\n",
    "    while not can_add and attempts_remaining > 0:\n",
    "        # print('splitting', i, 'attempt', attempts_remaining)\n",
    "        attempts_remaining -= 1\n",
    "#         split_pos = len(v) // 2 + random.randrange(10)\n",
    "        split_pos = random.randint(20, len(v) - 40)\n",
    "        vl = v[:split_pos]\n",
    "        vr = v[split_pos:]\n",
    "        can_add = True\n",
    "        if valid(trace_tour(vr + vl)): can_add = False\n",
    "        for other in problem_set:\n",
    "            if can_add and valid(trace_tour(other + vl)): can_add = False\n",
    "            if can_add and valid(trace_tour(other + vr)): can_add = False\n",
    "            if can_add and valid(trace_tour(vl + other)): can_add = False\n",
    "            if can_add and valid(trace_tour(vr + other)): can_add = False\n",
    "        for other in split_valids:\n",
    "            if can_add and valid(trace_tour(other + vl)): can_add = False\n",
    "            if can_add and valid(trace_tour(other + vr)): can_add = False\n",
    "            if can_add and valid(trace_tour(vl + other)): can_add = False\n",
    "            if can_add and valid(trace_tour(vr + other)): can_add = False\n",
    "    if can_add:\n",
    "        split_valids += [vl, vr]\n",
    "        print('** found split for', i)\n",
    "    else:\n",
    "        unsplit_valids += [v]\n",
    "    i += 1"
   ]
  },
  {
   "cell_type": "code",
   "execution_count": 97,
   "metadata": {},
   "outputs": [
    {
     "data": {
      "text/plain": [
       "['RLFLRFRLLFFRRLFFFRFLLFFFLFLRFRFFFRFLLFRFRFFFFRFFLFLFLRRFRFFFFLFFFFFFRLFLFLFRRFFFLFRFFRRFLLFFFRFRFFLRLFFLFRFFFLFFFFLRFFFFFLFFRLFFFFFFFFRFFFFFFRFFFFFFRLFFFLFRFRFLFFFFLFFFFFFLRFFFFLRLFFRFFRFLFFFFFFFLFLRFRLFFFFFFRLRFFLFFRFRLFFFRLFRLFFFLFFRLFLFFLFRRFFFLRFFLFFLRFFRFLRFFFLFFRFFLRFFFFFRFLFRLFRRFLFFFFRRFLRLFLFFFFFFLFFFFFFRFLRLFRLFLFFRFFLFFFFFFRRFFFLLFFRFFLRFFRRLLFRFFFFFFLFFFLFFFLRFFLFRRFLRLRFFFRFLFFFFFRLRFLFLFFRRFLFFFRLLFRLLRRLFLFRFFRFLFFFFRFFFLFFLFRFRFLRFFFFFLRFLFLFFFRFFFLFRRFLFLFFLFFRFFFFFFRRFLFFRFFFLRFLFFFFFFFFLRFFRRLFFFFFLRLFFFFFRLFFFFFFFFFFFLRFFLFRFFFFLRLLFRFRLRFFFLFLFFFRFFFFFRFFRFFLFRLLFRFLRFFFFLFFLFRFFFRLFFRRFLRLFLFFFLRFLRFFFFFFLFFFRFRFFFFFF',\n",
       " 'LLRRLFFFFFFFLFFFRFFFFFFFLLRFFRFFFRFFFLLFFRLRFFFLFRFFRFLFRFFFRFLLFFLFFFFFFRRFLRFRLFFFLFFFFFFFFLFFRLFFFFRFFFRFFFLFFFRLR',\n",
       " 'RLFFFLFFFRFFFRFFLFFLFFRFFFFLFFRFRFFFRFLLRLFFFFLFFRFRFFRLRFFLFLFFRFFLFLRFRFFFLFFFLFRFLFFFFRRLFRFLFFFFFFLFRFFLFRFFFFFFFFLLFRFFFLFRFFRFFFFFFFRRLFLLRFFRLFRLFFFLFFRFFRFRFLFFLFFRFFFRLLFFFLFFFLRFFFFFFRLFRFFLFFFFRLFFRRLLFFFFLRLFFFFRFRFFLFFFFFFFFLFFRRFFFFLFFFFLFLFFRFFFRFFFFFRLRFFFFFRFLFFFLFFFFLFFFFFRFFFFFFLFFFRFLLFFFRFRFFFFLRFFFRLFFRLFFRFLRFFFFFFFFFFLRFLFFFFFFRLFFFFLRLFRLFRLFFFRFLRFFLRFLFFFFFFFFFFFFFFLFFRLFFFRLFFFFFFFRFLRFRLFFFRLFRFFFFFFFFFFFFFLFFFFFFFFFFFLLRFFLFFRLFRFLRFFFLRFFFFFFRFFRLFRLFFFLRFFFFRFFRFFFFFFFFFFLFFFFFFLFLRFFFFRFLLFRFLRFFRFFFLFRFLFRLFFFFFFFFLFLFRFFFFLFFRFFFFRLRRFFLLFFRFLFRFFFFFFLRFFFFFRFFFRFRFLFFLFLRLRLFFLRFFLFFRFFFFLFFFFFLFFFFFRLFFFFRFFFFFRFFFFFFFFFFRFLFFFFFLRLLFFFFRFFFRFLRFFLFFFFLFRRFLFFFFLRFFRLFFLFFFFLRFFLFRRFFFFRFLFFFRFL',\n",
       " 'FLFFRRFFFFRLLFFFLFLLRRFFFRFFFLRFFFLFLFFRRFFFFLLFRFFLFRFFRFFFRFLFFFFRLFFFLRFFFFRFRLFFRLLFFFFFF']"
      ]
     },
     "execution_count": 97,
     "metadata": {},
     "output_type": "execute_result"
    }
   ],
   "source": [
    "split_valids[:4]"
   ]
  },
  {
   "cell_type": "code",
   "execution_count": 98,
   "metadata": {},
   "outputs": [
    {
     "data": {
      "text/plain": [
       "[(0, 1),\n",
       " (2, 3),\n",
       " (4, 5),\n",
       " (6, 7),\n",
       " (8, 9),\n",
       " (10, 11),\n",
       " (12, 13),\n",
       " (14, 15),\n",
       " (16, 17),\n",
       " (18, 19),\n",
       " (20, 21),\n",
       " (22, 23),\n",
       " (24, 25)]"
      ]
     },
     "execution_count": 98,
     "metadata": {},
     "output_type": "execute_result"
    }
   ],
   "source": [
    "[(i, j) \n",
    " for i in range(len(split_valids)) \n",
    " for j in range(len(split_valids))\n",
    " if i != j\n",
    " if valid(trace_tour(split_valids[i] + split_valids[j]))]"
   ]
  },
  {
   "cell_type": "code",
   "execution_count": 99,
   "metadata": {},
   "outputs": [
    {
     "data": {
      "text/plain": [
       "226"
      ]
     },
     "execution_count": 99,
     "metadata": {},
     "output_type": "execute_result"
    }
   ],
   "source": [
    "problem_set += (split_valids + unsplit_valids)\n",
    "len(problem_set)"
   ]
  },
  {
   "cell_type": "code",
   "execution_count": 100,
   "metadata": {
    "collapsed": true
   },
   "outputs": [],
   "source": [
    "with open('06-tours.txt', 'w') as f:\n",
    "    f.writelines(t + '\\n' for t in random.sample(problem_set, len(problem_set)))"
   ]
  },
  {
   "cell_type": "code",
   "execution_count": null,
   "metadata": {
    "collapsed": true
   },
   "outputs": [],
   "source": []
  }
 ],
 "metadata": {
  "kernelspec": {
   "display_name": "Python 3",
   "language": "python",
   "name": "python3"
  },
  "language_info": {
   "codemirror_mode": {
    "name": "ipython",
    "version": 3
   },
   "file_extension": ".py",
   "mimetype": "text/x-python",
   "name": "python",
   "nbconvert_exporter": "python",
   "pygments_lexer": "ipython3",
   "version": "3.5.2+"
  }
 },
 "nbformat": 4,
 "nbformat_minor": 2
}
