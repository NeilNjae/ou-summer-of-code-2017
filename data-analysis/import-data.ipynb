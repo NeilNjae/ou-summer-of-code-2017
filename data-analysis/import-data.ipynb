{
 "cells": [
  {
   "cell_type": "code",
   "execution_count": 1,
   "metadata": {
    "collapsed": true
   },
   "outputs": [],
   "source": [
    "# Import the required libraries and open the connection to Mongo\n",
    "\n",
    "import collections\n",
    "from datetime import datetime\n",
    "import matplotlib as mpl\n",
    "import matplotlib.pyplot as plt\n",
    "%matplotlib inline\n",
    "\n",
    "import numpy as np\n",
    "import pandas as pd\n",
    "import scipy.stats\n",
    "\n",
    "import pymongo\n",
    "from bson.objectid import ObjectId\n",
    "# client = pymongo.MongoClient('mongodb://localhost:27117/')\n",
    "# client = pymongo.MongoClient('mongodb://ogedei:27017')\n",
    "client = pymongo.MongoClient('mongodb://localhost:27017')"
   ]
  },
  {
   "cell_type": "code",
   "execution_count": 2,
   "metadata": {
    "collapsed": true
   },
   "outputs": [],
   "source": [
    "# Connect to the database\n",
    "summerofcode_db = client.summerofcode\n",
    "imp = summerofcode_db.imp\n",
    "icmas = summerofcode_db.icmas"
   ]
  },
  {
   "cell_type": "code",
   "execution_count": 3,
   "metadata": {},
   "outputs": [
    {
     "name": "stdout",
     "output_type": "stream",
     "text": [
      "import-data.ipynb\r\n",
      "SUMMEROFCODE-Day 0 Warm up holiday prices-grades.csv\r\n",
      "SUMMEROFCODE-Day 10 Word search-grades.csv\r\n",
      "SUMMEROFCODE-Day 1 Choosing a holiday-grades.csv\r\n",
      "SUMMEROFCODE-Day 2 Lifts-grades.csv\r\n",
      "SUMMEROFCODE-Day 3 Door codes-grades.csv\r\n",
      "SUMMEROFCODE-Day 4 Beach labyrinth-grades.csv\r\n",
      "SUMMEROFCODE-Day 5 Laser display boards-grades.csv\r\n",
      "SUMMEROFCODE-Day 6 Tour guides-grades.csv\r\n",
      "SUMMEROFCODE-Day 7 Fixing the minibar-grades.csv\r\n",
      "SUMMEROFCODE-Day 8 Visa woes-grades.csv\r\n",
      "SUMMEROFCODE-Day 9 Resolving the bill-grades.csv\r\n",
      "survey-email_1.csv\r\n",
      "survey-email.csv\r\n",
      "task-analysis.ipynb\r\n",
      "winners.ipynb\r\n"
     ]
    }
   ],
   "source": [
    "!ls"
   ]
  },
  {
   "cell_type": "code",
   "execution_count": 4,
   "metadata": {
    "collapsed": true
   },
   "outputs": [],
   "source": [
    "def update_grades():\n",
    "    for i in imp.find(modifiers={\"$snapshot\": True}):\n",
    "        imp.update_one({'_id': i['_id']},\n",
    "            {'$set': {'grade': i['Grade/10']['00'],\n",
    "                      'q1': i['Q'][' 1 /5']['00'],\n",
    "                      'q2': i['Q'][' 2 /5']['00']},\n",
    "             '$unset': {'Grade/10': '', 'Q': ''}})"
   ]
  },
  {
   "cell_type": "code",
   "execution_count": 5,
   "metadata": {
    "collapsed": true
   },
   "outputs": [],
   "source": [
    "def update_dates():\n",
    "    for i in imp.find(modifiers={\"$snapshot\": True}):\n",
    "        starttime = datetime.strptime(i['Started on'].strip(), '%d %b %Y %H:%M')\n",
    "        if i['Completed'] == '-':\n",
    "            imp.update_one({'_id': i['_id']},\n",
    "                           {'$set': {'started': starttime},\n",
    "                            '$unset': {'Started on': '', 'Completed': '', 'Time taken': ''}})\n",
    "        else:\n",
    "            endtime = datetime.strptime(i['Completed'].strip(), '%d %b %Y %H:%M')\n",
    "            imp.update_one({'_id': i['_id']},\n",
    "                           {'$set': {'started': starttime,\n",
    "                                     'completed': endtime},\n",
    "                            '$unset': {'Started on': '', 'Completed': '', 'Time taken': ''}})"
   ]
  },
  {
   "cell_type": "code",
   "execution_count": 6,
   "metadata": {
    "collapsed": true
   },
   "outputs": [],
   "source": [
    "def merge_imported(icma_number):\n",
    "    icmas.delete_many({'icma_number': icma_number})\n",
    "\n",
    "    for i in imp.find(modifiers={\"$snapshot\": True}):\n",
    "        del i['_id']\n",
    "        i['icma_number'] = icma_number\n",
    "        icmas.insert_one(i)"
   ]
  },
  {
   "cell_type": "code",
   "execution_count": 7,
   "metadata": {},
   "outputs": [
    {
     "data": {
      "text/plain": [
       "['SUMMEROFCODE-Day 0 Warm up holiday prices-grades.csv',\n",
       " 'SUMMEROFCODE-Day 10 Word search-grades.csv',\n",
       " 'SUMMEROFCODE-Day 1 Choosing a holiday-grades.csv',\n",
       " 'SUMMEROFCODE-Day 2 Lifts-grades.csv',\n",
       " 'SUMMEROFCODE-Day 3 Door codes-grades.csv',\n",
       " 'SUMMEROFCODE-Day 4 Beach labyrinth-grades.csv',\n",
       " 'SUMMEROFCODE-Day 5 Laser display boards-grades.csv',\n",
       " 'SUMMEROFCODE-Day 6 Tour guides-grades.csv',\n",
       " 'SUMMEROFCODE-Day 7 Fixing the minibar-grades.csv',\n",
       " 'SUMMEROFCODE-Day 8 Visa woes-grades.csv',\n",
       " 'SUMMEROFCODE-Day 9 Resolving the bill-grades.csv']"
      ]
     },
     "execution_count": 7,
     "metadata": {},
     "output_type": "execute_result"
    }
   ],
   "source": [
    "csvs = !ls SUMMEROFCODE*csv\n",
    "csvs"
   ]
  },
  {
   "cell_type": "code",
   "execution_count": 8,
   "metadata": {},
   "outputs": [
    {
     "data": {
      "text/plain": [
       "<pymongo.results.DeleteResult at 0x7f7700eba5a0>"
      ]
     },
     "execution_count": 8,
     "metadata": {},
     "output_type": "execute_result"
    }
   ],
   "source": [
    "icmas.delete_many({})"
   ]
  },
  {
   "cell_type": "code",
   "execution_count": 9,
   "metadata": {},
   "outputs": [
    {
     "name": "stdout",
     "output_type": "stream",
     "text": [
      "SUMMEROFCODE-Day 0 Warm up holiday prices-grades.csv\n",
      "2017-07-30T19:43:58.575+0100\tconnected to: localhost\n",
      "2017-07-30T19:43:58.575+0100\tdropping: summerofcode.imp\n",
      "2017-07-30T19:43:58.592+0100\timported 292 documents\n",
      "SUMMEROFCODE-Day 10 Word search-grades.csv\n",
      "2017-07-30T19:43:58.948+0100\tconnected to: localhost\n",
      "2017-07-30T19:43:58.948+0100\tdropping: summerofcode.imp\n",
      "2017-07-30T19:43:58.950+0100\timported 60 documents\n",
      "SUMMEROFCODE-Day 1 Choosing a holiday-grades.csv\n",
      "2017-07-30T19:43:59.121+0100\tconnected to: localhost\n",
      "2017-07-30T19:43:59.121+0100\tdropping: summerofcode.imp\n",
      "2017-07-30T19:43:59.124+0100\timported 153 documents\n",
      "SUMMEROFCODE-Day 2 Lifts-grades.csv\n",
      "2017-07-30T19:43:59.366+0100\tconnected to: localhost\n",
      "2017-07-30T19:43:59.366+0100\tdropping: summerofcode.imp\n",
      "2017-07-30T19:43:59.369+0100\timported 102 documents\n",
      "SUMMEROFCODE-Day 3 Door codes-grades.csv\n",
      "2017-07-30T19:43:59.569+0100\tconnected to: localhost\n",
      "2017-07-30T19:43:59.569+0100\tdropping: summerofcode.imp\n",
      "2017-07-30T19:43:59.571+0100\timported 88 documents\n",
      "SUMMEROFCODE-Day 4 Beach labyrinth-grades.csv\n",
      "2017-07-30T19:43:59.753+0100\tconnected to: localhost\n",
      "2017-07-30T19:43:59.753+0100\tdropping: summerofcode.imp\n",
      "2017-07-30T19:43:59.756+0100\timported 97 documents\n",
      "SUMMEROFCODE-Day 5 Laser display boards-grades.csv\n",
      "2017-07-30T19:43:59.960+0100\tconnected to: localhost\n",
      "2017-07-30T19:43:59.960+0100\tdropping: summerofcode.imp\n",
      "2017-07-30T19:43:59.963+0100\timported 76 documents\n",
      "SUMMEROFCODE-Day 6 Tour guides-grades.csv\n",
      "2017-07-30T19:44:00.141+0100\tconnected to: localhost\n",
      "2017-07-30T19:44:00.142+0100\tdropping: summerofcode.imp\n",
      "2017-07-30T19:44:00.144+0100\timported 98 documents\n",
      "SUMMEROFCODE-Day 7 Fixing the minibar-grades.csv\n",
      "2017-07-30T19:44:00.337+0100\tconnected to: localhost\n",
      "2017-07-30T19:44:00.337+0100\tdropping: summerofcode.imp\n",
      "2017-07-30T19:44:00.339+0100\timported 54 documents\n",
      "SUMMEROFCODE-Day 8 Visa woes-grades.csv\n",
      "2017-07-30T19:44:00.496+0100\tconnected to: localhost\n",
      "2017-07-30T19:44:00.496+0100\tdropping: summerofcode.imp\n",
      "2017-07-30T19:44:00.498+0100\timported 60 documents\n",
      "SUMMEROFCODE-Day 9 Resolving the bill-grades.csv\n",
      "2017-07-30T19:44:00.660+0100\tconnected to: localhost\n",
      "2017-07-30T19:44:00.660+0100\tdropping: summerofcode.imp\n",
      "2017-07-30T19:44:00.662+0100\timported 42 documents\n"
     ]
    }
   ],
   "source": [
    "for csv in csvs:\n",
    "    print(csv)\n",
    "    qcsv = \"'{}'\".format(csv)\n",
    "    !mongoimport --drop --db summerofcode --collection imp --type csv --headerline --ignoreBlanks --file {qcsv}\n",
    "    imp.delete_many({'Surname': 'Overall average'})\n",
    "    update_grades()\n",
    "    update_dates()\n",
    "    merge_imported(int(csv.split()[1]))"
   ]
  },
  {
   "cell_type": "code",
   "execution_count": 10,
   "metadata": {},
   "outputs": [
    {
     "data": {
      "text/plain": [
       "1111"
      ]
     },
     "execution_count": 10,
     "metadata": {},
     "output_type": "execute_result"
    }
   ],
   "source": [
    "icmas.find({}, ['icma']).count()"
   ]
  },
  {
   "cell_type": "code",
   "execution_count": 11,
   "metadata": {},
   "outputs": [
    {
     "data": {
      "text/plain": [
       "[{'_id': 3, 'count': 87},\n",
       " {'_id': 2, 'count': 101},\n",
       " {'_id': 10, 'count': 59},\n",
       " {'_id': 0, 'count': 291},\n",
       " {'_id': 6, 'count': 97},\n",
       " {'_id': 1, 'count': 152},\n",
       " {'_id': 5, 'count': 75},\n",
       " {'_id': 4, 'count': 96},\n",
       " {'_id': 8, 'count': 59},\n",
       " {'_id': 7, 'count': 53},\n",
       " {'_id': 9, 'count': 41}]"
      ]
     },
     "execution_count": 11,
     "metadata": {},
     "output_type": "execute_result"
    }
   ],
   "source": [
    "pipeline = [{\"$group\": {\"_id\": \"$icma_number\", \"count\": {\"$sum\": 1}}}]\n",
    "list(icmas.aggregate(pipeline))"
   ]
  },
  {
   "cell_type": "code",
   "execution_count": null,
   "metadata": {
    "collapsed": true
   },
   "outputs": [],
   "source": []
  }
 ],
 "metadata": {
  "kernelspec": {
   "display_name": "Python 3",
   "language": "python",
   "name": "python3"
  },
  "language_info": {
   "codemirror_mode": {
    "name": "ipython",
    "version": 3
   },
   "file_extension": ".py",
   "mimetype": "text/x-python",
   "name": "python",
   "nbconvert_exporter": "python",
   "pygments_lexer": "ipython3",
   "version": "3.5.2+"
  }
 },
 "nbformat": 4,
 "nbformat_minor": 2
}
