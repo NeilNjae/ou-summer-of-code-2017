{
 "cells": [
  {
   "cell_type": "markdown",
   "metadata": {},
   "source": [
    "# Machine interpreter\n",
    "\n",
    "## Instructions\n",
    "\n",
    "After a good day sightseeing, it's back to the hotel and time for some refreshment. Unfortunately, the minibar in your room refuses to open. It's been hacked, with some ransomware! You'll need to provide the correct unlock code so you can get a nice, cold drink.\n",
    "\n",
    "You could pay a large chunk of bitcoin, or you could defeat the ransomware some other way. \n",
    "\n",
    "You quickly find the schematics of the minibar lock. It's a fairly simple machine. It has four registers, `a`, `b`, `c`, `d`, and a special purpose `pc` register for the program counter. Each register can hold a 64-bit value (far bigger than any number in the programs you'll be running). You can assume all registers hold zero when the program starts.\n",
    "\n",
    "On each clock tick, the machine executes the instruction pointed to by the `pc`, then increments `pc`. The machine halts when the machine tries to read from a location beyond the end of the program.\n",
    "\n",
    "The machine has only a few instructions. They're listed by handy mnemonics:\n",
    "\n",
    "| Instruction | Description |\n",
    "|:------------|:------------|\n",
    "| `inc r`     | increment contents of register `r` |\n",
    "| `dec r`     | decrement contents of register `r` |\n",
    "| `set r i`   | set contents of register `r` to literal value `i` |\n",
    "| `cpy r s`   | copy contents of register `r` into register `s` | \n",
    "| `jmp i`     | jump to instruction `i` places forward |\n",
    "| `jpz r i`   | jump to instruction `i` places forward if<br>register `r` contains zero, otherwise continue to next instruction |\n",
    "\n",
    "The `jmp` and `jpz` instructions jump relative to the current instruction, overriding the normal change in `pc`. `jmp -1` would jump back to the previous instruction; `jpz a 2` would skip the next instruction if register `a` contains zero.\n",
    "\n",
    "Before you start execution of a program, you can set the values of some registers.\n",
    "\n",
    "For example, this program multiplies the values in the a and b registers, leaving the result in the c register:\n",
    "\n",
    "```\n",
    "set c 0\n",
    "cpy a d\n",
    "jpz b 8\n",
    "dec b\n",
    "cpy d a\n",
    "jpz a 4\n",
    "inc c\n",
    "dec a\n",
    "jmp -3\n",
    "jmp -7\n",
    "set d 0\n",
    "```\n",
    "\n",
    "# Part 1\n",
    "\n",
    "You think you've worked out how to generate the code wanted by the ransomware. The program is given in `07-program.txt`, one instruction per line. \n",
    "\n",
    "Starting with register `a` holding 7, and all other registers holding zero, what does register `a` contain when the program finishes?"
   ]
  },
  {
   "cell_type": "markdown",
   "metadata": {},
   "source": [
    "It seems your guess of 7 as the starting value was wrong.\n",
    "\n",
    "# Part 2\n",
    "\n",
    "The program is still given in `07-program.txt`, one instruction per line. \n",
    "\n",
    "Starting with register `a` holding 937, and all other registers and memory locations holding zero, what does register `a` contain when the program finishes?"
   ]
  },
  {
   "cell_type": "code",
   "execution_count": 1,
   "metadata": {
    "collapsed": true
   },
   "outputs": [],
   "source": [
    "def new_machine():\n",
    "    return {'pc': 0, \n",
    "            'a': 0,\n",
    "            'b': 0, \n",
    "            'c': 0,\n",
    "            'd': 0,\n",
    "            'instructions': []}"
   ]
  },
  {
   "cell_type": "code",
   "execution_count": 2,
   "metadata": {
    "collapsed": true
   },
   "outputs": [],
   "source": [
    "def show_machine(machine):\n",
    "    return ', '.join('{}: {}'.format(sk, machine[int(sk) if sk.isnumeric() else sk]) \n",
    "                     for sk in sorted(str(k) for k in machine)\n",
    "                     if sk != 'instructions')"
   ]
  },
  {
   "cell_type": "code",
   "execution_count": 3,
   "metadata": {
    "collapsed": true
   },
   "outputs": [],
   "source": [
    "def inc(reg, machine):\n",
    "    machine[reg] += 1\n",
    "    machine['pc'] += 1"
   ]
  },
  {
   "cell_type": "code",
   "execution_count": 4,
   "metadata": {
    "collapsed": true
   },
   "outputs": [],
   "source": [
    "def dec(reg, machine):\n",
    "    machine[reg] -= 1\n",
    "    machine['pc'] += 1"
   ]
  },
  {
   "cell_type": "code",
   "execution_count": 5,
   "metadata": {
    "collapsed": true
   },
   "outputs": [],
   "source": [
    "def jmp(addr, machine):\n",
    "    machine['pc'] += addr"
   ]
  },
  {
   "cell_type": "code",
   "execution_count": 6,
   "metadata": {
    "collapsed": true
   },
   "outputs": [],
   "source": [
    "def jpz(reg, addr, machine):\n",
    "    if machine[reg] == 0:\n",
    "        machine['pc'] += addr\n",
    "    else:\n",
    "        machine['pc'] += 1"
   ]
  },
  {
   "cell_type": "code",
   "execution_count": 7,
   "metadata": {
    "collapsed": true
   },
   "outputs": [],
   "source": [
    "def set_literal(reg, literal, machine):\n",
    "    machine[reg] = literal\n",
    "    machine['pc'] += 1"
   ]
  },
  {
   "cell_type": "code",
   "execution_count": 8,
   "metadata": {
    "collapsed": true
   },
   "outputs": [],
   "source": [
    "def cpy(from_reg, to_reg, machine):\n",
    "    machine[to_reg] = machine[from_reg]\n",
    "    machine['pc'] += 1"
   ]
  },
  {
   "cell_type": "code",
   "execution_count": 9,
   "metadata": {
    "collapsed": true
   },
   "outputs": [],
   "source": [
    "instruction_table = {'inc': inc, 'dec': dec, 'jmp': jmp,\n",
    "                    'jpz': jpz, 'set': set_literal, 'cpy': cpy}\n",
    "numeric_args_table = {'jmp': [0], 'jpz': [1], 'set': [1], 'sto': [1], 'ld': [1]}"
   ]
  },
  {
   "cell_type": "code",
   "execution_count": 10,
   "metadata": {
    "collapsed": true
   },
   "outputs": [],
   "source": [
    "def parse(instruction):\n",
    "    words = instruction.split()\n",
    "    instr = words[0]\n",
    "    args = words[1:]\n",
    "    if instr in numeric_args_table:\n",
    "        for p in numeric_args_table[instr]:\n",
    "            args[p] = int(args[p])\n",
    "    return instruction_table[instr], args"
   ]
  },
  {
   "cell_type": "code",
   "execution_count": 11,
   "metadata": {},
   "outputs": [
    {
     "data": {
      "text/plain": [
       "{'a': 2, 'b': 1, 'c': 0, 'd': 0, 'instructions': [], 'pc': 3}"
      ]
     },
     "execution_count": 11,
     "metadata": {},
     "output_type": "execute_result"
    }
   ],
   "source": [
    "m = new_machine()\n",
    "inc('a', m)\n",
    "cargs = ['a', 'b']\n",
    "cpy(*cargs, m)\n",
    "inc('a', m)\n",
    "m"
   ]
  },
  {
   "cell_type": "code",
   "execution_count": 12,
   "metadata": {
    "collapsed": true
   },
   "outputs": [],
   "source": [
    "def program_from_instructions(prog, machine):\n",
    "    machine['instructions'] = [parse(instr) for instr in prog]"
   ]
  },
  {
   "cell_type": "code",
   "execution_count": 13,
   "metadata": {
    "collapsed": true
   },
   "outputs": [],
   "source": [
    "def unlabel_listing(listing):\n",
    "    labelled_instructions = [i.strip() for i in listing.split('\\n') \n",
    "                             if i.strip() \n",
    "                             if not i.strip().startswith('#')]\n",
    "    return replace_labels(labelled_instructions)    "
   ]
  },
  {
   "cell_type": "code",
   "execution_count": 14,
   "metadata": {
    "collapsed": true
   },
   "outputs": [],
   "source": [
    "# def program_from_listing(listing, machine):\n",
    "#     labelled_instructions = [i.strip() for i in listing.split('\\n') \n",
    "#                              if i.strip() \n",
    "#                              if not i.strip().startswith('#')]\n",
    "#     instructions = replace_labels(labelled_instructions)\n",
    "#     program_from_instructions(instructions, machine)"
   ]
  },
  {
   "cell_type": "code",
   "execution_count": 15,
   "metadata": {
    "collapsed": true
   },
   "outputs": [],
   "source": [
    "def program_from_listing(listing, machine):\n",
    "    instructions = unlabel_listing(listing)\n",
    "    program_from_instructions(instructions, machine)"
   ]
  },
  {
   "cell_type": "code",
   "execution_count": 16,
   "metadata": {
    "collapsed": true
   },
   "outputs": [],
   "source": [
    "def replace_labels(listing):\n",
    "    locations = {}\n",
    "    for n, i in enumerate(listing):\n",
    "        if ':' in i:\n",
    "            locations[i.split(':')[0]] = n\n",
    "\n",
    "    unlabelled_listing = []\n",
    "    for n, i in enumerate(listing):\n",
    "        instr = i.split()\n",
    "        if ':' in i:\n",
    "            instr = i.split(':')[1].split()\n",
    "        else:\n",
    "            instr = i.split()\n",
    "        terms = []\n",
    "        for term in instr:\n",
    "            if term in locations:\n",
    "                terms += [str(locations[term] - n)]\n",
    "            else:\n",
    "                terms += [term]\n",
    "        transformed_instr = ' '.join(terms)\n",
    "        unlabelled_listing += [transformed_instr]\n",
    "        \n",
    "    return unlabelled_listing    "
   ]
  },
  {
   "cell_type": "code",
   "execution_count": 17,
   "metadata": {},
   "outputs": [
    {
     "data": {
      "text/plain": [
       "['inc', 'a']"
      ]
     },
     "execution_count": 17,
     "metadata": {},
     "output_type": "execute_result"
    }
   ],
   "source": [
    "'fred: inc a'.split(':')[1].split()"
   ]
  },
  {
   "cell_type": "code",
   "execution_count": 18,
   "metadata": {},
   "outputs": [
    {
     "name": "stdout",
     "output_type": "stream",
     "text": [
      "set a 10\n",
      "dec a\n",
      "inc b\n",
      "jpz a 2\n",
      "jmp -3\n"
     ]
    }
   ],
   "source": [
    "program = \"\"\"\n",
    "      set a 10\n",
    "      # comment line\n",
    "      \n",
    "loop: dec a\n",
    "      inc b\n",
    "      jpz a 2\n",
    "      jmp loop\n",
    "\"\"\"\n",
    "labelled_instructions = [i.strip() for i in program.split('\\n') if i.strip() if not i.strip().startswith('#')]\n",
    "instructions = replace_labels(labelled_instructions)\n",
    "print('\\n'.join(instructions))"
   ]
  },
  {
   "cell_type": "code",
   "execution_count": 19,
   "metadata": {},
   "outputs": [
    {
     "name": "stdout",
     "output_type": "stream",
     "text": [
      "set a 10\n",
      "dec a\n",
      "inc b\n",
      "jpz a 2\n",
      "jmp -3\n"
     ]
    }
   ],
   "source": [
    "print('\\n'.join(unlabel_listing(program)))"
   ]
  },
  {
   "cell_type": "code",
   "execution_count": 20,
   "metadata": {
    "collapsed": true
   },
   "outputs": [],
   "source": [
    "def run(machine, initial_state=None, trace=False):\n",
    "    if initial_state:\n",
    "        machine.update(initial_state)\n",
    "    while machine['pc'] < len(machine['instructions']):\n",
    "        if trace:\n",
    "            print(show_machine(machine))\n",
    "        cmd, args = machine['instructions'][machine['pc']]\n",
    "        cmd(*args, machine)"
   ]
  },
  {
   "cell_type": "code",
   "execution_count": 21,
   "metadata": {
    "collapsed": true
   },
   "outputs": [],
   "source": [
    "def execute(listing, initial_state=None, trace=False):\n",
    "    m = new_machine()\n",
    "    program_from_listing(listing, m)\n",
    "    run(m, initial_state=initial_state, trace=trace)\n",
    "    return m"
   ]
  },
  {
   "cell_type": "code",
   "execution_count": 22,
   "metadata": {},
   "outputs": [
    {
     "data": {
      "text/plain": [
       "{'a': 3,\n",
       " 'b': 2,\n",
       " 'c': 0,\n",
       " 'd': 0,\n",
       " 'instructions': [(<function __main__.inc>, ['a']),\n",
       "  (<function __main__.inc>, ['a']),\n",
       "  (<function __main__.cpy>, ['a', 'b']),\n",
       "  (<function __main__.inc>, ['a'])],\n",
       " 'pc': 4}"
      ]
     },
     "execution_count": 22,
     "metadata": {},
     "output_type": "execute_result"
    }
   ],
   "source": [
    "program = \"\"\"\n",
    "inc a\n",
    "inc a\n",
    "cpy a b\n",
    "inc a\n",
    "\"\"\"\n",
    "execute(program)"
   ]
  },
  {
   "cell_type": "code",
   "execution_count": 23,
   "metadata": {},
   "outputs": [
    {
     "data": {
      "text/plain": [
       "{'a': 0,\n",
       " 'b': 10,\n",
       " 'c': 20,\n",
       " 'd': 0,\n",
       " 'instructions': [(<function __main__.set_literal>, ['a', 10]),\n",
       "  (<function __main__.dec>, ['a']),\n",
       "  (<function __main__.inc>, ['b']),\n",
       "  (<function __main__.jpz>, ['a', 2]),\n",
       "  (<function __main__.jmp>, [-3])],\n",
       " 'pc': 5}"
      ]
     },
     "execution_count": 23,
     "metadata": {},
     "output_type": "execute_result"
    }
   ],
   "source": [
    "program = \"\"\"\n",
    "set a 10\n",
    "dec a\n",
    "inc b\n",
    "jpz a 2\n",
    "jmp -3\n",
    "\"\"\"\n",
    "# m = new_machine()\n",
    "# program_from_listing(program, m)\n",
    "# run(m)\n",
    "execute(program, initial_state={'c': 20})"
   ]
  },
  {
   "cell_type": "code",
   "execution_count": 24,
   "metadata": {},
   "outputs": [
    {
     "data": {
      "text/plain": [
       "{'a': 0,\n",
       " 'b': 10,\n",
       " 'c': 20,\n",
       " 'd': 0,\n",
       " 'instructions': [(<function __main__.set_literal>, ['a', 10]),\n",
       "  (<function __main__.dec>, ['a']),\n",
       "  (<function __main__.inc>, ['b']),\n",
       "  (<function __main__.jpz>, ['a', 2]),\n",
       "  (<function __main__.jmp>, [-3])],\n",
       " 'pc': 5}"
      ]
     },
     "execution_count": 24,
     "metadata": {},
     "output_type": "execute_result"
    }
   ],
   "source": [
    "program = \"\"\"\n",
    "      set a 10\n",
    "loop: dec a\n",
    "      inc b\n",
    "      jpz a 2\n",
    "      jmp loop\n",
    "\"\"\"\n",
    "execute(program, initial_state={'c': 20})"
   ]
  },
  {
   "cell_type": "code",
   "execution_count": 25,
   "metadata": {},
   "outputs": [
    {
     "data": {
      "text/plain": [
       "{'a': 0,\n",
       " 'b': 1,\n",
       " 'c': 5,\n",
       " 'd': 0,\n",
       " 'instructions': [(<function __main__.cpy>, ['c', 'a']),\n",
       "  (<function __main__.set_literal>, ['b', 0]),\n",
       "  (<function __main__.dec>, ['a']),\n",
       "  (<function __main__.jpz>, ['b', 3]),\n",
       "  (<function __main__.dec>, ['b']),\n",
       "  (<function __main__.jmp>, [2]),\n",
       "  (<function __main__.inc>, ['b']),\n",
       "  (<function __main__.jpz>, ['a', 3]),\n",
       "  (<function __main__.jmp>, [-6])],\n",
       " 'pc': 10}"
      ]
     },
     "execution_count": 25,
     "metadata": {},
     "output_type": "execute_result"
    }
   ],
   "source": [
    "program = \"\"\"\n",
    "cpy c a\n",
    "set b 0\n",
    "dec a\n",
    "jpz b 3\n",
    "dec b\n",
    "jmp 2\n",
    "inc b\n",
    "jpz a 3\n",
    "jmp -6\n",
    "\"\"\"\n",
    "# m = new_machine()\n",
    "# program_from_listing(program, m)\n",
    "# run(m)\n",
    "execute(program, initial_state={'c': 5})"
   ]
  },
  {
   "cell_type": "code",
   "execution_count": 26,
   "metadata": {},
   "outputs": [
    {
     "data": {
      "text/plain": [
       "{'a': 0,\n",
       " 'b': 1,\n",
       " 'c': 5,\n",
       " 'd': 0,\n",
       " 'instructions': [(<function __main__.cpy>, ['c', 'a']),\n",
       "  (<function __main__.set_literal>, ['b', 0]),\n",
       "  (<function __main__.dec>, ['a']),\n",
       "  (<function __main__.jpz>, ['b', 3]),\n",
       "  (<function __main__.dec>, ['b']),\n",
       "  (<function __main__.jmp>, [2]),\n",
       "  (<function __main__.inc>, ['b']),\n",
       "  (<function __main__.jpz>, ['a', 2]),\n",
       "  (<function __main__.jmp>, [-6])],\n",
       " 'pc': 9}"
      ]
     },
     "execution_count": 26,
     "metadata": {},
     "output_type": "execute_result"
    }
   ],
   "source": [
    "# b holds parity of number in c: (c % 2)\n",
    "program = \"\"\"\n",
    "      cpy c a\n",
    "      set b 0\n",
    "loop: dec a\n",
    "      jpz b odd\n",
    "      dec b\n",
    "      jmp end\n",
    "odd:  inc b\n",
    "end:  jpz a 2\n",
    "      jmp loop\n",
    "\"\"\"\n",
    "# m = new_machine()\n",
    "# program_from_listing(program, m)\n",
    "# run(m)\n",
    "execute(program, initial_state={'c': 5})"
   ]
  },
  {
   "cell_type": "code",
   "execution_count": 27,
   "metadata": {},
   "outputs": [
    {
     "name": "stdout",
     "output_type": "stream",
     "text": [
      "cpy c a\n",
      "set b 0\n",
      "dec a\n",
      "jpz b 3\n",
      "dec b\n",
      "jmp 2\n",
      "inc b\n",
      "jpz a 2\n",
      "jmp -6\n"
     ]
    }
   ],
   "source": [
    "print('\\n'.join(unlabel_listing(program)))"
   ]
  },
  {
   "cell_type": "code",
   "execution_count": 28,
   "metadata": {},
   "outputs": [
    {
     "data": {
      "text/plain": [
       "'a: 0, b: 1, c: 8, d: 0, pc: 10'"
      ]
     },
     "execution_count": 28,
     "metadata": {},
     "output_type": "execute_result"
    }
   ],
   "source": [
    "# c holds floor(a/2)\n",
    "program = \"\"\"\n",
    "      set c 0\n",
    "      set b 0\n",
    "loop: dec a\n",
    "      jpz b odd\n",
    "      dec b\n",
    "      inc c\n",
    "      jmp end\n",
    "odd:  inc b\n",
    "end:  jpz a 2\n",
    "      jmp loop\n",
    "\"\"\"\n",
    "# m = new_machine()\n",
    "# program_from_listing(program, m)\n",
    "# run(m)\n",
    "show_machine(execute(program, initial_state={'a': 17}))"
   ]
  },
  {
   "cell_type": "code",
   "execution_count": 29,
   "metadata": {},
   "outputs": [
    {
     "name": "stdout",
     "output_type": "stream",
     "text": [
      "set c 0\n",
      "set b 0\n",
      "dec a\n",
      "jpz b 4\n",
      "dec b\n",
      "inc c\n",
      "jmp 2\n",
      "inc b\n",
      "jpz a 2\n",
      "jmp -7\n"
     ]
    }
   ],
   "source": [
    "print('\\n'.join(unlabel_listing(program)))"
   ]
  },
  {
   "cell_type": "code",
   "execution_count": 30,
   "metadata": {},
   "outputs": [
    {
     "data": {
      "text/plain": [
       "'a: 4, b: 0, c: 12, d: 0, pc: 9'"
      ]
     },
     "execution_count": 30,
     "metadata": {},
     "output_type": "execute_result"
    }
   ],
   "source": [
    "# c holds a * 3\n",
    "program = \"\"\"\n",
    "      set c 0\n",
    "      cpy a b\n",
    "      # start of main loop\n",
    "loop: jpz b end\n",
    "      dec b\n",
    "      inc c\n",
    "      inc c\n",
    "      inc c\n",
    "      jmp loop\n",
    "      \n",
    "      # end of program \n",
    "      \n",
    "end:  jmp 1\n",
    "\"\"\"\n",
    "# m = new_machine()\n",
    "# program_from_listing(program, m)\n",
    "# run(m)\n",
    "show_machine(execute(program, initial_state={'a': 4}))"
   ]
  },
  {
   "cell_type": "code",
   "execution_count": 31,
   "metadata": {},
   "outputs": [
    {
     "data": {
      "text/plain": [
       "'a: 0, b: 0, c: 27, d: 0, pc: 11'"
      ]
     },
     "execution_count": 31,
     "metadata": {},
     "output_type": "execute_result"
    }
   ],
   "source": [
    "# c holds a * b\n",
    "program = \"\"\"\n",
    "      set c 0\n",
    "      cpy a d\n",
    "loop: jpz b end      \n",
    "      dec b\n",
    "      cpy d a\n",
    "smul: jpz a emul\n",
    "      inc c\n",
    "      dec a\n",
    "      jmp smul\n",
    "emul: jmp loop \n",
    "      \n",
    "end:  set d 0\n",
    "\"\"\"\n",
    "m = new_machine()\n",
    "program_from_listing(program, m)\n",
    "run(m)\n",
    "show_machine(execute(program, initial_state={'a': 9, 'b': 3}))"
   ]
  },
  {
   "cell_type": "code",
   "execution_count": 32,
   "metadata": {},
   "outputs": [
    {
     "name": "stdout",
     "output_type": "stream",
     "text": [
      "set c 0\n",
      "cpy a d\n",
      "jpz b 8\n",
      "dec b\n",
      "cpy d a\n",
      "jpz a 4\n",
      "inc c\n",
      "dec a\n",
      "jmp -3\n",
      "jmp -7\n",
      "set d 0\n"
     ]
    }
   ],
   "source": [
    "print('\\n'.join(unlabel_listing(program)))"
   ]
  },
  {
   "cell_type": "code",
   "execution_count": 33,
   "metadata": {},
   "outputs": [
    {
     "name": "stdout",
     "output_type": "stream",
     "text": [
      "set c 0\n",
      "cpy a d\n",
      "jpz b 8\n",
      "dec b\n",
      "cpy d a\n",
      "jpz a 4\n",
      "inc c\n",
      "dec a\n",
      "jmp -3\n",
      "jmp -7\n",
      "set d 0\n"
     ]
    }
   ],
   "source": [
    "labelled_instructions = [i.strip() for i in program.split('\\n') if i.strip() if not i.strip().startswith('#')]\n",
    "instructions = replace_labels(labelled_instructions)\n",
    "print('\\n'.join(instructions))"
   ]
  },
  {
   "cell_type": "code",
   "execution_count": 34,
   "metadata": {},
   "outputs": [
    {
     "data": {
      "text/plain": [
       "'a: 2, b: 0, c: 10, d: 2, pc: 13'"
      ]
     },
     "execution_count": 34,
     "metadata": {},
     "output_type": "execute_result"
    }
   ],
   "source": [
    "# c holds a * b\n",
    "program = \"\"\"\n",
    "      set a 2\n",
    "      set b 5\n",
    "      set c 0\n",
    "      cpy a d\n",
    "loop: jpz b end      \n",
    "      dec b\n",
    "      cpy d a\n",
    "smul: jpz a emul\n",
    "      inc c\n",
    "      dec a\n",
    "      jmp smul\n",
    "emul: jmp loop \n",
    "      \n",
    "end:  cpy d a\n",
    "\"\"\"\n",
    "m = new_machine()\n",
    "program_from_listing(program, m)\n",
    "run(m)\n",
    "show_machine(execute(program, initial_state={'a': 9, 'b': 3}))"
   ]
  },
  {
   "cell_type": "code",
   "execution_count": 35,
   "metadata": {},
   "outputs": [
    {
     "name": "stdout",
     "output_type": "stream",
     "text": [
      "set a 2\n",
      "set b 5\n",
      "set c 0\n",
      "cpy a d\n",
      "jpz b 8\n",
      "dec b\n",
      "cpy d a\n",
      "jpz a 4\n",
      "inc c\n",
      "dec a\n",
      "jmp -3\n",
      "jmp -7\n",
      "cpy d a\n"
     ]
    }
   ],
   "source": [
    "labelled_instructions = [i.strip() for i in program.split('\\n') \n",
    "                             if i.strip() \n",
    "                             if not i.strip().startswith('#')]\n",
    "instructions = replace_labels(labelled_instructions)\n",
    "print('\\n'.join(instructions))"
   ]
  },
  {
   "cell_type": "code",
   "execution_count": 36,
   "metadata": {},
   "outputs": [
    {
     "data": {
      "text/plain": [
       "'a: 52, b: 0, c: 0, d: 0, pc: 48'"
      ]
     },
     "execution_count": 36,
     "metadata": {},
     "output_type": "execute_result"
    }
   ],
   "source": [
    "# Collatz. a initially holds value, but location 1 is used to store the current value as we're going along.\n",
    "# Location 2 holds number of steps taken\n",
    "# Location 3 holds max value reached\n",
    "program = \"\"\"\n",
    "      cpy a d\n",
    "      \n",
    "      set b 0\n",
    "      \n",
    "      # if a is one, finish, \n",
    "main: dec a\n",
    "      jpz a end\n",
    "      inc a\n",
    "      \n",
    "      # find parity of a\n",
    "      cpy a c\n",
    "      set b 0\n",
    "prty: dec c\n",
    "      jpz b odd\n",
    "      dec b\n",
    "      jmp prte\n",
    "odd:  inc b\n",
    "prte: jpz c 2\n",
    "      jmp prty\n",
    "      \n",
    "      # b == 0 means a even; b == 1 means a odd\n",
    "      jpz b isev\n",
    "\n",
    "      # c holds a * 3 + 1\n",
    "      cpy a b\n",
    "mul:  jpz b emul\n",
    "      dec b\n",
    "      inc c\n",
    "      inc c\n",
    "      inc c\n",
    "      jmp mul\n",
    "emul: inc c\n",
    "      cpy c a\n",
    "      jmp fin\n",
    "      \n",
    "      \n",
    "isev: set c 0\n",
    "      set b 0\n",
    "hlvl: dec a\n",
    "      jpz b oddh\n",
    "      dec b\n",
    "      inc c\n",
    "      jmp endh\n",
    "oddh: inc b\n",
    "endh: jpz a 2\n",
    "      jmp hlvl\n",
    "      cpy c a\n",
    "\n",
    "fin:  cpy a b\n",
    "      cpy d c\n",
    "maxc: jpz c this\n",
    "      jpz b othr\n",
    "      dec b\n",
    "      dec c\n",
    "      jmp maxc\n",
    "this: cpy a d\n",
    "othr: jmp main\n",
    "      \n",
    "      # end of program \n",
    "      \n",
    "end:  cpy d a\n",
    "      set c 0\n",
    "      set d 0\n",
    "\"\"\"\n",
    "# m = new_machine()\n",
    "# program_from_listing(program, m)\n",
    "# run(m)\n",
    "show_machine(execute(program, initial_state={'a': 7}))"
   ]
  },
  {
   "cell_type": "code",
   "execution_count": 37,
   "metadata": {},
   "outputs": [
    {
     "data": {
      "text/plain": [
       "40"
      ]
     },
     "execution_count": 37,
     "metadata": {},
     "output_type": "execute_result"
    }
   ],
   "source": [
    "13*3+1"
   ]
  },
  {
   "cell_type": "code",
   "execution_count": 38,
   "metadata": {
    "collapsed": true
   },
   "outputs": [],
   "source": [
    "def max_collatz(start):\n",
    "    mc = start\n",
    "    i = start\n",
    "    while i != 1:\n",
    "        if i % 2 == 0:\n",
    "            i = i // 2\n",
    "        else:\n",
    "            i = 3 * i + 1\n",
    "        if i > mc:\n",
    "            mc = i\n",
    "    return mc"
   ]
  },
  {
   "cell_type": "code",
   "execution_count": 39,
   "metadata": {},
   "outputs": [
    {
     "data": {
      "text/plain": [
       "52"
      ]
     },
     "execution_count": 39,
     "metadata": {},
     "output_type": "execute_result"
    }
   ],
   "source": [
    "max_collatz(7)"
   ]
  },
  {
   "cell_type": "code",
   "execution_count": 40,
   "metadata": {},
   "outputs": [
    {
     "data": {
      "text/plain": [
       "(250504, 937)"
      ]
     },
     "execution_count": 40,
     "metadata": {},
     "output_type": "execute_result"
    }
   ],
   "source": [
    "max([(max_collatz(i), i) for i in range(1, 1000)])"
   ]
  },
  {
   "cell_type": "code",
   "execution_count": 41,
   "metadata": {
    "scrolled": true
   },
   "outputs": [
    {
     "data": {
      "text/plain": [
       "[]"
      ]
     },
     "execution_count": 41,
     "metadata": {},
     "output_type": "execute_result"
    }
   ],
   "source": [
    "ans = []\n",
    "for i in range(1, 100):\n",
    "    m = execute(program, initial_state={'a': i})\n",
    "    c = max_collatz(i)\n",
    "    if m['a'] != c:\n",
    "        ans += [(i, m['a'], c)]\n",
    "ans"
   ]
  },
  {
   "cell_type": "code",
   "execution_count": 42,
   "metadata": {},
   "outputs": [
    {
     "data": {
      "text/plain": [
       "'a: 250504, b: 0, c: 0, d: 0, pc: 48'"
      ]
     },
     "execution_count": 42,
     "metadata": {},
     "output_type": "execute_result"
    }
   ],
   "source": [
    "show_machine(execute(program, initial_state={'a': 937}))"
   ]
  },
  {
   "cell_type": "code",
   "execution_count": 43,
   "metadata": {
    "collapsed": true
   },
   "outputs": [],
   "source": [
    "# labelled_instructions = [i.strip() for i in program.split('\\n') \n",
    "#                              if i.strip() \n",
    "#                              if not i.strip().startswith('#')]\n",
    "# instructions = replace_labels(labelled_instructions)\n",
    "# print('\\n'.join(instructions))\n",
    "# open('07-program.txt', 'w').write('\\n'.join(instructions))"
   ]
  },
  {
   "cell_type": "code",
   "execution_count": 44,
   "metadata": {},
   "outputs": [
    {
     "data": {
      "text/plain": [
       "{'a': 0,\n",
       " 'b': 3,\n",
       " 'c': 0,\n",
       " 'd': 0,\n",
       " 'instructions': [(<function __main__.dec>, ['a']),\n",
       "  (<function __main__.inc>, ['b']),\n",
       "  (<function __main__.jpz>, ['a', 2]),\n",
       "  (<function __main__.jmp>, [-3])],\n",
       " 'pc': 4}"
      ]
     },
     "execution_count": 44,
     "metadata": {},
     "output_type": "execute_result"
    }
   ],
   "source": [
    "# Adds a to b\n",
    "program = \"\"\"\n",
    "loop: dec a\n",
    "      inc b\n",
    "      jpz a 2\n",
    "      jmp loop\n",
    "\"\"\"\n",
    "execute(program, initial_state={'a': 3})"
   ]
  },
  {
   "cell_type": "code",
   "execution_count": 45,
   "metadata": {},
   "outputs": [
    {
     "name": "stdout",
     "output_type": "stream",
     "text": [
      "dec a\n",
      "inc b\n",
      "jpz a 2\n",
      "jmp -3\n"
     ]
    }
   ],
   "source": [
    "print('\\n'.join(unlabel_listing(program)))"
   ]
  },
  {
   "cell_type": "code",
   "execution_count": 46,
   "metadata": {},
   "outputs": [
    {
     "data": {
      "text/plain": [
       "{'a': 0,\n",
       " 'b': 7,\n",
       " 'c': 0,\n",
       " 'd': 0,\n",
       " 'instructions': [(<function __main__.dec>, ['a']),\n",
       "  (<function __main__.inc>, ['b']),\n",
       "  (<function __main__.jpz>, ['a', 2]),\n",
       "  (<function __main__.jmp>, [-3])],\n",
       " 'pc': 4}"
      ]
     },
     "execution_count": 46,
     "metadata": {},
     "output_type": "execute_result"
    }
   ],
   "source": [
    "# Adds a to b\n",
    "program = \"\"\"\n",
    "loop: dec a\n",
    "      inc b\n",
    "      jpz a 2\n",
    "      jmp loop\n",
    "\"\"\"\n",
    "execute(program, initial_state={'a': 3, 'b': 4})"
   ]
  },
  {
   "cell_type": "code",
   "execution_count": 47,
   "metadata": {},
   "outputs": [
    {
     "data": {
      "text/plain": [
       "{'a': 4,\n",
       " 'b': 8,\n",
       " 'c': 0,\n",
       " 'd': 0,\n",
       " 'instructions': [(<function __main__.set_literal>, ['b', 0]),\n",
       "  (<function __main__.set_literal>, ['c', 0]),\n",
       "  (<function __main__.jpz>, ['a', 11]),\n",
       "  (<function __main__.dec>, ['a']),\n",
       "  (<function __main__.inc>, ['b']),\n",
       "  (<function __main__.inc>, ['b']),\n",
       "  (<function __main__.inc>, ['c']),\n",
       "  (<function __main__.jpz>, ['a', 2]),\n",
       "  (<function __main__.jmp>, [-5]),\n",
       "  (<function __main__.dec>, ['c']),\n",
       "  (<function __main__.inc>, ['a']),\n",
       "  (<function __main__.jpz>, ['c', 2]),\n",
       "  (<function __main__.jmp>, [-3]),\n",
       "  (<function __main__.set_literal>, ['c', 0])],\n",
       " 'pc': 14}"
      ]
     },
     "execution_count": 47,
     "metadata": {},
     "output_type": "execute_result"
    }
   ],
   "source": [
    "# Puts double a in b, leaves a unchanged\n",
    "program = \"\"\"\n",
    "      set b 0\n",
    "      set c 0\n",
    "      jpz a end\n",
    "loop: dec a\n",
    "      inc b\n",
    "      inc b\n",
    "      inc c\n",
    "      jpz a 2\n",
    "      jmp loop\n",
    "lp2:  dec c\n",
    "      inc a\n",
    "      jpz c 2\n",
    "      jmp lp2\n",
    "end:  set c 0      \n",
    "\"\"\"\n",
    "execute(program, initial_state={'a': 4})"
   ]
  },
  {
   "cell_type": "code",
   "execution_count": 48,
   "metadata": {},
   "outputs": [
    {
     "name": "stdout",
     "output_type": "stream",
     "text": [
      "set b 0\n",
      "set c 0\n",
      "jpz a 11\n",
      "dec a\n",
      "inc b\n",
      "inc b\n",
      "inc c\n",
      "jpz a 2\n",
      "jmp -5\n",
      "dec c\n",
      "inc a\n",
      "jpz c 2\n",
      "jmp -3\n",
      "set c 0\n"
     ]
    }
   ],
   "source": [
    "print('\\n'.join(unlabel_listing(program)))"
   ]
  },
  {
   "cell_type": "code",
   "execution_count": null,
   "metadata": {
    "collapsed": true
   },
   "outputs": [],
   "source": []
  }
 ],
 "metadata": {
  "kernelspec": {
   "display_name": "Python 3",
   "language": "python",
   "name": "python3"
  },
  "language_info": {
   "codemirror_mode": {
    "name": "ipython",
    "version": 3
   },
   "file_extension": ".py",
   "mimetype": "text/x-python",
   "name": "python",
   "nbconvert_exporter": "python",
   "pygments_lexer": "ipython3",
   "version": "3.5.2+"
  }
 },
 "nbformat": 4,
 "nbformat_minor": 2
}
