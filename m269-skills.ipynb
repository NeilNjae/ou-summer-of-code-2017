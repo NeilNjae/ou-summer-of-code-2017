{
 "cells": [
  {
   "cell_type": "markdown",
   "metadata": {},
   "source": [
    "# Things M269 students know"
   ]
  },
  {
   "cell_type": "markdown",
   "metadata": {},
   "source": [
    "## Things they can do\n",
    "* Lists, list operations, sublist slices\n",
    "* Sets\n",
    "* Dictionaries\n",
    "* Integer, real, modular arithmetic.\n",
    "* Simple hashes\n",
    "* Graph search: DFS, BFS, best first search, Dijkstra's algorithm"
   ]
  },
  {
   "cell_type": "markdown",
   "metadata": {},
   "source": [
    "## Things they have libraries to do\n",
    "* Stack\n",
    "* Trees: properties, traversals\n",
    "* Priority queue\n",
    "* Sorts\n",
    "* Linear & KMP search\n",
    "* Generating minimal spanning trees,\n",
    "* Topological sorts\n",
    "* Knapsack problem"
   ]
  },
  {
   "cell_type": "markdown",
   "metadata": {},
   "source": [
    "## Things they have seen\n",
    "* Edit distance and dynamic programming\n",
    "* Minimax search\n",
    "* Genetic algorithms"
   ]
  },
  {
   "cell_type": "code",
   "execution_count": null,
   "metadata": {
    "collapsed": true
   },
   "outputs": [],
   "source": []
  }
 ],
 "metadata": {
  "kernelspec": {
   "display_name": "Python 3",
   "language": "python",
   "name": "python3"
  },
  "language_info": {
   "codemirror_mode": {
    "name": "ipython",
    "version": 3
   },
   "file_extension": ".py",
   "mimetype": "text/x-python",
   "name": "python",
   "nbconvert_exporter": "python",
   "pygments_lexer": "ipython3",
   "version": "3.5.2"
  }
 },
 "nbformat": 4,
 "nbformat_minor": 1
}
