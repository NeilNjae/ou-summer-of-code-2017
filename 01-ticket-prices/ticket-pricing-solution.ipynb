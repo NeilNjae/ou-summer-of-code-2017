{
 "cells": [
  {
   "cell_type": "markdown",
   "metadata": {},
   "source": [
    "# Ticket pricing\n",
    "\n",
    "You've been shopping around for a holiday package deal and its time to make your choice of which deal to go with. The file [01-holidays.txt](01-holidays.txt) contains a summary of your investigations. \n",
    "\n",
    "It's a simple text file, with one possible holiday package per line.\n",
    "\n",
    "Each line has four fields, separated by spaces. They are:\n",
    "* The deal ID, from the price comparison website you found it.\n",
    "* The holiday price, in whole pounds.\n",
    "* The location of the holiday, always a single word.\n",
    "* The number of nights you'd be staying. \n",
    "\n",
    "For example, the data file might look like this:\n",
    "\n",
    "```\n",
    "db61bb90 769 Morgantown 3\n",
    "202c898b5f 1284 Morgantown 21\n",
    "def36ffcd 1514 Giessenmestia 21\n",
    "389018bd0707 1052 Estacada 21\n",
    "a487c4270 782 Geoje-Si 14\n",
    "6caf2584a55 724 Stonington-Island 14\n",
    "199608abc5 1209 Nordkapp 21\n",
    "```"
   ]
  },
  {
   "cell_type": "markdown",
   "metadata": {},
   "source": [
    "## Part 1\n",
    "You have a budget of £1200. How many of the holidays can you afford?\n",
    "\n",
    "Given the example data above, you could afford four of the holidays: the trips to Estacada, Geoje-Si and Stonnington-Island, and the three-day trip to Morgantown. \n",
    "\n",
    "The 21 day trip to Morgantown and the trips to  Giessenmestia and Nordkapp are all too expensive."
   ]
  },
  {
   "cell_type": "markdown",
   "metadata": {},
   "source": [
    "# Part 2\n",
    "You don't just want _a_ holiday. You want the _best_ holiday. What is the code of the holiday which would give you the best value?\n",
    "\n",
    "The \"value\" of a holiday is the duration per pound. Because some destinations are better than others, you'll want to scale the value for some locations. For instance, a night in Timbuktu is worth three times as much as a holiday in Bletchley.\n",
    "\n",
    "Assume all holidays have a relative value of 1, apart from these destinations.\n",
    "\n",
    "| Destination | Score |\n",
    "|-------------|-------|\n",
    "| Almaty | 2.0 |\n",
    "| Brorfelde | 0.9 |\n",
    "| Estacada | 0.4 |\n",
    "| Jayuya | 0.6 |\n",
    "| Karlukovo | 2.2 |\n",
    "| Morgantown | 2.9 |\n",
    "| Nordkapp | 1.5 |\n",
    "| Nullarbor | 2.2 |\n",
    "| Puente-Laguna-Garzonkuala-Penyu | 0.4 |\n",
    "| Uzupis | 0.9 |\n",
    "\n",
    "## Example\n",
    "\n",
    "Given the holiday list above, the holiday to Geoje-Si (with the standard weighting of 1) has a value of $\\frac{14}{782} = 0.0179$ nights per pound. \n",
    "\n",
    "The trip to Estacada looks promising, at $\\frac{21}{1052} = 0.0200$ nights per pound. Unfortunately, the weighting for Estacada is low, to the adjusted cost is $0.4 \\times \\frac{21}{1052} = 0.00798$ nights per pound.\n",
    "\n",
    "The best value holiday is the 21 day trip to Morgantown, with a value of $2.9 \\times \\frac{21}{1284} = 0.0474$ nights per pound. Unfortunately, it's unaffordable. \n",
    "\n",
    "The best value affordable holiday is the trip to Stonnington Island, with $\\frac{14}{1284} = 0.0193$ nights per pound."
   ]
  },
  {
   "cell_type": "markdown",
   "metadata": {},
   "source": [
    "# Worked example of solving\n",
    "\n",
    "For those still getting to grips with things, I thought I'd show how I'd work through solving the day 1 task.\n",
    "\n",
    "My first step when looking at this kind of thing is to think about data structures and operations. What data do we have, and what do we need to do with it?\n",
    "\n",
    "We're given a list of holidays. In the first part of the task, we have to filter that list against some condition and count how many meet the condition. In the second part, we have to find the holiday with some maximal value. \n",
    "\n",
    "How to store holidays? We just need something we can walk over (iterate over). There are many choices. We could just use a list, or a set (if we assume each holiday is distinct), or a dict/map/hashmap, using the holiday ID as a key. They're all much of a sameness, so let's take the path of least resistance and use a list.\n",
    "\n",
    "How to represent each holiday? Each holiday is a record of four parts (ID, destination, price, duration). I could use a dict or (in Python) a namedtuple to store the parts. That has the advantage that it gives a name to each of the parts. The alternative is to use a list to store each holiday and refer to the parts by number. Either is good, but as this task is small, I'll be able to get away with just remembering four numbers and what they mean.\n",
    "\n",
    "So, my chosen representation is a list of lists. That's not the best representation, but it's good enough for this task."
   ]
  },
  {
   "cell_type": "markdown",
   "metadata": {},
   "source": [
    "Next step: reading the list of holidays. Let's just start by trying to read in the data file and split it into a list, one element for each holiday. Let's not try to sort out each holiday in that list at the moment.\n",
    "\n",
    "I could look through the Python documentation for how to do this, or I could hit a search engine. \n",
    "\n",
    "I'm not the first to have done that. Typing \"python read file lines\" suggests and autocomplete of \"python read file lines into a list\", which is spot on, and leads to a [StackOverflow post](https://stackoverflow.com/questions/3925614/how-do-you-read-a-file-into-a-list-in-python). Result!\n",
    "\n",
    "Let's try the top-rated answer, with some print statements to check what's going on:\n",
    "```\n",
    "with open('01-holidays.txt') as f:\n",
    "    lines = f.read().splitlines()\n",
    "print(len(lines), lines[0])\n",
    "```\n",
    "That gives output\n",
    "```\n",
    "124 dda7d369 1546 Uzupis 21\n",
    "```\n",
    "which looks right: 124 lines, and that's the first line in the file.\n",
    "\n",
    "Another quick search for splitting a string into a list points me in the direction of .split().\n",
    "\n",
    "I can combine those ideas like this:\n",
    "\n",
    "```\n",
    "holidays = []\n",
    "with open('01-holidays.txt') as f:\n",
    "    for line in f.read().splitlines():\n",
    "        holidays += [line.split()]\n",
    "        \n",
    "print(len(lines), holidays[0])\n",
    "```\n",
    "\n",
    "But I actually like the second answer of that Stack Overflow post better, and prefer to use the list comprehension:\n",
    "\n",
    "```\n",
    "holidays = [line.strip().split() for line in open('01-holidays.txt')]\n",
    "\n",
    "print(len(lines), holidays[0])\n",
    "```\n",
    "\n",
    "The basic format is `[<do something to item> for <item> in <bunch of items>]`\n",
    "\n",
    "I think it's cleaner, and it's certainly more compact."
   ]
  },
  {
   "cell_type": "markdown",
   "metadata": {},
   "source": [
    "Now we have the holidays, time to find the affordable ones. \n",
    "\n",
    "The basic idea is to keep a count of the number of affordable holidays as we walk along the list of holidays. Every time we get to an affordable one, increase the count by one. The price is in the second element of the holiday record, which is number 1 in Python's count-from-zero world.\n",
    "\n",
    "That turns quite simply into code:\n",
    "\n",
    "```\n",
    "affordable_count = 0\n",
    "for holiday in holidays:\n",
    "    if holiday[1] <= 1200:\n",
    "        affordable_count += 1\n",
    "\n",
    "print(affordable_count)\n",
    "```\n",
    "\n",
    "…which gives an error about unorderable types, comparing `str()` with `int()`.\n",
    "\n",
    "That makes sense. Strings and numbers are different, and what we've got is a list of strings. A quick search online tells us that `int(something)` will convert `something` into a number, if possible. Let's make that change and try again.\n",
    "\n",
    "```\n",
    "affordable_count = 0\n",
    "for holiday in holidays:\n",
    "    if int(holiday[1]) <= 1200:\n",
    "        affordable_count += 1\n",
    "\n",
    "print(affordable_count)\n",
    "```\n",
    "\n",
    "And that gives the right answer!"
   ]
  },
  {
   "cell_type": "markdown",
   "metadata": {},
   "source": [
    "Now for part 2. \n",
    "\n",
    "At first sight, its intimidating. Complex calculation, lots of data to move around. But, let's just start with what we can do easily and see where we end up.\n",
    "\n",
    "Each destination has a weight for how much it's liked. If a weight's not given, we use 1.\n",
    "\n",
    "We can store the given weights in a `dict`: it's what they were made for. Associate some value with a key; in this case, the key is the destination name and the value is the weight.\n",
    "\n",
    "```\n",
    "destination_values = {'Almaty': 2.0, 'Brorfelde': 0.9, 'Estacada': 0.4, 'Jayuya': 0.6, 'Karlukovo': 2.2, \n",
    "                      'Morgantown': 2.9,'Nordkapp': 1.5, 'Nullarbor': 2.2, \n",
    "                      'Puente-Laguna-Garzonkuala-Penyu': 0.4, 'Uzupis': 0.9}\n",
    "```\n",
    "\n",
    "We can get the values from the dict quite easily:\n",
    "\n",
    "```\n",
    "print(destination_values['Jayaya'])\n",
    "```\n",
    "\n",
    "How to get the value when the destination isn't in the table? We could use the defaultdict from the Python library, or we could use the `get()` method which accepts a default value, or we could just wrap some control in a function.\n",
    "\n",
    "```\n",
    "def value_of_destination(name):\n",
    "    if name in destination_values:\n",
    "        return destination_values[name]\n",
    "    else:\n",
    "        return 1\n",
    "```\n",
    "\n",
    "And try it:\n",
    "\n",
    "```\n",
    "print(destination_values['Mamula'])\n",
    "```"
   ]
  },
  {
   "cell_type": "markdown",
   "metadata": {},
   "source": [
    "Now we can find the destination weight for each destination, how to find the value of a holiday? Again, wrap that in a function so we can call it without getting bogged down in the details. \n",
    "\n",
    "The tricky part here is to keep track of data types. We have to convert strings to numbers again, but division involving integers will often give an integer as the answer. The standard trick in these situation is to make sure that at least one number in each calculation is a floating-point number, and Python will ensure that the whole calculation is done a floating point numbers.\n",
    "\n",
    "```\n",
    "def value_of_holiday(holiday):\n",
    "    hid, cost, destination, duration = tuple(holiday)\n",
    "    value = value_of_destination(destination) * float(duration) / int(cost)\n",
    "    return value\n",
    "```\n",
    "\n",
    "Again, we can test it\n",
    "\n",
    "```\n",
    "print(value_of_holiday(holidays[0]))\n",
    "```"
   ]
  },
  {
   "cell_type": "markdown",
   "metadata": {},
   "source": [
    "Now we have the parts for solving the task. Just like part 1, we'll walk over the list of holidays, keeping track of the best value one so far. We have remember two items now, though: the best value, and the code of the holiday with that value. We'll just use two separate variables to keep track of them.\n",
    "\n",
    "```\n",
    "best_holiday = ''\n",
    "best_value = 0\n",
    "\n",
    "for holiday in holidays:\n",
    "    if int(holiday[1]) <= 1200:\n",
    "        if value_of_holiday(holiday) > best_value:\n",
    "            best_value = value_of_holiday(holiday)\n",
    "            best_holiday = holiday[0]        \n",
    "\n",
    "print(best_holiday)\n",
    "```\n",
    "\n",
    "Rather than having two `if` statements, we could say \n",
    "\n",
    "```\n",
    "if int(holiday[1]) <= 1200 and value_of_holiday(holiday) > best_value:\n",
    "```\n",
    "\n",
    "but I'm not sure it's much better in this context.\n",
    "\n",
    "And there you have it!"
   ]
  },
  {
   "cell_type": "markdown",
   "metadata": {},
   "source": [
    "I hope you found the exposition useful.\n",
    "\n",
    "Yes, I use the internet a lot to look up bits of syntax. It's much the same as looking in a textbook and finding snippets of code to reuse and repurpose. The skill of programming isn't so much the mastery of syntax as it is about understanding the problem and how to put together a solution. By all means look stuff up; a good programmer knows what to look up (or ask) and how to use the answer."
   ]
  },
  {
   "cell_type": "markdown",
   "metadata": {},
   "source": [
    "### Solution"
   ]
  },
  {
   "cell_type": "code",
   "execution_count": 2,
   "metadata": {},
   "outputs": [
    {
     "data": {
      "text/plain": [
       "[['dda7d369', '1546', 'Uzupis', '21'],\n",
       " ['68022753', '1239', 'Mamula', '21'],\n",
       " ['b261dbd1cef', '996', 'Holmegaard', '21']]"
      ]
     },
     "execution_count": 2,
     "metadata": {},
     "output_type": "execute_result"
    }
   ],
   "source": [
    "holidays = []\n",
    "with open('01-holidays.txt') as f:\n",
    "    for hol_line in f:\n",
    "        holidays.append(hol_line.split())\n",
    "        \n",
    "holidays[:3]"
   ]
  },
  {
   "cell_type": "code",
   "execution_count": 3,
   "metadata": {},
   "outputs": [
    {
     "data": {
      "text/plain": [
       "[['dda7d369', '1546', 'Uzupis', '21'],\n",
       " ['68022753', '1239', 'Mamula', '21'],\n",
       " ['b261dbd1cef', '996', 'Holmegaard', '21']]"
      ]
     },
     "execution_count": 3,
     "metadata": {},
     "output_type": "execute_result"
    }
   ],
   "source": [
    "holidays = [line.split() for line in open('01-holidays.txt')]\n",
    "        \n",
    "holidays[:3]"
   ]
  },
  {
   "cell_type": "code",
   "execution_count": 13,
   "metadata": {},
   "outputs": [
    {
     "data": {
      "text/plain": [
       "59"
      ]
     },
     "execution_count": 13,
     "metadata": {},
     "output_type": "execute_result"
    }
   ],
   "source": [
    "affordable_holidays = []\n",
    "for h in holidays:\n",
    "    if int(h[1]) <= 1200:\n",
    "        affordable_holidays.append(h)\n",
    "\n",
    "len(affordable_holidays)"
   ]
  },
  {
   "cell_type": "code",
   "execution_count": 5,
   "metadata": {},
   "outputs": [
    {
     "data": {
      "text/plain": [
       "59"
      ]
     },
     "execution_count": 5,
     "metadata": {},
     "output_type": "execute_result"
    }
   ],
   "source": [
    "affordable_holidays = [h for h in holidays if int(h[1]) <= 1200]\n",
    "len(affordable_holidays)"
   ]
  },
  {
   "cell_type": "code",
   "execution_count": 14,
   "metadata": {},
   "outputs": [
    {
     "data": {
      "text/plain": [
       "124"
      ]
     },
     "execution_count": 14,
     "metadata": {},
     "output_type": "execute_result"
    }
   ],
   "source": [
    "len(holidays)"
   ]
  },
  {
   "cell_type": "markdown",
   "metadata": {},
   "source": [
    "### Smart-alec one-line solution"
   ]
  },
  {
   "cell_type": "code",
   "execution_count": 4,
   "metadata": {},
   "outputs": [
    {
     "data": {
      "text/plain": [
       "59"
      ]
     },
     "execution_count": 4,
     "metadata": {},
     "output_type": "execute_result"
    }
   ],
   "source": [
    "sum(1 for h in open('01-holidays.txt') if int(h.split()[1]) <= 1200)"
   ]
  },
  {
   "cell_type": "code",
   "execution_count": 16,
   "metadata": {
    "collapsed": true
   },
   "outputs": [],
   "source": [
    "destination_values = {'Almaty': 2.0, 'Brorfelde': 0.9, 'Estacada': 0.4, 'Jayuya': 0.6, 'Karlukovo': 2.2, \n",
    "                      'Morgantown': 2.9,'Nordkapp': 1.5, 'Nullarbor': 2.2, \n",
    "                      'Puente-Laguna-Garzonkuala-Penyu': 0.4, 'Uzupis': 0.9}"
   ]
  },
  {
   "cell_type": "code",
   "execution_count": 17,
   "metadata": {
    "collapsed": true
   },
   "outputs": [],
   "source": [
    "def value_of_destination(name):\n",
    "    if name in destination_values:\n",
    "        return destination_values[name]\n",
    "    else:\n",
    "        return 1"
   ]
  },
  {
   "cell_type": "code",
   "execution_count": 18,
   "metadata": {
    "collapsed": true
   },
   "outputs": [],
   "source": [
    "def value_of_holiday(holiday):\n",
    "    hid, cost, destination, duration = tuple(holiday)\n",
    "    value = value_of_destination(destination) * float(duration) / int(cost)\n",
    "    return value"
   ]
  },
  {
   "cell_type": "code",
   "execution_count": 19,
   "metadata": {},
   "outputs": [
    {
     "data": {
      "text/plain": [
       "'ee064e1e2ea'"
      ]
     },
     "execution_count": 19,
     "metadata": {},
     "output_type": "execute_result"
    }
   ],
   "source": [
    "best_holiday = ''\n",
    "best_value = 0\n",
    "\n",
    "for h in affordable_holidays:\n",
    "    if value_of_holiday(h) > best_value:\n",
    "        best_value = value_of_holiday(h)\n",
    "        best_holiday = h[0]\n",
    "        \n",
    "best_holiday"
   ]
  },
  {
   "cell_type": "markdown",
   "metadata": {},
   "source": [
    "## Smart-alec solution"
   ]
  },
  {
   "cell_type": "code",
   "execution_count": 20,
   "metadata": {},
   "outputs": [
    {
     "data": {
      "text/plain": [
       "'ee064e1e2ea'"
      ]
     },
     "execution_count": 20,
     "metadata": {},
     "output_type": "execute_result"
    }
   ],
   "source": [
    "# Right answer\n",
    "max(affordable_holidays, key=value_of_holiday)[0]"
   ]
  },
  {
   "cell_type": "code",
   "execution_count": 21,
   "metadata": {},
   "outputs": [
    {
     "data": {
      "text/plain": [
       "'c86e2e5826'"
      ]
     },
     "execution_count": 21,
     "metadata": {},
     "output_type": "execute_result"
    }
   ],
   "source": [
    "# Answer if you don't filter by affordability\n",
    "max(holidays, key=value_of_holiday)[0]"
   ]
  },
  {
   "cell_type": "code",
   "execution_count": 23,
   "metadata": {},
   "outputs": [
    {
     "data": {
      "text/plain": [
       "'f60e203aaaf9'"
      ]
     },
     "execution_count": 23,
     "metadata": {},
     "output_type": "execute_result"
    }
   ],
   "source": [
    "# Answer if you don't scale by perceived value\n",
    "max(affordable_holidays, key=lambda h: float(h[3]) / float(h[1]))[0]"
   ]
  },
  {
   "cell_type": "code",
   "execution_count": 22,
   "metadata": {},
   "outputs": [
    {
     "data": {
      "text/plain": [
       "'f60e203aaaf9'"
      ]
     },
     "execution_count": 22,
     "metadata": {},
     "output_type": "execute_result"
    }
   ],
   "source": [
    "# Answer if you don't scale by perceived value, AND don't filter by affordability\n",
    "max(holidays, key=lambda h: float(h[3]) / float(h[1]))[0]"
   ]
  }
 ],
 "metadata": {
  "kernelspec": {
   "display_name": "Python 3",
   "language": "python",
   "name": "python3"
  },
  "language_info": {
   "codemirror_mode": {
    "name": "ipython",
    "version": 3
   },
   "file_extension": ".py",
   "mimetype": "text/x-python",
   "name": "python",
   "nbconvert_exporter": "python",
   "pygments_lexer": "ipython3",
   "version": "3.5.2+"
  }
 },
 "nbformat": 4,
 "nbformat_minor": 2
}
