{
 "cells": [
  {
   "cell_type": "markdown",
   "metadata": {},
   "source": [
    "# Interleaved strings\n",
    "\n",
    "Given two strings a and b and a target c, could c be formed form some interleaving/merge of a and b?\n",
    "\n",
    "For example,\n",
    "Given:\n",
    "s1 = \"aabcc\",\n",
    "s2 = \"dbbca\",\n",
    "\n",
    "When s3 = \"aadbbcbcac\", return true.\n",
    "When s3 = \"aadbbbaccc\", return false."
   ]
  },
  {
   "cell_type": "code",
   "execution_count": 1,
   "metadata": {
    "collapsed": true
   },
   "outputs": [],
   "source": [
    "import random\n",
    "import string"
   ]
  },
  {
   "cell_type": "code",
   "execution_count": 2,
   "metadata": {
    "collapsed": true
   },
   "outputs": [],
   "source": [
    "s1 = \"aabcc\"\n",
    "s2 = \"dbbca\"\n",
    "\n",
    "s3t = \"aadbbcbcac\"\n",
    "s3f = \"aadbbbaccc\""
   ]
  },
  {
   "cell_type": "code",
   "execution_count": 3,
   "metadata": {},
   "outputs": [
    {
     "data": {
      "text/plain": [
       "[(0, ''), (1, 'a'), (2, 'aa'), (3, 'aab'), (4, 'aabc'), (5, 'aabcc')]"
      ]
     },
     "execution_count": 3,
     "metadata": {},
     "output_type": "execute_result"
    }
   ],
   "source": [
    "[(i, s1[:i]) for i in range(len(s1)+1)]"
   ]
  },
  {
   "cell_type": "markdown",
   "metadata": {},
   "source": [
    "`dp_table[i, j]` is True if first `i` + `j` characters of `s3` can be formed from interleaving of first `i` characters of `s1` and first `j` characters of `s2`."
   ]
  },
  {
   "cell_type": "code",
   "execution_count": 4,
   "metadata": {},
   "outputs": [
    {
     "data": {
      "text/plain": [
       "[[True, False, False, False, False, False],\n",
       " [False, False, False, False, False, False],\n",
       " [False, False, False, False, False, False],\n",
       " [False, False, False, False, False, False],\n",
       " [False, False, False, False, False, False],\n",
       " [False, False, False, False, False, False]]"
      ]
     },
     "execution_count": 4,
     "metadata": {},
     "output_type": "execute_result"
    }
   ],
   "source": [
    "dp_table = [[False] * (len(s1) + 1) for _ in range(len(s2) + 1)]\n",
    "dp_table[0][0] = True\n",
    "dp_table"
   ]
  },
  {
   "cell_type": "code",
   "execution_count": 5,
   "metadata": {
    "scrolled": true
   },
   "outputs": [
    {
     "data": {
      "text/plain": [
       "{(0, 0): False,\n",
       " (0, 1): False,\n",
       " (0, 2): False,\n",
       " (0, 3): False,\n",
       " (0, 4): False,\n",
       " (0, 5): False,\n",
       " (1, 0): False,\n",
       " (1, 1): False,\n",
       " (1, 2): False,\n",
       " (1, 3): False,\n",
       " (1, 4): False,\n",
       " (1, 5): False,\n",
       " (2, 0): False,\n",
       " (2, 1): False,\n",
       " (2, 2): False,\n",
       " (2, 3): False,\n",
       " (2, 4): False,\n",
       " (2, 5): False,\n",
       " (3, 0): False,\n",
       " (3, 1): False,\n",
       " (3, 2): False,\n",
       " (3, 3): False,\n",
       " (3, 4): False,\n",
       " (3, 5): False,\n",
       " (4, 0): False,\n",
       " (4, 1): False,\n",
       " (4, 2): False,\n",
       " (4, 3): False,\n",
       " (4, 4): False,\n",
       " (4, 5): False,\n",
       " (5, 0): False,\n",
       " (5, 1): False,\n",
       " (5, 2): False,\n",
       " (5, 3): False,\n",
       " (5, 4): False,\n",
       " (5, 5): False}"
      ]
     },
     "execution_count": 5,
     "metadata": {},
     "output_type": "execute_result"
    }
   ],
   "source": [
    "dp_table = {(i, j): False\n",
    "           for i in range(len(s1)+1)\n",
    "           for j in range(len(s2)+1)}\n",
    "dp_table"
   ]
  },
  {
   "cell_type": "code",
   "execution_count": 6,
   "metadata": {
    "collapsed": true
   },
   "outputs": [],
   "source": [
    "def show_table(table):\n",
    "    return '\\n'.join(\n",
    "        ' '.join(str(table[i, j])[0] for j in sorted(set([k[1] for k in table])))\n",
    "        for i in sorted(set([k[0] for k in table])))        "
   ]
  },
  {
   "cell_type": "code",
   "execution_count": 7,
   "metadata": {
    "collapsed": true
   },
   "outputs": [],
   "source": [
    "def show_table(table):\n",
    "    return '\\n'.join(\n",
    "        ' '.join('T' if table[i, j] else '.' for j in sorted(set([k[1] for k in table])))\n",
    "        for i in sorted(set([k[0] for k in table])))        "
   ]
  },
  {
   "cell_type": "code",
   "execution_count": 8,
   "metadata": {},
   "outputs": [
    {
     "name": "stdout",
     "output_type": "stream",
     "text": [
      ". . . . . .\n",
      ". . . . . .\n",
      ". . . . . .\n",
      ". . . . . .\n",
      ". . . . . .\n",
      ". . . . . .\n"
     ]
    }
   ],
   "source": [
    "print(show_table(dp_table))"
   ]
  },
  {
   "cell_type": "code",
   "execution_count": 9,
   "metadata": {},
   "outputs": [
    {
     "name": "stdout",
     "output_type": "stream",
     "text": [
      "aabcc dbbca aadbbcbcac\n",
      "aa 0 0 ! ! ! True\n",
      "s2 0 1 ! d a False\n",
      "s2 0 2 ! b a False\n",
      "s2 0 3 ! b d False\n",
      "s2 0 4 ! c b False\n",
      "s2 0 5 ! a b False\n",
      "s1 1 0 a ! a True\n",
      "xx 1 1 a d a False\n",
      "xx 1 2 a b d False\n",
      "xx 1 3 a b b False\n",
      "xx 1 4 a c b False\n",
      "xx 1 5 a a c False\n",
      "s1 2 0 a ! a True\n",
      "s2 2 1 a d d True\n",
      "s2 2 2 a b b True\n",
      "s2 2 3 a b b True\n",
      "s2 2 4 a c c True\n",
      "xx 2 5 a a b False\n",
      "s1 3 0 b ! d False\n",
      "s1 3 1 b d b True\n",
      "s2 3 2 b b b True\n",
      "s1 3 2 b b b True\n",
      "xx 3 3 b b c False\n",
      "s1 3 4 b c b True\n",
      "xx 3 5 b a c False\n",
      "s1 4 0 c ! b False\n",
      "xx 4 1 c d b False\n",
      "s1 4 2 c b c True\n",
      "s2 4 3 c b b True\n",
      "s2 4 4 c c c True\n",
      "s1 4 4 c c c True\n",
      "s2 4 5 c a a True\n",
      "s1 5 0 c ! b False\n",
      "xx 5 1 c d c False\n",
      "xx 5 2 c b b False\n",
      "s1 5 3 c b c True\n",
      "xx 5 4 c c a False\n",
      "s1 5 5 c a c True\n",
      "T . . . . .\n",
      "T . . . . .\n",
      "T T T T T .\n",
      ". T T . T .\n",
      ". . T T T T\n",
      ". . . T . T\n"
     ]
    },
    {
     "data": {
      "text/plain": [
       "{(1, 0): (0, 0, 'a', 's1'),\n",
       " (2, 0): (1, 0, 'a', 's1'),\n",
       " (2, 1): (2, 0, 'd', 's2'),\n",
       " (2, 2): (2, 1, 'b', 's2'),\n",
       " (2, 3): (2, 2, 'b', 's2'),\n",
       " (2, 4): (2, 3, 'c', 's2'),\n",
       " (3, 1): (2, 1, 'b', 's1'),\n",
       " (3, 2): (2, 2, 'b', 's1'),\n",
       " (3, 4): (2, 4, 'b', 's1'),\n",
       " (4, 2): (3, 2, 'c', 's1'),\n",
       " (4, 3): (4, 2, 'b', 's2'),\n",
       " (4, 4): (3, 4, 'c', 's1'),\n",
       " (4, 5): (4, 4, 'a', 's2'),\n",
       " (5, 3): (4, 3, 'c', 's1'),\n",
       " (5, 5): (4, 5, 'c', 's1')}"
      ]
     },
     "execution_count": 9,
     "metadata": {},
     "output_type": "execute_result"
    }
   ],
   "source": [
    "s3 = s3t\n",
    "\n",
    "print(s1, s2, s3)\n",
    "\n",
    "dp_table = {(i, j): False\n",
    "           for i in range(len(s1)+1)\n",
    "           for j in range(len(s2)+1)}\n",
    "\n",
    "backpointers = {}\n",
    "\n",
    "for i in range(len(s1)+1):\n",
    "    for j in range(len(s2)+1):\n",
    "        if i == 0 and j == 0:\n",
    "            dp_table[i, j] = True\n",
    "            print('aa', i, j, '!', '!', '!', dp_table[i, j])\n",
    "        elif i == 0:\n",
    "            # extend by character from s2\n",
    "            if dp_table[i, j-1] and s2[j-1] == s3[i+j-1]:\n",
    "                dp_table[i, j] = True\n",
    "                backpointers[i, j] = (i, j-1, s2[j-1], 's2')\n",
    "            print('s2', i, j, '!', s2[j-1], s3[i+j-1], dp_table[i, j])\n",
    "        elif j == 0:\n",
    "            # extend by character from s1\n",
    "            if dp_table[i-1, j] and s1[i-1] == s3[i+j-1]:\n",
    "                dp_table[i, j] = True\n",
    "                backpointers[i, j] = (i-1, j, s1[i-1], 's1')\n",
    "            print('s1', i, j, s1[i-1], '!', s3[i+j-1], dp_table[i, j])\n",
    "        else:\n",
    "            # extend by character from s2\n",
    "            if dp_table[i, j-1] and s2[j-1] == s3[i+j-1]:\n",
    "                dp_table[i, j] = True\n",
    "                backpointers[i, j] = (i, j-1, s2[j-1], 's2')\n",
    "                print('s2', i, j, s1[i-1], s2[j-1], s3[i+j-1], dp_table[i, j])                \n",
    "            # extend by character from s1\n",
    "            if dp_table[i-1, j] and s1[i-1] == s3[i+j-1]:\n",
    "                dp_table[i, j] = True\n",
    "                backpointers[i, j] = (i-1, j, s1[i-1], 's1')                \n",
    "                print('s1', i, j, s1[i-1], s2[j-1], s3[i+j-1], dp_table[i, j])\n",
    "            if not dp_table[i, j]:\n",
    "                print('xx', i, j, s1[i-1], s2[j-1], s3[i+j-1], dp_table[i, j])\n",
    "\n",
    "print(show_table(dp_table))\n",
    "backpointers"
   ]
  },
  {
   "cell_type": "code",
   "execution_count": 10,
   "metadata": {
    "collapsed": true
   },
   "outputs": [],
   "source": [
    "def is_interleave(seq1, seq2, seq3, return_backpointers=False, return_table=False, debug=False):\n",
    "    \"\"\"Return true if seq3 is some interleaved merge of seq1 and seq2.\n",
    "    If return_backpointers, also return the set of backpointers to\n",
    "    reconstruct the interleaving\"\"\"\n",
    "    \n",
    "    # dp_table[i, j] is True if first i+j characters of seq is made up of \n",
    "    # an interleaving of the first i characters of seq1 and the \n",
    "    # first j characters of seq2\n",
    "    \n",
    "    if len(seq1) + len(seq2) != len(seq3):\n",
    "        if return_backpointers or return_table:\n",
    "            retval = [False]\n",
    "            if return_backpointers:\n",
    "                retval += [{}]\n",
    "            if return_table:\n",
    "                retval += [{}]\n",
    "            return tuple(retval)\n",
    "        else:\n",
    "            return False\n",
    "    \n",
    "    dp_table = {(i, j): False\n",
    "               for i in range(len(seq1)+1)\n",
    "               for j in range(len(seq2)+1)}\n",
    "\n",
    "    backpointers = {}\n",
    "\n",
    "    for i in range(len(seq1)+1):\n",
    "        for j in range(len(seq2)+1):\n",
    "            if i == 0 and j == 0:\n",
    "                dp_table[i, j] = True\n",
    "                if debug: print('xxxx', i, j, '!', '!', '!', dp_table[i, j])\n",
    "            elif i == 0:\n",
    "                # extend by character from seq2\n",
    "                if dp_table[i, j-1] and seq2[j-1] == seq3[i+j-1]:\n",
    "                    dp_table[i, j] = True\n",
    "                    backpointers[i, j] = (i, j-1, seq2[j-1], 'seq2')\n",
    "                if debug: print('seq2', i, j, '!', seq2[j-1], seq3[i+j-1], dp_table[i, j])\n",
    "            elif j == 0:\n",
    "                # extend by character from seq1\n",
    "                if dp_table[i-1, j] and seq1[i-1] == seq3[i+j-1]:\n",
    "                    dp_table[i, j] = True\n",
    "                    backpointers[i, j] = (i-1, j, seq1[i-1], 'seq1')\n",
    "                if debug: print('seq1', i, j, seq1[i-1], '!', seq3[i+j-1], dp_table[i, j])\n",
    "            else:\n",
    "                # extend by character from seq2\n",
    "                if dp_table[i, j-1] and seq2[j-1] == seq3[i+j-1]:\n",
    "                    dp_table[i, j] = True\n",
    "                    backpointers[i, j] = (i, j-1, seq2[j-1], 'seq2')\n",
    "                    if debug: print('seq2', i, j, seq1[i-1], seq2[j-1], seq3[i+j-1], dp_table[i, j])                \n",
    "                # extend by character from seq1\n",
    "                if dp_table[i-1, j] and seq1[i-1] == seq3[i+j-1]:\n",
    "                    dp_table[i, j] = True\n",
    "                    backpointers[i, j] = (i-1, j, seq1[i-1], 'seq1')                \n",
    "                    if debug: print('seq1', i, j, seq1[i-1], seq2[j-1], seq3[i+j-1], dp_table[i, j])\n",
    "                if not dp_table[i, j]:\n",
    "                    if debug: print('xxxx', i, j, seq1[i-1], seq2[j-1], seq3[i+j-1], dp_table[i, j])\n",
    "\n",
    "    if return_backpointers or return_table:\n",
    "        retval = [dp_table[len(seq1), len(seq2)]]\n",
    "        if return_backpointers:\n",
    "            retval += [backpointers]\n",
    "        if return_table:\n",
    "            retval += [dp_table]\n",
    "        return tuple(retval)\n",
    "    else:\n",
    "        return dp_table[len(seq1), len(seq2)]"
   ]
  },
  {
   "cell_type": "code",
   "execution_count": 11,
   "metadata": {},
   "outputs": [
    {
     "data": {
      "text/plain": [
       "True"
      ]
     },
     "execution_count": 11,
     "metadata": {},
     "output_type": "execute_result"
    }
   ],
   "source": [
    "is_interleave(s1, s2, s3t)"
   ]
  },
  {
   "cell_type": "code",
   "execution_count": 12,
   "metadata": {},
   "outputs": [
    {
     "data": {
      "text/plain": [
       "(True,\n",
       " {(1, 0): (0, 0, 'a', 'seq1'),\n",
       "  (2, 0): (1, 0, 'a', 'seq1'),\n",
       "  (2, 1): (2, 0, 'd', 'seq2'),\n",
       "  (2, 2): (2, 1, 'b', 'seq2'),\n",
       "  (2, 3): (2, 2, 'b', 'seq2'),\n",
       "  (2, 4): (2, 3, 'c', 'seq2'),\n",
       "  (3, 1): (2, 1, 'b', 'seq1'),\n",
       "  (3, 2): (2, 2, 'b', 'seq1'),\n",
       "  (3, 4): (2, 4, 'b', 'seq1'),\n",
       "  (4, 2): (3, 2, 'c', 'seq1'),\n",
       "  (4, 3): (4, 2, 'b', 'seq2'),\n",
       "  (4, 4): (3, 4, 'c', 'seq1'),\n",
       "  (4, 5): (4, 4, 'a', 'seq2'),\n",
       "  (5, 3): (4, 3, 'c', 'seq1'),\n",
       "  (5, 5): (4, 5, 'c', 'seq1')})"
      ]
     },
     "execution_count": 12,
     "metadata": {},
     "output_type": "execute_result"
    }
   ],
   "source": [
    "is_interleave(s1, s2, s3t, return_backpointers=True)"
   ]
  },
  {
   "cell_type": "code",
   "execution_count": 13,
   "metadata": {
    "scrolled": true
   },
   "outputs": [
    {
     "data": {
      "text/plain": [
       "(True,\n",
       " {(1, 0): (0, 0, 'a', 'seq1'),\n",
       "  (2, 0): (1, 0, 'a', 'seq1'),\n",
       "  (2, 1): (2, 0, 'd', 'seq2'),\n",
       "  (2, 2): (2, 1, 'b', 'seq2'),\n",
       "  (2, 3): (2, 2, 'b', 'seq2'),\n",
       "  (2, 4): (2, 3, 'c', 'seq2'),\n",
       "  (3, 1): (2, 1, 'b', 'seq1'),\n",
       "  (3, 2): (2, 2, 'b', 'seq1'),\n",
       "  (3, 4): (2, 4, 'b', 'seq1'),\n",
       "  (4, 2): (3, 2, 'c', 'seq1'),\n",
       "  (4, 3): (4, 2, 'b', 'seq2'),\n",
       "  (4, 4): (3, 4, 'c', 'seq1'),\n",
       "  (4, 5): (4, 4, 'a', 'seq2'),\n",
       "  (5, 3): (4, 3, 'c', 'seq1'),\n",
       "  (5, 5): (4, 5, 'c', 'seq1')},\n",
       " {(0, 0): True,\n",
       "  (0, 1): False,\n",
       "  (0, 2): False,\n",
       "  (0, 3): False,\n",
       "  (0, 4): False,\n",
       "  (0, 5): False,\n",
       "  (1, 0): True,\n",
       "  (1, 1): False,\n",
       "  (1, 2): False,\n",
       "  (1, 3): False,\n",
       "  (1, 4): False,\n",
       "  (1, 5): False,\n",
       "  (2, 0): True,\n",
       "  (2, 1): True,\n",
       "  (2, 2): True,\n",
       "  (2, 3): True,\n",
       "  (2, 4): True,\n",
       "  (2, 5): False,\n",
       "  (3, 0): False,\n",
       "  (3, 1): True,\n",
       "  (3, 2): True,\n",
       "  (3, 3): False,\n",
       "  (3, 4): True,\n",
       "  (3, 5): False,\n",
       "  (4, 0): False,\n",
       "  (4, 1): False,\n",
       "  (4, 2): True,\n",
       "  (4, 3): True,\n",
       "  (4, 4): True,\n",
       "  (4, 5): True,\n",
       "  (5, 0): False,\n",
       "  (5, 1): False,\n",
       "  (5, 2): False,\n",
       "  (5, 3): True,\n",
       "  (5, 4): False,\n",
       "  (5, 5): True})"
      ]
     },
     "execution_count": 13,
     "metadata": {},
     "output_type": "execute_result"
    }
   ],
   "source": [
    "is_interleave(s1, s2, s3t, return_backpointers=True, return_table=True)"
   ]
  },
  {
   "cell_type": "code",
   "execution_count": 14,
   "metadata": {},
   "outputs": [
    {
     "data": {
      "text/plain": [
       "False"
      ]
     },
     "execution_count": 14,
     "metadata": {},
     "output_type": "execute_result"
    }
   ],
   "source": [
    "is_interleave(s1, s2, s3f)"
   ]
  },
  {
   "cell_type": "code",
   "execution_count": 15,
   "metadata": {},
   "outputs": [
    {
     "name": "stdout",
     "output_type": "stream",
     "text": [
      "xxxx 0 0 ! ! ! True\n",
      "seq2 0 1 ! b a False\n",
      "seq2 0 2 ! b a False\n",
      "seq2 0 3 ! b a False\n",
      "seq1 1 0 a ! a True\n",
      "xxxx 1 1 a b a False\n",
      "xxxx 1 2 a b a False\n",
      "xxxx 1 3 a b b False\n",
      "seq1 2 0 a ! a True\n",
      "xxxx 2 1 a b a False\n",
      "xxxx 2 2 a b b False\n",
      "xxxx 2 3 a b a False\n",
      "seq1 3 0 a ! a True\n",
      "seq2 3 1 a b b True\n",
      "xxxx 3 2 a b a False\n",
      "xxxx 3 3 a b b False\n",
      "seq1 4 0 a ! b False\n",
      "seq1 4 1 a b a True\n",
      "seq2 4 2 a b b True\n",
      "seq2 4 3 a b b True\n"
     ]
    },
    {
     "data": {
      "text/plain": [
       "(True,\n",
       " {(1, 0): (0, 0, 'a', 'seq1'),\n",
       "  (2, 0): (1, 0, 'a', 'seq1'),\n",
       "  (3, 0): (2, 0, 'a', 'seq1'),\n",
       "  (3, 1): (3, 0, 'b', 'seq2'),\n",
       "  (4, 1): (3, 1, 'a', 'seq1'),\n",
       "  (4, 2): (4, 1, 'b', 'seq2'),\n",
       "  (4, 3): (4, 2, 'b', 'seq2')})"
      ]
     },
     "execution_count": 15,
     "metadata": {},
     "output_type": "execute_result"
    }
   ],
   "source": [
    "is_interleave('aaaa', 'bbb', 'aaababb', return_backpointers=True, debug=True)"
   ]
  },
  {
   "cell_type": "code",
   "execution_count": 16,
   "metadata": {
    "collapsed": true
   },
   "outputs": [],
   "source": [
    "def show_backtrace(bps):\n",
    "    i = max([0] + [k[0] for k in bps])\n",
    "    j = max([0] + [k[1] for k in bps])\n",
    "    chars = ''\n",
    "    if (i, j) in bps:\n",
    "        while i != 0 or j != 0:\n",
    "            if bps[i, j][3] == 'seq1':\n",
    "                chars += bps[i, j][2].upper()\n",
    "            else:\n",
    "                chars += bps[i, j][2]\n",
    "            i, j = bps[i, j][0], bps[i, j][1] \n",
    "        return ''.join(list(reversed(chars)))\n",
    "    else:\n",
    "        return ''"
   ]
  },
  {
   "cell_type": "code",
   "execution_count": 17,
   "metadata": {
    "collapsed": true
   },
   "outputs": [],
   "source": [
    "def make_string(length, alphabet=None):\n",
    "    if not alphabet:\n",
    "        alphabet = 'abcdefgh'\n",
    "    return ''.join(random.choice(alphabet) for _ in range(length))    "
   ]
  },
  {
   "cell_type": "code",
   "execution_count": 18,
   "metadata": {},
   "outputs": [
    {
     "data": {
      "text/plain": [
       "'cccbggadggfbghfbeeeecgabbcdehcgfdhegefddahcdcabbch'"
      ]
     },
     "execution_count": 18,
     "metadata": {},
     "output_type": "execute_result"
    }
   ],
   "source": [
    "make_string(50)"
   ]
  },
  {
   "cell_type": "code",
   "execution_count": 19,
   "metadata": {
    "collapsed": true
   },
   "outputs": [],
   "source": [
    "def interleave(s1, s2, wander_limit=10, debug=False):\n",
    "    i1 = i2 = wander = 0\n",
    "    interleaved = []\n",
    "    while i1 <= len(s1) and i2 <= len(s2):\n",
    "        if i1 == len(s1):\n",
    "            if debug: print(i1, i2, wander, 'remaining s2', s2[i2:])\n",
    "            interleaved += s2[i2:]\n",
    "            i2 = len(s2) + 1\n",
    "        elif i2 == len(s2):\n",
    "            if debug: print(i1, i2, wander, 'remaining s1', s1[i1:])\n",
    "            interleaved += s1[i1:]\n",
    "            i1 = len(s1) + 1\n",
    "        else:\n",
    "            if wander == wander_limit:\n",
    "                step = -1\n",
    "            elif wander == -wander_limit:\n",
    "                step = +1\n",
    "            else:\n",
    "                step = random.choice([+1, -1])\n",
    "            if step == +1:\n",
    "                if debug: print(i1, i2, wander, 'adding', s1[i1])\n",
    "                interleaved += s1[i1]\n",
    "                i1 += 1\n",
    "                wander += 1\n",
    "            else:\n",
    "                if debug: print(i1, i2, wander, 'adding', s2[i2])\n",
    "                interleaved += s2[i2]\n",
    "                i2 += 1\n",
    "                wander -= 1\n",
    "    return ''.join(interleaved)\n",
    "            "
   ]
  },
  {
   "cell_type": "code",
   "execution_count": 20,
   "metadata": {},
   "outputs": [
    {
     "name": "stdout",
     "output_type": "stream",
     "text": [
      "0 0 0 adding x\n",
      "0 1 -1 adding c\n",
      "1 1 0 adding v\n",
      "1 2 -1 adding a\n",
      "2 2 0 adding f\n",
      "3 2 1 adding u\n",
      "3 3 0 adding z\n",
      "3 4 -1 adding y\n",
      "3 5 -2 adding w\n",
      "3 6 -3 adding e\n",
      "4 6 -2 adding u\n",
      "4 7 -3 adding h\n",
      "5 7 -2 adding x\n",
      "5 8 -3 adding b\n",
      "6 8 -2 adding h\n",
      "7 8 -1 adding z\n",
      "7 9 -2 adding f\n",
      "8 9 -1 adding d\n",
      "9 9 0 adding c\n",
      "10 9 1 adding u\n",
      "10 10 0 adding v\n",
      "10 11 -1 adding c\n",
      "11 11 0 adding f\n",
      "12 11 1 adding a\n",
      "13 11 2 adding y\n",
      "13 12 1 adding y\n",
      "13 13 0 adding y\n",
      "13 14 -1 adding u\n",
      "13 15 -2 adding e\n",
      "14 15 -1 adding z\n",
      "14 16 -2 adding e\n",
      "15 16 -1 adding b\n",
      "16 16 0 adding c\n",
      "17 16 1 adding g\n",
      "18 16 2 adding w\n",
      "18 17 1 adding u\n",
      "18 18 0 adding e\n",
      "19 18 1 adding w\n",
      "19 19 0 adding b\n",
      "20 19 1 remaining s2 y\n"
     ]
    },
    {
     "data": {
      "text/plain": [
       "('cafehbhfdccfaeebcgeb',\n",
       " 'xvuzywuxzuvyyyuzwuwy',\n",
       " 'xcvafuzyweuhxbhzfdcuvcfayyyuezebcgwuewby',\n",
       " 40)"
      ]
     },
     "execution_count": 20,
     "metadata": {},
     "output_type": "execute_result"
    }
   ],
   "source": [
    "s1 = make_string(20)\n",
    "s2 = make_string(20, alphabet='uvwxyz')\n",
    "il = interleave(s1, s2, wander_limit=5, debug=True)\n",
    "s1, s2, il, len(il)"
   ]
  },
  {
   "cell_type": "code",
   "execution_count": 21,
   "metadata": {},
   "outputs": [
    {
     "name": "stdout",
     "output_type": "stream",
     "text": [
      "xxxx 0 0 ! ! ! True\n",
      "seq2 0 1 ! c x False\n",
      "seq2 0 2 ! a c False\n",
      "seq2 0 3 ! f v False\n",
      "seq2 0 4 ! e a False\n",
      "seq2 0 5 ! h f False\n",
      "seq2 0 6 ! b u False\n",
      "seq2 0 7 ! h z False\n",
      "seq2 0 8 ! f y False\n",
      "seq2 0 9 ! d w False\n",
      "seq2 0 10 ! c e False\n",
      "seq2 0 11 ! c u False\n",
      "seq2 0 12 ! f h False\n",
      "seq2 0 13 ! a x False\n",
      "seq2 0 14 ! e b False\n",
      "seq2 0 15 ! e h False\n",
      "seq2 0 16 ! b z False\n",
      "seq2 0 17 ! c f False\n",
      "seq2 0 18 ! g d False\n",
      "seq2 0 19 ! e c False\n",
      "seq2 0 20 ! b u False\n",
      "seq1 1 0 x ! x True\n",
      "seq2 1 1 x c c True\n",
      "xxxx 1 2 x a v False\n",
      "xxxx 1 3 x f a False\n",
      "xxxx 1 4 x e f False\n",
      "xxxx 1 5 x h u False\n",
      "xxxx 1 6 x b z False\n",
      "xxxx 1 7 x h y False\n",
      "xxxx 1 8 x f w False\n",
      "xxxx 1 9 x d e False\n",
      "xxxx 1 10 x c u False\n",
      "xxxx 1 11 x c h False\n",
      "xxxx 1 12 x f x False\n",
      "xxxx 1 13 x a b False\n",
      "xxxx 1 14 x e h False\n",
      "xxxx 1 15 x e z False\n",
      "xxxx 1 16 x b f False\n",
      "xxxx 1 17 x c d False\n",
      "xxxx 1 18 x g c False\n",
      "xxxx 1 19 x e u False\n",
      "xxxx 1 20 x b v False\n",
      "seq1 2 0 v ! c False\n",
      "seq1 2 1 v c v True\n",
      "seq2 2 2 v a a True\n",
      "seq2 2 3 v f f True\n",
      "xxxx 2 4 v e u False\n",
      "xxxx 2 5 v h z False\n",
      "xxxx 2 6 v b y False\n",
      "xxxx 2 7 v h w False\n",
      "xxxx 2 8 v f e False\n",
      "xxxx 2 9 v d u False\n",
      "xxxx 2 10 v c h False\n",
      "xxxx 2 11 v c x False\n",
      "xxxx 2 12 v f b False\n",
      "xxxx 2 13 v a h False\n",
      "xxxx 2 14 v e z False\n",
      "xxxx 2 15 v e f False\n",
      "xxxx 2 16 v b d False\n",
      "xxxx 2 17 v c c False\n",
      "xxxx 2 18 v g u False\n",
      "xxxx 2 19 v e v False\n",
      "xxxx 2 20 v b c False\n",
      "seq1 3 0 u ! v False\n",
      "xxxx 3 1 u c a False\n",
      "xxxx 3 2 u a f False\n",
      "seq1 3 3 u f u True\n",
      "xxxx 3 4 u e z False\n",
      "xxxx 3 5 u h y False\n",
      "xxxx 3 6 u b w False\n",
      "xxxx 3 7 u h e False\n",
      "xxxx 3 8 u f u False\n",
      "xxxx 3 9 u d h False\n",
      "xxxx 3 10 u c x False\n",
      "xxxx 3 11 u c b False\n",
      "xxxx 3 12 u f h False\n",
      "xxxx 3 13 u a z False\n",
      "xxxx 3 14 u e f False\n",
      "xxxx 3 15 u e d False\n",
      "xxxx 3 16 u b c False\n",
      "xxxx 3 17 u c u False\n",
      "xxxx 3 18 u g v False\n",
      "xxxx 3 19 u e c False\n",
      "xxxx 3 20 u b f False\n",
      "seq1 4 0 z ! a False\n",
      "xxxx 4 1 z c f False\n",
      "xxxx 4 2 z a u False\n",
      "seq1 4 3 z f z True\n",
      "xxxx 4 4 z e y False\n",
      "xxxx 4 5 z h w False\n",
      "xxxx 4 6 z b e False\n",
      "xxxx 4 7 z h u False\n",
      "xxxx 4 8 z f h False\n",
      "xxxx 4 9 z d x False\n",
      "xxxx 4 10 z c b False\n",
      "xxxx 4 11 z c h False\n",
      "xxxx 4 12 z f z False\n",
      "xxxx 4 13 z a f False\n",
      "xxxx 4 14 z e d False\n",
      "xxxx 4 15 z e c False\n",
      "xxxx 4 16 z b u False\n",
      "xxxx 4 17 z c v False\n",
      "xxxx 4 18 z g c False\n",
      "xxxx 4 19 z e f False\n",
      "xxxx 4 20 z b a False\n",
      "seq1 5 0 y ! f False\n",
      "xxxx 5 1 y c u False\n",
      "xxxx 5 2 y a z False\n",
      "seq1 5 3 y f y True\n",
      "xxxx 5 4 y e w False\n",
      "xxxx 5 5 y h e False\n",
      "xxxx 5 6 y b u False\n",
      "xxxx 5 7 y h h False\n",
      "xxxx 5 8 y f x False\n",
      "xxxx 5 9 y d b False\n",
      "xxxx 5 10 y c h False\n",
      "xxxx 5 11 y c z False\n",
      "xxxx 5 12 y f f False\n",
      "xxxx 5 13 y a d False\n",
      "xxxx 5 14 y e c False\n",
      "xxxx 5 15 y e u False\n",
      "xxxx 5 16 y b v False\n",
      "xxxx 5 17 y c c False\n",
      "xxxx 5 18 y g f False\n",
      "xxxx 5 19 y e a False\n",
      "xxxx 5 20 y b y False\n",
      "seq1 6 0 w ! u False\n",
      "xxxx 6 1 w c z False\n",
      "xxxx 6 2 w a y False\n",
      "seq1 6 3 w f w True\n",
      "seq2 6 4 w e e True\n",
      "xxxx 6 5 w h u False\n",
      "xxxx 6 6 w b h False\n",
      "xxxx 6 7 w h x False\n",
      "xxxx 6 8 w f b False\n",
      "xxxx 6 9 w d h False\n",
      "xxxx 6 10 w c z False\n",
      "xxxx 6 11 w c f False\n",
      "xxxx 6 12 w f d False\n",
      "xxxx 6 13 w a c False\n",
      "xxxx 6 14 w e u False\n",
      "xxxx 6 15 w e v False\n",
      "xxxx 6 16 w b c False\n",
      "xxxx 6 17 w c f False\n",
      "xxxx 6 18 w g a False\n",
      "xxxx 6 19 w e y False\n",
      "xxxx 6 20 w b y False\n",
      "seq1 7 0 u ! z False\n",
      "xxxx 7 1 u c y False\n",
      "xxxx 7 2 u a w False\n",
      "xxxx 7 3 u f e False\n",
      "seq1 7 4 u e u True\n",
      "seq2 7 5 u h h True\n",
      "xxxx 7 6 u b x False\n",
      "xxxx 7 7 u h b False\n",
      "xxxx 7 8 u f h False\n",
      "xxxx 7 9 u d z False\n",
      "xxxx 7 10 u c f False\n",
      "xxxx 7 11 u c d False\n",
      "xxxx 7 12 u f c False\n",
      "xxxx 7 13 u a u False\n",
      "xxxx 7 14 u e v False\n",
      "xxxx 7 15 u e c False\n",
      "xxxx 7 16 u b f False\n",
      "xxxx 7 17 u c a False\n",
      "xxxx 7 18 u g y False\n",
      "xxxx 7 19 u e y False\n",
      "xxxx 7 20 u b y False\n",
      "seq1 8 0 x ! y False\n",
      "xxxx 8 1 x c w False\n",
      "xxxx 8 2 x a e False\n",
      "xxxx 8 3 x f u False\n",
      "xxxx 8 4 x e h False\n",
      "seq1 8 5 x h x True\n",
      "seq2 8 6 x b b True\n",
      "seq2 8 7 x h h True\n",
      "xxxx 8 8 x f z False\n",
      "xxxx 8 9 x d f False\n",
      "xxxx 8 10 x c d False\n",
      "xxxx 8 11 x c c False\n",
      "xxxx 8 12 x f u False\n",
      "xxxx 8 13 x a v False\n",
      "xxxx 8 14 x e c False\n",
      "xxxx 8 15 x e f False\n",
      "xxxx 8 16 x b a False\n",
      "xxxx 8 17 x c y False\n",
      "xxxx 8 18 x g y False\n",
      "xxxx 8 19 x e y False\n",
      "xxxx 8 20 x b u False\n",
      "seq1 9 0 z ! w False\n",
      "xxxx 9 1 z c e False\n",
      "xxxx 9 2 z a u False\n",
      "xxxx 9 3 z f h False\n",
      "xxxx 9 4 z e x False\n",
      "xxxx 9 5 z h b False\n",
      "xxxx 9 6 z b h False\n",
      "seq1 9 7 z h z True\n",
      "seq2 9 8 z f f True\n",
      "seq2 9 9 z d d True\n",
      "seq2 9 10 z c c True\n",
      "xxxx 9 11 z c u False\n",
      "xxxx 9 12 z f v False\n",
      "xxxx 9 13 z a c False\n",
      "xxxx 9 14 z e f False\n",
      "xxxx 9 15 z e a False\n",
      "xxxx 9 16 z b y False\n",
      "xxxx 9 17 z c y False\n",
      "xxxx 9 18 z g y False\n",
      "xxxx 9 19 z e u False\n",
      "xxxx 9 20 z b e False\n",
      "seq1 10 0 u ! e False\n",
      "xxxx 10 1 u c u False\n",
      "xxxx 10 2 u a h False\n",
      "xxxx 10 3 u f x False\n",
      "xxxx 10 4 u e b False\n",
      "xxxx 10 5 u h h False\n",
      "xxxx 10 6 u b z False\n",
      "xxxx 10 7 u h f False\n",
      "xxxx 10 8 u f d False\n",
      "xxxx 10 9 u d c False\n",
      "seq1 10 10 u c u True\n",
      "xxxx 10 11 u c v False\n",
      "xxxx 10 12 u f c False\n",
      "xxxx 10 13 u a f False\n",
      "xxxx 10 14 u e a False\n",
      "xxxx 10 15 u e y False\n",
      "xxxx 10 16 u b y False\n",
      "xxxx 10 17 u c y False\n",
      "xxxx 10 18 u g u False\n",
      "xxxx 10 19 u e e False\n",
      "xxxx 10 20 u b z False\n",
      "seq1 11 0 v ! u False\n",
      "xxxx 11 1 v c h False\n",
      "xxxx 11 2 v a x False\n",
      "xxxx 11 3 v f b False\n",
      "xxxx 11 4 v e h False\n",
      "xxxx 11 5 v h z False\n",
      "xxxx 11 6 v b f False\n",
      "xxxx 11 7 v h d False\n",
      "xxxx 11 8 v f c False\n",
      "xxxx 11 9 v d u False\n",
      "seq1 11 10 v c v True\n",
      "seq2 11 11 v c c True\n",
      "seq2 11 12 v f f True\n",
      "seq2 11 13 v a a True\n",
      "xxxx 11 14 v e y False\n",
      "xxxx 11 15 v e y False\n",
      "xxxx 11 16 v b y False\n",
      "xxxx 11 17 v c u False\n",
      "xxxx 11 18 v g e False\n",
      "xxxx 11 19 v e z False\n",
      "xxxx 11 20 v b e False\n",
      "seq1 12 0 y ! h False\n",
      "xxxx 12 1 y c x False\n",
      "xxxx 12 2 y a b False\n",
      "xxxx 12 3 y f h False\n",
      "xxxx 12 4 y e z False\n",
      "xxxx 12 5 y h f False\n",
      "xxxx 12 6 y b d False\n",
      "xxxx 12 7 y h c False\n",
      "xxxx 12 8 y f u False\n",
      "xxxx 12 9 y d v False\n",
      "xxxx 12 10 y c c False\n",
      "xxxx 12 11 y c f False\n",
      "xxxx 12 12 y f a False\n",
      "seq1 12 13 y a y True\n",
      "xxxx 12 14 y e y False\n",
      "xxxx 12 15 y e y False\n",
      "xxxx 12 16 y b u False\n",
      "xxxx 12 17 y c e False\n",
      "xxxx 12 18 y g z False\n",
      "xxxx 12 19 y e e False\n",
      "xxxx 12 20 y b b False\n",
      "seq1 13 0 y ! x False\n",
      "xxxx 13 1 y c b False\n",
      "xxxx 13 2 y a h False\n",
      "xxxx 13 3 y f z False\n",
      "xxxx 13 4 y e f False\n",
      "xxxx 13 5 y h d False\n",
      "xxxx 13 6 y b c False\n",
      "xxxx 13 7 y h u False\n",
      "xxxx 13 8 y f v False\n",
      "xxxx 13 9 y d c False\n",
      "xxxx 13 10 y c f False\n",
      "xxxx 13 11 y c a False\n",
      "xxxx 13 12 y f y False\n",
      "seq1 13 13 y a y True\n",
      "xxxx 13 14 y e y False\n",
      "xxxx 13 15 y e u False\n",
      "xxxx 13 16 y b e False\n",
      "xxxx 13 17 y c z False\n",
      "xxxx 13 18 y g e False\n",
      "xxxx 13 19 y e b False\n",
      "xxxx 13 20 y b c False\n",
      "seq1 14 0 y ! b False\n",
      "xxxx 14 1 y c h False\n",
      "xxxx 14 2 y a z False\n",
      "xxxx 14 3 y f f False\n",
      "xxxx 14 4 y e d False\n",
      "xxxx 14 5 y h c False\n",
      "xxxx 14 6 y b u False\n",
      "xxxx 14 7 y h v False\n",
      "xxxx 14 8 y f c False\n",
      "xxxx 14 9 y d f False\n",
      "xxxx 14 10 y c a False\n",
      "xxxx 14 11 y c y False\n",
      "xxxx 14 12 y f y False\n",
      "seq1 14 13 y a y True\n",
      "xxxx 14 14 y e u False\n",
      "xxxx 14 15 y e e False\n",
      "xxxx 14 16 y b z False\n",
      "xxxx 14 17 y c e False\n",
      "xxxx 14 18 y g b False\n",
      "xxxx 14 19 y e c False\n",
      "xxxx 14 20 y b g False\n",
      "seq1 15 0 u ! h False\n",
      "xxxx 15 1 u c z False\n",
      "xxxx 15 2 u a f False\n",
      "xxxx 15 3 u f d False\n",
      "xxxx 15 4 u e c False\n",
      "xxxx 15 5 u h u False\n",
      "xxxx 15 6 u b v False\n",
      "xxxx 15 7 u h c False\n",
      "xxxx 15 8 u f f False\n",
      "xxxx 15 9 u d a False\n",
      "xxxx 15 10 u c y False\n",
      "xxxx 15 11 u c y False\n",
      "xxxx 15 12 u f y False\n",
      "seq1 15 13 u a u True\n",
      "seq2 15 14 u e e True\n",
      "xxxx 15 15 u e z False\n",
      "xxxx 15 16 u b e False\n",
      "xxxx 15 17 u c b False\n",
      "xxxx 15 18 u g c False\n",
      "xxxx 15 19 u e g False\n",
      "xxxx 15 20 u b w False\n",
      "seq1 16 0 z ! z False\n",
      "xxxx 16 1 z c f False\n",
      "xxxx 16 2 z a d False\n",
      "xxxx 16 3 z f c False\n",
      "xxxx 16 4 z e u False\n",
      "xxxx 16 5 z h v False\n",
      "xxxx 16 6 z b c False\n",
      "xxxx 16 7 z h f False\n",
      "xxxx 16 8 z f a False\n",
      "xxxx 16 9 z d y False\n",
      "xxxx 16 10 z c y False\n",
      "xxxx 16 11 z c y False\n",
      "xxxx 16 12 z f u False\n",
      "xxxx 16 13 z a e False\n",
      "seq1 16 14 z e z True\n",
      "seq2 16 15 z e e True\n",
      "seq2 16 16 z b b True\n",
      "seq2 16 17 z c c True\n",
      "seq2 16 18 z g g True\n",
      "xxxx 16 19 z e w False\n",
      "xxxx 16 20 z b u False\n",
      "seq1 17 0 w ! f False\n",
      "xxxx 17 1 w c d False\n",
      "xxxx 17 2 w a c False\n",
      "xxxx 17 3 w f u False\n",
      "xxxx 17 4 w e v False\n",
      "xxxx 17 5 w h c False\n",
      "xxxx 17 6 w b f False\n",
      "xxxx 17 7 w h a False\n",
      "xxxx 17 8 w f y False\n",
      "xxxx 17 9 w d y False\n",
      "xxxx 17 10 w c y False\n",
      "xxxx 17 11 w c u False\n",
      "xxxx 17 12 w f e False\n",
      "xxxx 17 13 w a z False\n",
      "xxxx 17 14 w e e False\n",
      "xxxx 17 15 w e b False\n",
      "xxxx 17 16 w b c False\n",
      "xxxx 17 17 w c g False\n",
      "seq1 17 18 w g w True\n",
      "xxxx 17 19 w e u False\n",
      "xxxx 17 20 w b e False\n",
      "seq1 18 0 u ! d False\n",
      "xxxx 18 1 u c c False\n",
      "xxxx 18 2 u a u False\n",
      "xxxx 18 3 u f v False\n",
      "xxxx 18 4 u e c False\n",
      "xxxx 18 5 u h f False\n",
      "xxxx 18 6 u b a False\n",
      "xxxx 18 7 u h y False\n",
      "xxxx 18 8 u f y False\n",
      "xxxx 18 9 u d y False\n",
      "xxxx 18 10 u c u False\n",
      "xxxx 18 11 u c e False\n",
      "xxxx 18 12 u f z False\n",
      "xxxx 18 13 u a e False\n",
      "xxxx 18 14 u e b False\n",
      "xxxx 18 15 u e c False\n",
      "xxxx 18 16 u b g False\n",
      "xxxx 18 17 u c w False\n",
      "seq1 18 18 u g u True\n",
      "seq2 18 19 u e e True\n",
      "xxxx 18 20 u b w False\n",
      "seq1 19 0 w ! c False\n",
      "xxxx 19 1 w c u False\n",
      "xxxx 19 2 w a v False\n",
      "xxxx 19 3 w f c False\n",
      "xxxx 19 4 w e f False\n",
      "xxxx 19 5 w h a False\n",
      "xxxx 19 6 w b y False\n",
      "xxxx 19 7 w h y False\n",
      "xxxx 19 8 w f y False\n",
      "xxxx 19 9 w d u False\n",
      "xxxx 19 10 w c e False\n",
      "xxxx 19 11 w c z False\n",
      "xxxx 19 12 w f e False\n",
      "xxxx 19 13 w a b False\n",
      "xxxx 19 14 w e c False\n",
      "xxxx 19 15 w e g False\n",
      "xxxx 19 16 w b w False\n",
      "xxxx 19 17 w c u False\n",
      "xxxx 19 18 w g e False\n",
      "seq1 19 19 w e w True\n",
      "seq2 19 20 w b b True\n",
      "seq1 20 0 y ! u False\n",
      "xxxx 20 1 y c v False\n",
      "xxxx 20 2 y a c False\n",
      "xxxx 20 3 y f f False\n",
      "xxxx 20 4 y e a False\n",
      "xxxx 20 5 y h y False\n",
      "xxxx 20 6 y b y False\n",
      "xxxx 20 7 y h y False\n",
      "xxxx 20 8 y f u False\n",
      "xxxx 20 9 y d e False\n",
      "xxxx 20 10 y c z False\n",
      "xxxx 20 11 y c e False\n",
      "xxxx 20 12 y f b False\n",
      "xxxx 20 13 y a c False\n",
      "xxxx 20 14 y e g False\n",
      "xxxx 20 15 y e w False\n",
      "xxxx 20 16 y b u False\n",
      "xxxx 20 17 y c e False\n",
      "xxxx 20 18 y g w False\n",
      "xxxx 20 19 y e b False\n",
      "seq1 20 20 y b y True\n",
      "T . . . . . . . . . . . . . . . . . . . .\n",
      "T T . . . . . . . . . . . . . . . . . . .\n",
      ". T T T . . . . . . . . . . . . . . . . .\n",
      ". . . T . . . . . . . . . . . . . . . . .\n",
      ". . . T . . . . . . . . . . . . . . . . .\n",
      ". . . T . . . . . . . . . . . . . . . . .\n",
      ". . . T T . . . . . . . . . . . . . . . .\n",
      ". . . . T T . . . . . . . . . . . . . . .\n",
      ". . . . . T T T . . . . . . . . . . . . .\n",
      ". . . . . . . T T T T . . . . . . . . . .\n",
      ". . . . . . . . . . T . . . . . . . . . .\n",
      ". . . . . . . . . . T T T T . . . . . . .\n",
      ". . . . . . . . . . . . . T . . . . . . .\n",
      ". . . . . . . . . . . . . T . . . . . . .\n",
      ". . . . . . . . . . . . . T . . . . . . .\n",
      ". . . . . . . . . . . . . T T . . . . . .\n",
      ". . . . . . . . . . . . . . T T T T T . .\n",
      ". . . . . . . . . . . . . . . . . . T . .\n",
      ". . . . . . . . . . . . . . . . . . T T .\n",
      ". . . . . . . . . . . . . . . . . . . T T\n",
      ". . . . . . . . . . . . . . . . . . . . T\n"
     ]
    }
   ],
   "source": [
    "v, bp, t = is_interleave(s2, s1, il, return_backpointers=True, return_table=True, debug=True)\n",
    "print(show_table(t))"
   ]
  },
  {
   "cell_type": "code",
   "execution_count": 22,
   "metadata": {},
   "outputs": [
    {
     "data": {
      "text/plain": [
       "'XcVafUZYWeUhXbhZfdcUVcfaYYYUeZebcgWUeWbY'"
      ]
     },
     "execution_count": 22,
     "metadata": {},
     "output_type": "execute_result"
    }
   ],
   "source": [
    "show_backtrace(bp)"
   ]
  },
  {
   "cell_type": "code",
   "execution_count": 23,
   "metadata": {},
   "outputs": [
    {
     "name": "stdout",
     "output_type": "stream",
     "text": [
      "T . . . . . . . . . . . . . . . . . . . .\n",
      "T T . . . . . . . . . . . . . . . . . . .\n",
      ". T T T . . . . . . . . . . . . . . . . .\n",
      ". . . T . . . . . . . . . . . . . . . . .\n",
      ". . . T . . . . . . . . . . . . . . . . .\n",
      ". . . T . . . . . . . . . . . . . . . . .\n",
      ". . . T T . . . . . . . . . . . . . . . .\n",
      ". . . . T T . . . . . . . . . . . . . . .\n",
      ". . . . . T T T . . . . . . . . . . . . .\n",
      ". . . . . . . T T T T . . . . . . . . . .\n",
      ". . . . . . . . . . T . . . . . . . . . .\n",
      ". . . . . . . . . . T T T T . . . . . . .\n",
      ". . . . . . . . . . . . . T . . . . . . .\n",
      ". . . . . . . . . . . . . T . . . . . . .\n",
      ". . . . . . . . . . . . . T . . . . . . .\n",
      ". . . . . . . . . . . . . T T . . . . . .\n",
      ". . . . . . . . . . . . . . T T T T T . .\n",
      ". . . . . . . . . . . . . . . . . . T . .\n",
      ". . . . . . . . . . . . . . . . . . T T .\n",
      ". . . . . . . . . . . . . . . . . . . T T\n",
      ". . . . . . . . . . . . . . . . . . . . T\n",
      "XcVafUZYWeUhXbhZfdcUVcfaYYYUeZebcgWUeWbY\n"
     ]
    },
    {
     "data": {
      "text/plain": [
       "True"
      ]
     },
     "execution_count": 23,
     "metadata": {},
     "output_type": "execute_result"
    }
   ],
   "source": [
    "v, bp, t = is_interleave(s2, s1, il, return_backpointers=True, return_table=True)\n",
    "print(show_table(t))\n",
    "print(show_backtrace(bp))\n",
    "v"
   ]
  },
  {
   "cell_type": "code",
   "execution_count": 24,
   "metadata": {},
   "outputs": [
    {
     "data": {
      "text/plain": [
       "('fdghaegbegehggbggcgcfecbgfacefhahahdhfafacchafacea',\n",
       " 'hdhadgebfeaehhhggbdghgcehabccgbddafeacagbgcahhfefe',\n",
       " 'fhdgdhahadgegebfbeegehaegghbhghggcggcfecbgbdgfhagcehabcccgbedfdhahaafeahcdhfaafaccghafbgacceahahfefe',\n",
       " 100)"
      ]
     },
     "execution_count": 24,
     "metadata": {},
     "output_type": "execute_result"
    }
   ],
   "source": [
    "s1 = make_string(50)\n",
    "s2 = make_string(50)\n",
    "il = interleave(s1, s2)\n",
    "s1, s2, il, len(il)"
   ]
  },
  {
   "cell_type": "code",
   "execution_count": 25,
   "metadata": {},
   "outputs": [
    {
     "name": "stdout",
     "output_type": "stream",
     "text": [
      "T T . . . . . . . . . . . . . . . . . . . . . . . . . . . . . . . . . . . . . . . . . . . . . . . . .\n",
      ". T T T . . . . . . . . . . . . . . . . . . . . . . . . . . . . . . . . . . . . . . . . . . . . . . .\n",
      ". T . T T T . . . . . . . . . . . . . . . . . . . . . . . . . . . . . . . . . . . . . . . . . . . . .\n",
      ". . . T . T . . . . . . . . . . . . . . . . . . . . . . . . . . . . . . . . . . . . . . . . . . . . .\n",
      ". . . T T T . . . . . . . . . . . . . . . . . . . . . . . . . . . . . . . . . . . . . . . . . . . . .\n",
      ". . . . . T . . . . . . . . . . . . . . . . . . . . . . . . . . . . . . . . . . . . . . . . . . . . .\n",
      ". . . . . T T T . . . . . . . . . . . . . . . . . . . . . . . . . . . . . . . . . . . . . . . . . . .\n",
      ". . . . . T . T T . . . . . . . . . . . . . . . . . . . . . . . . . . . . . . . . . . . . . . . . . .\n",
      ". . . . . . . T . . . . . . . . . . . . . . . . . . . . . . . . . . . . . . . . . . . . . . . . . . .\n",
      ". . . . . . . T T T . . . . . . . . . . . . . . . . . . . . . . . . . . . . . . . . . . . . . . . . .\n",
      ". . . . . . . . T T T T T . . . . . . . . . . . . . . . . . . . . . . . . . . . . . . . . . . . . . .\n",
      ". . . . . . . . . . . . T . . . . . . . . . . . . . . . . . . . . . . . . . . . . . . . . . . . . . .\n",
      ". . . . . . . . . . . . T T T . . . . . . . . . . . . . . . . . . . . . . . . . . . . . . . . . . . .\n",
      ". . . . . . . . . . . . . . T T . . . . . . . . . . . . . . . . . . . . . . . . . . . . . . . . . . .\n",
      ". . . . . . . . . . . . . . . T T . . . . . . . . . . . . . . . . . . . . . . . . . . . . . . . . . .\n",
      ". . . . . . . . . . . . . . . . T T . . . . . . . . . . . . . . . . . . . . . . . . . . . . . . . . .\n",
      ". . . . . . . . . . . . . . . . T T T T . . . . . . . . . . . . . . . . . . . . . . . . . . . . . . .\n",
      ". . . . . . . . . . . . . . . . T . T T T T T T T T . . . . . . . . . . . . . . . . . . . . . . . . .\n",
      ". . . . . . . . . . . . . . . . . . . . . . . T . T . . . . . . . . . . . . . . . . . . . . . . . . .\n",
      ". . . . . . . . . . . . . . . . . . . . . . . . . T . . . . . . . . . . . . . . . . . . . . . . . . .\n",
      ". . . . . . . . . . . . . . . . . . . . . . . . . T T . . . . . . . . . . . . . . . . . . . . . . . .\n",
      ". . . . . . . . . . . . . . . . . . . . . . . . . . T T . . . . . . . . . . . . . . . . . . . . . . .\n",
      ". . . . . . . . . . . . . . . . . . . . . . . . . . . T T T . . . . . . . . . . . . . . . . . . . . .\n",
      ". . . . . . . . . . . . . . . . . . . . . . . . . . . T . . . . . . . . . . . . . . . . . . . . . . .\n",
      ". . . . . . . . . . . . . . . . . . . . . . . . . . . T . . . . . . . . . . . . . . . . . . . . . . .\n",
      ". . . . . . . . . . . . . . . . . . . . . . . . . . . T . . . . . . . . . . . . . . . . . . . . . . .\n",
      ". . . . . . . . . . . . . . . . . . . . . . . . . . . T . . . . . . . . . . . . . . . . . . . . . . .\n",
      ". . . . . . . . . . . . . . . . . . . . . . . . . . . T T . . . . . . . . . . . . . . . . . . . . . .\n",
      ". . . . . . . . . . . . . . . . . . . . . . . . . . . T T . . . . . . . . . . . . . . . . . . . . . .\n",
      ". . . . . . . . . . . . . . . . . . . . . . . . . . . T T . . . . . . . . . . . . . . . . . . . . . .\n",
      ". . . . . . . . . . . . . . . . . . . . . . . . . . . . T . . . . . . . . . . . . . . . . . . . . . .\n",
      ". . . . . . . . . . . . . . . . . . . . . . . . . . . . T T . . . . . . . . . . . . . . . . . . . . .\n",
      ". . . . . . . . . . . . . . . . . . . . . . . . . . . . . T T . . . . . . . . . . . . . . . . . . . .\n",
      ". . . . . . . . . . . . . . . . . . . . . . . . . . . . . . T T T T T . . . . . . . . . . . . . . . .\n",
      ". . . . . . . . . . . . . . . . . . . . . . . . . . . . . . . T . T T . . . . . . . . . . . . . . . .\n",
      ". . . . . . . . . . . . . . . . . . . . . . . . . . . . . . . . . . T . . . . . . . . . . . . . . . .\n",
      ". . . . . . . . . . . . . . . . . . . . . . . . . . . . . . . . . . T . . . . . . . . . . . . . . . .\n",
      ". . . . . . . . . . . . . . . . . . . . . . . . . . . . . . . . . . T T . . . . . . . . . . . . . . .\n",
      ". . . . . . . . . . . . . . . . . . . . . . . . . . . . . . . . . . . T T T T T . . . . . . . . . . .\n",
      ". . . . . . . . . . . . . . . . . . . . . . . . . . . . . . . . . . . . . . T T T T T T . . . . . . .\n",
      ". . . . . . . . . . . . . . . . . . . . . . . . . . . . . . . . . . . . . . . . . . . T T T T . . . .\n",
      ". . . . . . . . . . . . . . . . . . . . . . . . . . . . . . . . . . . . . . . . . . . . . . T . . . .\n",
      ". . . . . . . . . . . . . . . . . . . . . . . . . . . . . . . . . . . . . . . . . . . . . . T T T . .\n",
      ". . . . . . . . . . . . . . . . . . . . . . . . . . . . . . . . . . . . . . . . . . . . . . . T T T T\n",
      ". . . . . . . . . . . . . . . . . . . . . . . . . . . . . . . . . . . . . . . . . . . . . . . . . T .\n",
      ". . . . . . . . . . . . . . . . . . . . . . . . . . . . . . . . . . . . . . . . . . . . . . . . . T T\n",
      ". . . . . . . . . . . . . . . . . . . . . . . . . . . . . . . . . . . . . . . . . . . . . . . . . . T\n",
      ". . . . . . . . . . . . . . . . . . . . . . . . . . . . . . . . . . . . . . . . . . . . . . . . . . T\n",
      ". . . . . . . . . . . . . . . . . . . . . . . . . . . . . . . . . . . . . . . . . . . . . . . . . . T\n",
      ". . . . . . . . . . . . . . . . . . . . . . . . . . . . . . . . . . . . . . . . . . . . . . . . . . T\n",
      ". . . . . . . . . . . . . . . . . . . . . . . . . . . . . . . . . . . . . . . . . . . . . . . . . . T\n",
      "fHdgDhaHADGegEBFbeEgehAEggHbHgHgGcgGcfecbgBDGfHaGCEHABcCCGBeDfDhahaAFEAhCdhfaAfaccGhafBGacCeAHaHFEFE\n"
     ]
    },
    {
     "data": {
      "text/plain": [
       "True"
      ]
     },
     "execution_count": 25,
     "metadata": {},
     "output_type": "execute_result"
    }
   ],
   "source": [
    "v, bp, t = is_interleave(s2, s1, il, return_backpointers=True, return_table=True)\n",
    "print(show_table(t))\n",
    "print(show_backtrace(bp))\n",
    "v"
   ]
  },
  {
   "cell_type": "code",
   "execution_count": 26,
   "metadata": {},
   "outputs": [
    {
     "name": "stdout",
     "output_type": "stream",
     "text": [
      "1000 loops, best of 3: 1.4 ms per loop\n"
     ]
    }
   ],
   "source": [
    "%%timeit\n",
    "is_interleave(s2, s1, il)"
   ]
  },
  {
   "cell_type": "code",
   "execution_count": 27,
   "metadata": {},
   "outputs": [
    {
     "name": "stdout",
     "output_type": "stream",
     "text": [
      "T . . . . . . . . . . . . . . . . . . . . . . . . . . . . . . . . . . . . . . . . . . . . . . . . . .\n",
      "T T T . . . . . . . . . . . . . . . . . . . . . . . . . . . . . . . . . . . . . . . . . . . . . . . .\n",
      ". T . . . . . . . . . . . . . . . . . . . . . . . . . . . . . . . . . . . . . . . . . . . . . . . . .\n",
      ". T T T T . . . . . . . . . . . . . . . . . . . . . . . . . . . . . . . . . . . . . . . . . . . . . .\n",
      ". . T . T . . . . . . . . . . . . . . . . . . . . . . . . . . . . . . . . . . . . . . . . . . . . . .\n",
      ". . T T T T T T . . . . . . . . . . . . . . . . . . . . . . . . . . . . . . . . . . . . . . . . . . .\n",
      ". . . . . . T . . . . . . . . . . . . . . . . . . . . . . . . . . . . . . . . . . . . . . . . . . . .\n",
      ". . . . . . T T T T . . . . . . . . . . . . . . . . . . . . . . . . . . . . . . . . . . . . . . . . .\n",
      ". . . . . . . T . T T . . . . . . . . . . . . . . . . . . . . . . . . . . . . . . . . . . . . . . . .\n",
      ". . . . . . . . . T T . . . . . . . . . . . . . . . . . . . . . . . . . . . . . . . . . . . . . . . .\n",
      ". . . . . . . . . . T . . . . . . . . . . . . . . . . . . . . . . . . . . . . . . . . . . . . . . . .\n",
      ". . . . . . . . . . T . . . . . . . . . . . . . . . . . . . . . . . . . . . . . . . . . . . . . . . .\n",
      ". . . . . . . . . . T T T . . . . . . . . . . . . . . . . . . . . . . . . . . . . . . . . . . . . . .\n",
      ". . . . . . . . . . . . T . . . . . . . . . . . . . . . . . . . . . . . . . . . . . . . . . . . . . .\n",
      ". . . . . . . . . . . . T T . . . . . . . . . . . . . . . . . . . . . . . . . . . . . . . . . . . . .\n",
      ". . . . . . . . . . . . . T T . . . . . . . . . . . . . . . . . . . . . . . . . . . . . . . . . . . .\n",
      ". . . . . . . . . . . . . . T T T T . . . . . . . . . . . . . . . . . . . . . . . . . . . . . . . . .\n",
      ". . . . . . . . . . . . . . . T T . . . . . . . . . . . . . . . . . . . . . . . . . . . . . . . . . .\n",
      ". . . . . . . . . . . . . . . . T T . . . . . . . . . . . . . . . . . . . . . . . . . . . . . . . . .\n",
      ". . . . . . . . . . . . . . . . T T . . . . . . . . . . . . . . . . . . . . . . . . . . . . . . . . .\n",
      ". . . . . . . . . . . . . . . . . T . . . . . . . . . . . . . . . . . . . . . . . . . . . . . . . . .\n",
      ". . . . . . . . . . . . . . . . . T . . . . . . . . . . . . . . . . . . . . . . . . . . . . . . . . .\n",
      ". . . . . . . . . . . . . . . . . T . . . . . . . . . . . . . . . . . . . . . . . . . . . . . . . . .\n",
      ". . . . . . . . . . . . . . . . . T T . . . . . . . . . . . . . . . . . . . . . . . . . . . . . . . .\n",
      ". . . . . . . . . . . . . . . . . T . . . . . . . . . . . . . . . . . . . . . . . . . . . . . . . . .\n",
      ". . . . . . . . . . . . . . . . . T T T T . . . . . . . . . . . . . . . . . . . . . . . . . . . . . .\n",
      ". . . . . . . . . . . . . . . . . . . . T T . . . . . . . . . . . . . . . . . . . . . . . . . . . . .\n",
      ". . . . . . . . . . . . . . . . . . . . . T T T T T T T T T . . . . . . . . . . . . . . . . . . . . .\n",
      ". . . . . . . . . . . . . . . . . . . . . . T . . . . T T T T T . . . . . . . . . . . . . . . . . . .\n",
      ". . . . . . . . . . . . . . . . . . . . . . T . . . . . . . . T T . . . . . . . . . . . . . . . . . .\n",
      ". . . . . . . . . . . . . . . . . . . . . . . . . . . . . . . . T T . . . . . . . . . . . . . . . . .\n",
      ". . . . . . . . . . . . . . . . . . . . . . . . . . . . . . . . . T T . . . . . . . . . . . . . . . .\n",
      ". . . . . . . . . . . . . . . . . . . . . . . . . . . . . . . . . T . . . . . . . . . . . . . . . . .\n",
      ". . . . . . . . . . . . . . . . . . . . . . . . . . . . . . . . . T T . . . . . . . . . . . . . . . .\n",
      ". . . . . . . . . . . . . . . . . . . . . . . . . . . . . . . . . T T T T T . . . . . . . . . . . . .\n",
      ". . . . . . . . . . . . . . . . . . . . . . . . . . . . . . . . . . . . . T T . . . . . . . . . . . .\n",
      ". . . . . . . . . . . . . . . . . . . . . . . . . . . . . . . . . . . . . . T . . . . . . . . . . . .\n",
      ". . . . . . . . . . . . . . . . . . . . . . . . . . . . . . . . . . . . . . T . . . . . . . . . . . .\n",
      ". . . . . . . . . . . . . . . . . . . . . . . . . . . . . . . . . . . . . . T T . . . . . . . . . . .\n",
      ". . . . . . . . . . . . . . . . . . . . . . . . . . . . . . . . . . . . . . T T . . . . . . . . . . .\n",
      ". . . . . . . . . . . . . . . . . . . . . . . . . . . . . . . . . . . . . . . T . . . . . . . . . . .\n",
      ". . . . . . . . . . . . . . . . . . . . . . . . . . . . . . . . . . . . . . . T . . . . . . . . . . .\n",
      ". . . . . . . . . . . . . . . . . . . . . . . . . . . . . . . . . . . . . . . T . . . . . . . . . . .\n",
      ". . . . . . . . . . . . . . . . . . . . . . . . . . . . . . . . . . . . . . . T T . . . . . . . . . .\n",
      ". . . . . . . . . . . . . . . . . . . . . . . . . . . . . . . . . . . . . . . . T . . . . . . . . . .\n",
      ". . . . . . . . . . . . . . . . . . . . . . . . . . . . . . . . . . . . . . . . T . . . . . . . . . .\n",
      ". . . . . . . . . . . . . . . . . . . . . . . . . . . . . . . . . . . . . . . . T T T . . . . . . . .\n",
      ". . . . . . . . . . . . . . . . . . . . . . . . . . . . . . . . . . . . . . . . . . T T . . . . . . .\n",
      ". . . . . . . . . . . . . . . . . . . . . . . . . . . . . . . . . . . . . . . . . . T T . . . . . . .\n",
      ". . . . . . . . . . . . . . . . . . . . . . . . . . . . . . . . . . . . . . . . . . . T T T . . . . .\n",
      ". . . . . . . . . . . . . . . . . . . . . . . . . . . . . . . . . . . . . . . . . . . T . T T T T T T\n",
      "FhDGdhaHAdgEGebfBeEGEHaeGGhBhGhgGCgGCFECBGbdgFhAgcehabccCgbEdFdHAHaAfeaHcDHFaAFACCgHAFbgAcCEahAhfefe\n"
     ]
    },
    {
     "data": {
      "text/plain": [
       "True"
      ]
     },
     "execution_count": 27,
     "metadata": {},
     "output_type": "execute_result"
    }
   ],
   "source": [
    "v, bp, t = is_interleave(s1, s2, il, return_backpointers=True, return_table=True)\n",
    "print(show_table(t))\n",
    "print(show_backtrace(bp))\n",
    "v"
   ]
  },
  {
   "cell_type": "code",
   "execution_count": 28,
   "metadata": {},
   "outputs": [
    {
     "data": {
      "text/plain": [
       "True"
      ]
     },
     "execution_count": 28,
     "metadata": {},
     "output_type": "execute_result"
    }
   ],
   "source": [
    "show_backtrace(bp).lower() == il"
   ]
  },
  {
   "cell_type": "code",
   "execution_count": 29,
   "metadata": {},
   "outputs": [
    {
     "data": {
      "text/plain": [
       "('febffabcddaaaeffcdhcdaffgfafafcchfffdcbbbagbdfdbdd', False, False)"
      ]
     },
     "execution_count": 29,
     "metadata": {},
     "output_type": "execute_result"
    }
   ],
   "source": [
    "s3 = make_string(50)\n",
    "s3, is_interleave(s1, s3, il), is_interleave(s2, s3, il)"
   ]
  },
  {
   "cell_type": "code",
   "execution_count": 30,
   "metadata": {},
   "outputs": [
    {
     "name": "stdout",
     "output_type": "stream",
     "text": [
      "T T . . . . . . . . . . . . . . . . . . . . . . . . . . . . . . . . . . . . . . . . . . . . . . . . .\n",
      "T . . . . . . . . . . . . . . . . . . . . . . . . . . . . . . . . . . . . . . . . . . . . . . . . . .\n",
      ". . . . . . . . . . . . . . . . . . . . . . . . . . . . . . . . . . . . . . . . . . . . . . . . . . .\n",
      ". . . . . . . . . . . . . . . . . . . . . . . . . . . . . . . . . . . . . . . . . . . . . . . . . . .\n",
      ". . . . . . . . . . . . . . . . . . . . . . . . . . . . . . . . . . . . . . . . . . . . . . . . . . .\n",
      ". . . . . . . . . . . . . . . . . . . . . . . . . . . . . . . . . . . . . . . . . . . . . . . . . . .\n",
      ". . . . . . . . . . . . . . . . . . . . . . . . . . . . . . . . . . . . . . . . . . . . . . . . . . .\n",
      ". . . . . . . . . . . . . . . . . . . . . . . . . . . . . . . . . . . . . . . . . . . . . . . . . . .\n",
      ". . . . . . . . . . . . . . . . . . . . . . . . . . . . . . . . . . . . . . . . . . . . . . . . . . .\n",
      ". . . . . . . . . . . . . . . . . . . . . . . . . . . . . . . . . . . . . . . . . . . . . . . . . . .\n",
      ". . . . . . . . . . . . . . . . . . . . . . . . . . . . . . . . . . . . . . . . . . . . . . . . . . .\n",
      ". . . . . . . . . . . . . . . . . . . . . . . . . . . . . . . . . . . . . . . . . . . . . . . . . . .\n",
      ". . . . . . . . . . . . . . . . . . . . . . . . . . . . . . . . . . . . . . . . . . . . . . . . . . .\n",
      ". . . . . . . . . . . . . . . . . . . . . . . . . . . . . . . . . . . . . . . . . . . . . . . . . . .\n",
      ". . . . . . . . . . . . . . . . . . . . . . . . . . . . . . . . . . . . . . . . . . . . . . . . . . .\n",
      ". . . . . . . . . . . . . . . . . . . . . . . . . . . . . . . . . . . . . . . . . . . . . . . . . . .\n",
      ". . . . . . . . . . . . . . . . . . . . . . . . . . . . . . . . . . . . . . . . . . . . . . . . . . .\n",
      ". . . . . . . . . . . . . . . . . . . . . . . . . . . . . . . . . . . . . . . . . . . . . . . . . . .\n",
      ". . . . . . . . . . . . . . . . . . . . . . . . . . . . . . . . . . . . . . . . . . . . . . . . . . .\n",
      ". . . . . . . . . . . . . . . . . . . . . . . . . . . . . . . . . . . . . . . . . . . . . . . . . . .\n",
      ". . . . . . . . . . . . . . . . . . . . . . . . . . . . . . . . . . . . . . . . . . . . . . . . . . .\n",
      ". . . . . . . . . . . . . . . . . . . . . . . . . . . . . . . . . . . . . . . . . . . . . . . . . . .\n",
      ". . . . . . . . . . . . . . . . . . . . . . . . . . . . . . . . . . . . . . . . . . . . . . . . . . .\n",
      ". . . . . . . . . . . . . . . . . . . . . . . . . . . . . . . . . . . . . . . . . . . . . . . . . . .\n",
      ". . . . . . . . . . . . . . . . . . . . . . . . . . . . . . . . . . . . . . . . . . . . . . . . . . .\n",
      ". . . . . . . . . . . . . . . . . . . . . . . . . . . . . . . . . . . . . . . . . . . . . . . . . . .\n",
      ". . . . . . . . . . . . . . . . . . . . . . . . . . . . . . . . . . . . . . . . . . . . . . . . . . .\n",
      ". . . . . . . . . . . . . . . . . . . . . . . . . . . . . . . . . . . . . . . . . . . . . . . . . . .\n",
      ". . . . . . . . . . . . . . . . . . . . . . . . . . . . . . . . . . . . . . . . . . . . . . . . . . .\n",
      ". . . . . . . . . . . . . . . . . . . . . . . . . . . . . . . . . . . . . . . . . . . . . . . . . . .\n",
      ". . . . . . . . . . . . . . . . . . . . . . . . . . . . . . . . . . . . . . . . . . . . . . . . . . .\n",
      ". . . . . . . . . . . . . . . . . . . . . . . . . . . . . . . . . . . . . . . . . . . . . . . . . . .\n",
      ". . . . . . . . . . . . . . . . . . . . . . . . . . . . . . . . . . . . . . . . . . . . . . . . . . .\n",
      ". . . . . . . . . . . . . . . . . . . . . . . . . . . . . . . . . . . . . . . . . . . . . . . . . . .\n",
      ". . . . . . . . . . . . . . . . . . . . . . . . . . . . . . . . . . . . . . . . . . . . . . . . . . .\n",
      ". . . . . . . . . . . . . . . . . . . . . . . . . . . . . . . . . . . . . . . . . . . . . . . . . . .\n",
      ". . . . . . . . . . . . . . . . . . . . . . . . . . . . . . . . . . . . . . . . . . . . . . . . . . .\n",
      ". . . . . . . . . . . . . . . . . . . . . . . . . . . . . . . . . . . . . . . . . . . . . . . . . . .\n",
      ". . . . . . . . . . . . . . . . . . . . . . . . . . . . . . . . . . . . . . . . . . . . . . . . . . .\n",
      ". . . . . . . . . . . . . . . . . . . . . . . . . . . . . . . . . . . . . . . . . . . . . . . . . . .\n",
      ". . . . . . . . . . . . . . . . . . . . . . . . . . . . . . . . . . . . . . . . . . . . . . . . . . .\n",
      ". . . . . . . . . . . . . . . . . . . . . . . . . . . . . . . . . . . . . . . . . . . . . . . . . . .\n",
      ". . . . . . . . . . . . . . . . . . . . . . . . . . . . . . . . . . . . . . . . . . . . . . . . . . .\n",
      ". . . . . . . . . . . . . . . . . . . . . . . . . . . . . . . . . . . . . . . . . . . . . . . . . . .\n",
      ". . . . . . . . . . . . . . . . . . . . . . . . . . . . . . . . . . . . . . . . . . . . . . . . . . .\n",
      ". . . . . . . . . . . . . . . . . . . . . . . . . . . . . . . . . . . . . . . . . . . . . . . . . . .\n",
      ". . . . . . . . . . . . . . . . . . . . . . . . . . . . . . . . . . . . . . . . . . . . . . . . . . .\n",
      ". . . . . . . . . . . . . . . . . . . . . . . . . . . . . . . . . . . . . . . . . . . . . . . . . . .\n",
      ". . . . . . . . . . . . . . . . . . . . . . . . . . . . . . . . . . . . . . . . . . . . . . . . . . .\n",
      ". . . . . . . . . . . . . . . . . . . . . . . . . . . . . . . . . . . . . . . . . . . . . . . . . . .\n",
      ". . . . . . . . . . . . . . . . . . . . . . . . . . . . . . . . . . . . . . . . . . . . . . . . . . .\n",
      "\n"
     ]
    },
    {
     "data": {
      "text/plain": [
       "False"
      ]
     },
     "execution_count": 30,
     "metadata": {},
     "output_type": "execute_result"
    }
   ],
   "source": [
    "v, bp, t = is_interleave(s1, s3, il, return_backpointers=True, return_table=True)\n",
    "print(show_table(t))\n",
    "print(show_backtrace(bp))\n",
    "v"
   ]
  },
  {
   "cell_type": "code",
   "execution_count": 31,
   "metadata": {
    "collapsed": true
   },
   "outputs": [],
   "source": [
    "def is_interleave_recursive(s1, s2, s3):\n",
    "    if not s1:\n",
    "        return s2 == s3\n",
    "    elif not s2:\n",
    "        return s1 == s3\n",
    "    else:\n",
    "        if s1[-1] == s2[-1] and s1[-1] == s3[-1]:\n",
    "            return is_interleave_recursive(s1[:-1], s2, s3[:-1]) or is_interleave(s1, s2[:-1], s3[:-1])\n",
    "        elif s1[-1] == s3[-1]:\n",
    "            return is_interleave_recursive(s1[:-1], s2, s3[:-1])\n",
    "        elif s2[-1] == s3[-1]:\n",
    "            return is_interleave(s1, s2[:-1], s3[:-1])\n",
    "        else:\n",
    "            return False"
   ]
  },
  {
   "cell_type": "code",
   "execution_count": 32,
   "metadata": {
    "collapsed": true
   },
   "outputs": [],
   "source": [
    "s1 = make_string(500)\n",
    "s2 = make_string(500)\n",
    "s3 = make_string(500)\n",
    "s12 = interleave(s1, s2)\n",
    "s23 = interleave(s2, s3)"
   ]
  },
  {
   "cell_type": "code",
   "execution_count": 33,
   "metadata": {},
   "outputs": [
    {
     "data": {
      "text/plain": [
       "True"
      ]
     },
     "execution_count": 33,
     "metadata": {},
     "output_type": "execute_result"
    }
   ],
   "source": [
    "is_interleave_recursive(s1, s2, s12)"
   ]
  },
  {
   "cell_type": "code",
   "execution_count": 34,
   "metadata": {},
   "outputs": [
    {
     "data": {
      "text/plain": [
       "False"
      ]
     },
     "execution_count": 34,
     "metadata": {},
     "output_type": "execute_result"
    }
   ],
   "source": [
    "is_interleave_recursive(s1, s2, s23)"
   ]
  },
  {
   "cell_type": "markdown",
   "metadata": {},
   "source": [
    "## Example"
   ]
  },
  {
   "cell_type": "code",
   "execution_count": 35,
   "metadata": {
    "collapsed": true
   },
   "outputs": [],
   "source": [
    "def show_annotated_table(table, bps):\n",
    "    return '\\n'.join(' '.join('*' if (i, j) == (0, 0) else bps[i, j][2] if table[i, j] else '.' for j in sorted(set([k[1] for k in table])))\n",
    "        for i in sorted(set([k[0] for k in table])))"
   ]
  },
  {
   "cell_type": "code",
   "execution_count": 36,
   "metadata": {
    "collapsed": true
   },
   "outputs": [],
   "source": [
    "def show_backtrace_star(bps):\n",
    "    i = max([0] + [k[0] for k in bps])\n",
    "    j = max([0] + [k[1] for k in bps])\n",
    "    chars = ''\n",
    "    stars = ''\n",
    "    if (i, j) in bps:\n",
    "        while i != 0 or j != 0:\n",
    "            chars += bps[i, j][2]\n",
    "            if bps[i, j][3] == 'seq1':\n",
    "                stars += '*'\n",
    "            else:\n",
    "                stars += ' '\n",
    "            i, j = bps[i, j][0], bps[i, j][1] \n",
    "        return ''.join(list(reversed(chars))) + '\\n' + ''.join(list(reversed(stars)))\n",
    "    else:\n",
    "        return ''"
   ]
  },
  {
   "cell_type": "code",
   "execution_count": 37,
   "metadata": {},
   "outputs": [
    {
     "name": "stdout",
     "output_type": "stream",
     "text": [
      "0: cddcdbbdbc\n",
      "1: bdbacbdaaa\n",
      "2: bdccbaadcbdbdacacaac\n",
      "3: dccaadcdba\n",
      "4: dcccaadcdddcdbbbadbc\n",
      "5: bcdbddaccbddbbdaabca\n",
      "6: cdcccadbaadcddcbcaac\n"
     ]
    },
    {
     "data": {
      "text/plain": [
       "['bcdbddaccbddbbdaabca']"
      ]
     },
     "execution_count": 37,
     "metadata": {},
     "output_type": "execute_result"
    }
   ],
   "source": [
    "s1 = make_string(10, alphabet='abcd')\n",
    "s2 = make_string(10, alphabet='abcd')\n",
    "s3 = make_string(10, alphabet='abcd')\n",
    "s4 = make_string(10, alphabet='abcd')\n",
    "il = interleave(s1, s2)\n",
    "bs = [s3, il, interleave(s3, s4), interleave(s2, s4), interleave(s1, s3)]\n",
    "random.shuffle(bs)\n",
    "bs = [s1, s2] + bs\n",
    "tg = [l for l in bs if is_interleave(s1, s2, l)]\n",
    "print('\\n'.join(['{}: {}'.format(i, s) for i, s in enumerate(bs)]))\n",
    "tg"
   ]
  },
  {
   "cell_type": "code",
   "execution_count": 38,
   "metadata": {},
   "outputs": [
    {
     "name": "stdout",
     "output_type": "stream",
     "text": [
      "* b . . . . . . . . .\n",
      ". c d b . . . . . . .\n",
      ". d . d . . . . . . .\n",
      ". . . d a c . . . . .\n",
      ". . . . c c b d . . .\n",
      ". . . . . . d d . . .\n",
      ". . . . . . . b . . .\n",
      ". . . . . . . b . . .\n",
      ". . . . . . . d a a .\n",
      ". . . . . . . . . b .\n",
      ". . . . . . . . . c a\n",
      "bCdbDDacCbdDBBDaaBCa\n",
      "bcdbddaccbddbbdaabca\n",
      " *  **  *  ****  ** \n"
     ]
    },
    {
     "data": {
      "text/plain": [
       "True"
      ]
     },
     "execution_count": 38,
     "metadata": {},
     "output_type": "execute_result"
    }
   ],
   "source": [
    "v, bp, t = is_interleave(s1, s2, il, return_backpointers=True, return_table=True)\n",
    "print(show_annotated_table(t, bp))\n",
    "print(show_backtrace(bp))\n",
    "print(show_backtrace_star(bp))\n",
    "v"
   ]
  },
  {
   "cell_type": "code",
   "execution_count": 39,
   "metadata": {},
   "outputs": [
    {
     "name": "stdout",
     "output_type": "stream",
     "text": [
      "dcccaadcdddcdbbbadbc\n",
      "   *     **** ** ***\n"
     ]
    },
    {
     "data": {
      "text/plain": [
       "4"
      ]
     },
     "execution_count": 39,
     "metadata": {},
     "output_type": "execute_result"
    }
   ],
   "source": [
    "ind = [i for i, b in enumerate(bs) if is_interleave(s1, s3, b)][0]\n",
    "v, bp = is_interleave(s1, s3, bs[ind], return_backpointers=True)\n",
    "print(show_backtrace_star(bp))\n",
    "ind"
   ]
  },
  {
   "cell_type": "code",
   "execution_count": 40,
   "metadata": {},
   "outputs": [
    {
     "name": "stdout",
     "output_type": "stream",
     "text": [
      "* . . . . . . . . . .\n",
      "b c d . . . . . . . .\n",
      ". d . . . . . . . . .\n",
      ". b d d . . . . . . .\n",
      ". . . a c . . . . . .\n",
      ". . . c c . . . . . .\n",
      ". . . . b d . . . . .\n",
      ". . . . d d b b d . .\n",
      ". . . . . . . . a . .\n",
      ". . . . . . . . a b c\n",
      ". . . . . . . . . . a\n",
      "BcDBddAcCBdDbbdAAbcA\n",
      "bcdbddaccbddbbdaabca\n",
      "* **  * ** *   **  *\n"
     ]
    },
    {
     "data": {
      "text/plain": [
       "True"
      ]
     },
     "execution_count": 40,
     "metadata": {},
     "output_type": "execute_result"
    }
   ],
   "source": [
    "v, bp, t = is_interleave(s2, s1, il, return_backpointers=True, return_table=True)\n",
    "print(show_annotated_table(t, bp))\n",
    "print(show_backtrace(bp))\n",
    "print(show_backtrace_star(bp))\n",
    "v"
   ]
  },
  {
   "cell_type": "code",
   "execution_count": 41,
   "metadata": {},
   "outputs": [
    {
     "name": "stdout",
     "output_type": "stream",
     "text": [
      "* . . . . . . . . . .\n",
      ". . . . . . . . . . .\n",
      ". . . . . . . . . . .\n",
      ". . . . . . . . . . .\n",
      ". . . . . . . . . . .\n",
      ". . . . . . . . . . .\n",
      ". . . . . . . . . . .\n",
      ". . . . . . . . . . .\n",
      ". . . . . . . . . . .\n",
      ". . . . . . . . . . .\n",
      ". . . . . . . . . . .\n",
      "\n",
      "\n"
     ]
    },
    {
     "data": {
      "text/plain": [
       "False"
      ]
     },
     "execution_count": 41,
     "metadata": {},
     "output_type": "execute_result"
    }
   ],
   "source": [
    "v, bp, t = is_interleave(s1, s3, il, return_backpointers=True, return_table=True)\n",
    "print(show_annotated_table(t, bp))\n",
    "print(show_backtrace(bp))\n",
    "print(show_backtrace_star(bp))\n",
    "v"
   ]
  },
  {
   "cell_type": "code",
   "execution_count": 42,
   "metadata": {},
   "outputs": [
    {
     "name": "stdout",
     "output_type": "stream",
     "text": [
      "* . . . . . . . . . .\n",
      "b . . . . . . . . . .\n",
      ". . . . . . . . . . .\n",
      ". . . . . . . . . . .\n",
      ". . . . . . . . . . .\n",
      ". . . . . . . . . . .\n",
      ". . . . . . . . . . .\n",
      ". . . . . . . . . . .\n",
      ". . . . . . . . . . .\n",
      ". . . . . . . . . . .\n",
      ". . . . . . . . . . .\n",
      "B\n",
      "b\n",
      "*\n"
     ]
    },
    {
     "data": {
      "text/plain": [
       "False"
      ]
     },
     "execution_count": 42,
     "metadata": {},
     "output_type": "execute_result"
    }
   ],
   "source": [
    "v, bp, t = is_interleave(s2, s3, il, return_backpointers=True, return_table=True)\n",
    "print(show_annotated_table(t, bp))\n",
    "print(show_backtrace(bp))\n",
    "print(show_backtrace_star(bp))\n",
    "v"
   ]
  },
  {
   "cell_type": "markdown",
   "metadata": {
    "collapsed": true
   },
   "source": [
    "# Make puzzle data\n",
    "\n",
    "## Note to self\n",
    "Include some distractors in the test set, such that:\n",
    "* subsequence(my_bill, distractor) is true\n",
    "* subsequence(friend_bill, distractor) is true\n",
    "* interleave(my_bill, friend_bill, distractor) is false\n",
    "\n",
    "(i.e. characters are shared between my_bill and friend_bill)\n",
    "\n",
    "Students are taking a greedy approach to subsequence, and saying the interleave is true if both bills are subsequences of the distractor.\n",
    "\n",
    "i.e. \"aaa\" and \"aab\" are both subsequences of \"aaabbb\", but cannot be interleaved to form \"aaabbb\".\n"
   ]
  },
  {
   "cell_type": "code",
   "execution_count": 43,
   "metadata": {
    "collapsed": true
   },
   "outputs": [],
   "source": [
    "my_bill = make_string(200)\n",
    "friend_bill = make_string(200)\n",
    "other_bills = [make_string(200) for _ in range(98)]\n",
    "\n",
    "target_interleaved = interleave(my_bill, friend_bill)\n",
    "mine_interleaved = [interleave(my_bill, o) for o in random.sample(other_bills, 21)]\n",
    "friend_interleaved = [interleave(friend_bill, o) for o in random.sample(other_bills, 13)]\n",
    "other_interleaved = []\n",
    "for _ in range(103):\n",
    "    s1, s2 = random.sample(other_bills, 2)\n",
    "    other_interleaved += [interleave(s1, s2)]"
   ]
  },
  {
   "cell_type": "code",
   "execution_count": 44,
   "metadata": {
    "collapsed": true
   },
   "outputs": [],
   "source": [
    "all_targets = [target_interleaved] + mine_interleaved + friend_interleaved + other_interleaved"
   ]
  },
  {
   "cell_type": "code",
   "execution_count": 45,
   "metadata": {},
   "outputs": [
    {
     "name": "stdout",
     "output_type": "stream",
     "text": [
      "CPU times: user 3.4 s, sys: 0 ns, total: 3.4 s\n",
      "Wall time: 3.4 s\n"
     ]
    },
    {
     "data": {
      "text/plain": [
       "[0]"
      ]
     },
     "execution_count": 45,
     "metadata": {},
     "output_type": "execute_result"
    }
   ],
   "source": [
    "%time [i for i, s12 in enumerate(all_targets) if is_interleave(my_bill, friend_bill, s12)]"
   ]
  },
  {
   "cell_type": "code",
   "execution_count": 46,
   "metadata": {},
   "outputs": [
    {
     "name": "stdout",
     "output_type": "stream",
     "text": [
      "CPU times: user 932 ms, sys: 0 ns, total: 932 ms\n",
      "Wall time: 932 ms\n"
     ]
    },
    {
     "data": {
      "text/plain": [
       "[0]"
      ]
     },
     "execution_count": 46,
     "metadata": {},
     "output_type": "execute_result"
    }
   ],
   "source": [
    "%time [i for i, s12 in enumerate(all_targets) if is_interleave_recursive(my_bill, friend_bill, s12)]"
   ]
  },
  {
   "cell_type": "code",
   "execution_count": 47,
   "metadata": {
    "collapsed": true
   },
   "outputs": [],
   "source": [
    "bill_set = all_targets + random.sample(other_bills, 8)\n",
    "random.shuffle(bill_set)\n",
    "bill_set = [my_bill, friend_bill] + bill_set\n",
    "\n",
    "# with open('09-bills.txt', 'w') as f:\n",
    "#     for i, b in enumerate(bill_set):\n",
    "#         f.write('{}: {}\\n'.format(i, b))"
   ]
  },
  {
   "cell_type": "code",
   "execution_count": 51,
   "metadata": {
    "collapsed": true
   },
   "outputs": [],
   "source": [
    "def is_subseq_greedy(s1, s2):\n",
    "    i = j = 0\n",
    "    while i < len(s1) and j < len(s2):\n",
    "        if s1[i] == s2[j]:\n",
    "            i += 1\n",
    "        j += 1\n",
    "    return i == len(s1)"
   ]
  },
  {
   "cell_type": "code",
   "execution_count": 94,
   "metadata": {
    "collapsed": true
   },
   "outputs": [],
   "source": [
    "def subseq_partition(s1, s2):\n",
    "    i = j = 0\n",
    "    remainder = ''\n",
    "    while i < len(s1) and j < len(s2):\n",
    "        if s1[i] == s2[j]:\n",
    "            i += 1\n",
    "        else:\n",
    "            remainder += s2[j]\n",
    "        j += 1\n",
    "    return i == len(s1), remainder"
   ]
  },
  {
   "cell_type": "code",
   "execution_count": 88,
   "metadata": {},
   "outputs": [
    {
     "data": {
      "text/plain": [
       "(40, 40, 20, 20)"
      ]
     },
     "execution_count": 88,
     "metadata": {},
     "output_type": "execute_result"
    }
   ],
   "source": [
    "common = make_string(10)\n",
    "padding = make_string(10)\n",
    "middle = interleave(common, padding)\n",
    "\n",
    "pre1 = make_string(5)\n",
    "suf1 = make_string(5)\n",
    "\n",
    "pre2 = make_string(5)\n",
    "suf2 = make_string(5)\n",
    "\n",
    "pre = interleave(pre1, pre2)\n",
    "suf = interleave(suf1, suf2)\n",
    "\n",
    "distractor = pre + middle + suf\n",
    "\n",
    "sub1 = pre1 + common + suf1\n",
    "sub2 = pre2 + common + suf2\n",
    "\n",
    "valid = interleave(sub1, sub2)\n",
    "\n",
    "len(distractor), len(valid), len(sub1), len(sub2)"
   ]
  },
  {
   "cell_type": "code",
   "execution_count": 89,
   "metadata": {},
   "outputs": [
    {
     "data": {
      "text/plain": [
       "(True, True)"
      ]
     },
     "execution_count": 89,
     "metadata": {},
     "output_type": "execute_result"
    }
   ],
   "source": [
    "is_subseq_greedy(sub1, distractor), is_subseq_greedy(sub2, distractor)"
   ]
  },
  {
   "cell_type": "code",
   "execution_count": 90,
   "metadata": {},
   "outputs": [
    {
     "data": {
      "text/plain": [
       "(True, True)"
      ]
     },
     "execution_count": 90,
     "metadata": {},
     "output_type": "execute_result"
    }
   ],
   "source": [
    "is_subseq_greedy(sub1, valid), is_subseq_greedy(sub2, valid)"
   ]
  },
  {
   "cell_type": "code",
   "execution_count": 91,
   "metadata": {},
   "outputs": [
    {
     "data": {
      "text/plain": [
       "(False, True)"
      ]
     },
     "execution_count": 91,
     "metadata": {},
     "output_type": "execute_result"
    }
   ],
   "source": [
    "is_interleave(sub1, sub2, distractor), is_interleave(sub1, sub2, valid)"
   ]
  },
  {
   "cell_type": "code",
   "execution_count": 93,
   "metadata": {},
   "outputs": [
    {
     "data": {
      "text/plain": [
       "('efcfdffcdbcehdffghch',\n",
       " 'hhdgeffcdbcehdfhfded',\n",
       " 'hhefdcgefdffdhgcdbcdbbeebhdefgfhgfdehdch',\n",
       " 'hhdegeffcffcdfdbcefchdfdbchehfddeffghdch')"
      ]
     },
     "execution_count": 93,
     "metadata": {},
     "output_type": "execute_result"
    }
   ],
   "source": [
    "sub1, sub2, distractor, valid"
   ]
  },
  {
   "cell_type": "code",
   "execution_count": 96,
   "metadata": {},
   "outputs": [
    {
     "data": {
      "text/plain": [
       "False"
      ]
     },
     "execution_count": 96,
     "metadata": {},
     "output_type": "execute_result"
    }
   ],
   "source": [
    "a, b = subseq_partition(sub1, distractor)\n",
    "b == sub2"
   ]
  },
  {
   "cell_type": "code",
   "execution_count": 98,
   "metadata": {},
   "outputs": [
    {
     "data": {
      "text/plain": [
       "('hhdgeffcdbcehfdhfded', 'hhdgeffcdbcehdfhfded')"
      ]
     },
     "execution_count": 98,
     "metadata": {},
     "output_type": "execute_result"
    }
   ],
   "source": [
    "a, b = subseq_partition(sub1, valid)\n",
    "b, sub2"
   ]
  },
  {
   "cell_type": "code",
   "execution_count": null,
   "metadata": {
    "collapsed": true
   },
   "outputs": [],
   "source": []
  }
 ],
 "metadata": {
  "kernelspec": {
   "display_name": "Python 3",
   "language": "python",
   "name": "python3"
  },
  "language_info": {
   "codemirror_mode": {
    "name": "ipython",
    "version": 3
   },
   "file_extension": ".py",
   "mimetype": "text/x-python",
   "name": "python",
   "nbconvert_exporter": "python",
   "pygments_lexer": "ipython3",
   "version": "3.5.2+"
  }
 },
 "nbformat": 4,
 "nbformat_minor": 1
}
