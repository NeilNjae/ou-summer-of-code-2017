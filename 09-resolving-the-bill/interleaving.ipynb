{
 "cells": [
  {
   "cell_type": "markdown",
   "metadata": {},
   "source": [
    "# Interleaved strings\n",
    "\n",
    "Given two strings a and b and a target c, could c be formed form some interleaving/merge of a and b?\n",
    "\n",
    "For example,\n",
    "Given:\n",
    "s1 = \"aabcc\",\n",
    "s2 = \"dbbca\",\n",
    "\n",
    "When s3 = \"aadbbcbcac\", return true.\n",
    "When s3 = \"aadbbbaccc\", return false."
   ]
  },
  {
   "cell_type": "code",
   "execution_count": 2,
   "metadata": {
    "collapsed": true
   },
   "outputs": [],
   "source": [
    "import random\n",
    "import string"
   ]
  },
  {
   "cell_type": "code",
   "execution_count": 47,
   "metadata": {
    "collapsed": true
   },
   "outputs": [],
   "source": [
    "import sys\n",
    "sys.setrecursionlimit(10**6)"
   ]
  },
  {
   "cell_type": "code",
   "execution_count": 3,
   "metadata": {
    "collapsed": true
   },
   "outputs": [],
   "source": [
    "s1 = \"aabcc\"\n",
    "s2 = \"dbbca\"\n",
    "\n",
    "s3t = \"aadbbcbcac\"\n",
    "s3f = \"aadbbbaccc\""
   ]
  },
  {
   "cell_type": "code",
   "execution_count": 4,
   "metadata": {},
   "outputs": [
    {
     "data": {
      "text/plain": [
       "[(0, ''), (1, 'a'), (2, 'aa'), (3, 'aab'), (4, 'aabc'), (5, 'aabcc')]"
      ]
     },
     "execution_count": 4,
     "metadata": {},
     "output_type": "execute_result"
    }
   ],
   "source": [
    "[(i, s1[:i]) for i in range(len(s1)+1)]"
   ]
  },
  {
   "cell_type": "markdown",
   "metadata": {},
   "source": [
    "`dp_table[i, j]` is True if first `i` + `j` characters of `s3` can be formed from interleaving of first `i` characters of `s1` and first `j` characters of `s2`."
   ]
  },
  {
   "cell_type": "code",
   "execution_count": 5,
   "metadata": {},
   "outputs": [
    {
     "data": {
      "text/plain": [
       "[[True, False, False, False, False, False],\n",
       " [False, False, False, False, False, False],\n",
       " [False, False, False, False, False, False],\n",
       " [False, False, False, False, False, False],\n",
       " [False, False, False, False, False, False],\n",
       " [False, False, False, False, False, False]]"
      ]
     },
     "execution_count": 5,
     "metadata": {},
     "output_type": "execute_result"
    }
   ],
   "source": [
    "dp_table = [[False] * (len(s1) + 1) for _ in range(len(s2) + 1)]\n",
    "dp_table[0][0] = True\n",
    "dp_table"
   ]
  },
  {
   "cell_type": "code",
   "execution_count": 6,
   "metadata": {
    "scrolled": true
   },
   "outputs": [
    {
     "data": {
      "text/plain": [
       "{(0, 0): False,\n",
       " (0, 1): False,\n",
       " (0, 2): False,\n",
       " (0, 3): False,\n",
       " (0, 4): False,\n",
       " (0, 5): False,\n",
       " (1, 0): False,\n",
       " (1, 1): False,\n",
       " (1, 2): False,\n",
       " (1, 3): False,\n",
       " (1, 4): False,\n",
       " (1, 5): False,\n",
       " (2, 0): False,\n",
       " (2, 1): False,\n",
       " (2, 2): False,\n",
       " (2, 3): False,\n",
       " (2, 4): False,\n",
       " (2, 5): False,\n",
       " (3, 0): False,\n",
       " (3, 1): False,\n",
       " (3, 2): False,\n",
       " (3, 3): False,\n",
       " (3, 4): False,\n",
       " (3, 5): False,\n",
       " (4, 0): False,\n",
       " (4, 1): False,\n",
       " (4, 2): False,\n",
       " (4, 3): False,\n",
       " (4, 4): False,\n",
       " (4, 5): False,\n",
       " (5, 0): False,\n",
       " (5, 1): False,\n",
       " (5, 2): False,\n",
       " (5, 3): False,\n",
       " (5, 4): False,\n",
       " (5, 5): False}"
      ]
     },
     "execution_count": 6,
     "metadata": {},
     "output_type": "execute_result"
    }
   ],
   "source": [
    "dp_table = {(i, j): False\n",
    "           for i in range(len(s1)+1)\n",
    "           for j in range(len(s2)+1)}\n",
    "dp_table"
   ]
  },
  {
   "cell_type": "code",
   "execution_count": 7,
   "metadata": {
    "collapsed": true
   },
   "outputs": [],
   "source": [
    "def show_table(table):\n",
    "    return '\\n'.join(\n",
    "        ' '.join(str(table[i, j])[0] for j in sorted(set([k[1] for k in table])))\n",
    "        for i in sorted(set([k[0] for k in table])))        "
   ]
  },
  {
   "cell_type": "code",
   "execution_count": 8,
   "metadata": {
    "collapsed": true
   },
   "outputs": [],
   "source": [
    "def show_table(table):\n",
    "    return '\\n'.join(\n",
    "        ' '.join('T' if table[i, j] else '.' for j in sorted(set([k[1] for k in table])))\n",
    "        for i in sorted(set([k[0] for k in table])))        "
   ]
  },
  {
   "cell_type": "code",
   "execution_count": 9,
   "metadata": {},
   "outputs": [
    {
     "name": "stdout",
     "output_type": "stream",
     "text": [
      ". . . . . .\n",
      ". . . . . .\n",
      ". . . . . .\n",
      ". . . . . .\n",
      ". . . . . .\n",
      ". . . . . .\n"
     ]
    }
   ],
   "source": [
    "print(show_table(dp_table))"
   ]
  },
  {
   "cell_type": "code",
   "execution_count": 10,
   "metadata": {},
   "outputs": [
    {
     "name": "stdout",
     "output_type": "stream",
     "text": [
      "aabcc dbbca aadbbcbcac\n",
      "aa 0 0 ! ! ! True\n",
      "s2 0 1 ! d a False\n",
      "s2 0 2 ! b a False\n",
      "s2 0 3 ! b d False\n",
      "s2 0 4 ! c b False\n",
      "s2 0 5 ! a b False\n",
      "s1 1 0 a ! a True\n",
      "xx 1 1 a d a False\n",
      "xx 1 2 a b d False\n",
      "xx 1 3 a b b False\n",
      "xx 1 4 a c b False\n",
      "xx 1 5 a a c False\n",
      "s1 2 0 a ! a True\n",
      "s2 2 1 a d d True\n",
      "s2 2 2 a b b True\n",
      "s2 2 3 a b b True\n",
      "s2 2 4 a c c True\n",
      "xx 2 5 a a b False\n",
      "s1 3 0 b ! d False\n",
      "s1 3 1 b d b True\n",
      "s2 3 2 b b b True\n",
      "s1 3 2 b b b True\n",
      "xx 3 3 b b c False\n",
      "s1 3 4 b c b True\n",
      "xx 3 5 b a c False\n",
      "s1 4 0 c ! b False\n",
      "xx 4 1 c d b False\n",
      "s1 4 2 c b c True\n",
      "s2 4 3 c b b True\n",
      "s2 4 4 c c c True\n",
      "s1 4 4 c c c True\n",
      "s2 4 5 c a a True\n",
      "s1 5 0 c ! b False\n",
      "xx 5 1 c d c False\n",
      "xx 5 2 c b b False\n",
      "s1 5 3 c b c True\n",
      "xx 5 4 c c a False\n",
      "s1 5 5 c a c True\n",
      "T . . . . .\n",
      "T . . . . .\n",
      "T T T T T .\n",
      ". T T . T .\n",
      ". . T T T T\n",
      ". . . T . T\n"
     ]
    },
    {
     "data": {
      "text/plain": [
       "{(1, 0): (0, 0, 'a', 's1'),\n",
       " (2, 0): (1, 0, 'a', 's1'),\n",
       " (2, 1): (2, 0, 'd', 's2'),\n",
       " (2, 2): (2, 1, 'b', 's2'),\n",
       " (2, 3): (2, 2, 'b', 's2'),\n",
       " (2, 4): (2, 3, 'c', 's2'),\n",
       " (3, 1): (2, 1, 'b', 's1'),\n",
       " (3, 2): (2, 2, 'b', 's1'),\n",
       " (3, 4): (2, 4, 'b', 's1'),\n",
       " (4, 2): (3, 2, 'c', 's1'),\n",
       " (4, 3): (4, 2, 'b', 's2'),\n",
       " (4, 4): (3, 4, 'c', 's1'),\n",
       " (4, 5): (4, 4, 'a', 's2'),\n",
       " (5, 3): (4, 3, 'c', 's1'),\n",
       " (5, 5): (4, 5, 'c', 's1')}"
      ]
     },
     "execution_count": 10,
     "metadata": {},
     "output_type": "execute_result"
    }
   ],
   "source": [
    "s3 = s3t\n",
    "\n",
    "print(s1, s2, s3)\n",
    "\n",
    "dp_table = {(i, j): False\n",
    "           for i in range(len(s1)+1)\n",
    "           for j in range(len(s2)+1)}\n",
    "\n",
    "backpointers = {}\n",
    "\n",
    "for i in range(len(s1)+1):\n",
    "    for j in range(len(s2)+1):\n",
    "        if i == 0 and j == 0:\n",
    "            dp_table[i, j] = True\n",
    "            print('aa', i, j, '!', '!', '!', dp_table[i, j])\n",
    "        elif i == 0:\n",
    "            # extend by character from s2\n",
    "            if dp_table[i, j-1] and s2[j-1] == s3[i+j-1]:\n",
    "                dp_table[i, j] = True\n",
    "                backpointers[i, j] = (i, j-1, s2[j-1], 's2')\n",
    "            print('s2', i, j, '!', s2[j-1], s3[i+j-1], dp_table[i, j])\n",
    "        elif j == 0:\n",
    "            # extend by character from s1\n",
    "            if dp_table[i-1, j] and s1[i-1] == s3[i+j-1]:\n",
    "                dp_table[i, j] = True\n",
    "                backpointers[i, j] = (i-1, j, s1[i-1], 's1')\n",
    "            print('s1', i, j, s1[i-1], '!', s3[i+j-1], dp_table[i, j])\n",
    "        else:\n",
    "            # extend by character from s2\n",
    "            if dp_table[i, j-1] and s2[j-1] == s3[i+j-1]:\n",
    "                dp_table[i, j] = True\n",
    "                backpointers[i, j] = (i, j-1, s2[j-1], 's2')\n",
    "                print('s2', i, j, s1[i-1], s2[j-1], s3[i+j-1], dp_table[i, j])                \n",
    "            # extend by character from s1\n",
    "            if dp_table[i-1, j] and s1[i-1] == s3[i+j-1]:\n",
    "                dp_table[i, j] = True\n",
    "                backpointers[i, j] = (i-1, j, s1[i-1], 's1')                \n",
    "                print('s1', i, j, s1[i-1], s2[j-1], s3[i+j-1], dp_table[i, j])\n",
    "            if not dp_table[i, j]:\n",
    "                print('xx', i, j, s1[i-1], s2[j-1], s3[i+j-1], dp_table[i, j])\n",
    "\n",
    "print(show_table(dp_table))\n",
    "backpointers"
   ]
  },
  {
   "cell_type": "code",
   "execution_count": 11,
   "metadata": {
    "collapsed": true
   },
   "outputs": [],
   "source": [
    "def is_interleave(seq1, seq2, seq3, return_backpointers=False, return_table=False, debug=False):\n",
    "    \"\"\"Return true if seq3 is some interleaved merge of seq1 and seq2.\n",
    "    If return_backpointers, also return the set of backpointers to\n",
    "    reconstruct the interleaving\"\"\"\n",
    "    \n",
    "    # dp_table[i, j] is True if first i+j characters of seq is made up of \n",
    "    # an interleaving of the first i characters of seq1 and the \n",
    "    # first j characters of seq2\n",
    "    \n",
    "    if len(seq1) + len(seq2) != len(seq3):\n",
    "        if return_backpointers or return_table:\n",
    "            retval = [False]\n",
    "            if return_backpointers:\n",
    "                retval += [{}]\n",
    "            if return_table:\n",
    "                retval += [{}]\n",
    "            return tuple(retval)\n",
    "        else:\n",
    "            return False\n",
    "    \n",
    "    dp_table = {(i, j): False\n",
    "               for i in range(len(seq1)+1)\n",
    "               for j in range(len(seq2)+1)}\n",
    "\n",
    "    backpointers = {}\n",
    "\n",
    "    for i in range(len(seq1)+1):\n",
    "        for j in range(len(seq2)+1):\n",
    "            if i == 0 and j == 0:\n",
    "                dp_table[i, j] = True\n",
    "                if debug: print('xxxx', i, j, '!', '!', '!', dp_table[i, j])\n",
    "            elif i == 0:\n",
    "                # extend by character from seq2\n",
    "                if dp_table[i, j-1] and seq2[j-1] == seq3[i+j-1]:\n",
    "                    dp_table[i, j] = True\n",
    "                    backpointers[i, j] = (i, j-1, seq2[j-1], 'seq2')\n",
    "                if debug: print('seq2', i, j, '!', seq2[j-1], seq3[i+j-1], dp_table[i, j])\n",
    "            elif j == 0:\n",
    "                # extend by character from seq1\n",
    "                if dp_table[i-1, j] and seq1[i-1] == seq3[i+j-1]:\n",
    "                    dp_table[i, j] = True\n",
    "                    backpointers[i, j] = (i-1, j, seq1[i-1], 'seq1')\n",
    "                if debug: print('seq1', i, j, seq1[i-1], '!', seq3[i+j-1], dp_table[i, j])\n",
    "            else:\n",
    "                # extend by character from seq2\n",
    "                if dp_table[i, j-1] and seq2[j-1] == seq3[i+j-1]:\n",
    "                    dp_table[i, j] = True\n",
    "                    backpointers[i, j] = (i, j-1, seq2[j-1], 'seq2')\n",
    "                    if debug: print('seq2', i, j, seq1[i-1], seq2[j-1], seq3[i+j-1], dp_table[i, j])                \n",
    "                # extend by character from seq1\n",
    "                if dp_table[i-1, j] and seq1[i-1] == seq3[i+j-1]:\n",
    "                    dp_table[i, j] = True\n",
    "                    backpointers[i, j] = (i-1, j, seq1[i-1], 'seq1')                \n",
    "                    if debug: print('seq1', i, j, seq1[i-1], seq2[j-1], seq3[i+j-1], dp_table[i, j])\n",
    "                if not dp_table[i, j]:\n",
    "                    if debug: print('xxxx', i, j, seq1[i-1], seq2[j-1], seq3[i+j-1], dp_table[i, j])\n",
    "\n",
    "    if return_backpointers or return_table:\n",
    "        retval = [dp_table[len(seq1), len(seq2)]]\n",
    "        if return_backpointers:\n",
    "            retval += [backpointers]\n",
    "        if return_table:\n",
    "            retval += [dp_table]\n",
    "        return tuple(retval)\n",
    "    else:\n",
    "        return dp_table[len(seq1), len(seq2)]"
   ]
  },
  {
   "cell_type": "code",
   "execution_count": 12,
   "metadata": {},
   "outputs": [
    {
     "data": {
      "text/plain": [
       "True"
      ]
     },
     "execution_count": 12,
     "metadata": {},
     "output_type": "execute_result"
    }
   ],
   "source": [
    "is_interleave(s1, s2, s3t)"
   ]
  },
  {
   "cell_type": "code",
   "execution_count": 13,
   "metadata": {},
   "outputs": [
    {
     "data": {
      "text/plain": [
       "(True,\n",
       " {(1, 0): (0, 0, 'a', 'seq1'),\n",
       "  (2, 0): (1, 0, 'a', 'seq1'),\n",
       "  (2, 1): (2, 0, 'd', 'seq2'),\n",
       "  (2, 2): (2, 1, 'b', 'seq2'),\n",
       "  (2, 3): (2, 2, 'b', 'seq2'),\n",
       "  (2, 4): (2, 3, 'c', 'seq2'),\n",
       "  (3, 1): (2, 1, 'b', 'seq1'),\n",
       "  (3, 2): (2, 2, 'b', 'seq1'),\n",
       "  (3, 4): (2, 4, 'b', 'seq1'),\n",
       "  (4, 2): (3, 2, 'c', 'seq1'),\n",
       "  (4, 3): (4, 2, 'b', 'seq2'),\n",
       "  (4, 4): (3, 4, 'c', 'seq1'),\n",
       "  (4, 5): (4, 4, 'a', 'seq2'),\n",
       "  (5, 3): (4, 3, 'c', 'seq1'),\n",
       "  (5, 5): (4, 5, 'c', 'seq1')})"
      ]
     },
     "execution_count": 13,
     "metadata": {},
     "output_type": "execute_result"
    }
   ],
   "source": [
    "is_interleave(s1, s2, s3t, return_backpointers=True)"
   ]
  },
  {
   "cell_type": "code",
   "execution_count": 14,
   "metadata": {
    "scrolled": true
   },
   "outputs": [
    {
     "data": {
      "text/plain": [
       "(True,\n",
       " {(1, 0): (0, 0, 'a', 'seq1'),\n",
       "  (2, 0): (1, 0, 'a', 'seq1'),\n",
       "  (2, 1): (2, 0, 'd', 'seq2'),\n",
       "  (2, 2): (2, 1, 'b', 'seq2'),\n",
       "  (2, 3): (2, 2, 'b', 'seq2'),\n",
       "  (2, 4): (2, 3, 'c', 'seq2'),\n",
       "  (3, 1): (2, 1, 'b', 'seq1'),\n",
       "  (3, 2): (2, 2, 'b', 'seq1'),\n",
       "  (3, 4): (2, 4, 'b', 'seq1'),\n",
       "  (4, 2): (3, 2, 'c', 'seq1'),\n",
       "  (4, 3): (4, 2, 'b', 'seq2'),\n",
       "  (4, 4): (3, 4, 'c', 'seq1'),\n",
       "  (4, 5): (4, 4, 'a', 'seq2'),\n",
       "  (5, 3): (4, 3, 'c', 'seq1'),\n",
       "  (5, 5): (4, 5, 'c', 'seq1')},\n",
       " {(0, 0): True,\n",
       "  (0, 1): False,\n",
       "  (0, 2): False,\n",
       "  (0, 3): False,\n",
       "  (0, 4): False,\n",
       "  (0, 5): False,\n",
       "  (1, 0): True,\n",
       "  (1, 1): False,\n",
       "  (1, 2): False,\n",
       "  (1, 3): False,\n",
       "  (1, 4): False,\n",
       "  (1, 5): False,\n",
       "  (2, 0): True,\n",
       "  (2, 1): True,\n",
       "  (2, 2): True,\n",
       "  (2, 3): True,\n",
       "  (2, 4): True,\n",
       "  (2, 5): False,\n",
       "  (3, 0): False,\n",
       "  (3, 1): True,\n",
       "  (3, 2): True,\n",
       "  (3, 3): False,\n",
       "  (3, 4): True,\n",
       "  (3, 5): False,\n",
       "  (4, 0): False,\n",
       "  (4, 1): False,\n",
       "  (4, 2): True,\n",
       "  (4, 3): True,\n",
       "  (4, 4): True,\n",
       "  (4, 5): True,\n",
       "  (5, 0): False,\n",
       "  (5, 1): False,\n",
       "  (5, 2): False,\n",
       "  (5, 3): True,\n",
       "  (5, 4): False,\n",
       "  (5, 5): True})"
      ]
     },
     "execution_count": 14,
     "metadata": {},
     "output_type": "execute_result"
    }
   ],
   "source": [
    "is_interleave(s1, s2, s3t, return_backpointers=True, return_table=True)"
   ]
  },
  {
   "cell_type": "code",
   "execution_count": 15,
   "metadata": {},
   "outputs": [
    {
     "data": {
      "text/plain": [
       "False"
      ]
     },
     "execution_count": 15,
     "metadata": {},
     "output_type": "execute_result"
    }
   ],
   "source": [
    "is_interleave(s1, s2, s3f)"
   ]
  },
  {
   "cell_type": "code",
   "execution_count": 16,
   "metadata": {},
   "outputs": [
    {
     "name": "stdout",
     "output_type": "stream",
     "text": [
      "xxxx 0 0 ! ! ! True\n",
      "seq2 0 1 ! b a False\n",
      "seq2 0 2 ! b a False\n",
      "seq2 0 3 ! b a False\n",
      "seq1 1 0 a ! a True\n",
      "xxxx 1 1 a b a False\n",
      "xxxx 1 2 a b a False\n",
      "xxxx 1 3 a b b False\n",
      "seq1 2 0 a ! a True\n",
      "xxxx 2 1 a b a False\n",
      "xxxx 2 2 a b b False\n",
      "xxxx 2 3 a b a False\n",
      "seq1 3 0 a ! a True\n",
      "seq2 3 1 a b b True\n",
      "xxxx 3 2 a b a False\n",
      "xxxx 3 3 a b b False\n",
      "seq1 4 0 a ! b False\n",
      "seq1 4 1 a b a True\n",
      "seq2 4 2 a b b True\n",
      "seq2 4 3 a b b True\n"
     ]
    },
    {
     "data": {
      "text/plain": [
       "(True,\n",
       " {(1, 0): (0, 0, 'a', 'seq1'),\n",
       "  (2, 0): (1, 0, 'a', 'seq1'),\n",
       "  (3, 0): (2, 0, 'a', 'seq1'),\n",
       "  (3, 1): (3, 0, 'b', 'seq2'),\n",
       "  (4, 1): (3, 1, 'a', 'seq1'),\n",
       "  (4, 2): (4, 1, 'b', 'seq2'),\n",
       "  (4, 3): (4, 2, 'b', 'seq2')})"
      ]
     },
     "execution_count": 16,
     "metadata": {},
     "output_type": "execute_result"
    }
   ],
   "source": [
    "is_interleave('aaaa', 'bbb', 'aaababb', return_backpointers=True, debug=True)"
   ]
  },
  {
   "cell_type": "code",
   "execution_count": 17,
   "metadata": {
    "collapsed": true
   },
   "outputs": [],
   "source": [
    "def show_backtrace(bps):\n",
    "    i = max([0] + [k[0] for k in bps])\n",
    "    j = max([0] + [k[1] for k in bps])\n",
    "    chars = ''\n",
    "    if (i, j) in bps:\n",
    "        while i != 0 or j != 0:\n",
    "            if bps[i, j][3] == 'seq1':\n",
    "                chars += bps[i, j][2].upper()\n",
    "            else:\n",
    "                chars += bps[i, j][2]\n",
    "            i, j = bps[i, j][0], bps[i, j][1] \n",
    "        return ''.join(list(reversed(chars)))\n",
    "    else:\n",
    "        return ''"
   ]
  },
  {
   "cell_type": "code",
   "execution_count": 18,
   "metadata": {
    "collapsed": true
   },
   "outputs": [],
   "source": [
    "def make_string(length, alphabet=None):\n",
    "    if not alphabet:\n",
    "        alphabet = 'abcdefgh'\n",
    "    return ''.join(random.choice(alphabet) for _ in range(length))    "
   ]
  },
  {
   "cell_type": "code",
   "execution_count": 19,
   "metadata": {},
   "outputs": [
    {
     "data": {
      "text/plain": [
       "'fcafghacdbdhegdbdfbbbghecebceaecbhbfgaedaggbbfefcd'"
      ]
     },
     "execution_count": 19,
     "metadata": {},
     "output_type": "execute_result"
    }
   ],
   "source": [
    "make_string(50)"
   ]
  },
  {
   "cell_type": "code",
   "execution_count": 20,
   "metadata": {
    "collapsed": true
   },
   "outputs": [],
   "source": [
    "def interleave(s1, s2, wander_limit=10, debug=False):\n",
    "    i1 = i2 = wander = 0\n",
    "    interleaved = []\n",
    "    while i1 <= len(s1) and i2 <= len(s2):\n",
    "        if i1 == len(s1):\n",
    "            if debug: print(i1, i2, wander, 'remaining s2', s2[i2:])\n",
    "            interleaved += s2[i2:]\n",
    "            i2 = len(s2) + 1\n",
    "        elif i2 == len(s2):\n",
    "            if debug: print(i1, i2, wander, 'remaining s1', s1[i1:])\n",
    "            interleaved += s1[i1:]\n",
    "            i1 = len(s1) + 1\n",
    "        else:\n",
    "            if wander == wander_limit:\n",
    "                step = -1\n",
    "            elif wander == -wander_limit:\n",
    "                step = +1\n",
    "            else:\n",
    "                step = random.choice([+1, -1])\n",
    "            if step == +1:\n",
    "                if debug: print(i1, i2, wander, 'adding', s1[i1])\n",
    "                interleaved += s1[i1]\n",
    "                i1 += 1\n",
    "                wander += 1\n",
    "            else:\n",
    "                if debug: print(i1, i2, wander, 'adding', s2[i2])\n",
    "                interleaved += s2[i2]\n",
    "                i2 += 1\n",
    "                wander -= 1\n",
    "    return ''.join(interleaved)\n",
    "            "
   ]
  },
  {
   "cell_type": "code",
   "execution_count": 21,
   "metadata": {},
   "outputs": [
    {
     "name": "stdout",
     "output_type": "stream",
     "text": [
      "0 0 0 adding g\n",
      "1 0 1 adding f\n",
      "2 0 2 adding z\n",
      "2 1 1 adding e\n",
      "3 1 2 adding y\n",
      "3 2 1 adding g\n",
      "4 2 2 adding f\n",
      "5 2 3 adding a\n",
      "6 2 4 adding z\n",
      "6 3 3 adding v\n",
      "6 4 2 adding y\n",
      "6 5 1 adding u\n",
      "6 6 0 adding z\n",
      "6 7 -1 adding h\n",
      "7 7 0 adding v\n",
      "7 8 -1 adding g\n",
      "8 8 0 adding d\n",
      "9 8 1 adding u\n",
      "9 9 0 adding z\n",
      "9 10 -1 adding a\n",
      "10 10 0 adding z\n",
      "10 11 -1 adding y\n",
      "10 12 -2 adding w\n",
      "10 13 -3 adding a\n",
      "11 13 -2 adding f\n",
      "12 13 -1 adding g\n",
      "13 13 0 adding g\n",
      "14 13 1 adding f\n",
      "15 13 2 adding h\n",
      "16 13 3 adding x\n",
      "16 14 2 adding w\n",
      "16 15 1 adding a\n",
      "17 15 2 adding e\n",
      "18 15 3 adding w\n",
      "18 16 2 adding d\n",
      "19 16 3 adding x\n",
      "19 17 2 adding u\n",
      "19 18 1 adding z\n",
      "19 19 0 adding x\n",
      "19 20 -1 remaining s1 g\n"
     ]
    },
    {
     "data": {
      "text/plain": [
       "('gfegfahgdaafggfhaedg',\n",
       " 'zyzvyuzvuzzywxwwxuzx',\n",
       " 'gfzeygfazvyuzhvgduzazywafggfhxwaewdxuzxg',\n",
       " 40)"
      ]
     },
     "execution_count": 21,
     "metadata": {},
     "output_type": "execute_result"
    }
   ],
   "source": [
    "s1 = make_string(20)\n",
    "s2 = make_string(20, alphabet='uvwxyz')\n",
    "il = interleave(s1, s2, wander_limit=5, debug=True)\n",
    "s1, s2, il, len(il)"
   ]
  },
  {
   "cell_type": "code",
   "execution_count": 22,
   "metadata": {},
   "outputs": [
    {
     "name": "stdout",
     "output_type": "stream",
     "text": [
      "xxxx 0 0 ! ! ! True\n",
      "seq2 0 1 ! g g True\n",
      "seq2 0 2 ! f f True\n",
      "seq2 0 3 ! e z False\n",
      "seq2 0 4 ! g e False\n",
      "seq2 0 5 ! f y False\n",
      "seq2 0 6 ! a g False\n",
      "seq2 0 7 ! h f False\n",
      "seq2 0 8 ! g a False\n",
      "seq2 0 9 ! d z False\n",
      "seq2 0 10 ! a v False\n",
      "seq2 0 11 ! a y False\n",
      "seq2 0 12 ! f u False\n",
      "seq2 0 13 ! g z False\n",
      "seq2 0 14 ! g h False\n",
      "seq2 0 15 ! f v False\n",
      "seq2 0 16 ! h g False\n",
      "seq2 0 17 ! a d False\n",
      "seq2 0 18 ! e u False\n",
      "seq2 0 19 ! d z False\n",
      "seq2 0 20 ! g a False\n",
      "seq1 1 0 z ! g False\n",
      "xxxx 1 1 z g f False\n",
      "seq1 1 2 z f z True\n",
      "seq2 1 3 z e e True\n",
      "xxxx 1 4 z g y False\n",
      "xxxx 1 5 z f g False\n",
      "xxxx 1 6 z a f False\n",
      "xxxx 1 7 z h a False\n",
      "xxxx 1 8 z g z False\n",
      "xxxx 1 9 z d v False\n",
      "xxxx 1 10 z a y False\n",
      "xxxx 1 11 z a u False\n",
      "xxxx 1 12 z f z False\n",
      "xxxx 1 13 z g h False\n",
      "xxxx 1 14 z g v False\n",
      "xxxx 1 15 z f g False\n",
      "xxxx 1 16 z h d False\n",
      "xxxx 1 17 z a u False\n",
      "xxxx 1 18 z e z False\n",
      "xxxx 1 19 z d a False\n",
      "xxxx 1 20 z g z False\n",
      "seq1 2 0 y ! f False\n",
      "xxxx 2 1 y g z False\n",
      "xxxx 2 2 y f e False\n",
      "seq1 2 3 y e y True\n",
      "seq2 2 4 y g g True\n",
      "seq2 2 5 y f f True\n",
      "seq2 2 6 y a a True\n",
      "xxxx 2 7 y h z False\n",
      "xxxx 2 8 y g v False\n",
      "xxxx 2 9 y d y False\n",
      "xxxx 2 10 y a u False\n",
      "xxxx 2 11 y a z False\n",
      "xxxx 2 12 y f h False\n",
      "xxxx 2 13 y g v False\n",
      "xxxx 2 14 y g g False\n",
      "xxxx 2 15 y f d False\n",
      "xxxx 2 16 y h u False\n",
      "xxxx 2 17 y a z False\n",
      "xxxx 2 18 y e a False\n",
      "xxxx 2 19 y d z False\n",
      "xxxx 2 20 y g y False\n",
      "seq1 3 0 z ! z False\n",
      "xxxx 3 1 z g e False\n",
      "xxxx 3 2 z f y False\n",
      "xxxx 3 3 z e g False\n",
      "xxxx 3 4 z g f False\n",
      "xxxx 3 5 z f a False\n",
      "seq1 3 6 z a z True\n",
      "xxxx 3 7 z h v False\n",
      "xxxx 3 8 z g y False\n",
      "xxxx 3 9 z d u False\n",
      "xxxx 3 10 z a z False\n",
      "xxxx 3 11 z a h False\n",
      "xxxx 3 12 z f v False\n",
      "xxxx 3 13 z g g False\n",
      "xxxx 3 14 z g d False\n",
      "xxxx 3 15 z f u False\n",
      "xxxx 3 16 z h z False\n",
      "xxxx 3 17 z a a False\n",
      "xxxx 3 18 z e z False\n",
      "xxxx 3 19 z d y False\n",
      "xxxx 3 20 z g w False\n",
      "seq1 4 0 v ! e False\n",
      "xxxx 4 1 v g y False\n",
      "xxxx 4 2 v f g False\n",
      "xxxx 4 3 v e f False\n",
      "xxxx 4 4 v g a False\n",
      "xxxx 4 5 v f z False\n",
      "seq1 4 6 v a v True\n",
      "xxxx 4 7 v h y False\n",
      "xxxx 4 8 v g u False\n",
      "xxxx 4 9 v d z False\n",
      "xxxx 4 10 v a h False\n",
      "xxxx 4 11 v a v False\n",
      "xxxx 4 12 v f g False\n",
      "xxxx 4 13 v g d False\n",
      "xxxx 4 14 v g u False\n",
      "xxxx 4 15 v f z False\n",
      "xxxx 4 16 v h a False\n",
      "xxxx 4 17 v a z False\n",
      "xxxx 4 18 v e y False\n",
      "xxxx 4 19 v d w False\n",
      "xxxx 4 20 v g a False\n",
      "seq1 5 0 y ! y False\n",
      "xxxx 5 1 y g g False\n",
      "xxxx 5 2 y f f False\n",
      "xxxx 5 3 y e a False\n",
      "xxxx 5 4 y g z False\n",
      "xxxx 5 5 y f v False\n",
      "seq1 5 6 y a y True\n",
      "xxxx 5 7 y h u False\n",
      "xxxx 5 8 y g z False\n",
      "xxxx 5 9 y d h False\n",
      "xxxx 5 10 y a v False\n",
      "xxxx 5 11 y a g False\n",
      "xxxx 5 12 y f d False\n",
      "xxxx 5 13 y g u False\n",
      "xxxx 5 14 y g z False\n",
      "xxxx 5 15 y f a False\n",
      "xxxx 5 16 y h z False\n",
      "xxxx 5 17 y a y False\n",
      "xxxx 5 18 y e w False\n",
      "xxxx 5 19 y d a False\n",
      "xxxx 5 20 y g f False\n",
      "seq1 6 0 u ! g False\n",
      "xxxx 6 1 u g f False\n",
      "xxxx 6 2 u f a False\n",
      "xxxx 6 3 u e z False\n",
      "xxxx 6 4 u g v False\n",
      "xxxx 6 5 u f y False\n",
      "seq1 6 6 u a u True\n",
      "xxxx 6 7 u h z False\n",
      "xxxx 6 8 u g h False\n",
      "xxxx 6 9 u d v False\n",
      "xxxx 6 10 u a g False\n",
      "xxxx 6 11 u a d False\n",
      "xxxx 6 12 u f u False\n",
      "xxxx 6 13 u g z False\n",
      "xxxx 6 14 u g a False\n",
      "xxxx 6 15 u f z False\n",
      "xxxx 6 16 u h y False\n",
      "xxxx 6 17 u a w False\n",
      "xxxx 6 18 u e a False\n",
      "xxxx 6 19 u d f False\n",
      "xxxx 6 20 u g g False\n",
      "seq1 7 0 z ! f False\n",
      "xxxx 7 1 z g a False\n",
      "xxxx 7 2 z f z False\n",
      "xxxx 7 3 z e v False\n",
      "xxxx 7 4 z g y False\n",
      "xxxx 7 5 z f u False\n",
      "seq1 7 6 z a z True\n",
      "seq2 7 7 z h h True\n",
      "xxxx 7 8 z g v False\n",
      "xxxx 7 9 z d g False\n",
      "xxxx 7 10 z a d False\n",
      "xxxx 7 11 z a u False\n",
      "xxxx 7 12 z f z False\n",
      "xxxx 7 13 z g a False\n",
      "xxxx 7 14 z g z False\n",
      "xxxx 7 15 z f y False\n",
      "xxxx 7 16 z h w False\n",
      "xxxx 7 17 z a a False\n",
      "xxxx 7 18 z e f False\n",
      "xxxx 7 19 z d g False\n",
      "xxxx 7 20 z g g False\n",
      "seq1 8 0 v ! a False\n",
      "xxxx 8 1 v g z False\n",
      "xxxx 8 2 v f v False\n",
      "xxxx 8 3 v e y False\n",
      "xxxx 8 4 v g u False\n",
      "xxxx 8 5 v f z False\n",
      "xxxx 8 6 v a h False\n",
      "seq1 8 7 v h v True\n",
      "seq2 8 8 v g g True\n",
      "seq2 8 9 v d d True\n",
      "xxxx 8 10 v a u False\n",
      "xxxx 8 11 v a z False\n",
      "xxxx 8 12 v f a False\n",
      "xxxx 8 13 v g z False\n",
      "xxxx 8 14 v g y False\n",
      "xxxx 8 15 v f w False\n",
      "xxxx 8 16 v h a False\n",
      "xxxx 8 17 v a f False\n",
      "xxxx 8 18 v e g False\n",
      "xxxx 8 19 v d g False\n",
      "xxxx 8 20 v g f False\n",
      "seq1 9 0 u ! z False\n",
      "xxxx 9 1 u g v False\n",
      "xxxx 9 2 u f y False\n",
      "xxxx 9 3 u e u False\n",
      "xxxx 9 4 u g z False\n",
      "xxxx 9 5 u f h False\n",
      "xxxx 9 6 u a v False\n",
      "xxxx 9 7 u h g False\n",
      "xxxx 9 8 u g d False\n",
      "seq1 9 9 u d u True\n",
      "xxxx 9 10 u a z False\n",
      "xxxx 9 11 u a a False\n",
      "xxxx 9 12 u f z False\n",
      "xxxx 9 13 u g y False\n",
      "xxxx 9 14 u g w False\n",
      "xxxx 9 15 u f a False\n",
      "xxxx 9 16 u h f False\n",
      "xxxx 9 17 u a g False\n",
      "xxxx 9 18 u e g False\n",
      "xxxx 9 19 u d f False\n",
      "xxxx 9 20 u g h False\n",
      "seq1 10 0 z ! v False\n",
      "xxxx 10 1 z g y False\n",
      "xxxx 10 2 z f u False\n",
      "xxxx 10 3 z e z False\n",
      "xxxx 10 4 z g h False\n",
      "xxxx 10 5 z f v False\n",
      "xxxx 10 6 z a g False\n",
      "xxxx 10 7 z h d False\n",
      "xxxx 10 8 z g u False\n",
      "seq1 10 9 z d z True\n",
      "seq2 10 10 z a a True\n",
      "xxxx 10 11 z a z False\n",
      "xxxx 10 12 z f y False\n",
      "xxxx 10 13 z g w False\n",
      "xxxx 10 14 z g a False\n",
      "xxxx 10 15 z f f False\n",
      "xxxx 10 16 z h g False\n",
      "xxxx 10 17 z a g False\n",
      "xxxx 10 18 z e f False\n",
      "xxxx 10 19 z d h False\n",
      "xxxx 10 20 z g x False\n",
      "seq1 11 0 z ! y False\n",
      "xxxx 11 1 z g u False\n",
      "xxxx 11 2 z f z False\n",
      "xxxx 11 3 z e h False\n",
      "xxxx 11 4 z g v False\n",
      "xxxx 11 5 z f g False\n",
      "xxxx 11 6 z a d False\n",
      "xxxx 11 7 z h u False\n",
      "xxxx 11 8 z g z False\n",
      "xxxx 11 9 z d a False\n",
      "seq1 11 10 z a z True\n",
      "xxxx 11 11 z a y False\n",
      "xxxx 11 12 z f w False\n",
      "xxxx 11 13 z g a False\n",
      "xxxx 11 14 z g f False\n",
      "xxxx 11 15 z f g False\n",
      "xxxx 11 16 z h g False\n",
      "xxxx 11 17 z a f False\n",
      "xxxx 11 18 z e h False\n",
      "xxxx 11 19 z d x False\n",
      "xxxx 11 20 z g w False\n",
      "seq1 12 0 y ! u False\n",
      "xxxx 12 1 y g z False\n",
      "xxxx 12 2 y f h False\n",
      "xxxx 12 3 y e v False\n",
      "xxxx 12 4 y g g False\n",
      "xxxx 12 5 y f d False\n",
      "xxxx 12 6 y a u False\n",
      "xxxx 12 7 y h z False\n",
      "xxxx 12 8 y g a False\n",
      "xxxx 12 9 y d z False\n",
      "seq1 12 10 y a y True\n",
      "xxxx 12 11 y a w False\n",
      "xxxx 12 12 y f a False\n",
      "xxxx 12 13 y g f False\n",
      "xxxx 12 14 y g g False\n",
      "xxxx 12 15 y f g False\n",
      "xxxx 12 16 y h f False\n",
      "xxxx 12 17 y a h False\n",
      "xxxx 12 18 y e x False\n",
      "xxxx 12 19 y d w False\n",
      "xxxx 12 20 y g a False\n",
      "seq1 13 0 w ! z False\n",
      "xxxx 13 1 w g h False\n",
      "xxxx 13 2 w f v False\n",
      "xxxx 13 3 w e g False\n",
      "xxxx 13 4 w g d False\n",
      "xxxx 13 5 w f u False\n",
      "xxxx 13 6 w a z False\n",
      "xxxx 13 7 w h a False\n",
      "xxxx 13 8 w g z False\n",
      "xxxx 13 9 w d y False\n",
      "seq1 13 10 w a w True\n",
      "seq2 13 11 w a a True\n",
      "seq2 13 12 w f f True\n",
      "seq2 13 13 w g g True\n",
      "seq2 13 14 w g g True\n",
      "seq2 13 15 w f f True\n",
      "seq2 13 16 w h h True\n",
      "xxxx 13 17 w a x False\n",
      "xxxx 13 18 w e w False\n",
      "xxxx 13 19 w d a False\n",
      "xxxx 13 20 w g e False\n",
      "seq1 14 0 x ! h False\n",
      "xxxx 14 1 x g v False\n",
      "xxxx 14 2 x f g False\n",
      "xxxx 14 3 x e d False\n",
      "xxxx 14 4 x g u False\n",
      "xxxx 14 5 x f z False\n",
      "xxxx 14 6 x a a False\n",
      "xxxx 14 7 x h z False\n",
      "xxxx 14 8 x g y False\n",
      "xxxx 14 9 x d w False\n",
      "xxxx 14 10 x a a False\n",
      "xxxx 14 11 x a f False\n",
      "xxxx 14 12 x f g False\n",
      "xxxx 14 13 x g g False\n",
      "xxxx 14 14 x g f False\n",
      "xxxx 14 15 x f h False\n",
      "seq1 14 16 x h x True\n",
      "xxxx 14 17 x a w False\n",
      "xxxx 14 18 x e a False\n",
      "xxxx 14 19 x d e False\n",
      "xxxx 14 20 x g w False\n",
      "seq1 15 0 w ! v False\n",
      "xxxx 15 1 w g g False\n",
      "xxxx 15 2 w f d False\n",
      "xxxx 15 3 w e u False\n",
      "xxxx 15 4 w g z False\n",
      "xxxx 15 5 w f a False\n",
      "xxxx 15 6 w a z False\n",
      "xxxx 15 7 w h y False\n",
      "xxxx 15 8 w g w False\n",
      "xxxx 15 9 w d a False\n",
      "xxxx 15 10 w a f False\n",
      "xxxx 15 11 w a g False\n",
      "xxxx 15 12 w f g False\n",
      "xxxx 15 13 w g f False\n",
      "xxxx 15 14 w g h False\n",
      "xxxx 15 15 w f x False\n",
      "seq1 15 16 w h w True\n",
      "seq2 15 17 w a a True\n",
      "seq2 15 18 w e e True\n",
      "xxxx 15 19 w d w False\n",
      "xxxx 15 20 w g d False\n",
      "seq1 16 0 w ! g False\n",
      "xxxx 16 1 w g d False\n",
      "xxxx 16 2 w f u False\n",
      "xxxx 16 3 w e z False\n",
      "xxxx 16 4 w g a False\n",
      "xxxx 16 5 w f z False\n",
      "xxxx 16 6 w a y False\n",
      "xxxx 16 7 w h w False\n",
      "xxxx 16 8 w g a False\n",
      "xxxx 16 9 w d f False\n",
      "xxxx 16 10 w a g False\n",
      "xxxx 16 11 w a g False\n",
      "xxxx 16 12 w f f False\n",
      "xxxx 16 13 w g h False\n",
      "xxxx 16 14 w g x False\n",
      "xxxx 16 15 w f w False\n",
      "xxxx 16 16 w h a False\n",
      "xxxx 16 17 w a e False\n",
      "seq1 16 18 w e w True\n",
      "seq2 16 19 w d d True\n",
      "xxxx 16 20 w g x False\n",
      "seq1 17 0 x ! d False\n",
      "xxxx 17 1 x g u False\n",
      "xxxx 17 2 x f z False\n",
      "xxxx 17 3 x e a False\n",
      "xxxx 17 4 x g z False\n",
      "xxxx 17 5 x f y False\n",
      "xxxx 17 6 x a w False\n",
      "xxxx 17 7 x h a False\n",
      "xxxx 17 8 x g f False\n",
      "xxxx 17 9 x d g False\n",
      "xxxx 17 10 x a g False\n",
      "xxxx 17 11 x a f False\n",
      "xxxx 17 12 x f h False\n",
      "xxxx 17 13 x g x False\n",
      "xxxx 17 14 x g w False\n",
      "xxxx 17 15 x f a False\n",
      "xxxx 17 16 x h e False\n",
      "xxxx 17 17 x a w False\n",
      "xxxx 17 18 x e d False\n",
      "seq1 17 19 x d x True\n",
      "xxxx 17 20 x g u False\n",
      "seq1 18 0 u ! u False\n",
      "xxxx 18 1 u g z False\n",
      "xxxx 18 2 u f a False\n",
      "xxxx 18 3 u e z False\n",
      "xxxx 18 4 u g y False\n",
      "xxxx 18 5 u f w False\n",
      "xxxx 18 6 u a a False\n",
      "xxxx 18 7 u h f False\n",
      "xxxx 18 8 u g g False\n",
      "xxxx 18 9 u d g False\n",
      "xxxx 18 10 u a f False\n",
      "xxxx 18 11 u a h False\n",
      "xxxx 18 12 u f x False\n",
      "xxxx 18 13 u g w False\n",
      "xxxx 18 14 u g a False\n",
      "xxxx 18 15 u f e False\n",
      "xxxx 18 16 u h w False\n",
      "xxxx 18 17 u a d False\n",
      "xxxx 18 18 u e x False\n",
      "seq1 18 19 u d u True\n",
      "xxxx 18 20 u g z False\n",
      "seq1 19 0 z ! z False\n",
      "xxxx 19 1 z g a False\n",
      "xxxx 19 2 z f z False\n",
      "xxxx 19 3 z e y False\n",
      "xxxx 19 4 z g w False\n",
      "xxxx 19 5 z f a False\n",
      "xxxx 19 6 z a f False\n",
      "xxxx 19 7 z h g False\n",
      "xxxx 19 8 z g g False\n",
      "xxxx 19 9 z d f False\n",
      "xxxx 19 10 z a h False\n",
      "xxxx 19 11 z a x False\n",
      "xxxx 19 12 z f w False\n",
      "xxxx 19 13 z g a False\n",
      "xxxx 19 14 z g e False\n",
      "xxxx 19 15 z f w False\n",
      "xxxx 19 16 z h d False\n",
      "xxxx 19 17 z a x False\n",
      "xxxx 19 18 z e u False\n",
      "seq1 19 19 z d z True\n",
      "xxxx 19 20 z g x False\n",
      "seq1 20 0 x ! a False\n",
      "xxxx 20 1 x g z False\n",
      "xxxx 20 2 x f y False\n",
      "xxxx 20 3 x e w False\n",
      "xxxx 20 4 x g a False\n",
      "xxxx 20 5 x f f False\n",
      "xxxx 20 6 x a g False\n",
      "xxxx 20 7 x h g False\n",
      "xxxx 20 8 x g f False\n",
      "xxxx 20 9 x d h False\n",
      "xxxx 20 10 x a x False\n",
      "xxxx 20 11 x a w False\n",
      "xxxx 20 12 x f a False\n",
      "xxxx 20 13 x g e False\n",
      "xxxx 20 14 x g w False\n",
      "xxxx 20 15 x f d False\n",
      "xxxx 20 16 x h x False\n",
      "xxxx 20 17 x a u False\n",
      "xxxx 20 18 x e z False\n",
      "seq1 20 19 x d x True\n",
      "seq2 20 20 x g g True\n",
      "T T T . . . . . . . . . . . . . . . . . .\n",
      ". . T T . . . . . . . . . . . . . . . . .\n",
      ". . . T T T T . . . . . . . . . . . . . .\n",
      ". . . . . . T . . . . . . . . . . . . . .\n",
      ". . . . . . T . . . . . . . . . . . . . .\n",
      ". . . . . . T . . . . . . . . . . . . . .\n",
      ". . . . . . T . . . . . . . . . . . . . .\n",
      ". . . . . . T T . . . . . . . . . . . . .\n",
      ". . . . . . . T T T . . . . . . . . . . .\n",
      ". . . . . . . . . T . . . . . . . . . . .\n",
      ". . . . . . . . . T T . . . . . . . . . .\n",
      ". . . . . . . . . . T . . . . . . . . . .\n",
      ". . . . . . . . . . T . . . . . . . . . .\n",
      ". . . . . . . . . . T T T T T T T . . . .\n",
      ". . . . . . . . . . . . . . . . T . . . .\n",
      ". . . . . . . . . . . . . . . . T T T . .\n",
      ". . . . . . . . . . . . . . . . . . T T .\n",
      ". . . . . . . . . . . . . . . . . . . T .\n",
      ". . . . . . . . . . . . . . . . . . . T .\n",
      ". . . . . . . . . . . . . . . . . . . T .\n",
      ". . . . . . . . . . . . . . . . . . . T T\n"
     ]
    }
   ],
   "source": [
    "v, bp, t = is_interleave(s2, s1, il, return_backpointers=True, return_table=True, debug=True)\n",
    "print(show_table(t))"
   ]
  },
  {
   "cell_type": "code",
   "execution_count": 23,
   "metadata": {},
   "outputs": [
    {
     "data": {
      "text/plain": [
       "'gfZeYgfaZVYUZhVgdUZaZYWafggfhXWaeWdXUZXg'"
      ]
     },
     "execution_count": 23,
     "metadata": {},
     "output_type": "execute_result"
    }
   ],
   "source": [
    "show_backtrace(bp)"
   ]
  },
  {
   "cell_type": "code",
   "execution_count": 24,
   "metadata": {},
   "outputs": [
    {
     "name": "stdout",
     "output_type": "stream",
     "text": [
      "T T T . . . . . . . . . . . . . . . . . .\n",
      ". . T T . . . . . . . . . . . . . . . . .\n",
      ". . . T T T T . . . . . . . . . . . . . .\n",
      ". . . . . . T . . . . . . . . . . . . . .\n",
      ". . . . . . T . . . . . . . . . . . . . .\n",
      ". . . . . . T . . . . . . . . . . . . . .\n",
      ". . . . . . T . . . . . . . . . . . . . .\n",
      ". . . . . . T T . . . . . . . . . . . . .\n",
      ". . . . . . . T T T . . . . . . . . . . .\n",
      ". . . . . . . . . T . . . . . . . . . . .\n",
      ". . . . . . . . . T T . . . . . . . . . .\n",
      ". . . . . . . . . . T . . . . . . . . . .\n",
      ". . . . . . . . . . T . . . . . . . . . .\n",
      ". . . . . . . . . . T T T T T T T . . . .\n",
      ". . . . . . . . . . . . . . . . T . . . .\n",
      ". . . . . . . . . . . . . . . . T T T . .\n",
      ". . . . . . . . . . . . . . . . . . T T .\n",
      ". . . . . . . . . . . . . . . . . . . T .\n",
      ". . . . . . . . . . . . . . . . . . . T .\n",
      ". . . . . . . . . . . . . . . . . . . T .\n",
      ". . . . . . . . . . . . . . . . . . . T T\n",
      "gfZeYgfaZVYUZhVgdUZaZYWafggfhXWaeWdXUZXg\n"
     ]
    },
    {
     "data": {
      "text/plain": [
       "True"
      ]
     },
     "execution_count": 24,
     "metadata": {},
     "output_type": "execute_result"
    }
   ],
   "source": [
    "v, bp, t = is_interleave(s2, s1, il, return_backpointers=True, return_table=True)\n",
    "print(show_table(t))\n",
    "print(show_backtrace(bp))\n",
    "v"
   ]
  },
  {
   "cell_type": "code",
   "execution_count": 25,
   "metadata": {},
   "outputs": [
    {
     "data": {
      "text/plain": [
       "('chcceahdchbdeahgacbfbfebfefacfebhhcdfgfgggfeahaadd',\n",
       " 'fbhafageadeedbcdfffaabefeeffaffgebdbchcgfcgggecbgh',\n",
       " 'chccfbehaahfdcagheabdedeaehgdabccbfdbfebffeffafacfaebefeebfhhcdfafffgebdgfgggbfchceahgaafdcgdggecbgh',\n",
       " 100)"
      ]
     },
     "execution_count": 25,
     "metadata": {},
     "output_type": "execute_result"
    }
   ],
   "source": [
    "s1 = make_string(50)\n",
    "s2 = make_string(50)\n",
    "il = interleave(s1, s2)\n",
    "s1, s2, il, len(il)"
   ]
  },
  {
   "cell_type": "code",
   "execution_count": 26,
   "metadata": {},
   "outputs": [
    {
     "name": "stdout",
     "output_type": "stream",
     "text": [
      "T T T T T . . . . . . . . . . . . . . . . . . . . . . . . . . . . . . . . . . . . . . . . . . . . . .\n",
      ". . . . T . . . . . . . . . . . . . . . . . . . . . . . . . . . . . . . . . . . . . . . . . . . . . .\n",
      ". . . . T T . . . . . . . . . . . . . . . . . . . . . . . . . . . . . . . . . . . . . . . . . . . . .\n",
      ". . . . . T T . . . . . . . . . . . . . . . . . . . . . . . . . . . . . . . . . . . . . . . . . . . .\n",
      ". . . . . T T T . . . . . . . . . . . . . . . . . . . . . . . . . . . . . . . . . . . . . . . . . . .\n",
      ". . . . . . . T T T . . . . . . . . . . . . . . . . . . . . . . . . . . . . . . . . . . . . . . . . .\n",
      ". . . . . . . . . T . . . . . . . . . . . . . . . . . . . . . . . . . . . . . . . . . . . . . . . . .\n",
      ". . . . . . . . . T T . . . . . . . . . . . . . . . . . . . . . . . . . . . . . . . . . . . . . . . .\n",
      ". . . . . . . . . . T . . . . . . . . . . . . . . . . . . . . . . . . . . . . . . . . . . . . . . . .\n",
      ". . . . . . . . . . T T T T . . . . . . . . . . . . . . . . . . . . . . . . . . . . . . . . . . . . .\n",
      ". . . . . . . . . . . T . T . . . . . . . . . . . . . . . . . . . . . . . . . . . . . . . . . . . . .\n",
      ". . . . . . . . . . . T T T T . . . . . . . . . . . . . . . . . . . . . . . . . . . . . . . . . . . .\n",
      ". . . . . . . . . . . . T . T T T . . . . . . . . . . . . . . . . . . . . . . . . . . . . . . . . . .\n",
      ". . . . . . . . . . . . . . . . T T . . . . . . . . . . . . . . . . . . . . . . . . . . . . . . . . .\n",
      ". . . . . . . . . . . . . . . . . T T . . . . . . . . . . . . . . . . . . . . . . . . . . . . . . . .\n",
      ". . . . . . . . . . . . . . . . . T T T T . . . . . . . . . . . . . . . . . . . . . . . . . . . . . .\n",
      ". . . . . . . . . . . . . . . . . . . . T T T T T T . . . . . . . . . . . . . . . . . . . . . . . . .\n",
      ". . . . . . . . . . . . . . . . . . . . . T . . T T T T . . . . . . . . . . . . . . . . . . . . . . .\n",
      ". . . . . . . . . . . . . . . . . . . . . . . . T . T T T . . . . . . . . . . . . . . . . . . . . . .\n",
      ". . . . . . . . . . . . . . . . . . . . . . . . . . T . T . . . . . . . . . . . . . . . . . . . . . .\n",
      ". . . . . . . . . . . . . . . . . . . . . . . . . . T T T T T . . . . . . . . . . . . . . . . . . . .\n",
      ". . . . . . . . . . . . . . . . . . . . . . . . . . . T . . T T T . . . . . . . . . . . . . . . . . .\n",
      ". . . . . . . . . . . . . . . . . . . . . . . . . . . . . . . T . . . . . . . . . . . . . . . . . . .\n",
      ". . . . . . . . . . . . . . . . . . . . . . . . . . . . . . . T . . . . . . . . . . . . . . . . . . .\n",
      ". . . . . . . . . . . . . . . . . . . . . . . . . . . . . . . T . . . . . . . . . . . . . . . . . . .\n",
      ". . . . . . . . . . . . . . . . . . . . . . . . . . . . . . . T . . . . . . . . . . . . . . . . . . .\n",
      ". . . . . . . . . . . . . . . . . . . . . . . . . . . . . . . T T . . . . . . . . . . . . . . . . . .\n",
      ". . . . . . . . . . . . . . . . . . . . . . . . . . . . . . . . T T T T T T . . . . . . . . . . . . .\n",
      ". . . . . . . . . . . . . . . . . . . . . . . . . . . . . . . . . . . . T . . . . . . . . . . . . . .\n",
      ". . . . . . . . . . . . . . . . . . . . . . . . . . . . . . . . . . . . T T . . . . . . . . . . . . .\n",
      ". . . . . . . . . . . . . . . . . . . . . . . . . . . . . . . . . . . . T T . . . . . . . . . . . . .\n",
      ". . . . . . . . . . . . . . . . . . . . . . . . . . . . . . . . . . . . T T T . . . . . . . . . . . .\n",
      ". . . . . . . . . . . . . . . . . . . . . . . . . . . . . . . . . . . . . T . . . . . . . . . . . . .\n",
      ". . . . . . . . . . . . . . . . . . . . . . . . . . . . . . . . . . . . . T . . . . . . . . . . . . .\n",
      ". . . . . . . . . . . . . . . . . . . . . . . . . . . . . . . . . . . . . T . . . . . . . . . . . . .\n",
      ". . . . . . . . . . . . . . . . . . . . . . . . . . . . . . . . . . . . . T T T T T T . . . . . . . .\n",
      ". . . . . . . . . . . . . . . . . . . . . . . . . . . . . . . . . . . . . . . . . . T T . . . . . . .\n",
      ". . . . . . . . . . . . . . . . . . . . . . . . . . . . . . . . . . . . . . . . . . . T . . . . . . .\n",
      ". . . . . . . . . . . . . . . . . . . . . . . . . . . . . . . . . . . . . . . . . . . T . . . . . . .\n",
      ". . . . . . . . . . . . . . . . . . . . . . . . . . . . . . . . . . . . . . . . . . . T T T T . . . .\n",
      ". . . . . . . . . . . . . . . . . . . . . . . . . . . . . . . . . . . . . . . . . . . . . . T T T . .\n",
      ". . . . . . . . . . . . . . . . . . . . . . . . . . . . . . . . . . . . . . . . . . . . . . . . T T .\n",
      ". . . . . . . . . . . . . . . . . . . . . . . . . . . . . . . . . . . . . . . . . . . . . . . . . T .\n",
      ". . . . . . . . . . . . . . . . . . . . . . . . . . . . . . . . . . . . . . . . . . . . . . . . . T T\n",
      ". . . . . . . . . . . . . . . . . . . . . . . . . . . . . . . . . . . . . . . . . . . . . . . . . . T\n",
      ". . . . . . . . . . . . . . . . . . . . . . . . . . . . . . . . . . . . . . . . . . . . . . . . . . T\n",
      ". . . . . . . . . . . . . . . . . . . . . . . . . . . . . . . . . . . . . . . . . . . . . . . . . . T\n",
      ". . . . . . . . . . . . . . . . . . . . . . . . . . . . . . . . . . . . . . . . . . . . . . . . . . T\n",
      ". . . . . . . . . . . . . . . . . . . . . . . . . . . . . . . . . . . . . . . . . . . . . . . . . . T\n",
      ". . . . . . . . . . . . . . . . . . . . . . . . . . . . . . . . . . . . . . . . . . . . . . . . . . T\n",
      ". . . . . . . . . . . . . . . . . . . . . . . . . . . . . . . . . . . . . . . . . . . . . . . . . . T\n",
      "chccFBeHaAhFdcAGhEAbdeDEaEhgDaBcCbfDbfebfFefFaFAcfAeBEFEEbFhhcdFAfFFGEBDgfgggBfCHCeahGaaFdCGdGGECBGH\n"
     ]
    },
    {
     "data": {
      "text/plain": [
       "True"
      ]
     },
     "execution_count": 26,
     "metadata": {},
     "output_type": "execute_result"
    }
   ],
   "source": [
    "v, bp, t = is_interleave(s2, s1, il, return_backpointers=True, return_table=True)\n",
    "print(show_table(t))\n",
    "print(show_backtrace(bp))\n",
    "v"
   ]
  },
  {
   "cell_type": "code",
   "execution_count": 27,
   "metadata": {},
   "outputs": [
    {
     "name": "stdout",
     "output_type": "stream",
     "text": [
      "1000 loops, best of 3: 1.31 ms per loop\n"
     ]
    }
   ],
   "source": [
    "%%timeit\n",
    "is_interleave(s2, s1, il)"
   ]
  },
  {
   "cell_type": "code",
   "execution_count": 28,
   "metadata": {},
   "outputs": [
    {
     "name": "stdout",
     "output_type": "stream",
     "text": [
      "T . . . . . . . . . . . . . . . . . . . . . . . . . . . . . . . . . . . . . . . . . . . . . . . . . .\n",
      "T . . . . . . . . . . . . . . . . . . . . . . . . . . . . . . . . . . . . . . . . . . . . . . . . . .\n",
      "T . . . . . . . . . . . . . . . . . . . . . . . . . . . . . . . . . . . . . . . . . . . . . . . . . .\n",
      "T . . . . . . . . . . . . . . . . . . . . . . . . . . . . . . . . . . . . . . . . . . . . . . . . . .\n",
      "T T T . . . . . . . . . . . . . . . . . . . . . . . . . . . . . . . . . . . . . . . . . . . . . . . .\n",
      ". . T T T . . . . . . . . . . . . . . . . . . . . . . . . . . . . . . . . . . . . . . . . . . . . . .\n",
      ". . . T T . . . . . . . . . . . . . . . . . . . . . . . . . . . . . . . . . . . . . . . . . . . . . .\n",
      ". . . . T T . . . . . . . . . . . . . . . . . . . . . . . . . . . . . . . . . . . . . . . . . . . . .\n",
      ". . . . . T . . . . . . . . . . . . . . . . . . . . . . . . . . . . . . . . . . . . . . . . . . . . .\n",
      ". . . . . T T T . . . . . . . . . . . . . . . . . . . . . . . . . . . . . . . . . . . . . . . . . . .\n",
      ". . . . . . . T T T . . . . . . . . . . . . . . . . . . . . . . . . . . . . . . . . . . . . . . . . .\n",
      ". . . . . . . . . T T T . . . . . . . . . . . . . . . . . . . . . . . . . . . . . . . . . . . . . . .\n",
      ". . . . . . . . . T . T T . . . . . . . . . . . . . . . . . . . . . . . . . . . . . . . . . . . . . .\n",
      ". . . . . . . . . T T T . . . . . . . . . . . . . . . . . . . . . . . . . . . . . . . . . . . . . . .\n",
      ". . . . . . . . . . . T T . . . . . . . . . . . . . . . . . . . . . . . . . . . . . . . . . . . . . .\n",
      ". . . . . . . . . . . . T . . . . . . . . . . . . . . . . . . . . . . . . . . . . . . . . . . . . . .\n",
      ". . . . . . . . . . . . T T . . . . . . . . . . . . . . . . . . . . . . . . . . . . . . . . . . . . .\n",
      ". . . . . . . . . . . . . T T T . . . . . . . . . . . . . . . . . . . . . . . . . . . . . . . . . . .\n",
      ". . . . . . . . . . . . . . T T . . . . . . . . . . . . . . . . . . . . . . . . . . . . . . . . . . .\n",
      ". . . . . . . . . . . . . . . T . . . . . . . . . . . . . . . . . . . . . . . . . . . . . . . . . . .\n",
      ". . . . . . . . . . . . . . . T T . . . . . . . . . . . . . . . . . . . . . . . . . . . . . . . . . .\n",
      ". . . . . . . . . . . . . . . . T T . . . . . . . . . . . . . . . . . . . . . . . . . . . . . . . . .\n",
      ". . . . . . . . . . . . . . . . T . . . . . . . . . . . . . . . . . . . . . . . . . . . . . . . . . .\n",
      ". . . . . . . . . . . . . . . . T . . . . . . . . . . . . . . . . . . . . . . . . . . . . . . . . . .\n",
      ". . . . . . . . . . . . . . . . T T T . . . . . . . . . . . . . . . . . . . . . . . . . . . . . . . .\n",
      ". . . . . . . . . . . . . . . . T T . . . . . . . . . . . . . . . . . . . . . . . . . . . . . . . . .\n",
      ". . . . . . . . . . . . . . . . . T T T T . . . . . . . . . . . . . . . . . . . . . . . . . . . . . .\n",
      ". . . . . . . . . . . . . . . . . T T . T T . . . . . . . . . . . . . . . . . . . . . . . . . . . . .\n",
      ". . . . . . . . . . . . . . . . . . T T T . . . . . . . . . . . . . . . . . . . . . . . . . . . . . .\n",
      ". . . . . . . . . . . . . . . . . . . . T . . . . . . . . . . . . . . . . . . . . . . . . . . . . . .\n",
      ". . . . . . . . . . . . . . . . . . . . T T . . . . . . . . . . . . . . . . . . . . . . . . . . . . .\n",
      ". . . . . . . . . . . . . . . . . . . . . T T T T T T . . . . . . . . . . . . . . . . . . . . . . . .\n",
      ". . . . . . . . . . . . . . . . . . . . . T . . . . T T . . . . . . . . . . . . . . . . . . . . . . .\n",
      ". . . . . . . . . . . . . . . . . . . . . . . . . . . T . . . . . . . . . . . . . . . . . . . . . . .\n",
      ". . . . . . . . . . . . . . . . . . . . . . . . . . . T . . . . . . . . . . . . . . . . . . . . . . .\n",
      ". . . . . . . . . . . . . . . . . . . . . . . . . . . T . . . . . . . . . . . . . . . . . . . . . . .\n",
      ". . . . . . . . . . . . . . . . . . . . . . . . . . . T T T T T . . . . . . . . . . . . . . . . . . .\n",
      ". . . . . . . . . . . . . . . . . . . . . . . . . . . T . T T T T T T T . . . . . . . . . . . . . . .\n",
      ". . . . . . . . . . . . . . . . . . . . . . . . . . . . . . . T . . . T . . . . . . . . . . . . . . .\n",
      ". . . . . . . . . . . . . . . . . . . . . . . . . . . . . . . . . . . T . . . . . . . . . . . . . . .\n",
      ". . . . . . . . . . . . . . . . . . . . . . . . . . . . . . . . . . . T . . . . . . . . . . . . . . .\n",
      ". . . . . . . . . . . . . . . . . . . . . . . . . . . . . . . . . . . T . . . . . . . . . . . . . . .\n",
      ". . . . . . . . . . . . . . . . . . . . . . . . . . . . . . . . . . . T T . . . . . . . . . . . . . .\n",
      ". . . . . . . . . . . . . . . . . . . . . . . . . . . . . . . . . . . . T T T T . . . . . . . . . . .\n",
      ". . . . . . . . . . . . . . . . . . . . . . . . . . . . . . . . . . . . . . . T . . . . . . . . . . .\n",
      ". . . . . . . . . . . . . . . . . . . . . . . . . . . . . . . . . . . . . . . T . . . . . . . . . . .\n",
      ". . . . . . . . . . . . . . . . . . . . . . . . . . . . . . . . . . . . . . . T T . . . . . . . . . .\n",
      ". . . . . . . . . . . . . . . . . . . . . . . . . . . . . . . . . . . . . . . . T . . . . . . . . . .\n",
      ". . . . . . . . . . . . . . . . . . . . . . . . . . . . . . . . . . . . . . . . T T . . . . . . . . .\n",
      ". . . . . . . . . . . . . . . . . . . . . . . . . . . . . . . . . . . . . . . . . T T T . . . . . . .\n",
      ". . . . . . . . . . . . . . . . . . . . . . . . . . . . . . . . . . . . . . . . . . . T T T T T T T T\n",
      "CHCCfbEhaAHfDCagHeaBdeDEAeHGdAbcCBFdBFEBfFEffaFACFaEbefeeBfHHCDfaffFgebdGFGGGbFchcEAHgAAfDcgDggecbgh\n"
     ]
    },
    {
     "data": {
      "text/plain": [
       "True"
      ]
     },
     "execution_count": 28,
     "metadata": {},
     "output_type": "execute_result"
    }
   ],
   "source": [
    "v, bp, t = is_interleave(s1, s2, il, return_backpointers=True, return_table=True)\n",
    "print(show_table(t))\n",
    "print(show_backtrace(bp))\n",
    "v"
   ]
  },
  {
   "cell_type": "code",
   "execution_count": 29,
   "metadata": {},
   "outputs": [
    {
     "data": {
      "text/plain": [
       "True"
      ]
     },
     "execution_count": 29,
     "metadata": {},
     "output_type": "execute_result"
    }
   ],
   "source": [
    "show_backtrace(bp).lower() == il"
   ]
  },
  {
   "cell_type": "code",
   "execution_count": 30,
   "metadata": {},
   "outputs": [
    {
     "data": {
      "text/plain": [
       "('cbchedabcadedhfafahdaacbhhhedfhgceafghceehaefaebcc', False, False)"
      ]
     },
     "execution_count": 30,
     "metadata": {},
     "output_type": "execute_result"
    }
   ],
   "source": [
    "s3 = make_string(50)\n",
    "s3, is_interleave(s1, s3, il), is_interleave(s2, s3, il)"
   ]
  },
  {
   "cell_type": "code",
   "execution_count": 31,
   "metadata": {},
   "outputs": [
    {
     "name": "stdout",
     "output_type": "stream",
     "text": [
      "T T . . . . . . . . . . . . . . . . . . . . . . . . . . . . . . . . . . . . . . . . . . . . . . . . .\n",
      "T . . . . . . . . . . . . . . . . . . . . . . . . . . . . . . . . . . . . . . . . . . . . . . . . . .\n",
      "T T . . . . . . . . . . . . . . . . . . . . . . . . . . . . . . . . . . . . . . . . . . . . . . . . .\n",
      "T T . . . . . . . . . . . . . . . . . . . . . . . . . . . . . . . . . . . . . . . . . . . . . . . . .\n",
      "T . . . . . . . . . . . . . . . . . . . . . . . . . . . . . . . . . . . . . . . . . . . . . . . . . .\n",
      ". . . . . . . . . . . . . . . . . . . . . . . . . . . . . . . . . . . . . . . . . . . . . . . . . . .\n",
      ". . . . . . . . . . . . . . . . . . . . . . . . . . . . . . . . . . . . . . . . . . . . . . . . . . .\n",
      ". . . . . . . . . . . . . . . . . . . . . . . . . . . . . . . . . . . . . . . . . . . . . . . . . . .\n",
      ". . . . . . . . . . . . . . . . . . . . . . . . . . . . . . . . . . . . . . . . . . . . . . . . . . .\n",
      ". . . . . . . . . . . . . . . . . . . . . . . . . . . . . . . . . . . . . . . . . . . . . . . . . . .\n",
      ". . . . . . . . . . . . . . . . . . . . . . . . . . . . . . . . . . . . . . . . . . . . . . . . . . .\n",
      ". . . . . . . . . . . . . . . . . . . . . . . . . . . . . . . . . . . . . . . . . . . . . . . . . . .\n",
      ". . . . . . . . . . . . . . . . . . . . . . . . . . . . . . . . . . . . . . . . . . . . . . . . . . .\n",
      ". . . . . . . . . . . . . . . . . . . . . . . . . . . . . . . . . . . . . . . . . . . . . . . . . . .\n",
      ". . . . . . . . . . . . . . . . . . . . . . . . . . . . . . . . . . . . . . . . . . . . . . . . . . .\n",
      ". . . . . . . . . . . . . . . . . . . . . . . . . . . . . . . . . . . . . . . . . . . . . . . . . . .\n",
      ". . . . . . . . . . . . . . . . . . . . . . . . . . . . . . . . . . . . . . . . . . . . . . . . . . .\n",
      ". . . . . . . . . . . . . . . . . . . . . . . . . . . . . . . . . . . . . . . . . . . . . . . . . . .\n",
      ". . . . . . . . . . . . . . . . . . . . . . . . . . . . . . . . . . . . . . . . . . . . . . . . . . .\n",
      ". . . . . . . . . . . . . . . . . . . . . . . . . . . . . . . . . . . . . . . . . . . . . . . . . . .\n",
      ". . . . . . . . . . . . . . . . . . . . . . . . . . . . . . . . . . . . . . . . . . . . . . . . . . .\n",
      ". . . . . . . . . . . . . . . . . . . . . . . . . . . . . . . . . . . . . . . . . . . . . . . . . . .\n",
      ". . . . . . . . . . . . . . . . . . . . . . . . . . . . . . . . . . . . . . . . . . . . . . . . . . .\n",
      ". . . . . . . . . . . . . . . . . . . . . . . . . . . . . . . . . . . . . . . . . . . . . . . . . . .\n",
      ". . . . . . . . . . . . . . . . . . . . . . . . . . . . . . . . . . . . . . . . . . . . . . . . . . .\n",
      ". . . . . . . . . . . . . . . . . . . . . . . . . . . . . . . . . . . . . . . . . . . . . . . . . . .\n",
      ". . . . . . . . . . . . . . . . . . . . . . . . . . . . . . . . . . . . . . . . . . . . . . . . . . .\n",
      ". . . . . . . . . . . . . . . . . . . . . . . . . . . . . . . . . . . . . . . . . . . . . . . . . . .\n",
      ". . . . . . . . . . . . . . . . . . . . . . . . . . . . . . . . . . . . . . . . . . . . . . . . . . .\n",
      ". . . . . . . . . . . . . . . . . . . . . . . . . . . . . . . . . . . . . . . . . . . . . . . . . . .\n",
      ". . . . . . . . . . . . . . . . . . . . . . . . . . . . . . . . . . . . . . . . . . . . . . . . . . .\n",
      ". . . . . . . . . . . . . . . . . . . . . . . . . . . . . . . . . . . . . . . . . . . . . . . . . . .\n",
      ". . . . . . . . . . . . . . . . . . . . . . . . . . . . . . . . . . . . . . . . . . . . . . . . . . .\n",
      ". . . . . . . . . . . . . . . . . . . . . . . . . . . . . . . . . . . . . . . . . . . . . . . . . . .\n",
      ". . . . . . . . . . . . . . . . . . . . . . . . . . . . . . . . . . . . . . . . . . . . . . . . . . .\n",
      ". . . . . . . . . . . . . . . . . . . . . . . . . . . . . . . . . . . . . . . . . . . . . . . . . . .\n",
      ". . . . . . . . . . . . . . . . . . . . . . . . . . . . . . . . . . . . . . . . . . . . . . . . . . .\n",
      ". . . . . . . . . . . . . . . . . . . . . . . . . . . . . . . . . . . . . . . . . . . . . . . . . . .\n",
      ". . . . . . . . . . . . . . . . . . . . . . . . . . . . . . . . . . . . . . . . . . . . . . . . . . .\n",
      ". . . . . . . . . . . . . . . . . . . . . . . . . . . . . . . . . . . . . . . . . . . . . . . . . . .\n",
      ". . . . . . . . . . . . . . . . . . . . . . . . . . . . . . . . . . . . . . . . . . . . . . . . . . .\n",
      ". . . . . . . . . . . . . . . . . . . . . . . . . . . . . . . . . . . . . . . . . . . . . . . . . . .\n",
      ". . . . . . . . . . . . . . . . . . . . . . . . . . . . . . . . . . . . . . . . . . . . . . . . . . .\n",
      ". . . . . . . . . . . . . . . . . . . . . . . . . . . . . . . . . . . . . . . . . . . . . . . . . . .\n",
      ". . . . . . . . . . . . . . . . . . . . . . . . . . . . . . . . . . . . . . . . . . . . . . . . . . .\n",
      ". . . . . . . . . . . . . . . . . . . . . . . . . . . . . . . . . . . . . . . . . . . . . . . . . . .\n",
      ". . . . . . . . . . . . . . . . . . . . . . . . . . . . . . . . . . . . . . . . . . . . . . . . . . .\n",
      ". . . . . . . . . . . . . . . . . . . . . . . . . . . . . . . . . . . . . . . . . . . . . . . . . . .\n",
      ". . . . . . . . . . . . . . . . . . . . . . . . . . . . . . . . . . . . . . . . . . . . . . . . . . .\n",
      ". . . . . . . . . . . . . . . . . . . . . . . . . . . . . . . . . . . . . . . . . . . . . . . . . . .\n",
      ". . . . . . . . . . . . . . . . . . . . . . . . . . . . . . . . . . . . . . . . . . . . . . . . . . .\n",
      "\n"
     ]
    },
    {
     "data": {
      "text/plain": [
       "False"
      ]
     },
     "execution_count": 31,
     "metadata": {},
     "output_type": "execute_result"
    }
   ],
   "source": [
    "v, bp, t = is_interleave(s1, s3, il, return_backpointers=True, return_table=True)\n",
    "print(show_table(t))\n",
    "print(show_backtrace(bp))\n",
    "v"
   ]
  },
  {
   "cell_type": "code",
   "execution_count": 32,
   "metadata": {
    "collapsed": true
   },
   "outputs": [],
   "source": [
    "def is_interleave_recursive(s1, s2, s3):\n",
    "    if not s1:\n",
    "        return s2 == s3\n",
    "    elif not s2:\n",
    "        return s1 == s3\n",
    "    elif len(s1) + len(s2) != len(s3):\n",
    "        return False\n",
    "    else:\n",
    "        if s1[-1] == s3[-1] and s2[-1] == s3[-1]:\n",
    "            return (is_interleave_recursive(s1[:-1], s2, s3[:-1]) \n",
    "                    or \n",
    "                    is_interleave_recursive(s1, s2[:-1], s3[:-1]) )\n",
    "        elif s1[-1] == s3[-1]:\n",
    "            return is_interleave_recursive(s1[:-1], s2, s3[:-1])\n",
    "        elif s2[-1] == s3[-1]:\n",
    "            return is_interleave_recursive(s1, s2[:-1], s3[:-1])\n",
    "        else:\n",
    "            return False"
   ]
  },
  {
   "cell_type": "code",
   "execution_count": 33,
   "metadata": {
    "collapsed": true
   },
   "outputs": [],
   "source": [
    "import uuid"
   ]
  },
  {
   "cell_type": "code",
   "execution_count": 34,
   "metadata": {
    "collapsed": true
   },
   "outputs": [],
   "source": [
    "def is_subseq_recursive_dot(s1, s2):\n",
    "    node_id = uuid.uuid4().hex\n",
    "    node_string = 'n{} [label=\"{}\\\\n{}\"];'.format(node_id, s1, s2)\n",
    "#     print(s1, s2, node_string)\n",
    "    if not s1:\n",
    "        return node_id, ['n{} [label=\"-\\\\n{}\\\\nTrue\"];'.format(node_id, s2)]\n",
    "    elif len(s1) > len(s2):\n",
    "        return node_id, ['n{} [label=\"{}\\\\n{}\\\\nFalse\"];'.format(node_id, s1, s2)]\n",
    "    else:\n",
    "        if s1[-1] == s2[-1]:\n",
    "            node1_id, node1_graph = is_subseq_recursive_dot(s1[:-1], s2[:-1])\n",
    "            node2_id, node2_graph = is_subseq_recursive_dot(s1, s2[:-1])\n",
    "            return node_id, ([node_string, \n",
    "                    'n{} -> n{};'.format(node_id, node1_id), \n",
    "                    'n{} -> n{};'.format(node_id, node2_id)] + \n",
    "                    node1_graph + node2_graph)\n",
    "        else:\n",
    "            node1_id, node1_graph = is_subseq_recursive_dot(s1, s2[:-1])\n",
    "            return node_id, ([node_string, \n",
    "                    'n{} -> n{};'.format(node_id, node1_id)] + \n",
    "                    node1_graph)"
   ]
  },
  {
   "cell_type": "code",
   "execution_count": 35,
   "metadata": {
    "collapsed": true
   },
   "outputs": [],
   "source": [
    "def is_interleave_recursive_dot(s1, s2, s3):\n",
    "    \n",
    "#     print(s1, s2, s3)\n",
    "    node_id = uuid.uuid4().hex\n",
    "    node_string = 'n{} [label=\"{}\\\\n{}\\\\n{}\"];'.format(node_id, s1, s2, s3)\n",
    "\n",
    "    if not s1:\n",
    "        if s2 == s3:\n",
    "            return node_id, ['n{} [label=\"-\\\\n{}\\\\n{}\\\\nTrue\"];'.format(node_id, s2, s3)]\n",
    "        else:\n",
    "            return node_id, ['n{} [label=\"-\\\\n{}\\\\n{}\\\\nFalse\"];'.format(node_id, s2, s3)]\n",
    "    elif not s2:\n",
    "        if s1 == s3:\n",
    "            return node_id, ['n{} [label=\"{}\\\\n-\\\\n{}\\\\nTrue\"];'.format(node_id, s1, s3)]\n",
    "        else:\n",
    "            return node_id, ['n{} [label=\"{}\\\\n-\\\\n{}\\\\nFalse\"];'.format(node_id, s1, s3)]\n",
    "    else:\n",
    "        if s1[-1] == s2[-1] and s1[-1] == s3[-1]:\n",
    "            node1_id, node1_graph = is_interleave_recursive_dot(s1[:-1], s2, s3[:-1])\n",
    "            node2_id, node2_graph = is_interleave_recursive_dot(s1, s2[:-1], s3[:-1])\n",
    "            return node_id, ([node_string, \n",
    "                    'n{} -> n{};'.format(node_id, node1_id), \n",
    "                    'n{} -> n{};'.format(node_id, node2_id)] + \n",
    "                    node1_graph + node2_graph)\n",
    "        elif s1[-1] == s3[-1]:\n",
    "            node1_id, node1_graph = is_interleave_recursive_dot(s1[:-1], s2, s3[:-1])\n",
    "            return node_id, ([node_string, \n",
    "                    'n{} -> n{};'.format(node_id, node1_id)] + \n",
    "                    node1_graph)\n",
    "        elif s2[-1] == s3[-1]:\n",
    "            node1_id, node1_graph = is_interleave_recursive_dot(s1, s2[:-1], s3[:-1])\n",
    "            return node_id, ([node_string, \n",
    "                    'n{} -> n{};'.format(node_id, node1_id)] + \n",
    "                    node1_graph)\n",
    "        else:\n",
    "            return node_id, ['n{} [label=\"{}\\\\n{}\\\\n{}\\\\nFalse\"];'.format(node_id, s1, s2, s3)]"
   ]
  },
  {
   "cell_type": "code",
   "execution_count": 36,
   "metadata": {
    "collapsed": true
   },
   "outputs": [],
   "source": [
    "s1 = \"aabcc\"\n",
    "s2 = \"dbbca\"\n",
    "\n",
    "s3t = \"aadbbcbcac\"\n",
    "s3f = \"aadbbbaccc\""
   ]
  },
  {
   "cell_type": "code",
   "execution_count": 37,
   "metadata": {},
   "outputs": [
    {
     "name": "stdout",
     "output_type": "stream",
     "text": [
      "T . . . . .\n",
      "T . . . . .\n",
      "T T T T T .\n",
      ". T T . T .\n",
      ". . T T T T\n",
      ". . . T . T\n",
      "AAdbbcBCaC\n"
     ]
    }
   ],
   "source": [
    "v, bp, t = is_interleave(s1, s2, s3t, return_backpointers=True, return_table=True)\n",
    "print(show_table(t))\n",
    "print(show_backtrace(bp))"
   ]
  },
  {
   "cell_type": "code",
   "execution_count": 38,
   "metadata": {
    "collapsed": true
   },
   "outputs": [],
   "source": [
    "def show_table_md(table, s1, s2, s3):\n",
    "    header = '|   |' + '|'.join('{}<br />{}'.format('<br />'.join(str(s2[:i])), i) for i in range(len(s2) + 1)) + '|'\n",
    "    separator = '|:---:' * (len(s2) + 2) + '|'\n",
    "    rows = []\n",
    "    columns = sorted(set(k[1] for k in table))\n",
    "    for r in range(len(s1) + 1):\n",
    "        row = '|**{}<br />{}**|'.format(r, s1[:r])\n",
    "        row += '|'.join('{}<br />T'.format(s3[:(r+c)]) if table[r, c] else '{}<br />.'.format(s3[:(r+c)]) for c in columns)\n",
    "        row += '|'\n",
    "        rows += [row]\n",
    "    return '\\n'.join([header] + [separator] + rows)"
   ]
  },
  {
   "cell_type": "code",
   "execution_count": 39,
   "metadata": {},
   "outputs": [
    {
     "name": "stdout",
     "output_type": "stream",
     "text": [
      "|   |<br />0|d<br />1|d<br />b<br />2|d<br />b<br />b<br />3|d<br />b<br />b<br />c<br />4|d<br />b<br />b<br />c<br />a<br />5|\n",
      "|:---:|:---:|:---:|:---:|:---:|:---:|:---:|\n",
      "|**0<br />**|<br />T|a<br />.|aa<br />.|aad<br />.|aadb<br />.|aadbb<br />.|\n",
      "|**1<br />a**|a<br />T|aa<br />.|aad<br />.|aadb<br />.|aadbb<br />.|aadbbc<br />.|\n",
      "|**2<br />aa**|aa<br />T|aad<br />T|aadb<br />T|aadbb<br />T|aadbbc<br />T|aadbbcb<br />.|\n",
      "|**3<br />aab**|aad<br />.|aadb<br />T|aadbb<br />T|aadbbc<br />.|aadbbcb<br />T|aadbbcbc<br />.|\n",
      "|**4<br />aabc**|aadb<br />.|aadbb<br />.|aadbbc<br />T|aadbbcb<br />T|aadbbcbc<br />T|aadbbcbca<br />T|\n",
      "|**5<br />aabcc**|aadbb<br />.|aadbbc<br />.|aadbbcb<br />.|aadbbcbc<br />T|aadbbcbca<br />.|aadbbcbcac<br />T|\n"
     ]
    }
   ],
   "source": [
    "print(show_table_md(t, s1, s2, s3t))"
   ]
  },
  {
   "cell_type": "markdown",
   "metadata": {},
   "source": [
    "|   |<br />0|d<br />1|d<br />b<br />2|d<br />b<br />b<br />3|d<br />b<br />b<br />c<br />4|d<br />b<br />b<br />c<br />a<br />5|\n",
    "|:---:|:---:|:---:|:---:|:---:|:---:|:---:|\n",
    "|**0<br />**|<br />T|a<br />.|aa<br />.|aad<br />.|aadb<br />.|aadbb<br />.|\n",
    "|**1<br />a**|a<br />T|aa<br />.|aad<br />.|aadb<br />.|aadbb<br />.|aadbbc<br />.|\n",
    "|**2<br />aa**|aa<br />T|aad<br />T|aadb<br />T|aadbb<br />T|aadbbc<br />T|aadbbcb<br />.|\n",
    "|**3<br />aab**|aad<br />.|aadb<br />T|aadbb<br />T|aadbbc<br />.|aadbbcb<br />T|aadbbcbc<br />.|\n",
    "|**4<br />aabc**|aadb<br />.|aadbb<br />.|aadbbc<br />T|aadbbcb<br />T|aadbbcbc<br />T|aadbbcbca<br />T|\n",
    "|**5<br />aabcc**|aadbb<br />.|aadbbc<br />.|aadbbcb<br />.|aadbbcbc<br />T|aadbbcbca<br />.|aadbbcbcac<br />T|"
   ]
  },
  {
   "cell_type": "code",
   "execution_count": 40,
   "metadata": {},
   "outputs": [
    {
     "name": "stdout",
     "output_type": "stream",
     "text": [
      "T T T T\n",
      "T . T .\n",
      ". . T T\n",
      ". . . T\n",
      "abACaB\n"
     ]
    }
   ],
   "source": [
    "e1 = 'acb'\n",
    "e2 = 'aba'\n",
    "e3 = 'abacab'\n",
    "v, bp, et = is_interleave(e1, e2, e3, return_backpointers=True, return_table=True)\n",
    "print(show_table(et))\n",
    "print(show_backtrace(bp))"
   ]
  },
  {
   "cell_type": "code",
   "execution_count": 41,
   "metadata": {},
   "outputs": [
    {
     "name": "stdout",
     "output_type": "stream",
     "text": [
      "|   |<br />0|a<br />1|a<br />b<br />2|a<br />b<br />a<br />3|\n",
      "|:---:|:---:|:---:|:---:|:---:|\n",
      "|**0<br />**|<br />T|a<br />T|ab<br />T|aba<br />T|\n",
      "|**1<br />a**|a<br />T|ab<br />.|aba<br />T|abac<br />.|\n",
      "|**2<br />ac**|ab<br />.|aba<br />.|abac<br />T|abaca<br />T|\n",
      "|**3<br />acb**|aba<br />.|abac<br />.|abaca<br />.|abacab<br />T|\n"
     ]
    }
   ],
   "source": [
    "print(show_table_md(et, e1, e2, e3))"
   ]
  },
  {
   "cell_type": "markdown",
   "metadata": {},
   "source": [
    "|   |<br />0|a<br />1|a<br />b<br />2|a<br />b<br />a<br />3|\n",
    "|:---:|:---:|:---:|:---:|:---:|\n",
    "|**0<br />**|<br />T|a<br />T|ab<br />T|aba<br />T|\n",
    "|**1<br />a**|a<br />T|ab<br />.|aba<br />T|abac<br />.|\n",
    "|**2<br />ac**|ab<br />.|aba<br />.|abac<br />T|abaca<br />T|\n",
    "|**3<br />acb**|aba<br />.|abac<br />.|abaca<br />.|abacab<br />T|"
   ]
  },
  {
   "cell_type": "code",
   "execution_count": 42,
   "metadata": {
    "scrolled": true
   },
   "outputs": [
    {
     "name": "stdout",
     "output_type": "stream",
     "text": [
      "ndf96f65c85de45ba814c3aebe4afed65 [label=\"aabcc\\ndbbca\\naadbbcbcac\"];\n",
      "ndf96f65c85de45ba814c3aebe4afed65 -> n0e6e480c9d664ba2af7e041445763b66;\n",
      "n0e6e480c9d664ba2af7e041445763b66 [label=\"aabc\\ndbbca\\naadbbcbca\"];\n",
      "n0e6e480c9d664ba2af7e041445763b66 -> nc7f25932eaf1431cb98430f8b1644221;\n",
      "nc7f25932eaf1431cb98430f8b1644221 [label=\"aabc\\ndbbc\\naadbbcbc\"];\n",
      "nc7f25932eaf1431cb98430f8b1644221 -> ncd2942f9e99443619c6ce1d72a10da75;\n",
      "nc7f25932eaf1431cb98430f8b1644221 -> n0e76b3b46aba4a8abdbd569a0762170a;\n",
      "ncd2942f9e99443619c6ce1d72a10da75 [label=\"aab\\ndbbc\\naadbbcb\"];\n",
      "ncd2942f9e99443619c6ce1d72a10da75 -> n4762ffa7e0c6426792438c6f84c9d2f9;\n",
      "n4762ffa7e0c6426792438c6f84c9d2f9 [label=\"aa\\ndbbc\\naadbbc\"];\n",
      "n4762ffa7e0c6426792438c6f84c9d2f9 -> n9434633af1674b45ae72a987932bcacc;\n",
      "n9434633af1674b45ae72a987932bcacc [label=\"aa\\ndbb\\naadbb\"];\n",
      "n9434633af1674b45ae72a987932bcacc -> n72dd6ed85e8d43d39b1c6b240f672815;\n",
      "n72dd6ed85e8d43d39b1c6b240f672815 [label=\"aa\\ndb\\naadb\"];\n",
      "n72dd6ed85e8d43d39b1c6b240f672815 -> nf904e4ea330a48028602500e910001ba;\n",
      "nf904e4ea330a48028602500e910001ba [label=\"aa\\nd\\naad\"];\n",
      "nf904e4ea330a48028602500e910001ba -> nc2246b72d95748f5984f7a9a922afafa;\n",
      "nc2246b72d95748f5984f7a9a922afafa [label=\"aa\\n-\\naa\\nTrue\"];\n",
      "n0e76b3b46aba4a8abdbd569a0762170a [label=\"aabc\\ndbb\\naadbbcb\"];\n",
      "n0e76b3b46aba4a8abdbd569a0762170a -> nde239312af534c47988db27094dc5e3b;\n",
      "nde239312af534c47988db27094dc5e3b [label=\"aabc\\ndb\\naadbbc\"];\n",
      "nde239312af534c47988db27094dc5e3b -> n0571e43544db4baea762dd9382a90eab;\n",
      "n0571e43544db4baea762dd9382a90eab [label=\"aab\\ndb\\naadbb\"];\n",
      "n0571e43544db4baea762dd9382a90eab -> nd24f1944051440d6b94710a3b971c134;\n",
      "n0571e43544db4baea762dd9382a90eab -> n671eff7dd1f945a28e7bcd0647d7d40d;\n",
      "nd24f1944051440d6b94710a3b971c134 [label=\"aa\\ndb\\naadb\"];\n",
      "nd24f1944051440d6b94710a3b971c134 -> n26480b1bcee847adaeb205f2e844a4e5;\n",
      "n26480b1bcee847adaeb205f2e844a4e5 [label=\"aa\\nd\\naad\"];\n",
      "n26480b1bcee847adaeb205f2e844a4e5 -> n162a36ef08174bafa51dbf89a58965df;\n",
      "n162a36ef08174bafa51dbf89a58965df [label=\"aa\\n-\\naa\\nTrue\"];\n",
      "n671eff7dd1f945a28e7bcd0647d7d40d [label=\"aab\\nd\\naadb\"];\n",
      "n671eff7dd1f945a28e7bcd0647d7d40d -> n8d9c2dc78a9047d4a243d316e87dd782;\n",
      "n8d9c2dc78a9047d4a243d316e87dd782 [label=\"aa\\nd\\naad\"];\n",
      "n8d9c2dc78a9047d4a243d316e87dd782 -> n6d893e899f6f4f77a30c3be1eeef25d0;\n",
      "n6d893e899f6f4f77a30c3be1eeef25d0 [label=\"aa\\n-\\naa\\nTrue\"];\n"
     ]
    }
   ],
   "source": [
    "root, graph = is_interleave_recursive_dot(s1, s2, s3t)\n",
    "print('\\n'.join(graph))"
   ]
  },
  {
   "cell_type": "code",
   "execution_count": 43,
   "metadata": {
    "scrolled": true
   },
   "outputs": [
    {
     "name": "stdout",
     "output_type": "stream",
     "text": [
      "n8ab105a57ff44daa8fa8c0bd8275721c [label=\"aaa\\naaa\\naaaaaa\"];\n",
      "n8ab105a57ff44daa8fa8c0bd8275721c -> ndd3ec050e4d441ba9f5eca4140804aa2;\n",
      "n8ab105a57ff44daa8fa8c0bd8275721c -> n5fe9af06410d4e3796f3e5b09724befb;\n",
      "ndd3ec050e4d441ba9f5eca4140804aa2 [label=\"aa\\naaa\\naaaaa\"];\n",
      "ndd3ec050e4d441ba9f5eca4140804aa2 -> n4da003b54dd94728a1aa1890f1a9250a;\n",
      "ndd3ec050e4d441ba9f5eca4140804aa2 -> ncb2a3fd92dc6414a99dc115990760e7c;\n",
      "n4da003b54dd94728a1aa1890f1a9250a [label=\"a\\naaa\\naaaa\"];\n",
      "n4da003b54dd94728a1aa1890f1a9250a -> n699e6ec8bba74ec394a68d5c2d306c30;\n",
      "n4da003b54dd94728a1aa1890f1a9250a -> n71376b3b5e614617ba68dccf8d9677cc;\n",
      "n699e6ec8bba74ec394a68d5c2d306c30 [label=\"-\\naaa\\naaa\\nTrue\"];\n",
      "n71376b3b5e614617ba68dccf8d9677cc [label=\"a\\naa\\naaa\"];\n",
      "n71376b3b5e614617ba68dccf8d9677cc -> nb876b970b38f4ba2937a69ba491f308c;\n",
      "n71376b3b5e614617ba68dccf8d9677cc -> nfb2ebec95c5c46c6b160c511031f5417;\n",
      "nb876b970b38f4ba2937a69ba491f308c [label=\"-\\naa\\naa\\nTrue\"];\n",
      "nfb2ebec95c5c46c6b160c511031f5417 [label=\"a\\na\\naa\"];\n",
      "nfb2ebec95c5c46c6b160c511031f5417 -> ndcf30cbbd8f646adb30c01e8fbc8aaaf;\n",
      "nfb2ebec95c5c46c6b160c511031f5417 -> n9bb6593bab3c47e59f83df2767b67a3a;\n",
      "ndcf30cbbd8f646adb30c01e8fbc8aaaf [label=\"-\\na\\na\\nTrue\"];\n",
      "n9bb6593bab3c47e59f83df2767b67a3a [label=\"a\\n-\\na\\nTrue\"];\n",
      "ncb2a3fd92dc6414a99dc115990760e7c [label=\"aa\\naa\\naaaa\"];\n",
      "ncb2a3fd92dc6414a99dc115990760e7c -> n937d754714994223bc97015534e1806e;\n",
      "ncb2a3fd92dc6414a99dc115990760e7c -> n553eac2d6c4542448a5c82b781e963b1;\n",
      "n937d754714994223bc97015534e1806e [label=\"a\\naa\\naaa\"];\n",
      "n937d754714994223bc97015534e1806e -> n08a6688eb7df48f8834787728a0e36a2;\n",
      "n937d754714994223bc97015534e1806e -> n063d395576474c5b82d810b2b70e7e3c;\n",
      "n08a6688eb7df48f8834787728a0e36a2 [label=\"-\\naa\\naa\\nTrue\"];\n",
      "n063d395576474c5b82d810b2b70e7e3c [label=\"a\\na\\naa\"];\n",
      "n063d395576474c5b82d810b2b70e7e3c -> n04b9f6aea46c458da227558ab02a0b4c;\n",
      "n063d395576474c5b82d810b2b70e7e3c -> nc067208a5ab64f8c9904d58b738b81e4;\n",
      "n04b9f6aea46c458da227558ab02a0b4c [label=\"-\\na\\na\\nTrue\"];\n",
      "nc067208a5ab64f8c9904d58b738b81e4 [label=\"a\\n-\\na\\nTrue\"];\n",
      "n553eac2d6c4542448a5c82b781e963b1 [label=\"aa\\na\\naaa\"];\n",
      "n553eac2d6c4542448a5c82b781e963b1 -> n5d50905c46ce4dc8bcb59fb62984fa54;\n",
      "n553eac2d6c4542448a5c82b781e963b1 -> n6768e9ad78804e65b1bde9cb655f2a60;\n",
      "n5d50905c46ce4dc8bcb59fb62984fa54 [label=\"a\\na\\naa\"];\n",
      "n5d50905c46ce4dc8bcb59fb62984fa54 -> n22bc48dd2aa84e79a387252cc28f3a92;\n",
      "n5d50905c46ce4dc8bcb59fb62984fa54 -> n853ef88a20ee48a4bccf390498c96f5d;\n",
      "n22bc48dd2aa84e79a387252cc28f3a92 [label=\"-\\na\\na\\nTrue\"];\n",
      "n853ef88a20ee48a4bccf390498c96f5d [label=\"a\\n-\\na\\nTrue\"];\n",
      "n6768e9ad78804e65b1bde9cb655f2a60 [label=\"aa\\n-\\naa\\nTrue\"];\n",
      "n5fe9af06410d4e3796f3e5b09724befb [label=\"aaa\\naa\\naaaaa\"];\n",
      "n5fe9af06410d4e3796f3e5b09724befb -> ne6b19fc7e02b4981a1edc20c7fe0cce0;\n",
      "n5fe9af06410d4e3796f3e5b09724befb -> ne0c07d6d54f045a5b4bf9eb10bd8d810;\n",
      "ne6b19fc7e02b4981a1edc20c7fe0cce0 [label=\"aa\\naa\\naaaa\"];\n",
      "ne6b19fc7e02b4981a1edc20c7fe0cce0 -> n9d2cfd4e9cf2473bbd05a8a7e2a96714;\n",
      "ne6b19fc7e02b4981a1edc20c7fe0cce0 -> n3d4e61bc032c4f8387c269d8ac49cc3f;\n",
      "n9d2cfd4e9cf2473bbd05a8a7e2a96714 [label=\"a\\naa\\naaa\"];\n",
      "n9d2cfd4e9cf2473bbd05a8a7e2a96714 -> n214f88e71d504eaba78b46c5a5bbe31d;\n",
      "n9d2cfd4e9cf2473bbd05a8a7e2a96714 -> n2890559b11cb49c9aa083a76a7b68ce4;\n",
      "n214f88e71d504eaba78b46c5a5bbe31d [label=\"-\\naa\\naa\\nTrue\"];\n",
      "n2890559b11cb49c9aa083a76a7b68ce4 [label=\"a\\na\\naa\"];\n",
      "n2890559b11cb49c9aa083a76a7b68ce4 -> n5d37f312b10341d09e2faa4fb4f40e3c;\n",
      "n2890559b11cb49c9aa083a76a7b68ce4 -> nd73fc499c4214ddbbe7155f97c9ff394;\n",
      "n5d37f312b10341d09e2faa4fb4f40e3c [label=\"-\\na\\na\\nTrue\"];\n",
      "nd73fc499c4214ddbbe7155f97c9ff394 [label=\"a\\n-\\na\\nTrue\"];\n",
      "n3d4e61bc032c4f8387c269d8ac49cc3f [label=\"aa\\na\\naaa\"];\n",
      "n3d4e61bc032c4f8387c269d8ac49cc3f -> nfac20fc8bb7441f891ac0380259f3b76;\n",
      "n3d4e61bc032c4f8387c269d8ac49cc3f -> n9d9c86dc313f48b69d9c2693ee32e7ab;\n",
      "nfac20fc8bb7441f891ac0380259f3b76 [label=\"a\\na\\naa\"];\n",
      "nfac20fc8bb7441f891ac0380259f3b76 -> n14489559bae24e99b2d816716ceef683;\n",
      "nfac20fc8bb7441f891ac0380259f3b76 -> n44c425cd261c4c19971a47901723f942;\n",
      "n14489559bae24e99b2d816716ceef683 [label=\"-\\na\\na\\nTrue\"];\n",
      "n44c425cd261c4c19971a47901723f942 [label=\"a\\n-\\na\\nTrue\"];\n",
      "n9d9c86dc313f48b69d9c2693ee32e7ab [label=\"aa\\n-\\naa\\nTrue\"];\n",
      "ne0c07d6d54f045a5b4bf9eb10bd8d810 [label=\"aaa\\na\\naaaa\"];\n",
      "ne0c07d6d54f045a5b4bf9eb10bd8d810 -> n8d8289489db44271b99f22c572668eaa;\n",
      "ne0c07d6d54f045a5b4bf9eb10bd8d810 -> n4eda0dd1e0e34c8c9a81beba5c70fe5f;\n",
      "n8d8289489db44271b99f22c572668eaa [label=\"aa\\na\\naaa\"];\n",
      "n8d8289489db44271b99f22c572668eaa -> n156514e9dbcb44a8a6b4d96f1ec3e48f;\n",
      "n8d8289489db44271b99f22c572668eaa -> n3ba7c5a0cc3b405aa6ca7899ee85a518;\n",
      "n156514e9dbcb44a8a6b4d96f1ec3e48f [label=\"a\\na\\naa\"];\n",
      "n156514e9dbcb44a8a6b4d96f1ec3e48f -> n3b99ff94eb914661bafe9ba4c0c997e2;\n",
      "n156514e9dbcb44a8a6b4d96f1ec3e48f -> n91eac98d4ed74a1f99fd48ca60111d2c;\n",
      "n3b99ff94eb914661bafe9ba4c0c997e2 [label=\"-\\na\\na\\nTrue\"];\n",
      "n91eac98d4ed74a1f99fd48ca60111d2c [label=\"a\\n-\\na\\nTrue\"];\n",
      "n3ba7c5a0cc3b405aa6ca7899ee85a518 [label=\"aa\\n-\\naa\\nTrue\"];\n",
      "n4eda0dd1e0e34c8c9a81beba5c70fe5f [label=\"aaa\\n-\\naaa\\nTrue\"];\n"
     ]
    }
   ],
   "source": [
    "root, graph = is_interleave_recursive_dot('aaa', 'aaa', 'aaaaaa')\n",
    "print('\\n'.join(graph))"
   ]
  },
  {
   "cell_type": "code",
   "execution_count": 44,
   "metadata": {
    "scrolled": true
   },
   "outputs": [
    {
     "name": "stdout",
     "output_type": "stream",
     "text": [
      "n5d63e71661ed4a8ead31b5c5f9c1949b [label=\"acb\\naba\\nabacab\"];\n",
      "n5d63e71661ed4a8ead31b5c5f9c1949b -> n11bd1802979b4332bdf9cf6cc3b2a51c;\n",
      "n11bd1802979b4332bdf9cf6cc3b2a51c [label=\"ac\\naba\\nabaca\"];\n",
      "n11bd1802979b4332bdf9cf6cc3b2a51c -> n8a082af1ba074b84b7410b97554be94f;\n",
      "n8a082af1ba074b84b7410b97554be94f [label=\"ac\\nab\\nabac\"];\n",
      "n8a082af1ba074b84b7410b97554be94f -> n6ec78858d88046c8b8531a63f38825b3;\n",
      "n6ec78858d88046c8b8531a63f38825b3 [label=\"a\\nab\\naba\"];\n",
      "n6ec78858d88046c8b8531a63f38825b3 -> na563514a3f194725be7160850c3c8369;\n",
      "na563514a3f194725be7160850c3c8369 [label=\"-\\nab\\nab\\nTrue\"];\n"
     ]
    }
   ],
   "source": [
    "root, graph = is_interleave_recursive_dot(e1, e2, e3)\n",
    "print('\\n'.join(graph))"
   ]
  },
  {
   "cell_type": "code",
   "execution_count": 45,
   "metadata": {
    "collapsed": true
   },
   "outputs": [],
   "source": [
    "s1 = make_string(500)\n",
    "s2 = make_string(500)\n",
    "s3 = make_string(500)\n",
    "s12 = interleave(s1, s2)\n",
    "s23 = interleave(s2, s3)"
   ]
  },
  {
   "cell_type": "code",
   "execution_count": 48,
   "metadata": {},
   "outputs": [
    {
     "data": {
      "text/plain": [
       "True"
      ]
     },
     "execution_count": 48,
     "metadata": {},
     "output_type": "execute_result"
    }
   ],
   "source": [
    "is_interleave_recursive(s1, s2, s12)"
   ]
  },
  {
   "cell_type": "code",
   "execution_count": 49,
   "metadata": {},
   "outputs": [
    {
     "data": {
      "text/plain": [
       "False"
      ]
     },
     "execution_count": 49,
     "metadata": {},
     "output_type": "execute_result"
    }
   ],
   "source": [
    "is_interleave_recursive(s1, s2, s23)"
   ]
  },
  {
   "cell_type": "markdown",
   "metadata": {},
   "source": [
    "## Example"
   ]
  },
  {
   "cell_type": "code",
   "execution_count": 50,
   "metadata": {
    "collapsed": true
   },
   "outputs": [],
   "source": [
    "def show_annotated_table(table, bps):\n",
    "    return '\\n'.join(' '.join('*' if (i, j) == (0, 0) else bps[i, j][2] if table[i, j] else '.' for j in sorted(set([k[1] for k in table])))\n",
    "        for i in sorted(set([k[0] for k in table])))"
   ]
  },
  {
   "cell_type": "code",
   "execution_count": 51,
   "metadata": {
    "collapsed": true
   },
   "outputs": [],
   "source": [
    "def show_backtrace_star(bps):\n",
    "    i = max([0] + [k[0] for k in bps])\n",
    "    j = max([0] + [k[1] for k in bps])\n",
    "    chars = ''\n",
    "    stars = ''\n",
    "    if (i, j) in bps:\n",
    "        while i != 0 or j != 0:\n",
    "            chars += bps[i, j][2]\n",
    "            if bps[i, j][3] == 'seq1':\n",
    "                stars += '*'\n",
    "            else:\n",
    "                stars += ' '\n",
    "            i, j = bps[i, j][0], bps[i, j][1] \n",
    "        return ''.join(list(reversed(chars))) + '\\n' + ''.join(list(reversed(stars)))\n",
    "    else:\n",
    "        return ''"
   ]
  },
  {
   "cell_type": "code",
   "execution_count": 52,
   "metadata": {},
   "outputs": [
    {
     "name": "stdout",
     "output_type": "stream",
     "text": [
      "0: ddadbdcbdc\n",
      "1: bbcbbabdab\n",
      "2: dcddddbbdb\n",
      "3: cccbbbcbabadbddcabda\n",
      "4: ddcdddadddbbbddbcbdc\n",
      "5: dcccdddcbdbadbdbdcda\n",
      "6: ddadbbcbbbdacbbdcdab\n"
     ]
    },
    {
     "data": {
      "text/plain": [
       "['ddadbbcbbbdacbbdcdab']"
      ]
     },
     "execution_count": 52,
     "metadata": {},
     "output_type": "execute_result"
    }
   ],
   "source": [
    "s1 = make_string(10, alphabet='abcd')\n",
    "s2 = make_string(10, alphabet='abcd')\n",
    "s3 = make_string(10, alphabet='abcd')\n",
    "s4 = make_string(10, alphabet='abcd')\n",
    "il = interleave(s1, s2)\n",
    "bs = [s3, il, interleave(s3, s4), interleave(s2, s4), interleave(s1, s3)]\n",
    "random.shuffle(bs)\n",
    "bs = [s1, s2] + bs\n",
    "tg = [l for l in bs if is_interleave(s1, s2, l)]\n",
    "print('\\n'.join(['{}: {}'.format(i, s) for i, s in enumerate(bs)]))\n",
    "tg"
   ]
  },
  {
   "cell_type": "code",
   "execution_count": 53,
   "metadata": {},
   "outputs": [
    {
     "name": "stdout",
     "output_type": "stream",
     "text": [
      "* . . . . . . . . . .\n",
      "d . . . . . . . . . .\n",
      "d . . . . . . . . . .\n",
      "a . . . . . . . . . .\n",
      "d b b c b b . . . . .\n",
      "b b . b b b . . . . .\n",
      ". . . . . d a . . . .\n",
      ". . . . . . c b . . .\n",
      ". . . . . . b b d . .\n",
      ". . . . . . . d . . .\n",
      ". . . . . . . c d a b\n",
      "DDADbbcbbBDaCbBDCdab\n",
      "ddadbbcbbbdacbbdcdab\n",
      "****     ** * ***   \n"
     ]
    },
    {
     "data": {
      "text/plain": [
       "True"
      ]
     },
     "execution_count": 53,
     "metadata": {},
     "output_type": "execute_result"
    }
   ],
   "source": [
    "v, bp, t = is_interleave(s1, s2, il, return_backpointers=True, return_table=True)\n",
    "print(show_annotated_table(t, bp))\n",
    "print(show_backtrace(bp))\n",
    "print(show_backtrace_star(bp))\n",
    "v"
   ]
  },
  {
   "cell_type": "code",
   "execution_count": 54,
   "metadata": {},
   "outputs": [
    {
     "name": "stdout",
     "output_type": "stream",
     "text": [
      "ddcdddadddbbbddbcbdc\n",
      " *   **  *  * * ****\n"
     ]
    },
    {
     "data": {
      "text/plain": [
       "4"
      ]
     },
     "execution_count": 54,
     "metadata": {},
     "output_type": "execute_result"
    }
   ],
   "source": [
    "ind = [i for i, b in enumerate(bs) if is_interleave(s1, s3, b)][0]\n",
    "v, bp = is_interleave(s1, s3, bs[ind], return_backpointers=True)\n",
    "print(show_backtrace_star(bp))\n",
    "ind"
   ]
  },
  {
   "cell_type": "code",
   "execution_count": 55,
   "metadata": {},
   "outputs": [
    {
     "name": "stdout",
     "output_type": "stream",
     "text": [
      "* d d a d b . . . . .\n",
      ". . . . b b . . . . .\n",
      ". . . . b . . . . . .\n",
      ". . . . c b . . . . .\n",
      ". . . . b b . . . . .\n",
      ". . . . b b d . . . .\n",
      ". . . . . . a c b . .\n",
      ". . . . . . . b b d c\n",
      ". . . . . . . . d . d\n",
      ". . . . . . . . . . a\n",
      ". . . . . . . . . . b\n",
      "ddadBBCbBBdAcbBdcDAB\n",
      "ddadbbcbbbdacbbdcdab\n",
      "    *** ** *  *  ***\n"
     ]
    },
    {
     "data": {
      "text/plain": [
       "True"
      ]
     },
     "execution_count": 55,
     "metadata": {},
     "output_type": "execute_result"
    }
   ],
   "source": [
    "v, bp, t = is_interleave(s2, s1, il, return_backpointers=True, return_table=True)\n",
    "print(show_annotated_table(t, bp))\n",
    "print(show_backtrace(bp))\n",
    "print(show_backtrace_star(bp))\n",
    "v"
   ]
  },
  {
   "cell_type": "code",
   "execution_count": 56,
   "metadata": {},
   "outputs": [
    {
     "name": "stdout",
     "output_type": "stream",
     "text": [
      "* d . . . . . . . . .\n",
      "d d . . . . . . . . .\n",
      "d . . . . . . . . . .\n",
      "a d . . . . . . . . .\n",
      "d . . . . . . . . . .\n",
      "b . . . . . . . . . .\n",
      ". . . . . . . . . . .\n",
      ". . . . . . . . . . .\n",
      ". . . . . . . . . . .\n",
      ". . . . . . . . . . .\n",
      ". . . . . . . . . . .\n",
      "\n",
      "\n"
     ]
    },
    {
     "data": {
      "text/plain": [
       "False"
      ]
     },
     "execution_count": 56,
     "metadata": {},
     "output_type": "execute_result"
    }
   ],
   "source": [
    "v, bp, t = is_interleave(s1, s3, il, return_backpointers=True, return_table=True)\n",
    "print(show_annotated_table(t, bp))\n",
    "print(show_backtrace(bp))\n",
    "print(show_backtrace_star(bp))\n",
    "v"
   ]
  },
  {
   "cell_type": "code",
   "execution_count": 57,
   "metadata": {},
   "outputs": [
    {
     "name": "stdout",
     "output_type": "stream",
     "text": [
      "* d . . . . . . . . .\n",
      ". . . . . . . . . . .\n",
      ". . . . . . . . . . .\n",
      ". . . . . . . . . . .\n",
      ". . . . . . . . . . .\n",
      ". . . . . . . . . . .\n",
      ". . . . . . . . . . .\n",
      ". . . . . . . . . . .\n",
      ". . . . . . . . . . .\n",
      ". . . . . . . . . . .\n",
      ". . . . . . . . . . .\n",
      "d\n",
      "d\n",
      " \n"
     ]
    },
    {
     "data": {
      "text/plain": [
       "False"
      ]
     },
     "execution_count": 57,
     "metadata": {},
     "output_type": "execute_result"
    }
   ],
   "source": [
    "v, bp, t = is_interleave(s2, s3, il, return_backpointers=True, return_table=True)\n",
    "print(show_annotated_table(t, bp))\n",
    "print(show_backtrace(bp))\n",
    "print(show_backtrace_star(bp))\n",
    "v"
   ]
  },
  {
   "cell_type": "markdown",
   "metadata": {
    "collapsed": true
   },
   "source": [
    "# Make puzzle data\n",
    "\n",
    "## Note to self\n",
    "Include some distractors in the test set, such that:\n",
    "* subsequence(my_bill, distractor) is true\n",
    "* subsequence(friend_bill, distractor) is true\n",
    "* interleave(my_bill, friend_bill, distractor) is false\n",
    "\n",
    "(i.e. characters are shared between my_bill and friend_bill)\n",
    "\n",
    "Students are taking a greedy approach to subsequence, and saying the interleave is true if both bills are subsequences of the distractor.\n",
    "\n",
    "i.e. \"aaa\" and \"aab\" are both subsequences of \"aaabbb\", but cannot be interleaved to form \"aaabbb\".\n"
   ]
  },
  {
   "cell_type": "code",
   "execution_count": 58,
   "metadata": {
    "collapsed": true
   },
   "outputs": [],
   "source": [
    "my_bill = make_string(200)\n",
    "friend_bill = make_string(200)\n",
    "other_bills = [make_string(200) for _ in range(98)]\n",
    "\n",
    "target_interleaved = interleave(my_bill, friend_bill)\n",
    "mine_interleaved = [interleave(my_bill, o) for o in random.sample(other_bills, 21)]\n",
    "friend_interleaved = [interleave(friend_bill, o) for o in random.sample(other_bills, 13)]\n",
    "other_interleaved = []\n",
    "for _ in range(103):\n",
    "    s1, s2 = random.sample(other_bills, 2)\n",
    "    other_interleaved += [interleave(s1, s2)]"
   ]
  },
  {
   "cell_type": "code",
   "execution_count": 59,
   "metadata": {
    "collapsed": true
   },
   "outputs": [],
   "source": [
    "all_targets = [target_interleaved] + mine_interleaved + friend_interleaved + other_interleaved"
   ]
  },
  {
   "cell_type": "code",
   "execution_count": 60,
   "metadata": {},
   "outputs": [
    {
     "name": "stdout",
     "output_type": "stream",
     "text": [
      "CPU times: user 3.2 s, sys: 96 ms, total: 3.3 s\n",
      "Wall time: 3.3 s\n"
     ]
    },
    {
     "data": {
      "text/plain": [
       "[0]"
      ]
     },
     "execution_count": 60,
     "metadata": {},
     "output_type": "execute_result"
    }
   ],
   "source": [
    "%time [i for i, s12 in enumerate(all_targets) if is_interleave(my_bill, friend_bill, s12)]"
   ]
  },
  {
   "cell_type": "code",
   "execution_count": 61,
   "metadata": {},
   "outputs": [
    {
     "name": "stdout",
     "output_type": "stream",
     "text": [
      "CPU times: user 0 ns, sys: 0 ns, total: 0 ns\n",
      "Wall time: 570 µs\n"
     ]
    },
    {
     "data": {
      "text/plain": [
       "[0]"
      ]
     },
     "execution_count": 61,
     "metadata": {},
     "output_type": "execute_result"
    }
   ],
   "source": [
    "%time [i for i, s12 in enumerate(all_targets) if is_interleave_recursive(my_bill, friend_bill, s12)]"
   ]
  },
  {
   "cell_type": "code",
   "execution_count": 62,
   "metadata": {
    "collapsed": true
   },
   "outputs": [],
   "source": [
    "bill_set = all_targets + random.sample(other_bills, 8)\n",
    "random.shuffle(bill_set)\n",
    "bill_set = [my_bill, friend_bill] + bill_set\n",
    "\n",
    "# with open('09-bills.txt', 'w') as f:\n",
    "#     for i, b in enumerate(bill_set):\n",
    "#         f.write('{}: {}\\n'.format(i, b))"
   ]
  },
  {
   "cell_type": "code",
   "execution_count": 63,
   "metadata": {
    "collapsed": true
   },
   "outputs": [],
   "source": [
    "def is_subseq_greedy(s1, s2):\n",
    "    i = j = 0\n",
    "    while i < len(s1) and j < len(s2):\n",
    "        if s1[i] == s2[j]:\n",
    "            i += 1\n",
    "        j += 1\n",
    "    return i == len(s1)"
   ]
  },
  {
   "cell_type": "code",
   "execution_count": 64,
   "metadata": {
    "collapsed": true
   },
   "outputs": [],
   "source": [
    "def subseq_partition(s1, s2):\n",
    "    i = j = 0\n",
    "    remainder = ''\n",
    "    while i < len(s1) and j < len(s2):\n",
    "        if s1[i] == s2[j]:\n",
    "            i += 1\n",
    "        else:\n",
    "            remainder += s2[j]\n",
    "        j += 1\n",
    "    return i == len(s1), remainder"
   ]
  },
  {
   "cell_type": "code",
   "execution_count": 65,
   "metadata": {},
   "outputs": [
    {
     "data": {
      "text/plain": [
       "(40, 40, 20, 20)"
      ]
     },
     "execution_count": 65,
     "metadata": {},
     "output_type": "execute_result"
    }
   ],
   "source": [
    "common = make_string(10)\n",
    "padding = make_string(10)\n",
    "middle = interleave(common, padding)\n",
    "\n",
    "pre1 = make_string(5)\n",
    "suf1 = make_string(5)\n",
    "\n",
    "pre2 = make_string(5)\n",
    "suf2 = make_string(5)\n",
    "\n",
    "pre = interleave(pre1, pre2)\n",
    "suf = interleave(suf1, suf2)\n",
    "\n",
    "distractor = pre + middle + suf\n",
    "\n",
    "sub1 = pre1 + common + suf1\n",
    "sub2 = pre2 + common + suf2\n",
    "\n",
    "valid = interleave(sub1, sub2)\n",
    "\n",
    "len(distractor), len(valid), len(sub1), len(sub2)"
   ]
  },
  {
   "cell_type": "code",
   "execution_count": 66,
   "metadata": {},
   "outputs": [
    {
     "data": {
      "text/plain": [
       "(True, True)"
      ]
     },
     "execution_count": 66,
     "metadata": {},
     "output_type": "execute_result"
    }
   ],
   "source": [
    "is_subseq_greedy(sub1, distractor), is_subseq_greedy(sub2, distractor)"
   ]
  },
  {
   "cell_type": "code",
   "execution_count": 67,
   "metadata": {},
   "outputs": [
    {
     "data": {
      "text/plain": [
       "(True, True)"
      ]
     },
     "execution_count": 67,
     "metadata": {},
     "output_type": "execute_result"
    }
   ],
   "source": [
    "is_subseq_greedy(sub1, valid), is_subseq_greedy(sub2, valid)"
   ]
  },
  {
   "cell_type": "code",
   "execution_count": 68,
   "metadata": {},
   "outputs": [
    {
     "data": {
      "text/plain": [
       "(False, True)"
      ]
     },
     "execution_count": 68,
     "metadata": {},
     "output_type": "execute_result"
    }
   ],
   "source": [
    "is_interleave(sub1, sub2, distractor), is_interleave(sub1, sub2, valid)"
   ]
  },
  {
   "cell_type": "code",
   "execution_count": 69,
   "metadata": {},
   "outputs": [
    {
     "data": {
      "text/plain": [
       "('hbgbfhdaghfbcagbhhgh',\n",
       " 'eccfdhdaghfbcaggbaae',\n",
       " 'ehccbfgbdfhfefdbagefagehfgbcaggbbhahgaeh',\n",
       " 'hecbgbfhdagchffbdhcagdbhaghhfgbchaggbaae')"
      ]
     },
     "execution_count": 69,
     "metadata": {},
     "output_type": "execute_result"
    }
   ],
   "source": [
    "sub1, sub2, distractor, valid"
   ]
  },
  {
   "cell_type": "code",
   "execution_count": 70,
   "metadata": {},
   "outputs": [
    {
     "data": {
      "text/plain": [
       "False"
      ]
     },
     "execution_count": 70,
     "metadata": {},
     "output_type": "execute_result"
    }
   ],
   "source": [
    "a, b = subseq_partition(sub1, distractor)\n",
    "b == sub2"
   ]
  },
  {
   "cell_type": "code",
   "execution_count": 71,
   "metadata": {},
   "outputs": [
    {
     "data": {
      "text/plain": [
       "('eccfdhdaghfbc', 'eccfdhdaghfbcaggbaae')"
      ]
     },
     "execution_count": 71,
     "metadata": {},
     "output_type": "execute_result"
    }
   ],
   "source": [
    "a, b = subseq_partition(sub1, valid)\n",
    "b, sub2"
   ]
  },
  {
   "cell_type": "code",
   "execution_count": null,
   "metadata": {
    "collapsed": true
   },
   "outputs": [],
   "source": []
  }
 ],
 "metadata": {
  "kernelspec": {
   "display_name": "Python 3",
   "language": "python",
   "name": "python3"
  },
  "language_info": {
   "codemirror_mode": {
    "name": "ipython",
    "version": 3
   },
   "file_extension": ".py",
   "mimetype": "text/x-python",
   "name": "python",
   "nbconvert_exporter": "python",
   "pygments_lexer": "ipython3",
   "version": "3.5.2+"
  }
 },
 "nbformat": 4,
 "nbformat_minor": 1
}
