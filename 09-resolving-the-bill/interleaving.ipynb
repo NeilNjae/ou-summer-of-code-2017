{
 "cells": [
  {
   "cell_type": "markdown",
   "metadata": {},
   "source": [
    "# Interleaved strings\n",
    "\n",
    "Given two strings a and b and a target c, could c be formed form some interleaving/merge of a and b?\n",
    "\n",
    "For example,\n",
    "Given:\n",
    "s1 = \"aabcc\",\n",
    "s2 = \"dbbca\",\n",
    "\n",
    "When s3 = \"aadbbcbcac\", return true.\n",
    "When s3 = \"aadbbbaccc\", return false."
   ]
  },
  {
   "cell_type": "code",
   "execution_count": 1,
   "metadata": {
    "collapsed": true
   },
   "outputs": [],
   "source": [
    "import random\n",
    "import string"
   ]
  },
  {
   "cell_type": "code",
   "execution_count": 2,
   "metadata": {
    "collapsed": true
   },
   "outputs": [],
   "source": [
    "s1 = \"aabcc\"\n",
    "s2 = \"dbbca\"\n",
    "\n",
    "s3t = \"aadbbcbcac\"\n",
    "s3f = \"aadbbbaccc\""
   ]
  },
  {
   "cell_type": "code",
   "execution_count": 3,
   "metadata": {},
   "outputs": [
    {
     "data": {
      "text/plain": [
       "[(0, ''), (1, 'a'), (2, 'aa'), (3, 'aab'), (4, 'aabc'), (5, 'aabcc')]"
      ]
     },
     "execution_count": 3,
     "metadata": {},
     "output_type": "execute_result"
    }
   ],
   "source": [
    "[(i, s1[:i]) for i in range(len(s1)+1)]"
   ]
  },
  {
   "cell_type": "markdown",
   "metadata": {},
   "source": [
    "`dp_table[i, j]` is True if first `i` + `j` characters of `s3` can be formed from interleaving of first `i` characters of `s1` and first `j` characters of `s2`."
   ]
  },
  {
   "cell_type": "code",
   "execution_count": 4,
   "metadata": {},
   "outputs": [
    {
     "data": {
      "text/plain": [
       "[[True, False, False, False, False, False],\n",
       " [False, False, False, False, False, False],\n",
       " [False, False, False, False, False, False],\n",
       " [False, False, False, False, False, False],\n",
       " [False, False, False, False, False, False],\n",
       " [False, False, False, False, False, False]]"
      ]
     },
     "execution_count": 4,
     "metadata": {},
     "output_type": "execute_result"
    }
   ],
   "source": [
    "dp_table = [[False] * (len(s1) + 1) for _ in range(len(s2) + 1)]\n",
    "dp_table[0][0] = True\n",
    "dp_table"
   ]
  },
  {
   "cell_type": "code",
   "execution_count": 5,
   "metadata": {
    "scrolled": true
   },
   "outputs": [
    {
     "data": {
      "text/plain": [
       "{(0, 0): False,\n",
       " (0, 1): False,\n",
       " (0, 2): False,\n",
       " (0, 3): False,\n",
       " (0, 4): False,\n",
       " (0, 5): False,\n",
       " (1, 0): False,\n",
       " (1, 1): False,\n",
       " (1, 2): False,\n",
       " (1, 3): False,\n",
       " (1, 4): False,\n",
       " (1, 5): False,\n",
       " (2, 0): False,\n",
       " (2, 1): False,\n",
       " (2, 2): False,\n",
       " (2, 3): False,\n",
       " (2, 4): False,\n",
       " (2, 5): False,\n",
       " (3, 0): False,\n",
       " (3, 1): False,\n",
       " (3, 2): False,\n",
       " (3, 3): False,\n",
       " (3, 4): False,\n",
       " (3, 5): False,\n",
       " (4, 0): False,\n",
       " (4, 1): False,\n",
       " (4, 2): False,\n",
       " (4, 3): False,\n",
       " (4, 4): False,\n",
       " (4, 5): False,\n",
       " (5, 0): False,\n",
       " (5, 1): False,\n",
       " (5, 2): False,\n",
       " (5, 3): False,\n",
       " (5, 4): False,\n",
       " (5, 5): False}"
      ]
     },
     "execution_count": 5,
     "metadata": {},
     "output_type": "execute_result"
    }
   ],
   "source": [
    "dp_table = {(i, j): False\n",
    "           for i in range(len(s1)+1)\n",
    "           for j in range(len(s2)+1)}\n",
    "dp_table"
   ]
  },
  {
   "cell_type": "code",
   "execution_count": 6,
   "metadata": {
    "collapsed": true
   },
   "outputs": [],
   "source": [
    "def show_table(table):\n",
    "    return '\\n'.join(\n",
    "        ' '.join(str(table[i, j])[0] for j in sorted(set([k[1] for k in table])))\n",
    "        for i in sorted(set([k[0] for k in table])))        "
   ]
  },
  {
   "cell_type": "code",
   "execution_count": 7,
   "metadata": {
    "collapsed": true
   },
   "outputs": [],
   "source": [
    "def show_table(table):\n",
    "    return '\\n'.join(\n",
    "        ' '.join('T' if table[i, j] else '.' for j in sorted(set([k[1] for k in table])))\n",
    "        for i in sorted(set([k[0] for k in table])))        "
   ]
  },
  {
   "cell_type": "code",
   "execution_count": 8,
   "metadata": {},
   "outputs": [
    {
     "name": "stdout",
     "output_type": "stream",
     "text": [
      ". . . . . .\n",
      ". . . . . .\n",
      ". . . . . .\n",
      ". . . . . .\n",
      ". . . . . .\n",
      ". . . . . .\n"
     ]
    }
   ],
   "source": [
    "print(show_table(dp_table))"
   ]
  },
  {
   "cell_type": "code",
   "execution_count": 9,
   "metadata": {},
   "outputs": [
    {
     "name": "stdout",
     "output_type": "stream",
     "text": [
      "aabcc dbbca aadbbbaccc\n",
      "aa 0 0 ! ! ! True\n",
      "s2 0 1 ! d a False\n",
      "s2 0 2 ! b a False\n",
      "s2 0 3 ! b d False\n",
      "s2 0 4 ! c b False\n",
      "s2 0 5 ! a b False\n",
      "s1 1 0 a ! a True\n",
      "xx 1 1 a d a False\n",
      "xx 1 2 a b d False\n",
      "xx 1 3 a b b False\n",
      "xx 1 4 a c b False\n",
      "xx 1 5 a a b False\n",
      "s1 2 0 a ! a True\n",
      "s2 2 1 a d d True\n",
      "s2 2 2 a b b True\n",
      "s2 2 3 a b b True\n",
      "xx 2 4 a c b False\n",
      "xx 2 5 a a a False\n",
      "s1 3 0 b ! d False\n",
      "s1 3 1 b d b True\n",
      "s2 3 2 b b b True\n",
      "s1 3 2 b b b True\n",
      "s2 3 3 b b b True\n",
      "s1 3 3 b b b True\n",
      "xx 3 4 b c a False\n",
      "xx 3 5 b a c False\n",
      "s1 4 0 c ! b False\n",
      "xx 4 1 c d b False\n",
      "xx 4 2 c b b False\n",
      "xx 4 3 c b a False\n",
      "xx 4 4 c c c False\n",
      "xx 4 5 c a c False\n",
      "s1 5 0 c ! b False\n",
      "xx 5 1 c d b False\n",
      "xx 5 2 c b a False\n",
      "xx 5 3 c b c False\n",
      "xx 5 4 c c c False\n",
      "xx 5 5 c a c False\n",
      "T . . . . .\n",
      "T . . . . .\n",
      "T T T T . .\n",
      ". T T T . .\n",
      ". . . . . .\n",
      ". . . . . .\n"
     ]
    },
    {
     "data": {
      "text/plain": [
       "{(1, 0): (0, 0, 'a', 's1'),\n",
       " (2, 0): (1, 0, 'a', 's1'),\n",
       " (2, 1): (2, 0, 'd', 's2'),\n",
       " (2, 2): (2, 1, 'b', 's2'),\n",
       " (2, 3): (2, 2, 'b', 's2'),\n",
       " (3, 1): (2, 1, 'b', 's1'),\n",
       " (3, 2): (2, 2, 'b', 's1'),\n",
       " (3, 3): (2, 3, 'b', 's1')}"
      ]
     },
     "execution_count": 9,
     "metadata": {},
     "output_type": "execute_result"
    }
   ],
   "source": [
    "s3 = s3f\n",
    "\n",
    "print(s1, s2, s3)\n",
    "\n",
    "dp_table = {(i, j): False\n",
    "           for i in range(len(s1)+1)\n",
    "           for j in range(len(s2)+1)}\n",
    "\n",
    "backpointers = {}\n",
    "\n",
    "for i in range(len(s1)+1):\n",
    "    for j in range(len(s2)+1):\n",
    "        if i == 0 and j == 0:\n",
    "            dp_table[i, j] = True\n",
    "            print('aa', i, j, '!', '!', '!', dp_table[i, j])\n",
    "        elif i == 0:\n",
    "            # extend by character from s2\n",
    "            if dp_table[i, j-1] and s2[j-1] == s3[i+j-1]:\n",
    "                dp_table[i, j] = True\n",
    "                backpointers[i, j] = (i, j-1, s2[j-1], 's2')\n",
    "            print('s2', i, j, '!', s2[j-1], s3[i+j-1], dp_table[i, j])\n",
    "        elif j == 0:\n",
    "            # extend by character from s1\n",
    "            if dp_table[i-1, j] and s1[i-1] == s3[i+j-1]:\n",
    "                dp_table[i, j] = True\n",
    "                backpointers[i, j] = (i-1, j, s1[i-1], 's1')\n",
    "            print('s1', i, j, s1[i-1], '!', s3[i+j-1], dp_table[i, j])\n",
    "        else:\n",
    "            # extend by character from s2\n",
    "            if dp_table[i, j-1] and s2[j-1] == s3[i+j-1]:\n",
    "                dp_table[i, j] = True\n",
    "                backpointers[i, j] = (i, j-1, s2[j-1], 's2')\n",
    "                print('s2', i, j, s1[i-1], s2[j-1], s3[i+j-1], dp_table[i, j])                \n",
    "            # extend by character from s1\n",
    "            if dp_table[i-1, j] and s1[i-1] == s3[i+j-1]:\n",
    "                dp_table[i, j] = True\n",
    "                backpointers[i, j] = (i-1, j, s1[i-1], 's1')                \n",
    "                print('s1', i, j, s1[i-1], s2[j-1], s3[i+j-1], dp_table[i, j])\n",
    "            if not dp_table[i, j]:\n",
    "                print('xx', i, j, s1[i-1], s2[j-1], s3[i+j-1], dp_table[i, j])\n",
    "\n",
    "print(show_table(dp_table))\n",
    "backpointers"
   ]
  },
  {
   "cell_type": "code",
   "execution_count": 10,
   "metadata": {
    "collapsed": true
   },
   "outputs": [],
   "source": [
    "def is_interleave(seq1, seq2, seq3, return_backpointers=False, return_table=False, debug=False):\n",
    "    \"\"\"Return true if seq3 is some interleaved merge of seq1 and seq2.\n",
    "    If return_backpointers, also return the set of backpointers to\n",
    "    reconstruct the interleaving\"\"\"\n",
    "    \n",
    "    # dp_table[i, j] is True if first i+j characters of seq is made up of \n",
    "    # an interleaving of the first i characters of seq1 and the \n",
    "    # first j characters of seq2\n",
    "    \n",
    "    if len(seq1) + len(seq2) != len(seq3):\n",
    "        if return_backpointers or return_table:\n",
    "            retval = [False]\n",
    "            if return_backpointers:\n",
    "                retval += [{}]\n",
    "            if return_table:\n",
    "                retval += [{}]\n",
    "            return tuple(retval)\n",
    "        else:\n",
    "            return False\n",
    "    \n",
    "    dp_table = {(i, j): False\n",
    "               for i in range(len(seq1)+1)\n",
    "               for j in range(len(seq2)+1)}\n",
    "\n",
    "    backpointers = {}\n",
    "\n",
    "    for i in range(len(seq1)+1):\n",
    "        for j in range(len(seq2)+1):\n",
    "            if i == 0 and j == 0:\n",
    "                dp_table[i, j] = True\n",
    "                if debug: print('xxxx', i, j, '!', '!', '!', dp_table[i, j])\n",
    "            elif i == 0:\n",
    "                # extend by character from seq2\n",
    "                if dp_table[i, j-1] and seq2[j-1] == seq3[i+j-1]:\n",
    "                    dp_table[i, j] = True\n",
    "                    backpointers[i, j] = (i, j-1, seq2[j-1], 'seq2')\n",
    "                if debug: print('seq2', i, j, '!', seq2[j-1], seq3[i+j-1], dp_table[i, j])\n",
    "            elif j == 0:\n",
    "                # extend by character from seq1\n",
    "                if dp_table[i-1, j] and seq1[i-1] == seq3[i+j-1]:\n",
    "                    dp_table[i, j] = True\n",
    "                    backpointers[i, j] = (i-1, j, seq1[i-1], 'seq1')\n",
    "                if debug: print('seq1', i, j, seq1[i-1], '!', seq3[i+j-1], dp_table[i, j])\n",
    "            else:\n",
    "                # extend by character from seq2\n",
    "                if dp_table[i, j-1] and seq2[j-1] == seq3[i+j-1]:\n",
    "                    dp_table[i, j] = True\n",
    "                    backpointers[i, j] = (i, j-1, seq2[j-1], 'seq2')\n",
    "                    if debug: print('seq2', i, j, seq1[i-1], seq2[j-1], seq3[i+j-1], dp_table[i, j])                \n",
    "                # extend by character from seq1\n",
    "                if dp_table[i-1, j] and seq1[i-1] == seq3[i+j-1]:\n",
    "                    dp_table[i, j] = True\n",
    "                    backpointers[i, j] = (i-1, j, seq1[i-1], 'seq1')                \n",
    "                    if debug: print('seq1', i, j, seq1[i-1], seq2[j-1], seq3[i+j-1], dp_table[i, j])\n",
    "                if not dp_table[i, j]:\n",
    "                    if debug: print('xxxx', i, j, seq1[i-1], seq2[j-1], seq3[i+j-1], dp_table[i, j])\n",
    "\n",
    "    if return_backpointers or return_table:\n",
    "        retval = [dp_table[len(seq1), len(seq2)]]\n",
    "        if return_backpointers:\n",
    "            retval += [backpointers]\n",
    "        if return_table:\n",
    "            retval += [dp_table]\n",
    "        return tuple(retval)\n",
    "    else:\n",
    "        return dp_table[len(seq1), len(seq2)]"
   ]
  },
  {
   "cell_type": "code",
   "execution_count": 11,
   "metadata": {},
   "outputs": [
    {
     "data": {
      "text/plain": [
       "True"
      ]
     },
     "execution_count": 11,
     "metadata": {},
     "output_type": "execute_result"
    }
   ],
   "source": [
    "is_interleave(s1, s2, s3t)"
   ]
  },
  {
   "cell_type": "code",
   "execution_count": 12,
   "metadata": {},
   "outputs": [
    {
     "data": {
      "text/plain": [
       "(True,\n",
       " {(1, 0): (0, 0, 'a', 'seq1'),\n",
       "  (2, 0): (1, 0, 'a', 'seq1'),\n",
       "  (2, 1): (2, 0, 'd', 'seq2'),\n",
       "  (2, 2): (2, 1, 'b', 'seq2'),\n",
       "  (2, 3): (2, 2, 'b', 'seq2'),\n",
       "  (2, 4): (2, 3, 'c', 'seq2'),\n",
       "  (3, 1): (2, 1, 'b', 'seq1'),\n",
       "  (3, 2): (2, 2, 'b', 'seq1'),\n",
       "  (3, 4): (2, 4, 'b', 'seq1'),\n",
       "  (4, 2): (3, 2, 'c', 'seq1'),\n",
       "  (4, 3): (4, 2, 'b', 'seq2'),\n",
       "  (4, 4): (3, 4, 'c', 'seq1'),\n",
       "  (4, 5): (4, 4, 'a', 'seq2'),\n",
       "  (5, 3): (4, 3, 'c', 'seq1'),\n",
       "  (5, 5): (4, 5, 'c', 'seq1')})"
      ]
     },
     "execution_count": 12,
     "metadata": {},
     "output_type": "execute_result"
    }
   ],
   "source": [
    "is_interleave(s1, s2, s3t, return_backpointers=True)"
   ]
  },
  {
   "cell_type": "code",
   "execution_count": 13,
   "metadata": {
    "scrolled": true
   },
   "outputs": [
    {
     "data": {
      "text/plain": [
       "(True,\n",
       " {(1, 0): (0, 0, 'a', 'seq1'),\n",
       "  (2, 0): (1, 0, 'a', 'seq1'),\n",
       "  (2, 1): (2, 0, 'd', 'seq2'),\n",
       "  (2, 2): (2, 1, 'b', 'seq2'),\n",
       "  (2, 3): (2, 2, 'b', 'seq2'),\n",
       "  (2, 4): (2, 3, 'c', 'seq2'),\n",
       "  (3, 1): (2, 1, 'b', 'seq1'),\n",
       "  (3, 2): (2, 2, 'b', 'seq1'),\n",
       "  (3, 4): (2, 4, 'b', 'seq1'),\n",
       "  (4, 2): (3, 2, 'c', 'seq1'),\n",
       "  (4, 3): (4, 2, 'b', 'seq2'),\n",
       "  (4, 4): (3, 4, 'c', 'seq1'),\n",
       "  (4, 5): (4, 4, 'a', 'seq2'),\n",
       "  (5, 3): (4, 3, 'c', 'seq1'),\n",
       "  (5, 5): (4, 5, 'c', 'seq1')},\n",
       " {(0, 0): True,\n",
       "  (0, 1): False,\n",
       "  (0, 2): False,\n",
       "  (0, 3): False,\n",
       "  (0, 4): False,\n",
       "  (0, 5): False,\n",
       "  (1, 0): True,\n",
       "  (1, 1): False,\n",
       "  (1, 2): False,\n",
       "  (1, 3): False,\n",
       "  (1, 4): False,\n",
       "  (1, 5): False,\n",
       "  (2, 0): True,\n",
       "  (2, 1): True,\n",
       "  (2, 2): True,\n",
       "  (2, 3): True,\n",
       "  (2, 4): True,\n",
       "  (2, 5): False,\n",
       "  (3, 0): False,\n",
       "  (3, 1): True,\n",
       "  (3, 2): True,\n",
       "  (3, 3): False,\n",
       "  (3, 4): True,\n",
       "  (3, 5): False,\n",
       "  (4, 0): False,\n",
       "  (4, 1): False,\n",
       "  (4, 2): True,\n",
       "  (4, 3): True,\n",
       "  (4, 4): True,\n",
       "  (4, 5): True,\n",
       "  (5, 0): False,\n",
       "  (5, 1): False,\n",
       "  (5, 2): False,\n",
       "  (5, 3): True,\n",
       "  (5, 4): False,\n",
       "  (5, 5): True})"
      ]
     },
     "execution_count": 13,
     "metadata": {},
     "output_type": "execute_result"
    }
   ],
   "source": [
    "is_interleave(s1, s2, s3t, return_backpointers=True, return_table=True)"
   ]
  },
  {
   "cell_type": "code",
   "execution_count": 14,
   "metadata": {},
   "outputs": [
    {
     "data": {
      "text/plain": [
       "False"
      ]
     },
     "execution_count": 14,
     "metadata": {},
     "output_type": "execute_result"
    }
   ],
   "source": [
    "is_interleave(s1, s2, s3f)"
   ]
  },
  {
   "cell_type": "code",
   "execution_count": 15,
   "metadata": {},
   "outputs": [
    {
     "name": "stdout",
     "output_type": "stream",
     "text": [
      "xxxx 0 0 ! ! ! True\n",
      "seq2 0 1 ! b a False\n",
      "seq2 0 2 ! b a False\n",
      "seq2 0 3 ! b a False\n",
      "seq1 1 0 a ! a True\n",
      "xxxx 1 1 a b a False\n",
      "xxxx 1 2 a b a False\n",
      "xxxx 1 3 a b b False\n",
      "seq1 2 0 a ! a True\n",
      "xxxx 2 1 a b a False\n",
      "xxxx 2 2 a b b False\n",
      "xxxx 2 3 a b a False\n",
      "seq1 3 0 a ! a True\n",
      "seq2 3 1 a b b True\n",
      "xxxx 3 2 a b a False\n",
      "xxxx 3 3 a b b False\n",
      "seq1 4 0 a ! b False\n",
      "seq1 4 1 a b a True\n",
      "seq2 4 2 a b b True\n",
      "seq2 4 3 a b b True\n"
     ]
    },
    {
     "data": {
      "text/plain": [
       "(True,\n",
       " {(1, 0): (0, 0, 'a', 'seq1'),\n",
       "  (2, 0): (1, 0, 'a', 'seq1'),\n",
       "  (3, 0): (2, 0, 'a', 'seq1'),\n",
       "  (3, 1): (3, 0, 'b', 'seq2'),\n",
       "  (4, 1): (3, 1, 'a', 'seq1'),\n",
       "  (4, 2): (4, 1, 'b', 'seq2'),\n",
       "  (4, 3): (4, 2, 'b', 'seq2')})"
      ]
     },
     "execution_count": 15,
     "metadata": {},
     "output_type": "execute_result"
    }
   ],
   "source": [
    "is_interleave('aaaa', 'bbb', 'aaababb', return_backpointers=True, debug=True)"
   ]
  },
  {
   "cell_type": "code",
   "execution_count": 16,
   "metadata": {
    "collapsed": true
   },
   "outputs": [],
   "source": [
    "def show_backtrace(bps):\n",
    "    i = max([0] + [k[0] for k in bps])\n",
    "    j = max([0] + [k[1] for k in bps])\n",
    "    chars = ''\n",
    "    if (i, j) in bps:\n",
    "        while i != 0 or j != 0:\n",
    "            if bps[i, j][3] == 'seq1':\n",
    "                chars += bps[i, j][2].upper()\n",
    "            else:\n",
    "                chars += bps[i, j][2]\n",
    "            i, j = bps[i, j][0], bps[i, j][1] \n",
    "        return ''.join(list(reversed(chars)))\n",
    "    else:\n",
    "        return ''"
   ]
  },
  {
   "cell_type": "code",
   "execution_count": 17,
   "metadata": {
    "collapsed": true
   },
   "outputs": [],
   "source": [
    "def make_string(length, alphabet=None):\n",
    "    if not alphabet:\n",
    "        alphabet = 'abcdefgh'\n",
    "    return ''.join(random.choice(alphabet) for _ in range(length))    "
   ]
  },
  {
   "cell_type": "code",
   "execution_count": 18,
   "metadata": {},
   "outputs": [
    {
     "data": {
      "text/plain": [
       "'gbbdffedehgebaaeghbggcfeegfaccdhaaaachhdhhchfcfdfb'"
      ]
     },
     "execution_count": 18,
     "metadata": {},
     "output_type": "execute_result"
    }
   ],
   "source": [
    "make_string(50)"
   ]
  },
  {
   "cell_type": "code",
   "execution_count": 19,
   "metadata": {
    "collapsed": true
   },
   "outputs": [],
   "source": [
    "def interleave(s1, s2, wander_limit=10, debug=False):\n",
    "    i1 = i2 = wander = 0\n",
    "    interleaved = []\n",
    "    while i1 <= len(s1) and i2 <= len(s2):\n",
    "        if i1 == len(s1):\n",
    "            if debug: print(i1, i2, wander, 'remaining s2', s2[i2:])\n",
    "            interleaved += s2[i2:]\n",
    "            i2 = len(s2) + 1\n",
    "        elif i2 == len(s2):\n",
    "            if debug: print(i1, i2, wander, 'remaining s1', s1[i1:])\n",
    "            interleaved += s1[i1:]\n",
    "            i1 = len(s1) + 1\n",
    "        else:\n",
    "            if wander == wander_limit:\n",
    "                step = -1\n",
    "            elif wander == -wander_limit:\n",
    "                step = +1\n",
    "            else:\n",
    "                step = random.choice([+1, -1])\n",
    "            if step == +1:\n",
    "                if debug: print(i1, i2, wander, 'adding', s1[i1])\n",
    "                interleaved += s1[i1]\n",
    "                i1 += 1\n",
    "                wander += 1\n",
    "            else:\n",
    "                if debug: print(i1, i2, wander, 'adding', s2[i2])\n",
    "                interleaved += s2[i2]\n",
    "                i2 += 1\n",
    "                wander -= 1\n",
    "    return ''.join(interleaved)\n",
    "            "
   ]
  },
  {
   "cell_type": "code",
   "execution_count": 20,
   "metadata": {},
   "outputs": [
    {
     "name": "stdout",
     "output_type": "stream",
     "text": [
      "0 0 0 adding u\n",
      "0 1 -1 adding a\n",
      "1 1 0 adding c\n",
      "2 1 1 adding v\n",
      "2 2 0 adding h\n",
      "3 2 1 adding e\n",
      "4 2 2 adding v\n",
      "4 3 1 adding e\n",
      "5 3 2 adding u\n",
      "5 4 1 adding f\n",
      "6 4 2 adding u\n",
      "6 5 1 adding v\n",
      "6 6 0 adding u\n",
      "6 7 -1 adding x\n",
      "6 8 -2 adding z\n",
      "6 9 -3 adding u\n",
      "6 10 -4 adding a\n",
      "7 10 -3 adding e\n",
      "8 10 -2 adding d\n",
      "9 10 -1 adding h\n",
      "10 10 0 adding v\n",
      "10 11 -1 adding u\n",
      "10 12 -2 adding h\n",
      "11 12 -1 adding g\n",
      "12 12 0 adding x\n",
      "12 13 -1 adding e\n",
      "13 13 0 adding f\n",
      "14 13 1 adding w\n",
      "14 14 0 adding y\n",
      "14 15 -1 adding u\n",
      "14 16 -2 adding d\n",
      "15 16 -1 adding g\n",
      "16 16 0 adding h\n",
      "17 16 1 adding g\n",
      "18 16 2 adding g\n",
      "19 16 3 adding g\n",
      "20 16 4 remaining s2 yyuz\n"
     ]
    },
    {
     "data": {
      "text/plain": [
       "('acheefaedhhgefdghggg',\n",
       " 'uvvuuvuxzuvuxwyuyyuz',\n",
       " 'uacvheveufuvuxzuaedhvuhgxefwyudghgggyyuz',\n",
       " 40)"
      ]
     },
     "execution_count": 20,
     "metadata": {},
     "output_type": "execute_result"
    }
   ],
   "source": [
    "s1 = make_string(20)\n",
    "s2 = make_string(20, alphabet='uvwxyz')\n",
    "il = interleave(s1, s2, wander_limit=5, debug=True)\n",
    "s1, s2, il, len(il)"
   ]
  },
  {
   "cell_type": "code",
   "execution_count": 21,
   "metadata": {},
   "outputs": [
    {
     "name": "stdout",
     "output_type": "stream",
     "text": [
      "xxxx 0 0 ! ! ! True\n",
      "seq2 0 1 ! a u False\n",
      "seq2 0 2 ! c a False\n",
      "seq2 0 3 ! h c False\n",
      "seq2 0 4 ! e v False\n",
      "seq2 0 5 ! e h False\n",
      "seq2 0 6 ! f e False\n",
      "seq2 0 7 ! a v False\n",
      "seq2 0 8 ! e e False\n",
      "seq2 0 9 ! d u False\n",
      "seq2 0 10 ! h f False\n",
      "seq2 0 11 ! h u False\n",
      "seq2 0 12 ! g v False\n",
      "seq2 0 13 ! e u False\n",
      "seq2 0 14 ! f x False\n",
      "seq2 0 15 ! d z False\n",
      "seq2 0 16 ! g u False\n",
      "seq2 0 17 ! h a False\n",
      "seq2 0 18 ! g e False\n",
      "seq2 0 19 ! g d False\n",
      "seq2 0 20 ! g h False\n",
      "seq1 1 0 u ! u True\n",
      "seq2 1 1 u a a True\n",
      "seq2 1 2 u c c True\n",
      "xxxx 1 3 u h v False\n",
      "xxxx 1 4 u e h False\n",
      "xxxx 1 5 u e e False\n",
      "xxxx 1 6 u f v False\n",
      "xxxx 1 7 u a e False\n",
      "xxxx 1 8 u e u False\n",
      "xxxx 1 9 u d f False\n",
      "xxxx 1 10 u h u False\n",
      "xxxx 1 11 u h v False\n",
      "xxxx 1 12 u g u False\n",
      "xxxx 1 13 u e x False\n",
      "xxxx 1 14 u f z False\n",
      "xxxx 1 15 u d u False\n",
      "xxxx 1 16 u g a False\n",
      "xxxx 1 17 u h e False\n",
      "xxxx 1 18 u g d False\n",
      "xxxx 1 19 u g h False\n",
      "xxxx 1 20 u g v False\n",
      "seq1 2 0 v ! a False\n",
      "xxxx 2 1 v a c False\n",
      "seq1 2 2 v c v True\n",
      "seq2 2 3 v h h True\n",
      "seq2 2 4 v e e True\n",
      "xxxx 2 5 v e v False\n",
      "xxxx 2 6 v f e False\n",
      "xxxx 2 7 v a u False\n",
      "xxxx 2 8 v e f False\n",
      "xxxx 2 9 v d u False\n",
      "xxxx 2 10 v h v False\n",
      "xxxx 2 11 v h u False\n",
      "xxxx 2 12 v g x False\n",
      "xxxx 2 13 v e z False\n",
      "xxxx 2 14 v f u False\n",
      "xxxx 2 15 v d a False\n",
      "xxxx 2 16 v g e False\n",
      "xxxx 2 17 v h d False\n",
      "xxxx 2 18 v g h False\n",
      "xxxx 2 19 v g v False\n",
      "xxxx 2 20 v g u False\n",
      "seq1 3 0 v ! c False\n",
      "xxxx 3 1 v a v False\n",
      "xxxx 3 2 v c h False\n",
      "xxxx 3 3 v h e False\n",
      "seq1 3 4 v e v True\n",
      "seq2 3 5 v e e True\n",
      "xxxx 3 6 v f u False\n",
      "xxxx 3 7 v a f False\n",
      "xxxx 3 8 v e u False\n",
      "xxxx 3 9 v d v False\n",
      "xxxx 3 10 v h u False\n",
      "xxxx 3 11 v h x False\n",
      "xxxx 3 12 v g z False\n",
      "xxxx 3 13 v e u False\n",
      "xxxx 3 14 v f a False\n",
      "xxxx 3 15 v d e False\n",
      "xxxx 3 16 v g d False\n",
      "xxxx 3 17 v h h False\n",
      "xxxx 3 18 v g v False\n",
      "xxxx 3 19 v g u False\n",
      "xxxx 3 20 v g h False\n",
      "seq1 4 0 u ! v False\n",
      "xxxx 4 1 u a h False\n",
      "xxxx 4 2 u c e False\n",
      "xxxx 4 3 u h v False\n",
      "xxxx 4 4 u e e False\n",
      "seq1 4 5 u e u True\n",
      "seq2 4 6 u f f True\n",
      "xxxx 4 7 u a u False\n",
      "xxxx 4 8 u e v False\n",
      "xxxx 4 9 u d u False\n",
      "xxxx 4 10 u h x False\n",
      "xxxx 4 11 u h z False\n",
      "xxxx 4 12 u g u False\n",
      "xxxx 4 13 u e a False\n",
      "xxxx 4 14 u f e False\n",
      "xxxx 4 15 u d d False\n",
      "xxxx 4 16 u g h False\n",
      "xxxx 4 17 u h v False\n",
      "xxxx 4 18 u g u False\n",
      "xxxx 4 19 u g h False\n",
      "xxxx 4 20 u g g False\n",
      "seq1 5 0 u ! h False\n",
      "xxxx 5 1 u a e False\n",
      "xxxx 5 2 u c v False\n",
      "xxxx 5 3 u h e False\n",
      "xxxx 5 4 u e u False\n",
      "xxxx 5 5 u e f False\n",
      "seq1 5 6 u f u True\n",
      "xxxx 5 7 u a v False\n",
      "xxxx 5 8 u e u False\n",
      "xxxx 5 9 u d x False\n",
      "xxxx 5 10 u h z False\n",
      "xxxx 5 11 u h u False\n",
      "xxxx 5 12 u g a False\n",
      "xxxx 5 13 u e e False\n",
      "xxxx 5 14 u f d False\n",
      "xxxx 5 15 u d h False\n",
      "xxxx 5 16 u g v False\n",
      "xxxx 5 17 u h u False\n",
      "xxxx 5 18 u g h False\n",
      "xxxx 5 19 u g g False\n",
      "xxxx 5 20 u g x False\n",
      "seq1 6 0 v ! e False\n",
      "xxxx 6 1 v a v False\n",
      "xxxx 6 2 v c e False\n",
      "xxxx 6 3 v h u False\n",
      "xxxx 6 4 v e f False\n",
      "xxxx 6 5 v e u False\n",
      "seq1 6 6 v f v True\n",
      "xxxx 6 7 v a u False\n",
      "xxxx 6 8 v e x False\n",
      "xxxx 6 9 v d z False\n",
      "xxxx 6 10 v h u False\n",
      "xxxx 6 11 v h a False\n",
      "xxxx 6 12 v g e False\n",
      "xxxx 6 13 v e d False\n",
      "xxxx 6 14 v f h False\n",
      "xxxx 6 15 v d v False\n",
      "xxxx 6 16 v g u False\n",
      "xxxx 6 17 v h h False\n",
      "xxxx 6 18 v g g False\n",
      "xxxx 6 19 v g x False\n",
      "xxxx 6 20 v g e False\n",
      "seq1 7 0 u ! v False\n",
      "xxxx 7 1 u a e False\n",
      "xxxx 7 2 u c u False\n",
      "xxxx 7 3 u h f False\n",
      "xxxx 7 4 u e u False\n",
      "xxxx 7 5 u e v False\n",
      "seq1 7 6 u f u True\n",
      "xxxx 7 7 u a x False\n",
      "xxxx 7 8 u e z False\n",
      "xxxx 7 9 u d u False\n",
      "xxxx 7 10 u h a False\n",
      "xxxx 7 11 u h e False\n",
      "xxxx 7 12 u g d False\n",
      "xxxx 7 13 u e h False\n",
      "xxxx 7 14 u f v False\n",
      "xxxx 7 15 u d u False\n",
      "xxxx 7 16 u g h False\n",
      "xxxx 7 17 u h g False\n",
      "xxxx 7 18 u g x False\n",
      "xxxx 7 19 u g e False\n",
      "xxxx 7 20 u g f False\n",
      "seq1 8 0 x ! e False\n",
      "xxxx 8 1 x a u False\n",
      "xxxx 8 2 x c f False\n",
      "xxxx 8 3 x h u False\n",
      "xxxx 8 4 x e v False\n",
      "xxxx 8 5 x e u False\n",
      "seq1 8 6 x f x True\n",
      "xxxx 8 7 x a z False\n",
      "xxxx 8 8 x e u False\n",
      "xxxx 8 9 x d a False\n",
      "xxxx 8 10 x h e False\n",
      "xxxx 8 11 x h d False\n",
      "xxxx 8 12 x g h False\n",
      "xxxx 8 13 x e v False\n",
      "xxxx 8 14 x f u False\n",
      "xxxx 8 15 x d h False\n",
      "xxxx 8 16 x g g False\n",
      "xxxx 8 17 x h x False\n",
      "xxxx 8 18 x g e False\n",
      "xxxx 8 19 x g f False\n",
      "xxxx 8 20 x g w False\n",
      "seq1 9 0 z ! u False\n",
      "xxxx 9 1 z a f False\n",
      "xxxx 9 2 z c u False\n",
      "xxxx 9 3 z h v False\n",
      "xxxx 9 4 z e u False\n",
      "xxxx 9 5 z e x False\n",
      "seq1 9 6 z f z True\n",
      "xxxx 9 7 z a u False\n",
      "xxxx 9 8 z e a False\n",
      "xxxx 9 9 z d e False\n",
      "xxxx 9 10 z h d False\n",
      "xxxx 9 11 z h h False\n",
      "xxxx 9 12 z g v False\n",
      "xxxx 9 13 z e u False\n",
      "xxxx 9 14 z f h False\n",
      "xxxx 9 15 z d g False\n",
      "xxxx 9 16 z g x False\n",
      "xxxx 9 17 z h e False\n",
      "xxxx 9 18 z g f False\n",
      "xxxx 9 19 z g w False\n",
      "xxxx 9 20 z g y False\n",
      "seq1 10 0 u ! f False\n",
      "xxxx 10 1 u a u False\n",
      "xxxx 10 2 u c v False\n",
      "xxxx 10 3 u h u False\n",
      "xxxx 10 4 u e x False\n",
      "xxxx 10 5 u e z False\n",
      "seq1 10 6 u f u True\n",
      "seq2 10 7 u a a True\n",
      "seq2 10 8 u e e True\n",
      "seq2 10 9 u d d True\n",
      "seq2 10 10 u h h True\n",
      "xxxx 10 11 u h v False\n",
      "xxxx 10 12 u g u False\n",
      "xxxx 10 13 u e h False\n",
      "xxxx 10 14 u f g False\n",
      "xxxx 10 15 u d x False\n",
      "xxxx 10 16 u g e False\n",
      "xxxx 10 17 u h f False\n",
      "xxxx 10 18 u g w False\n",
      "xxxx 10 19 u g y False\n",
      "xxxx 10 20 u g u False\n",
      "seq1 11 0 v ! u False\n",
      "xxxx 11 1 v a v False\n",
      "xxxx 11 2 v c u False\n",
      "xxxx 11 3 v h x False\n",
      "xxxx 11 4 v e z False\n",
      "xxxx 11 5 v e u False\n",
      "xxxx 11 6 v f a False\n",
      "xxxx 11 7 v a e False\n",
      "xxxx 11 8 v e d False\n",
      "xxxx 11 9 v d h False\n",
      "seq1 11 10 v h v True\n",
      "xxxx 11 11 v h u False\n",
      "xxxx 11 12 v g h False\n",
      "xxxx 11 13 v e g False\n",
      "xxxx 11 14 v f x False\n",
      "xxxx 11 15 v d e False\n",
      "xxxx 11 16 v g f False\n",
      "xxxx 11 17 v h w False\n",
      "xxxx 11 18 v g y False\n",
      "xxxx 11 19 v g u False\n",
      "xxxx 11 20 v g d False\n",
      "seq1 12 0 u ! v False\n",
      "xxxx 12 1 u a u False\n",
      "xxxx 12 2 u c x False\n",
      "xxxx 12 3 u h z False\n",
      "xxxx 12 4 u e u False\n",
      "xxxx 12 5 u e a False\n",
      "xxxx 12 6 u f e False\n",
      "xxxx 12 7 u a d False\n",
      "xxxx 12 8 u e h False\n",
      "xxxx 12 9 u d v False\n",
      "seq1 12 10 u h u True\n",
      "seq2 12 11 u h h True\n",
      "seq2 12 12 u g g True\n",
      "xxxx 12 13 u e x False\n",
      "xxxx 12 14 u f e False\n",
      "xxxx 12 15 u d f False\n",
      "xxxx 12 16 u g w False\n",
      "xxxx 12 17 u h y False\n",
      "xxxx 12 18 u g u False\n",
      "xxxx 12 19 u g d False\n",
      "xxxx 12 20 u g g False\n",
      "seq1 13 0 x ! u False\n",
      "xxxx 13 1 x a x False\n",
      "xxxx 13 2 x c z False\n",
      "xxxx 13 3 x h u False\n",
      "xxxx 13 4 x e a False\n",
      "xxxx 13 5 x e e False\n",
      "xxxx 13 6 x f d False\n",
      "xxxx 13 7 x a h False\n",
      "xxxx 13 8 x e v False\n",
      "xxxx 13 9 x d u False\n",
      "xxxx 13 10 x h h False\n",
      "xxxx 13 11 x h g False\n",
      "seq1 13 12 x g x True\n",
      "seq2 13 13 x e e True\n",
      "seq2 13 14 x f f True\n",
      "xxxx 13 15 x d w False\n",
      "xxxx 13 16 x g y False\n",
      "xxxx 13 17 x h u False\n",
      "xxxx 13 18 x g d False\n",
      "xxxx 13 19 x g g False\n",
      "xxxx 13 20 x g h False\n",
      "seq1 14 0 w ! x False\n",
      "xxxx 14 1 w a z False\n",
      "xxxx 14 2 w c u False\n",
      "xxxx 14 3 w h a False\n",
      "xxxx 14 4 w e e False\n",
      "xxxx 14 5 w e d False\n",
      "xxxx 14 6 w f h False\n",
      "xxxx 14 7 w a v False\n",
      "xxxx 14 8 w e u False\n",
      "xxxx 14 9 w d h False\n",
      "xxxx 14 10 w h g False\n",
      "xxxx 14 11 w h x False\n",
      "xxxx 14 12 w g e False\n",
      "xxxx 14 13 w e f False\n",
      "seq1 14 14 w f w True\n",
      "xxxx 14 15 w d y False\n",
      "xxxx 14 16 w g u False\n",
      "xxxx 14 17 w h d False\n",
      "xxxx 14 18 w g g False\n",
      "xxxx 14 19 w g h False\n",
      "xxxx 14 20 w g g False\n",
      "seq1 15 0 y ! z False\n",
      "xxxx 15 1 y a u False\n",
      "xxxx 15 2 y c a False\n",
      "xxxx 15 3 y h e False\n",
      "xxxx 15 4 y e d False\n",
      "xxxx 15 5 y e h False\n",
      "xxxx 15 6 y f v False\n",
      "xxxx 15 7 y a u False\n",
      "xxxx 15 8 y e h False\n",
      "xxxx 15 9 y d g False\n",
      "xxxx 15 10 y h x False\n",
      "xxxx 15 11 y h e False\n",
      "xxxx 15 12 y g f False\n",
      "xxxx 15 13 y e w False\n",
      "seq1 15 14 y f y True\n",
      "xxxx 15 15 y d u False\n",
      "xxxx 15 16 y g d False\n",
      "xxxx 15 17 y h g False\n",
      "xxxx 15 18 y g h False\n",
      "xxxx 15 19 y g g False\n",
      "xxxx 15 20 y g g False\n",
      "seq1 16 0 u ! u False\n",
      "xxxx 16 1 u a a False\n",
      "xxxx 16 2 u c e False\n",
      "xxxx 16 3 u h d False\n",
      "xxxx 16 4 u e h False\n",
      "xxxx 16 5 u e v False\n",
      "xxxx 16 6 u f u False\n",
      "xxxx 16 7 u a h False\n",
      "xxxx 16 8 u e g False\n",
      "xxxx 16 9 u d x False\n",
      "xxxx 16 10 u h e False\n",
      "xxxx 16 11 u h f False\n",
      "xxxx 16 12 u g w False\n",
      "xxxx 16 13 u e y False\n",
      "seq1 16 14 u f u True\n",
      "seq2 16 15 u d d True\n",
      "seq2 16 16 u g g True\n",
      "seq2 16 17 u h h True\n",
      "seq2 16 18 u g g True\n",
      "seq2 16 19 u g g True\n",
      "seq2 16 20 u g g True\n",
      "seq1 17 0 y ! a False\n",
      "xxxx 17 1 y a e False\n",
      "xxxx 17 2 y c d False\n",
      "xxxx 17 3 y h h False\n",
      "xxxx 17 4 y e v False\n",
      "xxxx 17 5 y e u False\n",
      "xxxx 17 6 y f h False\n",
      "xxxx 17 7 y a g False\n",
      "xxxx 17 8 y e x False\n",
      "xxxx 17 9 y d e False\n",
      "xxxx 17 10 y h f False\n",
      "xxxx 17 11 y h w False\n",
      "xxxx 17 12 y g y False\n",
      "xxxx 17 13 y e u False\n",
      "xxxx 17 14 y f d False\n",
      "xxxx 17 15 y d g False\n",
      "xxxx 17 16 y g h False\n",
      "xxxx 17 17 y h g False\n",
      "xxxx 17 18 y g g False\n",
      "xxxx 17 19 y g g False\n",
      "seq1 17 20 y g y True\n",
      "seq1 18 0 y ! e False\n",
      "xxxx 18 1 y a d False\n",
      "xxxx 18 2 y c h False\n",
      "xxxx 18 3 y h v False\n",
      "xxxx 18 4 y e u False\n",
      "xxxx 18 5 y e h False\n",
      "xxxx 18 6 y f g False\n",
      "xxxx 18 7 y a x False\n",
      "xxxx 18 8 y e e False\n",
      "xxxx 18 9 y d f False\n",
      "xxxx 18 10 y h w False\n",
      "xxxx 18 11 y h y False\n",
      "xxxx 18 12 y g u False\n",
      "xxxx 18 13 y e d False\n",
      "xxxx 18 14 y f g False\n",
      "xxxx 18 15 y d h False\n",
      "xxxx 18 16 y g g False\n",
      "xxxx 18 17 y h g False\n",
      "xxxx 18 18 y g g False\n",
      "xxxx 18 19 y g y False\n",
      "seq1 18 20 y g y True\n",
      "seq1 19 0 u ! d False\n",
      "xxxx 19 1 u a h False\n",
      "xxxx 19 2 u c v False\n",
      "xxxx 19 3 u h u False\n",
      "xxxx 19 4 u e h False\n",
      "xxxx 19 5 u e g False\n",
      "xxxx 19 6 u f x False\n",
      "xxxx 19 7 u a e False\n",
      "xxxx 19 8 u e f False\n",
      "xxxx 19 9 u d w False\n",
      "xxxx 19 10 u h y False\n",
      "xxxx 19 11 u h u False\n",
      "xxxx 19 12 u g d False\n",
      "xxxx 19 13 u e g False\n",
      "xxxx 19 14 u f h False\n",
      "xxxx 19 15 u d g False\n",
      "xxxx 19 16 u g g False\n",
      "xxxx 19 17 u h g False\n",
      "xxxx 19 18 u g y False\n",
      "xxxx 19 19 u g y False\n",
      "seq1 19 20 u g u True\n",
      "seq1 20 0 z ! h False\n",
      "xxxx 20 1 z a v False\n",
      "xxxx 20 2 z c u False\n",
      "xxxx 20 3 z h h False\n",
      "xxxx 20 4 z e g False\n",
      "xxxx 20 5 z e x False\n",
      "xxxx 20 6 z f e False\n",
      "xxxx 20 7 z a f False\n",
      "xxxx 20 8 z e w False\n",
      "xxxx 20 9 z d y False\n",
      "xxxx 20 10 z h u False\n",
      "xxxx 20 11 z h d False\n",
      "xxxx 20 12 z g g False\n",
      "xxxx 20 13 z e h False\n",
      "xxxx 20 14 z f g False\n",
      "xxxx 20 15 z d g False\n",
      "xxxx 20 16 z g g False\n",
      "xxxx 20 17 z h y False\n",
      "xxxx 20 18 z g y False\n",
      "xxxx 20 19 z g u False\n",
      "seq1 20 20 z g z True\n",
      "T . . . . . . . . . . . . . . . . . . . .\n",
      "T T T . . . . . . . . . . . . . . . . . .\n",
      ". . T T T . . . . . . . . . . . . . . . .\n",
      ". . . . T T . . . . . . . . . . . . . . .\n",
      ". . . . . T T . . . . . . . . . . . . . .\n",
      ". . . . . . T . . . . . . . . . . . . . .\n",
      ". . . . . . T . . . . . . . . . . . . . .\n",
      ". . . . . . T . . . . . . . . . . . . . .\n",
      ". . . . . . T . . . . . . . . . . . . . .\n",
      ". . . . . . T . . . . . . . . . . . . . .\n",
      ". . . . . . T T T T T . . . . . . . . . .\n",
      ". . . . . . . . . . T . . . . . . . . . .\n",
      ". . . . . . . . . . T T T . . . . . . . .\n",
      ". . . . . . . . . . . . T T T . . . . . .\n",
      ". . . . . . . . . . . . . . T . . . . . .\n",
      ". . . . . . . . . . . . . . T . . . . . .\n",
      ". . . . . . . . . . . . . . T T T T T T T\n",
      ". . . . . . . . . . . . . . . . . . . . T\n",
      ". . . . . . . . . . . . . . . . . . . . T\n",
      ". . . . . . . . . . . . . . . . . . . . T\n",
      ". . . . . . . . . . . . . . . . . . . . T\n"
     ]
    }
   ],
   "source": [
    "v, bp, t = is_interleave(s2, s1, il, return_backpointers=True, return_table=True, debug=True)\n",
    "print(show_table(t))"
   ]
  },
  {
   "cell_type": "code",
   "execution_count": 22,
   "metadata": {},
   "outputs": [
    {
     "data": {
      "text/plain": [
       "'UacVheVeUfUVUXZUaedhVUhgXefWYUdghgggYYUZ'"
      ]
     },
     "execution_count": 22,
     "metadata": {},
     "output_type": "execute_result"
    }
   ],
   "source": [
    "show_backtrace(bp)"
   ]
  },
  {
   "cell_type": "code",
   "execution_count": 23,
   "metadata": {},
   "outputs": [
    {
     "name": "stdout",
     "output_type": "stream",
     "text": [
      "T . . . . . . . . . . . . . . . . . . . .\n",
      "T T T . . . . . . . . . . . . . . . . . .\n",
      ". . T T T . . . . . . . . . . . . . . . .\n",
      ". . . . T T . . . . . . . . . . . . . . .\n",
      ". . . . . T T . . . . . . . . . . . . . .\n",
      ". . . . . . T . . . . . . . . . . . . . .\n",
      ". . . . . . T . . . . . . . . . . . . . .\n",
      ". . . . . . T . . . . . . . . . . . . . .\n",
      ". . . . . . T . . . . . . . . . . . . . .\n",
      ". . . . . . T . . . . . . . . . . . . . .\n",
      ". . . . . . T T T T T . . . . . . . . . .\n",
      ". . . . . . . . . . T . . . . . . . . . .\n",
      ". . . . . . . . . . T T T . . . . . . . .\n",
      ". . . . . . . . . . . . T T T . . . . . .\n",
      ". . . . . . . . . . . . . . T . . . . . .\n",
      ". . . . . . . . . . . . . . T . . . . . .\n",
      ". . . . . . . . . . . . . . T T T T T T T\n",
      ". . . . . . . . . . . . . . . . . . . . T\n",
      ". . . . . . . . . . . . . . . . . . . . T\n",
      ". . . . . . . . . . . . . . . . . . . . T\n",
      ". . . . . . . . . . . . . . . . . . . . T\n",
      "UacVheVeUfUVUXZUaedhVUhgXefWYUdghgggYYUZ\n"
     ]
    },
    {
     "data": {
      "text/plain": [
       "True"
      ]
     },
     "execution_count": 23,
     "metadata": {},
     "output_type": "execute_result"
    }
   ],
   "source": [
    "v, bp, t = is_interleave(s2, s1, il, return_backpointers=True, return_table=True)\n",
    "print(show_table(t))\n",
    "print(show_backtrace(bp))\n",
    "v"
   ]
  },
  {
   "cell_type": "code",
   "execution_count": 24,
   "metadata": {},
   "outputs": [
    {
     "data": {
      "text/plain": [
       "('gfccbgegegaccfcgeehbgcafchgbfdfbggbcachfdfaccfbffb',\n",
       " 'accfcfbdaabcabbbegdfffhcgcefbddegghgfdgcgdcffcfdcd',\n",
       " 'acgcfcffbdcacbabcagbbbegegegadcfcffcgfeehbgchacfchggcbefbfddfbdggbegcgachhfgfdfdgcgdacccfbffcffbfdcd',\n",
       " 100)"
      ]
     },
     "execution_count": 24,
     "metadata": {},
     "output_type": "execute_result"
    }
   ],
   "source": [
    "s1 = make_string(50)\n",
    "s2 = make_string(50)\n",
    "il = interleave(s1, s2)\n",
    "s1, s2, il, len(il)"
   ]
  },
  {
   "cell_type": "code",
   "execution_count": 25,
   "metadata": {},
   "outputs": [
    {
     "name": "stdout",
     "output_type": "stream",
     "text": [
      "T . . . . . . . . . . . . . . . . . . . . . . . . . . . . . . . . . . . . . . . . . . . . . . . . . .\n",
      "T . . . . . . . . . . . . . . . . . . . . . . . . . . . . . . . . . . . . . . . . . . . . . . . . . .\n",
      "T T . . . . . . . . . . . . . . . . . . . . . . . . . . . . . . . . . . . . . . . . . . . . . . . . .\n",
      ". T T T . . . . . . . . . . . . . . . . . . . . . . . . . . . . . . . . . . . . . . . . . . . . . . .\n",
      ". T . T . . . . . . . . . . . . . . . . . . . . . . . . . . . . . . . . . . . . . . . . . . . . . . .\n",
      ". T T . . . . . . . . . . . . . . . . . . . . . . . . . . . . . . . . . . . . . . . . . . . . . . . .\n",
      ". T T . . . . . . . . . . . . . . . . . . . . . . . . . . . . . . . . . . . . . . . . . . . . . . . .\n",
      ". . T . . . . . . . . . . . . . . . . . . . . . . . . . . . . . . . . . . . . . . . . . . . . . . . .\n",
      ". . T T . . . . . . . . . . . . . . . . . . . . . . . . . . . . . . . . . . . . . . . . . . . . . . .\n",
      ". . . T T T . . . . . . . . . . . . . . . . . . . . . . . . . . . . . . . . . . . . . . . . . . . . .\n",
      ". . . . . T . . . . . . . . . . . . . . . . . . . . . . . . . . . . . . . . . . . . . . . . . . . . .\n",
      ". . . . . T . . . . . . . . . . . . . . . . . . . . . . . . . . . . . . . . . . . . . . . . . . . . .\n",
      ". . . . . T . . . . . . . . . . . . . . . . . . . . . . . . . . . . . . . . . . . . . . . . . . . . .\n",
      ". . . . . T T . . . . . . . . . . . . . . . . . . . . . . . . . . . . . . . . . . . . . . . . . . . .\n",
      ". . . . . . T . . . . . . . . . . . . . . . . . . . . . . . . . . . . . . . . . . . . . . . . . . . .\n",
      ". . . . . . T . . . . . . . . . . . . . . . . . . . . . . . . . . . . . . . . . . . . . . . . . . . .\n",
      ". . . . . . T T T T T . . . . . . . . . . . . . . . . . . . . . . . . . . . . . . . . . . . . . . . .\n",
      ". . . . . . T . T . T . . . . . . . . . . . . . . . . . . . . . . . . . . . . . . . . . . . . . . . .\n",
      ". . . . . . T T T T T T . . . . . . . . . . . . . . . . . . . . . . . . . . . . . . . . . . . . . . .\n",
      ". . . . . . . . . . . T T . . . . . . . . . . . . . . . . . . . . . . . . . . . . . . . . . . . . . .\n",
      ". . . . . . . . . . . . T T T . . . . . . . . . . . . . . . . . . . . . . . . . . . . . . . . . . . .\n",
      ". . . . . . . . . . . . . T T T T . . . . . . . . . . . . . . . . . . . . . . . . . . . . . . . . . .\n",
      ". . . . . . . . . . . . . T . . T T T T T T T . . . . . . . . . . . . . . . . . . . . . . . . . . . .\n",
      ". . . . . . . . . . . . . . . . . . T . . . T T . . . . . . . . . . . . . . . . . . . . . . . . . . .\n",
      ". . . . . . . . . . . . . . . . . . . . . . . T T T T T . . . . . . . . . . . . . . . . . . . . . . .\n",
      ". . . . . . . . . . . . . . . . . . . . . . . . . . T T . . . . . . . . . . . . . . . . . . . . . . .\n",
      ". . . . . . . . . . . . . . . . . . . . . . . . . . . T T . . . . . . . . . . . . . . . . . . . . . .\n",
      ". . . . . . . . . . . . . . . . . . . . . . . . . . . . T T . . . . . . . . . . . . . . . . . . . . .\n",
      ". . . . . . . . . . . . . . . . . . . . . . . . . . . . T . . . . . . . . . . . . . . . . . . . . . .\n",
      ". . . . . . . . . . . . . . . . . . . . . . . . . . . . T T T . . . . . . . . . . . . . . . . . . . .\n",
      ". . . . . . . . . . . . . . . . . . . . . . . . . . . . . T T T T . . . . . . . . . . . . . . . . . .\n",
      ". . . . . . . . . . . . . . . . . . . . . . . . . . . . . T . . T T T T . . . . . . . . . . . . . . .\n",
      ". . . . . . . . . . . . . . . . . . . . . . . . . . . . . . . . . . . T . . . . . . . . . . . . . . .\n",
      ". . . . . . . . . . . . . . . . . . . . . . . . . . . . . . . . . . . T T . . . . . . . . . . . . . .\n",
      ". . . . . . . . . . . . . . . . . . . . . . . . . . . . . . . . . . . . T T T T . . . . . . . . . . .\n",
      ". . . . . . . . . . . . . . . . . . . . . . . . . . . . . . . . . . . . . . T T T . . . . . . . . . .\n",
      ". . . . . . . . . . . . . . . . . . . . . . . . . . . . . . . . . . . . . . . . T . . . . . . . . . .\n",
      ". . . . . . . . . . . . . . . . . . . . . . . . . . . . . . . . . . . . . . . . T T T . . . . . . . .\n",
      ". . . . . . . . . . . . . . . . . . . . . . . . . . . . . . . . . . . . . . . . T . T . . . . . . . .\n",
      ". . . . . . . . . . . . . . . . . . . . . . . . . . . . . . . . . . . . . . . . . . T . . . . . . . .\n",
      ". . . . . . . . . . . . . . . . . . . . . . . . . . . . . . . . . . . . . . . . . . T . . . . . . . .\n",
      ". . . . . . . . . . . . . . . . . . . . . . . . . . . . . . . . . . . . . . . . . . T . . . . . . . .\n",
      ". . . . . . . . . . . . . . . . . . . . . . . . . . . . . . . . . . . . . . . . . . T T T T . . . . .\n",
      ". . . . . . . . . . . . . . . . . . . . . . . . . . . . . . . . . . . . . . . . . . . T T T T T T T .\n",
      ". . . . . . . . . . . . . . . . . . . . . . . . . . . . . . . . . . . . . . . . . . . . . T . T T . .\n",
      ". . . . . . . . . . . . . . . . . . . . . . . . . . . . . . . . . . . . . . . . . . . . . . . T . . .\n",
      ". . . . . . . . . . . . . . . . . . . . . . . . . . . . . . . . . . . . . . . . . . . . . . . T T T T\n",
      ". . . . . . . . . . . . . . . . . . . . . . . . . . . . . . . . . . . . . . . . . . . . . . . T T . T\n",
      ". . . . . . . . . . . . . . . . . . . . . . . . . . . . . . . . . . . . . . . . . . . . . . . . . . T\n",
      ". . . . . . . . . . . . . . . . . . . . . . . . . . . . . . . . . . . . . . . . . . . . . . . . . . T\n",
      ". . . . . . . . . . . . . . . . . . . . . . . . . . . . . . . . . . . . . . . . . . . . . . . . . . T\n",
      "ACgCFCfFBDcAcbABCAgBBBegegEGaDcFcfFcgFeehbgcHaCfchgGCbEFBfdDfbDggbEGcGachHfGFdfDGCGDaccCfbFFCffbFDCD\n"
     ]
    },
    {
     "data": {
      "text/plain": [
       "True"
      ]
     },
     "execution_count": 25,
     "metadata": {},
     "output_type": "execute_result"
    }
   ],
   "source": [
    "v, bp, t = is_interleave(s2, s1, il, return_backpointers=True, return_table=True)\n",
    "print(show_table(t))\n",
    "print(show_backtrace(bp))\n",
    "v"
   ]
  },
  {
   "cell_type": "code",
   "execution_count": 26,
   "metadata": {},
   "outputs": [
    {
     "name": "stdout",
     "output_type": "stream",
     "text": [
      "1000 loops, best of 3: 1.25 ms per loop\n"
     ]
    }
   ],
   "source": [
    "%%timeit\n",
    "is_interleave(s2, s1, il)"
   ]
  },
  {
   "cell_type": "code",
   "execution_count": 27,
   "metadata": {},
   "outputs": [
    {
     "name": "stdout",
     "output_type": "stream",
     "text": [
      "T T T . . . . . . . . . . . . . . . . . . . . . . . . . . . . . . . . . . . . . . . . . . . . . . . .\n",
      ". . T T T T T . . . . . . . . . . . . . . . . . . . . . . . . . . . . . . . . . . . . . . . . . . . .\n",
      ". . . T . T T T T . . . . . . . . . . . . . . . . . . . . . . . . . . . . . . . . . . . . . . . . . .\n",
      ". . . T T . . . T T . . . . . . . . . . . . . . . . . . . . . . . . . . . . . . . . . . . . . . . . .\n",
      ". . . . . . . . . T . . . . . . . . . . . . . . . . . . . . . . . . . . . . . . . . . . . . . . . . .\n",
      ". . . . . . . . . T T T T T . . . . . . . . . . . . . . . . . . . . . . . . . . . . . . . . . . . . .\n",
      ". . . . . . . . . . . . . T T T T T T . . . . . . . . . . . . . . . . . . . . . . . . . . . . . . . .\n",
      ". . . . . . . . . . . . . . . . T . T . . . . . . . . . . . . . . . . . . . . . . . . . . . . . . . .\n",
      ". . . . . . . . . . . . . . . . T T T . . . . . . . . . . . . . . . . . . . . . . . . . . . . . . . .\n",
      ". . . . . . . . . . . . . . . . T . T . . . . . . . . . . . . . . . . . . . . . . . . . . . . . . . .\n",
      ". . . . . . . . . . . . . . . . T T T . . . . . . . . . . . . . . . . . . . . . . . . . . . . . . . .\n",
      ". . . . . . . . . . . . . . . . . . T T . . . . . . . . . . . . . . . . . . . . . . . . . . . . . . .\n",
      ". . . . . . . . . . . . . . . . . . . T T . . . . . . . . . . . . . . . . . . . . . . . . . . . . . .\n",
      ". . . . . . . . . . . . . . . . . . . . T T T . . . . . . . . . . . . . . . . . . . . . . . . . . . .\n",
      ". . . . . . . . . . . . . . . . . . . . T T . . . . . . . . . . . . . . . . . . . . . . . . . . . . .\n",
      ". . . . . . . . . . . . . . . . . . . . . T . . . . . . . . . . . . . . . . . . . . . . . . . . . . .\n",
      ". . . . . . . . . . . . . . . . . . . . . T T . . . . . . . . . . . . . . . . . . . . . . . . . . . .\n",
      ". . . . . . . . . . . . . . . . . . . . . . T . . . . . . . . . . . . . . . . . . . . . . . . . . . .\n",
      ". . . . . . . . . . . . . . . . . . . . . . T T . . . . . . . . . . . . . . . . . . . . . . . . . . .\n",
      ". . . . . . . . . . . . . . . . . . . . . . T . . . . . . . . . . . . . . . . . . . . . . . . . . . .\n",
      ". . . . . . . . . . . . . . . . . . . . . . T . . . . . . . . . . . . . . . . . . . . . . . . . . . .\n",
      ". . . . . . . . . . . . . . . . . . . . . . T . . . . . . . . . . . . . . . . . . . . . . . . . . . .\n",
      ". . . . . . . . . . . . . . . . . . . . . . T T . . . . . . . . . . . . . . . . . . . . . . . . . . .\n",
      ". . . . . . . . . . . . . . . . . . . . . . . T T . . . . . . . . . . . . . . . . . . . . . . . . . .\n",
      ". . . . . . . . . . . . . . . . . . . . . . . . T . . . . . . . . . . . . . . . . . . . . . . . . . .\n",
      ". . . . . . . . . . . . . . . . . . . . . . . . T . . . . . . . . . . . . . . . . . . . . . . . . . .\n",
      ". . . . . . . . . . . . . . . . . . . . . . . . T T . . . . . . . . . . . . . . . . . . . . . . . . .\n",
      ". . . . . . . . . . . . . . . . . . . . . . . . T T T . . . . . . . . . . . . . . . . . . . . . . . .\n",
      ". . . . . . . . . . . . . . . . . . . . . . . . . . T T T T . . . . . . . . . . . . . . . . . . . . .\n",
      ". . . . . . . . . . . . . . . . . . . . . . . . . . . T . T T T . . . . . . . . . . . . . . . . . . .\n",
      ". . . . . . . . . . . . . . . . . . . . . . . . . . . . . T T . . . . . . . . . . . . . . . . . . . .\n",
      ". . . . . . . . . . . . . . . . . . . . . . . . . . . . . . T . . . . . . . . . . . . . . . . . . . .\n",
      ". . . . . . . . . . . . . . . . . . . . . . . . . . . . . . T T . . . . . . . . . . . . . . . . . . .\n",
      ". . . . . . . . . . . . . . . . . . . . . . . . . . . . . . . T . . . . . . . . . . . . . . . . . . .\n",
      ". . . . . . . . . . . . . . . . . . . . . . . . . . . . . . . T . . . . . . . . . . . . . . . . . . .\n",
      ". . . . . . . . . . . . . . . . . . . . . . . . . . . . . . . T T T . . . . . . . . . . . . . . . . .\n",
      ". . . . . . . . . . . . . . . . . . . . . . . . . . . . . . . . . T T . . . . . . . . . . . . . . . .\n",
      ". . . . . . . . . . . . . . . . . . . . . . . . . . . . . . . . . . T . . . . . . . . . . . . . . . .\n",
      ". . . . . . . . . . . . . . . . . . . . . . . . . . . . . . . . . . T T . . . . . . . . . . . . . . .\n",
      ". . . . . . . . . . . . . . . . . . . . . . . . . . . . . . . . . . T T . . . . . . . . . . . . . . .\n",
      ". . . . . . . . . . . . . . . . . . . . . . . . . . . . . . . . . . . T T T T . . . . . . . . . . . .\n",
      ". . . . . . . . . . . . . . . . . . . . . . . . . . . . . . . . . . . . . T . . . . . . . . . . . . .\n",
      ". . . . . . . . . . . . . . . . . . . . . . . . . . . . . . . . . . . . . T T T T T T . . . . . . . .\n",
      ". . . . . . . . . . . . . . . . . . . . . . . . . . . . . . . . . . . . . . . . . . T T . . . . . . .\n",
      ". . . . . . . . . . . . . . . . . . . . . . . . . . . . . . . . . . . . . . . . . . T T . . . . . . .\n",
      ". . . . . . . . . . . . . . . . . . . . . . . . . . . . . . . . . . . . . . . . . . T T T . . . . . .\n",
      ". . . . . . . . . . . . . . . . . . . . . . . . . . . . . . . . . . . . . . . . . . . T . . . . . . .\n",
      ". . . . . . . . . . . . . . . . . . . . . . . . . . . . . . . . . . . . . . . . . . . T T T T T . . .\n",
      ". . . . . . . . . . . . . . . . . . . . . . . . . . . . . . . . . . . . . . . . . . . T T . T T . . .\n",
      ". . . . . . . . . . . . . . . . . . . . . . . . . . . . . . . . . . . . . . . . . . . T . . T . . . .\n",
      ". . . . . . . . . . . . . . . . . . . . . . . . . . . . . . . . . . . . . . . . . . . . . . T T T T T\n",
      "acGcfcfFbdCaCBabcaGbbbegEGEGAdCfCfFCGfEEHBGChAcFCHgGcBefbFdDFBdGGBegCgAChHFgfDFdgcgdAcCCFBffcFFBfdcd\n"
     ]
    },
    {
     "data": {
      "text/plain": [
       "True"
      ]
     },
     "execution_count": 27,
     "metadata": {},
     "output_type": "execute_result"
    }
   ],
   "source": [
    "v, bp, t = is_interleave(s1, s2, il, return_backpointers=True, return_table=True)\n",
    "print(show_table(t))\n",
    "print(show_backtrace(bp))\n",
    "v"
   ]
  },
  {
   "cell_type": "code",
   "execution_count": 28,
   "metadata": {},
   "outputs": [
    {
     "data": {
      "text/plain": [
       "True"
      ]
     },
     "execution_count": 28,
     "metadata": {},
     "output_type": "execute_result"
    }
   ],
   "source": [
    "show_backtrace(bp).lower() == il"
   ]
  },
  {
   "cell_type": "code",
   "execution_count": 29,
   "metadata": {},
   "outputs": [
    {
     "data": {
      "text/plain": [
       "('adadhfgacgbahfchffghdfffcfcdccchedahggdffhgbacghbe', False, False)"
      ]
     },
     "execution_count": 29,
     "metadata": {},
     "output_type": "execute_result"
    }
   ],
   "source": [
    "s3 = make_string(50)\n",
    "s3, is_interleave(s1, s3, il), is_interleave(s2, s3, il)"
   ]
  },
  {
   "cell_type": "code",
   "execution_count": 30,
   "metadata": {},
   "outputs": [
    {
     "name": "stdout",
     "output_type": "stream",
     "text": [
      "T T . . . . . . . . . . . . . . . . . . . . . . . . . . . . . . . . . . . . . . . . . . . . . . . . .\n",
      ". . . . . . . . . . . . . . . . . . . . . . . . . . . . . . . . . . . . . . . . . . . . . . . . . . .\n",
      ". . . . . . . . . . . . . . . . . . . . . . . . . . . . . . . . . . . . . . . . . . . . . . . . . . .\n",
      ". . . . . . . . . . . . . . . . . . . . . . . . . . . . . . . . . . . . . . . . . . . . . . . . . . .\n",
      ". . . . . . . . . . . . . . . . . . . . . . . . . . . . . . . . . . . . . . . . . . . . . . . . . . .\n",
      ". . . . . . . . . . . . . . . . . . . . . . . . . . . . . . . . . . . . . . . . . . . . . . . . . . .\n",
      ". . . . . . . . . . . . . . . . . . . . . . . . . . . . . . . . . . . . . . . . . . . . . . . . . . .\n",
      ". . . . . . . . . . . . . . . . . . . . . . . . . . . . . . . . . . . . . . . . . . . . . . . . . . .\n",
      ". . . . . . . . . . . . . . . . . . . . . . . . . . . . . . . . . . . . . . . . . . . . . . . . . . .\n",
      ". . . . . . . . . . . . . . . . . . . . . . . . . . . . . . . . . . . . . . . . . . . . . . . . . . .\n",
      ". . . . . . . . . . . . . . . . . . . . . . . . . . . . . . . . . . . . . . . . . . . . . . . . . . .\n",
      ". . . . . . . . . . . . . . . . . . . . . . . . . . . . . . . . . . . . . . . . . . . . . . . . . . .\n",
      ". . . . . . . . . . . . . . . . . . . . . . . . . . . . . . . . . . . . . . . . . . . . . . . . . . .\n",
      ". . . . . . . . . . . . . . . . . . . . . . . . . . . . . . . . . . . . . . . . . . . . . . . . . . .\n",
      ". . . . . . . . . . . . . . . . . . . . . . . . . . . . . . . . . . . . . . . . . . . . . . . . . . .\n",
      ". . . . . . . . . . . . . . . . . . . . . . . . . . . . . . . . . . . . . . . . . . . . . . . . . . .\n",
      ". . . . . . . . . . . . . . . . . . . . . . . . . . . . . . . . . . . . . . . . . . . . . . . . . . .\n",
      ". . . . . . . . . . . . . . . . . . . . . . . . . . . . . . . . . . . . . . . . . . . . . . . . . . .\n",
      ". . . . . . . . . . . . . . . . . . . . . . . . . . . . . . . . . . . . . . . . . . . . . . . . . . .\n",
      ". . . . . . . . . . . . . . . . . . . . . . . . . . . . . . . . . . . . . . . . . . . . . . . . . . .\n",
      ". . . . . . . . . . . . . . . . . . . . . . . . . . . . . . . . . . . . . . . . . . . . . . . . . . .\n",
      ". . . . . . . . . . . . . . . . . . . . . . . . . . . . . . . . . . . . . . . . . . . . . . . . . . .\n",
      ". . . . . . . . . . . . . . . . . . . . . . . . . . . . . . . . . . . . . . . . . . . . . . . . . . .\n",
      ". . . . . . . . . . . . . . . . . . . . . . . . . . . . . . . . . . . . . . . . . . . . . . . . . . .\n",
      ". . . . . . . . . . . . . . . . . . . . . . . . . . . . . . . . . . . . . . . . . . . . . . . . . . .\n",
      ". . . . . . . . . . . . . . . . . . . . . . . . . . . . . . . . . . . . . . . . . . . . . . . . . . .\n",
      ". . . . . . . . . . . . . . . . . . . . . . . . . . . . . . . . . . . . . . . . . . . . . . . . . . .\n",
      ". . . . . . . . . . . . . . . . . . . . . . . . . . . . . . . . . . . . . . . . . . . . . . . . . . .\n",
      ". . . . . . . . . . . . . . . . . . . . . . . . . . . . . . . . . . . . . . . . . . . . . . . . . . .\n",
      ". . . . . . . . . . . . . . . . . . . . . . . . . . . . . . . . . . . . . . . . . . . . . . . . . . .\n",
      ". . . . . . . . . . . . . . . . . . . . . . . . . . . . . . . . . . . . . . . . . . . . . . . . . . .\n",
      ". . . . . . . . . . . . . . . . . . . . . . . . . . . . . . . . . . . . . . . . . . . . . . . . . . .\n",
      ". . . . . . . . . . . . . . . . . . . . . . . . . . . . . . . . . . . . . . . . . . . . . . . . . . .\n",
      ". . . . . . . . . . . . . . . . . . . . . . . . . . . . . . . . . . . . . . . . . . . . . . . . . . .\n",
      ". . . . . . . . . . . . . . . . . . . . . . . . . . . . . . . . . . . . . . . . . . . . . . . . . . .\n",
      ". . . . . . . . . . . . . . . . . . . . . . . . . . . . . . . . . . . . . . . . . . . . . . . . . . .\n",
      ". . . . . . . . . . . . . . . . . . . . . . . . . . . . . . . . . . . . . . . . . . . . . . . . . . .\n",
      ". . . . . . . . . . . . . . . . . . . . . . . . . . . . . . . . . . . . . . . . . . . . . . . . . . .\n",
      ". . . . . . . . . . . . . . . . . . . . . . . . . . . . . . . . . . . . . . . . . . . . . . . . . . .\n",
      ". . . . . . . . . . . . . . . . . . . . . . . . . . . . . . . . . . . . . . . . . . . . . . . . . . .\n",
      ". . . . . . . . . . . . . . . . . . . . . . . . . . . . . . . . . . . . . . . . . . . . . . . . . . .\n",
      ". . . . . . . . . . . . . . . . . . . . . . . . . . . . . . . . . . . . . . . . . . . . . . . . . . .\n",
      ". . . . . . . . . . . . . . . . . . . . . . . . . . . . . . . . . . . . . . . . . . . . . . . . . . .\n",
      ". . . . . . . . . . . . . . . . . . . . . . . . . . . . . . . . . . . . . . . . . . . . . . . . . . .\n",
      ". . . . . . . . . . . . . . . . . . . . . . . . . . . . . . . . . . . . . . . . . . . . . . . . . . .\n",
      ". . . . . . . . . . . . . . . . . . . . . . . . . . . . . . . . . . . . . . . . . . . . . . . . . . .\n",
      ". . . . . . . . . . . . . . . . . . . . . . . . . . . . . . . . . . . . . . . . . . . . . . . . . . .\n",
      ". . . . . . . . . . . . . . . . . . . . . . . . . . . . . . . . . . . . . . . . . . . . . . . . . . .\n",
      ". . . . . . . . . . . . . . . . . . . . . . . . . . . . . . . . . . . . . . . . . . . . . . . . . . .\n",
      ". . . . . . . . . . . . . . . . . . . . . . . . . . . . . . . . . . . . . . . . . . . . . . . . . . .\n",
      ". . . . . . . . . . . . . . . . . . . . . . . . . . . . . . . . . . . . . . . . . . . . . . . . . . .\n",
      "a\n"
     ]
    },
    {
     "data": {
      "text/plain": [
       "False"
      ]
     },
     "execution_count": 30,
     "metadata": {},
     "output_type": "execute_result"
    }
   ],
   "source": [
    "v, bp, t = is_interleave(s1, s3, il, return_backpointers=True, return_table=True)\n",
    "print(show_table(t))\n",
    "print(show_backtrace(bp))\n",
    "v"
   ]
  },
  {
   "cell_type": "markdown",
   "metadata": {},
   "source": [
    "## Example"
   ]
  },
  {
   "cell_type": "code",
   "execution_count": 31,
   "metadata": {
    "collapsed": true
   },
   "outputs": [],
   "source": [
    "def show_annotated_table(table, bps):\n",
    "    return '\\n'.join(' '.join('*' if (i, j) == (0, 0) else bps[i, j][2] if table[i, j] else '.' for j in sorted(set([k[1] for k in table])))\n",
    "        for i in sorted(set([k[0] for k in table])))"
   ]
  },
  {
   "cell_type": "code",
   "execution_count": 32,
   "metadata": {
    "collapsed": true
   },
   "outputs": [],
   "source": [
    "def show_backtrace_star(bps):\n",
    "    i = max([0] + [k[0] for k in bps])\n",
    "    j = max([0] + [k[1] for k in bps])\n",
    "    chars = ''\n",
    "    stars = ''\n",
    "    if (i, j) in bps:\n",
    "        while i != 0 or j != 0:\n",
    "            chars += bps[i, j][2]\n",
    "            if bps[i, j][3] == 'seq1':\n",
    "                stars += '*'\n",
    "            else:\n",
    "                stars += ' '\n",
    "            i, j = bps[i, j][0], bps[i, j][1] \n",
    "        return ''.join(list(reversed(chars))) + '\\n' + ''.join(list(reversed(stars)))\n",
    "    else:\n",
    "        return ''"
   ]
  },
  {
   "cell_type": "code",
   "execution_count": 33,
   "metadata": {},
   "outputs": [
    {
     "data": {
      "text/plain": [
       "('badbbdcadc', 'bdaadcadab', 'bdabaadbdcbadcaddacb', 20)"
      ]
     },
     "execution_count": 33,
     "metadata": {},
     "output_type": "execute_result"
    }
   ],
   "source": [
    "s1 = make_string(10, alphabet='abcd')\n",
    "s2 = make_string(10, alphabet='abcd')\n",
    "s3 = make_string(10, alphabet='abcd')\n",
    "il = interleave(s1, s2)\n",
    "s1, s2, il, len(il)"
   ]
  },
  {
   "cell_type": "code",
   "execution_count": 34,
   "metadata": {},
   "outputs": [
    {
     "name": "stdout",
     "output_type": "stream",
     "text": [
      "* b d a . . . . . . .\n",
      "b . . b a . . . . . .\n",
      ". . . a a d . . . . .\n",
      ". . . . d . . . . . .\n",
      ". . . . b d c . . . .\n",
      ". . . . . . b a d . .\n",
      ". . . . . . . d . . .\n",
      ". . . . . . . c . . .\n",
      ". . . . . . . a d . .\n",
      ". . . . . . . d d a .\n",
      ". . . . . . . . . c b\n",
      "bdaBaADBdcBaDCAdDaCb\n",
      "bdabaadbdcbadcaddacb\n",
      "   * ***  * *** * * \n"
     ]
    },
    {
     "data": {
      "text/plain": [
       "True"
      ]
     },
     "execution_count": 34,
     "metadata": {},
     "output_type": "execute_result"
    }
   ],
   "source": [
    "v, bp, t = is_interleave(s1, s2, il, return_backpointers=True, return_table=True)\n",
    "print(show_annotated_table(t, bp))\n",
    "print(show_backtrace(bp))\n",
    "print(show_backtrace_star(bp))\n",
    "v"
   ]
  },
  {
   "cell_type": "code",
   "execution_count": 35,
   "metadata": {},
   "outputs": [
    {
     "name": "stdout",
     "output_type": "stream",
     "text": [
      "* b . . . . . . . . .\n",
      "b . . . . . . . . . .\n",
      "d . . . . . . . . . .\n",
      "a b a . . . . . . . .\n",
      ". a a d b . . . . . .\n",
      ". . d . d . . . . . .\n",
      ". . . . c b . . . . .\n",
      ". . . . . a d c a d .\n",
      ". . . . . d . . d d .\n",
      ". . . . . . . . . a c\n",
      ". . . . . . . . . . b\n",
      "BDAbaAdbDCbAdcadDAcB\n",
      "bdabaadbdcbadcaddacb\n",
      "***  *  ** *    ** *\n"
     ]
    },
    {
     "data": {
      "text/plain": [
       "True"
      ]
     },
     "execution_count": 35,
     "metadata": {},
     "output_type": "execute_result"
    }
   ],
   "source": [
    "v, bp, t = is_interleave(s2, s1, il, return_backpointers=True, return_table=True)\n",
    "print(show_annotated_table(t, bp))\n",
    "print(show_backtrace(bp))\n",
    "print(show_backtrace_star(bp))\n",
    "v"
   ]
  },
  {
   "cell_type": "code",
   "execution_count": 36,
   "metadata": {},
   "outputs": [
    {
     "name": "stdout",
     "output_type": "stream",
     "text": [
      "* . . . . . . . . . .\n",
      "b . . . . . . . . . .\n",
      ". . . . . . . . . . .\n",
      ". . . . . . . . . . .\n",
      ". . . . . . . . . . .\n",
      ". . . . . . . . . . .\n",
      ". . . . . . . . . . .\n",
      ". . . . . . . . . . .\n",
      ". . . . . . . . . . .\n",
      ". . . . . . . . . . .\n",
      ". . . . . . . . . . .\n",
      "B\n",
      "b\n",
      "*\n"
     ]
    },
    {
     "data": {
      "text/plain": [
       "False"
      ]
     },
     "execution_count": 36,
     "metadata": {},
     "output_type": "execute_result"
    }
   ],
   "source": [
    "v, bp, t = is_interleave(s1, s3, il, return_backpointers=True, return_table=True)\n",
    "print(show_annotated_table(t, bp))\n",
    "print(show_backtrace(bp))\n",
    "print(show_backtrace_star(bp))\n",
    "v"
   ]
  },
  {
   "cell_type": "code",
   "execution_count": 37,
   "metadata": {},
   "outputs": [
    {
     "name": "stdout",
     "output_type": "stream",
     "text": [
      "* . . . . . . . . . .\n",
      "b . . . . . . . . . .\n",
      "d a . . . . . . . . .\n",
      "a . . . . . . . . . .\n",
      ". . . . . . . . . . .\n",
      ". . . . . . . . . . .\n",
      ". . . . . . . . . . .\n",
      ". . . . . . . . . . .\n",
      ". . . . . . . . . . .\n",
      ". . . . . . . . . . .\n",
      ". . . . . . . . . . .\n",
      "\n",
      "\n"
     ]
    },
    {
     "data": {
      "text/plain": [
       "False"
      ]
     },
     "execution_count": 37,
     "metadata": {},
     "output_type": "execute_result"
    }
   ],
   "source": [
    "v, bp, t = is_interleave(s2, s3, il, return_backpointers=True, return_table=True)\n",
    "print(show_annotated_table(t, bp))\n",
    "print(show_backtrace(bp))\n",
    "print(show_backtrace_star(bp))\n",
    "v"
   ]
  },
  {
   "cell_type": "code",
   "execution_count": null,
   "metadata": {
    "collapsed": true
   },
   "outputs": [],
   "source": []
  }
 ],
 "metadata": {
  "kernelspec": {
   "display_name": "Python 3",
   "language": "python",
   "name": "python3"
  },
  "language_info": {
   "codemirror_mode": {
    "name": "ipython",
    "version": 3
   },
   "file_extension": ".py",
   "mimetype": "text/x-python",
   "name": "python",
   "nbconvert_exporter": "python",
   "pygments_lexer": "ipython3",
   "version": "3.5.2+"
  }
 },
 "nbformat": 4,
 "nbformat_minor": 1
}
