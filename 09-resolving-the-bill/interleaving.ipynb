{
 "cells": [
  {
   "cell_type": "markdown",
   "metadata": {},
   "source": [
    "# Interleaved strings\n",
    "\n",
    "Given two strings a and b and a target c, could c be formed form some interleaving/merge of a and b?\n",
    "\n",
    "For example,\n",
    "Given:\n",
    "s1 = \"aabcc\",\n",
    "s2 = \"dbbca\",\n",
    "\n",
    "When s3 = \"aadbbcbcac\", return true.\n",
    "When s3 = \"aadbbbaccc\", return false."
   ]
  },
  {
   "cell_type": "code",
   "execution_count": 1,
   "metadata": {
    "collapsed": true
   },
   "outputs": [],
   "source": [
    "import random\n",
    "import string"
   ]
  },
  {
   "cell_type": "code",
   "execution_count": 2,
   "metadata": {
    "collapsed": true
   },
   "outputs": [],
   "source": [
    "s1 = \"aabcc\"\n",
    "s2 = \"dbbca\"\n",
    "\n",
    "s3t = \"aadbbcbcac\"\n",
    "s3f = \"aadbbbaccc\""
   ]
  },
  {
   "cell_type": "code",
   "execution_count": 3,
   "metadata": {},
   "outputs": [
    {
     "data": {
      "text/plain": [
       "[(0, ''), (1, 'a'), (2, 'aa'), (3, 'aab'), (4, 'aabc'), (5, 'aabcc')]"
      ]
     },
     "execution_count": 3,
     "metadata": {},
     "output_type": "execute_result"
    }
   ],
   "source": [
    "[(i, s1[:i]) for i in range(len(s1)+1)]"
   ]
  },
  {
   "cell_type": "markdown",
   "metadata": {},
   "source": [
    "`dp_table[i, j]` is True if first `i` + `j` characters of `s3` can be formed from interleaving of first `i` characters of `s1` and first `j` characters of `s2`."
   ]
  },
  {
   "cell_type": "code",
   "execution_count": 5,
   "metadata": {},
   "outputs": [
    {
     "data": {
      "text/plain": [
       "[[True, False, False, False, False, False],\n",
       " [False, False, False, False, False, False],\n",
       " [False, False, False, False, False, False],\n",
       " [False, False, False, False, False, False],\n",
       " [False, False, False, False, False, False],\n",
       " [False, False, False, False, False, False]]"
      ]
     },
     "execution_count": 5,
     "metadata": {},
     "output_type": "execute_result"
    }
   ],
   "source": [
    "dp_table = [[False] * (len(s1) + 1) for _ in range(len(s2) + 1)]\n",
    "dp_table[0][0] = True\n",
    "dp_table"
   ]
  },
  {
   "cell_type": "code",
   "execution_count": 4,
   "metadata": {
    "scrolled": true
   },
   "outputs": [
    {
     "data": {
      "text/plain": [
       "{(0, 0): False,\n",
       " (0, 1): False,\n",
       " (0, 2): False,\n",
       " (0, 3): False,\n",
       " (0, 4): False,\n",
       " (0, 5): False,\n",
       " (1, 0): False,\n",
       " (1, 1): False,\n",
       " (1, 2): False,\n",
       " (1, 3): False,\n",
       " (1, 4): False,\n",
       " (1, 5): False,\n",
       " (2, 0): False,\n",
       " (2, 1): False,\n",
       " (2, 2): False,\n",
       " (2, 3): False,\n",
       " (2, 4): False,\n",
       " (2, 5): False,\n",
       " (3, 0): False,\n",
       " (3, 1): False,\n",
       " (3, 2): False,\n",
       " (3, 3): False,\n",
       " (3, 4): False,\n",
       " (3, 5): False,\n",
       " (4, 0): False,\n",
       " (4, 1): False,\n",
       " (4, 2): False,\n",
       " (4, 3): False,\n",
       " (4, 4): False,\n",
       " (4, 5): False,\n",
       " (5, 0): False,\n",
       " (5, 1): False,\n",
       " (5, 2): False,\n",
       " (5, 3): False,\n",
       " (5, 4): False,\n",
       " (5, 5): False}"
      ]
     },
     "execution_count": 4,
     "metadata": {},
     "output_type": "execute_result"
    }
   ],
   "source": [
    "dp_table = {(i, j): False\n",
    "           for i in range(len(s1)+1)\n",
    "           for j in range(len(s2)+1)}\n",
    "dp_table"
   ]
  },
  {
   "cell_type": "code",
   "execution_count": 5,
   "metadata": {
    "collapsed": true
   },
   "outputs": [],
   "source": [
    "def show_table(table):\n",
    "    return '\\n'.join(\n",
    "        ' '.join(str(table[i, j])[0] for j in sorted(set([k[1] for k in table])))\n",
    "        for i in sorted(set([k[0] for k in table])))        "
   ]
  },
  {
   "cell_type": "code",
   "execution_count": 6,
   "metadata": {
    "collapsed": true
   },
   "outputs": [],
   "source": [
    "def show_table(table):\n",
    "    return '\\n'.join(\n",
    "        ' '.join('T' if table[i, j] else '.' for j in sorted(set([k[1] for k in table])))\n",
    "        for i in sorted(set([k[0] for k in table])))        "
   ]
  },
  {
   "cell_type": "code",
   "execution_count": 7,
   "metadata": {},
   "outputs": [
    {
     "name": "stdout",
     "output_type": "stream",
     "text": [
      ". . . . . .\n",
      ". . . . . .\n",
      ". . . . . .\n",
      ". . . . . .\n",
      ". . . . . .\n",
      ". . . . . .\n"
     ]
    }
   ],
   "source": [
    "print(show_table(dp_table))"
   ]
  },
  {
   "cell_type": "code",
   "execution_count": 8,
   "metadata": {},
   "outputs": [
    {
     "name": "stdout",
     "output_type": "stream",
     "text": [
      "aabcc dbbca aadbbcbcac\n",
      "aa 0 0 ! ! ! True\n",
      "s2 0 1 ! d a False\n",
      "s2 0 2 ! b a False\n",
      "s2 0 3 ! b d False\n",
      "s2 0 4 ! c b False\n",
      "s2 0 5 ! a b False\n",
      "s1 1 0 a ! a True\n",
      "xx 1 1 a d a False\n",
      "xx 1 2 a b d False\n",
      "xx 1 3 a b b False\n",
      "xx 1 4 a c b False\n",
      "xx 1 5 a a c False\n",
      "s1 2 0 a ! a True\n",
      "s2 2 1 a d d True\n",
      "s2 2 2 a b b True\n",
      "s2 2 3 a b b True\n",
      "s2 2 4 a c c True\n",
      "xx 2 5 a a b False\n",
      "s1 3 0 b ! d False\n",
      "s1 3 1 b d b True\n",
      "s2 3 2 b b b True\n",
      "s1 3 2 b b b True\n",
      "xx 3 3 b b c False\n",
      "s1 3 4 b c b True\n",
      "xx 3 5 b a c False\n",
      "s1 4 0 c ! b False\n",
      "xx 4 1 c d b False\n",
      "s1 4 2 c b c True\n",
      "s2 4 3 c b b True\n",
      "s2 4 4 c c c True\n",
      "s1 4 4 c c c True\n",
      "s2 4 5 c a a True\n",
      "s1 5 0 c ! b False\n",
      "xx 5 1 c d c False\n",
      "xx 5 2 c b b False\n",
      "s1 5 3 c b c True\n",
      "xx 5 4 c c a False\n",
      "s1 5 5 c a c True\n",
      "T . . . . .\n",
      "T . . . . .\n",
      "T T T T T .\n",
      ". T T . T .\n",
      ". . T T T T\n",
      ". . . T . T\n"
     ]
    },
    {
     "data": {
      "text/plain": [
       "{(1, 0): (0, 0, 'a', 's1'),\n",
       " (2, 0): (1, 0, 'a', 's1'),\n",
       " (2, 1): (2, 0, 'd', 's2'),\n",
       " (2, 2): (2, 1, 'b', 's2'),\n",
       " (2, 3): (2, 2, 'b', 's2'),\n",
       " (2, 4): (2, 3, 'c', 's2'),\n",
       " (3, 1): (2, 1, 'b', 's1'),\n",
       " (3, 2): (2, 2, 'b', 's1'),\n",
       " (3, 4): (2, 4, 'b', 's1'),\n",
       " (4, 2): (3, 2, 'c', 's1'),\n",
       " (4, 3): (4, 2, 'b', 's2'),\n",
       " (4, 4): (3, 4, 'c', 's1'),\n",
       " (4, 5): (4, 4, 'a', 's2'),\n",
       " (5, 3): (4, 3, 'c', 's1'),\n",
       " (5, 5): (4, 5, 'c', 's1')}"
      ]
     },
     "execution_count": 8,
     "metadata": {},
     "output_type": "execute_result"
    }
   ],
   "source": [
    "s3 = s3t\n",
    "\n",
    "print(s1, s2, s3)\n",
    "\n",
    "dp_table = {(i, j): False\n",
    "           for i in range(len(s1)+1)\n",
    "           for j in range(len(s2)+1)}\n",
    "\n",
    "backpointers = {}\n",
    "\n",
    "for i in range(len(s1)+1):\n",
    "    for j in range(len(s2)+1):\n",
    "        if i == 0 and j == 0:\n",
    "            dp_table[i, j] = True\n",
    "            print('aa', i, j, '!', '!', '!', dp_table[i, j])\n",
    "        elif i == 0:\n",
    "            # extend by character from s2\n",
    "            if dp_table[i, j-1] and s2[j-1] == s3[i+j-1]:\n",
    "                dp_table[i, j] = True\n",
    "                backpointers[i, j] = (i, j-1, s2[j-1], 's2')\n",
    "            print('s2', i, j, '!', s2[j-1], s3[i+j-1], dp_table[i, j])\n",
    "        elif j == 0:\n",
    "            # extend by character from s1\n",
    "            if dp_table[i-1, j] and s1[i-1] == s3[i+j-1]:\n",
    "                dp_table[i, j] = True\n",
    "                backpointers[i, j] = (i-1, j, s1[i-1], 's1')\n",
    "            print('s1', i, j, s1[i-1], '!', s3[i+j-1], dp_table[i, j])\n",
    "        else:\n",
    "            # extend by character from s2\n",
    "            if dp_table[i, j-1] and s2[j-1] == s3[i+j-1]:\n",
    "                dp_table[i, j] = True\n",
    "                backpointers[i, j] = (i, j-1, s2[j-1], 's2')\n",
    "                print('s2', i, j, s1[i-1], s2[j-1], s3[i+j-1], dp_table[i, j])                \n",
    "            # extend by character from s1\n",
    "            if dp_table[i-1, j] and s1[i-1] == s3[i+j-1]:\n",
    "                dp_table[i, j] = True\n",
    "                backpointers[i, j] = (i-1, j, s1[i-1], 's1')                \n",
    "                print('s1', i, j, s1[i-1], s2[j-1], s3[i+j-1], dp_table[i, j])\n",
    "            if not dp_table[i, j]:\n",
    "                print('xx', i, j, s1[i-1], s2[j-1], s3[i+j-1], dp_table[i, j])\n",
    "\n",
    "print(show_table(dp_table))\n",
    "backpointers"
   ]
  },
  {
   "cell_type": "code",
   "execution_count": 11,
   "metadata": {
    "collapsed": true
   },
   "outputs": [],
   "source": [
    "def is_interleave(seq1, seq2, seq3, return_backpointers=False, return_table=False, debug=False):\n",
    "    \"\"\"Return true if seq3 is some interleaved merge of seq1 and seq2.\n",
    "    If return_backpointers, also return the set of backpointers to\n",
    "    reconstruct the interleaving\"\"\"\n",
    "    \n",
    "    # dp_table[i, j] is True if first i+j characters of seq is made up of \n",
    "    # an interleaving of the first i characters of seq1 and the \n",
    "    # first j characters of seq2\n",
    "    \n",
    "    if len(seq1) + len(seq2) != len(seq3):\n",
    "        if return_backpointers or return_table:\n",
    "            retval = [False]\n",
    "            if return_backpointers:\n",
    "                retval += [{}]\n",
    "            if return_table:\n",
    "                retval += [{}]\n",
    "            return tuple(retval)\n",
    "        else:\n",
    "            return False\n",
    "    \n",
    "    dp_table = {(i, j): False\n",
    "               for i in range(len(seq1)+1)\n",
    "               for j in range(len(seq2)+1)}\n",
    "\n",
    "    backpointers = {}\n",
    "\n",
    "    for i in range(len(seq1)+1):\n",
    "        for j in range(len(seq2)+1):\n",
    "            if i == 0 and j == 0:\n",
    "                dp_table[i, j] = True\n",
    "                if debug: print('xxxx', i, j, '!', '!', '!', dp_table[i, j])\n",
    "            elif i == 0:\n",
    "                # extend by character from seq2\n",
    "                if dp_table[i, j-1] and seq2[j-1] == seq3[i+j-1]:\n",
    "                    dp_table[i, j] = True\n",
    "                    backpointers[i, j] = (i, j-1, seq2[j-1], 'seq2')\n",
    "                if debug: print('seq2', i, j, '!', seq2[j-1], seq3[i+j-1], dp_table[i, j])\n",
    "            elif j == 0:\n",
    "                # extend by character from seq1\n",
    "                if dp_table[i-1, j] and seq1[i-1] == seq3[i+j-1]:\n",
    "                    dp_table[i, j] = True\n",
    "                    backpointers[i, j] = (i-1, j, seq1[i-1], 'seq1')\n",
    "                if debug: print('seq1', i, j, seq1[i-1], '!', seq3[i+j-1], dp_table[i, j])\n",
    "            else:\n",
    "                # extend by character from seq2\n",
    "                if dp_table[i, j-1] and seq2[j-1] == seq3[i+j-1]:\n",
    "                    dp_table[i, j] = True\n",
    "                    backpointers[i, j] = (i, j-1, seq2[j-1], 'seq2')\n",
    "                    if debug: print('seq2', i, j, seq1[i-1], seq2[j-1], seq3[i+j-1], dp_table[i, j])                \n",
    "                # extend by character from seq1\n",
    "                if dp_table[i-1, j] and seq1[i-1] == seq3[i+j-1]:\n",
    "                    dp_table[i, j] = True\n",
    "                    backpointers[i, j] = (i-1, j, seq1[i-1], 'seq1')                \n",
    "                    if debug: print('seq1', i, j, seq1[i-1], seq2[j-1], seq3[i+j-1], dp_table[i, j])\n",
    "                if not dp_table[i, j]:\n",
    "                    if debug: print('xxxx', i, j, seq1[i-1], seq2[j-1], seq3[i+j-1], dp_table[i, j])\n",
    "\n",
    "    if return_backpointers or return_table:\n",
    "        retval = [dp_table[len(seq1), len(seq2)]]\n",
    "        if return_backpointers:\n",
    "            retval += [backpointers]\n",
    "        if return_table:\n",
    "            retval += [dp_table]\n",
    "        return tuple(retval)\n",
    "    else:\n",
    "        return dp_table[len(seq1), len(seq2)]"
   ]
  },
  {
   "cell_type": "code",
   "execution_count": 12,
   "metadata": {},
   "outputs": [
    {
     "data": {
      "text/plain": [
       "True"
      ]
     },
     "execution_count": 12,
     "metadata": {},
     "output_type": "execute_result"
    }
   ],
   "source": [
    "is_interleave(s1, s2, s3t)"
   ]
  },
  {
   "cell_type": "code",
   "execution_count": 13,
   "metadata": {},
   "outputs": [
    {
     "data": {
      "text/plain": [
       "(True,\n",
       " {(1, 0): (0, 0, 'a', 'seq1'),\n",
       "  (2, 0): (1, 0, 'a', 'seq1'),\n",
       "  (2, 1): (2, 0, 'd', 'seq2'),\n",
       "  (2, 2): (2, 1, 'b', 'seq2'),\n",
       "  (2, 3): (2, 2, 'b', 'seq2'),\n",
       "  (2, 4): (2, 3, 'c', 'seq2'),\n",
       "  (3, 1): (2, 1, 'b', 'seq1'),\n",
       "  (3, 2): (2, 2, 'b', 'seq1'),\n",
       "  (3, 4): (2, 4, 'b', 'seq1'),\n",
       "  (4, 2): (3, 2, 'c', 'seq1'),\n",
       "  (4, 3): (4, 2, 'b', 'seq2'),\n",
       "  (4, 4): (3, 4, 'c', 'seq1'),\n",
       "  (4, 5): (4, 4, 'a', 'seq2'),\n",
       "  (5, 3): (4, 3, 'c', 'seq1'),\n",
       "  (5, 5): (4, 5, 'c', 'seq1')})"
      ]
     },
     "execution_count": 13,
     "metadata": {},
     "output_type": "execute_result"
    }
   ],
   "source": [
    "is_interleave(s1, s2, s3t, return_backpointers=True)"
   ]
  },
  {
   "cell_type": "code",
   "execution_count": 14,
   "metadata": {
    "scrolled": true
   },
   "outputs": [
    {
     "data": {
      "text/plain": [
       "(True,\n",
       " {(1, 0): (0, 0, 'a', 'seq1'),\n",
       "  (2, 0): (1, 0, 'a', 'seq1'),\n",
       "  (2, 1): (2, 0, 'd', 'seq2'),\n",
       "  (2, 2): (2, 1, 'b', 'seq2'),\n",
       "  (2, 3): (2, 2, 'b', 'seq2'),\n",
       "  (2, 4): (2, 3, 'c', 'seq2'),\n",
       "  (3, 1): (2, 1, 'b', 'seq1'),\n",
       "  (3, 2): (2, 2, 'b', 'seq1'),\n",
       "  (3, 4): (2, 4, 'b', 'seq1'),\n",
       "  (4, 2): (3, 2, 'c', 'seq1'),\n",
       "  (4, 3): (4, 2, 'b', 'seq2'),\n",
       "  (4, 4): (3, 4, 'c', 'seq1'),\n",
       "  (4, 5): (4, 4, 'a', 'seq2'),\n",
       "  (5, 3): (4, 3, 'c', 'seq1'),\n",
       "  (5, 5): (4, 5, 'c', 'seq1')},\n",
       " {(0, 0): True,\n",
       "  (0, 1): False,\n",
       "  (0, 2): False,\n",
       "  (0, 3): False,\n",
       "  (0, 4): False,\n",
       "  (0, 5): False,\n",
       "  (1, 0): True,\n",
       "  (1, 1): False,\n",
       "  (1, 2): False,\n",
       "  (1, 3): False,\n",
       "  (1, 4): False,\n",
       "  (1, 5): False,\n",
       "  (2, 0): True,\n",
       "  (2, 1): True,\n",
       "  (2, 2): True,\n",
       "  (2, 3): True,\n",
       "  (2, 4): True,\n",
       "  (2, 5): False,\n",
       "  (3, 0): False,\n",
       "  (3, 1): True,\n",
       "  (3, 2): True,\n",
       "  (3, 3): False,\n",
       "  (3, 4): True,\n",
       "  (3, 5): False,\n",
       "  (4, 0): False,\n",
       "  (4, 1): False,\n",
       "  (4, 2): True,\n",
       "  (4, 3): True,\n",
       "  (4, 4): True,\n",
       "  (4, 5): True,\n",
       "  (5, 0): False,\n",
       "  (5, 1): False,\n",
       "  (5, 2): False,\n",
       "  (5, 3): True,\n",
       "  (5, 4): False,\n",
       "  (5, 5): True})"
      ]
     },
     "execution_count": 14,
     "metadata": {},
     "output_type": "execute_result"
    }
   ],
   "source": [
    "is_interleave(s1, s2, s3t, return_backpointers=True, return_table=True)"
   ]
  },
  {
   "cell_type": "code",
   "execution_count": 15,
   "metadata": {},
   "outputs": [
    {
     "data": {
      "text/plain": [
       "False"
      ]
     },
     "execution_count": 15,
     "metadata": {},
     "output_type": "execute_result"
    }
   ],
   "source": [
    "is_interleave(s1, s2, s3f)"
   ]
  },
  {
   "cell_type": "code",
   "execution_count": 16,
   "metadata": {},
   "outputs": [
    {
     "name": "stdout",
     "output_type": "stream",
     "text": [
      "xxxx 0 0 ! ! ! True\n",
      "seq2 0 1 ! b a False\n",
      "seq2 0 2 ! b a False\n",
      "seq2 0 3 ! b a False\n",
      "seq1 1 0 a ! a True\n",
      "xxxx 1 1 a b a False\n",
      "xxxx 1 2 a b a False\n",
      "xxxx 1 3 a b b False\n",
      "seq1 2 0 a ! a True\n",
      "xxxx 2 1 a b a False\n",
      "xxxx 2 2 a b b False\n",
      "xxxx 2 3 a b a False\n",
      "seq1 3 0 a ! a True\n",
      "seq2 3 1 a b b True\n",
      "xxxx 3 2 a b a False\n",
      "xxxx 3 3 a b b False\n",
      "seq1 4 0 a ! b False\n",
      "seq1 4 1 a b a True\n",
      "seq2 4 2 a b b True\n",
      "seq2 4 3 a b b True\n"
     ]
    },
    {
     "data": {
      "text/plain": [
       "(True,\n",
       " {(1, 0): (0, 0, 'a', 'seq1'),\n",
       "  (2, 0): (1, 0, 'a', 'seq1'),\n",
       "  (3, 0): (2, 0, 'a', 'seq1'),\n",
       "  (3, 1): (3, 0, 'b', 'seq2'),\n",
       "  (4, 1): (3, 1, 'a', 'seq1'),\n",
       "  (4, 2): (4, 1, 'b', 'seq2'),\n",
       "  (4, 3): (4, 2, 'b', 'seq2')})"
      ]
     },
     "execution_count": 16,
     "metadata": {},
     "output_type": "execute_result"
    }
   ],
   "source": [
    "is_interleave('aaaa', 'bbb', 'aaababb', return_backpointers=True, debug=True)"
   ]
  },
  {
   "cell_type": "code",
   "execution_count": 17,
   "metadata": {
    "collapsed": true
   },
   "outputs": [],
   "source": [
    "def show_backtrace(bps):\n",
    "    i = max([0] + [k[0] for k in bps])\n",
    "    j = max([0] + [k[1] for k in bps])\n",
    "    chars = ''\n",
    "    if (i, j) in bps:\n",
    "        while i != 0 or j != 0:\n",
    "            if bps[i, j][3] == 'seq1':\n",
    "                chars += bps[i, j][2].upper()\n",
    "            else:\n",
    "                chars += bps[i, j][2]\n",
    "            i, j = bps[i, j][0], bps[i, j][1] \n",
    "        return ''.join(list(reversed(chars)))\n",
    "    else:\n",
    "        return ''"
   ]
  },
  {
   "cell_type": "code",
   "execution_count": 18,
   "metadata": {
    "collapsed": true
   },
   "outputs": [],
   "source": [
    "def make_string(length, alphabet=None):\n",
    "    if not alphabet:\n",
    "        alphabet = 'abcdefgh'\n",
    "    return ''.join(random.choice(alphabet) for _ in range(length))    "
   ]
  },
  {
   "cell_type": "code",
   "execution_count": 19,
   "metadata": {},
   "outputs": [
    {
     "data": {
      "text/plain": [
       "'fddagfdacgbdggabhgcgfddecffbghccebhefghbchhhbfdfgc'"
      ]
     },
     "execution_count": 19,
     "metadata": {},
     "output_type": "execute_result"
    }
   ],
   "source": [
    "make_string(50)"
   ]
  },
  {
   "cell_type": "code",
   "execution_count": 20,
   "metadata": {
    "collapsed": true
   },
   "outputs": [],
   "source": [
    "def interleave(s1, s2, wander_limit=10, debug=False):\n",
    "    i1 = i2 = wander = 0\n",
    "    interleaved = []\n",
    "    while i1 <= len(s1) and i2 <= len(s2):\n",
    "        if i1 == len(s1):\n",
    "            if debug: print(i1, i2, wander, 'remaining s2', s2[i2:])\n",
    "            interleaved += s2[i2:]\n",
    "            i2 = len(s2) + 1\n",
    "        elif i2 == len(s2):\n",
    "            if debug: print(i1, i2, wander, 'remaining s1', s1[i1:])\n",
    "            interleaved += s1[i1:]\n",
    "            i1 = len(s1) + 1\n",
    "        else:\n",
    "            if wander == wander_limit:\n",
    "                step = -1\n",
    "            elif wander == -wander_limit:\n",
    "                step = +1\n",
    "            else:\n",
    "                step = random.choice([+1, -1])\n",
    "            if step == +1:\n",
    "                if debug: print(i1, i2, wander, 'adding', s1[i1])\n",
    "                interleaved += s1[i1]\n",
    "                i1 += 1\n",
    "                wander += 1\n",
    "            else:\n",
    "                if debug: print(i1, i2, wander, 'adding', s2[i2])\n",
    "                interleaved += s2[i2]\n",
    "                i2 += 1\n",
    "                wander -= 1\n",
    "    return ''.join(interleaved)\n",
    "            "
   ]
  },
  {
   "cell_type": "code",
   "execution_count": 21,
   "metadata": {},
   "outputs": [
    {
     "name": "stdout",
     "output_type": "stream",
     "text": [
      "0 0 0 adding x\n",
      "0 1 -1 adding y\n",
      "0 2 -2 adding x\n",
      "0 3 -3 adding g\n",
      "1 3 -2 adding h\n",
      "2 3 -1 adding d\n",
      "3 3 0 adding v\n",
      "3 4 -1 adding x\n",
      "3 5 -2 adding d\n",
      "4 5 -1 adding v\n",
      "4 6 -2 adding a\n",
      "5 6 -1 adding g\n",
      "6 6 0 adding w\n",
      "6 7 -1 adding v\n",
      "6 8 -2 adding e\n",
      "7 8 -1 adding u\n",
      "7 9 -2 adding w\n",
      "7 10 -3 adding x\n",
      "7 11 -4 adding e\n",
      "8 11 -3 adding d\n",
      "9 11 -2 adding w\n",
      "9 12 -3 adding c\n",
      "10 12 -2 adding z\n",
      "10 13 -3 adding y\n",
      "10 14 -4 adding h\n",
      "11 14 -3 adding g\n",
      "12 14 -2 adding z\n",
      "12 15 -3 adding x\n",
      "12 16 -4 adding w\n",
      "12 17 -5 adding e\n",
      "13 17 -4 adding w\n",
      "13 18 -5 adding f\n",
      "14 18 -4 adding z\n",
      "14 19 -5 adding f\n",
      "15 19 -4 adding b\n",
      "16 19 -3 adding u\n",
      "16 20 -4 remaining s1 gchd\n"
     ]
    },
    {
     "data": {
      "text/plain": [
       "('ghddageedchgeffbgchd',\n",
       " 'xyxvxvwvuwxwzyzxwwzu',\n",
       " 'xyxghdvxdvagwveuwxedwczyhgzxwewfzfbugchd',\n",
       " 40)"
      ]
     },
     "execution_count": 21,
     "metadata": {},
     "output_type": "execute_result"
    }
   ],
   "source": [
    "s1 = make_string(20)\n",
    "s2 = make_string(20, alphabet='uvwxyz')\n",
    "il = interleave(s1, s2, wander_limit=5, debug=True)\n",
    "s1, s2, il, len(il)"
   ]
  },
  {
   "cell_type": "code",
   "execution_count": 22,
   "metadata": {},
   "outputs": [
    {
     "name": "stdout",
     "output_type": "stream",
     "text": [
      "xxxx 0 0 ! ! ! True\n",
      "seq2 0 1 ! g x False\n",
      "seq2 0 2 ! h y False\n",
      "seq2 0 3 ! d x False\n",
      "seq2 0 4 ! d g False\n",
      "seq2 0 5 ! a h False\n",
      "seq2 0 6 ! g d False\n",
      "seq2 0 7 ! e v False\n",
      "seq2 0 8 ! e x False\n",
      "seq2 0 9 ! d d False\n",
      "seq2 0 10 ! c v False\n",
      "seq2 0 11 ! h a False\n",
      "seq2 0 12 ! g g False\n",
      "seq2 0 13 ! e w False\n",
      "seq2 0 14 ! f v False\n",
      "seq2 0 15 ! f e False\n",
      "seq2 0 16 ! b u False\n",
      "seq2 0 17 ! g w False\n",
      "seq2 0 18 ! c x False\n",
      "seq2 0 19 ! h e False\n",
      "seq2 0 20 ! d d False\n",
      "seq1 1 0 x ! x True\n",
      "xxxx 1 1 x g y False\n",
      "xxxx 1 2 x h x False\n",
      "xxxx 1 3 x d g False\n",
      "xxxx 1 4 x d h False\n",
      "xxxx 1 5 x a d False\n",
      "xxxx 1 6 x g v False\n",
      "xxxx 1 7 x e x False\n",
      "xxxx 1 8 x e d False\n",
      "xxxx 1 9 x d v False\n",
      "xxxx 1 10 x c a False\n",
      "xxxx 1 11 x h g False\n",
      "xxxx 1 12 x g w False\n",
      "xxxx 1 13 x e v False\n",
      "xxxx 1 14 x f e False\n",
      "xxxx 1 15 x f u False\n",
      "xxxx 1 16 x b w False\n",
      "xxxx 1 17 x g x False\n",
      "xxxx 1 18 x c e False\n",
      "xxxx 1 19 x h d False\n",
      "xxxx 1 20 x d w False\n",
      "seq1 2 0 y ! y True\n",
      "xxxx 2 1 y g x False\n",
      "xxxx 2 2 y h g False\n",
      "xxxx 2 3 y d h False\n",
      "xxxx 2 4 y d d False\n",
      "xxxx 2 5 y a v False\n",
      "xxxx 2 6 y g x False\n",
      "xxxx 2 7 y e d False\n",
      "xxxx 2 8 y e v False\n",
      "xxxx 2 9 y d a False\n",
      "xxxx 2 10 y c g False\n",
      "xxxx 2 11 y h w False\n",
      "xxxx 2 12 y g v False\n",
      "xxxx 2 13 y e e False\n",
      "xxxx 2 14 y f u False\n",
      "xxxx 2 15 y f w False\n",
      "xxxx 2 16 y b x False\n",
      "xxxx 2 17 y g e False\n",
      "xxxx 2 18 y c d False\n",
      "xxxx 2 19 y h w False\n",
      "xxxx 2 20 y d c False\n",
      "seq1 3 0 x ! x True\n",
      "seq2 3 1 x g g True\n",
      "seq2 3 2 x h h True\n",
      "seq2 3 3 x d d True\n",
      "xxxx 3 4 x d v False\n",
      "xxxx 3 5 x a x False\n",
      "xxxx 3 6 x g d False\n",
      "xxxx 3 7 x e v False\n",
      "xxxx 3 8 x e a False\n",
      "xxxx 3 9 x d g False\n",
      "xxxx 3 10 x c w False\n",
      "xxxx 3 11 x h v False\n",
      "xxxx 3 12 x g e False\n",
      "xxxx 3 13 x e u False\n",
      "xxxx 3 14 x f w False\n",
      "xxxx 3 15 x f x False\n",
      "xxxx 3 16 x b e False\n",
      "xxxx 3 17 x g d False\n",
      "xxxx 3 18 x c w False\n",
      "xxxx 3 19 x h c False\n",
      "xxxx 3 20 x d z False\n",
      "seq1 4 0 v ! g False\n",
      "xxxx 4 1 v g h False\n",
      "xxxx 4 2 v h d False\n",
      "seq1 4 3 v d v True\n",
      "xxxx 4 4 v d x False\n",
      "xxxx 4 5 v a d False\n",
      "xxxx 4 6 v g v False\n",
      "xxxx 4 7 v e a False\n",
      "xxxx 4 8 v e g False\n",
      "xxxx 4 9 v d w False\n",
      "xxxx 4 10 v c v False\n",
      "xxxx 4 11 v h e False\n",
      "xxxx 4 12 v g u False\n",
      "xxxx 4 13 v e w False\n",
      "xxxx 4 14 v f x False\n",
      "xxxx 4 15 v f e False\n",
      "xxxx 4 16 v b d False\n",
      "xxxx 4 17 v g w False\n",
      "xxxx 4 18 v c c False\n",
      "xxxx 4 19 v h z False\n",
      "xxxx 4 20 v d y False\n",
      "seq1 5 0 x ! h False\n",
      "xxxx 5 1 x g d False\n",
      "xxxx 5 2 x h v False\n",
      "seq1 5 3 x d x True\n",
      "seq2 5 4 x d d True\n",
      "xxxx 5 5 x a v False\n",
      "xxxx 5 6 x g a False\n",
      "xxxx 5 7 x e g False\n",
      "xxxx 5 8 x e w False\n",
      "xxxx 5 9 x d v False\n",
      "xxxx 5 10 x c e False\n",
      "xxxx 5 11 x h u False\n",
      "xxxx 5 12 x g w False\n",
      "xxxx 5 13 x e x False\n",
      "xxxx 5 14 x f e False\n",
      "xxxx 5 15 x f d False\n",
      "xxxx 5 16 x b w False\n",
      "xxxx 5 17 x g c False\n",
      "xxxx 5 18 x c z False\n",
      "xxxx 5 19 x h y False\n",
      "xxxx 5 20 x d h False\n",
      "seq1 6 0 v ! d False\n",
      "xxxx 6 1 v g v False\n",
      "xxxx 6 2 v h x False\n",
      "xxxx 6 3 v d d False\n",
      "seq1 6 4 v d v True\n",
      "seq2 6 5 v a a True\n",
      "seq2 6 6 v g g True\n",
      "xxxx 6 7 v e w False\n",
      "xxxx 6 8 v e v False\n",
      "xxxx 6 9 v d e False\n",
      "xxxx 6 10 v c u False\n",
      "xxxx 6 11 v h w False\n",
      "xxxx 6 12 v g x False\n",
      "xxxx 6 13 v e e False\n",
      "xxxx 6 14 v f d False\n",
      "xxxx 6 15 v f w False\n",
      "xxxx 6 16 v b c False\n",
      "xxxx 6 17 v g z False\n",
      "xxxx 6 18 v c y False\n",
      "xxxx 6 19 v h h False\n",
      "xxxx 6 20 v d g False\n",
      "seq1 7 0 w ! v False\n",
      "xxxx 7 1 w g x False\n",
      "xxxx 7 2 w h d False\n",
      "xxxx 7 3 w d v False\n",
      "xxxx 7 4 w d a False\n",
      "xxxx 7 5 w a g False\n",
      "seq1 7 6 w g w True\n",
      "xxxx 7 7 w e v False\n",
      "xxxx 7 8 w e e False\n",
      "xxxx 7 9 w d u False\n",
      "xxxx 7 10 w c w False\n",
      "xxxx 7 11 w h x False\n",
      "xxxx 7 12 w g e False\n",
      "xxxx 7 13 w e d False\n",
      "xxxx 7 14 w f w False\n",
      "xxxx 7 15 w f c False\n",
      "xxxx 7 16 w b z False\n",
      "xxxx 7 17 w g y False\n",
      "xxxx 7 18 w c h False\n",
      "xxxx 7 19 w h g False\n",
      "xxxx 7 20 w d z False\n",
      "seq1 8 0 v ! x False\n",
      "xxxx 8 1 v g d False\n",
      "xxxx 8 2 v h v False\n",
      "xxxx 8 3 v d a False\n",
      "xxxx 8 4 v d g False\n",
      "xxxx 8 5 v a w False\n",
      "seq1 8 6 v g v True\n",
      "seq2 8 7 v e e True\n",
      "xxxx 8 8 v e u False\n",
      "xxxx 8 9 v d w False\n",
      "xxxx 8 10 v c x False\n",
      "xxxx 8 11 v h e False\n",
      "xxxx 8 12 v g d False\n",
      "xxxx 8 13 v e w False\n",
      "xxxx 8 14 v f c False\n",
      "xxxx 8 15 v f z False\n",
      "xxxx 8 16 v b y False\n",
      "xxxx 8 17 v g h False\n",
      "xxxx 8 18 v c g False\n",
      "xxxx 8 19 v h z False\n",
      "xxxx 8 20 v d x False\n",
      "seq1 9 0 u ! d False\n",
      "xxxx 9 1 u g v False\n",
      "xxxx 9 2 u h a False\n",
      "xxxx 9 3 u d g False\n",
      "xxxx 9 4 u d w False\n",
      "xxxx 9 5 u a v False\n",
      "xxxx 9 6 u g e False\n",
      "seq1 9 7 u e u True\n",
      "xxxx 9 8 u e w False\n",
      "xxxx 9 9 u d x False\n",
      "xxxx 9 10 u c e False\n",
      "xxxx 9 11 u h d False\n",
      "xxxx 9 12 u g w False\n",
      "xxxx 9 13 u e c False\n",
      "xxxx 9 14 u f z False\n",
      "xxxx 9 15 u f y False\n",
      "xxxx 9 16 u b h False\n",
      "xxxx 9 17 u g g False\n",
      "xxxx 9 18 u c z False\n",
      "xxxx 9 19 u h x False\n",
      "xxxx 9 20 u d w False\n",
      "seq1 10 0 w ! v False\n",
      "xxxx 10 1 w g a False\n",
      "xxxx 10 2 w h g False\n",
      "xxxx 10 3 w d w False\n",
      "xxxx 10 4 w d v False\n",
      "xxxx 10 5 w a e False\n",
      "xxxx 10 6 w g u False\n",
      "seq1 10 7 w e w True\n",
      "xxxx 10 8 w e x False\n",
      "xxxx 10 9 w d e False\n",
      "xxxx 10 10 w c d False\n",
      "xxxx 10 11 w h w False\n",
      "xxxx 10 12 w g c False\n",
      "xxxx 10 13 w e z False\n",
      "xxxx 10 14 w f y False\n",
      "xxxx 10 15 w f h False\n",
      "xxxx 10 16 w b g False\n",
      "xxxx 10 17 w g z False\n",
      "xxxx 10 18 w c x False\n",
      "xxxx 10 19 w h w False\n",
      "xxxx 10 20 w d e False\n",
      "seq1 11 0 x ! a False\n",
      "xxxx 11 1 x g g False\n",
      "xxxx 11 2 x h w False\n",
      "xxxx 11 3 x d v False\n",
      "xxxx 11 4 x d e False\n",
      "xxxx 11 5 x a u False\n",
      "xxxx 11 6 x g w False\n",
      "seq1 11 7 x e x True\n",
      "seq2 11 8 x e e True\n",
      "seq2 11 9 x d d True\n",
      "xxxx 11 10 x c w False\n",
      "xxxx 11 11 x h c False\n",
      "xxxx 11 12 x g z False\n",
      "xxxx 11 13 x e y False\n",
      "xxxx 11 14 x f h False\n",
      "xxxx 11 15 x f g False\n",
      "xxxx 11 16 x b z False\n",
      "xxxx 11 17 x g x False\n",
      "xxxx 11 18 x c w False\n",
      "xxxx 11 19 x h e False\n",
      "xxxx 11 20 x d w False\n",
      "seq1 12 0 w ! g False\n",
      "xxxx 12 1 w g w False\n",
      "xxxx 12 2 w h v False\n",
      "xxxx 12 3 w d e False\n",
      "xxxx 12 4 w d u False\n",
      "xxxx 12 5 w a w False\n",
      "xxxx 12 6 w g x False\n",
      "xxxx 12 7 w e e False\n",
      "xxxx 12 8 w e d False\n",
      "seq1 12 9 w d w True\n",
      "seq2 12 10 w c c True\n",
      "xxxx 12 11 w h z False\n",
      "xxxx 12 12 w g y False\n",
      "xxxx 12 13 w e h False\n",
      "xxxx 12 14 w f g False\n",
      "xxxx 12 15 w f z False\n",
      "xxxx 12 16 w b x False\n",
      "xxxx 12 17 w g w False\n",
      "xxxx 12 18 w c e False\n",
      "xxxx 12 19 w h w False\n",
      "xxxx 12 20 w d f False\n",
      "seq1 13 0 z ! w False\n",
      "xxxx 13 1 z g v False\n",
      "xxxx 13 2 z h e False\n",
      "xxxx 13 3 z d u False\n",
      "xxxx 13 4 z d w False\n",
      "xxxx 13 5 z a x False\n",
      "xxxx 13 6 z g e False\n",
      "xxxx 13 7 z e d False\n",
      "xxxx 13 8 z e w False\n",
      "xxxx 13 9 z d c False\n",
      "seq1 13 10 z c z True\n",
      "xxxx 13 11 z h y False\n",
      "xxxx 13 12 z g h False\n",
      "xxxx 13 13 z e g False\n",
      "xxxx 13 14 z f z False\n",
      "xxxx 13 15 z f x False\n",
      "xxxx 13 16 z b w False\n",
      "xxxx 13 17 z g e False\n",
      "xxxx 13 18 z c w False\n",
      "xxxx 13 19 z h f False\n",
      "xxxx 13 20 z d z False\n",
      "seq1 14 0 y ! v False\n",
      "xxxx 14 1 y g e False\n",
      "xxxx 14 2 y h u False\n",
      "xxxx 14 3 y d w False\n",
      "xxxx 14 4 y d x False\n",
      "xxxx 14 5 y a e False\n",
      "xxxx 14 6 y g d False\n",
      "xxxx 14 7 y e w False\n",
      "xxxx 14 8 y e c False\n",
      "xxxx 14 9 y d z False\n",
      "seq1 14 10 y c y True\n",
      "seq2 14 11 y h h True\n",
      "seq2 14 12 y g g True\n",
      "xxxx 14 13 y e z False\n",
      "xxxx 14 14 y f x False\n",
      "xxxx 14 15 y f w False\n",
      "xxxx 14 16 y b e False\n",
      "xxxx 14 17 y g w False\n",
      "xxxx 14 18 y c f False\n",
      "xxxx 14 19 y h z False\n",
      "xxxx 14 20 y d f False\n",
      "seq1 15 0 z ! e False\n",
      "xxxx 15 1 z g u False\n",
      "xxxx 15 2 z h w False\n",
      "xxxx 15 3 z d x False\n",
      "xxxx 15 4 z d e False\n",
      "xxxx 15 5 z a d False\n",
      "xxxx 15 6 z g w False\n",
      "xxxx 15 7 z e c False\n",
      "xxxx 15 8 z e z False\n",
      "xxxx 15 9 z d y False\n",
      "xxxx 15 10 z c h False\n",
      "xxxx 15 11 z h g False\n",
      "seq1 15 12 z g z True\n",
      "xxxx 15 13 z e x False\n",
      "xxxx 15 14 z f w False\n",
      "xxxx 15 15 z f e False\n",
      "xxxx 15 16 z b w False\n",
      "xxxx 15 17 z g f False\n",
      "xxxx 15 18 z c z False\n",
      "xxxx 15 19 z h f False\n",
      "xxxx 15 20 z d b False\n",
      "seq1 16 0 x ! u False\n",
      "xxxx 16 1 x g w False\n",
      "xxxx 16 2 x h x False\n",
      "xxxx 16 3 x d e False\n",
      "xxxx 16 4 x d d False\n",
      "xxxx 16 5 x a w False\n",
      "xxxx 16 6 x g c False\n",
      "xxxx 16 7 x e z False\n",
      "xxxx 16 8 x e y False\n",
      "xxxx 16 9 x d h False\n",
      "xxxx 16 10 x c g False\n",
      "xxxx 16 11 x h z False\n",
      "seq1 16 12 x g x True\n",
      "xxxx 16 13 x e w False\n",
      "xxxx 16 14 x f e False\n",
      "xxxx 16 15 x f w False\n",
      "xxxx 16 16 x b f False\n",
      "xxxx 16 17 x g z False\n",
      "xxxx 16 18 x c f False\n",
      "xxxx 16 19 x h b False\n",
      "xxxx 16 20 x d u False\n",
      "seq1 17 0 w ! w False\n",
      "xxxx 17 1 w g x False\n",
      "xxxx 17 2 w h e False\n",
      "xxxx 17 3 w d d False\n",
      "xxxx 17 4 w d w False\n",
      "xxxx 17 5 w a c False\n",
      "xxxx 17 6 w g z False\n",
      "xxxx 17 7 w e y False\n",
      "xxxx 17 8 w e h False\n",
      "xxxx 17 9 w d g False\n",
      "xxxx 17 10 w c z False\n",
      "xxxx 17 11 w h x False\n",
      "seq1 17 12 w g w True\n",
      "seq2 17 13 w e e True\n",
      "xxxx 17 14 w f w False\n",
      "xxxx 17 15 w f f False\n",
      "xxxx 17 16 w b z False\n",
      "xxxx 17 17 w g f False\n",
      "xxxx 17 18 w c b False\n",
      "xxxx 17 19 w h u False\n",
      "xxxx 17 20 w d g False\n",
      "seq1 18 0 w ! x False\n",
      "xxxx 18 1 w g e False\n",
      "xxxx 18 2 w h d False\n",
      "xxxx 18 3 w d w False\n",
      "xxxx 18 4 w d c False\n",
      "xxxx 18 5 w a z False\n",
      "xxxx 18 6 w g y False\n",
      "xxxx 18 7 w e h False\n",
      "xxxx 18 8 w e g False\n",
      "xxxx 18 9 w d z False\n",
      "xxxx 18 10 w c x False\n",
      "xxxx 18 11 w h w False\n",
      "xxxx 18 12 w g e False\n",
      "seq1 18 13 w e w True\n",
      "seq2 18 14 w f f True\n",
      "xxxx 18 15 w f z False\n",
      "xxxx 18 16 w b f False\n",
      "xxxx 18 17 w g b False\n",
      "xxxx 18 18 w c u False\n",
      "xxxx 18 19 w h g False\n",
      "xxxx 18 20 w d c False\n",
      "seq1 19 0 z ! e False\n",
      "xxxx 19 1 z g d False\n",
      "xxxx 19 2 z h w False\n",
      "xxxx 19 3 z d c False\n",
      "xxxx 19 4 z d z False\n",
      "xxxx 19 5 z a y False\n",
      "xxxx 19 6 z g h False\n",
      "xxxx 19 7 z e g False\n",
      "xxxx 19 8 z e z False\n",
      "xxxx 19 9 z d x False\n",
      "xxxx 19 10 z c w False\n",
      "xxxx 19 11 z h e False\n",
      "xxxx 19 12 z g w False\n",
      "xxxx 19 13 z e f False\n",
      "seq1 19 14 z f z True\n",
      "seq2 19 15 z f f True\n",
      "seq2 19 16 z b b True\n",
      "xxxx 19 17 z g u False\n",
      "xxxx 19 18 z c g False\n",
      "xxxx 19 19 z h c False\n",
      "xxxx 19 20 z d h False\n",
      "seq1 20 0 u ! d False\n",
      "xxxx 20 1 u g w False\n",
      "xxxx 20 2 u h c False\n",
      "xxxx 20 3 u d z False\n",
      "xxxx 20 4 u d y False\n",
      "xxxx 20 5 u a h False\n",
      "xxxx 20 6 u g g False\n",
      "xxxx 20 7 u e z False\n",
      "xxxx 20 8 u e x False\n",
      "xxxx 20 9 u d w False\n",
      "xxxx 20 10 u c e False\n",
      "xxxx 20 11 u h w False\n",
      "xxxx 20 12 u g f False\n",
      "xxxx 20 13 u e z False\n",
      "xxxx 20 14 u f f False\n",
      "xxxx 20 15 u f b False\n",
      "seq1 20 16 u b u True\n",
      "seq2 20 17 u g g True\n",
      "seq2 20 18 u c c True\n",
      "seq2 20 19 u h h True\n",
      "seq2 20 20 u d d True\n",
      "T . . . . . . . . . . . . . . . . . . . .\n",
      "T . . . . . . . . . . . . . . . . . . . .\n",
      "T . . . . . . . . . . . . . . . . . . . .\n",
      "T T T T . . . . . . . . . . . . . . . . .\n",
      ". . . T . . . . . . . . . . . . . . . . .\n",
      ". . . T T . . . . . . . . . . . . . . . .\n",
      ". . . . T T T . . . . . . . . . . . . . .\n",
      ". . . . . . T . . . . . . . . . . . . . .\n",
      ". . . . . . T T . . . . . . . . . . . . .\n",
      ". . . . . . . T . . . . . . . . . . . . .\n",
      ". . . . . . . T . . . . . . . . . . . . .\n",
      ". . . . . . . T T T . . . . . . . . . . .\n",
      ". . . . . . . . . T T . . . . . . . . . .\n",
      ". . . . . . . . . . T . . . . . . . . . .\n",
      ". . . . . . . . . . T T T . . . . . . . .\n",
      ". . . . . . . . . . . . T . . . . . . . .\n",
      ". . . . . . . . . . . . T . . . . . . . .\n",
      ". . . . . . . . . . . . T T . . . . . . .\n",
      ". . . . . . . . . . . . . T T . . . . . .\n",
      ". . . . . . . . . . . . . . T T T . . . .\n",
      ". . . . . . . . . . . . . . . . T T T T T\n"
     ]
    }
   ],
   "source": [
    "v, bp, t = is_interleave(s2, s1, il, return_backpointers=True, return_table=True, debug=True)\n",
    "print(show_table(t))"
   ]
  },
  {
   "cell_type": "code",
   "execution_count": 23,
   "metadata": {},
   "outputs": [
    {
     "data": {
      "text/plain": [
       "'XYXghdVXdVagWVeUWXedWcZYhgZXWeWfZfbUgchd'"
      ]
     },
     "execution_count": 23,
     "metadata": {},
     "output_type": "execute_result"
    }
   ],
   "source": [
    "show_backtrace(bp)"
   ]
  },
  {
   "cell_type": "code",
   "execution_count": 24,
   "metadata": {},
   "outputs": [
    {
     "name": "stdout",
     "output_type": "stream",
     "text": [
      "T . . . . . . . . . . . . . . . . . . . .\n",
      "T . . . . . . . . . . . . . . . . . . . .\n",
      "T . . . . . . . . . . . . . . . . . . . .\n",
      "T T T T . . . . . . . . . . . . . . . . .\n",
      ". . . T . . . . . . . . . . . . . . . . .\n",
      ". . . T T . . . . . . . . . . . . . . . .\n",
      ". . . . T T T . . . . . . . . . . . . . .\n",
      ". . . . . . T . . . . . . . . . . . . . .\n",
      ". . . . . . T T . . . . . . . . . . . . .\n",
      ". . . . . . . T . . . . . . . . . . . . .\n",
      ". . . . . . . T . . . . . . . . . . . . .\n",
      ". . . . . . . T T T . . . . . . . . . . .\n",
      ". . . . . . . . . T T . . . . . . . . . .\n",
      ". . . . . . . . . . T . . . . . . . . . .\n",
      ". . . . . . . . . . T T T . . . . . . . .\n",
      ". . . . . . . . . . . . T . . . . . . . .\n",
      ". . . . . . . . . . . . T . . . . . . . .\n",
      ". . . . . . . . . . . . T T . . . . . . .\n",
      ". . . . . . . . . . . . . T T . . . . . .\n",
      ". . . . . . . . . . . . . . T T T . . . .\n",
      ". . . . . . . . . . . . . . . . T T T T T\n",
      "XYXghdVXdVagWVeUWXedWcZYhgZXWeWfZfbUgchd\n"
     ]
    },
    {
     "data": {
      "text/plain": [
       "True"
      ]
     },
     "execution_count": 24,
     "metadata": {},
     "output_type": "execute_result"
    }
   ],
   "source": [
    "v, bp, t = is_interleave(s2, s1, il, return_backpointers=True, return_table=True)\n",
    "print(show_table(t))\n",
    "print(show_backtrace(bp))\n",
    "v"
   ]
  },
  {
   "cell_type": "code",
   "execution_count": 25,
   "metadata": {},
   "outputs": [
    {
     "data": {
      "text/plain": [
       "('fahfgbdechbafcbcadcfchhccffhfgeagdhdceebccbhgdefgd',\n",
       " 'badbgfaachhhhgghhebahhcbgabcfafeehfcabhbaaccgbcfae',\n",
       " 'badfbgfahfgbadecahcbahfhchbchagghhdcefchbahhhcbcgacfbcffhafefgeaegdhfcabhhbdcaaccgebcfebcaecbhgdefgd',\n",
       " 100)"
      ]
     },
     "execution_count": 25,
     "metadata": {},
     "output_type": "execute_result"
    }
   ],
   "source": [
    "s1 = make_string(50)\n",
    "s2 = make_string(50)\n",
    "il = interleave(s1, s2)\n",
    "s1, s2, il, len(il)"
   ]
  },
  {
   "cell_type": "code",
   "execution_count": 26,
   "metadata": {},
   "outputs": [
    {
     "name": "stdout",
     "output_type": "stream",
     "text": [
      "T . . . . . . . . . . . . . . . . . . . . . . . . . . . . . . . . . . . . . . . . . . . . . . . . . .\n",
      "T . . . . . . . . . . . . . . . . . . . . . . . . . . . . . . . . . . . . . . . . . . . . . . . . . .\n",
      "T . . . . . . . . . . . . . . . . . . . . . . . . . . . . . . . . . . . . . . . . . . . . . . . . . .\n",
      "T T . . . . . . . . . . . . . . . . . . . . . . . . . . . . . . . . . . . . . . . . . . . . . . . . .\n",
      ". T . . . . . . . . . . . . . . . . . . . . . . . . . . . . . . . . . . . . . . . . . . . . . . . . .\n",
      ". T . . . . . . . . . . . . . . . . . . . . . . . . . . . . . . . . . . . . . . . . . . . . . . . . .\n",
      ". T T T T T T . . . . . . . . . . . . . . . . . . . . . . . . . . . . . . . . . . . . . . . . . . . .\n",
      ". T . . . . T T T T . . . . . . . . . . . . . . . . . . . . . . . . . . . . . . . . . . . . . . . . .\n",
      ". . . . . . . . . T T . . . . . . . . . . . . . . . . . . . . . . . . . . . . . . . . . . . . . . . .\n",
      ". . . . . . . . . . T T T . . . . . . . . . . . . . . . . . . . . . . . . . . . . . . . . . . . . . .\n",
      ". . . . . . . . . . . . T T . . . . . . . . . . . . . . . . . . . . . . . . . . . . . . . . . . . . .\n",
      ". . . . . . . . . . . . . T T . . . . . . . . . . . . . . . . . . . . . . . . . . . . . . . . . . . .\n",
      ". . . . . . . . . . . . . . T T T . . . . . . . . . . . . . . . . . . . . . . . . . . . . . . . . . .\n",
      ". . . . . . . . . . . . . . . . T T . . . . . . . . . . . . . . . . . . . . . . . . . . . . . . . . .\n",
      ". . . . . . . . . . . . . . . . . T . . . . . . . . . . . . . . . . . . . . . . . . . . . . . . . . .\n",
      ". . . . . . . . . . . . . . . . . T . . . . . . . . . . . . . . . . . . . . . . . . . . . . . . . . .\n",
      ". . . . . . . . . . . . . . . . . T . . . . . . . . . . . . . . . . . . . . . . . . . . . . . . . . .\n",
      ". . . . . . . . . . . . . . . . . T T T . . . . . . . . . . . . . . . . . . . . . . . . . . . . . . .\n",
      ". . . . . . . . . . . . . . . . . . . T T T T . . . . . . . . . . . . . . . . . . . . . . . . . . . .\n",
      ". . . . . . . . . . . . . . . . . . . . . . T . . . . . . . . . . . . . . . . . . . . . . . . . . . .\n",
      ". . . . . . . . . . . . . . . . . . . . . . T T . . . . . . . . . . . . . . . . . . . . . . . . . . .\n",
      ". . . . . . . . . . . . . . . . . . . . . . T T . . . . . . . . . . . . . . . . . . . . . . . . . . .\n",
      ". . . . . . . . . . . . . . . . . . . . . . T T T . . . . . . . . . . . . . . . . . . . . . . . . . .\n",
      ". . . . . . . . . . . . . . . . . . . . . . . T . . . . . . . . . . . . . . . . . . . . . . . . . . .\n",
      ". . . . . . . . . . . . . . . . . . . . . . . T T . . . . . . . . . . . . . . . . . . . . . . . . . .\n",
      ". . . . . . . . . . . . . . . . . . . . . . . . T . . . . . . . . . . . . . . . . . . . . . . . . . .\n",
      ". . . . . . . . . . . . . . . . . . . . . . . . T T T . . . . . . . . . . . . . . . . . . . . . . . .\n",
      ". . . . . . . . . . . . . . . . . . . . . . . . . . T . . . . . . . . . . . . . . . . . . . . . . . .\n",
      ". . . . . . . . . . . . . . . . . . . . . . . . . . T T . . . . . . . . . . . . . . . . . . . . . . .\n",
      ". . . . . . . . . . . . . . . . . . . . . . . . . . T T T . . . . . . . . . . . . . . . . . . . . . .\n",
      ". . . . . . . . . . . . . . . . . . . . . . . . . . . . T T . . . . . . . . . . . . . . . . . . . . .\n",
      ". . . . . . . . . . . . . . . . . . . . . . . . . . . . T . . . . . . . . . . . . . . . . . . . . . .\n",
      ". . . . . . . . . . . . . . . . . . . . . . . . . . . . T T T T T . . . . . . . . . . . . . . . . . .\n",
      ". . . . . . . . . . . . . . . . . . . . . . . . . . . . . . T . T T T T . . . . . . . . . . . . . . .\n",
      ". . . . . . . . . . . . . . . . . . . . . . . . . . . . . . . . . . T . . . . . . . . . . . . . . . .\n",
      ". . . . . . . . . . . . . . . . . . . . . . . . . . . . . . . . . . T . . . . . . . . . . . . . . . .\n",
      ". . . . . . . . . . . . . . . . . . . . . . . . . . . . . . . . . . T . . . . . . . . . . . . . . . .\n",
      ". . . . . . . . . . . . . . . . . . . . . . . . . . . . . . . . . . T . . . . . . . . . . . . . . . .\n",
      ". . . . . . . . . . . . . . . . . . . . . . . . . . . . . . . . . . T T . . . . . . . . . . . . . . .\n",
      ". . . . . . . . . . . . . . . . . . . . . . . . . . . . . . . . . . T T . . . . . . . . . . . . . . .\n",
      ". . . . . . . . . . . . . . . . . . . . . . . . . . . . . . . . . . . T T T . . . . . . . . . . . . .\n",
      ". . . . . . . . . . . . . . . . . . . . . . . . . . . . . . . . . . . . . T . . . . . . . . . . . . .\n",
      ". . . . . . . . . . . . . . . . . . . . . . . . . . . . . . . . . . . . . T . . . . . . . . . . . . .\n",
      ". . . . . . . . . . . . . . . . . . . . . . . . . . . . . . . . . . . . . T . . . . . . . . . . . . .\n",
      ". . . . . . . . . . . . . . . . . . . . . . . . . . . . . . . . . . . . . T . . . . . . . . . . . . .\n",
      ". . . . . . . . . . . . . . . . . . . . . . . . . . . . . . . . . . . . . T T . . . . . . . . . . . .\n",
      ". . . . . . . . . . . . . . . . . . . . . . . . . . . . . . . . . . . . . . T . . . . . . . . . . . .\n",
      ". . . . . . . . . . . . . . . . . . . . . . . . . . . . . . . . . . . . . . T . . . . . . . . . . . .\n",
      ". . . . . . . . . . . . . . . . . . . . . . . . . . . . . . . . . . . . . . T T T T . . . . . . . . .\n",
      ". . . . . . . . . . . . . . . . . . . . . . . . . . . . . . . . . . . . . . . . . T . . . . . . . . .\n",
      ". . . . . . . . . . . . . . . . . . . . . . . . . . . . . . . . . . . . . . . . . T T T T T T T T T T\n",
      "BADfBGFahfgbAdecAhCbaHfHcHbcHaGGHHdcEfchBAhHHCBcGAcfBCfFhAFEfgeaEgdHFCABhHBdcAACCGeBCFebcAEcbhgdefgd\n"
     ]
    },
    {
     "data": {
      "text/plain": [
       "True"
      ]
     },
     "execution_count": 26,
     "metadata": {},
     "output_type": "execute_result"
    }
   ],
   "source": [
    "v, bp, t = is_interleave(s2, s1, il, return_backpointers=True, return_table=True)\n",
    "print(show_table(t))\n",
    "print(show_backtrace(bp))\n",
    "v"
   ]
  },
  {
   "cell_type": "code",
   "execution_count": 27,
   "metadata": {},
   "outputs": [
    {
     "name": "stdout",
     "output_type": "stream",
     "text": [
      "1000 loops, best of 3: 1.24 ms per loop\n"
     ]
    }
   ],
   "source": [
    "%%timeit\n",
    "is_interleave(s2, s1, il)"
   ]
  },
  {
   "cell_type": "code",
   "execution_count": 28,
   "metadata": {},
   "outputs": [
    {
     "name": "stdout",
     "output_type": "stream",
     "text": [
      "T T T T . . . . . . . . . . . . . . . . . . . . . . . . . . . . . . . . . . . . . . . . . . . . . . .\n",
      ". . . T T T T T . . . . . . . . . . . . . . . . . . . . . . . . . . . . . . . . . . . . . . . . . . .\n",
      ". . . . . . T . . . . . . . . . . . . . . . . . . . . . . . . . . . . . . . . . . . . . . . . . . . .\n",
      ". . . . . . T . . . . . . . . . . . . . . . . . . . . . . . . . . . . . . . . . . . . . . . . . . . .\n",
      ". . . . . . T . . . . . . . . . . . . . . . . . . . . . . . . . . . . . . . . . . . . . . . . . . . .\n",
      ". . . . . . T . . . . . . . . . . . . . . . . . . . . . . . . . . . . . . . . . . . . . . . . . . . .\n",
      ". . . . . . T T . . . . . . . . . . . . . . . . . . . . . . . . . . . . . . . . . . . . . . . . . . .\n",
      ". . . . . . . T . . . . . . . . . . . . . . . . . . . . . . . . . . . . . . . . . . . . . . . . . . .\n",
      ". . . . . . . T . . . . . . . . . . . . . . . . . . . . . . . . . . . . . . . . . . . . . . . . . . .\n",
      ". . . . . . . T T . . . . . . . . . . . . . . . . . . . . . . . . . . . . . . . . . . . . . . . . . .\n",
      ". . . . . . . . T T . . . . . . . . . . . . . . . . . . . . . . . . . . . . . . . . . . . . . . . . .\n",
      ". . . . . . . . . T . . . . . . . . . . . . . . . . . . . . . . . . . . . . . . . . . . . . . . . . .\n",
      ". . . . . . . . . T T . . . . . . . . . . . . . . . . . . . . . . . . . . . . . . . . . . . . . . . .\n",
      ". . . . . . . . . . T T . . . . . . . . . . . . . . . . . . . . . . . . . . . . . . . . . . . . . . .\n",
      ". . . . . . . . . . . T T . . . . . . . . . . . . . . . . . . . . . . . . . . . . . . . . . . . . . .\n",
      ". . . . . . . . . . . . T . . . . . . . . . . . . . . . . . . . . . . . . . . . . . . . . . . . . . .\n",
      ". . . . . . . . . . . . T T . . . . . . . . . . . . . . . . . . . . . . . . . . . . . . . . . . . . .\n",
      ". . . . . . . . . . . . . T T T T T . . . . . . . . . . . . . . . . . . . . . . . . . . . . . . . . .\n",
      ". . . . . . . . . . . . . . . . . T . . . . . . . . . . . . . . . . . . . . . . . . . . . . . . . . .\n",
      ". . . . . . . . . . . . . . . . . T T . . . . . . . . . . . . . . . . . . . . . . . . . . . . . . . .\n",
      ". . . . . . . . . . . . . . . . . . T . . . . . . . . . . . . . . . . . . . . . . . . . . . . . . . .\n",
      ". . . . . . . . . . . . . . . . . . T . . . . . . . . . . . . . . . . . . . . . . . . . . . . . . . .\n",
      ". . . . . . . . . . . . . . . . . . T T T T T . . . . . . . . . . . . . . . . . . . . . . . . . . . .\n",
      ". . . . . . . . . . . . . . . . . . . . T T T T T . . . . . . . . . . . . . . . . . . . . . . . . . .\n",
      ". . . . . . . . . . . . . . . . . . . . . . T . T T T . . . . . . . . . . . . . . . . . . . . . . . .\n",
      ". . . . . . . . . . . . . . . . . . . . . . . . . . T . . . . . . . . . . . . . . . . . . . . . . . .\n",
      ". . . . . . . . . . . . . . . . . . . . . . . . . . T T T T . . . . . . . . . . . . . . . . . . . . .\n",
      ". . . . . . . . . . . . . . . . . . . . . . . . . . . . T T . . . . . . . . . . . . . . . . . . . . .\n",
      ". . . . . . . . . . . . . . . . . . . . . . . . . . . . . T T T T . . . . . . . . . . . . . . . . . .\n",
      ". . . . . . . . . . . . . . . . . . . . . . . . . . . . . . T . T . . . . . . . . . . . . . . . . . .\n",
      ". . . . . . . . . . . . . . . . . . . . . . . . . . . . . . . . T T . . . . . . . . . . . . . . . . .\n",
      ". . . . . . . . . . . . . . . . . . . . . . . . . . . . . . . . T . . . . . . . . . . . . . . . . . .\n",
      ". . . . . . . . . . . . . . . . . . . . . . . . . . . . . . . . T T . . . . . . . . . . . . . . . . .\n",
      ". . . . . . . . . . . . . . . . . . . . . . . . . . . . . . . . . T . . . . . . . . . . . . . . . . .\n",
      ". . . . . . . . . . . . . . . . . . . . . . . . . . . . . . . . . T T T T T T T . . . . . . . . . . .\n",
      ". . . . . . . . . . . . . . . . . . . . . . . . . . . . . . . . . T . . . . T T T . . . . . . . . . .\n",
      ". . . . . . . . . . . . . . . . . . . . . . . . . . . . . . . . . . . . . . . . T . . . . . . . . . .\n",
      ". . . . . . . . . . . . . . . . . . . . . . . . . . . . . . . . . . . . . . . . T T T T T T . . . . .\n",
      ". . . . . . . . . . . . . . . . . . . . . . . . . . . . . . . . . . . . . . . . . . . . . T T T T . .\n",
      ". . . . . . . . . . . . . . . . . . . . . . . . . . . . . . . . . . . . . . . . . . . . . . . . T . .\n",
      ". . . . . . . . . . . . . . . . . . . . . . . . . . . . . . . . . . . . . . . . . . . . . . . . T . .\n",
      ". . . . . . . . . . . . . . . . . . . . . . . . . . . . . . . . . . . . . . . . . . . . . . . . T T T\n",
      ". . . . . . . . . . . . . . . . . . . . . . . . . . . . . . . . . . . . . . . . . . . . . . . . . . T\n",
      ". . . . . . . . . . . . . . . . . . . . . . . . . . . . . . . . . . . . . . . . . . . . . . . . . . T\n",
      ". . . . . . . . . . . . . . . . . . . . . . . . . . . . . . . . . . . . . . . . . . . . . . . . . . T\n",
      ". . . . . . . . . . . . . . . . . . . . . . . . . . . . . . . . . . . . . . . . . . . . . . . . . . T\n",
      ". . . . . . . . . . . . . . . . . . . . . . . . . . . . . . . . . . . . . . . . . . . . . . . . . . T\n",
      ". . . . . . . . . . . . . . . . . . . . . . . . . . . . . . . . . . . . . . . . . . . . . . . . . . T\n",
      ". . . . . . . . . . . . . . . . . . . . . . . . . . . . . . . . . . . . . . . . . . . . . . . . . . T\n",
      ". . . . . . . . . . . . . . . . . . . . . . . . . . . . . . . . . . . . . . . . . . . . . . . . . . T\n",
      ". . . . . . . . . . . . . . . . . . . . . . . . . . . . . . . . . . . . . . . . . . . . . . . . . . T\n",
      "badFbgfAHFGBaDECaHcBAhFhChBChAgghhDCeFCHbahhHcbCgaCFbcfFHafeFGEAeGDhfcabhHbDCaaccgEbcfEBCaeCBHGDEFGD\n"
     ]
    },
    {
     "data": {
      "text/plain": [
       "True"
      ]
     },
     "execution_count": 28,
     "metadata": {},
     "output_type": "execute_result"
    }
   ],
   "source": [
    "v, bp, t = is_interleave(s1, s2, il, return_backpointers=True, return_table=True)\n",
    "print(show_table(t))\n",
    "print(show_backtrace(bp))\n",
    "v"
   ]
  },
  {
   "cell_type": "code",
   "execution_count": 29,
   "metadata": {},
   "outputs": [
    {
     "data": {
      "text/plain": [
       "True"
      ]
     },
     "execution_count": 29,
     "metadata": {},
     "output_type": "execute_result"
    }
   ],
   "source": [
    "show_backtrace(bp).lower() == il"
   ]
  },
  {
   "cell_type": "code",
   "execution_count": 30,
   "metadata": {},
   "outputs": [
    {
     "data": {
      "text/plain": [
       "('gbaehdacgdebgaebecfbefcbehfgcheaccdehbfdfadebhcehd', False, False)"
      ]
     },
     "execution_count": 30,
     "metadata": {},
     "output_type": "execute_result"
    }
   ],
   "source": [
    "s3 = make_string(50)\n",
    "s3, is_interleave(s1, s3, il), is_interleave(s2, s3, il)"
   ]
  },
  {
   "cell_type": "code",
   "execution_count": 31,
   "metadata": {},
   "outputs": [
    {
     "name": "stdout",
     "output_type": "stream",
     "text": [
      "T . . . . . . . . . . . . . . . . . . . . . . . . . . . . . . . . . . . . . . . . . . . . . . . . . .\n",
      ". . . . . . . . . . . . . . . . . . . . . . . . . . . . . . . . . . . . . . . . . . . . . . . . . . .\n",
      ". . . . . . . . . . . . . . . . . . . . . . . . . . . . . . . . . . . . . . . . . . . . . . . . . . .\n",
      ". . . . . . . . . . . . . . . . . . . . . . . . . . . . . . . . . . . . . . . . . . . . . . . . . . .\n",
      ". . . . . . . . . . . . . . . . . . . . . . . . . . . . . . . . . . . . . . . . . . . . . . . . . . .\n",
      ". . . . . . . . . . . . . . . . . . . . . . . . . . . . . . . . . . . . . . . . . . . . . . . . . . .\n",
      ". . . . . . . . . . . . . . . . . . . . . . . . . . . . . . . . . . . . . . . . . . . . . . . . . . .\n",
      ". . . . . . . . . . . . . . . . . . . . . . . . . . . . . . . . . . . . . . . . . . . . . . . . . . .\n",
      ". . . . . . . . . . . . . . . . . . . . . . . . . . . . . . . . . . . . . . . . . . . . . . . . . . .\n",
      ". . . . . . . . . . . . . . . . . . . . . . . . . . . . . . . . . . . . . . . . . . . . . . . . . . .\n",
      ". . . . . . . . . . . . . . . . . . . . . . . . . . . . . . . . . . . . . . . . . . . . . . . . . . .\n",
      ". . . . . . . . . . . . . . . . . . . . . . . . . . . . . . . . . . . . . . . . . . . . . . . . . . .\n",
      ". . . . . . . . . . . . . . . . . . . . . . . . . . . . . . . . . . . . . . . . . . . . . . . . . . .\n",
      ". . . . . . . . . . . . . . . . . . . . . . . . . . . . . . . . . . . . . . . . . . . . . . . . . . .\n",
      ". . . . . . . . . . . . . . . . . . . . . . . . . . . . . . . . . . . . . . . . . . . . . . . . . . .\n",
      ". . . . . . . . . . . . . . . . . . . . . . . . . . . . . . . . . . . . . . . . . . . . . . . . . . .\n",
      ". . . . . . . . . . . . . . . . . . . . . . . . . . . . . . . . . . . . . . . . . . . . . . . . . . .\n",
      ". . . . . . . . . . . . . . . . . . . . . . . . . . . . . . . . . . . . . . . . . . . . . . . . . . .\n",
      ". . . . . . . . . . . . . . . . . . . . . . . . . . . . . . . . . . . . . . . . . . . . . . . . . . .\n",
      ". . . . . . . . . . . . . . . . . . . . . . . . . . . . . . . . . . . . . . . . . . . . . . . . . . .\n",
      ". . . . . . . . . . . . . . . . . . . . . . . . . . . . . . . . . . . . . . . . . . . . . . . . . . .\n",
      ". . . . . . . . . . . . . . . . . . . . . . . . . . . . . . . . . . . . . . . . . . . . . . . . . . .\n",
      ". . . . . . . . . . . . . . . . . . . . . . . . . . . . . . . . . . . . . . . . . . . . . . . . . . .\n",
      ". . . . . . . . . . . . . . . . . . . . . . . . . . . . . . . . . . . . . . . . . . . . . . . . . . .\n",
      ". . . . . . . . . . . . . . . . . . . . . . . . . . . . . . . . . . . . . . . . . . . . . . . . . . .\n",
      ". . . . . . . . . . . . . . . . . . . . . . . . . . . . . . . . . . . . . . . . . . . . . . . . . . .\n",
      ". . . . . . . . . . . . . . . . . . . . . . . . . . . . . . . . . . . . . . . . . . . . . . . . . . .\n",
      ". . . . . . . . . . . . . . . . . . . . . . . . . . . . . . . . . . . . . . . . . . . . . . . . . . .\n",
      ". . . . . . . . . . . . . . . . . . . . . . . . . . . . . . . . . . . . . . . . . . . . . . . . . . .\n",
      ". . . . . . . . . . . . . . . . . . . . . . . . . . . . . . . . . . . . . . . . . . . . . . . . . . .\n",
      ". . . . . . . . . . . . . . . . . . . . . . . . . . . . . . . . . . . . . . . . . . . . . . . . . . .\n",
      ". . . . . . . . . . . . . . . . . . . . . . . . . . . . . . . . . . . . . . . . . . . . . . . . . . .\n",
      ". . . . . . . . . . . . . . . . . . . . . . . . . . . . . . . . . . . . . . . . . . . . . . . . . . .\n",
      ". . . . . . . . . . . . . . . . . . . . . . . . . . . . . . . . . . . . . . . . . . . . . . . . . . .\n",
      ". . . . . . . . . . . . . . . . . . . . . . . . . . . . . . . . . . . . . . . . . . . . . . . . . . .\n",
      ". . . . . . . . . . . . . . . . . . . . . . . . . . . . . . . . . . . . . . . . . . . . . . . . . . .\n",
      ". . . . . . . . . . . . . . . . . . . . . . . . . . . . . . . . . . . . . . . . . . . . . . . . . . .\n",
      ". . . . . . . . . . . . . . . . . . . . . . . . . . . . . . . . . . . . . . . . . . . . . . . . . . .\n",
      ". . . . . . . . . . . . . . . . . . . . . . . . . . . . . . . . . . . . . . . . . . . . . . . . . . .\n",
      ". . . . . . . . . . . . . . . . . . . . . . . . . . . . . . . . . . . . . . . . . . . . . . . . . . .\n",
      ". . . . . . . . . . . . . . . . . . . . . . . . . . . . . . . . . . . . . . . . . . . . . . . . . . .\n",
      ". . . . . . . . . . . . . . . . . . . . . . . . . . . . . . . . . . . . . . . . . . . . . . . . . . .\n",
      ". . . . . . . . . . . . . . . . . . . . . . . . . . . . . . . . . . . . . . . . . . . . . . . . . . .\n",
      ". . . . . . . . . . . . . . . . . . . . . . . . . . . . . . . . . . . . . . . . . . . . . . . . . . .\n",
      ". . . . . . . . . . . . . . . . . . . . . . . . . . . . . . . . . . . . . . . . . . . . . . . . . . .\n",
      ". . . . . . . . . . . . . . . . . . . . . . . . . . . . . . . . . . . . . . . . . . . . . . . . . . .\n",
      ". . . . . . . . . . . . . . . . . . . . . . . . . . . . . . . . . . . . . . . . . . . . . . . . . . .\n",
      ". . . . . . . . . . . . . . . . . . . . . . . . . . . . . . . . . . . . . . . . . . . . . . . . . . .\n",
      ". . . . . . . . . . . . . . . . . . . . . . . . . . . . . . . . . . . . . . . . . . . . . . . . . . .\n",
      ". . . . . . . . . . . . . . . . . . . . . . . . . . . . . . . . . . . . . . . . . . . . . . . . . . .\n",
      ". . . . . . . . . . . . . . . . . . . . . . . . . . . . . . . . . . . . . . . . . . . . . . . . . . .\n",
      "\n"
     ]
    },
    {
     "data": {
      "text/plain": [
       "False"
      ]
     },
     "execution_count": 31,
     "metadata": {},
     "output_type": "execute_result"
    }
   ],
   "source": [
    "v, bp, t = is_interleave(s1, s3, il, return_backpointers=True, return_table=True)\n",
    "print(show_table(t))\n",
    "print(show_backtrace(bp))\n",
    "v"
   ]
  },
  {
   "cell_type": "code",
   "execution_count": 32,
   "metadata": {
    "collapsed": true
   },
   "outputs": [],
   "source": [
    "def is_interleave_recursive(s1, s2, s3):\n",
    "    if not s1:\n",
    "        return s2 == s3\n",
    "    elif not s2:\n",
    "        return s1 == s3\n",
    "    else:\n",
    "        if s1[-1] == s2[-1] and s1[-1] == s3[-1]:\n",
    "            return is_interleave_recursive(s1[:-1], s2, s3[:-1]) or is_interleave(s1, s2[:-1], s3[:-1])\n",
    "        elif s1[-1] == s3[-1]:\n",
    "            return is_interleave_recursive(s1[:-1], s2, s3[:-1])\n",
    "        elif s2[-1] == s3[-1]:\n",
    "            return is_interleave(s1, s2[:-1], s3[:-1])\n",
    "        else:\n",
    "            return False"
   ]
  },
  {
   "cell_type": "code",
   "execution_count": 33,
   "metadata": {
    "collapsed": true
   },
   "outputs": [],
   "source": [
    "s1 = make_string(500)\n",
    "s2 = make_string(500)\n",
    "s3 = make_string(500)\n",
    "s12 = interleave(s1, s2)\n",
    "s23 = interleave(s2, s3)"
   ]
  },
  {
   "cell_type": "code",
   "execution_count": 34,
   "metadata": {},
   "outputs": [
    {
     "data": {
      "text/plain": [
       "True"
      ]
     },
     "execution_count": 34,
     "metadata": {},
     "output_type": "execute_result"
    }
   ],
   "source": [
    "is_interleave_recursive(s1, s2, s12)"
   ]
  },
  {
   "cell_type": "code",
   "execution_count": 35,
   "metadata": {},
   "outputs": [
    {
     "data": {
      "text/plain": [
       "False"
      ]
     },
     "execution_count": 35,
     "metadata": {},
     "output_type": "execute_result"
    }
   ],
   "source": [
    "is_interleave_recursive(s1, s2, s23)"
   ]
  },
  {
   "cell_type": "markdown",
   "metadata": {},
   "source": [
    "## Example"
   ]
  },
  {
   "cell_type": "code",
   "execution_count": 36,
   "metadata": {
    "collapsed": true
   },
   "outputs": [],
   "source": [
    "def show_annotated_table(table, bps):\n",
    "    return '\\n'.join(' '.join('*' if (i, j) == (0, 0) else bps[i, j][2] if table[i, j] else '.' for j in sorted(set([k[1] for k in table])))\n",
    "        for i in sorted(set([k[0] for k in table])))"
   ]
  },
  {
   "cell_type": "code",
   "execution_count": 37,
   "metadata": {
    "collapsed": true
   },
   "outputs": [],
   "source": [
    "def show_backtrace_star(bps):\n",
    "    i = max([0] + [k[0] for k in bps])\n",
    "    j = max([0] + [k[1] for k in bps])\n",
    "    chars = ''\n",
    "    stars = ''\n",
    "    if (i, j) in bps:\n",
    "        while i != 0 or j != 0:\n",
    "            chars += bps[i, j][2]\n",
    "            if bps[i, j][3] == 'seq1':\n",
    "                stars += '*'\n",
    "            else:\n",
    "                stars += ' '\n",
    "            i, j = bps[i, j][0], bps[i, j][1] \n",
    "        return ''.join(list(reversed(chars))) + '\\n' + ''.join(list(reversed(stars)))\n",
    "    else:\n",
    "        return ''"
   ]
  },
  {
   "cell_type": "code",
   "execution_count": 73,
   "metadata": {},
   "outputs": [
    {
     "name": "stdout",
     "output_type": "stream",
     "text": [
      "0: accbadaadc\n",
      "1: bbbbaabada\n",
      "2: cdaacacadcddbccacdab\n",
      "3: bbcdabbaaabcbcadcaac\n",
      "4: accbbabbdbaaabadaadc\n",
      "5: acadcdddab\n",
      "6: aacccabaddcdaddaabdc\n"
     ]
    },
    {
     "data": {
      "text/plain": [
       "['accbbabbdbaaabadaadc']"
      ]
     },
     "execution_count": 73,
     "metadata": {},
     "output_type": "execute_result"
    }
   ],
   "source": [
    "s1 = make_string(10, alphabet='abcd')\n",
    "s2 = make_string(10, alphabet='abcd')\n",
    "s3 = make_string(10, alphabet='abcd')\n",
    "s4 = make_string(10, alphabet='abcd')\n",
    "il = interleave(s1, s2)\n",
    "bs = [s3, il, interleave(s3, s4), interleave(s2, s4), interleave(s1, s3)]\n",
    "random.shuffle(bs)\n",
    "bs = [s1, s2] + bs\n",
    "tg = [l for l in bs if is_interleave(s1, s2, l)]\n",
    "print('\\n'.join(['{}: {}'.format(i, s) for i, s in enumerate(bs)]))\n",
    "tg"
   ]
  },
  {
   "cell_type": "code",
   "execution_count": 74,
   "metadata": {},
   "outputs": [
    {
     "name": "stdout",
     "output_type": "stream",
     "text": [
      "* . . . . . . . . . .\n",
      "a . . . . . . . . . .\n",
      "c . . . . . . . . . .\n",
      "c b b . . . . . . . .\n",
      "b b . . . . . . . . .\n",
      ". a b b . . . . . . .\n",
      ". . . d b a a . . . .\n",
      ". . . . a a a b a d a\n",
      ". . . . a a . a . a a\n",
      ". . . . . . . d a . d\n",
      ". . . . . . . . . . c\n",
      "ACCbBAbbDbaaAbadaADC\n",
      "accbbabbdbaaabadaadc\n",
      "*** **  *   *    ***\n"
     ]
    },
    {
     "data": {
      "text/plain": [
       "True"
      ]
     },
     "execution_count": 74,
     "metadata": {},
     "output_type": "execute_result"
    }
   ],
   "source": [
    "v, bp, t = is_interleave(s1, s2, il, return_backpointers=True, return_table=True)\n",
    "print(show_annotated_table(t, bp))\n",
    "print(show_backtrace(bp))\n",
    "print(show_backtrace_star(bp))\n",
    "v"
   ]
  },
  {
   "cell_type": "code",
   "execution_count": 75,
   "metadata": {},
   "outputs": [
    {
     "name": "stdout",
     "output_type": "stream",
     "text": [
      "aacccabaddcdaddaabdc\n",
      " * ** ** *  *   * **\n"
     ]
    },
    {
     "data": {
      "text/plain": [
       "6"
      ]
     },
     "execution_count": 75,
     "metadata": {},
     "output_type": "execute_result"
    }
   ],
   "source": [
    "ind = [i for i, b in enumerate(bs) if is_interleave(s1, s3, b)][0]\n",
    "v, bp = is_interleave(s1, s3, bs[ind], return_backpointers=True)\n",
    "print(show_backtrace_star(bp))\n",
    "ind"
   ]
  },
  {
   "cell_type": "code",
   "execution_count": 39,
   "metadata": {},
   "outputs": [
    {
     "name": "stdout",
     "output_type": "stream",
     "text": [
      "* . . . . . . . . . .\n",
      "b d . . . . . . . . .\n",
      ". b c c . . . . . . .\n",
      ". . . d . . . . . . .\n",
      ". . . c a a . . . . .\n",
      ". . . a a a . . . . .\n",
      ". . . a a a d a . . .\n",
      ". . . a a . a a b a c\n",
      ". . . . d a . . . . d\n",
      ". . . . . . . . . . d\n",
      ". . . . . . . . . . c\n",
      "BdBccDCaaAAdaAbacDDC\n",
      "bdbccdcaaaadaabacddc\n",
      "* *  **  **  *   ***\n"
     ]
    },
    {
     "data": {
      "text/plain": [
       "True"
      ]
     },
     "execution_count": 39,
     "metadata": {},
     "output_type": "execute_result"
    }
   ],
   "source": [
    "v, bp, t = is_interleave(s2, s1, il, return_backpointers=True, return_table=True)\n",
    "print(show_annotated_table(t, bp))\n",
    "print(show_backtrace(bp))\n",
    "print(show_backtrace_star(bp))\n",
    "v"
   ]
  },
  {
   "cell_type": "code",
   "execution_count": 40,
   "metadata": {},
   "outputs": [
    {
     "name": "stdout",
     "output_type": "stream",
     "text": [
      "* . . . . . . . . . .\n",
      ". . . . . . . . . . .\n",
      ". . . . . . . . . . .\n",
      ". . . . . . . . . . .\n",
      ". . . . . . . . . . .\n",
      ". . . . . . . . . . .\n",
      ". . . . . . . . . . .\n",
      ". . . . . . . . . . .\n",
      ". . . . . . . . . . .\n",
      ". . . . . . . . . . .\n",
      ". . . . . . . . . . .\n",
      "\n",
      "\n"
     ]
    },
    {
     "data": {
      "text/plain": [
       "False"
      ]
     },
     "execution_count": 40,
     "metadata": {},
     "output_type": "execute_result"
    }
   ],
   "source": [
    "v, bp, t = is_interleave(s1, s3, il, return_backpointers=True, return_table=True)\n",
    "print(show_annotated_table(t, bp))\n",
    "print(show_backtrace(bp))\n",
    "print(show_backtrace_star(bp))\n",
    "v"
   ]
  },
  {
   "cell_type": "code",
   "execution_count": 41,
   "metadata": {},
   "outputs": [
    {
     "name": "stdout",
     "output_type": "stream",
     "text": [
      "* . . . . . . . . . .\n",
      "b . . . . . . . . . .\n",
      ". . . . . . . . . . .\n",
      ". . . . . . . . . . .\n",
      ". . . . . . . . . . .\n",
      ". . . . . . . . . . .\n",
      ". . . . . . . . . . .\n",
      ". . . . . . . . . . .\n",
      ". . . . . . . . . . .\n",
      ". . . . . . . . . . .\n",
      ". . . . . . . . . . .\n",
      "B\n",
      "b\n",
      "*\n"
     ]
    },
    {
     "data": {
      "text/plain": [
       "False"
      ]
     },
     "execution_count": 41,
     "metadata": {},
     "output_type": "execute_result"
    }
   ],
   "source": [
    "v, bp, t = is_interleave(s2, s3, il, return_backpointers=True, return_table=True)\n",
    "print(show_annotated_table(t, bp))\n",
    "print(show_backtrace(bp))\n",
    "print(show_backtrace_star(bp))\n",
    "v"
   ]
  },
  {
   "cell_type": "markdown",
   "metadata": {
    "collapsed": true
   },
   "source": [
    "# Make puzzle data"
   ]
  },
  {
   "cell_type": "code",
   "execution_count": 47,
   "metadata": {
    "collapsed": true
   },
   "outputs": [],
   "source": [
    "my_bill = make_string(200)\n",
    "friend_bill = make_string(200)\n",
    "other_bills = [make_string(200) for _ in range(98)]\n",
    "\n",
    "target_interleaved = interleave(my_bill, friend_bill)\n",
    "mine_interleaved = [interleave(my_bill, o) for o in random.sample(other_bills, 21)]\n",
    "friend_interleaved = [interleave(friend_bill, o) for o in random.sample(other_bills, 13)]\n",
    "other_interleaved = []\n",
    "for _ in range(103):\n",
    "    s1, s2 = random.sample(other_bills, 2)\n",
    "    other_interleaved += [interleave(s1, s2)]"
   ]
  },
  {
   "cell_type": "code",
   "execution_count": 48,
   "metadata": {
    "collapsed": true
   },
   "outputs": [],
   "source": [
    "all_targets = [target_interleaved] + mine_interleaved + friend_interleaved + other_interleaved"
   ]
  },
  {
   "cell_type": "code",
   "execution_count": 49,
   "metadata": {},
   "outputs": [
    {
     "name": "stdout",
     "output_type": "stream",
     "text": [
      "CPU times: user 3.16 s, sys: 8 ms, total: 3.16 s\n",
      "Wall time: 3.17 s\n"
     ]
    },
    {
     "data": {
      "text/plain": [
       "[0]"
      ]
     },
     "execution_count": 49,
     "metadata": {},
     "output_type": "execute_result"
    }
   ],
   "source": [
    "%time [i for i, s12 in enumerate(all_targets) if is_interleave(my_bill, friend_bill, s12)]"
   ]
  },
  {
   "cell_type": "code",
   "execution_count": 50,
   "metadata": {},
   "outputs": [
    {
     "name": "stdout",
     "output_type": "stream",
     "text": [
      "CPU times: user 788 ms, sys: 0 ns, total: 788 ms\n",
      "Wall time: 789 ms\n"
     ]
    },
    {
     "data": {
      "text/plain": [
       "[0]"
      ]
     },
     "execution_count": 50,
     "metadata": {},
     "output_type": "execute_result"
    }
   ],
   "source": [
    "%time [i for i, s12 in enumerate(all_targets) if is_interleave_recursive(my_bill, friend_bill, s12)]"
   ]
  },
  {
   "cell_type": "code",
   "execution_count": 51,
   "metadata": {
    "collapsed": true
   },
   "outputs": [],
   "source": [
    "bill_set = all_targets + random.sample(other_bills, 8)\n",
    "random.shuffle(bill_set)\n",
    "bill_set = [my_bill, friend_bill] + bill_set\n",
    "\n",
    "# with open('09-bills.txt', 'w') as f:\n",
    "#     for i, b in enumerate(bill_set):\n",
    "#         f.write('{}: {}\\n'.format(i, b))"
   ]
  },
  {
   "cell_type": "code",
   "execution_count": null,
   "metadata": {
    "collapsed": true
   },
   "outputs": [],
   "source": []
  }
 ],
 "metadata": {
  "kernelspec": {
   "display_name": "Python 3",
   "language": "python",
   "name": "python3"
  },
  "language_info": {
   "codemirror_mode": {
    "name": "ipython",
    "version": 3
   },
   "file_extension": ".py",
   "mimetype": "text/x-python",
   "name": "python",
   "nbconvert_exporter": "python",
   "pygments_lexer": "ipython3",
   "version": "3.5.2+"
  }
 },
 "nbformat": 4,
 "nbformat_minor": 1
}
