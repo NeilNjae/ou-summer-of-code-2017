{
 "cells": [
  {
   "cell_type": "markdown",
   "metadata": {},
   "source": [
    "# Interleaved strings\n",
    "\n",
    "Given two strings a and b and a target c, could c be formed form some interleaving/merge of a and b?\n",
    "\n",
    "For example,\n",
    "Given:\n",
    "s1 = \"aabcc\",\n",
    "s2 = \"dbbca\",\n",
    "\n",
    "When s3 = \"aadbbcbcac\", return true.\n",
    "When s3 = \"aadbbbaccc\", return false."
   ]
  },
  {
   "cell_type": "code",
   "execution_count": 1,
   "metadata": {
    "collapsed": true
   },
   "outputs": [],
   "source": [
    "import random\n",
    "import string"
   ]
  },
  {
   "cell_type": "code",
   "execution_count": 2,
   "metadata": {
    "collapsed": true
   },
   "outputs": [],
   "source": [
    "s1 = \"aabcc\"\n",
    "s2 = \"dbbca\"\n",
    "\n",
    "s3t = \"aadbbcbcac\"\n",
    "s3f = \"aadbbbaccc\""
   ]
  },
  {
   "cell_type": "code",
   "execution_count": 3,
   "metadata": {},
   "outputs": [
    {
     "data": {
      "text/plain": [
       "[(0, ''), (1, 'a'), (2, 'aa'), (3, 'aab'), (4, 'aabc'), (5, 'aabcc')]"
      ]
     },
     "execution_count": 3,
     "metadata": {},
     "output_type": "execute_result"
    }
   ],
   "source": [
    "[(i, s1[:i]) for i in range(len(s1)+1)]"
   ]
  },
  {
   "cell_type": "markdown",
   "metadata": {},
   "source": [
    "`dp_table[i, j]` is True if first `i` + `j` characters of `s3` can be formed from interleaving of first `i` characters of `s1` and first `j` characters of `s2`."
   ]
  },
  {
   "cell_type": "code",
   "execution_count": 4,
   "metadata": {},
   "outputs": [
    {
     "data": {
      "text/plain": [
       "[[True, False, False, False, False, False],\n",
       " [False, False, False, False, False, False],\n",
       " [False, False, False, False, False, False],\n",
       " [False, False, False, False, False, False],\n",
       " [False, False, False, False, False, False],\n",
       " [False, False, False, False, False, False]]"
      ]
     },
     "execution_count": 4,
     "metadata": {},
     "output_type": "execute_result"
    }
   ],
   "source": [
    "dp_table = [[False] * (len(s1) + 1) for _ in range(len(s2) + 1)]\n",
    "dp_table[0][0] = True\n",
    "dp_table"
   ]
  },
  {
   "cell_type": "code",
   "execution_count": 5,
   "metadata": {
    "scrolled": true
   },
   "outputs": [
    {
     "data": {
      "text/plain": [
       "{(0, 0): False,\n",
       " (0, 1): False,\n",
       " (0, 2): False,\n",
       " (0, 3): False,\n",
       " (0, 4): False,\n",
       " (0, 5): False,\n",
       " (1, 0): False,\n",
       " (1, 1): False,\n",
       " (1, 2): False,\n",
       " (1, 3): False,\n",
       " (1, 4): False,\n",
       " (1, 5): False,\n",
       " (2, 0): False,\n",
       " (2, 1): False,\n",
       " (2, 2): False,\n",
       " (2, 3): False,\n",
       " (2, 4): False,\n",
       " (2, 5): False,\n",
       " (3, 0): False,\n",
       " (3, 1): False,\n",
       " (3, 2): False,\n",
       " (3, 3): False,\n",
       " (3, 4): False,\n",
       " (3, 5): False,\n",
       " (4, 0): False,\n",
       " (4, 1): False,\n",
       " (4, 2): False,\n",
       " (4, 3): False,\n",
       " (4, 4): False,\n",
       " (4, 5): False,\n",
       " (5, 0): False,\n",
       " (5, 1): False,\n",
       " (5, 2): False,\n",
       " (5, 3): False,\n",
       " (5, 4): False,\n",
       " (5, 5): False}"
      ]
     },
     "execution_count": 5,
     "metadata": {},
     "output_type": "execute_result"
    }
   ],
   "source": [
    "dp_table = {(i, j): False\n",
    "           for i in range(len(s1)+1)\n",
    "           for j in range(len(s2)+1)}\n",
    "dp_table"
   ]
  },
  {
   "cell_type": "code",
   "execution_count": 6,
   "metadata": {
    "collapsed": true
   },
   "outputs": [],
   "source": [
    "def show_table(table):\n",
    "    return '\\n'.join(\n",
    "        ' '.join(str(table[i, j])[0] for j in sorted(set([k[1] for k in table])))\n",
    "        for i in sorted(set([k[0] for k in table])))        "
   ]
  },
  {
   "cell_type": "code",
   "execution_count": 7,
   "metadata": {
    "collapsed": true
   },
   "outputs": [],
   "source": [
    "def show_table(table):\n",
    "    return '\\n'.join(\n",
    "        ' '.join('T' if table[i, j] else '.' for j in sorted(set([k[1] for k in table])))\n",
    "        for i in sorted(set([k[0] for k in table])))        "
   ]
  },
  {
   "cell_type": "code",
   "execution_count": 8,
   "metadata": {},
   "outputs": [
    {
     "name": "stdout",
     "output_type": "stream",
     "text": [
      ". . . . . .\n",
      ". . . . . .\n",
      ". . . . . .\n",
      ". . . . . .\n",
      ". . . . . .\n",
      ". . . . . .\n"
     ]
    }
   ],
   "source": [
    "print(show_table(dp_table))"
   ]
  },
  {
   "cell_type": "code",
   "execution_count": 9,
   "metadata": {},
   "outputs": [
    {
     "name": "stdout",
     "output_type": "stream",
     "text": [
      "aabcc dbbca aadbbbaccc\n",
      "aa 0 0 ! ! ! True\n",
      "s2 0 1 ! d a False\n",
      "s2 0 2 ! b a False\n",
      "s2 0 3 ! b d False\n",
      "s2 0 4 ! c b False\n",
      "s2 0 5 ! a b False\n",
      "s1 1 0 a ! a True\n",
      "xx 1 1 a d a False\n",
      "xx 1 2 a b d False\n",
      "xx 1 3 a b b False\n",
      "xx 1 4 a c b False\n",
      "xx 1 5 a a b False\n",
      "s1 2 0 a ! a True\n",
      "s2 2 1 a d d True\n",
      "s2 2 2 a b b True\n",
      "s2 2 3 a b b True\n",
      "xx 2 4 a c b False\n",
      "xx 2 5 a a a False\n",
      "s1 3 0 b ! d False\n",
      "s1 3 1 b d b True\n",
      "s2 3 2 b b b True\n",
      "s1 3 2 b b b True\n",
      "s2 3 3 b b b True\n",
      "s1 3 3 b b b True\n",
      "xx 3 4 b c a False\n",
      "xx 3 5 b a c False\n",
      "s1 4 0 c ! b False\n",
      "xx 4 1 c d b False\n",
      "xx 4 2 c b b False\n",
      "xx 4 3 c b a False\n",
      "xx 4 4 c c c False\n",
      "xx 4 5 c a c False\n",
      "s1 5 0 c ! b False\n",
      "xx 5 1 c d b False\n",
      "xx 5 2 c b a False\n",
      "xx 5 3 c b c False\n",
      "xx 5 4 c c c False\n",
      "xx 5 5 c a c False\n",
      "T . . . . .\n",
      "T . . . . .\n",
      "T T T T . .\n",
      ". T T T . .\n",
      ". . . . . .\n",
      ". . . . . .\n"
     ]
    },
    {
     "data": {
      "text/plain": [
       "{(1, 0): (0, 0, 'a', 's1'),\n",
       " (2, 0): (1, 0, 'a', 's1'),\n",
       " (2, 1): (2, 0, 'd', 's2'),\n",
       " (2, 2): (2, 1, 'b', 's2'),\n",
       " (2, 3): (2, 2, 'b', 's2'),\n",
       " (3, 1): (2, 1, 'b', 's1'),\n",
       " (3, 2): (2, 2, 'b', 's1'),\n",
       " (3, 3): (2, 3, 'b', 's1')}"
      ]
     },
     "execution_count": 9,
     "metadata": {},
     "output_type": "execute_result"
    }
   ],
   "source": [
    "s3 = s3f\n",
    "\n",
    "print(s1, s2, s3)\n",
    "\n",
    "dp_table = {(i, j): False\n",
    "           for i in range(len(s1)+1)\n",
    "           for j in range(len(s2)+1)}\n",
    "\n",
    "backpointers = {}\n",
    "\n",
    "for i in range(len(s1)+1):\n",
    "    for j in range(len(s2)+1):\n",
    "        if i == 0 and j == 0:\n",
    "            dp_table[i, j] = True\n",
    "            print('aa', i, j, '!', '!', '!', dp_table[i, j])\n",
    "        elif i == 0:\n",
    "            # extend by character from s2\n",
    "            if dp_table[i, j-1] and s2[j-1] == s3[i+j-1]:\n",
    "                dp_table[i, j] = True\n",
    "                backpointers[i, j] = (i, j-1, s2[j-1], 's2')\n",
    "            print('s2', i, j, '!', s2[j-1], s3[i+j-1], dp_table[i, j])\n",
    "        elif j == 0:\n",
    "            # extend by character from s1\n",
    "            if dp_table[i-1, j] and s1[i-1] == s3[i+j-1]:\n",
    "                dp_table[i, j] = True\n",
    "                backpointers[i, j] = (i-1, j, s1[i-1], 's1')\n",
    "            print('s1', i, j, s1[i-1], '!', s3[i+j-1], dp_table[i, j])\n",
    "        else:\n",
    "            # extend by character from s2\n",
    "            if dp_table[i, j-1] and s2[j-1] == s3[i+j-1]:\n",
    "                dp_table[i, j] = True\n",
    "                backpointers[i, j] = (i, j-1, s2[j-1], 's2')\n",
    "                print('s2', i, j, s1[i-1], s2[j-1], s3[i+j-1], dp_table[i, j])                \n",
    "            # extend by character from s1\n",
    "            if dp_table[i-1, j] and s1[i-1] == s3[i+j-1]:\n",
    "                dp_table[i, j] = True\n",
    "                backpointers[i, j] = (i-1, j, s1[i-1], 's1')                \n",
    "                print('s1', i, j, s1[i-1], s2[j-1], s3[i+j-1], dp_table[i, j])\n",
    "            if not dp_table[i, j]:\n",
    "                print('xx', i, j, s1[i-1], s2[j-1], s3[i+j-1], dp_table[i, j])\n",
    "\n",
    "print(show_table(dp_table))\n",
    "backpointers"
   ]
  },
  {
   "cell_type": "code",
   "execution_count": 10,
   "metadata": {
    "collapsed": true
   },
   "outputs": [],
   "source": [
    "def is_interleave(seq1, seq2, seq3, return_backpointers=False, return_table=False, debug=False):\n",
    "    \"\"\"Return true if seq3 is some interleaved merge of seq1 and seq2.\n",
    "    If return_backpointers, also return the set of backpointers to\n",
    "    reconstruct the interleaving\"\"\"\n",
    "    \n",
    "    # dp_table[i, j] is True if first i+j characters of seq is made up of \n",
    "    # an interleaving of the first i characters of seq1 and the \n",
    "    # first j characters of seq2\n",
    "    \n",
    "    if len(seq1) + len(seq2) != len(seq3):\n",
    "        if return_backpointers or return_table:\n",
    "            retval = [False]\n",
    "            if return_backpointers:\n",
    "                retval += [{}]\n",
    "            if return_table:\n",
    "                retval += [{}]\n",
    "            return tuple(retval)\n",
    "        else:\n",
    "            return False\n",
    "    \n",
    "    dp_table = {(i, j): False\n",
    "               for i in range(len(seq1)+1)\n",
    "               for j in range(len(seq2)+1)}\n",
    "\n",
    "    backpointers = {}\n",
    "\n",
    "    for i in range(len(seq1)+1):\n",
    "        for j in range(len(seq2)+1):\n",
    "            if i == 0 and j == 0:\n",
    "                dp_table[i, j] = True\n",
    "                if debug: print('xxxx', i, j, '!', '!', '!', dp_table[i, j])\n",
    "            elif i == 0:\n",
    "                # extend by character from seq2\n",
    "                if dp_table[i, j-1] and seq2[j-1] == seq3[i+j-1]:\n",
    "                    dp_table[i, j] = True\n",
    "                    backpointers[i, j] = (i, j-1, seq2[j-1], 'seq2')\n",
    "                if debug: print('seq2', i, j, '!', seq2[j-1], seq3[i+j-1], dp_table[i, j])\n",
    "            elif j == 0:\n",
    "                # extend by character from seq1\n",
    "                if dp_table[i-1, j] and seq1[i-1] == seq3[i+j-1]:\n",
    "                    dp_table[i, j] = True\n",
    "                    backpointers[i, j] = (i-1, j, seq1[i-1], 'seq1')\n",
    "                if debug: print('seq1', i, j, seq1[i-1], '!', seq3[i+j-1], dp_table[i, j])\n",
    "            else:\n",
    "                # extend by character from seq2\n",
    "                if dp_table[i, j-1] and seq2[j-1] == seq3[i+j-1]:\n",
    "                    dp_table[i, j] = True\n",
    "                    backpointers[i, j] = (i, j-1, seq2[j-1], 'seq2')\n",
    "                    if debug: print('seq2', i, j, seq1[i-1], seq2[j-1], seq3[i+j-1], dp_table[i, j])                \n",
    "                # extend by character from seq1\n",
    "                if dp_table[i-1, j] and seq1[i-1] == seq3[i+j-1]:\n",
    "                    dp_table[i, j] = True\n",
    "                    backpointers[i, j] = (i-1, j, seq1[i-1], 'seq1')                \n",
    "                    if debug: print('seq1', i, j, seq1[i-1], seq2[j-1], seq3[i+j-1], dp_table[i, j])\n",
    "                if not dp_table[i, j]:\n",
    "                    if debug: print('xxxx', i, j, seq1[i-1], seq2[j-1], seq3[i+j-1], dp_table[i, j])\n",
    "\n",
    "    if return_backpointers or return_table:\n",
    "        retval = [dp_table[len(seq1), len(seq2)]]\n",
    "        if return_backpointers:\n",
    "            retval += [backpointers]\n",
    "        if return_table:\n",
    "            retval += [dp_table]\n",
    "        return tuple(retval)\n",
    "    else:\n",
    "        return dp_table[len(seq1), len(seq2)]"
   ]
  },
  {
   "cell_type": "code",
   "execution_count": 11,
   "metadata": {},
   "outputs": [
    {
     "data": {
      "text/plain": [
       "True"
      ]
     },
     "execution_count": 11,
     "metadata": {},
     "output_type": "execute_result"
    }
   ],
   "source": [
    "is_interleave(s1, s2, s3t)"
   ]
  },
  {
   "cell_type": "code",
   "execution_count": 12,
   "metadata": {},
   "outputs": [
    {
     "data": {
      "text/plain": [
       "(True,\n",
       " {(1, 0): (0, 0, 'a', 'seq1'),\n",
       "  (2, 0): (1, 0, 'a', 'seq1'),\n",
       "  (2, 1): (2, 0, 'd', 'seq2'),\n",
       "  (2, 2): (2, 1, 'b', 'seq2'),\n",
       "  (2, 3): (2, 2, 'b', 'seq2'),\n",
       "  (2, 4): (2, 3, 'c', 'seq2'),\n",
       "  (3, 1): (2, 1, 'b', 'seq1'),\n",
       "  (3, 2): (2, 2, 'b', 'seq1'),\n",
       "  (3, 4): (2, 4, 'b', 'seq1'),\n",
       "  (4, 2): (3, 2, 'c', 'seq1'),\n",
       "  (4, 3): (4, 2, 'b', 'seq2'),\n",
       "  (4, 4): (3, 4, 'c', 'seq1'),\n",
       "  (4, 5): (4, 4, 'a', 'seq2'),\n",
       "  (5, 3): (4, 3, 'c', 'seq1'),\n",
       "  (5, 5): (4, 5, 'c', 'seq1')})"
      ]
     },
     "execution_count": 12,
     "metadata": {},
     "output_type": "execute_result"
    }
   ],
   "source": [
    "is_interleave(s1, s2, s3t, return_backpointers=True)"
   ]
  },
  {
   "cell_type": "code",
   "execution_count": 13,
   "metadata": {
    "scrolled": true
   },
   "outputs": [
    {
     "data": {
      "text/plain": [
       "(True,\n",
       " {(1, 0): (0, 0, 'a', 'seq1'),\n",
       "  (2, 0): (1, 0, 'a', 'seq1'),\n",
       "  (2, 1): (2, 0, 'd', 'seq2'),\n",
       "  (2, 2): (2, 1, 'b', 'seq2'),\n",
       "  (2, 3): (2, 2, 'b', 'seq2'),\n",
       "  (2, 4): (2, 3, 'c', 'seq2'),\n",
       "  (3, 1): (2, 1, 'b', 'seq1'),\n",
       "  (3, 2): (2, 2, 'b', 'seq1'),\n",
       "  (3, 4): (2, 4, 'b', 'seq1'),\n",
       "  (4, 2): (3, 2, 'c', 'seq1'),\n",
       "  (4, 3): (4, 2, 'b', 'seq2'),\n",
       "  (4, 4): (3, 4, 'c', 'seq1'),\n",
       "  (4, 5): (4, 4, 'a', 'seq2'),\n",
       "  (5, 3): (4, 3, 'c', 'seq1'),\n",
       "  (5, 5): (4, 5, 'c', 'seq1')},\n",
       " {(0, 0): True,\n",
       "  (0, 1): False,\n",
       "  (0, 2): False,\n",
       "  (0, 3): False,\n",
       "  (0, 4): False,\n",
       "  (0, 5): False,\n",
       "  (1, 0): True,\n",
       "  (1, 1): False,\n",
       "  (1, 2): False,\n",
       "  (1, 3): False,\n",
       "  (1, 4): False,\n",
       "  (1, 5): False,\n",
       "  (2, 0): True,\n",
       "  (2, 1): True,\n",
       "  (2, 2): True,\n",
       "  (2, 3): True,\n",
       "  (2, 4): True,\n",
       "  (2, 5): False,\n",
       "  (3, 0): False,\n",
       "  (3, 1): True,\n",
       "  (3, 2): True,\n",
       "  (3, 3): False,\n",
       "  (3, 4): True,\n",
       "  (3, 5): False,\n",
       "  (4, 0): False,\n",
       "  (4, 1): False,\n",
       "  (4, 2): True,\n",
       "  (4, 3): True,\n",
       "  (4, 4): True,\n",
       "  (4, 5): True,\n",
       "  (5, 0): False,\n",
       "  (5, 1): False,\n",
       "  (5, 2): False,\n",
       "  (5, 3): True,\n",
       "  (5, 4): False,\n",
       "  (5, 5): True})"
      ]
     },
     "execution_count": 13,
     "metadata": {},
     "output_type": "execute_result"
    }
   ],
   "source": [
    "is_interleave(s1, s2, s3t, return_backpointers=True, return_table=True)"
   ]
  },
  {
   "cell_type": "code",
   "execution_count": 14,
   "metadata": {},
   "outputs": [
    {
     "data": {
      "text/plain": [
       "False"
      ]
     },
     "execution_count": 14,
     "metadata": {},
     "output_type": "execute_result"
    }
   ],
   "source": [
    "is_interleave(s1, s2, s3f)"
   ]
  },
  {
   "cell_type": "code",
   "execution_count": 15,
   "metadata": {},
   "outputs": [
    {
     "name": "stdout",
     "output_type": "stream",
     "text": [
      "xxxx 0 0 ! ! ! True\n",
      "seq2 0 1 ! b a False\n",
      "seq2 0 2 ! b a False\n",
      "seq2 0 3 ! b a False\n",
      "seq1 1 0 a ! a True\n",
      "xxxx 1 1 a b a False\n",
      "xxxx 1 2 a b a False\n",
      "xxxx 1 3 a b b False\n",
      "seq1 2 0 a ! a True\n",
      "xxxx 2 1 a b a False\n",
      "xxxx 2 2 a b b False\n",
      "xxxx 2 3 a b a False\n",
      "seq1 3 0 a ! a True\n",
      "seq2 3 1 a b b True\n",
      "xxxx 3 2 a b a False\n",
      "xxxx 3 3 a b b False\n",
      "seq1 4 0 a ! b False\n",
      "seq1 4 1 a b a True\n",
      "seq2 4 2 a b b True\n",
      "seq2 4 3 a b b True\n"
     ]
    },
    {
     "data": {
      "text/plain": [
       "(True,\n",
       " {(1, 0): (0, 0, 'a', 'seq1'),\n",
       "  (2, 0): (1, 0, 'a', 'seq1'),\n",
       "  (3, 0): (2, 0, 'a', 'seq1'),\n",
       "  (3, 1): (3, 0, 'b', 'seq2'),\n",
       "  (4, 1): (3, 1, 'a', 'seq1'),\n",
       "  (4, 2): (4, 1, 'b', 'seq2'),\n",
       "  (4, 3): (4, 2, 'b', 'seq2')})"
      ]
     },
     "execution_count": 15,
     "metadata": {},
     "output_type": "execute_result"
    }
   ],
   "source": [
    "is_interleave('aaaa', 'bbb', 'aaababb', return_backpointers=True, debug=True)"
   ]
  },
  {
   "cell_type": "code",
   "execution_count": 16,
   "metadata": {
    "collapsed": true
   },
   "outputs": [],
   "source": [
    "def show_backtrace(bps):\n",
    "    i = max([0] + [k[0] for k in bps])\n",
    "    j = max([0] + [k[1] for k in bps])\n",
    "    chars = ''\n",
    "    if (i, j) in bps:\n",
    "        while i != 0 or j != 0:\n",
    "            if bps[i, j][3] == 'seq1':\n",
    "                chars += bps[i, j][2].upper()\n",
    "            else:\n",
    "                chars += bps[i, j][2]\n",
    "            i, j = bps[i, j][0], bps[i, j][1] \n",
    "        return ''.join(list(reversed(chars)))\n",
    "    else:\n",
    "        return ''"
   ]
  },
  {
   "cell_type": "code",
   "execution_count": 17,
   "metadata": {
    "collapsed": true
   },
   "outputs": [],
   "source": [
    "def make_string(length, alphabet=None):\n",
    "    if not alphabet:\n",
    "        alphabet = 'abcdefgh'\n",
    "    return ''.join(random.choice(alphabet) for _ in range(length))    "
   ]
  },
  {
   "cell_type": "code",
   "execution_count": 18,
   "metadata": {},
   "outputs": [
    {
     "data": {
      "text/plain": [
       "'fgcebagebfhfbadbgggacgeebbfceffhbhbgdfhhbahgbchbhe'"
      ]
     },
     "execution_count": 18,
     "metadata": {},
     "output_type": "execute_result"
    }
   ],
   "source": [
    "make_string(50)"
   ]
  },
  {
   "cell_type": "code",
   "execution_count": 19,
   "metadata": {
    "collapsed": true
   },
   "outputs": [],
   "source": [
    "def interleave(s1, s2, wander_limit=10, debug=False):\n",
    "    i1 = i2 = wander = 0\n",
    "    interleaved = []\n",
    "    while i1 <= len(s1) and i2 <= len(s2):\n",
    "        if i1 == len(s1):\n",
    "            if debug: print(i1, i2, wander, 'remaining s2', s2[i2:])\n",
    "            interleaved += s2[i2:]\n",
    "            i2 = len(s2) + 1\n",
    "        elif i2 == len(s2):\n",
    "            if debug: print(i1, i2, wander, 'remaining s1', s1[i1:])\n",
    "            interleaved += s1[i1:]\n",
    "            i1 = len(s1) + 1\n",
    "        else:\n",
    "            if wander == wander_limit:\n",
    "                step = -1\n",
    "            elif wander == -wander_limit:\n",
    "                step = +1\n",
    "            else:\n",
    "                step = random.choice([+1, -1])\n",
    "            if step == +1:\n",
    "                if debug: print(i1, i2, wander, 'adding', s1[i1])\n",
    "                interleaved += s1[i1]\n",
    "                i1 += 1\n",
    "                wander += 1\n",
    "            else:\n",
    "                if debug: print(i1, i2, wander, 'adding', s2[i2])\n",
    "                interleaved += s2[i2]\n",
    "                i2 += 1\n",
    "                wander -= 1\n",
    "    return ''.join(interleaved)\n",
    "            "
   ]
  },
  {
   "cell_type": "code",
   "execution_count": 20,
   "metadata": {},
   "outputs": [
    {
     "name": "stdout",
     "output_type": "stream",
     "text": [
      "0 0 0 adding y\n",
      "0 1 -1 adding a\n",
      "1 1 0 adding z\n",
      "1 2 -1 adding v\n",
      "1 3 -2 adding x\n",
      "1 4 -3 adding z\n",
      "1 5 -4 adding w\n",
      "1 6 -5 adding e\n",
      "2 6 -4 adding h\n",
      "3 6 -3 adding b\n",
      "4 6 -2 adding a\n",
      "5 6 -1 adding b\n",
      "6 6 0 adding u\n",
      "6 7 -1 adding x\n",
      "6 8 -2 adding e\n",
      "7 8 -1 adding y\n",
      "7 9 -2 adding x\n",
      "7 10 -3 adding x\n",
      "7 11 -4 adding x\n",
      "7 12 -5 adding e\n",
      "8 12 -4 adding e\n",
      "9 12 -3 adding z\n",
      "9 13 -4 adding z\n",
      "9 14 -5 adding a\n",
      "10 14 -4 adding c\n",
      "11 14 -3 adding y\n",
      "11 15 -4 adding d\n",
      "12 15 -3 adding g\n",
      "13 15 -2 adding g\n",
      "14 15 -1 adding c\n",
      "15 15 0 adding x\n",
      "15 16 -1 adding e\n",
      "16 16 0 adding f\n",
      "17 16 1 adding w\n",
      "17 17 0 adding w\n",
      "17 18 -1 adding v\n",
      "17 19 -2 adding f\n",
      "18 19 -1 adding a\n",
      "19 19 0 adding g\n",
      "20 19 1 remaining s2 z\n"
     ]
    },
    {
     "data": {
      "text/plain": [
       "('aehbabeeeacdggceffag',\n",
       " 'yzvxzwuxyxxxzzyxwwvz',\n",
       " 'yazvxzwehbabuxeyxxxeezzacydggcxefwwvfagz',\n",
       " 40)"
      ]
     },
     "execution_count": 20,
     "metadata": {},
     "output_type": "execute_result"
    }
   ],
   "source": [
    "s1 = make_string(20)\n",
    "s2 = make_string(20, alphabet='uvwxyz')\n",
    "il = interleave(s1, s2, wander_limit=5, debug=True)\n",
    "s1, s2, il, len(il)"
   ]
  },
  {
   "cell_type": "code",
   "execution_count": 21,
   "metadata": {},
   "outputs": [
    {
     "name": "stdout",
     "output_type": "stream",
     "text": [
      "xxxx 0 0 ! ! ! True\n",
      "seq2 0 1 ! a y False\n",
      "seq2 0 2 ! e a False\n",
      "seq2 0 3 ! h z False\n",
      "seq2 0 4 ! b v False\n",
      "seq2 0 5 ! a x False\n",
      "seq2 0 6 ! b z False\n",
      "seq2 0 7 ! e w False\n",
      "seq2 0 8 ! e e False\n",
      "seq2 0 9 ! e h False\n",
      "seq2 0 10 ! a b False\n",
      "seq2 0 11 ! c a False\n",
      "seq2 0 12 ! d b False\n",
      "seq2 0 13 ! g u False\n",
      "seq2 0 14 ! g x False\n",
      "seq2 0 15 ! c e False\n",
      "seq2 0 16 ! e y False\n",
      "seq2 0 17 ! f x False\n",
      "seq2 0 18 ! f x False\n",
      "seq2 0 19 ! a x False\n",
      "seq2 0 20 ! g e False\n",
      "seq1 1 0 y ! y True\n",
      "seq2 1 1 y a a True\n",
      "xxxx 1 2 y e z False\n",
      "xxxx 1 3 y h v False\n",
      "xxxx 1 4 y b x False\n",
      "xxxx 1 5 y a z False\n",
      "xxxx 1 6 y b w False\n",
      "xxxx 1 7 y e e False\n",
      "xxxx 1 8 y e h False\n",
      "xxxx 1 9 y e b False\n",
      "xxxx 1 10 y a a False\n",
      "xxxx 1 11 y c b False\n",
      "xxxx 1 12 y d u False\n",
      "xxxx 1 13 y g x False\n",
      "xxxx 1 14 y g e False\n",
      "xxxx 1 15 y c y False\n",
      "xxxx 1 16 y e x False\n",
      "xxxx 1 17 y f x False\n",
      "xxxx 1 18 y f x False\n",
      "xxxx 1 19 y a e False\n",
      "xxxx 1 20 y g e False\n",
      "seq1 2 0 z ! a False\n",
      "seq1 2 1 z a z True\n",
      "xxxx 2 2 z e v False\n",
      "xxxx 2 3 z h x False\n",
      "xxxx 2 4 z b z False\n",
      "xxxx 2 5 z a w False\n",
      "xxxx 2 6 z b e False\n",
      "xxxx 2 7 z e h False\n",
      "xxxx 2 8 z e b False\n",
      "xxxx 2 9 z e a False\n",
      "xxxx 2 10 z a b False\n",
      "xxxx 2 11 z c u False\n",
      "xxxx 2 12 z d x False\n",
      "xxxx 2 13 z g e False\n",
      "xxxx 2 14 z g y False\n",
      "xxxx 2 15 z c x False\n",
      "xxxx 2 16 z e x False\n",
      "xxxx 2 17 z f x False\n",
      "xxxx 2 18 z f e False\n",
      "xxxx 2 19 z a e False\n",
      "xxxx 2 20 z g z False\n",
      "seq1 3 0 v ! z False\n",
      "seq1 3 1 v a v True\n",
      "xxxx 3 2 v e x False\n",
      "xxxx 3 3 v h z False\n",
      "xxxx 3 4 v b w False\n",
      "xxxx 3 5 v a e False\n",
      "xxxx 3 6 v b h False\n",
      "xxxx 3 7 v e b False\n",
      "xxxx 3 8 v e a False\n",
      "xxxx 3 9 v e b False\n",
      "xxxx 3 10 v a u False\n",
      "xxxx 3 11 v c x False\n",
      "xxxx 3 12 v d e False\n",
      "xxxx 3 13 v g y False\n",
      "xxxx 3 14 v g x False\n",
      "xxxx 3 15 v c x False\n",
      "xxxx 3 16 v e x False\n",
      "xxxx 3 17 v f e False\n",
      "xxxx 3 18 v f e False\n",
      "xxxx 3 19 v a z False\n",
      "xxxx 3 20 v g z False\n",
      "seq1 4 0 x ! v False\n",
      "seq1 4 1 x a x True\n",
      "xxxx 4 2 x e z False\n",
      "xxxx 4 3 x h w False\n",
      "xxxx 4 4 x b e False\n",
      "xxxx 4 5 x a h False\n",
      "xxxx 4 6 x b b False\n",
      "xxxx 4 7 x e a False\n",
      "xxxx 4 8 x e b False\n",
      "xxxx 4 9 x e u False\n",
      "xxxx 4 10 x a x False\n",
      "xxxx 4 11 x c e False\n",
      "xxxx 4 12 x d y False\n",
      "xxxx 4 13 x g x False\n",
      "xxxx 4 14 x g x False\n",
      "xxxx 4 15 x c x False\n",
      "xxxx 4 16 x e e False\n",
      "xxxx 4 17 x f e False\n",
      "xxxx 4 18 x f z False\n",
      "xxxx 4 19 x a z False\n",
      "xxxx 4 20 x g a False\n",
      "seq1 5 0 z ! x False\n",
      "seq1 5 1 z a z True\n",
      "xxxx 5 2 z e w False\n",
      "xxxx 5 3 z h e False\n",
      "xxxx 5 4 z b h False\n",
      "xxxx 5 5 z a b False\n",
      "xxxx 5 6 z b a False\n",
      "xxxx 5 7 z e b False\n",
      "xxxx 5 8 z e u False\n",
      "xxxx 5 9 z e x False\n",
      "xxxx 5 10 z a e False\n",
      "xxxx 5 11 z c y False\n",
      "xxxx 5 12 z d x False\n",
      "xxxx 5 13 z g x False\n",
      "xxxx 5 14 z g x False\n",
      "xxxx 5 15 z c e False\n",
      "xxxx 5 16 z e e False\n",
      "xxxx 5 17 z f z False\n",
      "xxxx 5 18 z f z False\n",
      "xxxx 5 19 z a a False\n",
      "xxxx 5 20 z g c False\n",
      "seq1 6 0 w ! z False\n",
      "seq1 6 1 w a w True\n",
      "seq2 6 2 w e e True\n",
      "seq2 6 3 w h h True\n",
      "seq2 6 4 w b b True\n",
      "seq2 6 5 w a a True\n",
      "seq2 6 6 w b b True\n",
      "xxxx 6 7 w e u False\n",
      "xxxx 6 8 w e x False\n",
      "xxxx 6 9 w e e False\n",
      "xxxx 6 10 w a y False\n",
      "xxxx 6 11 w c x False\n",
      "xxxx 6 12 w d x False\n",
      "xxxx 6 13 w g x False\n",
      "xxxx 6 14 w g e False\n",
      "xxxx 6 15 w c e False\n",
      "xxxx 6 16 w e z False\n",
      "xxxx 6 17 w f z False\n",
      "xxxx 6 18 w f a False\n",
      "xxxx 6 19 w a c False\n",
      "xxxx 6 20 w g y False\n",
      "seq1 7 0 u ! w False\n",
      "xxxx 7 1 u a e False\n",
      "xxxx 7 2 u e h False\n",
      "xxxx 7 3 u h b False\n",
      "xxxx 7 4 u b a False\n",
      "xxxx 7 5 u a b False\n",
      "seq1 7 6 u b u True\n",
      "xxxx 7 7 u e x False\n",
      "xxxx 7 8 u e e False\n",
      "xxxx 7 9 u e y False\n",
      "xxxx 7 10 u a x False\n",
      "xxxx 7 11 u c x False\n",
      "xxxx 7 12 u d x False\n",
      "xxxx 7 13 u g e False\n",
      "xxxx 7 14 u g e False\n",
      "xxxx 7 15 u c z False\n",
      "xxxx 7 16 u e z False\n",
      "xxxx 7 17 u f a False\n",
      "xxxx 7 18 u f c False\n",
      "xxxx 7 19 u a y False\n",
      "xxxx 7 20 u g d False\n",
      "seq1 8 0 x ! e False\n",
      "xxxx 8 1 x a h False\n",
      "xxxx 8 2 x e b False\n",
      "xxxx 8 3 x h a False\n",
      "xxxx 8 4 x b b False\n",
      "xxxx 8 5 x a u False\n",
      "seq1 8 6 x b x True\n",
      "seq2 8 7 x e e True\n",
      "xxxx 8 8 x e y False\n",
      "xxxx 8 9 x e x False\n",
      "xxxx 8 10 x a x False\n",
      "xxxx 8 11 x c x False\n",
      "xxxx 8 12 x d e False\n",
      "xxxx 8 13 x g e False\n",
      "xxxx 8 14 x g z False\n",
      "xxxx 8 15 x c z False\n",
      "xxxx 8 16 x e a False\n",
      "xxxx 8 17 x f c False\n",
      "xxxx 8 18 x f y False\n",
      "xxxx 8 19 x a d False\n",
      "xxxx 8 20 x g g False\n",
      "seq1 9 0 y ! h False\n",
      "xxxx 9 1 y a b False\n",
      "xxxx 9 2 y e a False\n",
      "xxxx 9 3 y h b False\n",
      "xxxx 9 4 y b u False\n",
      "xxxx 9 5 y a x False\n",
      "xxxx 9 6 y b e False\n",
      "seq1 9 7 y e y True\n",
      "xxxx 9 8 y e x False\n",
      "xxxx 9 9 y e x False\n",
      "xxxx 9 10 y a x False\n",
      "xxxx 9 11 y c e False\n",
      "xxxx 9 12 y d e False\n",
      "xxxx 9 13 y g z False\n",
      "xxxx 9 14 y g z False\n",
      "xxxx 9 15 y c a False\n",
      "xxxx 9 16 y e c False\n",
      "xxxx 9 17 y f y False\n",
      "xxxx 9 18 y f d False\n",
      "xxxx 9 19 y a g False\n",
      "xxxx 9 20 y g g False\n",
      "seq1 10 0 x ! b False\n",
      "xxxx 10 1 x a a False\n",
      "xxxx 10 2 x e b False\n",
      "xxxx 10 3 x h u False\n",
      "xxxx 10 4 x b x False\n",
      "xxxx 10 5 x a e False\n",
      "xxxx 10 6 x b y False\n",
      "seq1 10 7 x e x True\n",
      "xxxx 10 8 x e x False\n",
      "xxxx 10 9 x e x False\n",
      "xxxx 10 10 x a e False\n",
      "xxxx 10 11 x c e False\n",
      "xxxx 10 12 x d z False\n",
      "xxxx 10 13 x g z False\n",
      "xxxx 10 14 x g a False\n",
      "xxxx 10 15 x c c False\n",
      "xxxx 10 16 x e y False\n",
      "xxxx 10 17 x f d False\n",
      "xxxx 10 18 x f g False\n",
      "xxxx 10 19 x a g False\n",
      "xxxx 10 20 x g c False\n",
      "seq1 11 0 x ! a False\n",
      "xxxx 11 1 x a b False\n",
      "xxxx 11 2 x e u False\n",
      "xxxx 11 3 x h x False\n",
      "xxxx 11 4 x b e False\n",
      "xxxx 11 5 x a y False\n",
      "xxxx 11 6 x b x False\n",
      "seq1 11 7 x e x True\n",
      "xxxx 11 8 x e x False\n",
      "xxxx 11 9 x e e False\n",
      "xxxx 11 10 x a e False\n",
      "xxxx 11 11 x c z False\n",
      "xxxx 11 12 x d z False\n",
      "xxxx 11 13 x g a False\n",
      "xxxx 11 14 x g c False\n",
      "xxxx 11 15 x c y False\n",
      "xxxx 11 16 x e d False\n",
      "xxxx 11 17 x f g False\n",
      "xxxx 11 18 x f g False\n",
      "xxxx 11 19 x a c False\n",
      "xxxx 11 20 x g x False\n",
      "seq1 12 0 x ! b False\n",
      "xxxx 12 1 x a u False\n",
      "xxxx 12 2 x e x False\n",
      "xxxx 12 3 x h e False\n",
      "xxxx 12 4 x b y False\n",
      "xxxx 12 5 x a x False\n",
      "xxxx 12 6 x b x False\n",
      "seq1 12 7 x e x True\n",
      "seq2 12 8 x e e True\n",
      "seq2 12 9 x e e True\n",
      "xxxx 12 10 x a z False\n",
      "xxxx 12 11 x c z False\n",
      "xxxx 12 12 x d a False\n",
      "xxxx 12 13 x g c False\n",
      "xxxx 12 14 x g y False\n",
      "xxxx 12 15 x c d False\n",
      "xxxx 12 16 x e g False\n",
      "xxxx 12 17 x f g False\n",
      "xxxx 12 18 x f c False\n",
      "xxxx 12 19 x a x False\n",
      "xxxx 12 20 x g e False\n",
      "seq1 13 0 z ! u False\n",
      "xxxx 13 1 z a x False\n",
      "xxxx 13 2 z e e False\n",
      "xxxx 13 3 z h y False\n",
      "xxxx 13 4 z b x False\n",
      "xxxx 13 5 z a x False\n",
      "xxxx 13 6 z b x False\n",
      "xxxx 13 7 z e e False\n",
      "xxxx 13 8 z e e False\n",
      "seq1 13 9 z e z True\n",
      "xxxx 13 10 z a z False\n",
      "xxxx 13 11 z c a False\n",
      "xxxx 13 12 z d c False\n",
      "xxxx 13 13 z g y False\n",
      "xxxx 13 14 z g d False\n",
      "xxxx 13 15 z c g False\n",
      "xxxx 13 16 z e g False\n",
      "xxxx 13 17 z f c False\n",
      "xxxx 13 18 z f x False\n",
      "xxxx 13 19 z a e False\n",
      "xxxx 13 20 z g f False\n",
      "seq1 14 0 z ! x False\n",
      "xxxx 14 1 z a e False\n",
      "xxxx 14 2 z e y False\n",
      "xxxx 14 3 z h x False\n",
      "xxxx 14 4 z b x False\n",
      "xxxx 14 5 z a x False\n",
      "xxxx 14 6 z b e False\n",
      "xxxx 14 7 z e e False\n",
      "xxxx 14 8 z e z False\n",
      "seq1 14 9 z e z True\n",
      "seq2 14 10 z a a True\n",
      "seq2 14 11 z c c True\n",
      "xxxx 14 12 z d y False\n",
      "xxxx 14 13 z g d False\n",
      "xxxx 14 14 z g g False\n",
      "xxxx 14 15 z c g False\n",
      "xxxx 14 16 z e c False\n",
      "xxxx 14 17 z f x False\n",
      "xxxx 14 18 z f e False\n",
      "xxxx 14 19 z a f False\n",
      "xxxx 14 20 z g w False\n",
      "seq1 15 0 y ! e False\n",
      "xxxx 15 1 y a y False\n",
      "xxxx 15 2 y e x False\n",
      "xxxx 15 3 y h x False\n",
      "xxxx 15 4 y b x False\n",
      "xxxx 15 5 y a e False\n",
      "xxxx 15 6 y b e False\n",
      "xxxx 15 7 y e z False\n",
      "xxxx 15 8 y e z False\n",
      "xxxx 15 9 y e a False\n",
      "xxxx 15 10 y a c False\n",
      "seq1 15 11 y c y True\n",
      "seq2 15 12 y d d True\n",
      "seq2 15 13 y g g True\n",
      "seq2 15 14 y g g True\n",
      "seq2 15 15 y c c True\n",
      "xxxx 15 16 y e x False\n",
      "xxxx 15 17 y f e False\n",
      "xxxx 15 18 y f f False\n",
      "xxxx 15 19 y a w False\n",
      "xxxx 15 20 y g w False\n",
      "seq1 16 0 x ! y False\n",
      "xxxx 16 1 x a x False\n",
      "xxxx 16 2 x e x False\n",
      "xxxx 16 3 x h x False\n",
      "xxxx 16 4 x b e False\n",
      "xxxx 16 5 x a e False\n",
      "xxxx 16 6 x b z False\n",
      "xxxx 16 7 x e z False\n",
      "xxxx 16 8 x e a False\n",
      "xxxx 16 9 x e c False\n",
      "xxxx 16 10 x a y False\n",
      "xxxx 16 11 x c d False\n",
      "xxxx 16 12 x d g False\n",
      "xxxx 16 13 x g g False\n",
      "xxxx 16 14 x g c False\n",
      "seq1 16 15 x c x True\n",
      "seq2 16 16 x e e True\n",
      "seq2 16 17 x f f True\n",
      "xxxx 16 18 x f w False\n",
      "xxxx 16 19 x a w False\n",
      "xxxx 16 20 x g v False\n",
      "seq1 17 0 w ! x False\n",
      "xxxx 17 1 w a x False\n",
      "xxxx 17 2 w e x False\n",
      "xxxx 17 3 w h e False\n",
      "xxxx 17 4 w b e False\n",
      "xxxx 17 5 w a z False\n",
      "xxxx 17 6 w b z False\n",
      "xxxx 17 7 w e a False\n",
      "xxxx 17 8 w e c False\n",
      "xxxx 17 9 w e y False\n",
      "xxxx 17 10 w a d False\n",
      "xxxx 17 11 w c g False\n",
      "xxxx 17 12 w d g False\n",
      "xxxx 17 13 w g c False\n",
      "xxxx 17 14 w g x False\n",
      "xxxx 17 15 w c e False\n",
      "xxxx 17 16 w e f False\n",
      "seq1 17 17 w f w True\n",
      "xxxx 17 18 w f w False\n",
      "xxxx 17 19 w a v False\n",
      "xxxx 17 20 w g f False\n",
      "seq1 18 0 w ! x False\n"
     ]
    },
    {
     "name": "stdout",
     "output_type": "stream",
     "text": [
      "xxxx 18 1 w a x False\n",
      "xxxx 18 2 w e e False\n",
      "xxxx 18 3 w h e False\n",
      "xxxx 18 4 w b z False\n",
      "xxxx 18 5 w a z False\n",
      "xxxx 18 6 w b a False\n",
      "xxxx 18 7 w e c False\n",
      "xxxx 18 8 w e y False\n",
      "xxxx 18 9 w e d False\n",
      "xxxx 18 10 w a g False\n",
      "xxxx 18 11 w c g False\n",
      "xxxx 18 12 w d c False\n",
      "xxxx 18 13 w g x False\n",
      "xxxx 18 14 w g e False\n",
      "xxxx 18 15 w c f False\n",
      "xxxx 18 16 w e w False\n",
      "seq1 18 17 w f w True\n",
      "xxxx 18 18 w f v False\n",
      "xxxx 18 19 w a f False\n",
      "xxxx 18 20 w g a False\n",
      "seq1 19 0 v ! x False\n",
      "xxxx 19 1 v a e False\n",
      "xxxx 19 2 v e e False\n",
      "xxxx 19 3 v h z False\n",
      "xxxx 19 4 v b z False\n",
      "xxxx 19 5 v a a False\n",
      "xxxx 19 6 v b c False\n",
      "xxxx 19 7 v e y False\n",
      "xxxx 19 8 v e d False\n",
      "xxxx 19 9 v e g False\n",
      "xxxx 19 10 v a g False\n",
      "xxxx 19 11 v c c False\n",
      "xxxx 19 12 v d x False\n",
      "xxxx 19 13 v g e False\n",
      "xxxx 19 14 v g f False\n",
      "xxxx 19 15 v c w False\n",
      "xxxx 19 16 v e w False\n",
      "seq1 19 17 v f v True\n",
      "seq2 19 18 v f f True\n",
      "seq2 19 19 v a a True\n",
      "seq2 19 20 v g g True\n",
      "seq1 20 0 z ! e False\n",
      "xxxx 20 1 z a e False\n",
      "xxxx 20 2 z e z False\n",
      "xxxx 20 3 z h z False\n",
      "xxxx 20 4 z b a False\n",
      "xxxx 20 5 z a c False\n",
      "xxxx 20 6 z b y False\n",
      "xxxx 20 7 z e d False\n",
      "xxxx 20 8 z e g False\n",
      "xxxx 20 9 z e g False\n",
      "xxxx 20 10 z a c False\n",
      "xxxx 20 11 z c x False\n",
      "xxxx 20 12 z d e False\n",
      "xxxx 20 13 z g f False\n",
      "xxxx 20 14 z g w False\n",
      "xxxx 20 15 z c w False\n",
      "xxxx 20 16 z e v False\n",
      "xxxx 20 17 z f f False\n",
      "xxxx 20 18 z f a False\n",
      "xxxx 20 19 z a g False\n",
      "seq1 20 20 z g z True\n",
      "T . . . . . . . . . . . . . . . . . . . .\n",
      "T T . . . . . . . . . . . . . . . . . . .\n",
      ". T . . . . . . . . . . . . . . . . . . .\n",
      ". T . . . . . . . . . . . . . . . . . . .\n",
      ". T . . . . . . . . . . . . . . . . . . .\n",
      ". T . . . . . . . . . . . . . . . . . . .\n",
      ". T T T T T T . . . . . . . . . . . . . .\n",
      ". . . . . . T . . . . . . . . . . . . . .\n",
      ". . . . . . T T . . . . . . . . . . . . .\n",
      ". . . . . . . T . . . . . . . . . . . . .\n",
      ". . . . . . . T . . . . . . . . . . . . .\n",
      ". . . . . . . T . . . . . . . . . . . . .\n",
      ". . . . . . . T T T . . . . . . . . . . .\n",
      ". . . . . . . . . T . . . . . . . . . . .\n",
      ". . . . . . . . . T T T . . . . . . . . .\n",
      ". . . . . . . . . . . T T T T T . . . . .\n",
      ". . . . . . . . . . . . . . . T T T . . .\n",
      ". . . . . . . . . . . . . . . . . T . . .\n",
      ". . . . . . . . . . . . . . . . . T . . .\n",
      ". . . . . . . . . . . . . . . . . T T T T\n",
      ". . . . . . . . . . . . . . . . . . . . T\n"
     ]
    }
   ],
   "source": [
    "v, bp, t = is_interleave(s2, s1, il, return_backpointers=True, return_table=True, debug=True)\n",
    "print(show_table(t))"
   ]
  },
  {
   "cell_type": "code",
   "execution_count": 22,
   "metadata": {},
   "outputs": [
    {
     "data": {
      "text/plain": [
       "'YaZVXZWehbabUXeYXXXeeZZacYdggcXefWWVfagZ'"
      ]
     },
     "execution_count": 22,
     "metadata": {},
     "output_type": "execute_result"
    }
   ],
   "source": [
    "show_backtrace(bp)"
   ]
  },
  {
   "cell_type": "code",
   "execution_count": 23,
   "metadata": {},
   "outputs": [
    {
     "name": "stdout",
     "output_type": "stream",
     "text": [
      "T . . . . . . . . . . . . . . . . . . . .\n",
      "T T . . . . . . . . . . . . . . . . . . .\n",
      ". T . . . . . . . . . . . . . . . . . . .\n",
      ". T . . . . . . . . . . . . . . . . . . .\n",
      ". T . . . . . . . . . . . . . . . . . . .\n",
      ". T . . . . . . . . . . . . . . . . . . .\n",
      ". T T T T T T . . . . . . . . . . . . . .\n",
      ". . . . . . T . . . . . . . . . . . . . .\n",
      ". . . . . . T T . . . . . . . . . . . . .\n",
      ". . . . . . . T . . . . . . . . . . . . .\n",
      ". . . . . . . T . . . . . . . . . . . . .\n",
      ". . . . . . . T . . . . . . . . . . . . .\n",
      ". . . . . . . T T T . . . . . . . . . . .\n",
      ". . . . . . . . . T . . . . . . . . . . .\n",
      ". . . . . . . . . T T T . . . . . . . . .\n",
      ". . . . . . . . . . . T T T T T . . . . .\n",
      ". . . . . . . . . . . . . . . T T T . . .\n",
      ". . . . . . . . . . . . . . . . . T . . .\n",
      ". . . . . . . . . . . . . . . . . T . . .\n",
      ". . . . . . . . . . . . . . . . . T T T T\n",
      ". . . . . . . . . . . . . . . . . . . . T\n",
      "YaZVXZWehbabUXeYXXXeeZZacYdggcXefWWVfagZ\n"
     ]
    },
    {
     "data": {
      "text/plain": [
       "True"
      ]
     },
     "execution_count": 23,
     "metadata": {},
     "output_type": "execute_result"
    }
   ],
   "source": [
    "v, bp, t = is_interleave(s2, s1, il, return_backpointers=True, return_table=True)\n",
    "print(show_table(t))\n",
    "print(show_backtrace(bp))\n",
    "v"
   ]
  },
  {
   "cell_type": "code",
   "execution_count": 24,
   "metadata": {},
   "outputs": [
    {
     "data": {
      "text/plain": [
       "('ehcceddeafddffefgffdfbbedabhbadebdchfabhhbfghdggcd',\n",
       " 'hdahagaefhadaaaeehdhfaeafgcgcdfbegehdfchbfecgbgfbe',\n",
       " 'hehcdahceddageaaefddfffefgfhafddaafaebbehedhdfabaeahbadfgcgecbddcfbhfegeahbhdhbfcfhgbfhdgecgbgcgdfbe',\n",
       " 100)"
      ]
     },
     "execution_count": 24,
     "metadata": {},
     "output_type": "execute_result"
    }
   ],
   "source": [
    "s1 = make_string(50)\n",
    "s2 = make_string(50)\n",
    "il = interleave(s1, s2)\n",
    "s1, s2, il, len(il)"
   ]
  },
  {
   "cell_type": "code",
   "execution_count": 25,
   "metadata": {},
   "outputs": [
    {
     "name": "stdout",
     "output_type": "stream",
     "text": [
      "T . . . . . . . . . . . . . . . . . . . . . . . . . . . . . . . . . . . . . . . . . . . . . . . . . .\n",
      "T T T T . . . . . . . . . . . . . . . . . . . . . . . . . . . . . . . . . . . . . . . . . . . . . . .\n",
      ". . . T . . . . . . . . . . . . . . . . . . . . . . . . . . . . . . . . . . . . . . . . . . . . . . .\n",
      ". . . T . . . . . . . . . . . . . . . . . . . . . . . . . . . . . . . . . . . . . . . . . . . . . . .\n",
      ". . . T T T T T . . . . . . . . . . . . . . . . . . . . . . . . . . . . . . . . . . . . . . . . . . .\n",
      ". . . . . . . T . . . . . . . . . . . . . . . . . . . . . . . . . . . . . . . . . . . . . . . . . . .\n",
      ". . . . . . . T T T . . . . . . . . . . . . . . . . . . . . . . . . . . . . . . . . . . . . . . . . .\n",
      ". . . . . . . . T T . . . . . . . . . . . . . . . . . . . . . . . . . . . . . . . . . . . . . . . . .\n",
      ". . . . . . . . . T T T T T T . . . . . . . . . . . . . . . . . . . . . . . . . . . . . . . . . . . .\n",
      ". . . . . . . . . T . . T T T T T T T . . . . . . . . . . . . . . . . . . . . . . . . . . . . . . . .\n",
      ". . . . . . . . . . . . . . . . . . T . . . . . . . . . . . . . . . . . . . . . . . . . . . . . . . .\n",
      ". . . . . . . . . . . . . . . . . . T T T . . . . . . . . . . . . . . . . . . . . . . . . . . . . . .\n",
      ". . . . . . . . . . . . . . . . . . . T T . . . . . . . . . . . . . . . . . . . . . . . . . . . . . .\n",
      ". . . . . . . . . . . . . . . . . . . . T . . . . . . . . . . . . . . . . . . . . . . . . . . . . . .\n",
      ". . . . . . . . . . . . . . . . . . . . T T . . . . . . . . . . . . . . . . . . . . . . . . . . . . .\n",
      ". . . . . . . . . . . . . . . . . . . . . T . . . . . . . . . . . . . . . . . . . . . . . . . . . . .\n",
      ". . . . . . . . . . . . . . . . . . . . . T T T T . . . . . . . . . . . . . . . . . . . . . . . . . .\n",
      ". . . . . . . . . . . . . . . . . . . . . . . T . . . . . . . . . . . . . . . . . . . . . . . . . . .\n",
      ". . . . . . . . . . . . . . . . . . . . . . . T T T . . . . . . . . . . . . . . . . . . . . . . . . .\n",
      ". . . . . . . . . . . . . . . . . . . . . . . . T . . . . . . . . . . . . . . . . . . . . . . . . . .\n",
      ". . . . . . . . . . . . . . . . . . . . . . . . T T . . . . . . . . . . . . . . . . . . . . . . . . .\n",
      ". . . . . . . . . . . . . . . . . . . . . . . . . T T T . . . . . . . . . . . . . . . . . . . . . . .\n",
      ". . . . . . . . . . . . . . . . . . . . . . . . . T . T . . . . . . . . . . . . . . . . . . . . . . .\n",
      ". . . . . . . . . . . . . . . . . . . . . . . . . . . T . . . . . . . . . . . . . . . . . . . . . . .\n",
      ". . . . . . . . . . . . . . . . . . . . . . . . . . . T T T T T . . . . . . . . . . . . . . . . . . .\n",
      ". . . . . . . . . . . . . . . . . . . . . . . . . . . . . . . T . . . . . . . . . . . . . . . . . . .\n",
      ". . . . . . . . . . . . . . . . . . . . . . . . . . . . . . . T . . . . . . . . . . . . . . . . . . .\n",
      ". . . . . . . . . . . . . . . . . . . . . . . . . . . . . . . T . . . . . . . . . . . . . . . . . . .\n",
      ". . . . . . . . . . . . . . . . . . . . . . . . . . . . . . . T T . . . . . . . . . . . . . . . . . .\n",
      ". . . . . . . . . . . . . . . . . . . . . . . . . . . . . . . . T T T . . . . . . . . . . . . . . . .\n",
      ". . . . . . . . . . . . . . . . . . . . . . . . . . . . . . . . . T T T . . . . . . . . . . . . . . .\n",
      ". . . . . . . . . . . . . . . . . . . . . . . . . . . . . . . . . . . T . . . . . . . . . . . . . . .\n",
      ". . . . . . . . . . . . . . . . . . . . . . . . . . . . . . . . . . . T T T . . . . . . . . . . . . .\n",
      ". . . . . . . . . . . . . . . . . . . . . . . . . . . . . . . . . . . . . T . . . . . . . . . . . . .\n",
      ". . . . . . . . . . . . . . . . . . . . . . . . . . . . . . . . . . . . . T . . . . . . . . . . . . .\n",
      ". . . . . . . . . . . . . . . . . . . . . . . . . . . . . . . . . . . . . T T . . . . . . . . . . . .\n",
      ". . . . . . . . . . . . . . . . . . . . . . . . . . . . . . . . . . . . . . T T T . . . . . . . . . .\n",
      ". . . . . . . . . . . . . . . . . . . . . . . . . . . . . . . . . . . . . . . . T T T T . . . . . . .\n",
      ". . . . . . . . . . . . . . . . . . . . . . . . . . . . . . . . . . . . . . . . . . T . . . . . . . .\n",
      ". . . . . . . . . . . . . . . . . . . . . . . . . . . . . . . . . . . . . . . . . . T T . . . . . . .\n",
      ". . . . . . . . . . . . . . . . . . . . . . . . . . . . . . . . . . . . . . . . . . . T T . . . . . .\n",
      ". . . . . . . . . . . . . . . . . . . . . . . . . . . . . . . . . . . . . . . . . . . . T . . . . . .\n",
      ". . . . . . . . . . . . . . . . . . . . . . . . . . . . . . . . . . . . . . . . . . . . T T T T . . .\n",
      ". . . . . . . . . . . . . . . . . . . . . . . . . . . . . . . . . . . . . . . . . . . . . . . T . . .\n",
      ". . . . . . . . . . . . . . . . . . . . . . . . . . . . . . . . . . . . . . . . . . . . . . . T T . .\n",
      ". . . . . . . . . . . . . . . . . . . . . . . . . . . . . . . . . . . . . . . . . . . . . . . T . . .\n",
      ". . . . . . . . . . . . . . . . . . . . . . . . . . . . . . . . . . . . . . . . . . . . . . . T T T .\n",
      ". . . . . . . . . . . . . . . . . . . . . . . . . . . . . . . . . . . . . . . . . . . . . . . T . T T\n",
      ". . . . . . . . . . . . . . . . . . . . . . . . . . . . . . . . . . . . . . . . . . . . . . . . . . T\n",
      ". . . . . . . . . . . . . . . . . . . . . . . . . . . . . . . . . . . . . . . . . . . . . . . . . . T\n",
      ". . . . . . . . . . . . . . . . . . . . . . . . . . . . . . . . . . . . . . . . . . . . . . . . . . T\n",
      "HehcDAHceddAGeaAEfddffFefgfHAfdDAAfAEbbEHeDHdFabAEAhbadFGCGeCbdDcFBhfEGEaHbhDhbFCfHgBFhdgECGBgcGdFBE\n"
     ]
    },
    {
     "data": {
      "text/plain": [
       "True"
      ]
     },
     "execution_count": 25,
     "metadata": {},
     "output_type": "execute_result"
    }
   ],
   "source": [
    "v, bp, t = is_interleave(s2, s1, il, return_backpointers=True, return_table=True)\n",
    "print(show_table(t))\n",
    "print(show_backtrace(bp))\n",
    "v"
   ]
  },
  {
   "cell_type": "code",
   "execution_count": 26,
   "metadata": {},
   "outputs": [
    {
     "name": "stdout",
     "output_type": "stream",
     "text": [
      "1000 loops, best of 3: 1.25 ms per loop\n"
     ]
    }
   ],
   "source": [
    "%%timeit\n",
    "is_interleave(s2, s1, il)"
   ]
  },
  {
   "cell_type": "code",
   "execution_count": 27,
   "metadata": {},
   "outputs": [
    {
     "name": "stdout",
     "output_type": "stream",
     "text": [
      "T T . . . . . . . . . . . . . . . . . . . . . . . . . . . . . . . . . . . . . . . . . . . . . . . . .\n",
      ". T . . . . . . . . . . . . . . . . . . . . . . . . . . . . . . . . . . . . . . . . . . . . . . . . .\n",
      ". T . . . . . . . . . . . . . . . . . . . . . . . . . . . . . . . . . . . . . . . . . . . . . . . . .\n",
      ". T T T T . . . . . . . . . . . . . . . . . . . . . . . . . . . . . . . . . . . . . . . . . . . . . .\n",
      ". . . . T . . . . . . . . . . . . . . . . . . . . . . . . . . . . . . . . . . . . . . . . . . . . . .\n",
      ". . . . T . . . . . . . . . . . . . . . . . . . . . . . . . . . . . . . . . . . . . . . . . . . . . .\n",
      ". . . . T . . . . . . . . . . . . . . . . . . . . . . . . . . . . . . . . . . . . . . . . . . . . . .\n",
      ". . . . T T T . . . . . . . . . . . . . . . . . . . . . . . . . . . . . . . . . . . . . . . . . . . .\n",
      ". . . . . . T T . . . . . . . . . . . . . . . . . . . . . . . . . . . . . . . . . . . . . . . . . . .\n",
      ". . . . . . T T T T . . . . . . . . . . . . . . . . . . . . . . . . . . . . . . . . . . . . . . . . .\n",
      ". . . . . . . . T . . . . . . . . . . . . . . . . . . . . . . . . . . . . . . . . . . . . . . . . . .\n",
      ". . . . . . . . T . . . . . . . . . . . . . . . . . . . . . . . . . . . . . . . . . . . . . . . . . .\n",
      ". . . . . . . . T T . . . . . . . . . . . . . . . . . . . . . . . . . . . . . . . . . . . . . . . . .\n",
      ". . . . . . . . T T . . . . . . . . . . . . . . . . . . . . . . . . . . . . . . . . . . . . . . . . .\n",
      ". . . . . . . . T T . . . . . . . . . . . . . . . . . . . . . . . . . . . . . . . . . . . . . . . . .\n",
      ". . . . . . . . . T . . . . . . . . . . . . . . . . . . . . . . . . . . . . . . . . . . . . . . . . .\n",
      ". . . . . . . . . T . . . . . . . . . . . . . . . . . . . . . . . . . . . . . . . . . . . . . . . . .\n",
      ". . . . . . . . . T . . . . . . . . . . . . . . . . . . . . . . . . . . . . . . . . . . . . . . . . .\n",
      ". . . . . . . . . T T T . . . . . . . . . . . . . . . . . . . . . . . . . . . . . . . . . . . . . . .\n",
      ". . . . . . . . . . . T T . . . . . . . . . . . . . . . . . . . . . . . . . . . . . . . . . . . . . .\n",
      ". . . . . . . . . . . T T T T . . . . . . . . . . . . . . . . . . . . . . . . . . . . . . . . . . . .\n",
      ". . . . . . . . . . . . . . T T T . . . . . . . . . . . . . . . . . . . . . . . . . . . . . . . . . .\n",
      ". . . . . . . . . . . . . . . . T . . . . . . . . . . . . . . . . . . . . . . . . . . . . . . . . . .\n",
      ". . . . . . . . . . . . . . . . T T T . . . . . . . . . . . . . . . . . . . . . . . . . . . . . . . .\n",
      ". . . . . . . . . . . . . . . . T . T T T . . . . . . . . . . . . . . . . . . . . . . . . . . . . . .\n",
      ". . . . . . . . . . . . . . . . . . T . T T T . . . . . . . . . . . . . . . . . . . . . . . . . . . .\n",
      ". . . . . . . . . . . . . . . . . . . . . T . . . . . . . . . . . . . . . . . . . . . . . . . . . . .\n",
      ". . . . . . . . . . . . . . . . . . . . . T T T T . . . . . . . . . . . . . . . . . . . . . . . . . .\n",
      ". . . . . . . . . . . . . . . . . . . . . . . . T . . . . . . . . . . . . . . . . . . . . . . . . . .\n",
      ". . . . . . . . . . . . . . . . . . . . . . . . T . . . . . . . . . . . . . . . . . . . . . . . . . .\n",
      ". . . . . . . . . . . . . . . . . . . . . . . . T . . . . . . . . . . . . . . . . . . . . . . . . . .\n",
      ". . . . . . . . . . . . . . . . . . . . . . . . T T T T T . . . . . . . . . . . . . . . . . . . . . .\n",
      ". . . . . . . . . . . . . . . . . . . . . . . . . . . . T T . . . . . . . . . . . . . . . . . . . . .\n",
      ". . . . . . . . . . . . . . . . . . . . . . . . . . . . . T T . . . . . . . . . . . . . . . . . . . .\n",
      ". . . . . . . . . . . . . . . . . . . . . . . . . . . . . T T . . . . . . . . . . . . . . . . . . . .\n",
      ". . . . . . . . . . . . . . . . . . . . . . . . . . . . . . T T T . . . . . . . . . . . . . . . . . .\n",
      ". . . . . . . . . . . . . . . . . . . . . . . . . . . . . . . . T . . . . . . . . . . . . . . . . . .\n",
      ". . . . . . . . . . . . . . . . . . . . . . . . . . . . . . . . T T T T . . . . . . . . . . . . . . .\n",
      ". . . . . . . . . . . . . . . . . . . . . . . . . . . . . . . . . . . T T . . . . . . . . . . . . . .\n",
      ". . . . . . . . . . . . . . . . . . . . . . . . . . . . . . . . . . . . T . . . . . . . . . . . . . .\n",
      ". . . . . . . . . . . . . . . . . . . . . . . . . . . . . . . . . . . . T T . . . . . . . . . . . . .\n",
      ". . . . . . . . . . . . . . . . . . . . . . . . . . . . . . . . . . . . . T . . . . . . . . . . . . .\n",
      ". . . . . . . . . . . . . . . . . . . . . . . . . . . . . . . . . . . . . T T T . . . . . . . . . . .\n",
      ". . . . . . . . . . . . . . . . . . . . . . . . . . . . . . . . . . . . . T . T T . . . . . . . . . .\n",
      ". . . . . . . . . . . . . . . . . . . . . . . . . . . . . . . . . . . . . . . . T T T . . . . . . . .\n",
      ". . . . . . . . . . . . . . . . . . . . . . . . . . . . . . . . . . . . . . . . . . T . . . . . . . .\n",
      ". . . . . . . . . . . . . . . . . . . . . . . . . . . . . . . . . . . . . . . . . . T . . . . . . . .\n",
      ". . . . . . . . . . . . . . . . . . . . . . . . . . . . . . . . . . . . . . . . . . T T T T T T . . .\n",
      ". . . . . . . . . . . . . . . . . . . . . . . . . . . . . . . . . . . . . . . . . . . . T . T . . . .\n",
      ". . . . . . . . . . . . . . . . . . . . . . . . . . . . . . . . . . . . . . . . . . . . . . T T . . .\n",
      ". . . . . . . . . . . . . . . . . . . . . . . . . . . . . . . . . . . . . . . . . . . . . . . T T T T\n",
      "hEHCdahCEDDagEaAeFDDfFFEFGFhaFdDaaFaeBBehEdhDfABaeaHBADfgcgEcBdDCfbHFegeAhBHdHBfcFhGbfHDGecgbGCgDfbe\n"
     ]
    },
    {
     "data": {
      "text/plain": [
       "True"
      ]
     },
     "execution_count": 27,
     "metadata": {},
     "output_type": "execute_result"
    }
   ],
   "source": [
    "v, bp, t = is_interleave(s1, s2, il, return_backpointers=True, return_table=True)\n",
    "print(show_table(t))\n",
    "print(show_backtrace(bp))\n",
    "v"
   ]
  },
  {
   "cell_type": "code",
   "execution_count": 28,
   "metadata": {},
   "outputs": [
    {
     "data": {
      "text/plain": [
       "True"
      ]
     },
     "execution_count": 28,
     "metadata": {},
     "output_type": "execute_result"
    }
   ],
   "source": [
    "show_backtrace(bp).lower() == il"
   ]
  },
  {
   "cell_type": "code",
   "execution_count": 29,
   "metadata": {},
   "outputs": [
    {
     "data": {
      "text/plain": [
       "('ahgafgaagdgccegafedggefddeaabhffchdgeabcfaacahcgge', False, False)"
      ]
     },
     "execution_count": 29,
     "metadata": {},
     "output_type": "execute_result"
    }
   ],
   "source": [
    "s3 = make_string(50)\n",
    "s3, is_interleave(s1, s3, il), is_interleave(s2, s3, il)"
   ]
  },
  {
   "cell_type": "code",
   "execution_count": 30,
   "metadata": {},
   "outputs": [
    {
     "name": "stdout",
     "output_type": "stream",
     "text": [
      "T . . . . . . . . . . . . . . . . . . . . . . . . . . . . . . . . . . . . . . . . . . . . . . . . . .\n",
      ". . . . . . . . . . . . . . . . . . . . . . . . . . . . . . . . . . . . . . . . . . . . . . . . . . .\n",
      ". . . . . . . . . . . . . . . . . . . . . . . . . . . . . . . . . . . . . . . . . . . . . . . . . . .\n",
      ". . . . . . . . . . . . . . . . . . . . . . . . . . . . . . . . . . . . . . . . . . . . . . . . . . .\n",
      ". . . . . . . . . . . . . . . . . . . . . . . . . . . . . . . . . . . . . . . . . . . . . . . . . . .\n",
      ". . . . . . . . . . . . . . . . . . . . . . . . . . . . . . . . . . . . . . . . . . . . . . . . . . .\n",
      ". . . . . . . . . . . . . . . . . . . . . . . . . . . . . . . . . . . . . . . . . . . . . . . . . . .\n",
      ". . . . . . . . . . . . . . . . . . . . . . . . . . . . . . . . . . . . . . . . . . . . . . . . . . .\n",
      ". . . . . . . . . . . . . . . . . . . . . . . . . . . . . . . . . . . . . . . . . . . . . . . . . . .\n",
      ". . . . . . . . . . . . . . . . . . . . . . . . . . . . . . . . . . . . . . . . . . . . . . . . . . .\n",
      ". . . . . . . . . . . . . . . . . . . . . . . . . . . . . . . . . . . . . . . . . . . . . . . . . . .\n",
      ". . . . . . . . . . . . . . . . . . . . . . . . . . . . . . . . . . . . . . . . . . . . . . . . . . .\n",
      ". . . . . . . . . . . . . . . . . . . . . . . . . . . . . . . . . . . . . . . . . . . . . . . . . . .\n",
      ". . . . . . . . . . . . . . . . . . . . . . . . . . . . . . . . . . . . . . . . . . . . . . . . . . .\n",
      ". . . . . . . . . . . . . . . . . . . . . . . . . . . . . . . . . . . . . . . . . . . . . . . . . . .\n",
      ". . . . . . . . . . . . . . . . . . . . . . . . . . . . . . . . . . . . . . . . . . . . . . . . . . .\n",
      ". . . . . . . . . . . . . . . . . . . . . . . . . . . . . . . . . . . . . . . . . . . . . . . . . . .\n",
      ". . . . . . . . . . . . . . . . . . . . . . . . . . . . . . . . . . . . . . . . . . . . . . . . . . .\n",
      ". . . . . . . . . . . . . . . . . . . . . . . . . . . . . . . . . . . . . . . . . . . . . . . . . . .\n",
      ". . . . . . . . . . . . . . . . . . . . . . . . . . . . . . . . . . . . . . . . . . . . . . . . . . .\n",
      ". . . . . . . . . . . . . . . . . . . . . . . . . . . . . . . . . . . . . . . . . . . . . . . . . . .\n",
      ". . . . . . . . . . . . . . . . . . . . . . . . . . . . . . . . . . . . . . . . . . . . . . . . . . .\n",
      ". . . . . . . . . . . . . . . . . . . . . . . . . . . . . . . . . . . . . . . . . . . . . . . . . . .\n",
      ". . . . . . . . . . . . . . . . . . . . . . . . . . . . . . . . . . . . . . . . . . . . . . . . . . .\n",
      ". . . . . . . . . . . . . . . . . . . . . . . . . . . . . . . . . . . . . . . . . . . . . . . . . . .\n",
      ". . . . . . . . . . . . . . . . . . . . . . . . . . . . . . . . . . . . . . . . . . . . . . . . . . .\n",
      ". . . . . . . . . . . . . . . . . . . . . . . . . . . . . . . . . . . . . . . . . . . . . . . . . . .\n",
      ". . . . . . . . . . . . . . . . . . . . . . . . . . . . . . . . . . . . . . . . . . . . . . . . . . .\n",
      ". . . . . . . . . . . . . . . . . . . . . . . . . . . . . . . . . . . . . . . . . . . . . . . . . . .\n",
      ". . . . . . . . . . . . . . . . . . . . . . . . . . . . . . . . . . . . . . . . . . . . . . . . . . .\n",
      ". . . . . . . . . . . . . . . . . . . . . . . . . . . . . . . . . . . . . . . . . . . . . . . . . . .\n",
      ". . . . . . . . . . . . . . . . . . . . . . . . . . . . . . . . . . . . . . . . . . . . . . . . . . .\n",
      ". . . . . . . . . . . . . . . . . . . . . . . . . . . . . . . . . . . . . . . . . . . . . . . . . . .\n",
      ". . . . . . . . . . . . . . . . . . . . . . . . . . . . . . . . . . . . . . . . . . . . . . . . . . .\n",
      ". . . . . . . . . . . . . . . . . . . . . . . . . . . . . . . . . . . . . . . . . . . . . . . . . . .\n",
      ". . . . . . . . . . . . . . . . . . . . . . . . . . . . . . . . . . . . . . . . . . . . . . . . . . .\n",
      ". . . . . . . . . . . . . . . . . . . . . . . . . . . . . . . . . . . . . . . . . . . . . . . . . . .\n",
      ". . . . . . . . . . . . . . . . . . . . . . . . . . . . . . . . . . . . . . . . . . . . . . . . . . .\n",
      ". . . . . . . . . . . . . . . . . . . . . . . . . . . . . . . . . . . . . . . . . . . . . . . . . . .\n",
      ". . . . . . . . . . . . . . . . . . . . . . . . . . . . . . . . . . . . . . . . . . . . . . . . . . .\n",
      ". . . . . . . . . . . . . . . . . . . . . . . . . . . . . . . . . . . . . . . . . . . . . . . . . . .\n",
      ". . . . . . . . . . . . . . . . . . . . . . . . . . . . . . . . . . . . . . . . . . . . . . . . . . .\n",
      ". . . . . . . . . . . . . . . . . . . . . . . . . . . . . . . . . . . . . . . . . . . . . . . . . . .\n",
      ". . . . . . . . . . . . . . . . . . . . . . . . . . . . . . . . . . . . . . . . . . . . . . . . . . .\n",
      ". . . . . . . . . . . . . . . . . . . . . . . . . . . . . . . . . . . . . . . . . . . . . . . . . . .\n",
      ". . . . . . . . . . . . . . . . . . . . . . . . . . . . . . . . . . . . . . . . . . . . . . . . . . .\n",
      ". . . . . . . . . . . . . . . . . . . . . . . . . . . . . . . . . . . . . . . . . . . . . . . . . . .\n",
      ". . . . . . . . . . . . . . . . . . . . . . . . . . . . . . . . . . . . . . . . . . . . . . . . . . .\n",
      ". . . . . . . . . . . . . . . . . . . . . . . . . . . . . . . . . . . . . . . . . . . . . . . . . . .\n",
      ". . . . . . . . . . . . . . . . . . . . . . . . . . . . . . . . . . . . . . . . . . . . . . . . . . .\n",
      ". . . . . . . . . . . . . . . . . . . . . . . . . . . . . . . . . . . . . . . . . . . . . . . . . . .\n",
      "\n"
     ]
    },
    {
     "data": {
      "text/plain": [
       "False"
      ]
     },
     "execution_count": 30,
     "metadata": {},
     "output_type": "execute_result"
    }
   ],
   "source": [
    "v, bp, t = is_interleave(s1, s3, il, return_backpointers=True, return_table=True)\n",
    "print(show_table(t))\n",
    "print(show_backtrace(bp))\n",
    "v"
   ]
  },
  {
   "cell_type": "code",
   "execution_count": 31,
   "metadata": {
    "collapsed": true
   },
   "outputs": [],
   "source": [
    "def is_interleave_recursive(s1, s2, s3):\n",
    "    if not s1:\n",
    "        return s2 == s3\n",
    "    elif not s2:\n",
    "        return s1 == s3\n",
    "    else:\n",
    "        if s1[-1] == s2[-1] and s1[-1] == s3[-1]:\n",
    "            return is_interleave_recursive(s1[:-1], s2, s3[:-1]) or is_interleave(s1, s2[:-1], s3[:-1])\n",
    "        elif s1[-1] == s3[-1]:\n",
    "            return is_interleave_recursive(s1[:-1], s2, s3[:-1])\n",
    "        elif s2[-1] == s3[-1]:\n",
    "            return is_interleave(s1, s2[:-1], s3[:-1])\n",
    "        else:\n",
    "            return False"
   ]
  },
  {
   "cell_type": "code",
   "execution_count": 48,
   "metadata": {
    "collapsed": true
   },
   "outputs": [],
   "source": [
    "s1 = make_string(500)\n",
    "s2 = make_string(500)\n",
    "s3 = make_string(500)\n",
    "s12 = interleave(s1, s2)\n",
    "s23 = interleave(s2, s3)"
   ]
  },
  {
   "cell_type": "code",
   "execution_count": 49,
   "metadata": {},
   "outputs": [
    {
     "data": {
      "text/plain": [
       "True"
      ]
     },
     "execution_count": 49,
     "metadata": {},
     "output_type": "execute_result"
    }
   ],
   "source": [
    "is_interleave_recursive(s1, s2, s12)"
   ]
  },
  {
   "cell_type": "code",
   "execution_count": 50,
   "metadata": {},
   "outputs": [
    {
     "data": {
      "text/plain": [
       "False"
      ]
     },
     "execution_count": 50,
     "metadata": {},
     "output_type": "execute_result"
    }
   ],
   "source": [
    "is_interleave_recursive(s1, s2, s23)"
   ]
  },
  {
   "cell_type": "markdown",
   "metadata": {},
   "source": [
    "## Example"
   ]
  },
  {
   "cell_type": "code",
   "execution_count": 32,
   "metadata": {
    "collapsed": true
   },
   "outputs": [],
   "source": [
    "def show_annotated_table(table, bps):\n",
    "    return '\\n'.join(' '.join('*' if (i, j) == (0, 0) else bps[i, j][2] if table[i, j] else '.' for j in sorted(set([k[1] for k in table])))\n",
    "        for i in sorted(set([k[0] for k in table])))"
   ]
  },
  {
   "cell_type": "code",
   "execution_count": 33,
   "metadata": {
    "collapsed": true
   },
   "outputs": [],
   "source": [
    "def show_backtrace_star(bps):\n",
    "    i = max([0] + [k[0] for k in bps])\n",
    "    j = max([0] + [k[1] for k in bps])\n",
    "    chars = ''\n",
    "    stars = ''\n",
    "    if (i, j) in bps:\n",
    "        while i != 0 or j != 0:\n",
    "            chars += bps[i, j][2]\n",
    "            if bps[i, j][3] == 'seq1':\n",
    "                stars += '*'\n",
    "            else:\n",
    "                stars += ' '\n",
    "            i, j = bps[i, j][0], bps[i, j][1] \n",
    "        return ''.join(list(reversed(chars))) + '\\n' + ''.join(list(reversed(stars)))\n",
    "    else:\n",
    "        return ''"
   ]
  },
  {
   "cell_type": "code",
   "execution_count": 34,
   "metadata": {},
   "outputs": [
    {
     "data": {
      "text/plain": [
       "('acabcbccaa', 'cabcadddca', 'acabcbcccaaabcadddca', 20)"
      ]
     },
     "execution_count": 34,
     "metadata": {},
     "output_type": "execute_result"
    }
   ],
   "source": [
    "s1 = make_string(10, alphabet='abcd')\n",
    "s2 = make_string(10, alphabet='abcd')\n",
    "s3 = make_string(10, alphabet='abcd')\n",
    "il = interleave(s1, s2)\n",
    "s1, s2, il, len(il)"
   ]
  },
  {
   "cell_type": "code",
   "execution_count": 35,
   "metadata": {},
   "outputs": [
    {
     "name": "stdout",
     "output_type": "stream",
     "text": [
      "* . . . . . . . . . .\n",
      "a c a b c . . . . . .\n",
      "c . . c . . . . . . .\n",
      "a . . . . . . . . . .\n",
      "b c . . . . . . . . .\n",
      "c . . . . . . . . . .\n",
      "b c . . . . . . . . .\n",
      "c c . . . . . . . . .\n",
      "c c a . . . . . . . .\n",
      ". a a . . . . . . . .\n",
      ". a a b c a d d d c a\n",
      "ACABCBcCCaAAbcadddca\n",
      "acabcbcccaaabcadddca\n",
      "****** ** **        \n"
     ]
    },
    {
     "data": {
      "text/plain": [
       "True"
      ]
     },
     "execution_count": 35,
     "metadata": {},
     "output_type": "execute_result"
    }
   ],
   "source": [
    "v, bp, t = is_interleave(s1, s2, il, return_backpointers=True, return_table=True)\n",
    "print(show_annotated_table(t, bp))\n",
    "print(show_backtrace(bp))\n",
    "print(show_backtrace_star(bp))\n",
    "v"
   ]
  },
  {
   "cell_type": "code",
   "execution_count": 36,
   "metadata": {},
   "outputs": [
    {
     "name": "stdout",
     "output_type": "stream",
     "text": [
      "* a c a b c b c c . .\n",
      ". c . . c . c c c a a\n",
      ". a . . . . . . a a a\n",
      ". b c . . . . . . . b\n",
      ". c . . . . . . . . c\n",
      ". . . . . . . . . . a\n",
      ". . . . . . . . . . d\n",
      ". . . . . . . . . . d\n",
      ". . . . . . . . . . d\n",
      ". . . . . . . . . . c\n",
      ". . . . . . . . . . a\n",
      "acabcbccCaaABCADDDCA\n",
      "acabcbcccaaabcadddca\n",
      "        *  *********\n"
     ]
    },
    {
     "data": {
      "text/plain": [
       "True"
      ]
     },
     "execution_count": 36,
     "metadata": {},
     "output_type": "execute_result"
    }
   ],
   "source": [
    "v, bp, t = is_interleave(s2, s1, il, return_backpointers=True, return_table=True)\n",
    "print(show_annotated_table(t, bp))\n",
    "print(show_backtrace(bp))\n",
    "print(show_backtrace_star(bp))\n",
    "v"
   ]
  },
  {
   "cell_type": "code",
   "execution_count": 37,
   "metadata": {},
   "outputs": [
    {
     "name": "stdout",
     "output_type": "stream",
     "text": [
      "* a . . . . . . . . .\n",
      "a . . . . . . . . . .\n",
      "c a . . . . . . . . .\n",
      "a . . . . . . . . . .\n",
      "b . . . . . . . . . .\n",
      "c . . . . . . . . . .\n",
      "b . . . . . . . . . .\n",
      "c . . . . . . . . . .\n",
      "c . . . . . . . . . .\n",
      ". . . . . . . . . . .\n",
      ". . . . . . . . . . .\n",
      "\n",
      "\n"
     ]
    },
    {
     "data": {
      "text/plain": [
       "False"
      ]
     },
     "execution_count": 37,
     "metadata": {},
     "output_type": "execute_result"
    }
   ],
   "source": [
    "v, bp, t = is_interleave(s1, s3, il, return_backpointers=True, return_table=True)\n",
    "print(show_annotated_table(t, bp))\n",
    "print(show_backtrace(bp))\n",
    "print(show_backtrace_star(bp))\n",
    "v"
   ]
  },
  {
   "cell_type": "code",
   "execution_count": 38,
   "metadata": {},
   "outputs": [
    {
     "name": "stdout",
     "output_type": "stream",
     "text": [
      "* a . . . . . . . . .\n",
      ". c . . . . . . . . .\n",
      ". a . . . . . . . . .\n",
      ". b . . . . . . . . .\n",
      ". c . . . . . . . . .\n",
      ". . . . . . . . . . .\n",
      ". . . . . . . . . . .\n",
      ". . . . . . . . . . .\n",
      ". . . . . . . . . . .\n",
      ". . . . . . . . . . .\n",
      ". . . . . . . . . . .\n",
      "aCABC\n",
      "acabc\n",
      " ****\n"
     ]
    },
    {
     "data": {
      "text/plain": [
       "False"
      ]
     },
     "execution_count": 38,
     "metadata": {},
     "output_type": "execute_result"
    }
   ],
   "source": [
    "v, bp, t = is_interleave(s2, s3, il, return_backpointers=True, return_table=True)\n",
    "print(show_annotated_table(t, bp))\n",
    "print(show_backtrace(bp))\n",
    "print(show_backtrace_star(bp))\n",
    "v"
   ]
  },
  {
   "cell_type": "code",
   "execution_count": null,
   "metadata": {
    "collapsed": true
   },
   "outputs": [],
   "source": []
  }
 ],
 "metadata": {
  "kernelspec": {
   "display_name": "Python 3",
   "language": "python",
   "name": "python3"
  },
  "language_info": {
   "codemirror_mode": {
    "name": "ipython",
    "version": 3
   },
   "file_extension": ".py",
   "mimetype": "text/x-python",
   "name": "python",
   "nbconvert_exporter": "python",
   "pygments_lexer": "ipython3",
   "version": "3.5.2+"
  }
 },
 "nbformat": 4,
 "nbformat_minor": 1
}
