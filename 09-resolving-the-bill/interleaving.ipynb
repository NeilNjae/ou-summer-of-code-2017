{
 "cells": [
  {
   "cell_type": "markdown",
   "metadata": {},
   "source": [
    "# Interleaved strings\n",
    "\n",
    "Given two strings a and b and a target c, could c be formed form some interleaving/merge of a and b?\n",
    "\n",
    "For example,\n",
    "Given:\n",
    "s1 = \"aabcc\",\n",
    "s2 = \"dbbca\",\n",
    "\n",
    "When s3 = \"aadbbcbcac\", return true.\n",
    "When s3 = \"aadbbbaccc\", return false."
   ]
  },
  {
   "cell_type": "code",
   "execution_count": 3,
   "metadata": {
    "collapsed": true
   },
   "outputs": [],
   "source": [
    "import random\n",
    "import string"
   ]
  },
  {
   "cell_type": "code",
   "execution_count": 4,
   "metadata": {
    "collapsed": true
   },
   "outputs": [],
   "source": [
    "s1 = \"aabcc\"\n",
    "s2 = \"dbbca\"\n",
    "\n",
    "s3t = \"aadbbcbcac\"\n",
    "s3f = \"aadbbbaccc\""
   ]
  },
  {
   "cell_type": "code",
   "execution_count": 5,
   "metadata": {},
   "outputs": [
    {
     "data": {
      "text/plain": [
       "[(0, ''), (1, 'a'), (2, 'aa'), (3, 'aab'), (4, 'aabc'), (5, 'aabcc')]"
      ]
     },
     "execution_count": 5,
     "metadata": {},
     "output_type": "execute_result"
    }
   ],
   "source": [
    "[(i, s1[:i]) for i in range(len(s1)+1)]"
   ]
  },
  {
   "cell_type": "markdown",
   "metadata": {},
   "source": [
    "`dp_table[i, j]` is True if first `i` + `j` characters of `s3` can be formed from interleaving of first `i` characters of `s1` and first `j` characters of `s2`."
   ]
  },
  {
   "cell_type": "code",
   "execution_count": 6,
   "metadata": {},
   "outputs": [
    {
     "data": {
      "text/plain": [
       "[[True, False, False, False, False, False],\n",
       " [False, False, False, False, False, False],\n",
       " [False, False, False, False, False, False],\n",
       " [False, False, False, False, False, False],\n",
       " [False, False, False, False, False, False],\n",
       " [False, False, False, False, False, False]]"
      ]
     },
     "execution_count": 6,
     "metadata": {},
     "output_type": "execute_result"
    }
   ],
   "source": [
    "dp_table = [[False] * (len(s1) + 1) for _ in range(len(s2) + 1)]\n",
    "dp_table[0][0] = True\n",
    "dp_table"
   ]
  },
  {
   "cell_type": "code",
   "execution_count": 7,
   "metadata": {
    "scrolled": true
   },
   "outputs": [
    {
     "data": {
      "text/plain": [
       "{(0, 0): False,\n",
       " (0, 1): False,\n",
       " (0, 2): False,\n",
       " (0, 3): False,\n",
       " (0, 4): False,\n",
       " (0, 5): False,\n",
       " (1, 0): False,\n",
       " (1, 1): False,\n",
       " (1, 2): False,\n",
       " (1, 3): False,\n",
       " (1, 4): False,\n",
       " (1, 5): False,\n",
       " (2, 0): False,\n",
       " (2, 1): False,\n",
       " (2, 2): False,\n",
       " (2, 3): False,\n",
       " (2, 4): False,\n",
       " (2, 5): False,\n",
       " (3, 0): False,\n",
       " (3, 1): False,\n",
       " (3, 2): False,\n",
       " (3, 3): False,\n",
       " (3, 4): False,\n",
       " (3, 5): False,\n",
       " (4, 0): False,\n",
       " (4, 1): False,\n",
       " (4, 2): False,\n",
       " (4, 3): False,\n",
       " (4, 4): False,\n",
       " (4, 5): False,\n",
       " (5, 0): False,\n",
       " (5, 1): False,\n",
       " (5, 2): False,\n",
       " (5, 3): False,\n",
       " (5, 4): False,\n",
       " (5, 5): False}"
      ]
     },
     "execution_count": 7,
     "metadata": {},
     "output_type": "execute_result"
    }
   ],
   "source": [
    "dp_table = {(i, j): False\n",
    "           for i in range(len(s1)+1)\n",
    "           for j in range(len(s2)+1)}\n",
    "dp_table"
   ]
  },
  {
   "cell_type": "code",
   "execution_count": 8,
   "metadata": {
    "collapsed": true
   },
   "outputs": [],
   "source": [
    "def show_table(table):\n",
    "    return '\\n'.join(\n",
    "        ' '.join(str(table[i, j])[0] for j in sorted(set([k[1] for k in table])))\n",
    "        for i in sorted(set([k[0] for k in table])))        "
   ]
  },
  {
   "cell_type": "code",
   "execution_count": 9,
   "metadata": {
    "collapsed": true
   },
   "outputs": [],
   "source": [
    "def show_table(table):\n",
    "    return '\\n'.join(\n",
    "        ' '.join('T' if table[i, j] else '.' for j in sorted(set([k[1] for k in table])))\n",
    "        for i in sorted(set([k[0] for k in table])))        "
   ]
  },
  {
   "cell_type": "code",
   "execution_count": 10,
   "metadata": {},
   "outputs": [
    {
     "name": "stdout",
     "output_type": "stream",
     "text": [
      ". . . . . .\n",
      ". . . . . .\n",
      ". . . . . .\n",
      ". . . . . .\n",
      ". . . . . .\n",
      ". . . . . .\n"
     ]
    }
   ],
   "source": [
    "print(show_table(dp_table))"
   ]
  },
  {
   "cell_type": "code",
   "execution_count": 11,
   "metadata": {},
   "outputs": [
    {
     "name": "stdout",
     "output_type": "stream",
     "text": [
      "aabcc dbbca aadbbcbcac\n",
      "aa 0 0 ! ! ! True\n",
      "s2 0 1 ! d a False\n",
      "s2 0 2 ! b a False\n",
      "s2 0 3 ! b d False\n",
      "s2 0 4 ! c b False\n",
      "s2 0 5 ! a b False\n",
      "s1 1 0 a ! a True\n",
      "xx 1 1 a d a False\n",
      "xx 1 2 a b d False\n",
      "xx 1 3 a b b False\n",
      "xx 1 4 a c b False\n",
      "xx 1 5 a a c False\n",
      "s1 2 0 a ! a True\n",
      "s2 2 1 a d d True\n",
      "s2 2 2 a b b True\n",
      "s2 2 3 a b b True\n",
      "s2 2 4 a c c True\n",
      "xx 2 5 a a b False\n",
      "s1 3 0 b ! d False\n",
      "s1 3 1 b d b True\n",
      "s2 3 2 b b b True\n",
      "s1 3 2 b b b True\n",
      "xx 3 3 b b c False\n",
      "s1 3 4 b c b True\n",
      "xx 3 5 b a c False\n",
      "s1 4 0 c ! b False\n",
      "xx 4 1 c d b False\n",
      "s1 4 2 c b c True\n",
      "s2 4 3 c b b True\n",
      "s2 4 4 c c c True\n",
      "s1 4 4 c c c True\n",
      "s2 4 5 c a a True\n",
      "s1 5 0 c ! b False\n",
      "xx 5 1 c d c False\n",
      "xx 5 2 c b b False\n",
      "s1 5 3 c b c True\n",
      "xx 5 4 c c a False\n",
      "s1 5 5 c a c True\n",
      "T . . . . .\n",
      "T . . . . .\n",
      "T T T T T .\n",
      ". T T . T .\n",
      ". . T T T T\n",
      ". . . T . T\n"
     ]
    },
    {
     "data": {
      "text/plain": [
       "{(1, 0): (0, 0, 'a', 's1'),\n",
       " (2, 0): (1, 0, 'a', 's1'),\n",
       " (2, 1): (2, 0, 'd', 's2'),\n",
       " (2, 2): (2, 1, 'b', 's2'),\n",
       " (2, 3): (2, 2, 'b', 's2'),\n",
       " (2, 4): (2, 3, 'c', 's2'),\n",
       " (3, 1): (2, 1, 'b', 's1'),\n",
       " (3, 2): (2, 2, 'b', 's1'),\n",
       " (3, 4): (2, 4, 'b', 's1'),\n",
       " (4, 2): (3, 2, 'c', 's1'),\n",
       " (4, 3): (4, 2, 'b', 's2'),\n",
       " (4, 4): (3, 4, 'c', 's1'),\n",
       " (4, 5): (4, 4, 'a', 's2'),\n",
       " (5, 3): (4, 3, 'c', 's1'),\n",
       " (5, 5): (4, 5, 'c', 's1')}"
      ]
     },
     "execution_count": 11,
     "metadata": {},
     "output_type": "execute_result"
    }
   ],
   "source": [
    "s3 = s3t\n",
    "\n",
    "print(s1, s2, s3)\n",
    "\n",
    "dp_table = {(i, j): False\n",
    "           for i in range(len(s1)+1)\n",
    "           for j in range(len(s2)+1)}\n",
    "\n",
    "backpointers = {}\n",
    "\n",
    "for i in range(len(s1)+1):\n",
    "    for j in range(len(s2)+1):\n",
    "        if i == 0 and j == 0:\n",
    "            dp_table[i, j] = True\n",
    "            print('aa', i, j, '!', '!', '!', dp_table[i, j])\n",
    "        elif i == 0:\n",
    "            # extend by character from s2\n",
    "            if dp_table[i, j-1] and s2[j-1] == s3[i+j-1]:\n",
    "                dp_table[i, j] = True\n",
    "                backpointers[i, j] = (i, j-1, s2[j-1], 's2')\n",
    "            print('s2', i, j, '!', s2[j-1], s3[i+j-1], dp_table[i, j])\n",
    "        elif j == 0:\n",
    "            # extend by character from s1\n",
    "            if dp_table[i-1, j] and s1[i-1] == s3[i+j-1]:\n",
    "                dp_table[i, j] = True\n",
    "                backpointers[i, j] = (i-1, j, s1[i-1], 's1')\n",
    "            print('s1', i, j, s1[i-1], '!', s3[i+j-1], dp_table[i, j])\n",
    "        else:\n",
    "            # extend by character from s2\n",
    "            if dp_table[i, j-1] and s2[j-1] == s3[i+j-1]:\n",
    "                dp_table[i, j] = True\n",
    "                backpointers[i, j] = (i, j-1, s2[j-1], 's2')\n",
    "                print('s2', i, j, s1[i-1], s2[j-1], s3[i+j-1], dp_table[i, j])                \n",
    "            # extend by character from s1\n",
    "            if dp_table[i-1, j] and s1[i-1] == s3[i+j-1]:\n",
    "                dp_table[i, j] = True\n",
    "                backpointers[i, j] = (i-1, j, s1[i-1], 's1')                \n",
    "                print('s1', i, j, s1[i-1], s2[j-1], s3[i+j-1], dp_table[i, j])\n",
    "            if not dp_table[i, j]:\n",
    "                print('xx', i, j, s1[i-1], s2[j-1], s3[i+j-1], dp_table[i, j])\n",
    "\n",
    "print(show_table(dp_table))\n",
    "backpointers"
   ]
  },
  {
   "cell_type": "code",
   "execution_count": 12,
   "metadata": {
    "collapsed": true
   },
   "outputs": [],
   "source": [
    "def is_interleave(seq1, seq2, seq3, return_backpointers=False, return_table=False, debug=False):\n",
    "    \"\"\"Return true if seq3 is some interleaved merge of seq1 and seq2.\n",
    "    If return_backpointers, also return the set of backpointers to\n",
    "    reconstruct the interleaving\"\"\"\n",
    "    \n",
    "    # dp_table[i, j] is True if first i+j characters of seq is made up of \n",
    "    # an interleaving of the first i characters of seq1 and the \n",
    "    # first j characters of seq2\n",
    "    \n",
    "    if len(seq1) + len(seq2) != len(seq3):\n",
    "        if return_backpointers or return_table:\n",
    "            retval = [False]\n",
    "            if return_backpointers:\n",
    "                retval += [{}]\n",
    "            if return_table:\n",
    "                retval += [{}]\n",
    "            return tuple(retval)\n",
    "        else:\n",
    "            return False\n",
    "    \n",
    "    dp_table = {(i, j): False\n",
    "               for i in range(len(seq1)+1)\n",
    "               for j in range(len(seq2)+1)}\n",
    "\n",
    "    backpointers = {}\n",
    "\n",
    "    for i in range(len(seq1)+1):\n",
    "        for j in range(len(seq2)+1):\n",
    "            if i == 0 and j == 0:\n",
    "                dp_table[i, j] = True\n",
    "                if debug: print('xxxx', i, j, '!', '!', '!', dp_table[i, j])\n",
    "            elif i == 0:\n",
    "                # extend by character from seq2\n",
    "                if dp_table[i, j-1] and seq2[j-1] == seq3[i+j-1]:\n",
    "                    dp_table[i, j] = True\n",
    "                    backpointers[i, j] = (i, j-1, seq2[j-1], 'seq2')\n",
    "                if debug: print('seq2', i, j, '!', seq2[j-1], seq3[i+j-1], dp_table[i, j])\n",
    "            elif j == 0:\n",
    "                # extend by character from seq1\n",
    "                if dp_table[i-1, j] and seq1[i-1] == seq3[i+j-1]:\n",
    "                    dp_table[i, j] = True\n",
    "                    backpointers[i, j] = (i-1, j, seq1[i-1], 'seq1')\n",
    "                if debug: print('seq1', i, j, seq1[i-1], '!', seq3[i+j-1], dp_table[i, j])\n",
    "            else:\n",
    "                # extend by character from seq2\n",
    "                if dp_table[i, j-1] and seq2[j-1] == seq3[i+j-1]:\n",
    "                    dp_table[i, j] = True\n",
    "                    backpointers[i, j] = (i, j-1, seq2[j-1], 'seq2')\n",
    "                    if debug: print('seq2', i, j, seq1[i-1], seq2[j-1], seq3[i+j-1], dp_table[i, j])                \n",
    "                # extend by character from seq1\n",
    "                if dp_table[i-1, j] and seq1[i-1] == seq3[i+j-1]:\n",
    "                    dp_table[i, j] = True\n",
    "                    backpointers[i, j] = (i-1, j, seq1[i-1], 'seq1')                \n",
    "                    if debug: print('seq1', i, j, seq1[i-1], seq2[j-1], seq3[i+j-1], dp_table[i, j])\n",
    "                if not dp_table[i, j]:\n",
    "                    if debug: print('xxxx', i, j, seq1[i-1], seq2[j-1], seq3[i+j-1], dp_table[i, j])\n",
    "\n",
    "    if return_backpointers or return_table:\n",
    "        retval = [dp_table[len(seq1), len(seq2)]]\n",
    "        if return_backpointers:\n",
    "            retval += [backpointers]\n",
    "        if return_table:\n",
    "            retval += [dp_table]\n",
    "        return tuple(retval)\n",
    "    else:\n",
    "        return dp_table[len(seq1), len(seq2)]"
   ]
  },
  {
   "cell_type": "code",
   "execution_count": 13,
   "metadata": {},
   "outputs": [
    {
     "data": {
      "text/plain": [
       "True"
      ]
     },
     "execution_count": 13,
     "metadata": {},
     "output_type": "execute_result"
    }
   ],
   "source": [
    "is_interleave(s1, s2, s3t)"
   ]
  },
  {
   "cell_type": "code",
   "execution_count": 14,
   "metadata": {},
   "outputs": [
    {
     "data": {
      "text/plain": [
       "(True,\n",
       " {(1, 0): (0, 0, 'a', 'seq1'),\n",
       "  (2, 0): (1, 0, 'a', 'seq1'),\n",
       "  (2, 1): (2, 0, 'd', 'seq2'),\n",
       "  (2, 2): (2, 1, 'b', 'seq2'),\n",
       "  (2, 3): (2, 2, 'b', 'seq2'),\n",
       "  (2, 4): (2, 3, 'c', 'seq2'),\n",
       "  (3, 1): (2, 1, 'b', 'seq1'),\n",
       "  (3, 2): (2, 2, 'b', 'seq1'),\n",
       "  (3, 4): (2, 4, 'b', 'seq1'),\n",
       "  (4, 2): (3, 2, 'c', 'seq1'),\n",
       "  (4, 3): (4, 2, 'b', 'seq2'),\n",
       "  (4, 4): (3, 4, 'c', 'seq1'),\n",
       "  (4, 5): (4, 4, 'a', 'seq2'),\n",
       "  (5, 3): (4, 3, 'c', 'seq1'),\n",
       "  (5, 5): (4, 5, 'c', 'seq1')})"
      ]
     },
     "execution_count": 14,
     "metadata": {},
     "output_type": "execute_result"
    }
   ],
   "source": [
    "is_interleave(s1, s2, s3t, return_backpointers=True)"
   ]
  },
  {
   "cell_type": "code",
   "execution_count": 15,
   "metadata": {
    "scrolled": true
   },
   "outputs": [
    {
     "data": {
      "text/plain": [
       "(True,\n",
       " {(1, 0): (0, 0, 'a', 'seq1'),\n",
       "  (2, 0): (1, 0, 'a', 'seq1'),\n",
       "  (2, 1): (2, 0, 'd', 'seq2'),\n",
       "  (2, 2): (2, 1, 'b', 'seq2'),\n",
       "  (2, 3): (2, 2, 'b', 'seq2'),\n",
       "  (2, 4): (2, 3, 'c', 'seq2'),\n",
       "  (3, 1): (2, 1, 'b', 'seq1'),\n",
       "  (3, 2): (2, 2, 'b', 'seq1'),\n",
       "  (3, 4): (2, 4, 'b', 'seq1'),\n",
       "  (4, 2): (3, 2, 'c', 'seq1'),\n",
       "  (4, 3): (4, 2, 'b', 'seq2'),\n",
       "  (4, 4): (3, 4, 'c', 'seq1'),\n",
       "  (4, 5): (4, 4, 'a', 'seq2'),\n",
       "  (5, 3): (4, 3, 'c', 'seq1'),\n",
       "  (5, 5): (4, 5, 'c', 'seq1')},\n",
       " {(0, 0): True,\n",
       "  (0, 1): False,\n",
       "  (0, 2): False,\n",
       "  (0, 3): False,\n",
       "  (0, 4): False,\n",
       "  (0, 5): False,\n",
       "  (1, 0): True,\n",
       "  (1, 1): False,\n",
       "  (1, 2): False,\n",
       "  (1, 3): False,\n",
       "  (1, 4): False,\n",
       "  (1, 5): False,\n",
       "  (2, 0): True,\n",
       "  (2, 1): True,\n",
       "  (2, 2): True,\n",
       "  (2, 3): True,\n",
       "  (2, 4): True,\n",
       "  (2, 5): False,\n",
       "  (3, 0): False,\n",
       "  (3, 1): True,\n",
       "  (3, 2): True,\n",
       "  (3, 3): False,\n",
       "  (3, 4): True,\n",
       "  (3, 5): False,\n",
       "  (4, 0): False,\n",
       "  (4, 1): False,\n",
       "  (4, 2): True,\n",
       "  (4, 3): True,\n",
       "  (4, 4): True,\n",
       "  (4, 5): True,\n",
       "  (5, 0): False,\n",
       "  (5, 1): False,\n",
       "  (5, 2): False,\n",
       "  (5, 3): True,\n",
       "  (5, 4): False,\n",
       "  (5, 5): True})"
      ]
     },
     "execution_count": 15,
     "metadata": {},
     "output_type": "execute_result"
    }
   ],
   "source": [
    "is_interleave(s1, s2, s3t, return_backpointers=True, return_table=True)"
   ]
  },
  {
   "cell_type": "code",
   "execution_count": 16,
   "metadata": {},
   "outputs": [
    {
     "data": {
      "text/plain": [
       "False"
      ]
     },
     "execution_count": 16,
     "metadata": {},
     "output_type": "execute_result"
    }
   ],
   "source": [
    "is_interleave(s1, s2, s3f)"
   ]
  },
  {
   "cell_type": "code",
   "execution_count": 17,
   "metadata": {},
   "outputs": [
    {
     "name": "stdout",
     "output_type": "stream",
     "text": [
      "xxxx 0 0 ! ! ! True\n",
      "seq2 0 1 ! b a False\n",
      "seq2 0 2 ! b a False\n",
      "seq2 0 3 ! b a False\n",
      "seq1 1 0 a ! a True\n",
      "xxxx 1 1 a b a False\n",
      "xxxx 1 2 a b a False\n",
      "xxxx 1 3 a b b False\n",
      "seq1 2 0 a ! a True\n",
      "xxxx 2 1 a b a False\n",
      "xxxx 2 2 a b b False\n",
      "xxxx 2 3 a b a False\n",
      "seq1 3 0 a ! a True\n",
      "seq2 3 1 a b b True\n",
      "xxxx 3 2 a b a False\n",
      "xxxx 3 3 a b b False\n",
      "seq1 4 0 a ! b False\n",
      "seq1 4 1 a b a True\n",
      "seq2 4 2 a b b True\n",
      "seq2 4 3 a b b True\n"
     ]
    },
    {
     "data": {
      "text/plain": [
       "(True,\n",
       " {(1, 0): (0, 0, 'a', 'seq1'),\n",
       "  (2, 0): (1, 0, 'a', 'seq1'),\n",
       "  (3, 0): (2, 0, 'a', 'seq1'),\n",
       "  (3, 1): (3, 0, 'b', 'seq2'),\n",
       "  (4, 1): (3, 1, 'a', 'seq1'),\n",
       "  (4, 2): (4, 1, 'b', 'seq2'),\n",
       "  (4, 3): (4, 2, 'b', 'seq2')})"
      ]
     },
     "execution_count": 17,
     "metadata": {},
     "output_type": "execute_result"
    }
   ],
   "source": [
    "is_interleave('aaaa', 'bbb', 'aaababb', return_backpointers=True, debug=True)"
   ]
  },
  {
   "cell_type": "code",
   "execution_count": 18,
   "metadata": {
    "collapsed": true
   },
   "outputs": [],
   "source": [
    "def show_backtrace(bps):\n",
    "    i = max([0] + [k[0] for k in bps])\n",
    "    j = max([0] + [k[1] for k in bps])\n",
    "    chars = ''\n",
    "    if (i, j) in bps:\n",
    "        while i != 0 or j != 0:\n",
    "            if bps[i, j][3] == 'seq1':\n",
    "                chars += bps[i, j][2].upper()\n",
    "            else:\n",
    "                chars += bps[i, j][2]\n",
    "            i, j = bps[i, j][0], bps[i, j][1] \n",
    "        return ''.join(list(reversed(chars)))\n",
    "    else:\n",
    "        return ''"
   ]
  },
  {
   "cell_type": "code",
   "execution_count": 19,
   "metadata": {
    "collapsed": true
   },
   "outputs": [],
   "source": [
    "def make_string(length, alphabet=None):\n",
    "    if not alphabet:\n",
    "        alphabet = 'abcdefgh'\n",
    "    return ''.join(random.choice(alphabet) for _ in range(length))    "
   ]
  },
  {
   "cell_type": "code",
   "execution_count": 20,
   "metadata": {},
   "outputs": [
    {
     "data": {
      "text/plain": [
       "'fcdafhachbgaheghbbcehecbgfgbbbedcgcgcagdcgcbffdgbg'"
      ]
     },
     "execution_count": 20,
     "metadata": {},
     "output_type": "execute_result"
    }
   ],
   "source": [
    "make_string(50)"
   ]
  },
  {
   "cell_type": "code",
   "execution_count": 21,
   "metadata": {
    "collapsed": true
   },
   "outputs": [],
   "source": [
    "def interleave(s1, s2, wander_limit=10, debug=False):\n",
    "    i1 = i2 = wander = 0\n",
    "    interleaved = []\n",
    "    while i1 <= len(s1) and i2 <= len(s2):\n",
    "        if i1 == len(s1):\n",
    "            if debug: print(i1, i2, wander, 'remaining s2', s2[i2:])\n",
    "            interleaved += s2[i2:]\n",
    "            i2 = len(s2) + 1\n",
    "        elif i2 == len(s2):\n",
    "            if debug: print(i1, i2, wander, 'remaining s1', s1[i1:])\n",
    "            interleaved += s1[i1:]\n",
    "            i1 = len(s1) + 1\n",
    "        else:\n",
    "            if wander == wander_limit:\n",
    "                step = -1\n",
    "            elif wander == -wander_limit:\n",
    "                step = +1\n",
    "            else:\n",
    "                step = random.choice([+1, -1])\n",
    "            if step == +1:\n",
    "                if debug: print(i1, i2, wander, 'adding', s1[i1])\n",
    "                interleaved += s1[i1]\n",
    "                i1 += 1\n",
    "                wander += 1\n",
    "            else:\n",
    "                if debug: print(i1, i2, wander, 'adding', s2[i2])\n",
    "                interleaved += s2[i2]\n",
    "                i2 += 1\n",
    "                wander -= 1\n",
    "    return ''.join(interleaved)\n",
    "            "
   ]
  },
  {
   "cell_type": "code",
   "execution_count": 22,
   "metadata": {},
   "outputs": [
    {
     "name": "stdout",
     "output_type": "stream",
     "text": [
      "0 0 0 adding b\n",
      "1 0 1 adding x\n",
      "1 1 0 adding z\n",
      "1 2 -1 adding h\n",
      "2 2 0 adding v\n",
      "2 3 -1 adding w\n",
      "2 4 -2 adding f\n",
      "3 4 -1 adding g\n",
      "4 4 0 adding g\n",
      "5 4 1 adding w\n",
      "5 5 0 adding z\n",
      "5 6 -1 adding x\n",
      "5 7 -2 adding w\n",
      "5 8 -3 adding w\n",
      "5 9 -4 adding e\n",
      "6 9 -3 adding h\n",
      "7 9 -2 adding c\n",
      "8 9 -1 adding x\n",
      "8 10 -2 adding y\n",
      "8 11 -3 adding d\n",
      "9 11 -2 adding x\n",
      "9 12 -3 adding a\n",
      "10 12 -2 adding e\n",
      "11 12 -1 adding a\n",
      "12 12 0 adding z\n",
      "12 13 -1 adding y\n",
      "12 14 -2 adding x\n",
      "12 15 -3 adding h\n",
      "13 15 -2 adding x\n",
      "13 16 -3 adding x\n",
      "13 17 -4 adding u\n",
      "13 18 -5 adding d\n",
      "14 18 -4 adding w\n",
      "14 19 -5 adding e\n",
      "15 19 -4 adding b\n",
      "16 19 -3 adding w\n",
      "16 20 -4 remaining s1 eaca\n"
     ]
    },
    {
     "data": {
      "text/plain": [
       "('bhfggehcdaeahdebeaca',\n",
       " 'xzvwwzxwwxyxzyxxxuww',\n",
       " 'bxzhvwfggwzxwwehcxydxaeazyxhxxudwebweaca',\n",
       " 40)"
      ]
     },
     "execution_count": 22,
     "metadata": {},
     "output_type": "execute_result"
    }
   ],
   "source": [
    "s1 = make_string(20)\n",
    "s2 = make_string(20, alphabet='uvwxyz')\n",
    "il = interleave(s1, s2, wander_limit=5, debug=True)\n",
    "s1, s2, il, len(il)"
   ]
  },
  {
   "cell_type": "code",
   "execution_count": 23,
   "metadata": {},
   "outputs": [
    {
     "name": "stdout",
     "output_type": "stream",
     "text": [
      "xxxx 0 0 ! ! ! True\n",
      "seq2 0 1 ! b b True\n",
      "seq2 0 2 ! h x False\n",
      "seq2 0 3 ! f z False\n",
      "seq2 0 4 ! g h False\n",
      "seq2 0 5 ! g v False\n",
      "seq2 0 6 ! e w False\n",
      "seq2 0 7 ! h f False\n",
      "seq2 0 8 ! c g False\n",
      "seq2 0 9 ! d g False\n",
      "seq2 0 10 ! a w False\n",
      "seq2 0 11 ! e z False\n",
      "seq2 0 12 ! a x False\n",
      "seq2 0 13 ! h w False\n",
      "seq2 0 14 ! d w False\n",
      "seq2 0 15 ! e e False\n",
      "seq2 0 16 ! b h False\n",
      "seq2 0 17 ! e c False\n",
      "seq2 0 18 ! a x False\n",
      "seq2 0 19 ! c y False\n",
      "seq2 0 20 ! a d False\n",
      "seq1 1 0 x ! b False\n",
      "seq1 1 1 x b x True\n",
      "xxxx 1 2 x h z False\n",
      "xxxx 1 3 x f h False\n",
      "xxxx 1 4 x g v False\n",
      "xxxx 1 5 x g w False\n",
      "xxxx 1 6 x e f False\n",
      "xxxx 1 7 x h g False\n",
      "xxxx 1 8 x c g False\n",
      "xxxx 1 9 x d w False\n",
      "xxxx 1 10 x a z False\n",
      "xxxx 1 11 x e x False\n",
      "xxxx 1 12 x a w False\n",
      "xxxx 1 13 x h w False\n",
      "xxxx 1 14 x d e False\n",
      "xxxx 1 15 x e h False\n",
      "xxxx 1 16 x b c False\n",
      "xxxx 1 17 x e x False\n",
      "xxxx 1 18 x a y False\n",
      "xxxx 1 19 x c d False\n",
      "xxxx 1 20 x a x False\n",
      "seq1 2 0 z ! x False\n",
      "seq1 2 1 z b z True\n",
      "seq2 2 2 z h h True\n",
      "xxxx 2 3 z f v False\n",
      "xxxx 2 4 z g w False\n",
      "xxxx 2 5 z g f False\n",
      "xxxx 2 6 z e g False\n",
      "xxxx 2 7 z h g False\n",
      "xxxx 2 8 z c w False\n",
      "xxxx 2 9 z d z False\n",
      "xxxx 2 10 z a x False\n",
      "xxxx 2 11 z e w False\n",
      "xxxx 2 12 z a w False\n",
      "xxxx 2 13 z h e False\n",
      "xxxx 2 14 z d h False\n",
      "xxxx 2 15 z e c False\n",
      "xxxx 2 16 z b x False\n",
      "xxxx 2 17 z e y False\n",
      "xxxx 2 18 z a d False\n",
      "xxxx 2 19 z c x False\n",
      "xxxx 2 20 z a a False\n",
      "seq1 3 0 v ! z False\n",
      "xxxx 3 1 v b h False\n",
      "seq1 3 2 v h v True\n",
      "xxxx 3 3 v f w False\n",
      "xxxx 3 4 v g f False\n",
      "xxxx 3 5 v g g False\n",
      "xxxx 3 6 v e g False\n",
      "xxxx 3 7 v h w False\n",
      "xxxx 3 8 v c z False\n",
      "xxxx 3 9 v d x False\n",
      "xxxx 3 10 v a w False\n",
      "xxxx 3 11 v e w False\n",
      "xxxx 3 12 v a e False\n",
      "xxxx 3 13 v h h False\n",
      "xxxx 3 14 v d c False\n",
      "xxxx 3 15 v e x False\n",
      "xxxx 3 16 v b y False\n",
      "xxxx 3 17 v e d False\n",
      "xxxx 3 18 v a x False\n",
      "xxxx 3 19 v c a False\n",
      "xxxx 3 20 v a e False\n",
      "seq1 4 0 w ! h False\n",
      "xxxx 4 1 w b v False\n",
      "seq1 4 2 w h w True\n",
      "seq2 4 3 w f f True\n",
      "seq2 4 4 w g g True\n",
      "seq2 4 5 w g g True\n",
      "xxxx 4 6 w e w False\n",
      "xxxx 4 7 w h z False\n",
      "xxxx 4 8 w c x False\n",
      "xxxx 4 9 w d w False\n",
      "xxxx 4 10 w a w False\n",
      "xxxx 4 11 w e e False\n",
      "xxxx 4 12 w a h False\n",
      "xxxx 4 13 w h c False\n",
      "xxxx 4 14 w d x False\n",
      "xxxx 4 15 w e y False\n",
      "xxxx 4 16 w b d False\n",
      "xxxx 4 17 w e x False\n",
      "xxxx 4 18 w a a False\n",
      "xxxx 4 19 w c e False\n",
      "xxxx 4 20 w a a False\n",
      "seq1 5 0 w ! v False\n",
      "xxxx 5 1 w b w False\n",
      "xxxx 5 2 w h f False\n",
      "xxxx 5 3 w f g False\n",
      "xxxx 5 4 w g g False\n",
      "seq1 5 5 w g w True\n",
      "xxxx 5 6 w e z False\n",
      "xxxx 5 7 w h x False\n",
      "xxxx 5 8 w c w False\n",
      "xxxx 5 9 w d w False\n",
      "xxxx 5 10 w a e False\n",
      "xxxx 5 11 w e h False\n",
      "xxxx 5 12 w a c False\n",
      "xxxx 5 13 w h x False\n",
      "xxxx 5 14 w d y False\n",
      "xxxx 5 15 w e d False\n",
      "xxxx 5 16 w b x False\n",
      "xxxx 5 17 w e a False\n",
      "xxxx 5 18 w a e False\n",
      "xxxx 5 19 w c a False\n",
      "xxxx 5 20 w a z False\n",
      "seq1 6 0 z ! w False\n",
      "xxxx 6 1 z b f False\n",
      "xxxx 6 2 z h g False\n",
      "xxxx 6 3 z f g False\n",
      "xxxx 6 4 z g w False\n",
      "seq1 6 5 z g z True\n",
      "xxxx 6 6 z e x False\n",
      "xxxx 6 7 z h w False\n",
      "xxxx 6 8 z c w False\n",
      "xxxx 6 9 z d e False\n",
      "xxxx 6 10 z a h False\n",
      "xxxx 6 11 z e c False\n",
      "xxxx 6 12 z a x False\n",
      "xxxx 6 13 z h y False\n",
      "xxxx 6 14 z d d False\n",
      "xxxx 6 15 z e x False\n",
      "xxxx 6 16 z b a False\n",
      "xxxx 6 17 z e e False\n",
      "xxxx 6 18 z a a False\n",
      "xxxx 6 19 z c z False\n",
      "xxxx 6 20 z a y False\n",
      "seq1 7 0 x ! f False\n",
      "xxxx 7 1 x b g False\n",
      "xxxx 7 2 x h g False\n",
      "xxxx 7 3 x f w False\n",
      "xxxx 7 4 x g z False\n",
      "seq1 7 5 x g x True\n",
      "xxxx 7 6 x e w False\n",
      "xxxx 7 7 x h w False\n",
      "xxxx 7 8 x c e False\n",
      "xxxx 7 9 x d h False\n",
      "xxxx 7 10 x a c False\n",
      "xxxx 7 11 x e x False\n",
      "xxxx 7 12 x a y False\n",
      "xxxx 7 13 x h d False\n",
      "xxxx 7 14 x d x False\n",
      "xxxx 7 15 x e a False\n",
      "xxxx 7 16 x b e False\n",
      "xxxx 7 17 x e a False\n",
      "xxxx 7 18 x a z False\n",
      "xxxx 7 19 x c y False\n",
      "xxxx 7 20 x a x False\n",
      "seq1 8 0 w ! g False\n",
      "xxxx 8 1 w b g False\n",
      "xxxx 8 2 w h w False\n",
      "xxxx 8 3 w f z False\n",
      "xxxx 8 4 w g x False\n",
      "seq1 8 5 w g w True\n",
      "xxxx 8 6 w e w False\n",
      "xxxx 8 7 w h e False\n",
      "xxxx 8 8 w c h False\n",
      "xxxx 8 9 w d c False\n",
      "xxxx 8 10 w a x False\n",
      "xxxx 8 11 w e y False\n",
      "xxxx 8 12 w a d False\n",
      "xxxx 8 13 w h x False\n",
      "xxxx 8 14 w d a False\n",
      "xxxx 8 15 w e e False\n",
      "xxxx 8 16 w b a False\n",
      "xxxx 8 17 w e z False\n",
      "xxxx 8 18 w a y False\n",
      "xxxx 8 19 w c x False\n",
      "xxxx 8 20 w a h False\n",
      "seq1 9 0 w ! g False\n",
      "xxxx 9 1 w b w False\n",
      "xxxx 9 2 w h z False\n",
      "xxxx 9 3 w f x False\n",
      "xxxx 9 4 w g w False\n",
      "seq1 9 5 w g w True\n",
      "seq2 9 6 w e e True\n",
      "seq2 9 7 w h h True\n",
      "seq2 9 8 w c c True\n",
      "xxxx 9 9 w d x False\n",
      "xxxx 9 10 w a y False\n",
      "xxxx 9 11 w e d False\n",
      "xxxx 9 12 w a x False\n",
      "xxxx 9 13 w h a False\n",
      "xxxx 9 14 w d e False\n",
      "xxxx 9 15 w e a False\n",
      "xxxx 9 16 w b z False\n",
      "xxxx 9 17 w e y False\n",
      "xxxx 9 18 w a x False\n",
      "xxxx 9 19 w c h False\n",
      "xxxx 9 20 w a x False\n",
      "seq1 10 0 x ! w False\n",
      "xxxx 10 1 x b z False\n",
      "xxxx 10 2 x h x False\n",
      "xxxx 10 3 x f w False\n",
      "xxxx 10 4 x g w False\n",
      "xxxx 10 5 x g e False\n",
      "xxxx 10 6 x e h False\n",
      "xxxx 10 7 x h c False\n",
      "seq1 10 8 x c x True\n",
      "xxxx 10 9 x d y False\n",
      "xxxx 10 10 x a d False\n",
      "xxxx 10 11 x e x False\n",
      "xxxx 10 12 x a a False\n",
      "xxxx 10 13 x h e False\n",
      "xxxx 10 14 x d a False\n",
      "xxxx 10 15 x e z False\n",
      "xxxx 10 16 x b y False\n",
      "xxxx 10 17 x e x False\n",
      "xxxx 10 18 x a h False\n",
      "xxxx 10 19 x c x False\n",
      "xxxx 10 20 x a x False\n",
      "seq1 11 0 y ! z False\n",
      "xxxx 11 1 y b x False\n",
      "xxxx 11 2 y h w False\n",
      "xxxx 11 3 y f w False\n",
      "xxxx 11 4 y g e False\n",
      "xxxx 11 5 y g h False\n",
      "xxxx 11 6 y e c False\n",
      "xxxx 11 7 y h x False\n",
      "seq1 11 8 y c y True\n",
      "seq2 11 9 y d d True\n",
      "xxxx 11 10 y a x False\n",
      "xxxx 11 11 y e a False\n",
      "xxxx 11 12 y a e False\n",
      "xxxx 11 13 y h a False\n",
      "xxxx 11 14 y d z False\n",
      "xxxx 11 15 y e y False\n",
      "xxxx 11 16 y b x False\n",
      "xxxx 11 17 y e h False\n",
      "xxxx 11 18 y a x False\n",
      "xxxx 11 19 y c x False\n",
      "xxxx 11 20 y a u False\n",
      "seq1 12 0 x ! x False\n",
      "xxxx 12 1 x b w False\n",
      "xxxx 12 2 x h w False\n",
      "xxxx 12 3 x f e False\n",
      "xxxx 12 4 x g h False\n",
      "xxxx 12 5 x g c False\n",
      "xxxx 12 6 x e x False\n",
      "xxxx 12 7 x h y False\n",
      "xxxx 12 8 x c d False\n",
      "seq1 12 9 x d x True\n",
      "seq2 12 10 x a a True\n",
      "seq2 12 11 x e e True\n",
      "seq2 12 12 x a a True\n",
      "xxxx 12 13 x h z False\n",
      "xxxx 12 14 x d y False\n",
      "xxxx 12 15 x e x False\n",
      "xxxx 12 16 x b h False\n",
      "xxxx 12 17 x e x False\n",
      "xxxx 12 18 x a x False\n",
      "xxxx 12 19 x c u False\n",
      "xxxx 12 20 x a d False\n",
      "seq1 13 0 z ! w False\n",
      "xxxx 13 1 z b w False\n",
      "xxxx 13 2 z h e False\n",
      "xxxx 13 3 z f h False\n",
      "xxxx 13 4 z g c False\n",
      "xxxx 13 5 z g x False\n",
      "xxxx 13 6 z e y False\n",
      "xxxx 13 7 z h d False\n",
      "xxxx 13 8 z c x False\n",
      "xxxx 13 9 z d a False\n",
      "xxxx 13 10 z a e False\n",
      "xxxx 13 11 z e a False\n",
      "seq1 13 12 z a z True\n",
      "xxxx 13 13 z h y False\n",
      "xxxx 13 14 z d x False\n",
      "xxxx 13 15 z e h False\n",
      "xxxx 13 16 z b x False\n",
      "xxxx 13 17 z e x False\n",
      "xxxx 13 18 z a u False\n",
      "xxxx 13 19 z c d False\n",
      "xxxx 13 20 z a w False\n",
      "seq1 14 0 y ! w False\n",
      "xxxx 14 1 y b e False\n",
      "xxxx 14 2 y h h False\n",
      "xxxx 14 3 y f c False\n",
      "xxxx 14 4 y g x False\n",
      "xxxx 14 5 y g y False\n",
      "xxxx 14 6 y e d False\n",
      "xxxx 14 7 y h x False\n",
      "xxxx 14 8 y c a False\n",
      "xxxx 14 9 y d e False\n",
      "xxxx 14 10 y a a False\n",
      "xxxx 14 11 y e z False\n",
      "seq1 14 12 y a y True\n",
      "xxxx 14 13 y h x False\n",
      "xxxx 14 14 y d h False\n",
      "xxxx 14 15 y e x False\n",
      "xxxx 14 16 y b x False\n",
      "xxxx 14 17 y e u False\n",
      "xxxx 14 18 y a d False\n",
      "xxxx 14 19 y c w False\n",
      "xxxx 14 20 y a e False\n",
      "seq1 15 0 x ! e False\n",
      "xxxx 15 1 x b h False\n",
      "xxxx 15 2 x h c False\n",
      "xxxx 15 3 x f x False\n",
      "xxxx 15 4 x g y False\n",
      "xxxx 15 5 x g d False\n",
      "xxxx 15 6 x e x False\n",
      "xxxx 15 7 x h a False\n",
      "xxxx 15 8 x c e False\n",
      "xxxx 15 9 x d a False\n",
      "xxxx 15 10 x a z False\n",
      "xxxx 15 11 x e y False\n",
      "seq1 15 12 x a x True\n",
      "seq2 15 13 x h h True\n",
      "xxxx 15 14 x d x False\n",
      "xxxx 15 15 x e x False\n",
      "xxxx 15 16 x b u False\n",
      "xxxx 15 17 x e d False\n",
      "xxxx 15 18 x a w False\n",
      "xxxx 15 19 x c e False\n",
      "xxxx 15 20 x a b False\n",
      "seq1 16 0 x ! h False\n",
      "xxxx 16 1 x b c False\n",
      "xxxx 16 2 x h x False\n",
      "xxxx 16 3 x f y False\n",
      "xxxx 16 4 x g d False\n",
      "xxxx 16 5 x g x False\n",
      "xxxx 16 6 x e a False\n",
      "xxxx 16 7 x h e False\n",
      "xxxx 16 8 x c a False\n",
      "xxxx 16 9 x d z False\n",
      "xxxx 16 10 x a y False\n",
      "xxxx 16 11 x e x False\n",
      "xxxx 16 12 x a h False\n",
      "seq1 16 13 x h x True\n",
      "xxxx 16 14 x d x False\n",
      "xxxx 16 15 x e u False\n",
      "xxxx 16 16 x b d False\n",
      "xxxx 16 17 x e w False\n",
      "xxxx 16 18 x a e False\n",
      "xxxx 16 19 x c b False\n",
      "xxxx 16 20 x a w False\n",
      "seq1 17 0 x ! c False\n",
      "xxxx 17 1 x b x False\n",
      "xxxx 17 2 x h y False\n",
      "xxxx 17 3 x f d False\n",
      "xxxx 17 4 x g x False\n",
      "xxxx 17 5 x g a False\n",
      "xxxx 17 6 x e e False\n",
      "xxxx 17 7 x h a False\n",
      "xxxx 17 8 x c z False\n",
      "xxxx 17 9 x d y False\n",
      "xxxx 17 10 x a x False\n",
      "xxxx 17 11 x e h False\n",
      "xxxx 17 12 x a x False\n",
      "seq1 17 13 x h x True\n",
      "xxxx 17 14 x d u False\n",
      "xxxx 17 15 x e d False\n",
      "xxxx 17 16 x b w False\n",
      "xxxx 17 17 x e e False\n",
      "xxxx 17 18 x a b False\n",
      "xxxx 17 19 x c w False\n",
      "xxxx 17 20 x a e False\n",
      "seq1 18 0 u ! x False\n",
      "xxxx 18 1 u b y False\n",
      "xxxx 18 2 u h d False\n",
      "xxxx 18 3 u f x False\n",
      "xxxx 18 4 u g a False\n",
      "xxxx 18 5 u g e False\n",
      "xxxx 18 6 u e a False\n",
      "xxxx 18 7 u h z False\n",
      "xxxx 18 8 u c y False\n",
      "xxxx 18 9 u d x False\n",
      "xxxx 18 10 u a h False\n",
      "xxxx 18 11 u e x False\n",
      "xxxx 18 12 u a x False\n",
      "seq1 18 13 u h u True\n",
      "seq2 18 14 u d d True\n",
      "xxxx 18 15 u e w False\n",
      "xxxx 18 16 u b e False\n",
      "xxxx 18 17 u e b False\n",
      "xxxx 18 18 u a w False\n",
      "xxxx 18 19 u c e False\n",
      "xxxx 18 20 u a a False\n",
      "seq1 19 0 w ! y False\n",
      "xxxx 19 1 w b d False\n",
      "xxxx 19 2 w h x False\n",
      "xxxx 19 3 w f a False\n",
      "xxxx 19 4 w g e False\n",
      "xxxx 19 5 w g a False\n",
      "xxxx 19 6 w e z False\n",
      "xxxx 19 7 w h y False\n",
      "xxxx 19 8 w c x False\n",
      "xxxx 19 9 w d h False\n",
      "xxxx 19 10 w a x False\n",
      "xxxx 19 11 w e x False\n",
      "xxxx 19 12 w a u False\n",
      "xxxx 19 13 w h d False\n",
      "seq1 19 14 w d w True\n",
      "seq2 19 15 w e e True\n",
      "seq2 19 16 w b b True\n",
      "xxxx 19 17 w e w False\n",
      "xxxx 19 18 w a e False\n",
      "xxxx 19 19 w c a False\n",
      "xxxx 19 20 w a c False\n",
      "seq1 20 0 w ! d False\n",
      "xxxx 20 1 w b x False\n",
      "xxxx 20 2 w h a False\n",
      "xxxx 20 3 w f e False\n",
      "xxxx 20 4 w g a False\n",
      "xxxx 20 5 w g z False\n",
      "xxxx 20 6 w e y False\n",
      "xxxx 20 7 w h x False\n",
      "xxxx 20 8 w c h False\n",
      "xxxx 20 9 w d x False\n",
      "xxxx 20 10 w a x False\n",
      "xxxx 20 11 w e u False\n",
      "xxxx 20 12 w a d False\n",
      "xxxx 20 13 w h w False\n",
      "xxxx 20 14 w d e False\n",
      "xxxx 20 15 w e b False\n",
      "seq1 20 16 w b w True\n",
      "seq2 20 17 w e e True\n",
      "seq2 20 18 w a a True\n",
      "seq2 20 19 w c c True\n",
      "seq2 20 20 w a a True\n",
      "T T . . . . . . . . . . . . . . . . . . .\n",
      ". T . . . . . . . . . . . . . . . . . . .\n",
      ". T T . . . . . . . . . . . . . . . . . .\n",
      ". . T . . . . . . . . . . . . . . . . . .\n",
      ". . T T T T . . . . . . . . . . . . . . .\n",
      ". . . . . T . . . . . . . . . . . . . . .\n",
      ". . . . . T . . . . . . . . . . . . . . .\n",
      ". . . . . T . . . . . . . . . . . . . . .\n",
      ". . . . . T . . . . . . . . . . . . . . .\n",
      ". . . . . T T T T . . . . . . . . . . . .\n",
      ". . . . . . . . T . . . . . . . . . . . .\n",
      ". . . . . . . . T T . . . . . . . . . . .\n",
      ". . . . . . . . . T T T T . . . . . . . .\n",
      ". . . . . . . . . . . . T . . . . . . . .\n",
      ". . . . . . . . . . . . T . . . . . . . .\n",
      ". . . . . . . . . . . . T T . . . . . . .\n",
      ". . . . . . . . . . . . . T . . . . . . .\n",
      ". . . . . . . . . . . . . T . . . . . . .\n",
      ". . . . . . . . . . . . . T T . . . . . .\n",
      ". . . . . . . . . . . . . . T T T . . . .\n",
      ". . . . . . . . . . . . . . . . T T T T T\n"
     ]
    }
   ],
   "source": [
    "v, bp, t = is_interleave(s2, s1, il, return_backpointers=True, return_table=True, debug=True)\n",
    "print(show_table(t))"
   ]
  },
  {
   "cell_type": "code",
   "execution_count": 24,
   "metadata": {},
   "outputs": [
    {
     "data": {
      "text/plain": [
       "'bXZhVWfggWZXWWehcXYdXaeaZYXhXXUdWebWeaca'"
      ]
     },
     "execution_count": 24,
     "metadata": {},
     "output_type": "execute_result"
    }
   ],
   "source": [
    "show_backtrace(bp)"
   ]
  },
  {
   "cell_type": "code",
   "execution_count": 25,
   "metadata": {},
   "outputs": [
    {
     "name": "stdout",
     "output_type": "stream",
     "text": [
      "T T . . . . . . . . . . . . . . . . . . .\n",
      ". T . . . . . . . . . . . . . . . . . . .\n",
      ". T T . . . . . . . . . . . . . . . . . .\n",
      ". . T . . . . . . . . . . . . . . . . . .\n",
      ". . T T T T . . . . . . . . . . . . . . .\n",
      ". . . . . T . . . . . . . . . . . . . . .\n",
      ". . . . . T . . . . . . . . . . . . . . .\n",
      ". . . . . T . . . . . . . . . . . . . . .\n",
      ". . . . . T . . . . . . . . . . . . . . .\n",
      ". . . . . T T T T . . . . . . . . . . . .\n",
      ". . . . . . . . T . . . . . . . . . . . .\n",
      ". . . . . . . . T T . . . . . . . . . . .\n",
      ". . . . . . . . . T T T T . . . . . . . .\n",
      ". . . . . . . . . . . . T . . . . . . . .\n",
      ". . . . . . . . . . . . T . . . . . . . .\n",
      ". . . . . . . . . . . . T T . . . . . . .\n",
      ". . . . . . . . . . . . . T . . . . . . .\n",
      ". . . . . . . . . . . . . T . . . . . . .\n",
      ". . . . . . . . . . . . . T T . . . . . .\n",
      ". . . . . . . . . . . . . . T T T . . . .\n",
      ". . . . . . . . . . . . . . . . T T T T T\n",
      "bXZhVWfggWZXWWehcXYdXaeaZYXhXXUdWebWeaca\n"
     ]
    },
    {
     "data": {
      "text/plain": [
       "True"
      ]
     },
     "execution_count": 25,
     "metadata": {},
     "output_type": "execute_result"
    }
   ],
   "source": [
    "v, bp, t = is_interleave(s2, s1, il, return_backpointers=True, return_table=True)\n",
    "print(show_table(t))\n",
    "print(show_backtrace(bp))\n",
    "v"
   ]
  },
  {
   "cell_type": "code",
   "execution_count": 26,
   "metadata": {},
   "outputs": [
    {
     "data": {
      "text/plain": [
       "('baffeeecaecbfghedbgbddbcdchbefeddgdbecbaacbdedbeca',\n",
       " 'affdffbahedebhaagaaahebdeechbfhedcdgcccdcgfbdhaghe',\n",
       " 'affbaffedeecfaefcbbfaghhededebbhgaagbdaaadbhebdeechbcdchfbehfedcdgecddcgcdcgdfbbdehacgbhaaecbdedbeca',\n",
       " 100)"
      ]
     },
     "execution_count": 26,
     "metadata": {},
     "output_type": "execute_result"
    }
   ],
   "source": [
    "s1 = make_string(50)\n",
    "s2 = make_string(50)\n",
    "il = interleave(s1, s2)\n",
    "s1, s2, il, len(il)"
   ]
  },
  {
   "cell_type": "code",
   "execution_count": 27,
   "metadata": {},
   "outputs": [
    {
     "name": "stdout",
     "output_type": "stream",
     "text": [
      "T . . . . . . . . . . . . . . . . . . . . . . . . . . . . . . . . . . . . . . . . . . . . . . . . . .\n",
      "T . . . . . . . . . . . . . . . . . . . . . . . . . . . . . . . . . . . . . . . . . . . . . . . . . .\n",
      "T . . . . . . . . . . . . . . . . . . . . . . . . . . . . . . . . . . . . . . . . . . . . . . . . . .\n",
      "T T T T T T . . . . . . . . . . . . . . . . . . . . . . . . . . . . . . . . . . . . . . . . . . . . .\n",
      ". . . . . T T T T . . . . . . . . . . . . . . . . . . . . . . . . . . . . . . . . . . . . . . . . . .\n",
      ". . . . . . . . T T T . . . . . . . . . . . . . . . . . . . . . . . . . . . . . . . . . . . . . . . .\n",
      ". . . . . . . . . . T T T . . . . . . . . . . . . . . . . . . . . . . . . . . . . . . . . . . . . . .\n",
      ". . . . . . . . . . . T T T . . . . . . . . . . . . . . . . . . . . . . . . . . . . . . . . . . . . .\n",
      ". . . . . . . . . . . . . T T T . . . . . . . . . . . . . . . . . . . . . . . . . . . . . . . . . . .\n",
      ". . . . . . . . . . . . . . T T T T . . . . . . . . . . . . . . . . . . . . . . . . . . . . . . . . .\n",
      ". . . . . . . . . . . . . . . T . T . . . . . . . . . . . . . . . . . . . . . . . . . . . . . . . . .\n",
      ". . . . . . . . . . . . . . . T T T . . . . . . . . . . . . . . . . . . . . . . . . . . . . . . . . .\n",
      ". . . . . . . . . . . . . . . T . T T . . . . . . . . . . . . . . . . . . . . . . . . . . . . . . . .\n",
      ". . . . . . . . . . . . . . . . . T T . . . . . . . . . . . . . . . . . . . . . . . . . . . . . . . .\n",
      ". . . . . . . . . . . . . . . . . . T T . . . . . . . . . . . . . . . . . . . . . . . . . . . . . . .\n",
      ". . . . . . . . . . . . . . . . . . . T . . . . . . . . . . . . . . . . . . . . . . . . . . . . . . .\n",
      ". . . . . . . . . . . . . . . . . . . T . . . . . . . . . . . . . . . . . . . . . . . . . . . . . . .\n",
      ". . . . . . . . . . . . . . . . . . . T T T . . . . . . . . . . . . . . . . . . . . . . . . . . . . .\n",
      ". . . . . . . . . . . . . . . . . . . . . T . . . . . . . . . . . . . . . . . . . . . . . . . . . . .\n",
      ". . . . . . . . . . . . . . . . . . . . . T . . . . . . . . . . . . . . . . . . . . . . . . . . . . .\n",
      ". . . . . . . . . . . . . . . . . . . . . T T T . . . . . . . . . . . . . . . . . . . . . . . . . . .\n",
      ". . . . . . . . . . . . . . . . . . . . . . . T . . . . . . . . . . . . . . . . . . . . . . . . . . .\n",
      ". . . . . . . . . . . . . . . . . . . . . . . T . . . . . . . . . . . . . . . . . . . . . . . . . . .\n",
      ". . . . . . . . . . . . . . . . . . . . . . . T . . . . . . . . . . . . . . . . . . . . . . . . . . .\n",
      ". . . . . . . . . . . . . . . . . . . . . . . T . . . . . . . . . . . . . . . . . . . . . . . . . . .\n",
      ". . . . . . . . . . . . . . . . . . . . . . . T . . . . . . . . . . . . . . . . . . . . . . . . . . .\n",
      ". . . . . . . . . . . . . . . . . . . . . . . T T . . . . . . . . . . . . . . . . . . . . . . . . . .\n",
      ". . . . . . . . . . . . . . . . . . . . . . . T . . . . . . . . . . . . . . . . . . . . . . . . . . .\n",
      ". . . . . . . . . . . . . . . . . . . . . . . T . . . . . . . . . . . . . . . . . . . . . . . . . . .\n",
      ". . . . . . . . . . . . . . . . . . . . . . . T T T T T . . . . . . . . . . . . . . . . . . . . . . .\n",
      ". . . . . . . . . . . . . . . . . . . . . . . . . . . T T T . . . . . . . . . . . . . . . . . . . . .\n",
      ". . . . . . . . . . . . . . . . . . . . . . . . . . . . . T T T T . . . . . . . . . . . . . . . . . .\n",
      ". . . . . . . . . . . . . . . . . . . . . . . . . . . . . . T . . . . . . . . . . . . . . . . . . . .\n",
      ". . . . . . . . . . . . . . . . . . . . . . . . . . . . . . T . . . . . . . . . . . . . . . . . . . .\n",
      ". . . . . . . . . . . . . . . . . . . . . . . . . . . . . . T . . . . . . . . . . . . . . . . . . . .\n",
      ". . . . . . . . . . . . . . . . . . . . . . . . . . . . . . T . . . . . . . . . . . . . . . . . . . .\n",
      ". . . . . . . . . . . . . . . . . . . . . . . . . . . . . . T T . . . . . . . . . . . . . . . . . . .\n",
      ". . . . . . . . . . . . . . . . . . . . . . . . . . . . . . . T T T . . . . . . . . . . . . . . . . .\n",
      ". . . . . . . . . . . . . . . . . . . . . . . . . . . . . . . . . T T . . . . . . . . . . . . . . . .\n",
      ". . . . . . . . . . . . . . . . . . . . . . . . . . . . . . . . . . T T . . . . . . . . . . . . . . .\n",
      ". . . . . . . . . . . . . . . . . . . . . . . . . . . . . . . . . . T . . . . . . . . . . . . . . . .\n",
      ". . . . . . . . . . . . . . . . . . . . . . . . . . . . . . . . . . T . . . . . . . . . . . . . . . .\n",
      ". . . . . . . . . . . . . . . . . . . . . . . . . . . . . . . . . . T T . . . . . . . . . . . . . . .\n",
      ". . . . . . . . . . . . . . . . . . . . . . . . . . . . . . . . . . . T T . . . . . . . . . . . . . .\n",
      ". . . . . . . . . . . . . . . . . . . . . . . . . . . . . . . . . . . T T . . . . . . . . . . . . . .\n",
      ". . . . . . . . . . . . . . . . . . . . . . . . . . . . . . . . . . . . T T . . . . . . . . . . . . .\n",
      ". . . . . . . . . . . . . . . . . . . . . . . . . . . . . . . . . . . . . T . . . . . . . . . . . . .\n",
      ". . . . . . . . . . . . . . . . . . . . . . . . . . . . . . . . . . . . . T T . . . . . . . . . . . .\n",
      ". . . . . . . . . . . . . . . . . . . . . . . . . . . . . . . . . . . . . . T T . . . . . . . . . . .\n",
      ". . . . . . . . . . . . . . . . . . . . . . . . . . . . . . . . . . . . . . . T T T . . . . . . . . .\n",
      ". . . . . . . . . . . . . . . . . . . . . . . . . . . . . . . . . . . . . . . . . T T T T T T T T T T\n",
      "AFFbaffeDeecFaeFcbBfAghHedEDEbBHgAAGbdAAAdbHEBDEECHBcdchFbeHfEDCDGeCddCgCDCGdFbBDeHAcGbHaaEcbdedbeca\n"
     ]
    },
    {
     "data": {
      "text/plain": [
       "True"
      ]
     },
     "execution_count": 27,
     "metadata": {},
     "output_type": "execute_result"
    }
   ],
   "source": [
    "v, bp, t = is_interleave(s2, s1, il, return_backpointers=True, return_table=True)\n",
    "print(show_table(t))\n",
    "print(show_backtrace(bp))\n",
    "v"
   ]
  },
  {
   "cell_type": "code",
   "execution_count": 28,
   "metadata": {},
   "outputs": [
    {
     "name": "stdout",
     "output_type": "stream",
     "text": [
      "1000 loops, best of 3: 1.48 ms per loop\n"
     ]
    }
   ],
   "source": [
    "%%timeit\n",
    "is_interleave(s2, s1, il)"
   ]
  },
  {
   "cell_type": "code",
   "execution_count": 29,
   "metadata": {},
   "outputs": [
    {
     "name": "stdout",
     "output_type": "stream",
     "text": [
      "T T T T . . . . . . . . . . . . . . . . . . . . . . . . . . . . . . . . . . . . . . . . . . . . . . .\n",
      ". . . T . . . . . . . . . . . . . . . . . . . . . . . . . . . . . . . . . . . . . . . . . . . . . . .\n",
      ". . . T . . . . . . . . . . . . . . . . . . . . . . . . . . . . . . . . . . . . . . . . . . . . . . .\n",
      ". . . T . . . . . . . . . . . . . . . . . . . . . . . . . . . . . . . . . . . . . . . . . . . . . . .\n",
      ". . . T . . . . . . . . . . . . . . . . . . . . . . . . . . . . . . . . . . . . . . . . . . . . . . .\n",
      ". . . T T . . . . . . . . . . . . . . . . . . . . . . . . . . . . . . . . . . . . . . . . . . . . . .\n",
      ". . . . T . . . . . . . . . . . . . . . . . . . . . . . . . . . . . . . . . . . . . . . . . . . . . .\n",
      ". . . . T . . . . . . . . . . . . . . . . . . . . . . . . . . . . . . . . . . . . . . . . . . . . . .\n",
      ". . . . T T . . . . . . . . . . . . . . . . . . . . . . . . . . . . . . . . . . . . . . . . . . . . .\n",
      ". . . . . T . . . . . . . . . . . . . . . . . . . . . . . . . . . . . . . . . . . . . . . . . . . . .\n",
      ". . . . . T T . . . . . . . . . . . . . . . . . . . . . . . . . . . . . . . . . . . . . . . . . . . .\n",
      ". . . . . . T T . . . . . . . . . . . . . . . . . . . . . . . . . . . . . . . . . . . . . . . . . . .\n",
      ". . . . . . T T . . . . . . . . . . . . . . . . . . . . . . . . . . . . . . . . . . . . . . . . . . .\n",
      ". . . . . . . T T . . . . . . . . . . . . . . . . . . . . . . . . . . . . . . . . . . . . . . . . . .\n",
      ". . . . . . . . T T . . . . . . . . . . . . . . . . . . . . . . . . . . . . . . . . . . . . . . . . .\n",
      ". . . . . . . . T T T T T . . . . . . . . . . . . . . . . . . . . . . . . . . . . . . . . . . . . . .\n",
      ". . . . . . . . . T . T . . . . . . . . . . . . . . . . . . . . . . . . . . . . . . . . . . . . . . .\n",
      ". . . . . . . . . T T T T T . . . . . . . . . . . . . . . . . . . . . . . . . . . . . . . . . . . . .\n",
      ". . . . . . . . . . . . T T T . . . . . . . . . . . . . . . . . . . . . . . . . . . . . . . . . . . .\n",
      ". . . . . . . . . . . . . . T T T T . . . . . . . . . . . . . . . . . . . . . . . . . . . . . . . . .\n",
      ". . . . . . . . . . . . . . . . . T . . . . . . . . . . . . . . . . . . . . . . . . . . . . . . . . .\n",
      ". . . . . . . . . . . . . . . . . T T T T . . . . . . . . . . . . . . . . . . . . . . . . . . . . . .\n",
      ". . . . . . . . . . . . . . . . . . . . T . . . . . . . . . . . . . . . . . . . . . . . . . . . . . .\n",
      ". . . . . . . . . . . . . . . . . . . . T T T T T T T T T T . . . . . . . . . . . . . . . . . . . . .\n",
      ". . . . . . . . . . . . . . . . . . . . . . . . . . T . . T . . . . . . . . . . . . . . . . . . . . .\n",
      ". . . . . . . . . . . . . . . . . . . . . . . . . . . . . T . . . . . . . . . . . . . . . . . . . . .\n",
      ". . . . . . . . . . . . . . . . . . . . . . . . . . . . . T . . . . . . . . . . . . . . . . . . . . .\n",
      ". . . . . . . . . . . . . . . . . . . . . . . . . . . . . T T . . . . . . . . . . . . . . . . . . . .\n",
      ". . . . . . . . . . . . . . . . . . . . . . . . . . . . . . T . . . . . . . . . . . . . . . . . . . .\n",
      ". . . . . . . . . . . . . . . . . . . . . . . . . . . . . . T T . . . . . . . . . . . . . . . . . . .\n",
      ". . . . . . . . . . . . . . . . . . . . . . . . . . . . . . . T T T T T T . . . . . . . . . . . . . .\n",
      ". . . . . . . . . . . . . . . . . . . . . . . . . . . . . . . T . . . . T T . . . . . . . . . . . . .\n",
      ". . . . . . . . . . . . . . . . . . . . . . . . . . . . . . . T . . . . . T . . . . . . . . . . . . .\n",
      ". . . . . . . . . . . . . . . . . . . . . . . . . . . . . . . . . . . . . T T . . . . . . . . . . . .\n",
      ". . . . . . . . . . . . . . . . . . . . . . . . . . . . . . . . . . . . . . T T T T T . . . . . . . .\n",
      ". . . . . . . . . . . . . . . . . . . . . . . . . . . . . . . . . . . . . . . T . . T T T . . . . . .\n",
      ". . . . . . . . . . . . . . . . . . . . . . . . . . . . . . . . . . . . . . . . . . . T T T . . . . .\n",
      ". . . . . . . . . . . . . . . . . . . . . . . . . . . . . . . . . . . . . . . . . . . . . T T T . . .\n",
      ". . . . . . . . . . . . . . . . . . . . . . . . . . . . . . . . . . . . . . . . . . . . . . . T T . .\n",
      ". . . . . . . . . . . . . . . . . . . . . . . . . . . . . . . . . . . . . . . . . . . . . . . . T T .\n",
      ". . . . . . . . . . . . . . . . . . . . . . . . . . . . . . . . . . . . . . . . . . . . . . . . . T .\n",
      ". . . . . . . . . . . . . . . . . . . . . . . . . . . . . . . . . . . . . . . . . . . . . . . . . T T\n",
      ". . . . . . . . . . . . . . . . . . . . . . . . . . . . . . . . . . . . . . . . . . . . . . . . . . T\n",
      ". . . . . . . . . . . . . . . . . . . . . . . . . . . . . . . . . . . . . . . . . . . . . . . . . . T\n",
      ". . . . . . . . . . . . . . . . . . . . . . . . . . . . . . . . . . . . . . . . . . . . . . . . . . T\n",
      ". . . . . . . . . . . . . . . . . . . . . . . . . . . . . . . . . . . . . . . . . . . . . . . . . . T\n",
      ". . . . . . . . . . . . . . . . . . . . . . . . . . . . . . . . . . . . . . . . . . . . . . . . . . T\n",
      ". . . . . . . . . . . . . . . . . . . . . . . . . . . . . . . . . . . . . . . . . . . . . . . . . . T\n",
      ". . . . . . . . . . . . . . . . . . . . . . . . . . . . . . . . . . . . . . . . . . . . . . . . . . T\n",
      ". . . . . . . . . . . . . . . . . . . . . . . . . . . . . . . . . . . . . . . . . . . . . . . . . . T\n",
      ". . . . . . . . . . . . . . . . . . . . . . . . . . . . . . . . . . . . . . . . . . . . . . . . . . T\n",
      "affBAFFEdEECfAEfCbBFaGhHedEDebBhGaagBDaaaDBhebdeechbCDCHfBEhFedcdgEcDDcGcdcgDfbBdEhaCgBhAAeCBDEDBECA\n"
     ]
    },
    {
     "data": {
      "text/plain": [
       "True"
      ]
     },
     "execution_count": 29,
     "metadata": {},
     "output_type": "execute_result"
    }
   ],
   "source": [
    "v, bp, t = is_interleave(s1, s2, il, return_backpointers=True, return_table=True)\n",
    "print(show_table(t))\n",
    "print(show_backtrace(bp))\n",
    "v"
   ]
  },
  {
   "cell_type": "code",
   "execution_count": 30,
   "metadata": {},
   "outputs": [
    {
     "data": {
      "text/plain": [
       "True"
      ]
     },
     "execution_count": 30,
     "metadata": {},
     "output_type": "execute_result"
    }
   ],
   "source": [
    "show_backtrace(bp).lower() == il"
   ]
  },
  {
   "cell_type": "code",
   "execution_count": 31,
   "metadata": {},
   "outputs": [
    {
     "data": {
      "text/plain": [
       "('bgcbeceebhdgegdfehfccbfbagadhbddfbbgecdhegdaegdheh', False, False)"
      ]
     },
     "execution_count": 31,
     "metadata": {},
     "output_type": "execute_result"
    }
   ],
   "source": [
    "s3 = make_string(50)\n",
    "s3, is_interleave(s1, s3, il), is_interleave(s2, s3, il)"
   ]
  },
  {
   "cell_type": "code",
   "execution_count": 32,
   "metadata": {},
   "outputs": [
    {
     "name": "stdout",
     "output_type": "stream",
     "text": [
      "T . . . . . . . . . . . . . . . . . . . . . . . . . . . . . . . . . . . . . . . . . . . . . . . . . .\n",
      ". . . . . . . . . . . . . . . . . . . . . . . . . . . . . . . . . . . . . . . . . . . . . . . . . . .\n",
      ". . . . . . . . . . . . . . . . . . . . . . . . . . . . . . . . . . . . . . . . . . . . . . . . . . .\n",
      ". . . . . . . . . . . . . . . . . . . . . . . . . . . . . . . . . . . . . . . . . . . . . . . . . . .\n",
      ". . . . . . . . . . . . . . . . . . . . . . . . . . . . . . . . . . . . . . . . . . . . . . . . . . .\n",
      ". . . . . . . . . . . . . . . . . . . . . . . . . . . . . . . . . . . . . . . . . . . . . . . . . . .\n",
      ". . . . . . . . . . . . . . . . . . . . . . . . . . . . . . . . . . . . . . . . . . . . . . . . . . .\n",
      ". . . . . . . . . . . . . . . . . . . . . . . . . . . . . . . . . . . . . . . . . . . . . . . . . . .\n",
      ". . . . . . . . . . . . . . . . . . . . . . . . . . . . . . . . . . . . . . . . . . . . . . . . . . .\n",
      ". . . . . . . . . . . . . . . . . . . . . . . . . . . . . . . . . . . . . . . . . . . . . . . . . . .\n",
      ". . . . . . . . . . . . . . . . . . . . . . . . . . . . . . . . . . . . . . . . . . . . . . . . . . .\n",
      ". . . . . . . . . . . . . . . . . . . . . . . . . . . . . . . . . . . . . . . . . . . . . . . . . . .\n",
      ". . . . . . . . . . . . . . . . . . . . . . . . . . . . . . . . . . . . . . . . . . . . . . . . . . .\n",
      ". . . . . . . . . . . . . . . . . . . . . . . . . . . . . . . . . . . . . . . . . . . . . . . . . . .\n",
      ". . . . . . . . . . . . . . . . . . . . . . . . . . . . . . . . . . . . . . . . . . . . . . . . . . .\n",
      ". . . . . . . . . . . . . . . . . . . . . . . . . . . . . . . . . . . . . . . . . . . . . . . . . . .\n",
      ". . . . . . . . . . . . . . . . . . . . . . . . . . . . . . . . . . . . . . . . . . . . . . . . . . .\n",
      ". . . . . . . . . . . . . . . . . . . . . . . . . . . . . . . . . . . . . . . . . . . . . . . . . . .\n",
      ". . . . . . . . . . . . . . . . . . . . . . . . . . . . . . . . . . . . . . . . . . . . . . . . . . .\n",
      ". . . . . . . . . . . . . . . . . . . . . . . . . . . . . . . . . . . . . . . . . . . . . . . . . . .\n",
      ". . . . . . . . . . . . . . . . . . . . . . . . . . . . . . . . . . . . . . . . . . . . . . . . . . .\n",
      ". . . . . . . . . . . . . . . . . . . . . . . . . . . . . . . . . . . . . . . . . . . . . . . . . . .\n",
      ". . . . . . . . . . . . . . . . . . . . . . . . . . . . . . . . . . . . . . . . . . . . . . . . . . .\n",
      ". . . . . . . . . . . . . . . . . . . . . . . . . . . . . . . . . . . . . . . . . . . . . . . . . . .\n",
      ". . . . . . . . . . . . . . . . . . . . . . . . . . . . . . . . . . . . . . . . . . . . . . . . . . .\n",
      ". . . . . . . . . . . . . . . . . . . . . . . . . . . . . . . . . . . . . . . . . . . . . . . . . . .\n",
      ". . . . . . . . . . . . . . . . . . . . . . . . . . . . . . . . . . . . . . . . . . . . . . . . . . .\n",
      ". . . . . . . . . . . . . . . . . . . . . . . . . . . . . . . . . . . . . . . . . . . . . . . . . . .\n",
      ". . . . . . . . . . . . . . . . . . . . . . . . . . . . . . . . . . . . . . . . . . . . . . . . . . .\n",
      ". . . . . . . . . . . . . . . . . . . . . . . . . . . . . . . . . . . . . . . . . . . . . . . . . . .\n",
      ". . . . . . . . . . . . . . . . . . . . . . . . . . . . . . . . . . . . . . . . . . . . . . . . . . .\n",
      ". . . . . . . . . . . . . . . . . . . . . . . . . . . . . . . . . . . . . . . . . . . . . . . . . . .\n",
      ". . . . . . . . . . . . . . . . . . . . . . . . . . . . . . . . . . . . . . . . . . . . . . . . . . .\n",
      ". . . . . . . . . . . . . . . . . . . . . . . . . . . . . . . . . . . . . . . . . . . . . . . . . . .\n",
      ". . . . . . . . . . . . . . . . . . . . . . . . . . . . . . . . . . . . . . . . . . . . . . . . . . .\n",
      ". . . . . . . . . . . . . . . . . . . . . . . . . . . . . . . . . . . . . . . . . . . . . . . . . . .\n",
      ". . . . . . . . . . . . . . . . . . . . . . . . . . . . . . . . . . . . . . . . . . . . . . . . . . .\n",
      ". . . . . . . . . . . . . . . . . . . . . . . . . . . . . . . . . . . . . . . . . . . . . . . . . . .\n",
      ". . . . . . . . . . . . . . . . . . . . . . . . . . . . . . . . . . . . . . . . . . . . . . . . . . .\n",
      ". . . . . . . . . . . . . . . . . . . . . . . . . . . . . . . . . . . . . . . . . . . . . . . . . . .\n",
      ". . . . . . . . . . . . . . . . . . . . . . . . . . . . . . . . . . . . . . . . . . . . . . . . . . .\n",
      ". . . . . . . . . . . . . . . . . . . . . . . . . . . . . . . . . . . . . . . . . . . . . . . . . . .\n",
      ". . . . . . . . . . . . . . . . . . . . . . . . . . . . . . . . . . . . . . . . . . . . . . . . . . .\n",
      ". . . . . . . . . . . . . . . . . . . . . . . . . . . . . . . . . . . . . . . . . . . . . . . . . . .\n",
      ". . . . . . . . . . . . . . . . . . . . . . . . . . . . . . . . . . . . . . . . . . . . . . . . . . .\n",
      ". . . . . . . . . . . . . . . . . . . . . . . . . . . . . . . . . . . . . . . . . . . . . . . . . . .\n",
      ". . . . . . . . . . . . . . . . . . . . . . . . . . . . . . . . . . . . . . . . . . . . . . . . . . .\n",
      ". . . . . . . . . . . . . . . . . . . . . . . . . . . . . . . . . . . . . . . . . . . . . . . . . . .\n",
      ". . . . . . . . . . . . . . . . . . . . . . . . . . . . . . . . . . . . . . . . . . . . . . . . . . .\n",
      ". . . . . . . . . . . . . . . . . . . . . . . . . . . . . . . . . . . . . . . . . . . . . . . . . . .\n",
      ". . . . . . . . . . . . . . . . . . . . . . . . . . . . . . . . . . . . . . . . . . . . . . . . . . .\n",
      "\n"
     ]
    },
    {
     "data": {
      "text/plain": [
       "False"
      ]
     },
     "execution_count": 32,
     "metadata": {},
     "output_type": "execute_result"
    }
   ],
   "source": [
    "v, bp, t = is_interleave(s1, s3, il, return_backpointers=True, return_table=True)\n",
    "print(show_table(t))\n",
    "print(show_backtrace(bp))\n",
    "v"
   ]
  },
  {
   "cell_type": "code",
   "execution_count": 33,
   "metadata": {
    "collapsed": true
   },
   "outputs": [],
   "source": [
    "def is_interleave_recursive(s1, s2, s3):\n",
    "    if not s1:\n",
    "        return s2 == s3\n",
    "    elif not s2:\n",
    "        return s1 == s3\n",
    "    else:\n",
    "        if s1[-1] == s2[-1] and s1[-1] == s3[-1]:\n",
    "            return is_interleave_recursive(s1[:-1], s2, s3[:-1]) or is_interleave(s1, s2[:-1], s3[:-1])\n",
    "        elif s1[-1] == s3[-1]:\n",
    "            return is_interleave_recursive(s1[:-1], s2, s3[:-1])\n",
    "        elif s2[-1] == s3[-1]:\n",
    "            return is_interleave(s1, s2[:-1], s3[:-1])\n",
    "        else:\n",
    "            return False"
   ]
  },
  {
   "cell_type": "code",
   "execution_count": 34,
   "metadata": {
    "collapsed": true
   },
   "outputs": [],
   "source": [
    "import uuid"
   ]
  },
  {
   "cell_type": "code",
   "execution_count": 35,
   "metadata": {
    "collapsed": true
   },
   "outputs": [],
   "source": [
    "def is_subseq_recursive_dot(s1, s2):\n",
    "    node_id = uuid.uuid4().hex\n",
    "    node_string = 'n{} [label=\"{}\\\\n{}\"];'.format(node_id, s1, s2)\n",
    "#     print(s1, s2, node_string)\n",
    "    if not s1:\n",
    "        return node_id, ['n{} [label=\"-\\\\n{}\\\\nTrue\"];'.format(node_id, s2)]\n",
    "    elif len(s1) > len(s2):\n",
    "        return node_id, ['n{} [label=\"{}\\\\n{}\\\\nFalse\"];'.format(node_id, s1, s2)]\n",
    "    else:\n",
    "        if s1[-1] == s2[-1]:\n",
    "            node1_id, node1_graph = is_subseq_recursive_dot(s1[:-1], s2[:-1])\n",
    "            node2_id, node2_graph = is_subseq_recursive_dot(s1, s2[:-1])\n",
    "            return node_id, ([node_string, \n",
    "                    'n{} -> n{};'.format(node_id, node1_id), \n",
    "                    'n{} -> n{};'.format(node_id, node2_id)] + \n",
    "                    node1_graph + node2_graph)\n",
    "        else:\n",
    "            node1_id, node1_graph = is_subseq_recursive_dot(s1, s2[:-1])\n",
    "            return node_id, ([node_string, \n",
    "                    'n{} -> n{};'.format(node_id, node1_id)] + \n",
    "                    node1_graph)"
   ]
  },
  {
   "cell_type": "code",
   "execution_count": 36,
   "metadata": {
    "collapsed": true
   },
   "outputs": [],
   "source": [
    "def is_interleave_recursive_dot(s1, s2, s3):\n",
    "    \n",
    "#     print(s1, s2, s3)\n",
    "    node_id = uuid.uuid4().hex\n",
    "    node_string = 'n{} [label=\"{}\\\\n{}\\\\n{}\"];'.format(node_id, s1, s2, s3)\n",
    "\n",
    "    if not s1:\n",
    "        if s2 == s3:\n",
    "            return node_id, ['n{} [label=\"-\\\\n{}\\\\n{}\\\\nTrue\"];'.format(node_id, s2, s3)]\n",
    "        else:\n",
    "            return node_id, ['n{} [label=\"-\\\\n{}\\\\n{}\\\\nFalse\"];'.format(node_id, s2, s3)]\n",
    "    elif not s2:\n",
    "        if s1 == s3:\n",
    "            return node_id, ['n{} [label=\"{}\\\\n-\\\\n{}\\\\nTrue\"];'.format(node_id, s1, s3)]\n",
    "        else:\n",
    "            return node_id, ['n{} [label=\"{}\\\\n-\\\\n{}\\\\nFalse\"];'.format(node_id, s1, s3)]\n",
    "    else:\n",
    "        if s1[-1] == s2[-1] and s1[-1] == s3[-1]:\n",
    "            node1_id, node1_graph = is_interleave_recursive_dot(s1[:-1], s2, s3[:-1])\n",
    "            node2_id, node2_graph = is_interleave_recursive_dot(s1, s2[:-1], s3[:-1])\n",
    "            return node_id, ([node_string, \n",
    "                    'n{} -> n{};'.format(node_id, node1_id), \n",
    "                    'n{} -> n{};'.format(node_id, node2_id)] + \n",
    "                    node1_graph + node2_graph)\n",
    "        elif s1[-1] == s3[-1]:\n",
    "            node1_id, node1_graph = is_interleave_recursive_dot(s1[:-1], s2, s3[:-1])\n",
    "            return node_id, ([node_string, \n",
    "                    'n{} -> n{};'.format(node_id, node1_id)] + \n",
    "                    node1_graph)\n",
    "        elif s2[-1] == s3[-1]:\n",
    "            node1_id, node1_graph = is_interleave_recursive_dot(s1, s2[:-1], s3[:-1])\n",
    "            return node_id, ([node_string, \n",
    "                    'n{} -> n{};'.format(node_id, node1_id)] + \n",
    "                    node1_graph)\n",
    "        else:\n",
    "            return node_id, ['n{} [label=\"{}\\\\n{}\\\\n{}\\\\nFalse\"];'.format(node_id, s1, s2, s3)]"
   ]
  },
  {
   "cell_type": "code",
   "execution_count": 61,
   "metadata": {
    "collapsed": true
   },
   "outputs": [],
   "source": [
    "s1 = \"aabcc\"\n",
    "s2 = \"dbbca\"\n",
    "\n",
    "s3t = \"aadbbcbcac\"\n",
    "s3f = \"aadbbbaccc\""
   ]
  },
  {
   "cell_type": "code",
   "execution_count": 62,
   "metadata": {},
   "outputs": [
    {
     "name": "stdout",
     "output_type": "stream",
     "text": [
      "T . . . . .\n",
      "T . . . . .\n",
      "T T T T T .\n",
      ". T T . T .\n",
      ". . T T T T\n",
      ". . . T . T\n",
      "AAdbbcBCaC\n"
     ]
    }
   ],
   "source": [
    "v, bp, t = is_interleave(s1, s2, s3t, return_backpointers=True, return_table=True)\n",
    "print(show_table(t))\n",
    "print(show_backtrace(bp))"
   ]
  },
  {
   "cell_type": "code",
   "execution_count": 63,
   "metadata": {
    "collapsed": true
   },
   "outputs": [],
   "source": [
    "def show_table_md(table, s1, s2, s3):\n",
    "    header = '|   |' + '|'.join('{}<br />{}'.format('<br />'.join(str(s2[:i])), i) for i in range(len(s2) + 1)) + '|'\n",
    "    separator = '|:---:' * (len(s2) + 2) + '|'\n",
    "    rows = []\n",
    "    columns = sorted(set(k[1] for k in table))\n",
    "    for r in range(len(s1) + 1):\n",
    "        row = '|**{}<br />{}**|'.format(r, s1[:r])\n",
    "        row += '|'.join('{}<br />T'.format(s3[:(r+c)]) if table[r, c] else '{}<br />.'.format(s3[:(r+c)]) for c in columns)\n",
    "        row += '|'\n",
    "        rows += [row]\n",
    "    return '\\n'.join([header] + [separator] + rows)"
   ]
  },
  {
   "cell_type": "code",
   "execution_count": 64,
   "metadata": {},
   "outputs": [
    {
     "name": "stdout",
     "output_type": "stream",
     "text": [
      "|   |<br />0|d<br />1|d<br />b<br />2|d<br />b<br />b<br />3|d<br />b<br />b<br />c<br />4|d<br />b<br />b<br />c<br />a<br />5|\n",
      "|:---:|:---:|:---:|:---:|:---:|:---:|:---:|\n",
      "|**0<br />**|<br />T|a<br />.|aa<br />.|aad<br />.|aadb<br />.|aadbb<br />.|\n",
      "|**1<br />a**|a<br />T|aa<br />.|aad<br />.|aadb<br />.|aadbb<br />.|aadbbc<br />.|\n",
      "|**2<br />aa**|aa<br />T|aad<br />T|aadb<br />T|aadbb<br />T|aadbbc<br />T|aadbbcb<br />.|\n",
      "|**3<br />aab**|aad<br />.|aadb<br />T|aadbb<br />T|aadbbc<br />.|aadbbcb<br />T|aadbbcbc<br />.|\n",
      "|**4<br />aabc**|aadb<br />.|aadbb<br />.|aadbbc<br />T|aadbbcb<br />T|aadbbcbc<br />T|aadbbcbca<br />T|\n",
      "|**5<br />aabcc**|aadbb<br />.|aadbbc<br />.|aadbbcb<br />.|aadbbcbc<br />T|aadbbcbca<br />.|aadbbcbcac<br />T|\n"
     ]
    }
   ],
   "source": [
    "print(show_table_md(t, s1, s2, s3t))"
   ]
  },
  {
   "cell_type": "markdown",
   "metadata": {},
   "source": [
    "|   |<br />0|d<br />1|d<br />b<br />2|d<br />b<br />b<br />3|d<br />b<br />b<br />c<br />4|d<br />b<br />b<br />c<br />a<br />5|\n",
    "|:---:|:---:|:---:|:---:|:---:|:---:|:---:|\n",
    "|**0<br />**|<br />T|a<br />.|aa<br />.|aad<br />.|aadb<br />.|aadbb<br />.|\n",
    "|**1<br />a**|a<br />T|aa<br />.|aad<br />.|aadb<br />.|aadbb<br />.|aadbbc<br />.|\n",
    "|**2<br />aa**|aa<br />T|aad<br />T|aadb<br />T|aadbb<br />T|aadbbc<br />T|aadbbcb<br />.|\n",
    "|**3<br />aab**|aad<br />.|aadb<br />T|aadbb<br />T|aadbbc<br />.|aadbbcb<br />T|aadbbcbc<br />.|\n",
    "|**4<br />aabc**|aadb<br />.|aadbb<br />.|aadbbc<br />T|aadbbcb<br />T|aadbbcbc<br />T|aadbbcbca<br />T|\n",
    "|**5<br />aabcc**|aadbb<br />.|aadbbc<br />.|aadbbcb<br />.|aadbbcbc<br />T|aadbbcbca<br />.|aadbbcbcac<br />T|"
   ]
  },
  {
   "cell_type": "code",
   "execution_count": 68,
   "metadata": {},
   "outputs": [
    {
     "name": "stdout",
     "output_type": "stream",
     "text": [
      "T T T T\n",
      "T . T .\n",
      ". . T T\n",
      ". . . T\n",
      "abACaB\n"
     ]
    }
   ],
   "source": [
    "e1 = 'acb'\n",
    "e2 = 'aba'\n",
    "e3 = 'abacab'\n",
    "v, bp, et = is_interleave(e1, e2, e3, return_backpointers=True, return_table=True)\n",
    "print(show_table(et))\n",
    "print(show_backtrace(bp))"
   ]
  },
  {
   "cell_type": "code",
   "execution_count": 69,
   "metadata": {},
   "outputs": [
    {
     "name": "stdout",
     "output_type": "stream",
     "text": [
      "|   |<br />0|a<br />1|a<br />b<br />2|a<br />b<br />a<br />3|\n",
      "|:---:|:---:|:---:|:---:|:---:|\n",
      "|**0<br />**|<br />T|a<br />T|ab<br />T|aba<br />T|\n",
      "|**1<br />a**|a<br />T|ab<br />.|aba<br />T|abac<br />.|\n",
      "|**2<br />ac**|ab<br />.|aba<br />.|abac<br />T|abaca<br />T|\n",
      "|**3<br />acb**|aba<br />.|abac<br />.|abaca<br />.|abacab<br />T|\n"
     ]
    }
   ],
   "source": [
    "print(show_table_md(et, e1, e2, e3))"
   ]
  },
  {
   "cell_type": "markdown",
   "metadata": {},
   "source": [
    "|   |<br />0|a<br />1|a<br />b<br />2|a<br />b<br />a<br />3|\n",
    "|:---:|:---:|:---:|:---:|:---:|\n",
    "|**0<br />**|<br />T|a<br />T|ab<br />T|aba<br />T|\n",
    "|**1<br />a**|a<br />T|ab<br />.|aba<br />T|abac<br />.|\n",
    "|**2<br />ac**|ab<br />.|aba<br />.|abac<br />T|abaca<br />T|\n",
    "|**3<br />acb**|aba<br />.|abac<br />.|abaca<br />.|abacab<br />T|"
   ]
  },
  {
   "cell_type": "code",
   "execution_count": 70,
   "metadata": {
    "scrolled": true
   },
   "outputs": [
    {
     "name": "stdout",
     "output_type": "stream",
     "text": [
      "n825af3fb1bf441a3b97d8fbfcdce6f3d [label=\"aabcc\\ndbbca\\naadbbcbcac\"];\n",
      "n825af3fb1bf441a3b97d8fbfcdce6f3d -> n944a00ca9b134f3c98aeef34526ff17d;\n",
      "n944a00ca9b134f3c98aeef34526ff17d [label=\"aabc\\ndbbca\\naadbbcbca\"];\n",
      "n944a00ca9b134f3c98aeef34526ff17d -> n1586862dcfb74b1a9e9f964b7de102ef;\n",
      "n1586862dcfb74b1a9e9f964b7de102ef [label=\"aabc\\ndbbc\\naadbbcbc\"];\n",
      "n1586862dcfb74b1a9e9f964b7de102ef -> nf59278631d8047e7b0cca670e412297b;\n",
      "n1586862dcfb74b1a9e9f964b7de102ef -> nd83e9c32d1fa43bab45dc21d46830924;\n",
      "nf59278631d8047e7b0cca670e412297b [label=\"aab\\ndbbc\\naadbbcb\"];\n",
      "nf59278631d8047e7b0cca670e412297b -> nb0424588e9354d2aa61b587a7edfb7f6;\n",
      "nb0424588e9354d2aa61b587a7edfb7f6 [label=\"aa\\ndbbc\\naadbbc\"];\n",
      "nb0424588e9354d2aa61b587a7edfb7f6 -> nb73d85cfb09e43d692de22a49de48b35;\n",
      "nb73d85cfb09e43d692de22a49de48b35 [label=\"aa\\ndbb\\naadbb\"];\n",
      "nb73d85cfb09e43d692de22a49de48b35 -> n9e34f866ae1746d797cebd4e1fc73af9;\n",
      "n9e34f866ae1746d797cebd4e1fc73af9 [label=\"aa\\ndb\\naadb\"];\n",
      "n9e34f866ae1746d797cebd4e1fc73af9 -> n5c7027bfea9f494894cea01fd5e25387;\n",
      "n5c7027bfea9f494894cea01fd5e25387 [label=\"aa\\nd\\naad\"];\n",
      "n5c7027bfea9f494894cea01fd5e25387 -> n650da0feb2624011a20e209bada2445c;\n",
      "n650da0feb2624011a20e209bada2445c [label=\"aa\\n-\\naa\\nTrue\"];\n",
      "nd83e9c32d1fa43bab45dc21d46830924 [label=\"aabc\\ndbb\\naadbbcb\"];\n",
      "nd83e9c32d1fa43bab45dc21d46830924 -> n1c4772b660f24d6da9194d16be602b3a;\n",
      "n1c4772b660f24d6da9194d16be602b3a [label=\"aabc\\ndb\\naadbbc\"];\n",
      "n1c4772b660f24d6da9194d16be602b3a -> n0393745322e447c79515cffb4afc4d5b;\n",
      "n0393745322e447c79515cffb4afc4d5b [label=\"aab\\ndb\\naadbb\"];\n",
      "n0393745322e447c79515cffb4afc4d5b -> na9ae42f3b7dd415886e78bb960b94184;\n",
      "n0393745322e447c79515cffb4afc4d5b -> nccaf23a4e311415cbe42bedd8a3727c2;\n",
      "na9ae42f3b7dd415886e78bb960b94184 [label=\"aa\\ndb\\naadb\"];\n",
      "na9ae42f3b7dd415886e78bb960b94184 -> nab2d4f76a75c4c6686166212cad4b4a3;\n",
      "nab2d4f76a75c4c6686166212cad4b4a3 [label=\"aa\\nd\\naad\"];\n",
      "nab2d4f76a75c4c6686166212cad4b4a3 -> nee8a56cc920943e0a2593a8ee863c53c;\n",
      "nee8a56cc920943e0a2593a8ee863c53c [label=\"aa\\n-\\naa\\nTrue\"];\n",
      "nccaf23a4e311415cbe42bedd8a3727c2 [label=\"aab\\nd\\naadb\"];\n",
      "nccaf23a4e311415cbe42bedd8a3727c2 -> ne1d3cf2b04074c10986fdefb464e5da8;\n",
      "ne1d3cf2b04074c10986fdefb464e5da8 [label=\"aa\\nd\\naad\"];\n",
      "ne1d3cf2b04074c10986fdefb464e5da8 -> n9091b74bc8a64b91a9e75aef6b016a64;\n",
      "n9091b74bc8a64b91a9e75aef6b016a64 [label=\"aa\\n-\\naa\\nTrue\"];\n"
     ]
    }
   ],
   "source": [
    "root, graph = is_interleave_recursive_dot(s1, s2, s3t)\n",
    "print('\\n'.join(graph))"
   ]
  },
  {
   "cell_type": "code",
   "execution_count": 71,
   "metadata": {
    "scrolled": true
   },
   "outputs": [
    {
     "name": "stdout",
     "output_type": "stream",
     "text": [
      "n894a2781e978478699af2875308ec4ad [label=\"aaa\\naaa\\naaaaaa\"];\n",
      "n894a2781e978478699af2875308ec4ad -> n863e03f8030547bf9f4e7a4815c4e027;\n",
      "n894a2781e978478699af2875308ec4ad -> n4c492e6eb94741d2b11567b1b4c729fa;\n",
      "n863e03f8030547bf9f4e7a4815c4e027 [label=\"aa\\naaa\\naaaaa\"];\n",
      "n863e03f8030547bf9f4e7a4815c4e027 -> n8f044087a7324ef69d5cf2ae120c0902;\n",
      "n863e03f8030547bf9f4e7a4815c4e027 -> n5510c6a96018480ba0fc2315d34a69e6;\n",
      "n8f044087a7324ef69d5cf2ae120c0902 [label=\"a\\naaa\\naaaa\"];\n",
      "n8f044087a7324ef69d5cf2ae120c0902 -> n6f3153ef68384ebbbe5860a48c774d55;\n",
      "n8f044087a7324ef69d5cf2ae120c0902 -> n4d068ce52cf248adb3b537805a233dda;\n",
      "n6f3153ef68384ebbbe5860a48c774d55 [label=\"-\\naaa\\naaa\\nTrue\"];\n",
      "n4d068ce52cf248adb3b537805a233dda [label=\"a\\naa\\naaa\"];\n",
      "n4d068ce52cf248adb3b537805a233dda -> nb85aee31625f4998b596d9b6ea3b77fd;\n",
      "n4d068ce52cf248adb3b537805a233dda -> nec2837ce384246ffb06e3d4090adfb37;\n",
      "nb85aee31625f4998b596d9b6ea3b77fd [label=\"-\\naa\\naa\\nTrue\"];\n",
      "nec2837ce384246ffb06e3d4090adfb37 [label=\"a\\na\\naa\"];\n",
      "nec2837ce384246ffb06e3d4090adfb37 -> n9c395901af2d4e67a7e5a370f759bce6;\n",
      "nec2837ce384246ffb06e3d4090adfb37 -> nff84b0c784744901afb3ac8a5aef3c23;\n",
      "n9c395901af2d4e67a7e5a370f759bce6 [label=\"-\\na\\na\\nTrue\"];\n",
      "nff84b0c784744901afb3ac8a5aef3c23 [label=\"a\\n-\\na\\nTrue\"];\n",
      "n5510c6a96018480ba0fc2315d34a69e6 [label=\"aa\\naa\\naaaa\"];\n",
      "n5510c6a96018480ba0fc2315d34a69e6 -> n5eaaabd1caef4c3f8f6607a8bb254906;\n",
      "n5510c6a96018480ba0fc2315d34a69e6 -> n6041081af67d4f57968572aa2051d1bc;\n",
      "n5eaaabd1caef4c3f8f6607a8bb254906 [label=\"a\\naa\\naaa\"];\n",
      "n5eaaabd1caef4c3f8f6607a8bb254906 -> n6dd23a9ed026429fb57cbf94e6283364;\n",
      "n5eaaabd1caef4c3f8f6607a8bb254906 -> n3042bda75e7c4d8f8a9ccc464f0ba724;\n",
      "n6dd23a9ed026429fb57cbf94e6283364 [label=\"-\\naa\\naa\\nTrue\"];\n",
      "n3042bda75e7c4d8f8a9ccc464f0ba724 [label=\"a\\na\\naa\"];\n",
      "n3042bda75e7c4d8f8a9ccc464f0ba724 -> n5e702eeee87042deb3157b6663b1f07a;\n",
      "n3042bda75e7c4d8f8a9ccc464f0ba724 -> n37928d6516f942008c5e89b5c37098ee;\n",
      "n5e702eeee87042deb3157b6663b1f07a [label=\"-\\na\\na\\nTrue\"];\n",
      "n37928d6516f942008c5e89b5c37098ee [label=\"a\\n-\\na\\nTrue\"];\n",
      "n6041081af67d4f57968572aa2051d1bc [label=\"aa\\na\\naaa\"];\n",
      "n6041081af67d4f57968572aa2051d1bc -> nbb96e07d3c89450cb92ad725f6fc4845;\n",
      "n6041081af67d4f57968572aa2051d1bc -> n0dbe764d7e4a429298f2d3583e8c84b1;\n",
      "nbb96e07d3c89450cb92ad725f6fc4845 [label=\"a\\na\\naa\"];\n",
      "nbb96e07d3c89450cb92ad725f6fc4845 -> nbe5a7be2ec824370a293e7aa8f3a5467;\n",
      "nbb96e07d3c89450cb92ad725f6fc4845 -> ndc15a7d84b734bb793055e4712a82d5c;\n",
      "nbe5a7be2ec824370a293e7aa8f3a5467 [label=\"-\\na\\na\\nTrue\"];\n",
      "ndc15a7d84b734bb793055e4712a82d5c [label=\"a\\n-\\na\\nTrue\"];\n",
      "n0dbe764d7e4a429298f2d3583e8c84b1 [label=\"aa\\n-\\naa\\nTrue\"];\n",
      "n4c492e6eb94741d2b11567b1b4c729fa [label=\"aaa\\naa\\naaaaa\"];\n",
      "n4c492e6eb94741d2b11567b1b4c729fa -> n0e78dd2900a34a7297cc0ea2bb27e30c;\n",
      "n4c492e6eb94741d2b11567b1b4c729fa -> nc18fe2c53e9e4209a9af9c0678465b1f;\n",
      "n0e78dd2900a34a7297cc0ea2bb27e30c [label=\"aa\\naa\\naaaa\"];\n",
      "n0e78dd2900a34a7297cc0ea2bb27e30c -> n1b98c16a65994faaa980d9c530383c77;\n",
      "n0e78dd2900a34a7297cc0ea2bb27e30c -> n33dbe313802045f8895d0e904d588881;\n",
      "n1b98c16a65994faaa980d9c530383c77 [label=\"a\\naa\\naaa\"];\n",
      "n1b98c16a65994faaa980d9c530383c77 -> n5e7c6dff46ff49f7903eb543c02fa22b;\n",
      "n1b98c16a65994faaa980d9c530383c77 -> n33391a1fab3849cf9823ccc7396aa7d4;\n",
      "n5e7c6dff46ff49f7903eb543c02fa22b [label=\"-\\naa\\naa\\nTrue\"];\n",
      "n33391a1fab3849cf9823ccc7396aa7d4 [label=\"a\\na\\naa\"];\n",
      "n33391a1fab3849cf9823ccc7396aa7d4 -> n13b4732016804c3986853f6d2fe4a28b;\n",
      "n33391a1fab3849cf9823ccc7396aa7d4 -> n767be985e5a5469da7cfeea0272705b3;\n",
      "n13b4732016804c3986853f6d2fe4a28b [label=\"-\\na\\na\\nTrue\"];\n",
      "n767be985e5a5469da7cfeea0272705b3 [label=\"a\\n-\\na\\nTrue\"];\n",
      "n33dbe313802045f8895d0e904d588881 [label=\"aa\\na\\naaa\"];\n",
      "n33dbe313802045f8895d0e904d588881 -> nf59143762fc643f0bd58507b5097b837;\n",
      "n33dbe313802045f8895d0e904d588881 -> n30d968450bf147b68a8d7df49177722c;\n",
      "nf59143762fc643f0bd58507b5097b837 [label=\"a\\na\\naa\"];\n",
      "nf59143762fc643f0bd58507b5097b837 -> ncd2168bdc52c459d821427219fb885d1;\n",
      "nf59143762fc643f0bd58507b5097b837 -> nc6011f3f746f425ab01fd89e1f17cbb4;\n",
      "ncd2168bdc52c459d821427219fb885d1 [label=\"-\\na\\na\\nTrue\"];\n",
      "nc6011f3f746f425ab01fd89e1f17cbb4 [label=\"a\\n-\\na\\nTrue\"];\n",
      "n30d968450bf147b68a8d7df49177722c [label=\"aa\\n-\\naa\\nTrue\"];\n",
      "nc18fe2c53e9e4209a9af9c0678465b1f [label=\"aaa\\na\\naaaa\"];\n",
      "nc18fe2c53e9e4209a9af9c0678465b1f -> n38a7aa8aab21444d8b9d50ca71871b7e;\n",
      "nc18fe2c53e9e4209a9af9c0678465b1f -> n1ec1cf69ce3c4798b305338648a6e46b;\n",
      "n38a7aa8aab21444d8b9d50ca71871b7e [label=\"aa\\na\\naaa\"];\n",
      "n38a7aa8aab21444d8b9d50ca71871b7e -> nad5433a86522484e85d560ac7d202b3d;\n",
      "n38a7aa8aab21444d8b9d50ca71871b7e -> n6bfb83c32f9e46a19e9408fc087e74ae;\n",
      "nad5433a86522484e85d560ac7d202b3d [label=\"a\\na\\naa\"];\n",
      "nad5433a86522484e85d560ac7d202b3d -> n292f0206736a40ac8f6045ac0d8a0a07;\n",
      "nad5433a86522484e85d560ac7d202b3d -> n07c65e03d3bd473f97579a2c63f922c7;\n",
      "n292f0206736a40ac8f6045ac0d8a0a07 [label=\"-\\na\\na\\nTrue\"];\n",
      "n07c65e03d3bd473f97579a2c63f922c7 [label=\"a\\n-\\na\\nTrue\"];\n",
      "n6bfb83c32f9e46a19e9408fc087e74ae [label=\"aa\\n-\\naa\\nTrue\"];\n",
      "n1ec1cf69ce3c4798b305338648a6e46b [label=\"aaa\\n-\\naaa\\nTrue\"];\n"
     ]
    }
   ],
   "source": [
    "root, graph = is_interleave_recursive_dot('aaa', 'aaa', 'aaaaaa')\n",
    "print('\\n'.join(graph))"
   ]
  },
  {
   "cell_type": "code",
   "execution_count": 70,
   "metadata": {
    "scrolled": true
   },
   "outputs": [
    {
     "name": "stdout",
     "output_type": "stream",
     "text": [
      "nd6df1effdb85482db276ea5fea364b79 [label=\"acb\\naba\\nabacab\"];\n",
      "nd6df1effdb85482db276ea5fea364b79 -> necd79ad17e9d435c9f49c1c1ae26b524;\n",
      "necd79ad17e9d435c9f49c1c1ae26b524 [label=\"ac\\naba\\nabaca\"];\n",
      "necd79ad17e9d435c9f49c1c1ae26b524 -> n369b759fead243e0b35621ac1dbc09de;\n",
      "n369b759fead243e0b35621ac1dbc09de [label=\"ac\\nab\\nabac\"];\n",
      "n369b759fead243e0b35621ac1dbc09de -> nc4a2401f9791408ba2bb7b4052c27f11;\n",
      "nc4a2401f9791408ba2bb7b4052c27f11 [label=\"a\\nab\\naba\"];\n",
      "nc4a2401f9791408ba2bb7b4052c27f11 -> n71b5737da5e54fcb9dfdee6085091a01;\n",
      "n71b5737da5e54fcb9dfdee6085091a01 [label=\"-\\nab\\nab\\nTrue\"];\n"
     ]
    }
   ],
   "source": [
    "root, graph = is_interleave_recursive_dot(e1, e2, e3)\n",
    "print('\\n'.join(graph))"
   ]
  },
  {
   "cell_type": "code",
   "execution_count": 35,
   "metadata": {
    "collapsed": true
   },
   "outputs": [],
   "source": [
    "s1 = make_string(500)\n",
    "s2 = make_string(500)\n",
    "s3 = make_string(500)\n",
    "s12 = interleave(s1, s2)\n",
    "s23 = interleave(s2, s3)"
   ]
  },
  {
   "cell_type": "code",
   "execution_count": 36,
   "metadata": {},
   "outputs": [
    {
     "data": {
      "text/plain": [
       "True"
      ]
     },
     "execution_count": 36,
     "metadata": {},
     "output_type": "execute_result"
    }
   ],
   "source": [
    "is_interleave_recursive(s1, s2, s12)"
   ]
  },
  {
   "cell_type": "code",
   "execution_count": 37,
   "metadata": {},
   "outputs": [
    {
     "data": {
      "text/plain": [
       "False"
      ]
     },
     "execution_count": 37,
     "metadata": {},
     "output_type": "execute_result"
    }
   ],
   "source": [
    "is_interleave_recursive(s1, s2, s23)"
   ]
  },
  {
   "cell_type": "markdown",
   "metadata": {},
   "source": [
    "## Example"
   ]
  },
  {
   "cell_type": "code",
   "execution_count": 38,
   "metadata": {
    "collapsed": true
   },
   "outputs": [],
   "source": [
    "def show_annotated_table(table, bps):\n",
    "    return '\\n'.join(' '.join('*' if (i, j) == (0, 0) else bps[i, j][2] if table[i, j] else '.' for j in sorted(set([k[1] for k in table])))\n",
    "        for i in sorted(set([k[0] for k in table])))"
   ]
  },
  {
   "cell_type": "code",
   "execution_count": 39,
   "metadata": {
    "collapsed": true
   },
   "outputs": [],
   "source": [
    "def show_backtrace_star(bps):\n",
    "    i = max([0] + [k[0] for k in bps])\n",
    "    j = max([0] + [k[1] for k in bps])\n",
    "    chars = ''\n",
    "    stars = ''\n",
    "    if (i, j) in bps:\n",
    "        while i != 0 or j != 0:\n",
    "            chars += bps[i, j][2]\n",
    "            if bps[i, j][3] == 'seq1':\n",
    "                stars += '*'\n",
    "            else:\n",
    "                stars += ' '\n",
    "            i, j = bps[i, j][0], bps[i, j][1] \n",
    "        return ''.join(list(reversed(chars))) + '\\n' + ''.join(list(reversed(stars)))\n",
    "    else:\n",
    "        return ''"
   ]
  },
  {
   "cell_type": "code",
   "execution_count": 40,
   "metadata": {},
   "outputs": [
    {
     "name": "stdout",
     "output_type": "stream",
     "text": [
      "0: baddacaddb\n",
      "1: bcccacbacb\n",
      "2: cdcddbcccacbacbaabcc\n",
      "3: cdccdbadcaacbbcccaac\n",
      "4: bbacccdacdacadbdbacb\n",
      "5: cbaccbbcadadaaccaddb\n",
      "6: cbaccbcaac\n"
     ]
    },
    {
     "data": {
      "text/plain": [
       "['bbacccdacdacadbdbacb']"
      ]
     },
     "execution_count": 40,
     "metadata": {},
     "output_type": "execute_result"
    }
   ],
   "source": [
    "s1 = make_string(10, alphabet='abcd')\n",
    "s2 = make_string(10, alphabet='abcd')\n",
    "s3 = make_string(10, alphabet='abcd')\n",
    "s4 = make_string(10, alphabet='abcd')\n",
    "il = interleave(s1, s2)\n",
    "bs = [s3, il, interleave(s3, s4), interleave(s2, s4), interleave(s1, s3)]\n",
    "random.shuffle(bs)\n",
    "bs = [s1, s2] + bs\n",
    "tg = [l for l in bs if is_interleave(s1, s2, l)]\n",
    "print('\\n'.join(['{}: {}'.format(i, s) for i, s in enumerate(bs)]))\n",
    "tg"
   ]
  },
  {
   "cell_type": "code",
   "execution_count": 41,
   "metadata": {},
   "outputs": [
    {
     "name": "stdout",
     "output_type": "stream",
     "text": [
      "* b . . . . . . . . .\n",
      "b b . . . . . . . . .\n",
      ". a c c c . . . . . .\n",
      ". . . . d a c . . . .\n",
      ". . . . . . d . . . .\n",
      ". . . . . . a . . . .\n",
      ". . . . . . c . . . .\n",
      ". . . . . . a . . . .\n",
      ". . . . . . d b . . .\n",
      ". . . . . . . d . . .\n",
      ". . . . . . . b a c b\n",
      "bBAcccDacDACADbDBacb\n",
      "bbacccdacdacadbdbacb\n",
      " **   *  ***** **   \n"
     ]
    },
    {
     "data": {
      "text/plain": [
       "True"
      ]
     },
     "execution_count": 41,
     "metadata": {},
     "output_type": "execute_result"
    }
   ],
   "source": [
    "v, bp, t = is_interleave(s1, s2, il, return_backpointers=True, return_table=True)\n",
    "print(show_annotated_table(t, bp))\n",
    "print(show_backtrace(bp))\n",
    "print(show_backtrace_star(bp))\n",
    "v"
   ]
  },
  {
   "cell_type": "code",
   "execution_count": 42,
   "metadata": {},
   "outputs": [
    {
     "name": "stdout",
     "output_type": "stream",
     "text": [
      "cbaccbbcadadaaccaddb\n",
      "      * ** * * *****\n"
     ]
    },
    {
     "data": {
      "text/plain": [
       "5"
      ]
     },
     "execution_count": 42,
     "metadata": {},
     "output_type": "execute_result"
    }
   ],
   "source": [
    "ind = [i for i, b in enumerate(bs) if is_interleave(s1, s3, b)][0]\n",
    "v, bp = is_interleave(s1, s3, bs[ind], return_backpointers=True)\n",
    "print(show_backtrace_star(bp))\n",
    "ind"
   ]
  },
  {
   "cell_type": "code",
   "execution_count": 43,
   "metadata": {},
   "outputs": [
    {
     "name": "stdout",
     "output_type": "stream",
     "text": [
      "* b . . . . . . . . .\n",
      "b b a . . . . . . . .\n",
      ". . c . . . . . . . .\n",
      ". . c . . . . . . . .\n",
      ". . c d . . . . . . .\n",
      ". . . a . . . . . . .\n",
      ". . . c d a c a d . .\n",
      ". . . . . . . . b d b\n",
      ". . . . . . . . . . a\n",
      ". . . . . . . . . . c\n",
      ". . . . . . . . . . b\n",
      "bBaCCCdACdacadBdbACB\n",
      "bbacccdacdacadbdbacb\n",
      " * *** **     *  ***\n"
     ]
    },
    {
     "data": {
      "text/plain": [
       "True"
      ]
     },
     "execution_count": 43,
     "metadata": {},
     "output_type": "execute_result"
    }
   ],
   "source": [
    "v, bp, t = is_interleave(s2, s1, il, return_backpointers=True, return_table=True)\n",
    "print(show_annotated_table(t, bp))\n",
    "print(show_backtrace(bp))\n",
    "print(show_backtrace_star(bp))\n",
    "v"
   ]
  },
  {
   "cell_type": "code",
   "execution_count": 44,
   "metadata": {},
   "outputs": [
    {
     "name": "stdout",
     "output_type": "stream",
     "text": [
      "* . . . . . . . . . .\n",
      "b . . . . . . . . . .\n",
      ". . . . . . . . . . .\n",
      ". . . . . . . . . . .\n",
      ". . . . . . . . . . .\n",
      ". . . . . . . . . . .\n",
      ". . . . . . . . . . .\n",
      ". . . . . . . . . . .\n",
      ". . . . . . . . . . .\n",
      ". . . . . . . . . . .\n",
      ". . . . . . . . . . .\n",
      "B\n",
      "b\n",
      "*\n"
     ]
    },
    {
     "data": {
      "text/plain": [
       "False"
      ]
     },
     "execution_count": 44,
     "metadata": {},
     "output_type": "execute_result"
    }
   ],
   "source": [
    "v, bp, t = is_interleave(s1, s3, il, return_backpointers=True, return_table=True)\n",
    "print(show_annotated_table(t, bp))\n",
    "print(show_backtrace(bp))\n",
    "print(show_backtrace_star(bp))\n",
    "v"
   ]
  },
  {
   "cell_type": "code",
   "execution_count": 45,
   "metadata": {},
   "outputs": [
    {
     "name": "stdout",
     "output_type": "stream",
     "text": [
      "* . . . . . . . . . .\n",
      "b . . . . . . . . . .\n",
      ". . . . . . . . . . .\n",
      ". . . . . . . . . . .\n",
      ". . . . . . . . . . .\n",
      ". . . . . . . . . . .\n",
      ". . . . . . . . . . .\n",
      ". . . . . . . . . . .\n",
      ". . . . . . . . . . .\n",
      ". . . . . . . . . . .\n",
      ". . . . . . . . . . .\n",
      "B\n",
      "b\n",
      "*\n"
     ]
    },
    {
     "data": {
      "text/plain": [
       "False"
      ]
     },
     "execution_count": 45,
     "metadata": {},
     "output_type": "execute_result"
    }
   ],
   "source": [
    "v, bp, t = is_interleave(s2, s3, il, return_backpointers=True, return_table=True)\n",
    "print(show_annotated_table(t, bp))\n",
    "print(show_backtrace(bp))\n",
    "print(show_backtrace_star(bp))\n",
    "v"
   ]
  },
  {
   "cell_type": "markdown",
   "metadata": {
    "collapsed": true
   },
   "source": [
    "# Make puzzle data\n",
    "\n",
    "## Note to self\n",
    "Include some distractors in the test set, such that:\n",
    "* subsequence(my_bill, distractor) is true\n",
    "* subsequence(friend_bill, distractor) is true\n",
    "* interleave(my_bill, friend_bill, distractor) is false\n",
    "\n",
    "(i.e. characters are shared between my_bill and friend_bill)\n",
    "\n",
    "Students are taking a greedy approach to subsequence, and saying the interleave is true if both bills are subsequences of the distractor.\n",
    "\n",
    "i.e. \"aaa\" and \"aab\" are both subsequences of \"aaabbb\", but cannot be interleaved to form \"aaabbb\".\n"
   ]
  },
  {
   "cell_type": "code",
   "execution_count": 46,
   "metadata": {
    "collapsed": true
   },
   "outputs": [],
   "source": [
    "my_bill = make_string(200)\n",
    "friend_bill = make_string(200)\n",
    "other_bills = [make_string(200) for _ in range(98)]\n",
    "\n",
    "target_interleaved = interleave(my_bill, friend_bill)\n",
    "mine_interleaved = [interleave(my_bill, o) for o in random.sample(other_bills, 21)]\n",
    "friend_interleaved = [interleave(friend_bill, o) for o in random.sample(other_bills, 13)]\n",
    "other_interleaved = []\n",
    "for _ in range(103):\n",
    "    s1, s2 = random.sample(other_bills, 2)\n",
    "    other_interleaved += [interleave(s1, s2)]"
   ]
  },
  {
   "cell_type": "code",
   "execution_count": 47,
   "metadata": {
    "collapsed": true
   },
   "outputs": [],
   "source": [
    "all_targets = [target_interleaved] + mine_interleaved + friend_interleaved + other_interleaved"
   ]
  },
  {
   "cell_type": "code",
   "execution_count": 48,
   "metadata": {},
   "outputs": [
    {
     "name": "stdout",
     "output_type": "stream",
     "text": [
      "CPU times: user 2.96 s, sys: 4 ms, total: 2.97 s\n",
      "Wall time: 2.97 s\n"
     ]
    },
    {
     "data": {
      "text/plain": [
       "[0]"
      ]
     },
     "execution_count": 48,
     "metadata": {},
     "output_type": "execute_result"
    }
   ],
   "source": [
    "%time [i for i, s12 in enumerate(all_targets) if is_interleave(my_bill, friend_bill, s12)]"
   ]
  },
  {
   "cell_type": "code",
   "execution_count": 49,
   "metadata": {},
   "outputs": [
    {
     "name": "stdout",
     "output_type": "stream",
     "text": [
      "CPU times: user 660 ms, sys: 0 ns, total: 660 ms\n",
      "Wall time: 658 ms\n"
     ]
    },
    {
     "data": {
      "text/plain": [
       "[0]"
      ]
     },
     "execution_count": 49,
     "metadata": {},
     "output_type": "execute_result"
    }
   ],
   "source": [
    "%time [i for i, s12 in enumerate(all_targets) if is_interleave_recursive(my_bill, friend_bill, s12)]"
   ]
  },
  {
   "cell_type": "code",
   "execution_count": 50,
   "metadata": {
    "collapsed": true
   },
   "outputs": [],
   "source": [
    "bill_set = all_targets + random.sample(other_bills, 8)\n",
    "random.shuffle(bill_set)\n",
    "bill_set = [my_bill, friend_bill] + bill_set\n",
    "\n",
    "# with open('09-bills.txt', 'w') as f:\n",
    "#     for i, b in enumerate(bill_set):\n",
    "#         f.write('{}: {}\\n'.format(i, b))"
   ]
  },
  {
   "cell_type": "code",
   "execution_count": 51,
   "metadata": {
    "collapsed": true
   },
   "outputs": [],
   "source": [
    "def is_subseq_greedy(s1, s2):\n",
    "    i = j = 0\n",
    "    while i < len(s1) and j < len(s2):\n",
    "        if s1[i] == s2[j]:\n",
    "            i += 1\n",
    "        j += 1\n",
    "    return i == len(s1)"
   ]
  },
  {
   "cell_type": "code",
   "execution_count": 52,
   "metadata": {
    "collapsed": true
   },
   "outputs": [],
   "source": [
    "def subseq_partition(s1, s2):\n",
    "    i = j = 0\n",
    "    remainder = ''\n",
    "    while i < len(s1) and j < len(s2):\n",
    "        if s1[i] == s2[j]:\n",
    "            i += 1\n",
    "        else:\n",
    "            remainder += s2[j]\n",
    "        j += 1\n",
    "    return i == len(s1), remainder"
   ]
  },
  {
   "cell_type": "code",
   "execution_count": 53,
   "metadata": {},
   "outputs": [
    {
     "data": {
      "text/plain": [
       "(40, 40, 20, 20)"
      ]
     },
     "execution_count": 53,
     "metadata": {},
     "output_type": "execute_result"
    }
   ],
   "source": [
    "common = make_string(10)\n",
    "padding = make_string(10)\n",
    "middle = interleave(common, padding)\n",
    "\n",
    "pre1 = make_string(5)\n",
    "suf1 = make_string(5)\n",
    "\n",
    "pre2 = make_string(5)\n",
    "suf2 = make_string(5)\n",
    "\n",
    "pre = interleave(pre1, pre2)\n",
    "suf = interleave(suf1, suf2)\n",
    "\n",
    "distractor = pre + middle + suf\n",
    "\n",
    "sub1 = pre1 + common + suf1\n",
    "sub2 = pre2 + common + suf2\n",
    "\n",
    "valid = interleave(sub1, sub2)\n",
    "\n",
    "len(distractor), len(valid), len(sub1), len(sub2)"
   ]
  },
  {
   "cell_type": "code",
   "execution_count": 54,
   "metadata": {},
   "outputs": [
    {
     "data": {
      "text/plain": [
       "(True, True)"
      ]
     },
     "execution_count": 54,
     "metadata": {},
     "output_type": "execute_result"
    }
   ],
   "source": [
    "is_subseq_greedy(sub1, distractor), is_subseq_greedy(sub2, distractor)"
   ]
  },
  {
   "cell_type": "code",
   "execution_count": 55,
   "metadata": {},
   "outputs": [
    {
     "data": {
      "text/plain": [
       "(True, True)"
      ]
     },
     "execution_count": 55,
     "metadata": {},
     "output_type": "execute_result"
    }
   ],
   "source": [
    "is_subseq_greedy(sub1, valid), is_subseq_greedy(sub2, valid)"
   ]
  },
  {
   "cell_type": "code",
   "execution_count": 56,
   "metadata": {},
   "outputs": [
    {
     "data": {
      "text/plain": [
       "(False, True)"
      ]
     },
     "execution_count": 56,
     "metadata": {},
     "output_type": "execute_result"
    }
   ],
   "source": [
    "is_interleave(sub1, sub2, distractor), is_interleave(sub1, sub2, valid)"
   ]
  },
  {
   "cell_type": "code",
   "execution_count": 57,
   "metadata": {},
   "outputs": [
    {
     "data": {
      "text/plain": [
       "('echgeaeeefdcebeaahaf',\n",
       " 'eeahaaeeefdcebedghbg',\n",
       " 'eeecahahgeaaeeebafaadgceadabefdaghbgahaf',\n",
       " 'eecheagehaaaeeeeeefdcebefadahcaebfedghbg')"
      ]
     },
     "execution_count": 57,
     "metadata": {},
     "output_type": "execute_result"
    }
   ],
   "source": [
    "sub1, sub2, distractor, valid"
   ]
  },
  {
   "cell_type": "code",
   "execution_count": 58,
   "metadata": {},
   "outputs": [
    {
     "data": {
      "text/plain": [
       "False"
      ]
     },
     "execution_count": 58,
     "metadata": {},
     "output_type": "execute_result"
    }
   ],
   "source": [
    "a, b = subseq_partition(sub1, distractor)\n",
    "b == sub2"
   ]
  },
  {
   "cell_type": "code",
   "execution_count": 59,
   "metadata": {},
   "outputs": [
    {
     "data": {
      "text/plain": [
       "('eeahaaeeefdceb', 'eeahaaeeefdcebedghbg')"
      ]
     },
     "execution_count": 59,
     "metadata": {},
     "output_type": "execute_result"
    }
   ],
   "source": [
    "a, b = subseq_partition(sub1, valid)\n",
    "b, sub2"
   ]
  },
  {
   "cell_type": "code",
   "execution_count": null,
   "metadata": {
    "collapsed": true
   },
   "outputs": [],
   "source": []
  }
 ],
 "metadata": {
  "kernelspec": {
   "display_name": "Python 3",
   "language": "python",
   "name": "python3"
  },
  "language_info": {
   "codemirror_mode": {
    "name": "ipython",
    "version": 3
   },
   "file_extension": ".py",
   "mimetype": "text/x-python",
   "name": "python",
   "nbconvert_exporter": "python",
   "pygments_lexer": "ipython3",
   "version": "3.5.2+"
  }
 },
 "nbformat": 4,
 "nbformat_minor": 1
}
