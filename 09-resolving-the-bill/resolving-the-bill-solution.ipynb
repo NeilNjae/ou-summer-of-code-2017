{
 "cells": [
  {
   "cell_type": "markdown",
   "metadata": {},
   "source": [
    "# Resolving the bill\n",
    "\n",
    "It's time to leave the hotel and pay your bill. Unfortunately, there's been some kind of foul-up in the hotel's admin system, and people's bills have been mixed up. Can you help the staff clarify what's happened?\n",
    "\n",
    "The bills are complex, but they are just strings of events that are billed. We can (without loss of generality) use letters for each different event, so we can treat the bills as strings of letters.\n",
    "\n",
    "The set of bills the staff have to work through are given as a bill on each line, with a leading number (an integer) that gives the index of the bill; the index number is separated from the bill by a colon.\n",
    "\n",
    "For instance, the bills could look like this:\n",
    "\n",
    "```\n",
    "0: accbadaadc\n",
    "1: bbbbaabada\n",
    "2: cdaacacadcddbccacdab\n",
    "3: bbcdabbaaabcbcadcaac\n",
    "4: accbbabbdbaaabadaadc\n",
    "5: acadcdddab\n",
    "6: aacccabaddcdaddaabdc\n",
    "```\n",
    "\n",
    "You know what you spent, so you've helpfully included your bill as the first line of the file, at index 0. \n",
    "\n",
    "You can find your bill in the mixed-up line at index 4, like this:\n",
    "\n",
    "```\n",
    "accbbabbdbaaabadaadc\n",
    "*** **  *   *    ***\n",
    "```\n",
    "\n",
    "(the stars indicate the bits that come from your bill). There's more than one way to extract your bill from that mixed-up line, and that's OK: you're just trying to find possible matches at the moment. \n",
    "\n",
    "Your bill is also in the line at index 6:\n",
    "\n",
    "```\n",
    "aacccabaddcdaddaabdc\n",
    " * ** ** *  *   * **\n",
    "```\n",
    "\n",
    "but you can't find your bill in any other lines. That means your bill occurs 2 times in this list of bills, if you exclude the line zero (which you added).\n",
    "\n",
    "## Part 1\n",
    "\n",
    "Given that your bill is at line 0, and the list of bills as [09-bills.txt](09-bills.txt), **how many _other_ lines contain your bill as a subsequence?**"
   ]
  },
  {
   "cell_type": "markdown",
   "metadata": {},
   "source": [
    "It seems there's some method behind the madness of the bills. Enough that you have hope of paying the bill and leaving soon enough to catch your flight home!\n",
    "\n",
    "Somewhere in the list of bills is a line that's a mixture of your bill and your friend's bill. Your bill is still on line 0. Your friend's bill is on line 1. In the example above, you can see that line 4 is the only line that's a mixture of your two bills.\n",
    "\n",
    "## Part 2\n",
    "Given that your bill is at line 0, your friend's is on line 1, and the list of bills is still in [09-bills.txt](09-bills.txt), **which line is a mixture of your bill and your friends's bill?** (There's only one such line.)"
   ]
  },
  {
   "cell_type": "code",
   "execution_count": 1,
   "metadata": {
    "collapsed": true
   },
   "outputs": [],
   "source": [
    "import sys\n",
    "sys.setrecursionlimit(10**6)"
   ]
  },
  {
   "cell_type": "code",
   "execution_count": 2,
   "metadata": {},
   "outputs": [
    {
     "data": {
      "text/plain": [
       "148"
      ]
     },
     "execution_count": 2,
     "metadata": {},
     "output_type": "execute_result"
    }
   ],
   "source": [
    "with open('09-bills.txt') as f:\n",
    "    bills = {int(l.strip().split(': ')[0]): l.strip().split(': ')[1] for l  in f.readlines()}\n",
    "len(bills)"
   ]
  },
  {
   "cell_type": "code",
   "execution_count": 3,
   "metadata": {
    "collapsed": true
   },
   "outputs": [],
   "source": [
    "def show_table(table):\n",
    "    return '\\n'.join(\n",
    "        ' '.join('T' if table[i, j] else '.' for j in sorted(set([k[1] for k in table])))\n",
    "        for i in sorted(set([k[0] for k in table])))        "
   ]
  },
  {
   "cell_type": "code",
   "execution_count": 4,
   "metadata": {
    "collapsed": true
   },
   "outputs": [],
   "source": [
    "def show_annotated_table(table, bps):\n",
    "    return '\\n'.join(' '.join('.' if (i, j) not in bps else bps[i, j][2] if table[i, j] else '.' for j in sorted(set([k[1] for k in table])))\n",
    "        for i in sorted(set([k[0] for k in table])))"
   ]
  },
  {
   "cell_type": "markdown",
   "metadata": {},
   "source": [
    "# Worked example: part 1\n",
    "Ah, the problem that didn't pan out. \n",
    "\n",
    "This was _meant_ to be an exercise in dynamic programming, another technique taught in M269. However, I mucked up both the problem specification in part 1 and the test data in part 2, so that other, simpler, approaches gave the correct answers. \n",
    "\n",
    "Part 1 was meant to be a variant on the greatest-common subsequence problem, but making it _whole_ subsequence checking meant there was no need for dynamic programming. Part 2 did require something like dynamic programming for the general case, but the test data didn't force examination of all the cases, so a simpler algorithm that would gave false positives didn't return any while using this data set. \n",
    "\n",
    "So, part 1. We want to see if $s_1$ is a subsequence of $s_2$. The simple way is to walk along $s_2$, character by character, keeping track of how much of $s_1$ is a subsequence up to this point. I use the ppinter _i_ as the position in the next character to check in $s_1$. If, when we've finished, _i_ points beyond the end of $s_1$, $s_1$ is a subsequence of $s_2$.\n",
    "\n",
    "For instance, if we want to see if `abc` is a subseqence of `babaca`, we can see that:\n",
    "* ø is a subsequence of `b` (_i_ == 0)\n",
    "* `a` is a subsequence of `ba` (_i_ == 1)\n",
    "* `ab` is a subsequence of `bab` (_i_ == 2)\n",
    "* `ab` is a subsequence of `baba` (_i_ == 2)\n",
    "* `abc` is a subsequence of `babac` (_i_ == 3)\n",
    "* `abc` is a subsequence of `babaca` (_i_ == 3)\n",
    "\n",
    "That's implemented as `is_subseq_simple`. The `is_subseq_simple_shortcut` does the same, but bails out of the loop as soon as it's determined that $s_1$ is a subsequence of $s_2$; working from the end of $s_2$ means the checks are for _i_ < 0 rather than using the length of $s_1$.\n",
    "\n"
   ]
  },
  {
   "cell_type": "markdown",
   "metadata": {},
   "source": [
    "The idea of the problem was dynamic programming. This comes in useful when considering the _longest common subsequence_ problem, were we have to identify the how much of $s_1$ can be found as subsequence in $s_2$.\n",
    "\n",
    "A recursive solution to the subsequence problem looks at the last character of each of $s_1$ and $s_2$. \n",
    "\n",
    "> If they're different, $s_1$ is only a subsequence of $s_2$ if $s_1$ is also a subsequence of all but the last character of $s_2$ (i.e. `abc` is a subsequence of `babaca` iff `abc` is a subsequence of `babac`). \n",
    "\n",
    "> If the last two characters are the same, $s_1$ is a subsequence of $s_2$ if $s_1$ is a subsequence of all but the last character of $s_2$, or  all but the last character of $s_1$ is a subsequence of all but the last character of $s_2$ (i.e. `abc` is a subsequence of `babac` if `ab` is a subsequence of `baba` or `abc` is a subsequence of `baba`)\n",
    "\n",
    "> There are two base cases. If $s_1$ is empty, return True. If length($s_1$) > length($s_2$), return False.\n",
    "\n",
    "The problem with this definition is that it can do a lot of repeated work (see the image below). The complexity is $O(2^{\\text{length of } s_2})$. The dynamic programmic approach comes at the problem from the other angle. \n",
    "\n",
    "<a href=\"gt.dot.png\"><img src=\"gt.dot.png\" alt=\"Finding a subsequence\" style=\"width: 200px;\"/></a>\n",
    "\n",
    "The way I think about it is that the recursive solution would be very efficient if there was some magic lookup table we could consult, which would give the answers to the subproblems. We can build that lookup table, starting with very short fragments of $s_1$ and $s_2$, building up the table, and using previous results in the table to fill in each cell.\n",
    "\n",
    "In this problem, we build a table such that the cell at row _i_ and column _j_ contains True if the first _i_ characters of $s_1$ are a subsequence of the first _j_ characters of $s_2$. (Note a complication due to Python's zero-based indexing of strings and lists. The third character of $s_1$ is referred to in Python as `s1[2]`.)\n",
    "\n",
    "Going back to the recursive description, we can see that:\n",
    "\n",
    "> All cells in the top row (_i_ == 0) contain True.\n",
    "\n",
    "> All cells in the left column (_j_ == 0) contain False (apart from _i_ == _j_ == 0, which is True).\n",
    "\n",
    "> If the _i_-1 th character of $s_1$ is different from the  _j_-1 th character of $s_2$, this cell (at position (_i_, _j_) ) contains the same value as the cell at (_i_, _j_ - 1) i.e. the cell to the left.\n",
    "\n",
    "> If the _i_-1 th character of $s_1$ is the same as the  _j_-1 th character of $s_2$, this cell (at position (_i_, _j_) ) contains True if either cell at (_i_, _j_ - 1) (i.e. the cell to the left) contains True, or the cell at (_i_ - 1, _j_ - 1) (i.e. the cell diagonally above and to the left) contains True.\n",
    "\n",
    "As each cell in the table only references the cells above and to the left, we can fill out the table row by row, going from left to right, and know we will always have the information needed to complete each cell when we get to it.\n",
    "\n",
    "And that's dynamic programming. As we're filling out a table, the complexity is $O({\\text{length of } s_1} \\times {\\text{length of } s_2})$ or roughly $O\\left((\\text{length of } s_2)^2 \\right)$\n",
    "\n",
    "The tables below show worked examples for seeing if `acba` is a subsequnce of `aaccabab` (it is) and `cdabcaca` (it isn't).\n",
    "\n",
    "For the first example, we fill out the first row of the table with True (by definition).\n",
    "\n",
    "For the second row (with _i_ = 1), we want to see if `a` is a subsequence of different prefixes is `aaccabab`. The cell with _j_ = 0 is False, by definition. For the cell at (_i_ = 1, _j_ = 1), the characters at $s_1$[0] and $s_2$[0] are the same, so this cell is True if the cell to the left is True (it isn't) or the cell above and to the left is True (it is). So cell (1, 1) is True, and the rest of that row is filled out to True.\n",
    "\n",
    "For the third row (with _i_ = 2), we want to see if `ac` is a subsequence of different prefixes is `aaccabab`. The cell with _j_ = 0 and _j_ = 1 are False, by definition. For the cell at (_i_ = 2, _j_ = 2), the characters at $s_1$[1] and $s_2$[1] are different, so this cell is True is the cell to the left is True; it isn't, so this cell contains False. For the cell at (_i_ = 2, _j_ = 3), the characters at $s_1$[1] and $s_2$[2] are the same, so this cell is True if the cell to the left is True (it isn't) or the cell above and to the left is True (it is). So cell (2, 3) is True, and the rest of that row is filled out to True.\n",
    "\n",
    "You can continue filling out the table in the same way.\n",
    "\n",
    "When the table is complete, the bottom right cell contains True, which means that `acba` is a subsequnce of `aaccabab`\n",
    "\n",
    "|   |<br />0|a<br />1|a<br />a<br />2|a<br />a<br />c<br />3|a<br />a<br />c<br />c<br />4|a<br />a<br />c<br />c<br />a<br />5|a<br />a<br />c<br />c<br />a<br />b<br />6|a<br />a<br />c<br />c<br />a<br />b<br />a<br />7|a<br />a<br />c<br />c<br />a<br />b<br />a<br />b<br />8|\n",
    "|:---:|:---:|:---:|:---:|:---:|:---:|:---:|:---:|:---:|:---:|\n",
    "|0<br />|T|T|T|T|T|T|T|T|T|\n",
    "|1<br />a|.|T|T|T|T|T|T|T|T|\n",
    "|2<br />ac|.|.|.|T|T|T|T|T|T|\n",
    "|3<br />acb|.|.|.|.|.|.|T|T|T|\n",
    "|4<br />acba|.|.|.|.|.|.|.|T|T|\n",
    "\n",
    "\n",
    "|   |<br />0|c<br />1|c<br />d<br />2|c<br />d<br />a<br />3|c<br />d<br />a<br />b<br />4|c<br />d<br />a<br />b<br />c<br />5|c<br />d<br />a<br />b<br />c<br />a<br />6|c<br />d<br />a<br />b<br />c<br />a<br />c<br />7|c<br />d<br />a<br />b<br />c<br />a<br />c<br />a<br />8|\n",
    "|:---:|:---:|:---:|:---:|:---:|:---:|:---:|:---:|:---:|:---:|\n",
    "|0<br />|T|T|T|T|T|T|T|T|T|\n",
    "|1<br />a|.|.|.|T|T|T|T|T|T|\n",
    "|2<br />ac|.|.|.|.|.|T|T|T|T|\n",
    "|3<br />acb|.|.|.|.|.|.|.|.|.|\n",
    "|4<br />acba|.|.|.|.|.|.|.|.|.|\n",
    "\n"
   ]
  },
  {
   "cell_type": "markdown",
   "metadata": {},
   "source": [
    "# Worked example: part 2\n",
    "This was a harder task, but the test data I provided didn't require the general case to be solved. \n",
    "\n",
    "The task was to return if $s_1$ and $s_2$ could be interleaved to form $s_3$. That's a stronger condition than just saying that both $s_1$ and $s_2$ are subsequences of $s_3$. For instance, `aba` and `aca` are both subsequences of `abbcca`, but there's no way of interleaving `aba` and `aca` to form `abbcca` (the interleaved sequence should have four `a`s, one `b`, and one `c`).\n",
    "\n",
    "For the test data provided, there was only one string which had both $s_1$ and $s_2$ as subsequences. I should have given other distractors in the test data, where $s_1$ and $s_2$ were both subsequences but the distactor wasn't formed from the interleaving.\n",
    "\n",
    "Anyway, the solution I was hoping for was another dynamic programming one. \n",
    "\n",
    "A recursive solution to the problem (can $s_1$ and $s_2$ be interleaved to form $s_3$?) looks like:\n",
    "\n",
    "> If the last characters of $s_1$ and $s_3$ are the same, $s_1$ and $s_2$ be interleaved to form $s_3$ if `butlast`($s_1$) and $s_2$ can be interleaved to form `butlast`($s_3$).\n",
    "\n",
    "> If the last characters of $s_2$ and $s_3$ are the same, $s_1$ and $s_2$ be interleaved to form $s_3$ if $s_1$ and `butlast`($s_2$) can be interleaved to form `butlast`($s_3$).\n",
    "\n",
    "> If the last characters of $s_1$ and $s_2$ and $s_3$ are all the same, check both of the conditions above, returning True if either is True.\n",
    "\n",
    "> If the last characters of $s_1$ and $s_2$ and $s_3$ are all different, return False.\n",
    "\n",
    "> There are three base cases. If $s_1$ is empty, return $s_2$ == $s_3$. If $s_2$ is empty, return $s_1$ == $s_3$. If $s_1$ + $s_2$ is longer than $s_3$, return False.\n",
    "\n",
    "This gives us the ammunition to build the dynamic programming table. The cell at (_i_, _j_) will contain True if the first _i_ characters of $s_1$ can be interleaved with the first _j_ characters of $s_2$ to form the first _i_ + _j_ characters of $s_3$.\n",
    "\n",
    "All cells in the table initially contain False.\n",
    "\n",
    "When filling out the table, you either look at the cell to the left (if the last characters of $s_1$ and $s_3$ are the same) or the cell above (if the last characters of $s_2$ and $s_3$ are the same). "
   ]
  },
  {
   "cell_type": "markdown",
   "metadata": {},
   "source": [
    "## Part 1"
   ]
  },
  {
   "cell_type": "code",
   "execution_count": 5,
   "metadata": {
    "collapsed": true
   },
   "outputs": [],
   "source": [
    "def is_subseq_simple(s1, s2):\n",
    "    i = 0\n",
    "    for c in s2:\n",
    "        if i < len(s1) and s1[i] == c:\n",
    "            i += 1\n",
    "    return i == len(s1)"
   ]
  },
  {
   "cell_type": "code",
   "execution_count": 6,
   "metadata": {
    "collapsed": true
   },
   "outputs": [],
   "source": [
    "def is_subseq_simple_shortcut(s1, s2):\n",
    "    i = len(s1) - 1\n",
    "    for c in reversed(s2):\n",
    "        if s1[i] == c:\n",
    "            i -= 1\n",
    "        if i < 0: break\n",
    "    return i < 0"
   ]
  },
  {
   "cell_type": "code",
   "execution_count": 8,
   "metadata": {
    "collapsed": true
   },
   "outputs": [],
   "source": [
    "def show_backtrace_s(bps):\n",
    "    i = max([0] + [k[0] for k in bps])\n",
    "    j = max([0] + [k[1] for k in bps])\n",
    "    chars = ''\n",
    "    if (i, j) in bps:\n",
    "        while i != 0 and j != 0:\n",
    "            if bps[i, j][3] == 'seq1':\n",
    "                chars += bps[i, j][2].upper()\n",
    "            else:\n",
    "                chars += bps[i, j][2]\n",
    "            i, j = bps[i, j][0], bps[i, j][1] \n",
    "        return ''.join(list(reversed(chars)))\n",
    "    else:\n",
    "        return ''"
   ]
  },
  {
   "cell_type": "code",
   "execution_count": 9,
   "metadata": {
    "collapsed": true
   },
   "outputs": [],
   "source": [
    "def is_subseq_recursive(s1, s2):\n",
    "    if not s1:\n",
    "        return True\n",
    "    elif len(s1) > len(s2):\n",
    "        return False\n",
    "    else:\n",
    "        if s1[-1] == s2[-1]:\n",
    "            return is_subseq_recursive(s1, s2[:-1]) or is_subseq_recursive(s1[:-1], s2[:-1])\n",
    "        else:\n",
    "            return is_subseq_recursive(s1, s2[:-1])"
   ]
  },
  {
   "cell_type": "code",
   "execution_count": 10,
   "metadata": {
    "collapsed": true
   },
   "outputs": [],
   "source": [
    "def is_subseq(seq1, seq2, return_backpointers=False, return_table=False, debug=False):\n",
    "    \"\"\"Return true if seq1 is a subsequence of seq2.\n",
    "    If return_backpointers, also return the set of backpointers to\n",
    "    reconstruct the subsequence\"\"\"\n",
    "    \n",
    "    # dp_table[i, j] is True if first i characters of seq1 can\n",
    "    # be found in the first j characters of seq2\n",
    "  \n",
    "    dp_table = {(i, j): False\n",
    "               for i in range(len(seq1)+1)\n",
    "               for j in range(len(seq2)+1)}\n",
    "\n",
    "    backpointers = {}\n",
    "    \n",
    "    for i in range(len(seq1)+1):\n",
    "        for j in range(i, len(seq2)+1):\n",
    "            if i == 0:\n",
    "                dp_table[i, j] = True\n",
    "                if debug: print('aa', i, j, '!', '!', dp_table[i, j])\n",
    "            elif j == 0:\n",
    "                dp_table[i, j] = False\n",
    "                if debug: print('zz', i, j, '!', '!', dp_table[i, j])\n",
    "            else:\n",
    "                # extend by character from s2\n",
    "                if dp_table[i, j-1]:\n",
    "                    dp_table[i, j] = True\n",
    "                    backpointers[i, j] = (i, j-1, seq2[j-1], 'seq2')\n",
    "                    if debug: print('s2', i, j, seq1[i-1], seq2[j-1], dp_table[i, j])                \n",
    "                # extend by character from s1\n",
    "                if dp_table[i-1, j-1] and seq1[i-1] == seq2[j-1]:\n",
    "                    dp_table[i, j] = True\n",
    "                    backpointers[i, j] = (i-1, j-1, seq1[i-1], 'seq1')                \n",
    "                    if debug: print('s1', i, j, seq1[i-1], seq2[j-1], dp_table[i, j])\n",
    "                if not dp_table[i, j]:\n",
    "                    if debug: print('xx', i, j, seq1[i-1], seq2[j-1], dp_table[i, j]) \n",
    "    \n",
    "    if return_backpointers or return_table:\n",
    "        retval = [dp_table[len(seq1), len(seq2)]]\n",
    "        if return_backpointers:\n",
    "            retval += [backpointers]\n",
    "        if return_table:\n",
    "            retval += [dp_table]\n",
    "        return tuple(retval)\n",
    "    else:\n",
    "        return dp_table[len(seq1), len(seq2)]"
   ]
  },
  {
   "cell_type": "code",
   "execution_count": 11,
   "metadata": {
    "collapsed": true
   },
   "outputs": [],
   "source": [
    "def is_subseq_rows(seq1, seq2, return_backpointers=False, debug=False):\n",
    "    \"\"\"Return true if seq1 is a subsequence of seq2.\n",
    "    If return_backpointers, also return the set of backpointers to\n",
    "    reconstruct the subsequence\"\"\"\n",
    "    \n",
    "    # dp_table[i, j] is True if first i characters of seq1 can\n",
    "    # be found in the first j characters of seq2\n",
    "  \n",
    "    backpointers = {}\n",
    "    \n",
    "    for i in range(len(seq1)+1):\n",
    "        row = [False] * (len(seq2)+1)\n",
    "        for j in range(i, len(seq2)+1):\n",
    "            if i == 0:\n",
    "                row[j] = True\n",
    "                if debug: print('aa', i, j, '!', '!', row[j])\n",
    "            elif j == 0:\n",
    "                row[j] = False\n",
    "                if debug: print('zz', i, j, '!', '!', row[j])\n",
    "            else:\n",
    "                # extend by character from s2\n",
    "                if row[j-1]:\n",
    "                    row[j] = True\n",
    "                    backpointers[i, j] = (i, j-1, seq2[j-1], 'seq2')\n",
    "                    if debug: print('s2', i, j, seq1[i-1], seq2[j-1], row[j])                \n",
    "                # extend by character from s1\n",
    "                if previous_row[j-1] and seq1[i-1] == seq2[j-1]:\n",
    "                    row[j] = True\n",
    "                    backpointers[i, j] = (i-1, j-1, seq1[i-1], 'seq1')                \n",
    "                    if debug: print('s1', i, j, seq1[i-1], seq2[j-1], row[j])\n",
    "                if not row[j]:\n",
    "                    if debug: print('xx', i, j, seq1[i-1], seq2[j-1], row[j])\n",
    "        previous_row = row\n",
    "    \n",
    "    if return_backpointers:\n",
    "        retval = [row[-1]]\n",
    "        if return_backpointers:\n",
    "            retval += [backpointers]\n",
    "        return tuple(retval)\n",
    "    else:\n",
    "        return row[-1]"
   ]
  },
  {
   "cell_type": "code",
   "execution_count": 12,
   "metadata": {},
   "outputs": [
    {
     "data": {
      "text/plain": [
       "22"
      ]
     },
     "execution_count": 12,
     "metadata": {},
     "output_type": "execute_result"
    }
   ],
   "source": [
    "sum(1 for s in bills\n",
    "   if s != 0\n",
    "   if is_subseq(bills[0], bills[s]))"
   ]
  },
  {
   "cell_type": "code",
   "execution_count": 13,
   "metadata": {},
   "outputs": [
    {
     "data": {
      "text/plain": [
       "22"
      ]
     },
     "execution_count": 13,
     "metadata": {},
     "output_type": "execute_result"
    }
   ],
   "source": [
    "sum(1 for s in bills\n",
    "   if s != 0\n",
    "   if is_subseq_rows(bills[0], bills[s]))"
   ]
  },
  {
   "cell_type": "code",
   "execution_count": 14,
   "metadata": {},
   "outputs": [
    {
     "data": {
      "text/plain": [
       "22"
      ]
     },
     "execution_count": 14,
     "metadata": {},
     "output_type": "execute_result"
    }
   ],
   "source": [
    "sum(1 for s in bills\n",
    "   if s != 0\n",
    "   if is_subseq_simple(bills[0], bills[s]))"
   ]
  },
  {
   "cell_type": "code",
   "execution_count": 15,
   "metadata": {},
   "outputs": [
    {
     "data": {
      "text/plain": [
       "22"
      ]
     },
     "execution_count": 15,
     "metadata": {},
     "output_type": "execute_result"
    }
   ],
   "source": [
    "sum(1 for s in bills\n",
    "   if s != 0\n",
    "   if is_subseq_simple_shortcut(bills[0], bills[s]))"
   ]
  },
  {
   "cell_type": "code",
   "execution_count": 17,
   "metadata": {},
   "outputs": [
    {
     "name": "stdout",
     "output_type": "stream",
     "text": [
      "100 loops, best of 3: 6.11 ms per loop\n"
     ]
    }
   ],
   "source": [
    "%%timeit\n",
    "sum(1 for s in bills\n",
    "   if s != 0\n",
    "   if is_subseq_simple(bills[0], bills[s]))"
   ]
  },
  {
   "cell_type": "code",
   "execution_count": 18,
   "metadata": {},
   "outputs": [
    {
     "name": "stdout",
     "output_type": "stream",
     "text": [
      "100 loops, best of 3: 4.24 ms per loop\n"
     ]
    }
   ],
   "source": [
    "%%timeit\n",
    "sum(1 for s in bills\n",
    "   if s != 0\n",
    "   if is_subseq_simple_shortcut(bills[0], bills[s]))"
   ]
  },
  {
   "cell_type": "code",
   "execution_count": 20,
   "metadata": {},
   "outputs": [
    {
     "name": "stdout",
     "output_type": "stream",
     "text": [
      "1 loop, best of 3: 7.75 s per loop\n"
     ]
    }
   ],
   "source": [
    "%%timeit\n",
    "sum(1 for s in bills\n",
    "   if s != 0\n",
    "   if is_subseq(bills[0], bills[s]))"
   ]
  },
  {
   "cell_type": "code",
   "execution_count": 21,
   "metadata": {
    "scrolled": true
   },
   "outputs": [
    {
     "data": {
      "text/plain": [
       "[11,\n",
       " 21,\n",
       " 25,\n",
       " 30,\n",
       " 33,\n",
       " 38,\n",
       " 43,\n",
       " 45,\n",
       " 48,\n",
       " 50,\n",
       " 52,\n",
       " 55,\n",
       " 56,\n",
       " 61,\n",
       " 75,\n",
       " 80,\n",
       " 91,\n",
       " 103,\n",
       " 104,\n",
       " 113,\n",
       " 144,\n",
       " 146]"
      ]
     },
     "execution_count": 21,
     "metadata": {},
     "output_type": "execute_result"
    }
   ],
   "source": [
    "[s for s in bills\n",
    "   if s != 0\n",
    "   if is_subseq(bills[0], bills[s])]"
   ]
  },
  {
   "cell_type": "code",
   "execution_count": 22,
   "metadata": {},
   "outputs": [
    {
     "name": "stdout",
     "output_type": "stream",
     "text": [
      "CPU times: user 140 ms, sys: 4 ms, total: 144 ms\n",
      "Wall time: 144 ms\n"
     ]
    },
    {
     "data": {
      "text/plain": [
       "(True, False)"
      ]
     },
     "execution_count": 22,
     "metadata": {},
     "output_type": "execute_result"
    }
   ],
   "source": [
    "%time is_subseq(bills[0], bills[11]), is_subseq(bills[0], bills[3])"
   ]
  },
  {
   "cell_type": "code",
   "execution_count": 23,
   "metadata": {
    "collapsed": true
   },
   "outputs": [],
   "source": [
    "# %time is_subseq_recursive(bills[0], bills[11])"
   ]
  },
  {
   "cell_type": "code",
   "execution_count": 24,
   "metadata": {},
   "outputs": [
    {
     "name": "stdout",
     "output_type": "stream",
     "text": [
      ". . . . . . . . . . . . . . . . . . . . . . . . . . . . . . . . . . . . . . . . . . . . . . . . . . . . . . . . . . . . . . . . . . . . . . . . . . . . . . . . . . . . . . . . . . . . . . . . . . . . . . . . . . . . . . . . . . . . . . . . . . . . . . . . . . . . . . . . . . . . . . . . . . . . . . . . . . . . . . . . . . . . . . . . . . . . . . . . . . . . . . . . . . . . . . . . . . . . . . . . . . . . . . . . . . . . . . . . . . . . . . . . . . . . . . . . . . . . . . . . . . . . . . . . . . . . . . . . . . . . . . . . . . . . . . . . . . . . . . . . . . . . . . . . . . . . . . . . . . . . . . . . . . . . . . . . . . . . . . . . . . . . . . . . . . . . . . . . . . . . . . . . . . . . . . . . . . . . . . . . . . . . . . . . . . . . . . . . . . . . . . . . . . . . . . . . . . . . . . . . .\n",
      ". c g d b h c e c a b h g f e g h a a c a c c h d g g g g e e f g h g b c g e g a e c a e c g d g e e e g g d d h b a e h b d f b g g f g f h b f e b d h c c d c g h c f a b h c c c h b h f f c c d e h b b h g h c g h h h d d c d c h f e d b a b a e a c g d c g f h b g f e d b g c c e d a c h b f d c h b b f a a e g a g b d b g h a f b c b e a a d f h g h g b a c h h g e a h c b g h g f h h f a h e g f a e h d g h d b g c g e c g e e a f g a f d a h f h d d e d b c e g g c f h b f d d a b g f h h h g e h g f a d h f e b c c f f c b a e a e c a b e h g a b g d h f a a d g a c e a d g e a g d c d b h d f b c b c b f g c b f g c e c c b a h a c h c d c f d e f g d b e c b h d a a d g g g d g h c a h e a g e b b c h e a f b h d g g g e a b a e e b h a b f e b c e d f b d h f g b a a f g d h b b\n",
      ". . g d b h c e c a b h g f e g h a a c a c c h d g g g g e e f g h g b c g e g a e c a e c g d g e e e g g d d h b a e h b d f b g g f g f h b f e b d h c c d c g h c f a b h c c c h b h f f c c d e h b b h g h c g h h h d d c d c h f e d b a b a e a c g d c g f h b g f e d b g c c e d a c h b f d c h b b f a a e g a g b d b g h a f b c b e a a d f h g h g b a c h h g e a h c b g h g f h h f a h e g f a e h d g h d b g c g e c g e e a f g a f d a h f h d d e d b c e g g c f h b f d d a b g f h h h g e h g f a d h f e b c c f f c b a e a e c a b e h g a b g d h f a a d g a c e a d g e a g d c d b h d f b c b c b f g c b f g c e c c b a h a c h c d c f d e f g d b e c b h d a a d g g g d g h c a h e a g e b b c h e a f b h d g g g e a b a e e b h a b f e b c e d f b d h f g b a a f g d h b b\n",
      ". . . d b h c e c a b h g f e g h a a c a c c h d g g g g e e f g h g b c g e g a e c a e c g d g e e e g g d d h b a e h b d f b g g f g f h b f e b d h c c d c g h c f a b h c c c h b h f f c c d e h b b h g h c g h h h d d c d c h f e d b a b a e a c g d c g f h b g f e d b g c c e d a c h b f d c h b b f a a e g a g b d b g h a f b c b e a a d f h g h g b a c h h g e a h c b g h g f h h f a h e g f a e h d g h d b g c g e c g e e a f g a f d a h f h d d e d b c e g g c f h b f d d a b g f h h h g e h g f a d h f e b c c f f c b a e a e c a b e h g a b g d h f a a d g a c e a d g e a g d c d b h d f b c b c b f g c b f g c e c c b a h a c h c d c f d e f g d b e c b h d a a d g g g d g h c a h e a g e b b c h e a f b h d g g g e a b a e e b h a b f e b c e d f b d h f g b a a f g d h b b\n",
      ". . . . . h c e c a b h g f e g h a a c a c c h d g g g g e e f g h g b c g e g a e c a e c g d g e e e g g d d h b a e h b d f b g g f g f h b f e b d h c c d c g h c f a b h c c c h b h f f c c d e h b b h g h c g h h h d d c d c h f e d b a b a e a c g d c g f h b g f e d b g c c e d a c h b f d c h b b f a a e g a g b d b g h a f b c b e a a d f h g h g b a c h h g e a h c b g h g f h h f a h e g f a e h d g h d b g c g e c g e e a f g a f d a h f h d d e d b c e g g c f h b f d d a b g f h h h g e h g f a d h f e b c c f f c b a e a e c a b e h g a b g d h f a a d g a c e a d g e a g d c d b h d f b c b c b f g c b f g c e c c b a h a c h c d c f d e f g d b e c b h d a a d g g g d g h c a h e a g e b b c h e a f b h d g g g e a b a e e b h a b f e b c e d f b d h f g b a a f g d h b b\n",
      ". . . . . . c e c a b h g f e g h a a c a c c h d g g g g e e f g h g b c g e g a e c a e c g d g e e e g g d d h b a e h b d f b g g f g f h b f e b d h c c d c g h c f a b h c c c h b h f f c c d e h b b h g h c g h h h d d c d c h f e d b a b a e a c g d c g f h b g f e d b g c c e d a c h b f d c h b b f a a e g a g b d b g h a f b c b e a a d f h g h g b a c h h g e a h c b g h g f h h f a h e g f a e h d g h d b g c g e c g e e a f g a f d a h f h d d e d b c e g g c f h b f d d a b g f h h h g e h g f a d h f e b c c f f c b a e a e c a b e h g a b g d h f a a d g a c e a d g e a g d c d b h d f b c b c b f g c b f g c e c c b a h a c h c d c f d e f g d b e c b h d a a d g g g d g h c a h e a g e b b c h e a f b h d g g g e a b a e e b h a b f e b c e d f b d h f g b a a f g d h b b\n",
      ". . . . . . . . . a b h g f e g h a a c a c c h d g g g g e e f g h g b c g e g a e c a e c g d g e e e g g d d h b a e h b d f b g g f g f h b f e b d h c c d c g h c f a b h c c c h b h f f c c d e h b b h g h c g h h h d d c d c h f e d b a b a e a c g d c g f h b g f e d b g c c e d a c h b f d c h b b f a a e g a g b d b g h a f b c b e a a d f h g h g b a c h h g e a h c b g h g f h h f a h e g f a e h d g h d b g c g e c g e e a f g a f d a h f h d d e d b c e g g c f h b f d d a b g f h h h g e h g f a d h f e b c c f f c b a e a e c a b e h g a b g d h f a a d g a c e a d g e a g d c d b h d f b c b c b f g c b f g c e c c b a h a c h c d c f d e f g d b e c b h d a a d g g g d g h c a h e a g e b b c h e a f b h d g g g e a b a e e b h a b f e b c e d f b d h f g b a a f g d h b b\n",
      ". . . . . . . . . . b h g f e g h a a c a c c h d g g g g e e f g h g b c g e g a e c a e c g d g e e e g g d d h b a e h b d f b g g f g f h b f e b d h c c d c g h c f a b h c c c h b h f f c c d e h b b h g h c g h h h d d c d c h f e d b a b a e a c g d c g f h b g f e d b g c c e d a c h b f d c h b b f a a e g a g b d b g h a f b c b e a a d f h g h g b a c h h g e a h c b g h g f h h f a h e g f a e h d g h d b g c g e c g e e a f g a f d a h f h d d e d b c e g g c f h b f d d a b g f h h h g e h g f a d h f e b c c f f c b a e a e c a b e h g a b g d h f a a d g a c e a d g e a g d c d b h d f b c b c b f g c b f g c e c c b a h a c h c d c f d e f g d b e c b h d a a d g g g d g h c a h e a g e b b c h e a f b h d g g g e a b a e e b h a b f e b c e d f b d h f g b a a f g d h b b\n",
      ". . . . . . . . . . . h g f e g h a a c a c c h d g g g g e e f g h g b c g e g a e c a e c g d g e e e g g d d h b a e h b d f b g g f g f h b f e b d h c c d c g h c f a b h c c c h b h f f c c d e h b b h g h c g h h h d d c d c h f e d b a b a e a c g d c g f h b g f e d b g c c e d a c h b f d c h b b f a a e g a g b d b g h a f b c b e a a d f h g h g b a c h h g e a h c b g h g f h h f a h e g f a e h d g h d b g c g e c g e e a f g a f d a h f h d d e d b c e g g c f h b f d d a b g f h h h g e h g f a d h f e b c c f f c b a e a e c a b e h g a b g d h f a a d g a c e a d g e a g d c d b h d f b c b c b f g c b f g c e c c b a h a c h c d c f d e f g d b e c b h d a a d g g g d g h c a h e a g e b b c h e a f b h d g g g e a b a e e b h a b f e b c e d f b d h f g b a a f g d h b b\n",
      ". . . . . . . . . . . . . . e g h a a c a c c h d g g g g e e f g h g b c g e g a e c a e c g d g e e e g g d d h b a e h b d f b g g f g f h b f e b d h c c d c g h c f a b h c c c h b h f f c c d e h b b h g h c g h h h d d c d c h f e d b a b a e a c g d c g f h b g f e d b g c c e d a c h b f d c h b b f a a e g a g b d b g h a f b c b e a a d f h g h g b a c h h g e a h c b g h g f h h f a h e g f a e h d g h d b g c g e c g e e a f g a f d a h f h d d e d b c e g g c f h b f d d a b g f h h h g e h g f a d h f e b c c f f c b a e a e c a b e h g a b g d h f a a d g a c e a d g e a g d c d b h d f b c b c b f g c b f g c e c c b a h a c h c d c f d e f g d b e c b h d a a d g g g d g h c a h e a g e b b c h e a f b h d g g g e a b a e e b h a b f e b c e d f b d h f g b a a f g d h b b\n",
      ". . . . . . . . . . . . . . . g h a a c a c c h d g g g g e e f g h g b c g e g a e c a e c g d g e e e g g d d h b a e h b d f b g g f g f h b f e b d h c c d c g h c f a b h c c c h b h f f c c d e h b b h g h c g h h h d d c d c h f e d b a b a e a c g d c g f h b g f e d b g c c e d a c h b f d c h b b f a a e g a g b d b g h a f b c b e a a d f h g h g b a c h h g e a h c b g h g f h h f a h e g f a e h d g h d b g c g e c g e e a f g a f d a h f h d d e d b c e g g c f h b f d d a b g f h h h g e h g f a d h f e b c c f f c b a e a e c a b e h g a b g d h f a a d g a c e a d g e a g d c d b h d f b c b c b f g c b f g c e c c b a h a c h c d c f d e f g d b e c b h d a a d g g g d g h c a h e a g e b b c h e a f b h d g g g e a b a e e b h a b f e b c e d f b d h f g b a a f g d h b b\n",
      ". . . . . . . . . . . . . . . . . a a c a c c h d g g g g e e f g h g b c g e g a e c a e c g d g e e e g g d d h b a e h b d f b g g f g f h b f e b d h c c d c g h c f a b h c c c h b h f f c c d e h b b h g h c g h h h d d c d c h f e d b a b a e a c g d c g f h b g f e d b g c c e d a c h b f d c h b b f a a e g a g b d b g h a f b c b e a a d f h g h g b a c h h g e a h c b g h g f h h f a h e g f a e h d g h d b g c g e c g e e a f g a f d a h f h d d e d b c e g g c f h b f d d a b g f h h h g e h g f a d h f e b c c f f c b a e a e c a b e h g a b g d h f a a d g a c e a d g e a g d c d b h d f b c b c b f g c b f g c e c c b a h a c h c d c f d e f g d b e c b h d a a d g g g d g h c a h e a g e b b c h e a f b h d g g g e a b a e e b h a b f e b c e d f b d h f g b a a f g d h b b\n",
      ". . . . . . . . . . . . . . . . . . a c a c c h d g g g g e e f g h g b c g e g a e c a e c g d g e e e g g d d h b a e h b d f b g g f g f h b f e b d h c c d c g h c f a b h c c c h b h f f c c d e h b b h g h c g h h h d d c d c h f e d b a b a e a c g d c g f h b g f e d b g c c e d a c h b f d c h b b f a a e g a g b d b g h a f b c b e a a d f h g h g b a c h h g e a h c b g h g f h h f a h e g f a e h d g h d b g c g e c g e e a f g a f d a h f h d d e d b c e g g c f h b f d d a b g f h h h g e h g f a d h f e b c c f f c b a e a e c a b e h g a b g d h f a a d g a c e a d g e a g d c d b h d f b c b c b f g c b f g c e c c b a h a c h c d c f d e f g d b e c b h d a a d g g g d g h c a h e a g e b b c h e a f b h d g g g e a b a e e b h a b f e b c e d f b d h f g b a a f g d h b b\n",
      ". . . . . . . . . . . . . . . . . . . c a c c h d g g g g e e f g h g b c g e g a e c a e c g d g e e e g g d d h b a e h b d f b g g f g f h b f e b d h c c d c g h c f a b h c c c h b h f f c c d e h b b h g h c g h h h d d c d c h f e d b a b a e a c g d c g f h b g f e d b g c c e d a c h b f d c h b b f a a e g a g b d b g h a f b c b e a a d f h g h g b a c h h g e a h c b g h g f h h f a h e g f a e h d g h d b g c g e c g e e a f g a f d a h f h d d e d b c e g g c f h b f d d a b g f h h h g e h g f a d h f e b c c f f c b a e a e c a b e h g a b g d h f a a d g a c e a d g e a g d c d b h d f b c b c b f g c b f g c e c c b a h a c h c d c f d e f g d b e c b h d a a d g g g d g h c a h e a g e b b c h e a f b h d g g g e a b a e e b h a b f e b c e d f b d h f g b a a f g d h b b\n",
      ". . . . . . . . . . . . . . . . . . . . a c c h d g g g g e e f g h g b c g e g a e c a e c g d g e e e g g d d h b a e h b d f b g g f g f h b f e b d h c c d c g h c f a b h c c c h b h f f c c d e h b b h g h c g h h h d d c d c h f e d b a b a e a c g d c g f h b g f e d b g c c e d a c h b f d c h b b f a a e g a g b d b g h a f b c b e a a d f h g h g b a c h h g e a h c b g h g f h h f a h e g f a e h d g h d b g c g e c g e e a f g a f d a h f h d d e d b c e g g c f h b f d d a b g f h h h g e h g f a d h f e b c c f f c b a e a e c a b e h g a b g d h f a a d g a c e a d g e a g d c d b h d f b c b c b f g c b f g c e c c b a h a c h c d c f d e f g d b e c b h d a a d g g g d g h c a h e a g e b b c h e a f b h d g g g e a b a e e b h a b f e b c e d f b d h f g b a a f g d h b b\n",
      ". . . . . . . . . . . . . . . . . . . . . . . . d g g g g e e f g h g b c g e g a e c a e c g d g e e e g g d d h b a e h b d f b g g f g f h b f e b d h c c d c g h c f a b h c c c h b h f f c c d e h b b h g h c g h h h d d c d c h f e d b a b a e a c g d c g f h b g f e d b g c c e d a c h b f d c h b b f a a e g a g b d b g h a f b c b e a a d f h g h g b a c h h g e a h c b g h g f h h f a h e g f a e h d g h d b g c g e c g e e a f g a f d a h f h d d e d b c e g g c f h b f d d a b g f h h h g e h g f a d h f e b c c f f c b a e a e c a b e h g a b g d h f a a d g a c e a d g e a g d c d b h d f b c b c b f g c b f g c e c c b a h a c h c d c f d e f g d b e c b h d a a d g g g d g h c a h e a g e b b c h e a f b h d g g g e a b a e e b h a b f e b c e d f b d h f g b a a f g d h b b\n",
      ". . . . . . . . . . . . . . . . . . . . . . . . . g g g g e e f g h g b c g e g a e c a e c g d g e e e g g d d h b a e h b d f b g g f g f h b f e b d h c c d c g h c f a b h c c c h b h f f c c d e h b b h g h c g h h h d d c d c h f e d b a b a e a c g d c g f h b g f e d b g c c e d a c h b f d c h b b f a a e g a g b d b g h a f b c b e a a d f h g h g b a c h h g e a h c b g h g f h h f a h e g f a e h d g h d b g c g e c g e e a f g a f d a h f h d d e d b c e g g c f h b f d d a b g f h h h g e h g f a d h f e b c c f f c b a e a e c a b e h g a b g d h f a a d g a c e a d g e a g d c d b h d f b c b c b f g c b f g c e c c b a h a c h c d c f d e f g d b e c b h d a a d g g g d g h c a h e a g e b b c h e a f b h d g g g e a b a e e b h a b f e b c e d f b d h f g b a a f g d h b b\n",
      ". . . . . . . . . . . . . . . . . . . . . . . . . . g g g e e f g h g b c g e g a e c a e c g d g e e e g g d d h b a e h b d f b g g f g f h b f e b d h c c d c g h c f a b h c c c h b h f f c c d e h b b h g h c g h h h d d c d c h f e d b a b a e a c g d c g f h b g f e d b g c c e d a c h b f d c h b b f a a e g a g b d b g h a f b c b e a a d f h g h g b a c h h g e a h c b g h g f h h f a h e g f a e h d g h d b g c g e c g e e a f g a f d a h f h d d e d b c e g g c f h b f d d a b g f h h h g e h g f a d h f e b c c f f c b a e a e c a b e h g a b g d h f a a d g a c e a d g e a g d c d b h d f b c b c b f g c b f g c e c c b a h a c h c d c f d e f g d b e c b h d a a d g g g d g h c a h e a g e b b c h e a f b h d g g g e a b a e e b h a b f e b c e d f b d h f g b a a f g d h b b\n",
      ". . . . . . . . . . . . . . . . . . . . . . . . . . . . . e e f g h g b c g e g a e c a e c g d g e e e g g d d h b a e h b d f b g g f g f h b f e b d h c c d c g h c f a b h c c c h b h f f c c d e h b b h g h c g h h h d d c d c h f e d b a b a e a c g d c g f h b g f e d b g c c e d a c h b f d c h b b f a a e g a g b d b g h a f b c b e a a d f h g h g b a c h h g e a h c b g h g f h h f a h e g f a e h d g h d b g c g e c g e e a f g a f d a h f h d d e d b c e g g c f h b f d d a b g f h h h g e h g f a d h f e b c c f f c b a e a e c a b e h g a b g d h f a a d g a c e a d g e a g d c d b h d f b c b c b f g c b f g c e c c b a h a c h c d c f d e f g d b e c b h d a a d g g g d g h c a h e a g e b b c h e a f b h d g g g e a b a e e b h a b f e b c e d f b d h f g b a a f g d h b b\n",
      ". . . . . . . . . . . . . . . . . . . . . . . . . . . . . . e f g h g b c g e g a e c a e c g d g e e e g g d d h b a e h b d f b g g f g f h b f e b d h c c d c g h c f a b h c c c h b h f f c c d e h b b h g h c g h h h d d c d c h f e d b a b a e a c g d c g f h b g f e d b g c c e d a c h b f d c h b b f a a e g a g b d b g h a f b c b e a a d f h g h g b a c h h g e a h c b g h g f h h f a h e g f a e h d g h d b g c g e c g e e a f g a f d a h f h d d e d b c e g g c f h b f d d a b g f h h h g e h g f a d h f e b c c f f c b a e a e c a b e h g a b g d h f a a d g a c e a d g e a g d c d b h d f b c b c b f g c b f g c e c c b a h a c h c d c f d e f g d b e c b h d a a d g g g d g h c a h e a g e b b c h e a f b h d g g g e a b a e e b h a b f e b c e d f b d h f g b a a f g d h b b\n",
      ". . . . . . . . . . . . . . . . . . . . . . . . . . . . . . . . . h g b c g e g a e c a e c g d g e e e g g d d h b a e h b d f b g g f g f h b f e b d h c c d c g h c f a b h c c c h b h f f c c d e h b b h g h c g h h h d d c d c h f e d b a b a e a c g d c g f h b g f e d b g c c e d a c h b f d c h b b f a a e g a g b d b g h a f b c b e a a d f h g h g b a c h h g e a h c b g h g f h h f a h e g f a e h d g h d b g c g e c g e e a f g a f d a h f h d d e d b c e g g c f h b f d d a b g f h h h g e h g f a d h f e b c c f f c b a e a e c a b e h g a b g d h f a a d g a c e a d g e a g d c d b h d f b c b c b f g c b f g c e c c b a h a c h c d c f d e f g d b e c b h d a a d g g g d g h c a h e a g e b b c h e a f b h d g g g e a b a e e b h a b f e b c e d f b d h f g b a a f g d h b b\n",
      ". . . . . . . . . . . . . . . . . . . . . . . . . . . . . . . . . . g b c g e g a e c a e c g d g e e e g g d d h b a e h b d f b g g f g f h b f e b d h c c d c g h c f a b h c c c h b h f f c c d e h b b h g h c g h h h d d c d c h f e d b a b a e a c g d c g f h b g f e d b g c c e d a c h b f d c h b b f a a e g a g b d b g h a f b c b e a a d f h g h g b a c h h g e a h c b g h g f h h f a h e g f a e h d g h d b g c g e c g e e a f g a f d a h f h d d e d b c e g g c f h b f d d a b g f h h h g e h g f a d h f e b c c f f c b a e a e c a b e h g a b g d h f a a d g a c e a d g e a g d c d b h d f b c b c b f g c b f g c e c c b a h a c h c d c f d e f g d b e c b h d a a d g g g d g h c a h e a g e b b c h e a f b h d g g g e a b a e e b h a b f e b c e d f b d h f g b a a f g d h b b\n",
      ". . . . . . . . . . . . . . . . . . . . . . . . . . . . . . . . . . . b c g e g a e c a e c g d g e e e g g d d h b a e h b d f b g g f g f h b f e b d h c c d c g h c f a b h c c c h b h f f c c d e h b b h g h c g h h h d d c d c h f e d b a b a e a c g d c g f h b g f e d b g c c e d a c h b f d c h b b f a a e g a g b d b g h a f b c b e a a d f h g h g b a c h h g e a h c b g h g f h h f a h e g f a e h d g h d b g c g e c g e e a f g a f d a h f h d d e d b c e g g c f h b f d d a b g f h h h g e h g f a d h f e b c c f f c b a e a e c a b e h g a b g d h f a a d g a c e a d g e a g d c d b h d f b c b c b f g c b f g c e c c b a h a c h c d c f d e f g d b e c b h d a a d g g g d g h c a h e a g e b b c h e a f b h d g g g e a b a e e b h a b f e b c e d f b d h f g b a a f g d h b b\n",
      ". . . . . . . . . . . . . . . . . . . . . . . . . . . . . . . . . . . . c g e g a e c a e c g d g e e e g g d d h b a e h b d f b g g f g f h b f e b d h c c d c g h c f a b h c c c h b h f f c c d e h b b h g h c g h h h d d c d c h f e d b a b a e a c g d c g f h b g f e d b g c c e d a c h b f d c h b b f a a e g a g b d b g h a f b c b e a a d f h g h g b a c h h g e a h c b g h g f h h f a h e g f a e h d g h d b g c g e c g e e a f g a f d a h f h d d e d b c e g g c f h b f d d a b g f h h h g e h g f a d h f e b c c f f c b a e a e c a b e h g a b g d h f a a d g a c e a d g e a g d c d b h d f b c b c b f g c b f g c e c c b a h a c h c d c f d e f g d b e c b h d a a d g g g d g h c a h e a g e b b c h e a f b h d g g g e a b a e e b h a b f e b c e d f b d h f g b a a f g d h b b\n",
      ". . . . . . . . . . . . . . . . . . . . . . . . . . . . . . . . . . . . . . e g a e c a e c g d g e e e g g d d h b a e h b d f b g g f g f h b f e b d h c c d c g h c f a b h c c c h b h f f c c d e h b b h g h c g h h h d d c d c h f e d b a b a e a c g d c g f h b g f e d b g c c e d a c h b f d c h b b f a a e g a g b d b g h a f b c b e a a d f h g h g b a c h h g e a h c b g h g f h h f a h e g f a e h d g h d b g c g e c g e e a f g a f d a h f h d d e d b c e g g c f h b f d d a b g f h h h g e h g f a d h f e b c c f f c b a e a e c a b e h g a b g d h f a a d g a c e a d g e a g d c d b h d f b c b c b f g c b f g c e c c b a h a c h c d c f d e f g d b e c b h d a a d g g g d g h c a h e a g e b b c h e a f b h d g g g e a b a e e b h a b f e b c e d f b d h f g b a a f g d h b b\n",
      ". . . . . . . . . . . . . . . . . . . . . . . . . . . . . . . . . . . . . . . g a e c a e c g d g e e e g g d d h b a e h b d f b g g f g f h b f e b d h c c d c g h c f a b h c c c h b h f f c c d e h b b h g h c g h h h d d c d c h f e d b a b a e a c g d c g f h b g f e d b g c c e d a c h b f d c h b b f a a e g a g b d b g h a f b c b e a a d f h g h g b a c h h g e a h c b g h g f h h f a h e g f a e h d g h d b g c g e c g e e a f g a f d a h f h d d e d b c e g g c f h b f d d a b g f h h h g e h g f a d h f e b c c f f c b a e a e c a b e h g a b g d h f a a d g a c e a d g e a g d c d b h d f b c b c b f g c b f g c e c c b a h a c h c d c f d e f g d b e c b h d a a d g g g d g h c a h e a g e b b c h e a f b h d g g g e a b a e e b h a b f e b c e d f b d h f g b a a f g d h b b\n",
      ". . . . . . . . . . . . . . . . . . . . . . . . . . . . . . . . . . . . . . . . . . . . . . . d g e e e g g d d h b a e h b d f b g g f g f h b f e b d h c c d c g h c f a b h c c c h b h f f c c d e h b b h g h c g h h h d d c d c h f e d b a b a e a c g d c g f h b g f e d b g c c e d a c h b f d c h b b f a a e g a g b d b g h a f b c b e a a d f h g h g b a c h h g e a h c b g h g f h h f a h e g f a e h d g h d b g c g e c g e e a f g a f d a h f h d d e d b c e g g c f h b f d d a b g f h h h g e h g f a d h f e b c c f f c b a e a e c a b e h g a b g d h f a a d g a c e a d g e a g d c d b h d f b c b c b f g c b f g c e c c b a h a c h c d c f d e f g d b e c b h d a a d g g g d g h c a h e a g e b b c h e a f b h d g g g e a b a e e b h a b f e b c e d f b d h f g b a a f g d h b b\n",
      ". . . . . . . . . . . . . . . . . . . . . . . . . . . . . . . . . . . . . . . . . . . . . . . . . e e e g g d d h b a e h b d f b g g f g f h b f e b d h c c d c g h c f a b h c c c h b h f f c c d e h b b h g h c g h h h d d c d c h f e d b a b a e a c g d c g f h b g f e d b g c c e d a c h b f d c h b b f a a e g a g b d b g h a f b c b e a a d f h g h g b a c h h g e a h c b g h g f h h f a h e g f a e h d g h d b g c g e c g e e a f g a f d a h f h d d e d b c e g g c f h b f d d a b g f h h h g e h g f a d h f e b c c f f c b a e a e c a b e h g a b g d h f a a d g a c e a d g e a g d c d b h d f b c b c b f g c b f g c e c c b a h a c h c d c f d e f g d b e c b h d a a d g g g d g h c a h e a g e b b c h e a f b h d g g g e a b a e e b h a b f e b c e d f b d h f g b a a f g d h b b\n",
      ". . . . . . . . . . . . . . . . . . . . . . . . . . . . . . . . . . . . . . . . . . . . . . . . . . . . g g d d h b a e h b d f b g g f g f h b f e b d h c c d c g h c f a b h c c c h b h f f c c d e h b b h g h c g h h h d d c d c h f e d b a b a e a c g d c g f h b g f e d b g c c e d a c h b f d c h b b f a a e g a g b d b g h a f b c b e a a d f h g h g b a c h h g e a h c b g h g f h h f a h e g f a e h d g h d b g c g e c g e e a f g a f d a h f h d d e d b c e g g c f h b f d d a b g f h h h g e h g f a d h f e b c c f f c b a e a e c a b e h g a b g d h f a a d g a c e a d g e a g d c d b h d f b c b c b f g c b f g c e c c b a h a c h c d c f d e f g d b e c b h d a a d g g g d g h c a h e a g e b b c h e a f b h d g g g e a b a e e b h a b f e b c e d f b d h f g b a a f g d h b b\n",
      ". . . . . . . . . . . . . . . . . . . . . . . . . . . . . . . . . . . . . . . . . . . . . . . . . . . . . . . . h b a e h b d f b g g f g f h b f e b d h c c d c g h c f a b h c c c h b h f f c c d e h b b h g h c g h h h d d c d c h f e d b a b a e a c g d c g f h b g f e d b g c c e d a c h b f d c h b b f a a e g a g b d b g h a f b c b e a a d f h g h g b a c h h g e a h c b g h g f h h f a h e g f a e h d g h d b g c g e c g e e a f g a f d a h f h d d e d b c e g g c f h b f d d a b g f h h h g e h g f a d h f e b c c f f c b a e a e c a b e h g a b g d h f a a d g a c e a d g e a g d c d b h d f b c b c b f g c b f g c e c c b a h a c h c d c f d e f g d b e c b h d a a d g g g d g h c a h e a g e b b c h e a f b h d g g g e a b a e e b h a b f e b c e d f b d h f g b a a f g d h b b\n",
      ". . . . . . . . . . . . . . . . . . . . . . . . . . . . . . . . . . . . . . . . . . . . . . . . . . . . . . . . . b a e h b d f b g g f g f h b f e b d h c c d c g h c f a b h c c c h b h f f c c d e h b b h g h c g h h h d d c d c h f e d b a b a e a c g d c g f h b g f e d b g c c e d a c h b f d c h b b f a a e g a g b d b g h a f b c b e a a d f h g h g b a c h h g e a h c b g h g f h h f a h e g f a e h d g h d b g c g e c g e e a f g a f d a h f h d d e d b c e g g c f h b f d d a b g f h h h g e h g f a d h f e b c c f f c b a e a e c a b e h g a b g d h f a a d g a c e a d g e a g d c d b h d f b c b c b f g c b f g c e c c b a h a c h c d c f d e f g d b e c b h d a a d g g g d g h c a h e a g e b b c h e a f b h d g g g e a b a e e b h a b f e b c e d f b d h f g b a a f g d h b b\n",
      ". . . . . . . . . . . . . . . . . . . . . . . . . . . . . . . . . . . . . . . . . . . . . . . . . . . . . . . . . . a e h b d f b g g f g f h b f e b d h c c d c g h c f a b h c c c h b h f f c c d e h b b h g h c g h h h d d c d c h f e d b a b a e a c g d c g f h b g f e d b g c c e d a c h b f d c h b b f a a e g a g b d b g h a f b c b e a a d f h g h g b a c h h g e a h c b g h g f h h f a h e g f a e h d g h d b g c g e c g e e a f g a f d a h f h d d e d b c e g g c f h b f d d a b g f h h h g e h g f a d h f e b c c f f c b a e a e c a b e h g a b g d h f a a d g a c e a d g e a g d c d b h d f b c b c b f g c b f g c e c c b a h a c h c d c f d e f g d b e c b h d a a d g g g d g h c a h e a g e b b c h e a f b h d g g g e a b a e e b h a b f e b c e d f b d h f g b a a f g d h b b\n",
      ". . . . . . . . . . . . . . . . . . . . . . . . . . . . . . . . . . . . . . . . . . . . . . . . . . . . . . . . . . . . . . . f b g g f g f h b f e b d h c c d c g h c f a b h c c c h b h f f c c d e h b b h g h c g h h h d d c d c h f e d b a b a e a c g d c g f h b g f e d b g c c e d a c h b f d c h b b f a a e g a g b d b g h a f b c b e a a d f h g h g b a c h h g e a h c b g h g f h h f a h e g f a e h d g h d b g c g e c g e e a f g a f d a h f h d d e d b c e g g c f h b f d d a b g f h h h g e h g f a d h f e b c c f f c b a e a e c a b e h g a b g d h f a a d g a c e a d g e a g d c d b h d f b c b c b f g c b f g c e c c b a h a c h c d c f d e f g d b e c b h d a a d g g g d g h c a h e a g e b b c h e a f b h d g g g e a b a e e b h a b f e b c e d f b d h f g b a a f g d h b b\n",
      ". . . . . . . . . . . . . . . . . . . . . . . . . . . . . . . . . . . . . . . . . . . . . . . . . . . . . . . . . . . . . . . . . g g f g f h b f e b d h c c d c g h c f a b h c c c h b h f f c c d e h b b h g h c g h h h d d c d c h f e d b a b a e a c g d c g f h b g f e d b g c c e d a c h b f d c h b b f a a e g a g b d b g h a f b c b e a a d f h g h g b a c h h g e a h c b g h g f h h f a h e g f a e h d g h d b g c g e c g e e a f g a f d a h f h d d e d b c e g g c f h b f d d a b g f h h h g e h g f a d h f e b c c f f c b a e a e c a b e h g a b g d h f a a d g a c e a d g e a g d c d b h d f b c b c b f g c b f g c e c c b a h a c h c d c f d e f g d b e c b h d a a d g g g d g h c a h e a g e b b c h e a f b h d g g g e a b a e e b h a b f e b c e d f b d h f g b a a f g d h b b\n",
      ". . . . . . . . . . . . . . . . . . . . . . . . . . . . . . . . . . . . . . . . . . . . . . . . . . . . . . . . . . . . . . . . . . . . . . . . . e b d h c c d c g h c f a b h c c c h b h f f c c d e h b b h g h c g h h h d d c d c h f e d b a b a e a c g d c g f h b g f e d b g c c e d a c h b f d c h b b f a a e g a g b d b g h a f b c b e a a d f h g h g b a c h h g e a h c b g h g f h h f a h e g f a e h d g h d b g c g e c g e e a f g a f d a h f h d d e d b c e g g c f h b f d d a b g f h h h g e h g f a d h f e b c c f f c b a e a e c a b e h g a b g d h f a a d g a c e a d g e a g d c d b h d f b c b c b f g c b f g c e c c b a h a c h c d c f d e f g d b e c b h d a a d g g g d g h c a h e a g e b b c h e a f b h d g g g e a b a e e b h a b f e b c e d f b d h f g b a a f g d h b b\n",
      ". . . . . . . . . . . . . . . . . . . . . . . . . . . . . . . . . . . . . . . . . . . . . . . . . . . . . . . . . . . . . . . . . . . . . . . . . . . . h c c d c g h c f a b h c c c h b h f f c c d e h b b h g h c g h h h d d c d c h f e d b a b a e a c g d c g f h b g f e d b g c c e d a c h b f d c h b b f a a e g a g b d b g h a f b c b e a a d f h g h g b a c h h g e a h c b g h g f h h f a h e g f a e h d g h d b g c g e c g e e a f g a f d a h f h d d e d b c e g g c f h b f d d a b g f h h h g e h g f a d h f e b c c f f c b a e a e c a b e h g a b g d h f a a d g a c e a d g e a g d c d b h d f b c b c b f g c b f g c e c c b a h a c h c d c f d e f g d b e c b h d a a d g g g d g h c a h e a g e b b c h e a f b h d g g g e a b a e e b h a b f e b c e d f b d h f g b a a f g d h b b\n",
      ". . . . . . . . . . . . . . . . . . . . . . . . . . . . . . . . . . . . . . . . . . . . . . . . . . . . . . . . . . . . . . . . . . . . . . . . . . . . . . . . . g h c f a b h c c c h b h f f c c d e h b b h g h c g h h h d d c d c h f e d b a b a e a c g d c g f h b g f e d b g c c e d a c h b f d c h b b f a a e g a g b d b g h a f b c b e a a d f h g h g b a c h h g e a h c b g h g f h h f a h e g f a e h d g h d b g c g e c g e e a f g a f d a h f h d d e d b c e g g c f h b f d d a b g f h h h g e h g f a d h f e b c c f f c b a e a e c a b e h g a b g d h f a a d g a c e a d g e a g d c d b h d f b c b c b f g c b f g c e c c b a h a c h c d c f d e f g d b e c b h d a a d g g g d g h c a h e a g e b b c h e a f b h d g g g e a b a e e b h a b f e b c e d f b d h f g b a a f g d h b b\n",
      ". . . . . . . . . . . . . . . . . . . . . . . . . . . . . . . . . . . . . . . . . . . . . . . . . . . . . . . . . . . . . . . . . . . . . . . . . . . . . . . . . . h c f a b h c c c h b h f f c c d e h b b h g h c g h h h d d c d c h f e d b a b a e a c g d c g f h b g f e d b g c c e d a c h b f d c h b b f a a e g a g b d b g h a f b c b e a a d f h g h g b a c h h g e a h c b g h g f h h f a h e g f a e h d g h d b g c g e c g e e a f g a f d a h f h d d e d b c e g g c f h b f d d a b g f h h h g e h g f a d h f e b c c f f c b a e a e c a b e h g a b g d h f a a d g a c e a d g e a g d c d b h d f b c b c b f g c b f g c e c c b a h a c h c d c f d e f g d b e c b h d a a d g g g d g h c a h e a g e b b c h e a f b h d g g g e a b a e e b h a b f e b c e d f b d h f g b a a f g d h b b\n",
      ". . . . . . . . . . . . . . . . . . . . . . . . . . . . . . . . . . . . . . . . . . . . . . . . . . . . . . . . . . . . . . . . . . . . . . . . . . . . . . . . . . . . f a b h c c c h b h f f c c d e h b b h g h c g h h h d d c d c h f e d b a b a e a c g d c g f h b g f e d b g c c e d a c h b f d c h b b f a a e g a g b d b g h a f b c b e a a d f h g h g b a c h h g e a h c b g h g f h h f a h e g f a e h d g h d b g c g e c g e e a f g a f d a h f h d d e d b c e g g c f h b f d d a b g f h h h g e h g f a d h f e b c c f f c b a e a e c a b e h g a b g d h f a a d g a c e a d g e a g d c d b h d f b c b c b f g c b f g c e c c b a h a c h c d c f d e f g d b e c b h d a a d g g g d g h c a h e a g e b b c h e a f b h d g g g e a b a e e b h a b f e b c e d f b d h f g b a a f g d h b b\n",
      ". . . . . . . . . . . . . . . . . . . . . . . . . . . . . . . . . . . . . . . . . . . . . . . . . . . . . . . . . . . . . . . . . . . . . . . . . . . . . . . . . . . . . . . h c c c h b h f f c c d e h b b h g h c g h h h d d c d c h f e d b a b a e a c g d c g f h b g f e d b g c c e d a c h b f d c h b b f a a e g a g b d b g h a f b c b e a a d f h g h g b a c h h g e a h c b g h g f h h f a h e g f a e h d g h d b g c g e c g e e a f g a f d a h f h d d e d b c e g g c f h b f d d a b g f h h h g e h g f a d h f e b c c f f c b a e a e c a b e h g a b g d h f a a d g a c e a d g e a g d c d b h d f b c b c b f g c b f g c e c c b a h a c h c d c f d e f g d b e c b h d a a d g g g d g h c a h e a g e b b c h e a f b h d g g g e a b a e e b h a b f e b c e d f b d h f g b a a f g d h b b\n",
      ". . . . . . . . . . . . . . . . . . . . . . . . . . . . . . . . . . . . . . . . . . . . . . . . . . . . . . . . . . . . . . . . . . . . . . . . . . . . . . . . . . . . . . . . c c c h b h f f c c d e h b b h g h c g h h h d d c d c h f e d b a b a e a c g d c g f h b g f e d b g c c e d a c h b f d c h b b f a a e g a g b d b g h a f b c b e a a d f h g h g b a c h h g e a h c b g h g f h h f a h e g f a e h d g h d b g c g e c g e e a f g a f d a h f h d d e d b c e g g c f h b f d d a b g f h h h g e h g f a d h f e b c c f f c b a e a e c a b e h g a b g d h f a a d g a c e a d g e a g d c d b h d f b c b c b f g c b f g c e c c b a h a c h c d c f d e f g d b e c b h d a a d g g g d g h c a h e a g e b b c h e a f b h d g g g e a b a e e b h a b f e b c e d f b d h f g b a a f g d h b b\n",
      ". . . . . . . . . . . . . . . . . . . . . . . . . . . . . . . . . . . . . . . . . . . . . . . . . . . . . . . . . . . . . . . . . . . . . . . . . . . . . . . . . . . . . . . . . c c h b h f f c c d e h b b h g h c g h h h d d c d c h f e d b a b a e a c g d c g f h b g f e d b g c c e d a c h b f d c h b b f a a e g a g b d b g h a f b c b e a a d f h g h g b a c h h g e a h c b g h g f h h f a h e g f a e h d g h d b g c g e c g e e a f g a f d a h f h d d e d b c e g g c f h b f d d a b g f h h h g e h g f a d h f e b c c f f c b a e a e c a b e h g a b g d h f a a d g a c e a d g e a g d c d b h d f b c b c b f g c b f g c e c c b a h a c h c d c f d e f g d b e c b h d a a d g g g d g h c a h e a g e b b c h e a f b h d g g g e a b a e e b h a b f e b c e d f b d h f g b a a f g d h b b\n",
      ". . . . . . . . . . . . . . . . . . . . . . . . . . . . . . . . . . . . . . . . . . . . . . . . . . . . . . . . . . . . . . . . . . . . . . . . . . . . . . . . . . . . . . . . . . . h b h f f c c d e h b b h g h c g h h h d d c d c h f e d b a b a e a c g d c g f h b g f e d b g c c e d a c h b f d c h b b f a a e g a g b d b g h a f b c b e a a d f h g h g b a c h h g e a h c b g h g f h h f a h e g f a e h d g h d b g c g e c g e e a f g a f d a h f h d d e d b c e g g c f h b f d d a b g f h h h g e h g f a d h f e b c c f f c b a e a e c a b e h g a b g d h f a a d g a c e a d g e a g d c d b h d f b c b c b f g c b f g c e c c b a h a c h c d c f d e f g d b e c b h d a a d g g g d g h c a h e a g e b b c h e a f b h d g g g e a b a e e b h a b f e b c e d f b d h f g b a a f g d h b b\n",
      ". . . . . . . . . . . . . . . . . . . . . . . . . . . . . . . . . . . . . . . . . . . . . . . . . . . . . . . . . . . . . . . . . . . . . . . . . . . . . . . . . . . . . . . . . . . . b h f f c c d e h b b h g h c g h h h d d c d c h f e d b a b a e a c g d c g f h b g f e d b g c c e d a c h b f d c h b b f a a e g a g b d b g h a f b c b e a a d f h g h g b a c h h g e a h c b g h g f h h f a h e g f a e h d g h d b g c g e c g e e a f g a f d a h f h d d e d b c e g g c f h b f d d a b g f h h h g e h g f a d h f e b c c f f c b a e a e c a b e h g a b g d h f a a d g a c e a d g e a g d c d b h d f b c b c b f g c b f g c e c c b a h a c h c d c f d e f g d b e c b h d a a d g g g d g h c a h e a g e b b c h e a f b h d g g g e a b a e e b h a b f e b c e d f b d h f g b a a f g d h b b\n",
      ". . . . . . . . . . . . . . . . . . . . . . . . . . . . . . . . . . . . . . . . . . . . . . . . . . . . . . . . . . . . . . . . . . . . . . . . . . . . . . . . . . . . . . . . . . . . . . f f c c d e h b b h g h c g h h h d d c d c h f e d b a b a e a c g d c g f h b g f e d b g c c e d a c h b f d c h b b f a a e g a g b d b g h a f b c b e a a d f h g h g b a c h h g e a h c b g h g f h h f a h e g f a e h d g h d b g c g e c g e e a f g a f d a h f h d d e d b c e g g c f h b f d d a b g f h h h g e h g f a d h f e b c c f f c b a e a e c a b e h g a b g d h f a a d g a c e a d g e a g d c d b h d f b c b c b f g c b f g c e c c b a h a c h c d c f d e f g d b e c b h d a a d g g g d g h c a h e a g e b b c h e a f b h d g g g e a b a e e b h a b f e b c e d f b d h f g b a a f g d h b b\n",
      ". . . . . . . . . . . . . . . . . . . . . . . . . . . . . . . . . . . . . . . . . . . . . . . . . . . . . . . . . . . . . . . . . . . . . . . . . . . . . . . . . . . . . . . . . . . . . . . . c c d e h b b h g h c g h h h d d c d c h f e d b a b a e a c g d c g f h b g f e d b g c c e d a c h b f d c h b b f a a e g a g b d b g h a f b c b e a a d f h g h g b a c h h g e a h c b g h g f h h f a h e g f a e h d g h d b g c g e c g e e a f g a f d a h f h d d e d b c e g g c f h b f d d a b g f h h h g e h g f a d h f e b c c f f c b a e a e c a b e h g a b g d h f a a d g a c e a d g e a g d c d b h d f b c b c b f g c b f g c e c c b a h a c h c d c f d e f g d b e c b h d a a d g g g d g h c a h e a g e b b c h e a f b h d g g g e a b a e e b h a b f e b c e d f b d h f g b a a f g d h b b\n",
      ". . . . . . . . . . . . . . . . . . . . . . . . . . . . . . . . . . . . . . . . . . . . . . . . . . . . . . . . . . . . . . . . . . . . . . . . . . . . . . . . . . . . . . . . . . . . . . . . . . d e h b b h g h c g h h h d d c d c h f e d b a b a e a c g d c g f h b g f e d b g c c e d a c h b f d c h b b f a a e g a g b d b g h a f b c b e a a d f h g h g b a c h h g e a h c b g h g f h h f a h e g f a e h d g h d b g c g e c g e e a f g a f d a h f h d d e d b c e g g c f h b f d d a b g f h h h g e h g f a d h f e b c c f f c b a e a e c a b e h g a b g d h f a a d g a c e a d g e a g d c d b h d f b c b c b f g c b f g c e c c b a h a c h c d c f d e f g d b e c b h d a a d g g g d g h c a h e a g e b b c h e a f b h d g g g e a b a e e b h a b f e b c e d f b d h f g b a a f g d h b b\n",
      ". . . . . . . . . . . . . . . . . . . . . . . . . . . . . . . . . . . . . . . . . . . . . . . . . . . . . . . . . . . . . . . . . . . . . . . . . . . . . . . . . . . . . . . . . . . . . . . . . . . . h b b h g h c g h h h d d c d c h f e d b a b a e a c g d c g f h b g f e d b g c c e d a c h b f d c h b b f a a e g a g b d b g h a f b c b e a a d f h g h g b a c h h g e a h c b g h g f h h f a h e g f a e h d g h d b g c g e c g e e a f g a f d a h f h d d e d b c e g g c f h b f d d a b g f h h h g e h g f a d h f e b c c f f c b a e a e c a b e h g a b g d h f a a d g a c e a d g e a g d c d b h d f b c b c b f g c b f g c e c c b a h a c h c d c f d e f g d b e c b h d a a d g g g d g h c a h e a g e b b c h e a f b h d g g g e a b a e e b h a b f e b c e d f b d h f g b a a f g d h b b\n",
      ". . . . . . . . . . . . . . . . . . . . . . . . . . . . . . . . . . . . . . . . . . . . . . . . . . . . . . . . . . . . . . . . . . . . . . . . . . . . . . . . . . . . . . . . . . . . . . . . . . . . . b b h g h c g h h h d d c d c h f e d b a b a e a c g d c g f h b g f e d b g c c e d a c h b f d c h b b f a a e g a g b d b g h a f b c b e a a d f h g h g b a c h h g e a h c b g h g f h h f a h e g f a e h d g h d b g c g e c g e e a f g a f d a h f h d d e d b c e g g c f h b f d d a b g f h h h g e h g f a d h f e b c c f f c b a e a e c a b e h g a b g d h f a a d g a c e a d g e a g d c d b h d f b c b c b f g c b f g c e c c b a h a c h c d c f d e f g d b e c b h d a a d g g g d g h c a h e a g e b b c h e a f b h d g g g e a b a e e b h a b f e b c e d f b d h f g b a a f g d h b b\n",
      ". . . . . . . . . . . . . . . . . . . . . . . . . . . . . . . . . . . . . . . . . . . . . . . . . . . . . . . . . . . . . . . . . . . . . . . . . . . . . . . . . . . . . . . . . . . . . . . . . . . . . . b h g h c g h h h d d c d c h f e d b a b a e a c g d c g f h b g f e d b g c c e d a c h b f d c h b b f a a e g a g b d b g h a f b c b e a a d f h g h g b a c h h g e a h c b g h g f h h f a h e g f a e h d g h d b g c g e c g e e a f g a f d a h f h d d e d b c e g g c f h b f d d a b g f h h h g e h g f a d h f e b c c f f c b a e a e c a b e h g a b g d h f a a d g a c e a d g e a g d c d b h d f b c b c b f g c b f g c e c c b a h a c h c d c f d e f g d b e c b h d a a d g g g d g h c a h e a g e b b c h e a f b h d g g g e a b a e e b h a b f e b c e d f b d h f g b a a f g d h b b\n",
      ". . . . . . . . . . . . . . . . . . . . . . . . . . . . . . . . . . . . . . . . . . . . . . . . . . . . . . . . . . . . . . . . . . . . . . . . . . . . . . . . . . . . . . . . . . . . . . . . . . . . . . . h g h c g h h h d d c d c h f e d b a b a e a c g d c g f h b g f e d b g c c e d a c h b f d c h b b f a a e g a g b d b g h a f b c b e a a d f h g h g b a c h h g e a h c b g h g f h h f a h e g f a e h d g h d b g c g e c g e e a f g a f d a h f h d d e d b c e g g c f h b f d d a b g f h h h g e h g f a d h f e b c c f f c b a e a e c a b e h g a b g d h f a a d g a c e a d g e a g d c d b h d f b c b c b f g c b f g c e c c b a h a c h c d c f d e f g d b e c b h d a a d g g g d g h c a h e a g e b b c h e a f b h d g g g e a b a e e b h a b f e b c e d f b d h f g b a a f g d h b b\n",
      ". . . . . . . . . . . . . . . . . . . . . . . . . . . . . . . . . . . . . . . . . . . . . . . . . . . . . . . . . . . . . . . . . . . . . . . . . . . . . . . . . . . . . . . . . . . . . . . . . . . . . . . . . h c g h h h d d c d c h f e d b a b a e a c g d c g f h b g f e d b g c c e d a c h b f d c h b b f a a e g a g b d b g h a f b c b e a a d f h g h g b a c h h g e a h c b g h g f h h f a h e g f a e h d g h d b g c g e c g e e a f g a f d a h f h d d e d b c e g g c f h b f d d a b g f h h h g e h g f a d h f e b c c f f c b a e a e c a b e h g a b g d h f a a d g a c e a d g e a g d c d b h d f b c b c b f g c b f g c e c c b a h a c h c d c f d e f g d b e c b h d a a d g g g d g h c a h e a g e b b c h e a f b h d g g g e a b a e e b h a b f e b c e d f b d h f g b a a f g d h b b\n",
      ". . . . . . . . . . . . . . . . . . . . . . . . . . . . . . . . . . . . . . . . . . . . . . . . . . . . . . . . . . . . . . . . . . . . . . . . . . . . . . . . . . . . . . . . . . . . . . . . . . . . . . . . . . . . . . . d d c d c h f e d b a b a e a c g d c g f h b g f e d b g c c e d a c h b f d c h b b f a a e g a g b d b g h a f b c b e a a d f h g h g b a c h h g e a h c b g h g f h h f a h e g f a e h d g h d b g c g e c g e e a f g a f d a h f h d d e d b c e g g c f h b f d d a b g f h h h g e h g f a d h f e b c c f f c b a e a e c a b e h g a b g d h f a a d g a c e a d g e a g d c d b h d f b c b c b f g c b f g c e c c b a h a c h c d c f d e f g d b e c b h d a a d g g g d g h c a h e a g e b b c h e a f b h d g g g e a b a e e b h a b f e b c e d f b d h f g b a a f g d h b b\n",
      ". . . . . . . . . . . . . . . . . . . . . . . . . . . . . . . . . . . . . . . . . . . . . . . . . . . . . . . . . . . . . . . . . . . . . . . . . . . . . . . . . . . . . . . . . . . . . . . . . . . . . . . . . . . . . . . . d c d c h f e d b a b a e a c g d c g f h b g f e d b g c c e d a c h b f d c h b b f a a e g a g b d b g h a f b c b e a a d f h g h g b a c h h g e a h c b g h g f h h f a h e g f a e h d g h d b g c g e c g e e a f g a f d a h f h d d e d b c e g g c f h b f d d a b g f h h h g e h g f a d h f e b c c f f c b a e a e c a b e h g a b g d h f a a d g a c e a d g e a g d c d b h d f b c b c b f g c b f g c e c c b a h a c h c d c f d e f g d b e c b h d a a d g g g d g h c a h e a g e b b c h e a f b h d g g g e a b a e e b h a b f e b c e d f b d h f g b a a f g d h b b\n",
      ". . . . . . . . . . . . . . . . . . . . . . . . . . . . . . . . . . . . . . . . . . . . . . . . . . . . . . . . . . . . . . . . . . . . . . . . . . . . . . . . . . . . . . . . . . . . . . . . . . . . . . . . . . . . . . . . . c d c h f e d b a b a e a c g d c g f h b g f e d b g c c e d a c h b f d c h b b f a a e g a g b d b g h a f b c b e a a d f h g h g b a c h h g e a h c b g h g f h h f a h e g f a e h d g h d b g c g e c g e e a f g a f d a h f h d d e d b c e g g c f h b f d d a b g f h h h g e h g f a d h f e b c c f f c b a e a e c a b e h g a b g d h f a a d g a c e a d g e a g d c d b h d f b c b c b f g c b f g c e c c b a h a c h c d c f d e f g d b e c b h d a a d g g g d g h c a h e a g e b b c h e a f b h d g g g e a b a e e b h a b f e b c e d f b d h f g b a a f g d h b b\n",
      ". . . . . . . . . . . . . . . . . . . . . . . . . . . . . . . . . . . . . . . . . . . . . . . . . . . . . . . . . . . . . . . . . . . . . . . . . . . . . . . . . . . . . . . . . . . . . . . . . . . . . . . . . . . . . . . . . . d c h f e d b a b a e a c g d c g f h b g f e d b g c c e d a c h b f d c h b b f a a e g a g b d b g h a f b c b e a a d f h g h g b a c h h g e a h c b g h g f h h f a h e g f a e h d g h d b g c g e c g e e a f g a f d a h f h d d e d b c e g g c f h b f d d a b g f h h h g e h g f a d h f e b c c f f c b a e a e c a b e h g a b g d h f a a d g a c e a d g e a g d c d b h d f b c b c b f g c b f g c e c c b a h a c h c d c f d e f g d b e c b h d a a d g g g d g h c a h e a g e b b c h e a f b h d g g g e a b a e e b h a b f e b c e d f b d h f g b a a f g d h b b\n",
      ". . . . . . . . . . . . . . . . . . . . . . . . . . . . . . . . . . . . . . . . . . . . . . . . . . . . . . . . . . . . . . . . . . . . . . . . . . . . . . . . . . . . . . . . . . . . . . . . . . . . . . . . . . . . . . . . . . . c h f e d b a b a e a c g d c g f h b g f e d b g c c e d a c h b f d c h b b f a a e g a g b d b g h a f b c b e a a d f h g h g b a c h h g e a h c b g h g f h h f a h e g f a e h d g h d b g c g e c g e e a f g a f d a h f h d d e d b c e g g c f h b f d d a b g f h h h g e h g f a d h f e b c c f f c b a e a e c a b e h g a b g d h f a a d g a c e a d g e a g d c d b h d f b c b c b f g c b f g c e c c b a h a c h c d c f d e f g d b e c b h d a a d g g g d g h c a h e a g e b b c h e a f b h d g g g e a b a e e b h a b f e b c e d f b d h f g b a a f g d h b b\n",
      ". . . . . . . . . . . . . . . . . . . . . . . . . . . . . . . . . . . . . . . . . . . . . . . . . . . . . . . . . . . . . . . . . . . . . . . . . . . . . . . . . . . . . . . . . . . . . . . . . . . . . . . . . . . . . . . . . . . . . . e d b a b a e a c g d c g f h b g f e d b g c c e d a c h b f d c h b b f a a e g a g b d b g h a f b c b e a a d f h g h g b a c h h g e a h c b g h g f h h f a h e g f a e h d g h d b g c g e c g e e a f g a f d a h f h d d e d b c e g g c f h b f d d a b g f h h h g e h g f a d h f e b c c f f c b a e a e c a b e h g a b g d h f a a d g a c e a d g e a g d c d b h d f b c b c b f g c b f g c e c c b a h a c h c d c f d e f g d b e c b h d a a d g g g d g h c a h e a g e b b c h e a f b h d g g g e a b a e e b h a b f e b c e d f b d h f g b a a f g d h b b\n",
      ". . . . . . . . . . . . . . . . . . . . . . . . . . . . . . . . . . . . . . . . . . . . . . . . . . . . . . . . . . . . . . . . . . . . . . . . . . . . . . . . . . . . . . . . . . . . . . . . . . . . . . . . . . . . . . . . . . . . . . . . b a b a e a c g d c g f h b g f e d b g c c e d a c h b f d c h b b f a a e g a g b d b g h a f b c b e a a d f h g h g b a c h h g e a h c b g h g f h h f a h e g f a e h d g h d b g c g e c g e e a f g a f d a h f h d d e d b c e g g c f h b f d d a b g f h h h g e h g f a d h f e b c c f f c b a e a e c a b e h g a b g d h f a a d g a c e a d g e a g d c d b h d f b c b c b f g c b f g c e c c b a h a c h c d c f d e f g d b e c b h d a a d g g g d g h c a h e a g e b b c h e a f b h d g g g e a b a e e b h a b f e b c e d f b d h f g b a a f g d h b b\n",
      ". . . . . . . . . . . . . . . . . . . . . . . . . . . . . . . . . . . . . . . . . . . . . . . . . . . . . . . . . . . . . . . . . . . . . . . . . . . . . . . . . . . . . . . . . . . . . . . . . . . . . . . . . . . . . . . . . . . . . . . . . a b a e a c g d c g f h b g f e d b g c c e d a c h b f d c h b b f a a e g a g b d b g h a f b c b e a a d f h g h g b a c h h g e a h c b g h g f h h f a h e g f a e h d g h d b g c g e c g e e a f g a f d a h f h d d e d b c e g g c f h b f d d a b g f h h h g e h g f a d h f e b c c f f c b a e a e c a b e h g a b g d h f a a d g a c e a d g e a g d c d b h d f b c b c b f g c b f g c e c c b a h a c h c d c f d e f g d b e c b h d a a d g g g d g h c a h e a g e b b c h e a f b h d g g g e a b a e e b h a b f e b c e d f b d h f g b a a f g d h b b\n",
      ". . . . . . . . . . . . . . . . . . . . . . . . . . . . . . . . . . . . . . . . . . . . . . . . . . . . . . . . . . . . . . . . . . . . . . . . . . . . . . . . . . . . . . . . . . . . . . . . . . . . . . . . . . . . . . . . . . . . . . . . . . . . . . c g d c g f h b g f e d b g c c e d a c h b f d c h b b f a a e g a g b d b g h a f b c b e a a d f h g h g b a c h h g e a h c b g h g f h h f a h e g f a e h d g h d b g c g e c g e e a f g a f d a h f h d d e d b c e g g c f h b f d d a b g f h h h g e h g f a d h f e b c c f f c b a e a e c a b e h g a b g d h f a a d g a c e a d g e a g d c d b h d f b c b c b f g c b f g c e c c b a h a c h c d c f d e f g d b e c b h d a a d g g g d g h c a h e a g e b b c h e a f b h d g g g e a b a e e b h a b f e b c e d f b d h f g b a a f g d h b b\n",
      ". . . . . . . . . . . . . . . . . . . . . . . . . . . . . . . . . . . . . . . . . . . . . . . . . . . . . . . . . . . . . . . . . . . . . . . . . . . . . . . . . . . . . . . . . . . . . . . . . . . . . . . . . . . . . . . . . . . . . . . . . . . . . . . g d c g f h b g f e d b g c c e d a c h b f d c h b b f a a e g a g b d b g h a f b c b e a a d f h g h g b a c h h g e a h c b g h g f h h f a h e g f a e h d g h d b g c g e c g e e a f g a f d a h f h d d e d b c e g g c f h b f d d a b g f h h h g e h g f a d h f e b c c f f c b a e a e c a b e h g a b g d h f a a d g a c e a d g e a g d c d b h d f b c b c b f g c b f g c e c c b a h a c h c d c f d e f g d b e c b h d a a d g g g d g h c a h e a g e b b c h e a f b h d g g g e a b a e e b h a b f e b c e d f b d h f g b a a f g d h b b\n",
      ". . . . . . . . . . . . . . . . . . . . . . . . . . . . . . . . . . . . . . . . . . . . . . . . . . . . . . . . . . . . . . . . . . . . . . . . . . . . . . . . . . . . . . . . . . . . . . . . . . . . . . . . . . . . . . . . . . . . . . . . . . . . . . . . . c g f h b g f e d b g c c e d a c h b f d c h b b f a a e g a g b d b g h a f b c b e a a d f h g h g b a c h h g e a h c b g h g f h h f a h e g f a e h d g h d b g c g e c g e e a f g a f d a h f h d d e d b c e g g c f h b f d d a b g f h h h g e h g f a d h f e b c c f f c b a e a e c a b e h g a b g d h f a a d g a c e a d g e a g d c d b h d f b c b c b f g c b f g c e c c b a h a c h c d c f d e f g d b e c b h d a a d g g g d g h c a h e a g e b b c h e a f b h d g g g e a b a e e b h a b f e b c e d f b d h f g b a a f g d h b b\n",
      ". . . . . . . . . . . . . . . . . . . . . . . . . . . . . . . . . . . . . . . . . . . . . . . . . . . . . . . . . . . . . . . . . . . . . . . . . . . . . . . . . . . . . . . . . . . . . . . . . . . . . . . . . . . . . . . . . . . . . . . . . . . . . . . . . . g f h b g f e d b g c c e d a c h b f d c h b b f a a e g a g b d b g h a f b c b e a a d f h g h g b a c h h g e a h c b g h g f h h f a h e g f a e h d g h d b g c g e c g e e a f g a f d a h f h d d e d b c e g g c f h b f d d a b g f h h h g e h g f a d h f e b c c f f c b a e a e c a b e h g a b g d h f a a d g a c e a d g e a g d c d b h d f b c b c b f g c b f g c e c c b a h a c h c d c f d e f g d b e c b h d a a d g g g d g h c a h e a g e b b c h e a f b h d g g g e a b a e e b h a b f e b c e d f b d h f g b a a f g d h b b\n",
      ". . . . . . . . . . . . . . . . . . . . . . . . . . . . . . . . . . . . . . . . . . . . . . . . . . . . . . . . . . . . . . . . . . . . . . . . . . . . . . . . . . . . . . . . . . . . . . . . . . . . . . . . . . . . . . . . . . . . . . . . . . . . . . . . . . . . . b g f e d b g c c e d a c h b f d c h b b f a a e g a g b d b g h a f b c b e a a d f h g h g b a c h h g e a h c b g h g f h h f a h e g f a e h d g h d b g c g e c g e e a f g a f d a h f h d d e d b c e g g c f h b f d d a b g f h h h g e h g f a d h f e b c c f f c b a e a e c a b e h g a b g d h f a a d g a c e a d g e a g d c d b h d f b c b c b f g c b f g c e c c b a h a c h c d c f d e f g d b e c b h d a a d g g g d g h c a h e a g e b b c h e a f b h d g g g e a b a e e b h a b f e b c e d f b d h f g b a a f g d h b b\n",
      ". . . . . . . . . . . . . . . . . . . . . . . . . . . . . . . . . . . . . . . . . . . . . . . . . . . . . . . . . . . . . . . . . . . . . . . . . . . . . . . . . . . . . . . . . . . . . . . . . . . . . . . . . . . . . . . . . . . . . . . . . . . . . . . . . . . . . . g f e d b g c c e d a c h b f d c h b b f a a e g a g b d b g h a f b c b e a a d f h g h g b a c h h g e a h c b g h g f h h f a h e g f a e h d g h d b g c g e c g e e a f g a f d a h f h d d e d b c e g g c f h b f d d a b g f h h h g e h g f a d h f e b c c f f c b a e a e c a b e h g a b g d h f a a d g a c e a d g e a g d c d b h d f b c b c b f g c b f g c e c c b a h a c h c d c f d e f g d b e c b h d a a d g g g d g h c a h e a g e b b c h e a f b h d g g g e a b a e e b h a b f e b c e d f b d h f g b a a f g d h b b\n",
      ". . . . . . . . . . . . . . . . . . . . . . . . . . . . . . . . . . . . . . . . . . . . . . . . . . . . . . . . . . . . . . . . . . . . . . . . . . . . . . . . . . . . . . . . . . . . . . . . . . . . . . . . . . . . . . . . . . . . . . . . . . . . . . . . . . . . . . . . . d b g c c e d a c h b f d c h b b f a a e g a g b d b g h a f b c b e a a d f h g h g b a c h h g e a h c b g h g f h h f a h e g f a e h d g h d b g c g e c g e e a f g a f d a h f h d d e d b c e g g c f h b f d d a b g f h h h g e h g f a d h f e b c c f f c b a e a e c a b e h g a b g d h f a a d g a c e a d g e a g d c d b h d f b c b c b f g c b f g c e c c b a h a c h c d c f d e f g d b e c b h d a a d g g g d g h c a h e a g e b b c h e a f b h d g g g e a b a e e b h a b f e b c e d f b d h f g b a a f g d h b b\n",
      ". . . . . . . . . . . . . . . . . . . . . . . . . . . . . . . . . . . . . . . . . . . . . . . . . . . . . . . . . . . . . . . . . . . . . . . . . . . . . . . . . . . . . . . . . . . . . . . . . . . . . . . . . . . . . . . . . . . . . . . . . . . . . . . . . . . . . . . . . . b g c c e d a c h b f d c h b b f a a e g a g b d b g h a f b c b e a a d f h g h g b a c h h g e a h c b g h g f h h f a h e g f a e h d g h d b g c g e c g e e a f g a f d a h f h d d e d b c e g g c f h b f d d a b g f h h h g e h g f a d h f e b c c f f c b a e a e c a b e h g a b g d h f a a d g a c e a d g e a g d c d b h d f b c b c b f g c b f g c e c c b a h a c h c d c f d e f g d b e c b h d a a d g g g d g h c a h e a g e b b c h e a f b h d g g g e a b a e e b h a b f e b c e d f b d h f g b a a f g d h b b\n",
      ". . . . . . . . . . . . . . . . . . . . . . . . . . . . . . . . . . . . . . . . . . . . . . . . . . . . . . . . . . . . . . . . . . . . . . . . . . . . . . . . . . . . . . . . . . . . . . . . . . . . . . . . . . . . . . . . . . . . . . . . . . . . . . . . . . . . . . . . . . . g c c e d a c h b f d c h b b f a a e g a g b d b g h a f b c b e a a d f h g h g b a c h h g e a h c b g h g f h h f a h e g f a e h d g h d b g c g e c g e e a f g a f d a h f h d d e d b c e g g c f h b f d d a b g f h h h g e h g f a d h f e b c c f f c b a e a e c a b e h g a b g d h f a a d g a c e a d g e a g d c d b h d f b c b c b f g c b f g c e c c b a h a c h c d c f d e f g d b e c b h d a a d g g g d g h c a h e a g e b b c h e a f b h d g g g e a b a e e b h a b f e b c e d f b d h f g b a a f g d h b b\n",
      ". . . . . . . . . . . . . . . . . . . . . . . . . . . . . . . . . . . . . . . . . . . . . . . . . . . . . . . . . . . . . . . . . . . . . . . . . . . . . . . . . . . . . . . . . . . . . . . . . . . . . . . . . . . . . . . . . . . . . . . . . . . . . . . . . . . . . . . . . . . . c c e d a c h b f d c h b b f a a e g a g b d b g h a f b c b e a a d f h g h g b a c h h g e a h c b g h g f h h f a h e g f a e h d g h d b g c g e c g e e a f g a f d a h f h d d e d b c e g g c f h b f d d a b g f h h h g e h g f a d h f e b c c f f c b a e a e c a b e h g a b g d h f a a d g a c e a d g e a g d c d b h d f b c b c b f g c b f g c e c c b a h a c h c d c f d e f g d b e c b h d a a d g g g d g h c a h e a g e b b c h e a f b h d g g g e a b a e e b h a b f e b c e d f b d h f g b a a f g d h b b\n",
      ". . . . . . . . . . . . . . . . . . . . . . . . . . . . . . . . . . . . . . . . . . . . . . . . . . . . . . . . . . . . . . . . . . . . . . . . . . . . . . . . . . . . . . . . . . . . . . . . . . . . . . . . . . . . . . . . . . . . . . . . . . . . . . . . . . . . . . . . . . . . . . . . a c h b f d c h b b f a a e g a g b d b g h a f b c b e a a d f h g h g b a c h h g e a h c b g h g f h h f a h e g f a e h d g h d b g c g e c g e e a f g a f d a h f h d d e d b c e g g c f h b f d d a b g f h h h g e h g f a d h f e b c c f f c b a e a e c a b e h g a b g d h f a a d g a c e a d g e a g d c d b h d f b c b c b f g c b f g c e c c b a h a c h c d c f d e f g d b e c b h d a a d g g g d g h c a h e a g e b b c h e a f b h d g g g e a b a e e b h a b f e b c e d f b d h f g b a a f g d h b b\n",
      ". . . . . . . . . . . . . . . . . . . . . . . . . . . . . . . . . . . . . . . . . . . . . . . . . . . . . . . . . . . . . . . . . . . . . . . . . . . . . . . . . . . . . . . . . . . . . . . . . . . . . . . . . . . . . . . . . . . . . . . . . . . . . . . . . . . . . . . . . . . . . . . . . . h b f d c h b b f a a e g a g b d b g h a f b c b e a a d f h g h g b a c h h g e a h c b g h g f h h f a h e g f a e h d g h d b g c g e c g e e a f g a f d a h f h d d e d b c e g g c f h b f d d a b g f h h h g e h g f a d h f e b c c f f c b a e a e c a b e h g a b g d h f a a d g a c e a d g e a g d c d b h d f b c b c b f g c b f g c e c c b a h a c h c d c f d e f g d b e c b h d a a d g g g d g h c a h e a g e b b c h e a f b h d g g g e a b a e e b h a b f e b c e d f b d h f g b a a f g d h b b\n",
      ". . . . . . . . . . . . . . . . . . . . . . . . . . . . . . . . . . . . . . . . . . . . . . . . . . . . . . . . . . . . . . . . . . . . . . . . . . . . . . . . . . . . . . . . . . . . . . . . . . . . . . . . . . . . . . . . . . . . . . . . . . . . . . . . . . . . . . . . . . . . . . . . . . . b f d c h b b f a a e g a g b d b g h a f b c b e a a d f h g h g b a c h h g e a h c b g h g f h h f a h e g f a e h d g h d b g c g e c g e e a f g a f d a h f h d d e d b c e g g c f h b f d d a b g f h h h g e h g f a d h f e b c c f f c b a e a e c a b e h g a b g d h f a a d g a c e a d g e a g d c d b h d f b c b c b f g c b f g c e c c b a h a c h c d c f d e f g d b e c b h d a a d g g g d g h c a h e a g e b b c h e a f b h d g g g e a b a e e b h a b f e b c e d f b d h f g b a a f g d h b b\n",
      ". . . . . . . . . . . . . . . . . . . . . . . . . . . . . . . . . . . . . . . . . . . . . . . . . . . . . . . . . . . . . . . . . . . . . . . . . . . . . . . . . . . . . . . . . . . . . . . . . . . . . . . . . . . . . . . . . . . . . . . . . . . . . . . . . . . . . . . . . . . . . . . . . . . . f d c h b b f a a e g a g b d b g h a f b c b e a a d f h g h g b a c h h g e a h c b g h g f h h f a h e g f a e h d g h d b g c g e c g e e a f g a f d a h f h d d e d b c e g g c f h b f d d a b g f h h h g e h g f a d h f e b c c f f c b a e a e c a b e h g a b g d h f a a d g a c e a d g e a g d c d b h d f b c b c b f g c b f g c e c c b a h a c h c d c f d e f g d b e c b h d a a d g g g d g h c a h e a g e b b c h e a f b h d g g g e a b a e e b h a b f e b c e d f b d h f g b a a f g d h b b\n",
      ". . . . . . . . . . . . . . . . . . . . . . . . . . . . . . . . . . . . . . . . . . . . . . . . . . . . . . . . . . . . . . . . . . . . . . . . . . . . . . . . . . . . . . . . . . . . . . . . . . . . . . . . . . . . . . . . . . . . . . . . . . . . . . . . . . . . . . . . . . . . . . . . . . . . . d c h b b f a a e g a g b d b g h a f b c b e a a d f h g h g b a c h h g e a h c b g h g f h h f a h e g f a e h d g h d b g c g e c g e e a f g a f d a h f h d d e d b c e g g c f h b f d d a b g f h h h g e h g f a d h f e b c c f f c b a e a e c a b e h g a b g d h f a a d g a c e a d g e a g d c d b h d f b c b c b f g c b f g c e c c b a h a c h c d c f d e f g d b e c b h d a a d g g g d g h c a h e a g e b b c h e a f b h d g g g e a b a e e b h a b f e b c e d f b d h f g b a a f g d h b b\n",
      ". . . . . . . . . . . . . . . . . . . . . . . . . . . . . . . . . . . . . . . . . . . . . . . . . . . . . . . . . . . . . . . . . . . . . . . . . . . . . . . . . . . . . . . . . . . . . . . . . . . . . . . . . . . . . . . . . . . . . . . . . . . . . . . . . . . . . . . . . . . . . . . . . . . . . . . h b b f a a e g a g b d b g h a f b c b e a a d f h g h g b a c h h g e a h c b g h g f h h f a h e g f a e h d g h d b g c g e c g e e a f g a f d a h f h d d e d b c e g g c f h b f d d a b g f h h h g e h g f a d h f e b c c f f c b a e a e c a b e h g a b g d h f a a d g a c e a d g e a g d c d b h d f b c b c b f g c b f g c e c c b a h a c h c d c f d e f g d b e c b h d a a d g g g d g h c a h e a g e b b c h e a f b h d g g g e a b a e e b h a b f e b c e d f b d h f g b a a f g d h b b\n",
      ". . . . . . . . . . . . . . . . . . . . . . . . . . . . . . . . . . . . . . . . . . . . . . . . . . . . . . . . . . . . . . . . . . . . . . . . . . . . . . . . . . . . . . . . . . . . . . . . . . . . . . . . . . . . . . . . . . . . . . . . . . . . . . . . . . . . . . . . . . . . . . . . . . . . . . . . . . . a a e g a g b d b g h a f b c b e a a d f h g h g b a c h h g e a h c b g h g f h h f a h e g f a e h d g h d b g c g e c g e e a f g a f d a h f h d d e d b c e g g c f h b f d d a b g f h h h g e h g f a d h f e b c c f f c b a e a e c a b e h g a b g d h f a a d g a c e a d g e a g d c d b h d f b c b c b f g c b f g c e c c b a h a c h c d c f d e f g d b e c b h d a a d g g g d g h c a h e a g e b b c h e a f b h d g g g e a b a e e b h a b f e b c e d f b d h f g b a a f g d h b b\n",
      ". . . . . . . . . . . . . . . . . . . . . . . . . . . . . . . . . . . . . . . . . . . . . . . . . . . . . . . . . . . . . . . . . . . . . . . . . . . . . . . . . . . . . . . . . . . . . . . . . . . . . . . . . . . . . . . . . . . . . . . . . . . . . . . . . . . . . . . . . . . . . . . . . . . . . . . . . . . . a e g a g b d b g h a f b c b e a a d f h g h g b a c h h g e a h c b g h g f h h f a h e g f a e h d g h d b g c g e c g e e a f g a f d a h f h d d e d b c e g g c f h b f d d a b g f h h h g e h g f a d h f e b c c f f c b a e a e c a b e h g a b g d h f a a d g a c e a d g e a g d c d b h d f b c b c b f g c b f g c e c c b a h a c h c d c f d e f g d b e c b h d a a d g g g d g h c a h e a g e b b c h e a f b h d g g g e a b a e e b h a b f e b c e d f b d h f g b a a f g d h b b\n",
      ". . . . . . . . . . . . . . . . . . . . . . . . . . . . . . . . . . . . . . . . . . . . . . . . . . . . . . . . . . . . . . . . . . . . . . . . . . . . . . . . . . . . . . . . . . . . . . . . . . . . . . . . . . . . . . . . . . . . . . . . . . . . . . . . . . . . . . . . . . . . . . . . . . . . . . . . . . . . . . g a g b d b g h a f b c b e a a d f h g h g b a c h h g e a h c b g h g f h h f a h e g f a e h d g h d b g c g e c g e e a f g a f d a h f h d d e d b c e g g c f h b f d d a b g f h h h g e h g f a d h f e b c c f f c b a e a e c a b e h g a b g d h f a a d g a c e a d g e a g d c d b h d f b c b c b f g c b f g c e c c b a h a c h c d c f d e f g d b e c b h d a a d g g g d g h c a h e a g e b b c h e a f b h d g g g e a b a e e b h a b f e b c e d f b d h f g b a a f g d h b b\n",
      ". . . . . . . . . . . . . . . . . . . . . . . . . . . . . . . . . . . . . . . . . . . . . . . . . . . . . . . . . . . . . . . . . . . . . . . . . . . . . . . . . . . . . . . . . . . . . . . . . . . . . . . . . . . . . . . . . . . . . . . . . . . . . . . . . . . . . . . . . . . . . . . . . . . . . . . . . . . . . . . . . b d b g h a f b c b e a a d f h g h g b a c h h g e a h c b g h g f h h f a h e g f a e h d g h d b g c g e c g e e a f g a f d a h f h d d e d b c e g g c f h b f d d a b g f h h h g e h g f a d h f e b c c f f c b a e a e c a b e h g a b g d h f a a d g a c e a d g e a g d c d b h d f b c b c b f g c b f g c e c c b a h a c h c d c f d e f g d b e c b h d a a d g g g d g h c a h e a g e b b c h e a f b h d g g g e a b a e e b h a b f e b c e d f b d h f g b a a f g d h b b\n",
      ". . . . . . . . . . . . . . . . . . . . . . . . . . . . . . . . . . . . . . . . . . . . . . . . . . . . . . . . . . . . . . . . . . . . . . . . . . . . . . . . . . . . . . . . . . . . . . . . . . . . . . . . . . . . . . . . . . . . . . . . . . . . . . . . . . . . . . . . . . . . . . . . . . . . . . . . . . . . . . . . . . . . g h a f b c b e a a d f h g h g b a c h h g e a h c b g h g f h h f a h e g f a e h d g h d b g c g e c g e e a f g a f d a h f h d d e d b c e g g c f h b f d d a b g f h h h g e h g f a d h f e b c c f f c b a e a e c a b e h g a b g d h f a a d g a c e a d g e a g d c d b h d f b c b c b f g c b f g c e c c b a h a c h c d c f d e f g d b e c b h d a a d g g g d g h c a h e a g e b b c h e a f b h d g g g e a b a e e b h a b f e b c e d f b d h f g b a a f g d h b b\n",
      ". . . . . . . . . . . . . . . . . . . . . . . . . . . . . . . . . . . . . . . . . . . . . . . . . . . . . . . . . . . . . . . . . . . . . . . . . . . . . . . . . . . . . . . . . . . . . . . . . . . . . . . . . . . . . . . . . . . . . . . . . . . . . . . . . . . . . . . . . . . . . . . . . . . . . . . . . . . . . . . . . . . . . . . . b c b e a a d f h g h g b a c h h g e a h c b g h g f h h f a h e g f a e h d g h d b g c g e c g e e a f g a f d a h f h d d e d b c e g g c f h b f d d a b g f h h h g e h g f a d h f e b c c f f c b a e a e c a b e h g a b g d h f a a d g a c e a d g e a g d c d b h d f b c b c b f g c b f g c e c c b a h a c h c d c f d e f g d b e c b h d a a d g g g d g h c a h e a g e b b c h e a f b h d g g g e a b a e e b h a b f e b c e d f b d h f g b a a f g d h b b\n",
      ". . . . . . . . . . . . . . . . . . . . . . . . . . . . . . . . . . . . . . . . . . . . . . . . . . . . . . . . . . . . . . . . . . . . . . . . . . . . . . . . . . . . . . . . . . . . . . . . . . . . . . . . . . . . . . . . . . . . . . . . . . . . . . . . . . . . . . . . . . . . . . . . . . . . . . . . . . . . . . . . . . . . . . . . . c b e a a d f h g h g b a c h h g e a h c b g h g f h h f a h e g f a e h d g h d b g c g e c g e e a f g a f d a h f h d d e d b c e g g c f h b f d d a b g f h h h g e h g f a d h f e b c c f f c b a e a e c a b e h g a b g d h f a a d g a c e a d g e a g d c d b h d f b c b c b f g c b f g c e c c b a h a c h c d c f d e f g d b e c b h d a a d g g g d g h c a h e a g e b b c h e a f b h d g g g e a b a e e b h a b f e b c e d f b d h f g b a a f g d h b b\n",
      ". . . . . . . . . . . . . . . . . . . . . . . . . . . . . . . . . . . . . . . . . . . . . . . . . . . . . . . . . . . . . . . . . . . . . . . . . . . . . . . . . . . . . . . . . . . . . . . . . . . . . . . . . . . . . . . . . . . . . . . . . . . . . . . . . . . . . . . . . . . . . . . . . . . . . . . . . . . . . . . . . . . . . . . . . . b e a a d f h g h g b a c h h g e a h c b g h g f h h f a h e g f a e h d g h d b g c g e c g e e a f g a f d a h f h d d e d b c e g g c f h b f d d a b g f h h h g e h g f a d h f e b c c f f c b a e a e c a b e h g a b g d h f a a d g a c e a d g e a g d c d b h d f b c b c b f g c b f g c e c c b a h a c h c d c f d e f g d b e c b h d a a d g g g d g h c a h e a g e b b c h e a f b h d g g g e a b a e e b h a b f e b c e d f b d h f g b a a f g d h b b\n",
      ". . . . . . . . . . . . . . . . . . . . . . . . . . . . . . . . . . . . . . . . . . . . . . . . . . . . . . . . . . . . . . . . . . . . . . . . . . . . . . . . . . . . . . . . . . . . . . . . . . . . . . . . . . . . . . . . . . . . . . . . . . . . . . . . . . . . . . . . . . . . . . . . . . . . . . . . . . . . . . . . . . . . . . . . . . . e a a d f h g h g b a c h h g e a h c b g h g f h h f a h e g f a e h d g h d b g c g e c g e e a f g a f d a h f h d d e d b c e g g c f h b f d d a b g f h h h g e h g f a d h f e b c c f f c b a e a e c a b e h g a b g d h f a a d g a c e a d g e a g d c d b h d f b c b c b f g c b f g c e c c b a h a c h c d c f d e f g d b e c b h d a a d g g g d g h c a h e a g e b b c h e a f b h d g g g e a b a e e b h a b f e b c e d f b d h f g b a a f g d h b b\n",
      ". . . . . . . . . . . . . . . . . . . . . . . . . . . . . . . . . . . . . . . . . . . . . . . . . . . . . . . . . . . . . . . . . . . . . . . . . . . . . . . . . . . . . . . . . . . . . . . . . . . . . . . . . . . . . . . . . . . . . . . . . . . . . . . . . . . . . . . . . . . . . . . . . . . . . . . . . . . . . . . . . . . . . . . . . . . . . . d f h g h g b a c h h g e a h c b g h g f h h f a h e g f a e h d g h d b g c g e c g e e a f g a f d a h f h d d e d b c e g g c f h b f d d a b g f h h h g e h g f a d h f e b c c f f c b a e a e c a b e h g a b g d h f a a d g a c e a d g e a g d c d b h d f b c b c b f g c b f g c e c c b a h a c h c d c f d e f g d b e c b h d a a d g g g d g h c a h e a g e b b c h e a f b h d g g g e a b a e e b h a b f e b c e d f b d h f g b a a f g d h b b\n",
      ". . . . . . . . . . . . . . . . . . . . . . . . . . . . . . . . . . . . . . . . . . . . . . . . . . . . . . . . . . . . . . . . . . . . . . . . . . . . . . . . . . . . . . . . . . . . . . . . . . . . . . . . . . . . . . . . . . . . . . . . . . . . . . . . . . . . . . . . . . . . . . . . . . . . . . . . . . . . . . . . . . . . . . . . . . . . . . . f h g h g b a c h h g e a h c b g h g f h h f a h e g f a e h d g h d b g c g e c g e e a f g a f d a h f h d d e d b c e g g c f h b f d d a b g f h h h g e h g f a d h f e b c c f f c b a e a e c a b e h g a b g d h f a a d g a c e a d g e a g d c d b h d f b c b c b f g c b f g c e c c b a h a c h c d c f d e f g d b e c b h d a a d g g g d g h c a h e a g e b b c h e a f b h d g g g e a b a e e b h a b f e b c e d f b d h f g b a a f g d h b b\n",
      ". . . . . . . . . . . . . . . . . . . . . . . . . . . . . . . . . . . . . . . . . . . . . . . . . . . . . . . . . . . . . . . . . . . . . . . . . . . . . . . . . . . . . . . . . . . . . . . . . . . . . . . . . . . . . . . . . . . . . . . . . . . . . . . . . . . . . . . . . . . . . . . . . . . . . . . . . . . . . . . . . . . . . . . . . . . . . . . . h g h g b a c h h g e a h c b g h g f h h f a h e g f a e h d g h d b g c g e c g e e a f g a f d a h f h d d e d b c e g g c f h b f d d a b g f h h h g e h g f a d h f e b c c f f c b a e a e c a b e h g a b g d h f a a d g a c e a d g e a g d c d b h d f b c b c b f g c b f g c e c c b a h a c h c d c f d e f g d b e c b h d a a d g g g d g h c a h e a g e b b c h e a f b h d g g g e a b a e e b h a b f e b c e d f b d h f g b a a f g d h b b\n",
      ". . . . . . . . . . . . . . . . . . . . . . . . . . . . . . . . . . . . . . . . . . . . . . . . . . . . . . . . . . . . . . . . . . . . . . . . . . . . . . . . . . . . . . . . . . . . . . . . . . . . . . . . . . . . . . . . . . . . . . . . . . . . . . . . . . . . . . . . . . . . . . . . . . . . . . . . . . . . . . . . . . . . . . . . . . . . . . . . . g h g b a c h h g e a h c b g h g f h h f a h e g f a e h d g h d b g c g e c g e e a f g a f d a h f h d d e d b c e g g c f h b f d d a b g f h h h g e h g f a d h f e b c c f f c b a e a e c a b e h g a b g d h f a a d g a c e a d g e a g d c d b h d f b c b c b f g c b f g c e c c b a h a c h c d c f d e f g d b e c b h d a a d g g g d g h c a h e a g e b b c h e a f b h d g g g e a b a e e b h a b f e b c e d f b d h f g b a a f g d h b b\n",
      ". . . . . . . . . . . . . . . . . . . . . . . . . . . . . . . . . . . . . . . . . . . . . . . . . . . . . . . . . . . . . . . . . . . . . . . . . . . . . . . . . . . . . . . . . . . . . . . . . . . . . . . . . . . . . . . . . . . . . . . . . . . . . . . . . . . . . . . . . . . . . . . . . . . . . . . . . . . . . . . . . . . . . . . . . . . . . . . . . . h g b a c h h g e a h c b g h g f h h f a h e g f a e h d g h d b g c g e c g e e a f g a f d a h f h d d e d b c e g g c f h b f d d a b g f h h h g e h g f a d h f e b c c f f c b a e a e c a b e h g a b g d h f a a d g a c e a d g e a g d c d b h d f b c b c b f g c b f g c e c c b a h a c h c d c f d e f g d b e c b h d a a d g g g d g h c a h e a g e b b c h e a f b h d g g g e a b a e e b h a b f e b c e d f b d h f g b a a f g d h b b\n",
      ". . . . . . . . . . . . . . . . . . . . . . . . . . . . . . . . . . . . . . . . . . . . . . . . . . . . . . . . . . . . . . . . . . . . . . . . . . . . . . . . . . . . . . . . . . . . . . . . . . . . . . . . . . . . . . . . . . . . . . . . . . . . . . . . . . . . . . . . . . . . . . . . . . . . . . . . . . . . . . . . . . . . . . . . . . . . . . . . . . . g b a c h h g e a h c b g h g f h h f a h e g f a e h d g h d b g c g e c g e e a f g a f d a h f h d d e d b c e g g c f h b f d d a b g f h h h g e h g f a d h f e b c c f f c b a e a e c a b e h g a b g d h f a a d g a c e a d g e a g d c d b h d f b c b c b f g c b f g c e c c b a h a c h c d c f d e f g d b e c b h d a a d g g g d g h c a h e a g e b b c h e a f b h d g g g e a b a e e b h a b f e b c e d f b d h f g b a a f g d h b b\n",
      ". . . . . . . . . . . . . . . . . . . . . . . . . . . . . . . . . . . . . . . . . . . . . . . . . . . . . . . . . . . . . . . . . . . . . . . . . . . . . . . . . . . . . . . . . . . . . . . . . . . . . . . . . . . . . . . . . . . . . . . . . . . . . . . . . . . . . . . . . . . . . . . . . . . . . . . . . . . . . . . . . . . . . . . . . . . . . . . . . . . . b a c h h g e a h c b g h g f h h f a h e g f a e h d g h d b g c g e c g e e a f g a f d a h f h d d e d b c e g g c f h b f d d a b g f h h h g e h g f a d h f e b c c f f c b a e a e c a b e h g a b g d h f a a d g a c e a d g e a g d c d b h d f b c b c b f g c b f g c e c c b a h a c h c d c f d e f g d b e c b h d a a d g g g d g h c a h e a g e b b c h e a f b h d g g g e a b a e e b h a b f e b c e d f b d h f g b a a f g d h b b\n",
      ". . . . . . . . . . . . . . . . . . . . . . . . . . . . . . . . . . . . . . . . . . . . . . . . . . . . . . . . . . . . . . . . . . . . . . . . . . . . . . . . . . . . . . . . . . . . . . . . . . . . . . . . . . . . . . . . . . . . . . . . . . . . . . . . . . . . . . . . . . . . . . . . . . . . . . . . . . . . . . . . . . . . . . . . . . . . . . . . . . . . . . c h h g e a h c b g h g f h h f a h e g f a e h d g h d b g c g e c g e e a f g a f d a h f h d d e d b c e g g c f h b f d d a b g f h h h g e h g f a d h f e b c c f f c b a e a e c a b e h g a b g d h f a a d g a c e a d g e a g d c d b h d f b c b c b f g c b f g c e c c b a h a c h c d c f d e f g d b e c b h d a a d g g g d g h c a h e a g e b b c h e a f b h d g g g e a b a e e b h a b f e b c e d f b d h f g b a a f g d h b b\n",
      ". . . . . . . . . . . . . . . . . . . . . . . . . . . . . . . . . . . . . . . . . . . . . . . . . . . . . . . . . . . . . . . . . . . . . . . . . . . . . . . . . . . . . . . . . . . . . . . . . . . . . . . . . . . . . . . . . . . . . . . . . . . . . . . . . . . . . . . . . . . . . . . . . . . . . . . . . . . . . . . . . . . . . . . . . . . . . . . . . . . . . . . . . . e a h c b g h g f h h f a h e g f a e h d g h d b g c g e c g e e a f g a f d a h f h d d e d b c e g g c f h b f d d a b g f h h h g e h g f a d h f e b c c f f c b a e a e c a b e h g a b g d h f a a d g a c e a d g e a g d c d b h d f b c b c b f g c b f g c e c c b a h a c h c d c f d e f g d b e c b h d a a d g g g d g h c a h e a g e b b c h e a f b h d g g g e a b a e e b h a b f e b c e d f b d h f g b a a f g d h b b\n",
      ". . . . . . . . . . . . . . . . . . . . . . . . . . . . . . . . . . . . . . . . . . . . . . . . . . . . . . . . . . . . . . . . . . . . . . . . . . . . . . . . . . . . . . . . . . . . . . . . . . . . . . . . . . . . . . . . . . . . . . . . . . . . . . . . . . . . . . . . . . . . . . . . . . . . . . . . . . . . . . . . . . . . . . . . . . . . . . . . . . . . . . . . . . . . h c b g h g f h h f a h e g f a e h d g h d b g c g e c g e e a f g a f d a h f h d d e d b c e g g c f h b f d d a b g f h h h g e h g f a d h f e b c c f f c b a e a e c a b e h g a b g d h f a a d g a c e a d g e a g d c d b h d f b c b c b f g c b f g c e c c b a h a c h c d c f d e f g d b e c b h d a a d g g g d g h c a h e a g e b b c h e a f b h d g g g e a b a e e b h a b f e b c e d f b d h f g b a a f g d h b b\n",
      ". . . . . . . . . . . . . . . . . . . . . . . . . . . . . . . . . . . . . . . . . . . . . . . . . . . . . . . . . . . . . . . . . . . . . . . . . . . . . . . . . . . . . . . . . . . . . . . . . . . . . . . . . . . . . . . . . . . . . . . . . . . . . . . . . . . . . . . . . . . . . . . . . . . . . . . . . . . . . . . . . . . . . . . . . . . . . . . . . . . . . . . . . . . . . c b g h g f h h f a h e g f a e h d g h d b g c g e c g e e a f g a f d a h f h d d e d b c e g g c f h b f d d a b g f h h h g e h g f a d h f e b c c f f c b a e a e c a b e h g a b g d h f a a d g a c e a d g e a g d c d b h d f b c b c b f g c b f g c e c c b a h a c h c d c f d e f g d b e c b h d a a d g g g d g h c a h e a g e b b c h e a f b h d g g g e a b a e e b h a b f e b c e d f b d h f g b a a f g d h b b\n",
      ". . . . . . . . . . . . . . . . . . . . . . . . . . . . . . . . . . . . . . . . . . . . . . . . . . . . . . . . . . . . . . . . . . . . . . . . . . . . . . . . . . . . . . . . . . . . . . . . . . . . . . . . . . . . . . . . . . . . . . . . . . . . . . . . . . . . . . . . . . . . . . . . . . . . . . . . . . . . . . . . . . . . . . . . . . . . . . . . . . . . . . . . . . . . . . b g h g f h h f a h e g f a e h d g h d b g c g e c g e e a f g a f d a h f h d d e d b c e g g c f h b f d d a b g f h h h g e h g f a d h f e b c c f f c b a e a e c a b e h g a b g d h f a a d g a c e a d g e a g d c d b h d f b c b c b f g c b f g c e c c b a h a c h c d c f d e f g d b e c b h d a a d g g g d g h c a h e a g e b b c h e a f b h d g g g e a b a e e b h a b f e b c e d f b d h f g b a a f g d h b b\n",
      ". . . . . . . . . . . . . . . . . . . . . . . . . . . . . . . . . . . . . . . . . . . . . . . . . . . . . . . . . . . . . . . . . . . . . . . . . . . . . . . . . . . . . . . . . . . . . . . . . . . . . . . . . . . . . . . . . . . . . . . . . . . . . . . . . . . . . . . . . . . . . . . . . . . . . . . . . . . . . . . . . . . . . . . . . . . . . . . . . . . . . . . . . . . . . . . g h g f h h f a h e g f a e h d g h d b g c g e c g e e a f g a f d a h f h d d e d b c e g g c f h b f d d a b g f h h h g e h g f a d h f e b c c f f c b a e a e c a b e h g a b g d h f a a d g a c e a d g e a g d c d b h d f b c b c b f g c b f g c e c c b a h a c h c d c f d e f g d b e c b h d a a d g g g d g h c a h e a g e b b c h e a f b h d g g g e a b a e e b h a b f e b c e d f b d h f g b a a f g d h b b\n",
      ". . . . . . . . . . . . . . . . . . . . . . . . . . . . . . . . . . . . . . . . . . . . . . . . . . . . . . . . . . . . . . . . . . . . . . . . . . . . . . . . . . . . . . . . . . . . . . . . . . . . . . . . . . . . . . . . . . . . . . . . . . . . . . . . . . . . . . . . . . . . . . . . . . . . . . . . . . . . . . . . . . . . . . . . . . . . . . . . . . . . . . . . . . . . . . . . h g f h h f a h e g f a e h d g h d b g c g e c g e e a f g a f d a h f h d d e d b c e g g c f h b f d d a b g f h h h g e h g f a d h f e b c c f f c b a e a e c a b e h g a b g d h f a a d g a c e a d g e a g d c d b h d f b c b c b f g c b f g c e c c b a h a c h c d c f d e f g d b e c b h d a a d g g g d g h c a h e a g e b b c h e a f b h d g g g e a b a e e b h a b f e b c e d f b d h f g b a a f g d h b b\n",
      ". . . . . . . . . . . . . . . . . . . . . . . . . . . . . . . . . . . . . . . . . . . . . . . . . . . . . . . . . . . . . . . . . . . . . . . . . . . . . . . . . . . . . . . . . . . . . . . . . . . . . . . . . . . . . . . . . . . . . . . . . . . . . . . . . . . . . . . . . . . . . . . . . . . . . . . . . . . . . . . . . . . . . . . . . . . . . . . . . . . . . . . . . . . . . . . . . . . . . . . . e g f a e h d g h d b g c g e c g e e a f g a f d a h f h d d e d b c e g g c f h b f d d a b g f h h h g e h g f a d h f e b c c f f c b a e a e c a b e h g a b g d h f a a d g a c e a d g e a g d c d b h d f b c b c b f g c b f g c e c c b a h a c h c d c f d e f g d b e c b h d a a d g g g d g h c a h e a g e b b c h e a f b h d g g g e a b a e e b h a b f e b c e d f b d h f g b a a f g d h b b\n",
      ". . . . . . . . . . . . . . . . . . . . . . . . . . . . . . . . . . . . . . . . . . . . . . . . . . . . . . . . . . . . . . . . . . . . . . . . . . . . . . . . . . . . . . . . . . . . . . . . . . . . . . . . . . . . . . . . . . . . . . . . . . . . . . . . . . . . . . . . . . . . . . . . . . . . . . . . . . . . . . . . . . . . . . . . . . . . . . . . . . . . . . . . . . . . . . . . . . . . . . . . . . . . . . d g h d b g c g e c g e e a f g a f d a h f h d d e d b c e g g c f h b f d d a b g f h h h g e h g f a d h f e b c c f f c b a e a e c a b e h g a b g d h f a a d g a c e a d g e a g d c d b h d f b c b c b f g c b f g c e c c b a h a c h c d c f d e f g d b e c b h d a a d g g g d g h c a h e a g e b b c h e a f b h d g g g e a b a e e b h a b f e b c e d f b d h f g b a a f g d h b b\n",
      ". . . . . . . . . . . . . . . . . . . . . . . . . . . . . . . . . . . . . . . . . . . . . . . . . . . . . . . . . . . . . . . . . . . . . . . . . . . . . . . . . . . . . . . . . . . . . . . . . . . . . . . . . . . . . . . . . . . . . . . . . . . . . . . . . . . . . . . . . . . . . . . . . . . . . . . . . . . . . . . . . . . . . . . . . . . . . . . . . . . . . . . . . . . . . . . . . . . . . . . . . . . . . . . g h d b g c g e c g e e a f g a f d a h f h d d e d b c e g g c f h b f d d a b g f h h h g e h g f a d h f e b c c f f c b a e a e c a b e h g a b g d h f a a d g a c e a d g e a g d c d b h d f b c b c b f g c b f g c e c c b a h a c h c d c f d e f g d b e c b h d a a d g g g d g h c a h e a g e b b c h e a f b h d g g g e a b a e e b h a b f e b c e d f b d h f g b a a f g d h b b\n",
      ". . . . . . . . . . . . . . . . . . . . . . . . . . . . . . . . . . . . . . . . . . . . . . . . . . . . . . . . . . . . . . . . . . . . . . . . . . . . . . . . . . . . . . . . . . . . . . . . . . . . . . . . . . . . . . . . . . . . . . . . . . . . . . . . . . . . . . . . . . . . . . . . . . . . . . . . . . . . . . . . . . . . . . . . . . . . . . . . . . . . . . . . . . . . . . . . . . . . . . . . . . . . . . . . . . . g c g e c g e e a f g a f d a h f h d d e d b c e g g c f h b f d d a b g f h h h g e h g f a d h f e b c c f f c b a e a e c a b e h g a b g d h f a a d g a c e a d g e a g d c d b h d f b c b c b f g c b f g c e c c b a h a c h c d c f d e f g d b e c b h d a a d g g g d g h c a h e a g e b b c h e a f b h d g g g e a b a e e b h a b f e b c e d f b d h f g b a a f g d h b b\n",
      ". . . . . . . . . . . . . . . . . . . . . . . . . . . . . . . . . . . . . . . . . . . . . . . . . . . . . . . . . . . . . . . . . . . . . . . . . . . . . . . . . . . . . . . . . . . . . . . . . . . . . . . . . . . . . . . . . . . . . . . . . . . . . . . . . . . . . . . . . . . . . . . . . . . . . . . . . . . . . . . . . . . . . . . . . . . . . . . . . . . . . . . . . . . . . . . . . . . . . . . . . . . . . . . . . . . . c g e c g e e a f g a f d a h f h d d e d b c e g g c f h b f d d a b g f h h h g e h g f a d h f e b c c f f c b a e a e c a b e h g a b g d h f a a d g a c e a d g e a g d c d b h d f b c b c b f g c b f g c e c c b a h a c h c d c f d e f g d b e c b h d a a d g g g d g h c a h e a g e b b c h e a f b h d g g g e a b a e e b h a b f e b c e d f b d h f g b a a f g d h b b\n",
      ". . . . . . . . . . . . . . . . . . . . . . . . . . . . . . . . . . . . . . . . . . . . . . . . . . . . . . . . . . . . . . . . . . . . . . . . . . . . . . . . . . . . . . . . . . . . . . . . . . . . . . . . . . . . . . . . . . . . . . . . . . . . . . . . . . . . . . . . . . . . . . . . . . . . . . . . . . . . . . . . . . . . . . . . . . . . . . . . . . . . . . . . . . . . . . . . . . . . . . . . . . . . . . . . . . . . . g e c g e e a f g a f d a h f h d d e d b c e g g c f h b f d d a b g f h h h g e h g f a d h f e b c c f f c b a e a e c a b e h g a b g d h f a a d g a c e a d g e a g d c d b h d f b c b c b f g c b f g c e c c b a h a c h c d c f d e f g d b e c b h d a a d g g g d g h c a h e a g e b b c h e a f b h d g g g e a b a e e b h a b f e b c e d f b d h f g b a a f g d h b b\n",
      ". . . . . . . . . . . . . . . . . . . . . . . . . . . . . . . . . . . . . . . . . . . . . . . . . . . . . . . . . . . . . . . . . . . . . . . . . . . . . . . . . . . . . . . . . . . . . . . . . . . . . . . . . . . . . . . . . . . . . . . . . . . . . . . . . . . . . . . . . . . . . . . . . . . . . . . . . . . . . . . . . . . . . . . . . . . . . . . . . . . . . . . . . . . . . . . . . . . . . . . . . . . . . . . . . . . . . . . c g e e a f g a f d a h f h d d e d b c e g g c f h b f d d a b g f h h h g e h g f a d h f e b c c f f c b a e a e c a b e h g a b g d h f a a d g a c e a d g e a g d c d b h d f b c b c b f g c b f g c e c c b a h a c h c d c f d e f g d b e c b h d a a d g g g d g h c a h e a g e b b c h e a f b h d g g g e a b a e e b h a b f e b c e d f b d h f g b a a f g d h b b\n",
      ". . . . . . . . . . . . . . . . . . . . . . . . . . . . . . . . . . . . . . . . . . . . . . . . . . . . . . . . . . . . . . . . . . . . . . . . . . . . . . . . . . . . . . . . . . . . . . . . . . . . . . . . . . . . . . . . . . . . . . . . . . . . . . . . . . . . . . . . . . . . . . . . . . . . . . . . . . . . . . . . . . . . . . . . . . . . . . . . . . . . . . . . . . . . . . . . . . . . . . . . . . . . . . . . . . . . . . . . g e e a f g a f d a h f h d d e d b c e g g c f h b f d d a b g f h h h g e h g f a d h f e b c c f f c b a e a e c a b e h g a b g d h f a a d g a c e a d g e a g d c d b h d f b c b c b f g c b f g c e c c b a h a c h c d c f d e f g d b e c b h d a a d g g g d g h c a h e a g e b b c h e a f b h d g g g e a b a e e b h a b f e b c e d f b d h f g b a a f g d h b b\n",
      ". . . . . . . . . . . . . . . . . . . . . . . . . . . . . . . . . . . . . . . . . . . . . . . . . . . . . . . . . . . . . . . . . . . . . . . . . . . . . . . . . . . . . . . . . . . . . . . . . . . . . . . . . . . . . . . . . . . . . . . . . . . . . . . . . . . . . . . . . . . . . . . . . . . . . . . . . . . . . . . . . . . . . . . . . . . . . . . . . . . . . . . . . . . . . . . . . . . . . . . . . . . . . . . . . . . . . . . . . . . a f g a f d a h f h d d e d b c e g g c f h b f d d a b g f h h h g e h g f a d h f e b c c f f c b a e a e c a b e h g a b g d h f a a d g a c e a d g e a g d c d b h d f b c b c b f g c b f g c e c c b a h a c h c d c f d e f g d b e c b h d a a d g g g d g h c a h e a g e b b c h e a f b h d g g g e a b a e e b h a b f e b c e d f b d h f g b a a f g d h b b\n",
      ". . . . . . . . . . . . . . . . . . . . . . . . . . . . . . . . . . . . . . . . . . . . . . . . . . . . . . . . . . . . . . . . . . . . . . . . . . . . . . . . . . . . . . . . . . . . . . . . . . . . . . . . . . . . . . . . . . . . . . . . . . . . . . . . . . . . . . . . . . . . . . . . . . . . . . . . . . . . . . . . . . . . . . . . . . . . . . . . . . . . . . . . . . . . . . . . . . . . . . . . . . . . . . . . . . . . . . . . . . . . f g a f d a h f h d d e d b c e g g c f h b f d d a b g f h h h g e h g f a d h f e b c c f f c b a e a e c a b e h g a b g d h f a a d g a c e a d g e a g d c d b h d f b c b c b f g c b f g c e c c b a h a c h c d c f d e f g d b e c b h d a a d g g g d g h c a h e a g e b b c h e a f b h d g g g e a b a e e b h a b f e b c e d f b d h f g b a a f g d h b b\n",
      ". . . . . . . . . . . . . . . . . . . . . . . . . . . . . . . . . . . . . . . . . . . . . . . . . . . . . . . . . . . . . . . . . . . . . . . . . . . . . . . . . . . . . . . . . . . . . . . . . . . . . . . . . . . . . . . . . . . . . . . . . . . . . . . . . . . . . . . . . . . . . . . . . . . . . . . . . . . . . . . . . . . . . . . . . . . . . . . . . . . . . . . . . . . . . . . . . . . . . . . . . . . . . . . . . . . . . . . . . . . . . g a f d a h f h d d e d b c e g g c f h b f d d a b g f h h h g e h g f a d h f e b c c f f c b a e a e c a b e h g a b g d h f a a d g a c e a d g e a g d c d b h d f b c b c b f g c b f g c e c c b a h a c h c d c f d e f g d b e c b h d a a d g g g d g h c a h e a g e b b c h e a f b h d g g g e a b a e e b h a b f e b c e d f b d h f g b a a f g d h b b\n",
      ". . . . . . . . . . . . . . . . . . . . . . . . . . . . . . . . . . . . . . . . . . . . . . . . . . . . . . . . . . . . . . . . . . . . . . . . . . . . . . . . . . . . . . . . . . . . . . . . . . . . . . . . . . . . . . . . . . . . . . . . . . . . . . . . . . . . . . . . . . . . . . . . . . . . . . . . . . . . . . . . . . . . . . . . . . . . . . . . . . . . . . . . . . . . . . . . . . . . . . . . . . . . . . . . . . . . . . . . . . . . . . a f d a h f h d d e d b c e g g c f h b f d d a b g f h h h g e h g f a d h f e b c c f f c b a e a e c a b e h g a b g d h f a a d g a c e a d g e a g d c d b h d f b c b c b f g c b f g c e c c b a h a c h c d c f d e f g d b e c b h d a a d g g g d g h c a h e a g e b b c h e a f b h d g g g e a b a e e b h a b f e b c e d f b d h f g b a a f g d h b b\n",
      ". . . . . . . . . . . . . . . . . . . . . . . . . . . . . . . . . . . . . . . . . . . . . . . . . . . . . . . . . . . . . . . . . . . . . . . . . . . . . . . . . . . . . . . . . . . . . . . . . . . . . . . . . . . . . . . . . . . . . . . . . . . . . . . . . . . . . . . . . . . . . . . . . . . . . . . . . . . . . . . . . . . . . . . . . . . . . . . . . . . . . . . . . . . . . . . . . . . . . . . . . . . . . . . . . . . . . . . . . . . . . . . . . . h f h d d e d b c e g g c f h b f d d a b g f h h h g e h g f a d h f e b c c f f c b a e a e c a b e h g a b g d h f a a d g a c e a d g e a g d c d b h d f b c b c b f g c b f g c e c c b a h a c h c d c f d e f g d b e c b h d a a d g g g d g h c a h e a g e b b c h e a f b h d g g g e a b a e e b h a b f e b c e d f b d h f g b a a f g d h b b\n",
      ". . . . . . . . . . . . . . . . . . . . . . . . . . . . . . . . . . . . . . . . . . . . . . . . . . . . . . . . . . . . . . . . . . . . . . . . . . . . . . . . . . . . . . . . . . . . . . . . . . . . . . . . . . . . . . . . . . . . . . . . . . . . . . . . . . . . . . . . . . . . . . . . . . . . . . . . . . . . . . . . . . . . . . . . . . . . . . . . . . . . . . . . . . . . . . . . . . . . . . . . . . . . . . . . . . . . . . . . . . . . . . . . . . . f h d d e d b c e g g c f h b f d d a b g f h h h g e h g f a d h f e b c c f f c b a e a e c a b e h g a b g d h f a a d g a c e a d g e a g d c d b h d f b c b c b f g c b f g c e c c b a h a c h c d c f d e f g d b e c b h d a a d g g g d g h c a h e a g e b b c h e a f b h d g g g e a b a e e b h a b f e b c e d f b d h f g b a a f g d h b b\n",
      ". . . . . . . . . . . . . . . . . . . . . . . . . . . . . . . . . . . . . . . . . . . . . . . . . . . . . . . . . . . . . . . . . . . . . . . . . . . . . . . . . . . . . . . . . . . . . . . . . . . . . . . . . . . . . . . . . . . . . . . . . . . . . . . . . . . . . . . . . . . . . . . . . . . . . . . . . . . . . . . . . . . . . . . . . . . . . . . . . . . . . . . . . . . . . . . . . . . . . . . . . . . . . . . . . . . . . . . . . . . . . . . . . . . . . d d e d b c e g g c f h b f d d a b g f h h h g e h g f a d h f e b c c f f c b a e a e c a b e h g a b g d h f a a d g a c e a d g e a g d c d b h d f b c b c b f g c b f g c e c c b a h a c h c d c f d e f g d b e c b h d a a d g g g d g h c a h e a g e b b c h e a f b h d g g g e a b a e e b h a b f e b c e d f b d h f g b a a f g d h b b\n",
      ". . . . . . . . . . . . . . . . . . . . . . . . . . . . . . . . . . . . . . . . . . . . . . . . . . . . . . . . . . . . . . . . . . . . . . . . . . . . . . . . . . . . . . . . . . . . . . . . . . . . . . . . . . . . . . . . . . . . . . . . . . . . . . . . . . . . . . . . . . . . . . . . . . . . . . . . . . . . . . . . . . . . . . . . . . . . . . . . . . . . . . . . . . . . . . . . . . . . . . . . . . . . . . . . . . . . . . . . . . . . . . . . . . . . . . d e d b c e g g c f h b f d d a b g f h h h g e h g f a d h f e b c c f f c b a e a e c a b e h g a b g d h f a a d g a c e a d g e a g d c d b h d f b c b c b f g c b f g c e c c b a h a c h c d c f d e f g d b e c b h d a a d g g g d g h c a h e a g e b b c h e a f b h d g g g e a b a e e b h a b f e b c e d f b d h f g b a a f g d h b b\n",
      ". . . . . . . . . . . . . . . . . . . . . . . . . . . . . . . . . . . . . . . . . . . . . . . . . . . . . . . . . . . . . . . . . . . . . . . . . . . . . . . . . . . . . . . . . . . . . . . . . . . . . . . . . . . . . . . . . . . . . . . . . . . . . . . . . . . . . . . . . . . . . . . . . . . . . . . . . . . . . . . . . . . . . . . . . . . . . . . . . . . . . . . . . . . . . . . . . . . . . . . . . . . . . . . . . . . . . . . . . . . . . . . . . . . . . . . . . . . . g g c f h b f d d a b g f h h h g e h g f a d h f e b c c f f c b a e a e c a b e h g a b g d h f a a d g a c e a d g e a g d c d b h d f b c b c b f g c b f g c e c c b a h a c h c d c f d e f g d b e c b h d a a d g g g d g h c a h e a g e b b c h e a f b h d g g g e a b a e e b h a b f e b c e d f b d h f g b a a f g d h b b\n",
      ". . . . . . . . . . . . . . . . . . . . . . . . . . . . . . . . . . . . . . . . . . . . . . . . . . . . . . . . . . . . . . . . . . . . . . . . . . . . . . . . . . . . . . . . . . . . . . . . . . . . . . . . . . . . . . . . . . . . . . . . . . . . . . . . . . . . . . . . . . . . . . . . . . . . . . . . . . . . . . . . . . . . . . . . . . . . . . . . . . . . . . . . . . . . . . . . . . . . . . . . . . . . . . . . . . . . . . . . . . . . . . . . . . . . . . . . . . . . . g c f h b f d d a b g f h h h g e h g f a d h f e b c c f f c b a e a e c a b e h g a b g d h f a a d g a c e a d g e a g d c d b h d f b c b c b f g c b f g c e c c b a h a c h c d c f d e f g d b e c b h d a a d g g g d g h c a h e a g e b b c h e a f b h d g g g e a b a e e b h a b f e b c e d f b d h f g b a a f g d h b b\n",
      ". . . . . . . . . . . . . . . . . . . . . . . . . . . . . . . . . . . . . . . . . . . . . . . . . . . . . . . . . . . . . . . . . . . . . . . . . . . . . . . . . . . . . . . . . . . . . . . . . . . . . . . . . . . . . . . . . . . . . . . . . . . . . . . . . . . . . . . . . . . . . . . . . . . . . . . . . . . . . . . . . . . . . . . . . . . . . . . . . . . . . . . . . . . . . . . . . . . . . . . . . . . . . . . . . . . . . . . . . . . . . . . . . . . . . . . . . . . . . . c f h b f d d a b g f h h h g e h g f a d h f e b c c f f c b a e a e c a b e h g a b g d h f a a d g a c e a d g e a g d c d b h d f b c b c b f g c b f g c e c c b a h a c h c d c f d e f g d b e c b h d a a d g g g d g h c a h e a g e b b c h e a f b h d g g g e a b a e e b h a b f e b c e d f b d h f g b a a f g d h b b\n",
      ". . . . . . . . . . . . . . . . . . . . . . . . . . . . . . . . . . . . . . . . . . . . . . . . . . . . . . . . . . . . . . . . . . . . . . . . . . . . . . . . . . . . . . . . . . . . . . . . . . . . . . . . . . . . . . . . . . . . . . . . . . . . . . . . . . . . . . . . . . . . . . . . . . . . . . . . . . . . . . . . . . . . . . . . . . . . . . . . . . . . . . . . . . . . . . . . . . . . . . . . . . . . . . . . . . . . . . . . . . . . . . . . . . . . . . . . . . . . . . . f h b f d d a b g f h h h g e h g f a d h f e b c c f f c b a e a e c a b e h g a b g d h f a a d g a c e a d g e a g d c d b h d f b c b c b f g c b f g c e c c b a h a c h c d c f d e f g d b e c b h d a a d g g g d g h c a h e a g e b b c h e a f b h d g g g e a b a e e b h a b f e b c e d f b d h f g b a a f g d h b b\n",
      ". . . . . . . . . . . . . . . . . . . . . . . . . . . . . . . . . . . . . . . . . . . . . . . . . . . . . . . . . . . . . . . . . . . . . . . . . . . . . . . . . . . . . . . . . . . . . . . . . . . . . . . . . . . . . . . . . . . . . . . . . . . . . . . . . . . . . . . . . . . . . . . . . . . . . . . . . . . . . . . . . . . . . . . . . . . . . . . . . . . . . . . . . . . . . . . . . . . . . . . . . . . . . . . . . . . . . . . . . . . . . . . . . . . . . . . . . . . . . . . . h b f d d a b g f h h h g e h g f a d h f e b c c f f c b a e a e c a b e h g a b g d h f a a d g a c e a d g e a g d c d b h d f b c b c b f g c b f g c e c c b a h a c h c d c f d e f g d b e c b h d a a d g g g d g h c a h e a g e b b c h e a f b h d g g g e a b a e e b h a b f e b c e d f b d h f g b a a f g d h b b\n",
      ". . . . . . . . . . . . . . . . . . . . . . . . . . . . . . . . . . . . . . . . . . . . . . . . . . . . . . . . . . . . . . . . . . . . . . . . . . . . . . . . . . . . . . . . . . . . . . . . . . . . . . . . . . . . . . . . . . . . . . . . . . . . . . . . . . . . . . . . . . . . . . . . . . . . . . . . . . . . . . . . . . . . . . . . . . . . . . . . . . . . . . . . . . . . . . . . . . . . . . . . . . . . . . . . . . . . . . . . . . . . . . . . . . . . . . . . . . . . . . . . . . f d d a b g f h h h g e h g f a d h f e b c c f f c b a e a e c a b e h g a b g d h f a a d g a c e a d g e a g d c d b h d f b c b c b f g c b f g c e c c b a h a c h c d c f d e f g d b e c b h d a a d g g g d g h c a h e a g e b b c h e a f b h d g g g e a b a e e b h a b f e b c e d f b d h f g b a a f g d h b b\n",
      ". . . . . . . . . . . . . . . . . . . . . . . . . . . . . . . . . . . . . . . . . . . . . . . . . . . . . . . . . . . . . . . . . . . . . . . . . . . . . . . . . . . . . . . . . . . . . . . . . . . . . . . . . . . . . . . . . . . . . . . . . . . . . . . . . . . . . . . . . . . . . . . . . . . . . . . . . . . . . . . . . . . . . . . . . . . . . . . . . . . . . . . . . . . . . . . . . . . . . . . . . . . . . . . . . . . . . . . . . . . . . . . . . . . . . . . . . . . . . . . . . . . d d a b g f h h h g e h g f a d h f e b c c f f c b a e a e c a b e h g a b g d h f a a d g a c e a d g e a g d c d b h d f b c b c b f g c b f g c e c c b a h a c h c d c f d e f g d b e c b h d a a d g g g d g h c a h e a g e b b c h e a f b h d g g g e a b a e e b h a b f e b c e d f b d h f g b a a f g d h b b\n",
      ". . . . . . . . . . . . . . . . . . . . . . . . . . . . . . . . . . . . . . . . . . . . . . . . . . . . . . . . . . . . . . . . . . . . . . . . . . . . . . . . . . . . . . . . . . . . . . . . . . . . . . . . . . . . . . . . . . . . . . . . . . . . . . . . . . . . . . . . . . . . . . . . . . . . . . . . . . . . . . . . . . . . . . . . . . . . . . . . . . . . . . . . . . . . . . . . . . . . . . . . . . . . . . . . . . . . . . . . . . . . . . . . . . . . . . . . . . . . . . . . . . . . d a b g f h h h g e h g f a d h f e b c c f f c b a e a e c a b e h g a b g d h f a a d g a c e a d g e a g d c d b h d f b c b c b f g c b f g c e c c b a h a c h c d c f d e f g d b e c b h d a a d g g g d g h c a h e a g e b b c h e a f b h d g g g e a b a e e b h a b f e b c e d f b d h f g b a a f g d h b b\n",
      ". . . . . . . . . . . . . . . . . . . . . . . . . . . . . . . . . . . . . . . . . . . . . . . . . . . . . . . . . . . . . . . . . . . . . . . . . . . . . . . . . . . . . . . . . . . . . . . . . . . . . . . . . . . . . . . . . . . . . . . . . . . . . . . . . . . . . . . . . . . . . . . . . . . . . . . . . . . . . . . . . . . . . . . . . . . . . . . . . . . . . . . . . . . . . . . . . . . . . . . . . . . . . . . . . . . . . . . . . . . . . . . . . . . . . . . . . . . . . . . . . . . . . a b g f h h h g e h g f a d h f e b c c f f c b a e a e c a b e h g a b g d h f a a d g a c e a d g e a g d c d b h d f b c b c b f g c b f g c e c c b a h a c h c d c f d e f g d b e c b h d a a d g g g d g h c a h e a g e b b c h e a f b h d g g g e a b a e e b h a b f e b c e d f b d h f g b a a f g d h b b\n",
      ". . . . . . . . . . . . . . . . . . . . . . . . . . . . . . . . . . . . . . . . . . . . . . . . . . . . . . . . . . . . . . . . . . . . . . . . . . . . . . . . . . . . . . . . . . . . . . . . . . . . . . . . . . . . . . . . . . . . . . . . . . . . . . . . . . . . . . . . . . . . . . . . . . . . . . . . . . . . . . . . . . . . . . . . . . . . . . . . . . . . . . . . . . . . . . . . . . . . . . . . . . . . . . . . . . . . . . . . . . . . . . . . . . . . . . . . . . . . . . . . . . . . . . . . . h h h g e h g f a d h f e b c c f f c b a e a e c a b e h g a b g d h f a a d g a c e a d g e a g d c d b h d f b c b c b f g c b f g c e c c b a h a c h c d c f d e f g d b e c b h d a a d g g g d g h c a h e a g e b b c h e a f b h d g g g e a b a e e b h a b f e b c e d f b d h f g b a a f g d h b b\n",
      ". . . . . . . . . . . . . . . . . . . . . . . . . . . . . . . . . . . . . . . . . . . . . . . . . . . . . . . . . . . . . . . . . . . . . . . . . . . . . . . . . . . . . . . . . . . . . . . . . . . . . . . . . . . . . . . . . . . . . . . . . . . . . . . . . . . . . . . . . . . . . . . . . . . . . . . . . . . . . . . . . . . . . . . . . . . . . . . . . . . . . . . . . . . . . . . . . . . . . . . . . . . . . . . . . . . . . . . . . . . . . . . . . . . . . . . . . . . . . . . . . . . . . . . . . . . . g e h g f a d h f e b c c f f c b a e a e c a b e h g a b g d h f a a d g a c e a d g e a g d c d b h d f b c b c b f g c b f g c e c c b a h a c h c d c f d e f g d b e c b h d a a d g g g d g h c a h e a g e b b c h e a f b h d g g g e a b a e e b h a b f e b c e d f b d h f g b a a f g d h b b\n",
      ". . . . . . . . . . . . . . . . . . . . . . . . . . . . . . . . . . . . . . . . . . . . . . . . . . . . . . . . . . . . . . . . . . . . . . . . . . . . . . . . . . . . . . . . . . . . . . . . . . . . . . . . . . . . . . . . . . . . . . . . . . . . . . . . . . . . . . . . . . . . . . . . . . . . . . . . . . . . . . . . . . . . . . . . . . . . . . . . . . . . . . . . . . . . . . . . . . . . . . . . . . . . . . . . . . . . . . . . . . . . . . . . . . . . . . . . . . . . . . . . . . . . . . . . . . . . . . . . f a d h f e b c c f f c b a e a e c a b e h g a b g d h f a a d g a c e a d g e a g d c d b h d f b c b c b f g c b f g c e c c b a h a c h c d c f d e f g d b e c b h d a a d g g g d g h c a h e a g e b b c h e a f b h d g g g e a b a e e b h a b f e b c e d f b d h f g b a a f g d h b b\n",
      ". . . . . . . . . . . . . . . . . . . . . . . . . . . . . . . . . . . . . . . . . . . . . . . . . . . . . . . . . . . . . . . . . . . . . . . . . . . . . . . . . . . . . . . . . . . . . . . . . . . . . . . . . . . . . . . . . . . . . . . . . . . . . . . . . . . . . . . . . . . . . . . . . . . . . . . . . . . . . . . . . . . . . . . . . . . . . . . . . . . . . . . . . . . . . . . . . . . . . . . . . . . . . . . . . . . . . . . . . . . . . . . . . . . . . . . . . . . . . . . . . . . . . . . . . . . . . . . . . a d h f e b c c f f c b a e a e c a b e h g a b g d h f a a d g a c e a d g e a g d c d b h d f b c b c b f g c b f g c e c c b a h a c h c d c f d e f g d b e c b h d a a d g g g d g h c a h e a g e b b c h e a f b h d g g g e a b a e e b h a b f e b c e d f b d h f g b a a f g d h b b\n",
      ". . . . . . . . . . . . . . . . . . . . . . . . . . . . . . . . . . . . . . . . . . . . . . . . . . . . . . . . . . . . . . . . . . . . . . . . . . . . . . . . . . . . . . . . . . . . . . . . . . . . . . . . . . . . . . . . . . . . . . . . . . . . . . . . . . . . . . . . . . . . . . . . . . . . . . . . . . . . . . . . . . . . . . . . . . . . . . . . . . . . . . . . . . . . . . . . . . . . . . . . . . . . . . . . . . . . . . . . . . . . . . . . . . . . . . . . . . . . . . . . . . . . . . . . . . . . . . . . . . . . . e b c c f f c b a e a e c a b e h g a b g d h f a a d g a c e a d g e a g d c d b h d f b c b c b f g c b f g c e c c b a h a c h c d c f d e f g d b e c b h d a a d g g g d g h c a h e a g e b b c h e a f b h d g g g e a b a e e b h a b f e b c e d f b d h f g b a a f g d h b b\n",
      ". . . . . . . . . . . . . . . . . . . . . . . . . . . . . . . . . . . . . . . . . . . . . . . . . . . . . . . . . . . . . . . . . . . . . . . . . . . . . . . . . . . . . . . . . . . . . . . . . . . . . . . . . . . . . . . . . . . . . . . . . . . . . . . . . . . . . . . . . . . . . . . . . . . . . . . . . . . . . . . . . . . . . . . . . . . . . . . . . . . . . . . . . . . . . . . . . . . . . . . . . . . . . . . . . . . . . . . . . . . . . . . . . . . . . . . . . . . . . . . . . . . . . . . . . . . . . . . . . . . . . . b c c f f c b a e a e c a b e h g a b g d h f a a d g a c e a d g e a g d c d b h d f b c b c b f g c b f g c e c c b a h a c h c d c f d e f g d b e c b h d a a d g g g d g h c a h e a g e b b c h e a f b h d g g g e a b a e e b h a b f e b c e d f b d h f g b a a f g d h b b\n",
      ". . . . . . . . . . . . . . . . . . . . . . . . . . . . . . . . . . . . . . . . . . . . . . . . . . . . . . . . . . . . . . . . . . . . . . . . . . . . . . . . . . . . . . . . . . . . . . . . . . . . . . . . . . . . . . . . . . . . . . . . . . . . . . . . . . . . . . . . . . . . . . . . . . . . . . . . . . . . . . . . . . . . . . . . . . . . . . . . . . . . . . . . . . . . . . . . . . . . . . . . . . . . . . . . . . . . . . . . . . . . . . . . . . . . . . . . . . . . . . . . . . . . . . . . . . . . . . . . . . . . . . . c c f f c b a e a e c a b e h g a b g d h f a a d g a c e a d g e a g d c d b h d f b c b c b f g c b f g c e c c b a h a c h c d c f d e f g d b e c b h d a a d g g g d g h c a h e a g e b b c h e a f b h d g g g e a b a e e b h a b f e b c e d f b d h f g b a a f g d h b b\n",
      ". . . . . . . . . . . . . . . . . . . . . . . . . . . . . . . . . . . . . . . . . . . . . . . . . . . . . . . . . . . . . . . . . . . . . . . . . . . . . . . . . . . . . . . . . . . . . . . . . . . . . . . . . . . . . . . . . . . . . . . . . . . . . . . . . . . . . . . . . . . . . . . . . . . . . . . . . . . . . . . . . . . . . . . . . . . . . . . . . . . . . . . . . . . . . . . . . . . . . . . . . . . . . . . . . . . . . . . . . . . . . . . . . . . . . . . . . . . . . . . . . . . . . . . . . . . . . . . . . . . . . . . . . . . . . a e a e c a b e h g a b g d h f a a d g a c e a d g e a g d c d b h d f b c b c b f g c b f g c e c c b a h a c h c d c f d e f g d b e c b h d a a d g g g d g h c a h e a g e b b c h e a f b h d g g g e a b a e e b h a b f e b c e d f b d h f g b a a f g d h b b\n",
      ". . . . . . . . . . . . . . . . . . . . . . . . . . . . . . . . . . . . . . . . . . . . . . . . . . . . . . . . . . . . . . . . . . . . . . . . . . . . . . . . . . . . . . . . . . . . . . . . . . . . . . . . . . . . . . . . . . . . . . . . . . . . . . . . . . . . . . . . . . . . . . . . . . . . . . . . . . . . . . . . . . . . . . . . . . . . . . . . . . . . . . . . . . . . . . . . . . . . . . . . . . . . . . . . . . . . . . . . . . . . . . . . . . . . . . . . . . . . . . . . . . . . . . . . . . . . . . . . . . . . . . . . . . . . . . e a e c a b e h g a b g d h f a a d g a c e a d g e a g d c d b h d f b c b c b f g c b f g c e c c b a h a c h c d c f d e f g d b e c b h d a a d g g g d g h c a h e a g e b b c h e a f b h d g g g e a b a e e b h a b f e b c e d f b d h f g b a a f g d h b b\n",
      ". . . . . . . . . . . . . . . . . . . . . . . . . . . . . . . . . . . . . . . . . . . . . . . . . . . . . . . . . . . . . . . . . . . . . . . . . . . . . . . . . . . . . . . . . . . . . . . . . . . . . . . . . . . . . . . . . . . . . . . . . . . . . . . . . . . . . . . . . . . . . . . . . . . . . . . . . . . . . . . . . . . . . . . . . . . . . . . . . . . . . . . . . . . . . . . . . . . . . . . . . . . . . . . . . . . . . . . . . . . . . . . . . . . . . . . . . . . . . . . . . . . . . . . . . . . . . . . . . . . . . . . . . . . . . . . a e c a b e h g a b g d h f a a d g a c e a d g e a g d c d b h d f b c b c b f g c b f g c e c c b a h a c h c d c f d e f g d b e c b h d a a d g g g d g h c a h e a g e b b c h e a f b h d g g g e a b a e e b h a b f e b c e d f b d h f g b a a f g d h b b\n",
      ". . . . . . . . . . . . . . . . . . . . . . . . . . . . . . . . . . . . . . . . . . . . . . . . . . . . . . . . . . . . . . . . . . . . . . . . . . . . . . . . . . . . . . . . . . . . . . . . . . . . . . . . . . . . . . . . . . . . . . . . . . . . . . . . . . . . . . . . . . . . . . . . . . . . . . . . . . . . . . . . . . . . . . . . . . . . . . . . . . . . . . . . . . . . . . . . . . . . . . . . . . . . . . . . . . . . . . . . . . . . . . . . . . . . . . . . . . . . . . . . . . . . . . . . . . . . . . . . . . . . . . . . . . . . . . . . . . a b e h g a b g d h f a a d g a c e a d g e a g d c d b h d f b c b c b f g c b f g c e c c b a h a c h c d c f d e f g d b e c b h d a a d g g g d g h c a h e a g e b b c h e a f b h d g g g e a b a e e b h a b f e b c e d f b d h f g b a a f g d h b b\n",
      ". . . . . . . . . . . . . . . . . . . . . . . . . . . . . . . . . . . . . . . . . . . . . . . . . . . . . . . . . . . . . . . . . . . . . . . . . . . . . . . . . . . . . . . . . . . . . . . . . . . . . . . . . . . . . . . . . . . . . . . . . . . . . . . . . . . . . . . . . . . . . . . . . . . . . . . . . . . . . . . . . . . . . . . . . . . . . . . . . . . . . . . . . . . . . . . . . . . . . . . . . . . . . . . . . . . . . . . . . . . . . . . . . . . . . . . . . . . . . . . . . . . . . . . . . . . . . . . . . . . . . . . . . . . . . . . . . . . b e h g a b g d h f a a d g a c e a d g e a g d c d b h d f b c b c b f g c b f g c e c c b a h a c h c d c f d e f g d b e c b h d a a d g g g d g h c a h e a g e b b c h e a f b h d g g g e a b a e e b h a b f e b c e d f b d h f g b a a f g d h b b\n",
      ". . . . . . . . . . . . . . . . . . . . . . . . . . . . . . . . . . . . . . . . . . . . . . . . . . . . . . . . . . . . . . . . . . . . . . . . . . . . . . . . . . . . . . . . . . . . . . . . . . . . . . . . . . . . . . . . . . . . . . . . . . . . . . . . . . . . . . . . . . . . . . . . . . . . . . . . . . . . . . . . . . . . . . . . . . . . . . . . . . . . . . . . . . . . . . . . . . . . . . . . . . . . . . . . . . . . . . . . . . . . . . . . . . . . . . . . . . . . . . . . . . . . . . . . . . . . . . . . . . . . . . . . . . . . . . . . . . . . e h g a b g d h f a a d g a c e a d g e a g d c d b h d f b c b c b f g c b f g c e c c b a h a c h c d c f d e f g d b e c b h d a a d g g g d g h c a h e a g e b b c h e a f b h d g g g e a b a e e b h a b f e b c e d f b d h f g b a a f g d h b b\n",
      ". . . . . . . . . . . . . . . . . . . . . . . . . . . . . . . . . . . . . . . . . . . . . . . . . . . . . . . . . . . . . . . . . . . . . . . . . . . . . . . . . . . . . . . . . . . . . . . . . . . . . . . . . . . . . . . . . . . . . . . . . . . . . . . . . . . . . . . . . . . . . . . . . . . . . . . . . . . . . . . . . . . . . . . . . . . . . . . . . . . . . . . . . . . . . . . . . . . . . . . . . . . . . . . . . . . . . . . . . . . . . . . . . . . . . . . . . . . . . . . . . . . . . . . . . . . . . . . . . . . . . . . . . . . . . . . . . . . . . . g a b g d h f a a d g a c e a d g e a g d c d b h d f b c b c b f g c b f g c e c c b a h a c h c d c f d e f g d b e c b h d a a d g g g d g h c a h e a g e b b c h e a f b h d g g g e a b a e e b h a b f e b c e d f b d h f g b a a f g d h b b\n",
      ". . . . . . . . . . . . . . . . . . . . . . . . . . . . . . . . . . . . . . . . . . . . . . . . . . . . . . . . . . . . . . . . . . . . . . . . . . . . . . . . . . . . . . . . . . . . . . . . . . . . . . . . . . . . . . . . . . . . . . . . . . . . . . . . . . . . . . . . . . . . . . . . . . . . . . . . . . . . . . . . . . . . . . . . . . . . . . . . . . . . . . . . . . . . . . . . . . . . . . . . . . . . . . . . . . . . . . . . . . . . . . . . . . . . . . . . . . . . . . . . . . . . . . . . . . . . . . . . . . . . . . . . . . . . . . . . . . . . . . . a b g d h f a a d g a c e a d g e a g d c d b h d f b c b c b f g c b f g c e c c b a h a c h c d c f d e f g d b e c b h d a a d g g g d g h c a h e a g e b b c h e a f b h d g g g e a b a e e b h a b f e b c e d f b d h f g b a a f g d h b b\n",
      ". . . . . . . . . . . . . . . . . . . . . . . . . . . . . . . . . . . . . . . . . . . . . . . . . . . . . . . . . . . . . . . . . . . . . . . . . . . . . . . . . . . . . . . . . . . . . . . . . . . . . . . . . . . . . . . . . . . . . . . . . . . . . . . . . . . . . . . . . . . . . . . . . . . . . . . . . . . . . . . . . . . . . . . . . . . . . . . . . . . . . . . . . . . . . . . . . . . . . . . . . . . . . . . . . . . . . . . . . . . . . . . . . . . . . . . . . . . . . . . . . . . . . . . . . . . . . . . . . . . . . . . . . . . . . . . . . . . . . . . . . . d h f a a d g a c e a d g e a g d c d b h d f b c b c b f g c b f g c e c c b a h a c h c d c f d e f g d b e c b h d a a d g g g d g h c a h e a g e b b c h e a f b h d g g g e a b a e e b h a b f e b c e d f b d h f g b a a f g d h b b\n",
      ". . . . . . . . . . . . . . . . . . . . . . . . . . . . . . . . . . . . . . . . . . . . . . . . . . . . . . . . . . . . . . . . . . . . . . . . . . . . . . . . . . . . . . . . . . . . . . . . . . . . . . . . . . . . . . . . . . . . . . . . . . . . . . . . . . . . . . . . . . . . . . . . . . . . . . . . . . . . . . . . . . . . . . . . . . . . . . . . . . . . . . . . . . . . . . . . . . . . . . . . . . . . . . . . . . . . . . . . . . . . . . . . . . . . . . . . . . . . . . . . . . . . . . . . . . . . . . . . . . . . . . . . . . . . . . . . . . . . . . . . . . . h f a a d g a c e a d g e a g d c d b h d f b c b c b f g c b f g c e c c b a h a c h c d c f d e f g d b e c b h d a a d g g g d g h c a h e a g e b b c h e a f b h d g g g e a b a e e b h a b f e b c e d f b d h f g b a a f g d h b b\n",
      ". . . . . . . . . . . . . . . . . . . . . . . . . . . . . . . . . . . . . . . . . . . . . . . . . . . . . . . . . . . . . . . . . . . . . . . . . . . . . . . . . . . . . . . . . . . . . . . . . . . . . . . . . . . . . . . . . . . . . . . . . . . . . . . . . . . . . . . . . . . . . . . . . . . . . . . . . . . . . . . . . . . . . . . . . . . . . . . . . . . . . . . . . . . . . . . . . . . . . . . . . . . . . . . . . . . . . . . . . . . . . . . . . . . . . . . . . . . . . . . . . . . . . . . . . . . . . . . . . . . . . . . . . . . . . . . . . . . . . . . . . . . . f a a d g a c e a d g e a g d c d b h d f b c b c b f g c b f g c e c c b a h a c h c d c f d e f g d b e c b h d a a d g g g d g h c a h e a g e b b c h e a f b h d g g g e a b a e e b h a b f e b c e d f b d h f g b a a f g d h b b\n",
      ". . . . . . . . . . . . . . . . . . . . . . . . . . . . . . . . . . . . . . . . . . . . . . . . . . . . . . . . . . . . . . . . . . . . . . . . . . . . . . . . . . . . . . . . . . . . . . . . . . . . . . . . . . . . . . . . . . . . . . . . . . . . . . . . . . . . . . . . . . . . . . . . . . . . . . . . . . . . . . . . . . . . . . . . . . . . . . . . . . . . . . . . . . . . . . . . . . . . . . . . . . . . . . . . . . . . . . . . . . . . . . . . . . . . . . . . . . . . . . . . . . . . . . . . . . . . . . . . . . . . . . . . . . . . . . . . . . . . . . . . . . . . . a a d g a c e a d g e a g d c d b h d f b c b c b f g c b f g c e c c b a h a c h c d c f d e f g d b e c b h d a a d g g g d g h c a h e a g e b b c h e a f b h d g g g e a b a e e b h a b f e b c e d f b d h f g b a a f g d h b b\n",
      ". . . . . . . . . . . . . . . . . . . . . . . . . . . . . . . . . . . . . . . . . . . . . . . . . . . . . . . . . . . . . . . . . . . . . . . . . . . . . . . . . . . . . . . . . . . . . . . . . . . . . . . . . . . . . . . . . . . . . . . . . . . . . . . . . . . . . . . . . . . . . . . . . . . . . . . . . . . . . . . . . . . . . . . . . . . . . . . . . . . . . . . . . . . . . . . . . . . . . . . . . . . . . . . . . . . . . . . . . . . . . . . . . . . . . . . . . . . . . . . . . . . . . . . . . . . . . . . . . . . . . . . . . . . . . . . . . . . . . . . . . . . . . . . d g a c e a d g e a g d c d b h d f b c b c b f g c b f g c e c c b a h a c h c d c f d e f g d b e c b h d a a d g g g d g h c a h e a g e b b c h e a f b h d g g g e a b a e e b h a b f e b c e d f b d h f g b a a f g d h b b\n",
      ". . . . . . . . . . . . . . . . . . . . . . . . . . . . . . . . . . . . . . . . . . . . . . . . . . . . . . . . . . . . . . . . . . . . . . . . . . . . . . . . . . . . . . . . . . . . . . . . . . . . . . . . . . . . . . . . . . . . . . . . . . . . . . . . . . . . . . . . . . . . . . . . . . . . . . . . . . . . . . . . . . . . . . . . . . . . . . . . . . . . . . . . . . . . . . . . . . . . . . . . . . . . . . . . . . . . . . . . . . . . . . . . . . . . . . . . . . . . . . . . . . . . . . . . . . . . . . . . . . . . . . . . . . . . . . . . . . . . . . . . . . . . . . . . . . c e a d g e a g d c d b h d f b c b c b f g c b f g c e c c b a h a c h c d c f d e f g d b e c b h d a a d g g g d g h c a h e a g e b b c h e a f b h d g g g e a b a e e b h a b f e b c e d f b d h f g b a a f g d h b b\n",
      ". . . . . . . . . . . . . . . . . . . . . . . . . . . . . . . . . . . . . . . . . . . . . . . . . . . . . . . . . . . . . . . . . . . . . . . . . . . . . . . . . . . . . . . . . . . . . . . . . . . . . . . . . . . . . . . . . . . . . . . . . . . . . . . . . . . . . . . . . . . . . . . . . . . . . . . . . . . . . . . . . . . . . . . . . . . . . . . . . . . . . . . . . . . . . . . . . . . . . . . . . . . . . . . . . . . . . . . . . . . . . . . . . . . . . . . . . . . . . . . . . . . . . . . . . . . . . . . . . . . . . . . . . . . . . . . . . . . . . . . . . . . . . . . . . . . e a d g e a g d c d b h d f b c b c b f g c b f g c e c c b a h a c h c d c f d e f g d b e c b h d a a d g g g d g h c a h e a g e b b c h e a f b h d g g g e a b a e e b h a b f e b c e d f b d h f g b a a f g d h b b\n",
      ". . . . . . . . . . . . . . . . . . . . . . . . . . . . . . . . . . . . . . . . . . . . . . . . . . . . . . . . . . . . . . . . . . . . . . . . . . . . . . . . . . . . . . . . . . . . . . . . . . . . . . . . . . . . . . . . . . . . . . . . . . . . . . . . . . . . . . . . . . . . . . . . . . . . . . . . . . . . . . . . . . . . . . . . . . . . . . . . . . . . . . . . . . . . . . . . . . . . . . . . . . . . . . . . . . . . . . . . . . . . . . . . . . . . . . . . . . . . . . . . . . . . . . . . . . . . . . . . . . . . . . . . . . . . . . . . . . . . . . . . . . . . . . . . . . . . a d g e a g d c d b h d f b c b c b f g c b f g c e c c b a h a c h c d c f d e f g d b e c b h d a a d g g g d g h c a h e a g e b b c h e a f b h d g g g e a b a e e b h a b f e b c e d f b d h f g b a a f g d h b b\n",
      ". . . . . . . . . . . . . . . . . . . . . . . . . . . . . . . . . . . . . . . . . . . . . . . . . . . . . . . . . . . . . . . . . . . . . . . . . . . . . . . . . . . . . . . . . . . . . . . . . . . . . . . . . . . . . . . . . . . . . . . . . . . . . . . . . . . . . . . . . . . . . . . . . . . . . . . . . . . . . . . . . . . . . . . . . . . . . . . . . . . . . . . . . . . . . . . . . . . . . . . . . . . . . . . . . . . . . . . . . . . . . . . . . . . . . . . . . . . . . . . . . . . . . . . . . . . . . . . . . . . . . . . . . . . . . . . . . . . . . . . . . . . . . . . . . . . . . . g e a g d c d b h d f b c b c b f g c b f g c e c c b a h a c h c d c f d e f g d b e c b h d a a d g g g d g h c a h e a g e b b c h e a f b h d g g g e a b a e e b h a b f e b c e d f b d h f g b a a f g d h b b\n",
      ". . . . . . . . . . . . . . . . . . . . . . . . . . . . . . . . . . . . . . . . . . . . . . . . . . . . . . . . . . . . . . . . . . . . . . . . . . . . . . . . . . . . . . . . . . . . . . . . . . . . . . . . . . . . . . . . . . . . . . . . . . . . . . . . . . . . . . . . . . . . . . . . . . . . . . . . . . . . . . . . . . . . . . . . . . . . . . . . . . . . . . . . . . . . . . . . . . . . . . . . . . . . . . . . . . . . . . . . . . . . . . . . . . . . . . . . . . . . . . . . . . . . . . . . . . . . . . . . . . . . . . . . . . . . . . . . . . . . . . . . . . . . . . . . . . . . . . . e a g d c d b h d f b c b c b f g c b f g c e c c b a h a c h c d c f d e f g d b e c b h d a a d g g g d g h c a h e a g e b b c h e a f b h d g g g e a b a e e b h a b f e b c e d f b d h f g b a a f g d h b b\n",
      ". . . . . . . . . . . . . . . . . . . . . . . . . . . . . . . . . . . . . . . . . . . . . . . . . . . . . . . . . . . . . . . . . . . . . . . . . . . . . . . . . . . . . . . . . . . . . . . . . . . . . . . . . . . . . . . . . . . . . . . . . . . . . . . . . . . . . . . . . . . . . . . . . . . . . . . . . . . . . . . . . . . . . . . . . . . . . . . . . . . . . . . . . . . . . . . . . . . . . . . . . . . . . . . . . . . . . . . . . . . . . . . . . . . . . . . . . . . . . . . . . . . . . . . . . . . . . . . . . . . . . . . . . . . . . . . . . . . . . . . . . . . . . . . . . . . . . . . . . . d c d b h d f b c b c b f g c b f g c e c c b a h a c h c d c f d e f g d b e c b h d a a d g g g d g h c a h e a g e b b c h e a f b h d g g g e a b a e e b h a b f e b c e d f b d h f g b a a f g d h b b\n",
      ". . . . . . . . . . . . . . . . . . . . . . . . . . . . . . . . . . . . . . . . . . . . . . . . . . . . . . . . . . . . . . . . . . . . . . . . . . . . . . . . . . . . . . . . . . . . . . . . . . . . . . . . . . . . . . . . . . . . . . . . . . . . . . . . . . . . . . . . . . . . . . . . . . . . . . . . . . . . . . . . . . . . . . . . . . . . . . . . . . . . . . . . . . . . . . . . . . . . . . . . . . . . . . . . . . . . . . . . . . . . . . . . . . . . . . . . . . . . . . . . . . . . . . . . . . . . . . . . . . . . . . . . . . . . . . . . . . . . . . . . . . . . . . . . . . . . . . . . . . . . . b h d f b c b c b f g c b f g c e c c b a h a c h c d c f d e f g d b e c b h d a a d g g g d g h c a h e a g e b b c h e a f b h d g g g e a b a e e b h a b f e b c e d f b d h f g b a a f g d h b b\n",
      ". . . . . . . . . . . . . . . . . . . . . . . . . . . . . . . . . . . . . . . . . . . . . . . . . . . . . . . . . . . . . . . . . . . . . . . . . . . . . . . . . . . . . . . . . . . . . . . . . . . . . . . . . . . . . . . . . . . . . . . . . . . . . . . . . . . . . . . . . . . . . . . . . . . . . . . . . . . . . . . . . . . . . . . . . . . . . . . . . . . . . . . . . . . . . . . . . . . . . . . . . . . . . . . . . . . . . . . . . . . . . . . . . . . . . . . . . . . . . . . . . . . . . . . . . . . . . . . . . . . . . . . . . . . . . . . . . . . . . . . . . . . . . . . . . . . . . . . . . . . . . . h d f b c b c b f g c b f g c e c c b a h a c h c d c f d e f g d b e c b h d a a d g g g d g h c a h e a g e b b c h e a f b h d g g g e a b a e e b h a b f e b c e d f b d h f g b a a f g d h b b\n",
      ". . . . . . . . . . . . . . . . . . . . . . . . . . . . . . . . . . . . . . . . . . . . . . . . . . . . . . . . . . . . . . . . . . . . . . . . . . . . . . . . . . . . . . . . . . . . . . . . . . . . . . . . . . . . . . . . . . . . . . . . . . . . . . . . . . . . . . . . . . . . . . . . . . . . . . . . . . . . . . . . . . . . . . . . . . . . . . . . . . . . . . . . . . . . . . . . . . . . . . . . . . . . . . . . . . . . . . . . . . . . . . . . . . . . . . . . . . . . . . . . . . . . . . . . . . . . . . . . . . . . . . . . . . . . . . . . . . . . . . . . . . . . . . . . . . . . . . . . . . . . . . . d f b c b c b f g c b f g c e c c b a h a c h c d c f d e f g d b e c b h d a a d g g g d g h c a h e a g e b b c h e a f b h d g g g e a b a e e b h a b f e b c e d f b d h f g b a a f g d h b b\n",
      ". . . . . . . . . . . . . . . . . . . . . . . . . . . . . . . . . . . . . . . . . . . . . . . . . . . . . . . . . . . . . . . . . . . . . . . . . . . . . . . . . . . . . . . . . . . . . . . . . . . . . . . . . . . . . . . . . . . . . . . . . . . . . . . . . . . . . . . . . . . . . . . . . . . . . . . . . . . . . . . . . . . . . . . . . . . . . . . . . . . . . . . . . . . . . . . . . . . . . . . . . . . . . . . . . . . . . . . . . . . . . . . . . . . . . . . . . . . . . . . . . . . . . . . . . . . . . . . . . . . . . . . . . . . . . . . . . . . . . . . . . . . . . . . . . . . . . . . . . . . . . . . . . b c b c b f g c b f g c e c c b a h a c h c d c f d e f g d b e c b h d a a d g g g d g h c a h e a g e b b c h e a f b h d g g g e a b a e e b h a b f e b c e d f b d h f g b a a f g d h b b\n",
      ". . . . . . . . . . . . . . . . . . . . . . . . . . . . . . . . . . . . . . . . . . . . . . . . . . . . . . . . . . . . . . . . . . . . . . . . . . . . . . . . . . . . . . . . . . . . . . . . . . . . . . . . . . . . . . . . . . . . . . . . . . . . . . . . . . . . . . . . . . . . . . . . . . . . . . . . . . . . . . . . . . . . . . . . . . . . . . . . . . . . . . . . . . . . . . . . . . . . . . . . . . . . . . . . . . . . . . . . . . . . . . . . . . . . . . . . . . . . . . . . . . . . . . . . . . . . . . . . . . . . . . . . . . . . . . . . . . . . . . . . . . . . . . . . . . . . . . . . . . . . . . . . . . c b c b f g c b f g c e c c b a h a c h c d c f d e f g d b e c b h d a a d g g g d g h c a h e a g e b b c h e a f b h d g g g e a b a e e b h a b f e b c e d f b d h f g b a a f g d h b b\n",
      ". . . . . . . . . . . . . . . . . . . . . . . . . . . . . . . . . . . . . . . . . . . . . . . . . . . . . . . . . . . . . . . . . . . . . . . . . . . . . . . . . . . . . . . . . . . . . . . . . . . . . . . . . . . . . . . . . . . . . . . . . . . . . . . . . . . . . . . . . . . . . . . . . . . . . . . . . . . . . . . . . . . . . . . . . . . . . . . . . . . . . . . . . . . . . . . . . . . . . . . . . . . . . . . . . . . . . . . . . . . . . . . . . . . . . . . . . . . . . . . . . . . . . . . . . . . . . . . . . . . . . . . . . . . . . . . . . . . . . . . . . . . . . . . . . . . . . . . . . . . . . . . . . . . b c b f g c b f g c e c c b a h a c h c d c f d e f g d b e c b h d a a d g g g d g h c a h e a g e b b c h e a f b h d g g g e a b a e e b h a b f e b c e d f b d h f g b a a f g d h b b\n",
      ". . . . . . . . . . . . . . . . . . . . . . . . . . . . . . . . . . . . . . . . . . . . . . . . . . . . . . . . . . . . . . . . . . . . . . . . . . . . . . . . . . . . . . . . . . . . . . . . . . . . . . . . . . . . . . . . . . . . . . . . . . . . . . . . . . . . . . . . . . . . . . . . . . . . . . . . . . . . . . . . . . . . . . . . . . . . . . . . . . . . . . . . . . . . . . . . . . . . . . . . . . . . . . . . . . . . . . . . . . . . . . . . . . . . . . . . . . . . . . . . . . . . . . . . . . . . . . . . . . . . . . . . . . . . . . . . . . . . . . . . . . . . . . . . . . . . . . . . . . . . . . . . . . . . c b f g c b f g c e c c b a h a c h c d c f d e f g d b e c b h d a a d g g g d g h c a h e a g e b b c h e a f b h d g g g e a b a e e b h a b f e b c e d f b d h f g b a a f g d h b b\n",
      ". . . . . . . . . . . . . . . . . . . . . . . . . . . . . . . . . . . . . . . . . . . . . . . . . . . . . . . . . . . . . . . . . . . . . . . . . . . . . . . . . . . . . . . . . . . . . . . . . . . . . . . . . . . . . . . . . . . . . . . . . . . . . . . . . . . . . . . . . . . . . . . . . . . . . . . . . . . . . . . . . . . . . . . . . . . . . . . . . . . . . . . . . . . . . . . . . . . . . . . . . . . . . . . . . . . . . . . . . . . . . . . . . . . . . . . . . . . . . . . . . . . . . . . . . . . . . . . . . . . . . . . . . . . . . . . . . . . . . . . . . . . . . . . . . . . . . . . . . . . . . . . . . . . . . . f g c b f g c e c c b a h a c h c d c f d e f g d b e c b h d a a d g g g d g h c a h e a g e b b c h e a f b h d g g g e a b a e e b h a b f e b c e d f b d h f g b a a f g d h b b\n",
      ". . . . . . . . . . . . . . . . . . . . . . . . . . . . . . . . . . . . . . . . . . . . . . . . . . . . . . . . . . . . . . . . . . . . . . . . . . . . . . . . . . . . . . . . . . . . . . . . . . . . . . . . . . . . . . . . . . . . . . . . . . . . . . . . . . . . . . . . . . . . . . . . . . . . . . . . . . . . . . . . . . . . . . . . . . . . . . . . . . . . . . . . . . . . . . . . . . . . . . . . . . . . . . . . . . . . . . . . . . . . . . . . . . . . . . . . . . . . . . . . . . . . . . . . . . . . . . . . . . . . . . . . . . . . . . . . . . . . . . . . . . . . . . . . . . . . . . . . . . . . . . . . . . . . . . . g c b f g c e c c b a h a c h c d c f d e f g d b e c b h d a a d g g g d g h c a h e a g e b b c h e a f b h d g g g e a b a e e b h a b f e b c e d f b d h f g b a a f g d h b b\n",
      ". . . . . . . . . . . . . . . . . . . . . . . . . . . . . . . . . . . . . . . . . . . . . . . . . . . . . . . . . . . . . . . . . . . . . . . . . . . . . . . . . . . . . . . . . . . . . . . . . . . . . . . . . . . . . . . . . . . . . . . . . . . . . . . . . . . . . . . . . . . . . . . . . . . . . . . . . . . . . . . . . . . . . . . . . . . . . . . . . . . . . . . . . . . . . . . . . . . . . . . . . . . . . . . . . . . . . . . . . . . . . . . . . . . . . . . . . . . . . . . . . . . . . . . . . . . . . . . . . . . . . . . . . . . . . . . . . . . . . . . . . . . . . . . . . . . . . . . . . . . . . . . . . . . . . . . . . . . . . e c c b a h a c h c d c f d e f g d b e c b h d a a d g g g d g h c a h e a g e b b c h e a f b h d g g g e a b a e e b h a b f e b c e d f b d h f g b a a f g d h b b\n",
      ". . . . . . . . . . . . . . . . . . . . . . . . . . . . . . . . . . . . . . . . . . . . . . . . . . . . . . . . . . . . . . . . . . . . . . . . . . . . . . . . . . . . . . . . . . . . . . . . . . . . . . . . . . . . . . . . . . . . . . . . . . . . . . . . . . . . . . . . . . . . . . . . . . . . . . . . . . . . . . . . . . . . . . . . . . . . . . . . . . . . . . . . . . . . . . . . . . . . . . . . . . . . . . . . . . . . . . . . . . . . . . . . . . . . . . . . . . . . . . . . . . . . . . . . . . . . . . . . . . . . . . . . . . . . . . . . . . . . . . . . . . . . . . . . . . . . . . . . . . . . . . . . . . . . . . . . . . . . . . . . . . h a c h c d c f d e f g d b e c b h d a a d g g g d g h c a h e a g e b b c h e a f b h d g g g e a b a e e b h a b f e b c e d f b d h f g b a a f g d h b b\n",
      ". . . . . . . . . . . . . . . . . . . . . . . . . . . . . . . . . . . . . . . . . . . . . . . . . . . . . . . . . . . . . . . . . . . . . . . . . . . . . . . . . . . . . . . . . . . . . . . . . . . . . . . . . . . . . . . . . . . . . . . . . . . . . . . . . . . . . . . . . . . . . . . . . . . . . . . . . . . . . . . . . . . . . . . . . . . . . . . . . . . . . . . . . . . . . . . . . . . . . . . . . . . . . . . . . . . . . . . . . . . . . . . . . . . . . . . . . . . . . . . . . . . . . . . . . . . . . . . . . . . . . . . . . . . . . . . . . . . . . . . . . . . . . . . . . . . . . . . . . . . . . . . . . . . . . . . . . . . . . . . . . . . . c h c d c f d e f g d b e c b h d a a d g g g d g h c a h e a g e b b c h e a f b h d g g g e a b a e e b h a b f e b c e d f b d h f g b a a f g d h b b\n",
      ". . . . . . . . . . . . . . . . . . . . . . . . . . . . . . . . . . . . . . . . . . . . . . . . . . . . . . . . . . . . . . . . . . . . . . . . . . . . . . . . . . . . . . . . . . . . . . . . . . . . . . . . . . . . . . . . . . . . . . . . . . . . . . . . . . . . . . . . . . . . . . . . . . . . . . . . . . . . . . . . . . . . . . . . . . . . . . . . . . . . . . . . . . . . . . . . . . . . . . . . . . . . . . . . . . . . . . . . . . . . . . . . . . . . . . . . . . . . . . . . . . . . . . . . . . . . . . . . . . . . . . . . . . . . . . . . . . . . . . . . . . . . . . . . . . . . . . . . . . . . . . . . . . . . . . . . . . . . . . . . . . . . . . . . . . . e f g d b e c b h d a a d g g g d g h c a h e a g e b b c h e a f b h d g g g e a b a e e b h a b f e b c e d f b d h f g b a a f g d h b b\n",
      ". . . . . . . . . . . . . . . . . . . . . . . . . . . . . . . . . . . . . . . . . . . . . . . . . . . . . . . . . . . . . . . . . . . . . . . . . . . . . . . . . . . . . . . . . . . . . . . . . . . . . . . . . . . . . . . . . . . . . . . . . . . . . . . . . . . . . . . . . . . . . . . . . . . . . . . . . . . . . . . . . . . . . . . . . . . . . . . . . . . . . . . . . . . . . . . . . . . . . . . . . . . . . . . . . . . . . . . . . . . . . . . . . . . . . . . . . . . . . . . . . . . . . . . . . . . . . . . . . . . . . . . . . . . . . . . . . . . . . . . . . . . . . . . . . . . . . . . . . . . . . . . . . . . . . . . . . . . . . . . . . . . . . . . . . . . . . g d b e c b h d a a d g g g d g h c a h e a g e b b c h e a f b h d g g g e a b a e e b h a b f e b c e d f b d h f g b a a f g d h b b\n",
      ". . . . . . . . . . . . . . . . . . . . . . . . . . . . . . . . . . . . . . . . . . . . . . . . . . . . . . . . . . . . . . . . . . . . . . . . . . . . . . . . . . . . . . . . . . . . . . . . . . . . . . . . . . . . . . . . . . . . . . . . . . . . . . . . . . . . . . . . . . . . . . . . . . . . . . . . . . . . . . . . . . . . . . . . . . . . . . . . . . . . . . . . . . . . . . . . . . . . . . . . . . . . . . . . . . . . . . . . . . . . . . . . . . . . . . . . . . . . . . . . . . . . . . . . . . . . . . . . . . . . . . . . . . . . . . . . . . . . . . . . . . . . . . . . . . . . . . . . . . . . . . . . . . . . . . . . . . . . . . . . . . . . . . . . . . . . . . . . . c b h d a a d g g g d g h c a h e a g e b b c h e a f b h d g g g e a b a e e b h a b f e b c e d f b d h f g b a a f g d h b b\n",
      ". . . . . . . . . . . . . . . . . . . . . . . . . . . . . . . . . . . . . . . . . . . . . . . . . . . . . . . . . . . . . . . . . . . . . . . . . . . . . . . . . . . . . . . . . . . . . . . . . . . . . . . . . . . . . . . . . . . . . . . . . . . . . . . . . . . . . . . . . . . . . . . . . . . . . . . . . . . . . . . . . . . . . . . . . . . . . . . . . . . . . . . . . . . . . . . . . . . . . . . . . . . . . . . . . . . . . . . . . . . . . . . . . . . . . . . . . . . . . . . . . . . . . . . . . . . . . . . . . . . . . . . . . . . . . . . . . . . . . . . . . . . . . . . . . . . . . . . . . . . . . . . . . . . . . . . . . . . . . . . . . . . . . . . . . . . . . . . . . . b h d a a d g g g d g h c a h e a g e b b c h e a f b h d g g g e a b a e e b h a b f e b c e d f b d h f g b a a f g d h b b\n",
      ". . . . . . . . . . . . . . . . . . . . . . . . . . . . . . . . . . . . . . . . . . . . . . . . . . . . . . . . . . . . . . . . . . . . . . . . . . . . . . . . . . . . . . . . . . . . . . . . . . . . . . . . . . . . . . . . . . . . . . . . . . . . . . . . . . . . . . . . . . . . . . . . . . . . . . . . . . . . . . . . . . . . . . . . . . . . . . . . . . . . . . . . . . . . . . . . . . . . . . . . . . . . . . . . . . . . . . . . . . . . . . . . . . . . . . . . . . . . . . . . . . . . . . . . . . . . . . . . . . . . . . . . . . . . . . . . . . . . . . . . . . . . . . . . . . . . . . . . . . . . . . . . . . . . . . . . . . . . . . . . . . . . . . . . . . . . . . . . . . . . d a a d g g g d g h c a h e a g e b b c h e a f b h d g g g e a b a e e b h a b f e b c e d f b d h f g b a a f g d h b b\n",
      ". . . . . . . . . . . . . . . . . . . . . . . . . . . . . . . . . . . . . . . . . . . . . . . . . . . . . . . . . . . . . . . . . . . . . . . . . . . . . . . . . . . . . . . . . . . . . . . . . . . . . . . . . . . . . . . . . . . . . . . . . . . . . . . . . . . . . . . . . . . . . . . . . . . . . . . . . . . . . . . . . . . . . . . . . . . . . . . . . . . . . . . . . . . . . . . . . . . . . . . . . . . . . . . . . . . . . . . . . . . . . . . . . . . . . . . . . . . . . . . . . . . . . . . . . . . . . . . . . . . . . . . . . . . . . . . . . . . . . . . . . . . . . . . . . . . . . . . . . . . . . . . . . . . . . . . . . . . . . . . . . . . . . . . . . . . . . . . . . . . . . . . d g g g d g h c a h e a g e b b c h e a f b h d g g g e a b a e e b h a b f e b c e d f b d h f g b a a f g d h b b\n",
      ". . . . . . . . . . . . . . . . . . . . . . . . . . . . . . . . . . . . . . . . . . . . . . . . . . . . . . . . . . . . . . . . . . . . . . . . . . . . . . . . . . . . . . . . . . . . . . . . . . . . . . . . . . . . . . . . . . . . . . . . . . . . . . . . . . . . . . . . . . . . . . . . . . . . . . . . . . . . . . . . . . . . . . . . . . . . . . . . . . . . . . . . . . . . . . . . . . . . . . . . . . . . . . . . . . . . . . . . . . . . . . . . . . . . . . . . . . . . . . . . . . . . . . . . . . . . . . . . . . . . . . . . . . . . . . . . . . . . . . . . . . . . . . . . . . . . . . . . . . . . . . . . . . . . . . . . . . . . . . . . . . . . . . . . . . . . . . . . . . . . . . . . g g g d g h c a h e a g e b b c h e a f b h d g g g e a b a e e b h a b f e b c e d f b d h f g b a a f g d h b b\n",
      ". . . . . . . . . . . . . . . . . . . . . . . . . . . . . . . . . . . . . . . . . . . . . . . . . . . . . . . . . . . . . . . . . . . . . . . . . . . . . . . . . . . . . . . . . . . . . . . . . . . . . . . . . . . . . . . . . . . . . . . . . . . . . . . . . . . . . . . . . . . . . . . . . . . . . . . . . . . . . . . . . . . . . . . . . . . . . . . . . . . . . . . . . . . . . . . . . . . . . . . . . . . . . . . . . . . . . . . . . . . . . . . . . . . . . . . . . . . . . . . . . . . . . . . . . . . . . . . . . . . . . . . . . . . . . . . . . . . . . . . . . . . . . . . . . . . . . . . . . . . . . . . . . . . . . . . . . . . . . . . . . . . . . . . . . . . . . . . . . . . . . . . . . g g d g h c a h e a g e b b c h e a f b h d g g g e a b a e e b h a b f e b c e d f b d h f g b a a f g d h b b\n",
      ". . . . . . . . . . . . . . . . . . . . . . . . . . . . . . . . . . . . . . . . . . . . . . . . . . . . . . . . . . . . . . . . . . . . . . . . . . . . . . . . . . . . . . . . . . . . . . . . . . . . . . . . . . . . . . . . . . . . . . . . . . . . . . . . . . . . . . . . . . . . . . . . . . . . . . . . . . . . . . . . . . . . . . . . . . . . . . . . . . . . . . . . . . . . . . . . . . . . . . . . . . . . . . . . . . . . . . . . . . . . . . . . . . . . . . . . . . . . . . . . . . . . . . . . . . . . . . . . . . . . . . . . . . . . . . . . . . . . . . . . . . . . . . . . . . . . . . . . . . . . . . . . . . . . . . . . . . . . . . . . . . . . . . . . . . . . . . . . . . . . . . . . . . . . . h c a h e a g e b b c h e a f b h d g g g e a b a e e b h a b f e b c e d f b d h f g b a a f g d h b b\n",
      ". . . . . . . . . . . . . . . . . . . . . . . . . . . . . . . . . . . . . . . . . . . . . . . . . . . . . . . . . . . . . . . . . . . . . . . . . . . . . . . . . . . . . . . . . . . . . . . . . . . . . . . . . . . . . . . . . . . . . . . . . . . . . . . . . . . . . . . . . . . . . . . . . . . . . . . . . . . . . . . . . . . . . . . . . . . . . . . . . . . . . . . . . . . . . . . . . . . . . . . . . . . . . . . . . . . . . . . . . . . . . . . . . . . . . . . . . . . . . . . . . . . . . . . . . . . . . . . . . . . . . . . . . . . . . . . . . . . . . . . . . . . . . . . . . . . . . . . . . . . . . . . . . . . . . . . . . . . . . . . . . . . . . . . . . . . . . . . . . . . . . . . . . . . . . . . a h e a g e b b c h e a f b h d g g g e a b a e e b h a b f e b c e d f b d h f g b a a f g d h b b\n",
      ". . . . . . . . . . . . . . . . . . . . . . . . . . . . . . . . . . . . . . . . . . . . . . . . . . . . . . . . . . . . . . . . . . . . . . . . . . . . . . . . . . . . . . . . . . . . . . . . . . . . . . . . . . . . . . . . . . . . . . . . . . . . . . . . . . . . . . . . . . . . . . . . . . . . . . . . . . . . . . . . . . . . . . . . . . . . . . . . . . . . . . . . . . . . . . . . . . . . . . . . . . . . . . . . . . . . . . . . . . . . . . . . . . . . . . . . . . . . . . . . . . . . . . . . . . . . . . . . . . . . . . . . . . . . . . . . . . . . . . . . . . . . . . . . . . . . . . . . . . . . . . . . . . . . . . . . . . . . . . . . . . . . . . . . . . . . . . . . . . . . . . . . . . . . . . . . . e a g e b b c h e a f b h d g g g e a b a e e b h a b f e b c e d f b d h f g b a a f g d h b b\n",
      ". . . . . . . . . . . . . . . . . . . . . . . . . . . . . . . . . . . . . . . . . . . . . . . . . . . . . . . . . . . . . . . . . . . . . . . . . . . . . . . . . . . . . . . . . . . . . . . . . . . . . . . . . . . . . . . . . . . . . . . . . . . . . . . . . . . . . . . . . . . . . . . . . . . . . . . . . . . . . . . . . . . . . . . . . . . . . . . . . . . . . . . . . . . . . . . . . . . . . . . . . . . . . . . . . . . . . . . . . . . . . . . . . . . . . . . . . . . . . . . . . . . . . . . . . . . . . . . . . . . . . . . . . . . . . . . . . . . . . . . . . . . . . . . . . . . . . . . . . . . . . . . . . . . . . . . . . . . . . . . . . . . . . . . . . . . . . . . . . . . . . . . . . . . . . . . . . . . g e b b c h e a f b h d g g g e a b a e e b h a b f e b c e d f b d h f g b a a f g d h b b\n",
      ". . . . . . . . . . . . . . . . . . . . . . . . . . . . . . . . . . . . . . . . . . . . . . . . . . . . . . . . . . . . . . . . . . . . . . . . . . . . . . . . . . . . . . . . . . . . . . . . . . . . . . . . . . . . . . . . . . . . . . . . . . . . . . . . . . . . . . . . . . . . . . . . . . . . . . . . . . . . . . . . . . . . . . . . . . . . . . . . . . . . . . . . . . . . . . . . . . . . . . . . . . . . . . . . . . . . . . . . . . . . . . . . . . . . . . . . . . . . . . . . . . . . . . . . . . . . . . . . . . . . . . . . . . . . . . . . . . . . . . . . . . . . . . . . . . . . . . . . . . . . . . . . . . . . . . . . . . . . . . . . . . . . . . . . . . . . . . . . . . . . . . . . . . . . . . . . . . . . . b b c h e a f b h d g g g e a b a e e b h a b f e b c e d f b d h f g b a a f g d h b b\n",
      ". . . . . . . . . . . . . . . . . . . . . . . . . . . . . . . . . . . . . . . . . . . . . . . . . . . . . . . . . . . . . . . . . . . . . . . . . . . . . . . . . . . . . . . . . . . . . . . . . . . . . . . . . . . . . . . . . . . . . . . . . . . . . . . . . . . . . . . . . . . . . . . . . . . . . . . . . . . . . . . . . . . . . . . . . . . . . . . . . . . . . . . . . . . . . . . . . . . . . . . . . . . . . . . . . . . . . . . . . . . . . . . . . . . . . . . . . . . . . . . . . . . . . . . . . . . . . . . . . . . . . . . . . . . . . . . . . . . . . . . . . . . . . . . . . . . . . . . . . . . . . . . . . . . . . . . . . . . . . . . . . . . . . . . . . . . . . . . . . . . . . . . . . . . . . . . . . . . . . . b c h e a f b h d g g g e a b a e e b h a b f e b c e d f b d h f g b a a f g d h b b\n",
      ". . . . . . . . . . . . . . . . . . . . . . . . . . . . . . . . . . . . . . . . . . . . . . . . . . . . . . . . . . . . . . . . . . . . . . . . . . . . . . . . . . . . . . . . . . . . . . . . . . . . . . . . . . . . . . . . . . . . . . . . . . . . . . . . . . . . . . . . . . . . . . . . . . . . . . . . . . . . . . . . . . . . . . . . . . . . . . . . . . . . . . . . . . . . . . . . . . . . . . . . . . . . . . . . . . . . . . . . . . . . . . . . . . . . . . . . . . . . . . . . . . . . . . . . . . . . . . . . . . . . . . . . . . . . . . . . . . . . . . . . . . . . . . . . . . . . . . . . . . . . . . . . . . . . . . . . . . . . . . . . . . . . . . . . . . . . . . . . . . . . . . . . . . . . . . . . . . . . . . . c h e a f b h d g g g e a b a e e b h a b f e b c e d f b d h f g b a a f g d h b b\n",
      ". . . . . . . . . . . . . . . . . . . . . . . . . . . . . . . . . . . . . . . . . . . . . . . . . . . . . . . . . . . . . . . . . . . . . . . . . . . . . . . . . . . . . . . . . . . . . . . . . . . . . . . . . . . . . . . . . . . . . . . . . . . . . . . . . . . . . . . . . . . . . . . . . . . . . . . . . . . . . . . . . . . . . . . . . . . . . . . . . . . . . . . . . . . . . . . . . . . . . . . . . . . . . . . . . . . . . . . . . . . . . . . . . . . . . . . . . . . . . . . . . . . . . . . . . . . . . . . . . . . . . . . . . . . . . . . . . . . . . . . . . . . . . . . . . . . . . . . . . . . . . . . . . . . . . . . . . . . . . . . . . . . . . . . . . . . . . . . . . . . . . . . . . . . . . . . . . . . . . . . . . e a f b h d g g g e a b a e e b h a b f e b c e d f b d h f g b a a f g d h b b\n",
      ". . . . . . . . . . . . . . . . . . . . . . . . . . . . . . . . . . . . . . . . . . . . . . . . . . . . . . . . . . . . . . . . . . . . . . . . . . . . . . . . . . . . . . . . . . . . . . . . . . . . . . . . . . . . . . . . . . . . . . . . . . . . . . . . . . . . . . . . . . . . . . . . . . . . . . . . . . . . . . . . . . . . . . . . . . . . . . . . . . . . . . . . . . . . . . . . . . . . . . . . . . . . . . . . . . . . . . . . . . . . . . . . . . . . . . . . . . . . . . . . . . . . . . . . . . . . . . . . . . . . . . . . . . . . . . . . . . . . . . . . . . . . . . . . . . . . . . . . . . . . . . . . . . . . . . . . . . . . . . . . . . . . . . . . . . . . . . . . . . . . . . . . . . . . . . . . . . . . . . . . . . a f b h d g g g e a b a e e b h a b f e b c e d f b d h f g b a a f g d h b b\n",
      ". . . . . . . . . . . . . . . . . . . . . . . . . . . . . . . . . . . . . . . . . . . . . . . . . . . . . . . . . . . . . . . . . . . . . . . . . . . . . . . . . . . . . . . . . . . . . . . . . . . . . . . . . . . . . . . . . . . . . . . . . . . . . . . . . . . . . . . . . . . . . . . . . . . . . . . . . . . . . . . . . . . . . . . . . . . . . . . . . . . . . . . . . . . . . . . . . . . . . . . . . . . . . . . . . . . . . . . . . . . . . . . . . . . . . . . . . . . . . . . . . . . . . . . . . . . . . . . . . . . . . . . . . . . . . . . . . . . . . . . . . . . . . . . . . . . . . . . . . . . . . . . . . . . . . . . . . . . . . . . . . . . . . . . . . . . . . . . . . . . . . . . . . . . . . . . . . . . . . . . . . . . f b h d g g g e a b a e e b h a b f e b c e d f b d h f g b a a f g d h b b\n",
      ". . . . . . . . . . . . . . . . . . . . . . . . . . . . . . . . . . . . . . . . . . . . . . . . . . . . . . . . . . . . . . . . . . . . . . . . . . . . . . . . . . . . . . . . . . . . . . . . . . . . . . . . . . . . . . . . . . . . . . . . . . . . . . . . . . . . . . . . . . . . . . . . . . . . . . . . . . . . . . . . . . . . . . . . . . . . . . . . . . . . . . . . . . . . . . . . . . . . . . . . . . . . . . . . . . . . . . . . . . . . . . . . . . . . . . . . . . . . . . . . . . . . . . . . . . . . . . . . . . . . . . . . . . . . . . . . . . . . . . . . . . . . . . . . . . . . . . . . . . . . . . . . . . . . . . . . . . . . . . . . . . . . . . . . . . . . . . . . . . . . . . . . . . . . . . . . . . . . . . . . . . . . . . d g g g e a b a e e b h a b f e b c e d f b d h f g b a a f g d h b b\n",
      ". . . . . . . . . . . . . . . . . . . . . . . . . . . . . . . . . . . . . . . . . . . . . . . . . . . . . . . . . . . . . . . . . . . . . . . . . . . . . . . . . . . . . . . . . . . . . . . . . . . . . . . . . . . . . . . . . . . . . . . . . . . . . . . . . . . . . . . . . . . . . . . . . . . . . . . . . . . . . . . . . . . . . . . . . . . . . . . . . . . . . . . . . . . . . . . . . . . . . . . . . . . . . . . . . . . . . . . . . . . . . . . . . . . . . . . . . . . . . . . . . . . . . . . . . . . . . . . . . . . . . . . . . . . . . . . . . . . . . . . . . . . . . . . . . . . . . . . . . . . . . . . . . . . . . . . . . . . . . . . . . . . . . . . . . . . . . . . . . . . . . . . . . . . . . . . . . . . . . . . . . . . . . . . g g g e a b a e e b h a b f e b c e d f b d h f g b a a f g d h b b\n",
      ". . . . . . . . . . . . . . . . . . . . . . . . . . . . . . . . . . . . . . . . . . . . . . . . . . . . . . . . . . . . . . . . . . . . . . . . . . . . . . . . . . . . . . . . . . . . . . . . . . . . . . . . . . . . . . . . . . . . . . . . . . . . . . . . . . . . . . . . . . . . . . . . . . . . . . . . . . . . . . . . . . . . . . . . . . . . . . . . . . . . . . . . . . . . . . . . . . . . . . . . . . . . . . . . . . . . . . . . . . . . . . . . . . . . . . . . . . . . . . . . . . . . . . . . . . . . . . . . . . . . . . . . . . . . . . . . . . . . . . . . . . . . . . . . . . . . . . . . . . . . . . . . . . . . . . . . . . . . . . . . . . . . . . . . . . . . . . . . . . . . . . . . . . . . . . . . . . . . . . . . . . . . . . . . g g e a b a e e b h a b f e b c e d f b d h f g b a a f g d h b b\n",
      ". . . . . . . . . . . . . . . . . . . . . . . . . . . . . . . . . . . . . . . . . . . . . . . . . . . . . . . . . . . . . . . . . . . . . . . . . . . . . . . . . . . . . . . . . . . . . . . . . . . . . . . . . . . . . . . . . . . . . . . . . . . . . . . . . . . . . . . . . . . . . . . . . . . . . . . . . . . . . . . . . . . . . . . . . . . . . . . . . . . . . . . . . . . . . . . . . . . . . . . . . . . . . . . . . . . . . . . . . . . . . . . . . . . . . . . . . . . . . . . . . . . . . . . . . . . . . . . . . . . . . . . . . . . . . . . . . . . . . . . . . . . . . . . . . . . . . . . . . . . . . . . . . . . . . . . . . . . . . . . . . . . . . . . . . . . . . . . . . . . . . . . . . . . . . . . . . . . . . . . . . . . . . . . . . . e a b a e e b h a b f e b c e d f b d h f g b a a f g d h b b\n",
      ". . . . . . . . . . . . . . . . . . . . . . . . . . . . . . . . . . . . . . . . . . . . . . . . . . . . . . . . . . . . . . . . . . . . . . . . . . . . . . . . . . . . . . . . . . . . . . . . . . . . . . . . . . . . . . . . . . . . . . . . . . . . . . . . . . . . . . . . . . . . . . . . . . . . . . . . . . . . . . . . . . . . . . . . . . . . . . . . . . . . . . . . . . . . . . . . . . . . . . . . . . . . . . . . . . . . . . . . . . . . . . . . . . . . . . . . . . . . . . . . . . . . . . . . . . . . . . . . . . . . . . . . . . . . . . . . . . . . . . . . . . . . . . . . . . . . . . . . . . . . . . . . . . . . . . . . . . . . . . . . . . . . . . . . . . . . . . . . . . . . . . . . . . . . . . . . . . . . . . . . . . . . . . . . . . . a b a e e b h a b f e b c e d f b d h f g b a a f g d h b b\n",
      ". . . . . . . . . . . . . . . . . . . . . . . . . . . . . . . . . . . . . . . . . . . . . . . . . . . . . . . . . . . . . . . . . . . . . . . . . . . . . . . . . . . . . . . . . . . . . . . . . . . . . . . . . . . . . . . . . . . . . . . . . . . . . . . . . . . . . . . . . . . . . . . . . . . . . . . . . . . . . . . . . . . . . . . . . . . . . . . . . . . . . . . . . . . . . . . . . . . . . . . . . . . . . . . . . . . . . . . . . . . . . . . . . . . . . . . . . . . . . . . . . . . . . . . . . . . . . . . . . . . . . . . . . . . . . . . . . . . . . . . . . . . . . . . . . . . . . . . . . . . . . . . . . . . . . . . . . . . . . . . . . . . . . . . . . . . . . . . . . . . . . . . . . . . . . . . . . . . . . . . . . . . . . . . . . . . . . . e e b h a b f e b c e d f b d h f g b a a f g d h b b\n",
      ". . . . . . . . . . . . . . . . . . . . . . . . . . . . . . . . . . . . . . . . . . . . . . . . . . . . . . . . . . . . . . . . . . . . . . . . . . . . . . . . . . . . . . . . . . . . . . . . . . . . . . . . . . . . . . . . . . . . . . . . . . . . . . . . . . . . . . . . . . . . . . . . . . . . . . . . . . . . . . . . . . . . . . . . . . . . . . . . . . . . . . . . . . . . . . . . . . . . . . . . . . . . . . . . . . . . . . . . . . . . . . . . . . . . . . . . . . . . . . . . . . . . . . . . . . . . . . . . . . . . . . . . . . . . . . . . . . . . . . . . . . . . . . . . . . . . . . . . . . . . . . . . . . . . . . . . . . . . . . . . . . . . . . . . . . . . . . . . . . . . . . . . . . . . . . . . . . . . . . . . . . . . . . . . . . . . . . . . b h a b f e b c e d f b d h f g b a a f g d h b b\n",
      ". . . . . . . . . . . . . . . . . . . . . . . . . . . . . . . . . . . . . . . . . . . . . . . . . . . . . . . . . . . . . . . . . . . . . . . . . . . . . . . . . . . . . . . . . . . . . . . . . . . . . . . . . . . . . . . . . . . . . . . . . . . . . . . . . . . . . . . . . . . . . . . . . . . . . . . . . . . . . . . . . . . . . . . . . . . . . . . . . . . . . . . . . . . . . . . . . . . . . . . . . . . . . . . . . . . . . . . . . . . . . . . . . . . . . . . . . . . . . . . . . . . . . . . . . . . . . . . . . . . . . . . . . . . . . . . . . . . . . . . . . . . . . . . . . . . . . . . . . . . . . . . . . . . . . . . . . . . . . . . . . . . . . . . . . . . . . . . . . . . . . . . . . . . . . . . . . . . . . . . . . . . . . . . . . . . . . . . . . h a b f e b c e d f b d h f g b a a f g d h b b\n",
      ". . . . . . . . . . . . . . . . . . . . . . . . . . . . . . . . . . . . . . . . . . . . . . . . . . . . . . . . . . . . . . . . . . . . . . . . . . . . . . . . . . . . . . . . . . . . . . . . . . . . . . . . . . . . . . . . . . . . . . . . . . . . . . . . . . . . . . . . . . . . . . . . . . . . . . . . . . . . . . . . . . . . . . . . . . . . . . . . . . . . . . . . . . . . . . . . . . . . . . . . . . . . . . . . . . . . . . . . . . . . . . . . . . . . . . . . . . . . . . . . . . . . . . . . . . . . . . . . . . . . . . . . . . . . . . . . . . . . . . . . . . . . . . . . . . . . . . . . . . . . . . . . . . . . . . . . . . . . . . . . . . . . . . . . . . . . . . . . . . . . . . . . . . . . . . . . . . . . . . . . . . . . . . . . . . . . . . . . . . . b f e b c e d f b d h f g b a a f g d h b b\n",
      ". . . . . . . . . . . . . . . . . . . . . . . . . . . . . . . . . . . . . . . . . . . . . . . . . . . . . . . . . . . . . . . . . . . . . . . . . . . . . . . . . . . . . . . . . . . . . . . . . . . . . . . . . . . . . . . . . . . . . . . . . . . . . . . . . . . . . . . . . . . . . . . . . . . . . . . . . . . . . . . . . . . . . . . . . . . . . . . . . . . . . . . . . . . . . . . . . . . . . . . . . . . . . . . . . . . . . . . . . . . . . . . . . . . . . . . . . . . . . . . . . . . . . . . . . . . . . . . . . . . . . . . . . . . . . . . . . . . . . . . . . . . . . . . . . . . . . . . . . . . . . . . . . . . . . . . . . . . . . . . . . . . . . . . . . . . . . . . . . . . . . . . . . . . . . . . . . . . . . . . . . . . . . . . . . . . . . . . . . . . . . . b c e d f b d h f g b a a f g d h b b\n",
      ". . . . . . . . . . . . . . . . . . . . . . . . . . . . . . . . . . . . . . . . . . . . . . . . . . . . . . . . . . . . . . . . . . . . . . . . . . . . . . . . . . . . . . . . . . . . . . . . . . . . . . . . . . . . . . . . . . . . . . . . . . . . . . . . . . . . . . . . . . . . . . . . . . . . . . . . . . . . . . . . . . . . . . . . . . . . . . . . . . . . . . . . . . . . . . . . . . . . . . . . . . . . . . . . . . . . . . . . . . . . . . . . . . . . . . . . . . . . . . . . . . . . . . . . . . . . . . . . . . . . . . . . . . . . . . . . . . . . . . . . . . . . . . . . . . . . . . . . . . . . . . . . . . . . . . . . . . . . . . . . . . . . . . . . . . . . . . . . . . . . . . . . . . . . . . . . . . . . . . . . . . . . . . . . . . . . . . . . . . . . . . . . e d f b d h f g b a a f g d h b b\n",
      ". . . . . . . . . . . . . . . . . . . . . . . . . . . . . . . . . . . . . . . . . . . . . . . . . . . . . . . . . . . . . . . . . . . . . . . . . . . . . . . . . . . . . . . . . . . . . . . . . . . . . . . . . . . . . . . . . . . . . . . . . . . . . . . . . . . . . . . . . . . . . . . . . . . . . . . . . . . . . . . . . . . . . . . . . . . . . . . . . . . . . . . . . . . . . . . . . . . . . . . . . . . . . . . . . . . . . . . . . . . . . . . . . . . . . . . . . . . . . . . . . . . . . . . . . . . . . . . . . . . . . . . . . . . . . . . . . . . . . . . . . . . . . . . . . . . . . . . . . . . . . . . . . . . . . . . . . . . . . . . . . . . . . . . . . . . . . . . . . . . . . . . . . . . . . . . . . . . . . . . . . . . . . . . . . . . . . . . . . . . . . . . . . . f b d h f g b a a f g d h b b\n",
      ". . . . . . . . . . . . . . . . . . . . . . . . . . . . . . . . . . . . . . . . . . . . . . . . . . . . . . . . . . . . . . . . . . . . . . . . . . . . . . . . . . . . . . . . . . . . . . . . . . . . . . . . . . . . . . . . . . . . . . . . . . . . . . . . . . . . . . . . . . . . . . . . . . . . . . . . . . . . . . . . . . . . . . . . . . . . . . . . . . . . . . . . . . . . . . . . . . . . . . . . . . . . . . . . . . . . . . . . . . . . . . . . . . . . . . . . . . . . . . . . . . . . . . . . . . . . . . . . . . . . . . . . . . . . . . . . . . . . . . . . . . . . . . . . . . . . . . . . . . . . . . . . . . . . . . . . . . . . . . . . . . . . . . . . . . . . . . . . . . . . . . . . . . . . . . . . . . . . . . . . . . . . . . . . . . . . . . . . . . . . . . . . . . . . . . . g b a a f g d h b b\n",
      ". . . . . . . . . . . . . . . . . . . . . . . . . . . . . . . . . . . . . . . . . . . . . . . . . . . . . . . . . . . . . . . . . . . . . . . . . . . . . . . . . . . . . . . . . . . . . . . . . . . . . . . . . . . . . . . . . . . . . . . . . . . . . . . . . . . . . . . . . . . . . . . . . . . . . . . . . . . . . . . . . . . . . . . . . . . . . . . . . . . . . . . . . . . . . . . . . . . . . . . . . . . . . . . . . . . . . . . . . . . . . . . . . . . . . . . . . . . . . . . . . . . . . . . . . . . . . . . . . . . . . . . . . . . . . . . . . . . . . . . . . . . . . . . . . . . . . . . . . . . . . . . . . . . . . . . . . . . . . . . . . . . . . . . . . . . . . . . . . . . . . . . . . . . . . . . . . . . . . . . . . . . . . . . . . . . . . . . . . . . . . . . . . . . . . . . . . a a f g d h b b\n",
      ". . . . . . . . . . . . . . . . . . . . . . . . . . . . . . . . . . . . . . . . . . . . . . . . . . . . . . . . . . . . . . . . . . . . . . . . . . . . . . . . . . . . . . . . . . . . . . . . . . . . . . . . . . . . . . . . . . . . . . . . . . . . . . . . . . . . . . . . . . . . . . . . . . . . . . . . . . . . . . . . . . . . . . . . . . . . . . . . . . . . . . . . . . . . . . . . . . . . . . . . . . . . . . . . . . . . . . . . . . . . . . . . . . . . . . . . . . . . . . . . . . . . . . . . . . . . . . . . . . . . . . . . . . . . . . . . . . . . . . . . . . . . . . . . . . . . . . . . . . . . . . . . . . . . . . . . . . . . . . . . . . . . . . . . . . . . . . . . . . . . . . . . . . . . . . . . . . . . . . . . . . . . . . . . . . . . . . . . . . . . . . . . . . . . . . . . . . a f g d h b b\n",
      ". . . . . . . . . . . . . . . . . . . . . . . . . . . . . . . . . . . . . . . . . . . . . . . . . . . . . . . . . . . . . . . . . . . . . . . . . . . . . . . . . . . . . . . . . . . . . . . . . . . . . . . . . . . . . . . . . . . . . . . . . . . . . . . . . . . . . . . . . . . . . . . . . . . . . . . . . . . . . . . . . . . . . . . . . . . . . . . . . . . . . . . . . . . . . . . . . . . . . . . . . . . . . . . . . . . . . . . . . . . . . . . . . . . . . . . . . . . . . . . . . . . . . . . . . . . . . . . . . . . . . . . . . . . . . . . . . . . . . . . . . . . . . . . . . . . . . . . . . . . . . . . . . . . . . . . . . . . . . . . . . . . . . . . . . . . . . . . . . . . . . . . . . . . . . . . . . . . . . . . . . . . . . . . . . . . . . . . . . . . . . . . . . . . . . . . . . . . f g d h b b\n",
      ". . . . . . . . . . . . . . . . . . . . . . . . . . . . . . . . . . . . . . . . . . . . . . . . . . . . . . . . . . . . . . . . . . . . . . . . . . . . . . . . . . . . . . . . . . . . . . . . . . . . . . . . . . . . . . . . . . . . . . . . . . . . . . . . . . . . . . . . . . . . . . . . . . . . . . . . . . . . . . . . . . . . . . . . . . . . . . . . . . . . . . . . . . . . . . . . . . . . . . . . . . . . . . . . . . . . . . . . . . . . . . . . . . . . . . . . . . . . . . . . . . . . . . . . . . . . . . . . . . . . . . . . . . . . . . . . . . . . . . . . . . . . . . . . . . . . . . . . . . . . . . . . . . . . . . . . . . . . . . . . . . . . . . . . . . . . . . . . . . . . . . . . . . . . . . . . . . . . . . . . . . . . . . . . . . . . . . . . . . . . . . . . . . . . . . . . . . . . g d h b b\n",
      ". . . . . . . . . . . . . . . . . . . . . . . . . . . . . . . . . . . . . . . . . . . . . . . . . . . . . . . . . . . . . . . . . . . . . . . . . . . . . . . . . . . . . . . . . . . . . . . . . . . . . . . . . . . . . . . . . . . . . . . . . . . . . . . . . . . . . . . . . . . . . . . . . . . . . . . . . . . . . . . . . . . . . . . . . . . . . . . . . . . . . . . . . . . . . . . . . . . . . . . . . . . . . . . . . . . . . . . . . . . . . . . . . . . . . . . . . . . . . . . . . . . . . . . . . . . . . . . . . . . . . . . . . . . . . . . . . . . . . . . . . . . . . . . . . . . . . . . . . . . . . . . . . . . . . . . . . . . . . . . . . . . . . . . . . . . . . . . . . . . . . . . . . . . . . . . . . . . . . . . . . . . . . . . . . . . . . . . . . . . . . . . . . . . . . . . . . . . . . d h b b\n",
      ". . . . . . . . . . . . . . . . . . . . . . . . . . . . . . . . . . . . . . . . . . . . . . . . . . . . . . . . . . . . . . . . . . . . . . . . . . . . . . . . . . . . . . . . . . . . . . . . . . . . . . . . . . . . . . . . . . . . . . . . . . . . . . . . . . . . . . . . . . . . . . . . . . . . . . . . . . . . . . . . . . . . . . . . . . . . . . . . . . . . . . . . . . . . . . . . . . . . . . . . . . . . . . . . . . . . . . . . . . . . . . . . . . . . . . . . . . . . . . . . . . . . . . . . . . . . . . . . . . . . . . . . . . . . . . . . . . . . . . . . . . . . . . . . . . . . . . . . . . . . . . . . . . . . . . . . . . . . . . . . . . . . . . . . . . . . . . . . . . . . . . . . . . . . . . . . . . . . . . . . . . . . . . . . . . . . . . . . . . . . . . . . . . . . . . . . . . . . . . h b b\n",
      ". . . . . . . . . . . . . . . . . . . . . . . . . . . . . . . . . . . . . . . . . . . . . . . . . . . . . . . . . . . . . . . . . . . . . . . . . . . . . . . . . . . . . . . . . . . . . . . . . . . . . . . . . . . . . . . . . . . . . . . . . . . . . . . . . . . . . . . . . . . . . . . . . . . . . . . . . . . . . . . . . . . . . . . . . . . . . . . . . . . . . . . . . . . . . . . . . . . . . . . . . . . . . . . . . . . . . . . . . . . . . . . . . . . . . . . . . . . . . . . . . . . . . . . . . . . . . . . . . . . . . . . . . . . . . . . . . . . . . . . . . . . . . . . . . . . . . . . . . . . . . . . . . . . . . . . . . . . . . . . . . . . . . . . . . . . . . . . . . . . . . . . . . . . . . . . . . . . . . . . . . . . . . . . . . . . . . . . . . . . . . . . . . . . . . . . . . . . . . . . b b\n",
      ". . . . . . . . . . . . . . . . . . . . . . . . . . . . . . . . . . . . . . . . . . . . . . . . . . . . . . . . . . . . . . . . . . . . . . . . . . . . . . . . . . . . . . . . . . . . . . . . . . . . . . . . . . . . . . . . . . . . . . . . . . . . . . . . . . . . . . . . . . . . . . . . . . . . . . . . . . . . . . . . . . . . . . . . . . . . . . . . . . . . . . . . . . . . . . . . . . . . . . . . . . . . . . . . . . . . . . . . . . . . . . . . . . . . . . . . . . . . . . . . . . . . . . . . . . . . . . . . . . . . . . . . . . . . . . . . . . . . . . . . . . . . . . . . . . . . . . . . . . . . . . . . . . . . . . . . . . . . . . . . . . . . . . . . . . . . . . . . . . . . . . . . . . . . . . . . . . . . . . . . . . . . . . . . . . . . . . . . . . . . . . . . . . . . . . . . . . . . . . . . b\n",
      "CGDbHceCABHgfEGhAACAcchDggGGEEfgHGBcgegaeCaEcGDgeeEgGddHBAehbdfbggFGfhbfEbdHccdcGHcFabHcCCHBhfFcCDeHBBhghcghHHDDCDChfEdbaBaeACGdCGfhBGfeDBGcCedAcHBFDcHbbfaAegAGbdBGhafBCBEaaDFHGHGBaChhgEaHCBghGfhhfaHegfaEhDGhdbGCGeCGeeAFGafdAHFhdDeDbceGGCFHbFDDAbgfhhhgeHGFAdhfEBccffCbAEAecABEhGAbgDHFaADgaCEAdGEagdcDBHDfbcBCBfgCbFGcEccbahacHcdCfdEfGdbeCBhDaaDggGdGHcAhEaGeBBChEAFbhDgGGEabAeEBHaBfeBcEdfbdhFGbAAFGDHBB\n"
     ]
    }
   ],
   "source": [
    "v, bp, t = is_subseq(bills[0], bills[11], return_backpointers=True, return_table=True)\n",
    "print(show_annotated_table(t, bp))\n",
    "print(show_backtrace_s(bp))"
   ]
  },
  {
   "cell_type": "markdown",
   "metadata": {},
   "source": [
    "## Part 2"
   ]
  },
  {
   "cell_type": "code",
   "execution_count": 25,
   "metadata": {
    "collapsed": true
   },
   "outputs": [],
   "source": [
    "def is_interleave_recursive(s1, s2, s3):\n",
    "    if not s1:\n",
    "        return s2 == s3\n",
    "    elif not s2:\n",
    "        return s1 == s3\n",
    "    elif len(s1) + len(s2) != len(s3):\n",
    "        return False\n",
    "    else:\n",
    "        if s1[-1] == s3[-1] and s2[-1] == s3[-1]:\n",
    "            return (is_interleave_recursive(s1[:-1], s2, s3[:-1]) \n",
    "                    or \n",
    "                    is_interleave_recursive(s1, s2[:-1], s3[:-1]) )\n",
    "        elif s1[-1] == s3[-1]:\n",
    "            return is_interleave_recursive(s1[:-1], s2, s3[:-1])\n",
    "        elif s2[-1] == s3[-1]:\n",
    "            return is_interleave_recursive(s1, s2[:-1], s3[:-1])\n",
    "        else:\n",
    "            return False"
   ]
  },
  {
   "cell_type": "code",
   "execution_count": 26,
   "metadata": {
    "collapsed": true
   },
   "outputs": [],
   "source": [
    "def is_interleave(seq1, seq2, seq3, return_backpointers=False, return_table=False, debug=False):\n",
    "    \"\"\"Return true if seq3 is some interleaved merge of seq1 and seq2.\n",
    "    If return_backpointers, also return the set of backpointers to\n",
    "    reconstruct the interleaving\"\"\"\n",
    "    \n",
    "    # dp_table[i, j] is True if first i+j characters of seq is made up of \n",
    "    # an interleaving of the first i characters of seq1 and the \n",
    "    # first j characters of seq2\n",
    "    \n",
    "    if len(seq1) + len(seq2) != len(seq3):\n",
    "        if return_backpointers or return_table:\n",
    "            retval = [False]\n",
    "            if return_backpointers:\n",
    "                retval += [{}]\n",
    "            if return_table:\n",
    "                retval += [{}]\n",
    "            return tuple(retval)\n",
    "        else:\n",
    "            return False\n",
    "    \n",
    "    dp_table = {(i, j): False\n",
    "               for i in range(len(seq1)+1)\n",
    "               for j in range(len(seq2)+1)}\n",
    "\n",
    "    backpointers = {}\n",
    "\n",
    "    for i in range(len(seq1)+1):\n",
    "        for j in range(len(seq2)+1):\n",
    "            if i == 0 and j == 0:\n",
    "                dp_table[i, j] = True\n",
    "                if debug: print('xxxx', i, j, '!', '!', '!', dp_table[i, j])\n",
    "            elif i == 0:\n",
    "                # extend by character from seq2\n",
    "                if dp_table[i, j-1] and seq2[j-1] == seq3[i+j-1]:\n",
    "                    dp_table[i, j] = True\n",
    "                    backpointers[i, j] = (i, j-1, seq2[j-1], 'seq2')\n",
    "                if debug: print('seq2', i, j, '!', seq2[j-1], seq3[i+j-1], dp_table[i, j])\n",
    "            elif j == 0:\n",
    "                # extend by character from seq1\n",
    "                if dp_table[i-1, j] and seq1[i-1] == seq3[i+j-1]:\n",
    "                    dp_table[i, j] = True\n",
    "                    backpointers[i, j] = (i-1, j, seq1[i-1], 'seq1')\n",
    "                if debug: print('seq1', i, j, seq1[i-1], '!', seq3[i+j-1], dp_table[i, j])\n",
    "            else:\n",
    "                # extend by character from seq2\n",
    "                if dp_table[i, j-1] and seq2[j-1] == seq3[i+j-1]:\n",
    "                    dp_table[i, j] = True\n",
    "                    backpointers[i, j] = (i, j-1, seq2[j-1], 'seq2')\n",
    "                    if debug: print('seq2', i, j, seq1[i-1], seq2[j-1], seq3[i+j-1], dp_table[i, j])                \n",
    "                # extend by character from seq1\n",
    "                if dp_table[i-1, j] and seq1[i-1] == seq3[i+j-1]:\n",
    "                    dp_table[i, j] = True\n",
    "                    backpointers[i, j] = (i-1, j, seq1[i-1], 'seq1')                \n",
    "                    if debug: print('seq1', i, j, seq1[i-1], seq2[j-1], seq3[i+j-1], dp_table[i, j])\n",
    "                if not dp_table[i, j]:\n",
    "                    if debug: print('xxxx', i, j, seq1[i-1], seq2[j-1], seq3[i+j-1], dp_table[i, j])\n",
    "\n",
    "    if return_backpointers or return_table:\n",
    "        retval = [dp_table[len(seq1), len(seq2)]]\n",
    "        if return_backpointers:\n",
    "            retval += [backpointers]\n",
    "        if return_table:\n",
    "            retval += [dp_table]\n",
    "        return tuple(retval)\n",
    "    else:\n",
    "        return dp_table[len(seq1), len(seq2)]"
   ]
  },
  {
   "cell_type": "code",
   "execution_count": 27,
   "metadata": {
    "collapsed": true
   },
   "outputs": [],
   "source": [
    "def is_interleave_rows(seq1, seq2, seq3, return_backpointers=False, debug=False):\n",
    "    \"\"\"Return true if seq3 is some interleaved merge of seq1 and seq2.\n",
    "    If return_backpointers, also return the set of backpointers to\n",
    "    reconstruct the interleaving.\n",
    "    \n",
    "    This version doesn't build the whole table, just keeps the current and previous rows\"\"\"\n",
    "    \n",
    "    # dp_table[i, j] is True if first i+j characters of seq is made up of \n",
    "    # an interleaving of the first i characters of seq1 and the \n",
    "    # first j characters of seq2\n",
    "    \n",
    "    if len(seq1) + len(seq2) != len(seq3):\n",
    "        if return_backpointers:\n",
    "            retval = [False]\n",
    "            if return_backpointers:\n",
    "                retval += [{}]\n",
    "            return tuple(retval)\n",
    "        else:\n",
    "            return False\n",
    "    \n",
    "\n",
    "    backpointers = {}\n",
    "\n",
    "    for i in range(len(seq1)+1):\n",
    "        row = [False] * (len(seq2)+1)\n",
    "        for j in range(len(seq2)+1):\n",
    "            if i == 0 and j == 0:\n",
    "                row[j] = True\n",
    "                if debug: print('xxxx', i, j, '!', '!', '!', row[j])\n",
    "            elif i == 0:\n",
    "                # extend by character from seq2\n",
    "                if row[j-1] and seq2[j-1] == seq3[i+j-1]:\n",
    "                    row[j] = True\n",
    "                    backpointers[i, j] = (i, j-1, seq2[j-1], 'seq2')\n",
    "                if debug: print('seq2', i, j, '!', seq2[j-1], seq3[i+j-1], row[j])\n",
    "            elif j == 0:\n",
    "                # extend by character from seq1\n",
    "                if previous_row[j] and seq1[i-1] == seq3[i+j-1]:\n",
    "                    row[j] = True\n",
    "                    backpointers[i, j] = (i-1, j, seq1[i-1], 'seq1')\n",
    "                if debug: print('seq1', i, j, seq1[i-1], '!', seq3[i+j-1], row[j])\n",
    "            else:\n",
    "                # extend by character from seq2\n",
    "                if row[j-1] and seq2[j-1] == seq3[i+j-1]:\n",
    "                    row[j] = True\n",
    "                    backpointers[i, j] = (i, j-1, seq2[j-1], 'seq2')\n",
    "                    if debug: print('seq2', i, j, seq1[i-1], seq2[j-1], seq3[i+j-1], row[j])                \n",
    "                # extend by character from seq1\n",
    "                if previous_row[j] and seq1[i-1] == seq3[i+j-1]:\n",
    "                    row[j] = True\n",
    "                    backpointers[i, j] = (i-1, j, seq1[i-1], 'seq1')                \n",
    "                    if debug: print('seq1', i, j, seq1[i-1], seq2[j-1], seq3[i+j-1], row[j])\n",
    "                if not row[j]:\n",
    "                    if debug: print('xxxx', i, j, seq1[i-1], seq2[j-1], seq3[i+j-1], row[j])\n",
    "        previous_row = row\n",
    "\n",
    "    if return_backpointers:\n",
    "        retval = [row[-1]]\n",
    "        if return_backpointers:\n",
    "            retval += [backpointers]\n",
    "        return tuple(retval)\n",
    "    else:\n",
    "        return row[-1]"
   ]
  },
  {
   "cell_type": "code",
   "execution_count": 28,
   "metadata": {
    "collapsed": true
   },
   "outputs": [],
   "source": [
    "def is_interleave_rows2(seq1, seq2, seq3, return_backpointers=False, debug=False):\n",
    "    \"\"\"Return true if seq3 is some interleaved merge of seq1 and seq2.\n",
    "    If return_backpointers, also return the set of backpointers to\n",
    "    reconstruct the interleaving.\n",
    "    \n",
    "    This version doesn't keep the whole table, just the current and previous\n",
    "    rows. It also builds the current row as it goes along, rather than\n",
    "    building the whole row and updating elements as required.\"\"\"\n",
    "    \n",
    "    # dp_table[i, j] is True if first i+j characters of seq is made up of \n",
    "    # an interleaving of the first i characters of seq1 and the \n",
    "    # first j characters of seq2\n",
    "    \n",
    "    if len(seq1) + len(seq2) != len(seq3):\n",
    "        if return_backpointers:\n",
    "            retval = [False]\n",
    "            if return_backpointers:\n",
    "                retval += [{}]\n",
    "            return tuple(retval)\n",
    "        else:\n",
    "            return False\n",
    "    \n",
    "\n",
    "    backpointers = {}\n",
    "\n",
    "    for i in range(len(seq1)+1):\n",
    "        row = []\n",
    "        for j in range(len(seq2)+1):\n",
    "            if i == 0 and j == 0:\n",
    "                row += [True]\n",
    "                if debug: print('xxxx', i, j, '!', '!', '!', row[j])\n",
    "            elif i == 0:\n",
    "                # extend by character from seq2\n",
    "                if row[j-1] and seq2[j-1] == seq3[i+j-1]:\n",
    "                    row += [True]\n",
    "                    backpointers[i, j] = (i, j-1, seq2[j-1], 'seq2')\n",
    "                else:\n",
    "                    row += [False]\n",
    "                if debug: print('seq2', i, j, '!', seq2[j-1], seq3[i+j-1], row[j])\n",
    "            elif j == 0:\n",
    "                # extend by character from seq1\n",
    "                if previous_row[j] and seq1[i-1] == seq3[i+j-1]:\n",
    "                    row += [True]\n",
    "                    backpointers[i, j] = (i-1, j, seq1[i-1], 'seq1')\n",
    "                else:\n",
    "                    row += [False]\n",
    "                if debug: print('seq1', i, j, seq1[i-1], '!', seq3[i+j-1], row[j])\n",
    "            else:\n",
    "                # extend by character from seq2\n",
    "                if row[j-1] and seq2[j-1] == seq3[i+j-1]:\n",
    "                    row += [True]\n",
    "                    backpointers[i, j] = (i, j-1, seq2[j-1], 'seq2')\n",
    "                    if debug: print('seq2', i, j, seq1[i-1], seq2[j-1], seq3[i+j-1], row[j])                \n",
    "                # extend by character from seq1\n",
    "                elif previous_row[j] and seq1[i-1] == seq3[i+j-1]:\n",
    "                    row += [True]\n",
    "                    backpointers[i, j] = (i-1, j, seq1[i-1], 'seq1')                \n",
    "                    if debug: print('seq1', i, j, seq1[i-1], seq2[j-1], seq3[i+j-1], row[j])\n",
    "                else:\n",
    "                    row += [False]\n",
    "                    if debug: print('xxxx', i, j, seq1[i-1], seq2[j-1], seq3[i+j-1], row[j])\n",
    "        previous_row = row\n",
    "\n",
    "    if return_backpointers:\n",
    "        retval = [row[-1]]\n",
    "        if return_backpointers:\n",
    "            retval += [backpointers]\n",
    "        return tuple(retval)\n",
    "    else:\n",
    "        return row[-1]"
   ]
  },
  {
   "cell_type": "code",
   "execution_count": 29,
   "metadata": {
    "collapsed": true
   },
   "outputs": [],
   "source": [
    "def show_backtrace_i(bps):\n",
    "    i = max([0] + [k[0] for k in bps])\n",
    "    j = max([0] + [k[1] for k in bps])\n",
    "    chars = ''\n",
    "    if (i, j) in bps:\n",
    "        while i != 0 or j != 0:\n",
    "            if bps[i, j][3] == 'seq1':\n",
    "                chars += bps[i, j][2].upper()\n",
    "            else:\n",
    "                chars += bps[i, j][2]\n",
    "            i, j = bps[i, j][0], bps[i, j][1] \n",
    "        return ''.join(list(reversed(chars)))\n",
    "    else:\n",
    "        return ''"
   ]
  },
  {
   "cell_type": "code",
   "execution_count": 30,
   "metadata": {},
   "outputs": [
    {
     "data": {
      "text/plain": [
       "[30]"
      ]
     },
     "execution_count": 30,
     "metadata": {},
     "output_type": "execute_result"
    }
   ],
   "source": [
    "[s for s in bills\n",
    "   if is_interleave(bills[0], bills[1], bills[s])]"
   ]
  },
  {
   "cell_type": "code",
   "execution_count": 31,
   "metadata": {},
   "outputs": [
    {
     "data": {
      "text/plain": [
       "[30]"
      ]
     },
     "execution_count": 31,
     "metadata": {},
     "output_type": "execute_result"
    }
   ],
   "source": [
    "[s for s in bills\n",
    "   if is_interleave_rows(bills[0], bills[1], bills[s])]"
   ]
  },
  {
   "cell_type": "code",
   "execution_count": 32,
   "metadata": {},
   "outputs": [
    {
     "data": {
      "text/plain": [
       "[30]"
      ]
     },
     "execution_count": 32,
     "metadata": {},
     "output_type": "execute_result"
    }
   ],
   "source": [
    "[s for s in bills\n",
    "   if is_interleave_rows2(bills[0], bills[1], bills[s])]"
   ]
  },
  {
   "cell_type": "code",
   "execution_count": 33,
   "metadata": {},
   "outputs": [
    {
     "data": {
      "text/plain": [
       "[30]"
      ]
     },
     "execution_count": 33,
     "metadata": {},
     "output_type": "execute_result"
    }
   ],
   "source": [
    "[s for s in bills\n",
    "   if is_subseq_simple(bills[0], bills[s])\n",
    "   if is_subseq_simple(bills[1], bills[s])]"
   ]
  },
  {
   "cell_type": "code",
   "execution_count": 34,
   "metadata": {},
   "outputs": [
    {
     "name": "stdout",
     "output_type": "stream",
     "text": [
      "T . . . . . . . . . . . . . . . . . . . . . . . . . . . . . . . . . . . . . . . . . . . . . . . . . . . . . . . . . . . . . . . . . . . . . . . . . . . . . . . . . . . . . . . . . . . . . . . . . . . . . . . . . . . . . . . . . . . . . . . . . . . . . . . . . . . . . . . . . . . . . . . . . . . . . . . . . . . . . . . . . . . . . . . . . . . . . . . . . . . . . . . . . . . . . . . . . . . . . . . .\n",
      "T . . . . . . . . . . . . . . . . . . . . . . . . . . . . . . . . . . . . . . . . . . . . . . . . . . . . . . . . . . . . . . . . . . . . . . . . . . . . . . . . . . . . . . . . . . . . . . . . . . . . . . . . . . . . . . . . . . . . . . . . . . . . . . . . . . . . . . . . . . . . . . . . . . . . . . . . . . . . . . . . . . . . . . . . . . . . . . . . . . . . . . . . . . . . . . . . . . . . . . . .\n",
      "T T . . . . . . . . . . . . . . . . . . . . . . . . . . . . . . . . . . . . . . . . . . . . . . . . . . . . . . . . . . . . . . . . . . . . . . . . . . . . . . . . . . . . . . . . . . . . . . . . . . . . . . . . . . . . . . . . . . . . . . . . . . . . . . . . . . . . . . . . . . . . . . . . . . . . . . . . . . . . . . . . . . . . . . . . . . . . . . . . . . . . . . . . . . . . . . . . . . . . . . .\n",
      ". T . . . . . . . . . . . . . . . . . . . . . . . . . . . . . . . . . . . . . . . . . . . . . . . . . . . . . . . . . . . . . . . . . . . . . . . . . . . . . . . . . . . . . . . . . . . . . . . . . . . . . . . . . . . . . . . . . . . . . . . . . . . . . . . . . . . . . . . . . . . . . . . . . . . . . . . . . . . . . . . . . . . . . . . . . . . . . . . . . . . . . . . . . . . . . . . . . . . . . . .\n",
      ". T T . . . . . . . . . . . . . . . . . . . . . . . . . . . . . . . . . . . . . . . . . . . . . . . . . . . . . . . . . . . . . . . . . . . . . . . . . . . . . . . . . . . . . . . . . . . . . . . . . . . . . . . . . . . . . . . . . . . . . . . . . . . . . . . . . . . . . . . . . . . . . . . . . . . . . . . . . . . . . . . . . . . . . . . . . . . . . . . . . . . . . . . . . . . . . . . . . . . . . .\n",
      ". . T T T T . . . . . . . . . . . . . . . . . . . . . . . . . . . . . . . . . . . . . . . . . . . . . . . . . . . . . . . . . . . . . . . . . . . . . . . . . . . . . . . . . . . . . . . . . . . . . . . . . . . . . . . . . . . . . . . . . . . . . . . . . . . . . . . . . . . . . . . . . . . . . . . . . . . . . . . . . . . . . . . . . . . . . . . . . . . . . . . . . . . . . . . . . . . . . . . . . . .\n",
      ". . . . T T T T T . . . . . . . . . . . . . . . . . . . . . . . . . . . . . . . . . . . . . . . . . . . . . . . . . . . . . . . . . . . . . . . . . . . . . . . . . . . . . . . . . . . . . . . . . . . . . . . . . . . . . . . . . . . . . . . . . . . . . . . . . . . . . . . . . . . . . . . . . . . . . . . . . . . . . . . . . . . . . . . . . . . . . . . . . . . . . . . . . . . . . . . . . . . . . . . .\n",
      ". . . . . . . . T T . . . . . . . . . . . . . . . . . . . . . . . . . . . . . . . . . . . . . . . . . . . . . . . . . . . . . . . . . . . . . . . . . . . . . . . . . . . . . . . . . . . . . . . . . . . . . . . . . . . . . . . . . . . . . . . . . . . . . . . . . . . . . . . . . . . . . . . . . . . . . . . . . . . . . . . . . . . . . . . . . . . . . . . . . . . . . . . . . . . . . . . . . . . . . . .\n",
      ". . . . . . . . T T T T T T T . . . . . . . . . . . . . . . . . . . . . . . . . . . . . . . . . . . . . . . . . . . . . . . . . . . . . . . . . . . . . . . . . . . . . . . . . . . . . . . . . . . . . . . . . . . . . . . . . . . . . . . . . . . . . . . . . . . . . . . . . . . . . . . . . . . . . . . . . . . . . . . . . . . . . . . . . . . . . . . . . . . . . . . . . . . . . . . . . . . . . . . . . .\n",
      ". . . . . . . . . T . . T . T T T . . . . . . . . . . . . . . . . . . . . . . . . . . . . . . . . . . . . . . . . . . . . . . . . . . . . . . . . . . . . . . . . . . . . . . . . . . . . . . . . . . . . . . . . . . . . . . . . . . . . . . . . . . . . . . . . . . . . . . . . . . . . . . . . . . . . . . . . . . . . . . . . . . . . . . . . . . . . . . . . . . . . . . . . . . . . . . . . . . . . . . . .\n",
      ". . . . . . . . . T . . . . . . T T . . . . . . . . . . . . . . . . . . . . . . . . . . . . . . . . . . . . . . . . . . . . . . . . . . . . . . . . . . . . . . . . . . . . . . . . . . . . . . . . . . . . . . . . . . . . . . . . . . . . . . . . . . . . . . . . . . . . . . . . . . . . . . . . . . . . . . . . . . . . . . . . . . . . . . . . . . . . . . . . . . . . . . . . . . . . . . . . . . . . . . .\n",
      ". . . . . . . . . . . . . . . . . T T T T . . . . . . . . . . . . . . . . . . . . . . . . . . . . . . . . . . . . . . . . . . . . . . . . . . . . . . . . . . . . . . . . . . . . . . . . . . . . . . . . . . . . . . . . . . . . . . . . . . . . . . . . . . . . . . . . . . . . . . . . . . . . . . . . . . . . . . . . . . . . . . . . . . . . . . . . . . . . . . . . . . . . . . . . . . . . . . . . . . . .\n",
      ". . . . . . . . . . . . . . . . . . T . T T . . . . . . . . . . . . . . . . . . . . . . . . . . . . . . . . . . . . . . . . . . . . . . . . . . . . . . . . . . . . . . . . . . . . . . . . . . . . . . . . . . . . . . . . . . . . . . . . . . . . . . . . . . . . . . . . . . . . . . . . . . . . . . . . . . . . . . . . . . . . . . . . . . . . . . . . . . . . . . . . . . . . . . . . . . . . . . . . . . .\n",
      ". . . . . . . . . . . . . . . . . . T T . T T T . . . . . . . . . . . . . . . . . . . . . . . . . . . . . . . . . . . . . . . . . . . . . . . . . . . . . . . . . . . . . . . . . . . . . . . . . . . . . . . . . . . . . . . . . . . . . . . . . . . . . . . . . . . . . . . . . . . . . . . . . . . . . . . . . . . . . . . . . . . . . . . . . . . . . . . . . . . . . . . . . . . . . . . . . . . . . . . . .\n",
      ". . . . . . . . . . . . . . . . . . T . . . . T . . . . . . . . . . . . . . . . . . . . . . . . . . . . . . . . . . . . . . . . . . . . . . . . . . . . . . . . . . . . . . . . . . . . . . . . . . . . . . . . . . . . . . . . . . . . . . . . . . . . . . . . . . . . . . . . . . . . . . . . . . . . . . . . . . . . . . . . . . . . . . . . . . . . . . . . . . . . . . . . . . . . . . . . . . . . . . . . .\n",
      ". . . . . . . . . . . . . . . . . . . . . . . T T . . . . . . . . . . . . . . . . . . . . . . . . . . . . . . . . . . . . . . . . . . . . . . . . . . . . . . . . . . . . . . . . . . . . . . . . . . . . . . . . . . . . . . . . . . . . . . . . . . . . . . . . . . . . . . . . . . . . . . . . . . . . . . . . . . . . . . . . . . . . . . . . . . . . . . . . . . . . . . . . . . . . . . . . . . . . . . . .\n",
      ". . . . . . . . . . . . . . . . . . . . . . . . T . . . . . . . . . . . . . . . . . . . . . . . . . . . . . . . . . . . . . . . . . . . . . . . . . . . . . . . . . . . . . . . . . . . . . . . . . . . . . . . . . . . . . . . . . . . . . . . . . . . . . . . . . . . . . . . . . . . . . . . . . . . . . . . . . . . . . . . . . . . . . . . . . . . . . . . . . . . . . . . . . . . . . . . . . . . . . . . .\n",
      ". . . . . . . . . . . . . . . . . . . . . . . . T T T . . . . . . . . . . . . . . . . . . . . . . . . . . . . . . . . . . . . . . . . . . . . . . . . . . . . . . . . . . . . . . . . . . . . . . . . . . . . . . . . . . . . . . . . . . . . . . . . . . . . . . . . . . . . . . . . . . . . . . . . . . . . . . . . . . . . . . . . . . . . . . . . . . . . . . . . . . . . . . . . . . . . . . . . . . . . . .\n",
      ". . . . . . . . . . . . . . . . . . . . . . . . . . T . . . . . . . . . . . . . . . . . . . . . . . . . . . . . . . . . . . . . . . . . . . . . . . . . . . . . . . . . . . . . . . . . . . . . . . . . . . . . . . . . . . . . . . . . . . . . . . . . . . . . . . . . . . . . . . . . . . . . . . . . . . . . . . . . . . . . . . . . . . . . . . . . . . . . . . . . . . . . . . . . . . . . . . . . . . . . .\n",
      ". . . . . . . . . . . . . . . . . . . . . . . . . . T T . . . . . . . . . . . . . . . . . . . . . . . . . . . . . . . . . . . . . . . . . . . . . . . . . . . . . . . . . . . . . . . . . . . . . . . . . . . . . . . . . . . . . . . . . . . . . . . . . . . . . . . . . . . . . . . . . . . . . . . . . . . . . . . . . . . . . . . . . . . . . . . . . . . . . . . . . . . . . . . . . . . . . . . . . . . . .\n",
      ". . . . . . . . . . . . . . . . . . . . . . . . . . . T T T . . . . . . . . . . . . . . . . . . . . . . . . . . . . . . . . . . . . . . . . . . . . . . . . . . . . . . . . . . . . . . . . . . . . . . . . . . . . . . . . . . . . . . . . . . . . . . . . . . . . . . . . . . . . . . . . . . . . . . . . . . . . . . . . . . . . . . . . . . . . . . . . . . . . . . . . . . . . . . . . . . . . . . . . . . .\n",
      ". . . . . . . . . . . . . . . . . . . . . . . . . . . T . T . . . . . . . . . . . . . . . . . . . . . . . . . . . . . . . . . . . . . . . . . . . . . . . . . . . . . . . . . . . . . . . . . . . . . . . . . . . . . . . . . . . . . . . . . . . . . . . . . . . . . . . . . . . . . . . . . . . . . . . . . . . . . . . . . . . . . . . . . . . . . . . . . . . . . . . . . . . . . . . . . . . . . . . . . . .\n",
      ". . . . . . . . . . . . . . . . . . . . . . . . . . . . . T T T . . . . . . . . . . . . . . . . . . . . . . . . . . . . . . . . . . . . . . . . . . . . . . . . . . . . . . . . . . . . . . . . . . . . . . . . . . . . . . . . . . . . . . . . . . . . . . . . . . . . . . . . . . . . . . . . . . . . . . . . . . . . . . . . . . . . . . . . . . . . . . . . . . . . . . . . . . . . . . . . . . . . . . . . .\n",
      ". . . . . . . . . . . . . . . . . . . . . . . . . . . . . . T . . . . . . . . . . . . . . . . . . . . . . . . . . . . . . . . . . . . . . . . . . . . . . . . . . . . . . . . . . . . . . . . . . . . . . . . . . . . . . . . . . . . . . . . . . . . . . . . . . . . . . . . . . . . . . . . . . . . . . . . . . . . . . . . . . . . . . . . . . . . . . . . . . . . . . . . . . . . . . . . . . . . . . . . . .\n",
      ". . . . . . . . . . . . . . . . . . . . . . . . . . . . . . T . . . . . . . . . . . . . . . . . . . . . . . . . . . . . . . . . . . . . . . . . . . . . . . . . . . . . . . . . . . . . . . . . . . . . . . . . . . . . . . . . . . . . . . . . . . . . . . . . . . . . . . . . . . . . . . . . . . . . . . . . . . . . . . . . . . . . . . . . . . . . . . . . . . . . . . . . . . . . . . . . . . . . . . . . .\n",
      ". . . . . . . . . . . . . . . . . . . . . . . . . . . . . . T T . . . . . . . . . . . . . . . . . . . . . . . . . . . . . . . . . . . . . . . . . . . . . . . . . . . . . . . . . . . . . . . . . . . . . . . . . . . . . . . . . . . . . . . . . . . . . . . . . . . . . . . . . . . . . . . . . . . . . . . . . . . . . . . . . . . . . . . . . . . . . . . . . . . . . . . . . . . . . . . . . . . . . . . . .\n",
      ". . . . . . . . . . . . . . . . . . . . . . . . . . . . . . . T . . . . . . . . . . . . . . . . . . . . . . . . . . . . . . . . . . . . . . . . . . . . . . . . . . . . . . . . . . . . . . . . . . . . . . . . . . . . . . . . . . . . . . . . . . . . . . . . . . . . . . . . . . . . . . . . . . . . . . . . . . . . . . . . . . . . . . . . . . . . . . . . . . . . . . . . . . . . . . . . . . . . . . . . .\n",
      ". . . . . . . . . . . . . . . . . . . . . . . . . . . . . . . T T T . . . . . . . . . . . . . . . . . . . . . . . . . . . . . . . . . . . . . . . . . . . . . . . . . . . . . . . . . . . . . . . . . . . . . . . . . . . . . . . . . . . . . . . . . . . . . . . . . . . . . . . . . . . . . . . . . . . . . . . . . . . . . . . . . . . . . . . . . . . . . . . . . . . . . . . . . . . . . . . . . . . . . . .\n",
      ". . . . . . . . . . . . . . . . . . . . . . . . . . . . . . . . T T . . . . . . . . . . . . . . . . . . . . . . . . . . . . . . . . . . . . . . . . . . . . . . . . . . . . . . . . . . . . . . . . . . . . . . . . . . . . . . . . . . . . . . . . . . . . . . . . . . . . . . . . . . . . . . . . . . . . . . . . . . . . . . . . . . . . . . . . . . . . . . . . . . . . . . . . . . . . . . . . . . . . . . .\n",
      ". . . . . . . . . . . . . . . . . . . . . . . . . . . . . . . . . T . . . . . . . . . . . . . . . . . . . . . . . . . . . . . . . . . . . . . . . . . . . . . . . . . . . . . . . . . . . . . . . . . . . . . . . . . . . . . . . . . . . . . . . . . . . . . . . . . . . . . . . . . . . . . . . . . . . . . . . . . . . . . . . . . . . . . . . . . . . . . . . . . . . . . . . . . . . . . . . . . . . . . . .\n",
      ". . . . . . . . . . . . . . . . . . . . . . . . . . . . . . . . . T T T . . . . . . . . . . . . . . . . . . . . . . . . . . . . . . . . . . . . . . . . . . . . . . . . . . . . . . . . . . . . . . . . . . . . . . . . . . . . . . . . . . . . . . . . . . . . . . . . . . . . . . . . . . . . . . . . . . . . . . . . . . . . . . . . . . . . . . . . . . . . . . . . . . . . . . . . . . . . . . . . . . . . .\n",
      ". . . . . . . . . . . . . . . . . . . . . . . . . . . . . . . . . . . T T . . . . . . . . . . . . . . . . . . . . . . . . . . . . . . . . . . . . . . . . . . . . . . . . . . . . . . . . . . . . . . . . . . . . . . . . . . . . . . . . . . . . . . . . . . . . . . . . . . . . . . . . . . . . . . . . . . . . . . . . . . . . . . . . . . . . . . . . . . . . . . . . . . . . . . . . . . . . . . . . . . . .\n",
      ". . . . . . . . . . . . . . . . . . . . . . . . . . . . . . . . . . . . T T T . . . . . . . . . . . . . . . . . . . . . . . . . . . . . . . . . . . . . . . . . . . . . . . . . . . . . . . . . . . . . . . . . . . . . . . . . . . . . . . . . . . . . . . . . . . . . . . . . . . . . . . . . . . . . . . . . . . . . . . . . . . . . . . . . . . . . . . . . . . . . . . . . . . . . . . . . . . . . . . . . .\n",
      ". . . . . . . . . . . . . . . . . . . . . . . . . . . . . . . . . . . . . . T T . . . . . . . . . . . . . . . . . . . . . . . . . . . . . . . . . . . . . . . . . . . . . . . . . . . . . . . . . . . . . . . . . . . . . . . . . . . . . . . . . . . . . . . . . . . . . . . . . . . . . . . . . . . . . . . . . . . . . . . . . . . . . . . . . . . . . . . . . . . . . . . . . . . . . . . . . . . . . . . . .\n",
      ". . . . . . . . . . . . . . . . . . . . . . . . . . . . . . . . . . . . . . T . . . . . . . . . . . . . . . . . . . . . . . . . . . . . . . . . . . . . . . . . . . . . . . . . . . . . . . . . . . . . . . . . . . . . . . . . . . . . . . . . . . . . . . . . . . . . . . . . . . . . . . . . . . . . . . . . . . . . . . . . . . . . . . . . . . . . . . . . . . . . . . . . . . . . . . . . . . . . . . . . .\n",
      ". . . . . . . . . . . . . . . . . . . . . . . . . . . . . . . . . . . . . . T . . . . . . . . . . . . . . . . . . . . . . . . . . . . . . . . . . . . . . . . . . . . . . . . . . . . . . . . . . . . . . . . . . . . . . . . . . . . . . . . . . . . . . . . . . . . . . . . . . . . . . . . . . . . . . . . . . . . . . . . . . . . . . . . . . . . . . . . . . . . . . . . . . . . . . . . . . . . . . . . . .\n",
      ". . . . . . . . . . . . . . . . . . . . . . . . . . . . . . . . . . . . . . T T T T . . . . . . . . . . . . . . . . . . . . . . . . . . . . . . . . . . . . . . . . . . . . . . . . . . . . . . . . . . . . . . . . . . . . . . . . . . . . . . . . . . . . . . . . . . . . . . . . . . . . . . . . . . . . . . . . . . . . . . . . . . . . . . . . . . . . . . . . . . . . . . . . . . . . . . . . . . . . . . .\n",
      ". . . . . . . . . . . . . . . . . . . . . . . . . . . . . . . . . . . . . . . . . T T . . . . . . . . . . . . . . . . . . . . . . . . . . . . . . . . . . . . . . . . . . . . . . . . . . . . . . . . . . . . . . . . . . . . . . . . . . . . . . . . . . . . . . . . . . . . . . . . . . . . . . . . . . . . . . . . . . . . . . . . . . . . . . . . . . . . . . . . . . . . . . . . . . . . . . . . . . . . . .\n",
      ". . . . . . . . . . . . . . . . . . . . . . . . . . . . . . . . . . . . . . . . . . T T . . . . . . . . . . . . . . . . . . . . . . . . . . . . . . . . . . . . . . . . . . . . . . . . . . . . . . . . . . . . . . . . . . . . . . . . . . . . . . . . . . . . . . . . . . . . . . . . . . . . . . . . . . . . . . . . . . . . . . . . . . . . . . . . . . . . . . . . . . . . . . . . . . . . . . . . . . . . .\n",
      ". . . . . . . . . . . . . . . . . . . . . . . . . . . . . . . . . . . . . . . . . . . T T T . . . . . . . . . . . . . . . . . . . . . . . . . . . . . . . . . . . . . . . . . . . . . . . . . . . . . . . . . . . . . . . . . . . . . . . . . . . . . . . . . . . . . . . . . . . . . . . . . . . . . . . . . . . . . . . . . . . . . . . . . . . . . . . . . . . . . . . . . . . . . . . . . . . . . . . . . . .\n",
      ". . . . . . . . . . . . . . . . . . . . . . . . . . . . . . . . . . . . . . . . . . . . T T . . . . . . . . . . . . . . . . . . . . . . . . . . . . . . . . . . . . . . . . . . . . . . . . . . . . . . . . . . . . . . . . . . . . . . . . . . . . . . . . . . . . . . . . . . . . . . . . . . . . . . . . . . . . . . . . . . . . . . . . . . . . . . . . . . . . . . . . . . . . . . . . . . . . . . . . . . .\n",
      ". . . . . . . . . . . . . . . . . . . . . . . . . . . . . . . . . . . . . . . . . . . . T . . . . . . . . . . . . . . . . . . . . . . . . . . . . . . . . . . . . . . . . . . . . . . . . . . . . . . . . . . . . . . . . . . . . . . . . . . . . . . . . . . . . . . . . . . . . . . . . . . . . . . . . . . . . . . . . . . . . . . . . . . . . . . . . . . . . . . . . . . . . . . . . . . . . . . . . . . . .\n",
      ". . . . . . . . . . . . . . . . . . . . . . . . . . . . . . . . . . . . . . . . . . . . T . . . . . . . . . . . . . . . . . . . . . . . . . . . . . . . . . . . . . . . . . . . . . . . . . . . . . . . . . . . . . . . . . . . . . . . . . . . . . . . . . . . . . . . . . . . . . . . . . . . . . . . . . . . . . . . . . . . . . . . . . . . . . . . . . . . . . . . . . . . . . . . . . . . . . . . . . . . .\n",
      ". . . . . . . . . . . . . . . . . . . . . . . . . . . . . . . . . . . . . . . . . . . . T . . . . . . . . . . . . . . . . . . . . . . . . . . . . . . . . . . . . . . . . . . . . . . . . . . . . . . . . . . . . . . . . . . . . . . . . . . . . . . . . . . . . . . . . . . . . . . . . . . . . . . . . . . . . . . . . . . . . . . . . . . . . . . . . . . . . . . . . . . . . . . . . . . . . . . . . . . . .\n",
      ". . . . . . . . . . . . . . . . . . . . . . . . . . . . . . . . . . . . . . . . . . . . T T . . . . . . . . . . . . . . . . . . . . . . . . . . . . . . . . . . . . . . . . . . . . . . . . . . . . . . . . . . . . . . . . . . . . . . . . . . . . . . . . . . . . . . . . . . . . . . . . . . . . . . . . . . . . . . . . . . . . . . . . . . . . . . . . . . . . . . . . . . . . . . . . . . . . . . . . . . .\n",
      ". . . . . . . . . . . . . . . . . . . . . . . . . . . . . . . . . . . . . . . . . . . . T . . . . . . . . . . . . . . . . . . . . . . . . . . . . . . . . . . . . . . . . . . . . . . . . . . . . . . . . . . . . . . . . . . . . . . . . . . . . . . . . . . . . . . . . . . . . . . . . . . . . . . . . . . . . . . . . . . . . . . . . . . . . . . . . . . . . . . . . . . . . . . . . . . . . . . . . . . . .\n",
      ". . . . . . . . . . . . . . . . . . . . . . . . . . . . . . . . . . . . . . . . . . . . T T . . . . . . . . . . . . . . . . . . . . . . . . . . . . . . . . . . . . . . . . . . . . . . . . . . . . . . . . . . . . . . . . . . . . . . . . . . . . . . . . . . . . . . . . . . . . . . . . . . . . . . . . . . . . . . . . . . . . . . . . . . . . . . . . . . . . . . . . . . . . . . . . . . . . . . . . . . .\n",
      ". . . . . . . . . . . . . . . . . . . . . . . . . . . . . . . . . . . . . . . . . . . . . T . . . . . . . . . . . . . . . . . . . . . . . . . . . . . . . . . . . . . . . . . . . . . . . . . . . . . . . . . . . . . . . . . . . . . . . . . . . . . . . . . . . . . . . . . . . . . . . . . . . . . . . . . . . . . . . . . . . . . . . . . . . . . . . . . . . . . . . . . . . . . . . . . . . . . . . . . . .\n",
      ". . . . . . . . . . . . . . . . . . . . . . . . . . . . . . . . . . . . . . . . . . . . . T . . . . . . . . . . . . . . . . . . . . . . . . . . . . . . . . . . . . . . . . . . . . . . . . . . . . . . . . . . . . . . . . . . . . . . . . . . . . . . . . . . . . . . . . . . . . . . . . . . . . . . . . . . . . . . . . . . . . . . . . . . . . . . . . . . . . . . . . . . . . . . . . . . . . . . . . . . .\n",
      ". . . . . . . . . . . . . . . . . . . . . . . . . . . . . . . . . . . . . . . . . . . . . T . . . . . . . . . . . . . . . . . . . . . . . . . . . . . . . . . . . . . . . . . . . . . . . . . . . . . . . . . . . . . . . . . . . . . . . . . . . . . . . . . . . . . . . . . . . . . . . . . . . . . . . . . . . . . . . . . . . . . . . . . . . . . . . . . . . . . . . . . . . . . . . . . . . . . . . . . . .\n",
      ". . . . . . . . . . . . . . . . . . . . . . . . . . . . . . . . . . . . . . . . . . . . . T . . . . . . . . . . . . . . . . . . . . . . . . . . . . . . . . . . . . . . . . . . . . . . . . . . . . . . . . . . . . . . . . . . . . . . . . . . . . . . . . . . . . . . . . . . . . . . . . . . . . . . . . . . . . . . . . . . . . . . . . . . . . . . . . . . . . . . . . . . . . . . . . . . . . . . . . . . .\n",
      ". . . . . . . . . . . . . . . . . . . . . . . . . . . . . . . . . . . . . . . . . . . . . T T T T . . . . . . . . . . . . . . . . . . . . . . . . . . . . . . . . . . . . . . . . . . . . . . . . . . . . . . . . . . . . . . . . . . . . . . . . . . . . . . . . . . . . . . . . . . . . . . . . . . . . . . . . . . . . . . . . . . . . . . . . . . . . . . . . . . . . . . . . . . . . . . . . . . . . . . . .\n",
      ". . . . . . . . . . . . . . . . . . . . . . . . . . . . . . . . . . . . . . . . . . . . . . T . T . . . . . . . . . . . . . . . . . . . . . . . . . . . . . . . . . . . . . . . . . . . . . . . . . . . . . . . . . . . . . . . . . . . . . . . . . . . . . . . . . . . . . . . . . . . . . . . . . . . . . . . . . . . . . . . . . . . . . . . . . . . . . . . . . . . . . . . . . . . . . . . . . . . . . . . .\n",
      ". . . . . . . . . . . . . . . . . . . . . . . . . . . . . . . . . . . . . . . . . . . . . . . . T . . . . . . . . . . . . . . . . . . . . . . . . . . . . . . . . . . . . . . . . . . . . . . . . . . . . . . . . . . . . . . . . . . . . . . . . . . . . . . . . . . . . . . . . . . . . . . . . . . . . . . . . . . . . . . . . . . . . . . . . . . . . . . . . . . . . . . . . . . . . . . . . . . . . . . . .\n",
      ". . . . . . . . . . . . . . . . . . . . . . . . . . . . . . . . . . . . . . . . . . . . . . . . T T T . . . . . . . . . . . . . . . . . . . . . . . . . . . . . . . . . . . . . . . . . . . . . . . . . . . . . . . . . . . . . . . . . . . . . . . . . . . . . . . . . . . . . . . . . . . . . . . . . . . . . . . . . . . . . . . . . . . . . . . . . . . . . . . . . . . . . . . . . . . . . . . . . . . . . .\n",
      ". . . . . . . . . . . . . . . . . . . . . . . . . . . . . . . . . . . . . . . . . . . . . . . . . T T T T T . . . . . . . . . . . . . . . . . . . . . . . . . . . . . . . . . . . . . . . . . . . . . . . . . . . . . . . . . . . . . . . . . . . . . . . . . . . . . . . . . . . . . . . . . . . . . . . . . . . . . . . . . . . . . . . . . . . . . . . . . . . . . . . . . . . . . . . . . . . . . . . . . . .\n",
      ". . . . . . . . . . . . . . . . . . . . . . . . . . . . . . . . . . . . . . . . . . . . . . . . . . T . . T . . . . . . . . . . . . . . . . . . . . . . . . . . . . . . . . . . . . . . . . . . . . . . . . . . . . . . . . . . . . . . . . . . . . . . . . . . . . . . . . . . . . . . . . . . . . . . . . . . . . . . . . . . . . . . . . . . . . . . . . . . . . . . . . . . . . . . . . . . . . . . . . . . .\n",
      ". . . . . . . . . . . . . . . . . . . . . . . . . . . . . . . . . . . . . . . . . . . . . . . . . . . . . T . . . . . . . . . . . . . . . . . . . . . . . . . . . . . . . . . . . . . . . . . . . . . . . . . . . . . . . . . . . . . . . . . . . . . . . . . . . . . . . . . . . . . . . . . . . . . . . . . . . . . . . . . . . . . . . . . . . . . . . . . . . . . . . . . . . . . . . . . . . . . . . . . . .\n",
      ". . . . . . . . . . . . . . . . . . . . . . . . . . . . . . . . . . . . . . . . . . . . . . . . . . . . . T T T T T T . . . . . . . . . . . . . . . . . . . . . . . . . . . . . . . . . . . . . . . . . . . . . . . . . . . . . . . . . . . . . . . . . . . . . . . . . . . . . . . . . . . . . . . . . . . . . . . . . . . . . . . . . . . . . . . . . . . . . . . . . . . . . . . . . . . . . . . . . . . . . .\n",
      ". . . . . . . . . . . . . . . . . . . . . . . . . . . . . . . . . . . . . . . . . . . . . . . . . . . . . . . . . . T T . . . . . . . . . . . . . . . . . . . . . . . . . . . . . . . . . . . . . . . . . . . . . . . . . . . . . . . . . . . . . . . . . . . . . . . . . . . . . . . . . . . . . . . . . . . . . . . . . . . . . . . . . . . . . . . . . . . . . . . . . . . . . . . . . . . . . . . . . . . . .\n",
      ". . . . . . . . . . . . . . . . . . . . . . . . . . . . . . . . . . . . . . . . . . . . . . . . . . . . . . . . . . T . . . . . . . . . . . . . . . . . . . . . . . . . . . . . . . . . . . . . . . . . . . . . . . . . . . . . . . . . . . . . . . . . . . . . . . . . . . . . . . . . . . . . . . . . . . . . . . . . . . . . . . . . . . . . . . . . . . . . . . . . . . . . . . . . . . . . . . . . . . . . .\n",
      ". . . . . . . . . . . . . . . . . . . . . . . . . . . . . . . . . . . . . . . . . . . . . . . . . . . . . . . . . . T T . . . . . . . . . . . . . . . . . . . . . . . . . . . . . . . . . . . . . . . . . . . . . . . . . . . . . . . . . . . . . . . . . . . . . . . . . . . . . . . . . . . . . . . . . . . . . . . . . . . . . . . . . . . . . . . . . . . . . . . . . . . . . . . . . . . . . . . . . . . . .\n",
      ". . . . . . . . . . . . . . . . . . . . . . . . . . . . . . . . . . . . . . . . . . . . . . . . . . . . . . . . . . T . . . . . . . . . . . . . . . . . . . . . . . . . . . . . . . . . . . . . . . . . . . . . . . . . . . . . . . . . . . . . . . . . . . . . . . . . . . . . . . . . . . . . . . . . . . . . . . . . . . . . . . . . . . . . . . . . . . . . . . . . . . . . . . . . . . . . . . . . . . . . .\n",
      ". . . . . . . . . . . . . . . . . . . . . . . . . . . . . . . . . . . . . . . . . . . . . . . . . . . . . . . . . . T T T . . . . . . . . . . . . . . . . . . . . . . . . . . . . . . . . . . . . . . . . . . . . . . . . . . . . . . . . . . . . . . . . . . . . . . . . . . . . . . . . . . . . . . . . . . . . . . . . . . . . . . . . . . . . . . . . . . . . . . . . . . . . . . . . . . . . . . . . . . . .\n",
      ". . . . . . . . . . . . . . . . . . . . . . . . . . . . . . . . . . . . . . . . . . . . . . . . . . . . . . . . . . . . T T T . . . . . . . . . . . . . . . . . . . . . . . . . . . . . . . . . . . . . . . . . . . . . . . . . . . . . . . . . . . . . . . . . . . . . . . . . . . . . . . . . . . . . . . . . . . . . . . . . . . . . . . . . . . . . . . . . . . . . . . . . . . . . . . . . . . . . . . . . .\n",
      ". . . . . . . . . . . . . . . . . . . . . . . . . . . . . . . . . . . . . . . . . . . . . . . . . . . . . . . . . . . . T . T T T . . . . . . . . . . . . . . . . . . . . . . . . . . . . . . . . . . . . . . . . . . . . . . . . . . . . . . . . . . . . . . . . . . . . . . . . . . . . . . . . . . . . . . . . . . . . . . . . . . . . . . . . . . . . . . . . . . . . . . . . . . . . . . . . . . . . . . . .\n",
      ". . . . . . . . . . . . . . . . . . . . . . . . . . . . . . . . . . . . . . . . . . . . . . . . . . . . . . . . . . . . . . . . T T . . . . . . . . . . . . . . . . . . . . . . . . . . . . . . . . . . . . . . . . . . . . . . . . . . . . . . . . . . . . . . . . . . . . . . . . . . . . . . . . . . . . . . . . . . . . . . . . . . . . . . . . . . . . . . . . . . . . . . . . . . . . . . . . . . . . . . .\n",
      ". . . . . . . . . . . . . . . . . . . . . . . . . . . . . . . . . . . . . . . . . . . . . . . . . . . . . . . . . . . . . . . . . T T T T T T . . . . . . . . . . . . . . . . . . . . . . . . . . . . . . . . . . . . . . . . . . . . . . . . . . . . . . . . . . . . . . . . . . . . . . . . . . . . . . . . . . . . . . . . . . . . . . . . . . . . . . . . . . . . . . . . . . . . . . . . . . . . . . . . . .\n",
      ". . . . . . . . . . . . . . . . . . . . . . . . . . . . . . . . . . . . . . . . . . . . . . . . . . . . . . . . . . . . . . . . . . T . T T T . . . . . . . . . . . . . . . . . . . . . . . . . . . . . . . . . . . . . . . . . . . . . . . . . . . . . . . . . . . . . . . . . . . . . . . . . . . . . . . . . . . . . . . . . . . . . . . . . . . . . . . . . . . . . . . . . . . . . . . . . . . . . . . . . .\n",
      ". . . . . . . . . . . . . . . . . . . . . . . . . . . . . . . . . . . . . . . . . . . . . . . . . . . . . . . . . . . . . . . . . . . . . . T T T . . . . . . . . . . . . . . . . . . . . . . . . . . . . . . . . . . . . . . . . . . . . . . . . . . . . . . . . . . . . . . . . . . . . . . . . . . . . . . . . . . . . . . . . . . . . . . . . . . . . . . . . . . . . . . . . . . . . . . . . . . . . . . . .\n",
      ". . . . . . . . . . . . . . . . . . . . . . . . . . . . . . . . . . . . . . . . . . . . . . . . . . . . . . . . . . . . . . . . . . . . . . . . T . . . . . . . . . . . . . . . . . . . . . . . . . . . . . . . . . . . . . . . . . . . . . . . . . . . . . . . . . . . . . . . . . . . . . . . . . . . . . . . . . . . . . . . . . . . . . . . . . . . . . . . . . . . . . . . . . . . . . . . . . . . . . . . .\n",
      ". . . . . . . . . . . . . . . . . . . . . . . . . . . . . . . . . . . . . . . . . . . . . . . . . . . . . . . . . . . . . . . . . . . . . . . . T . . . . . . . . . . . . . . . . . . . . . . . . . . . . . . . . . . . . . . . . . . . . . . . . . . . . . . . . . . . . . . . . . . . . . . . . . . . . . . . . . . . . . . . . . . . . . . . . . . . . . . . . . . . . . . . . . . . . . . . . . . . . . . . .\n",
      ". . . . . . . . . . . . . . . . . . . . . . . . . . . . . . . . . . . . . . . . . . . . . . . . . . . . . . . . . . . . . . . . . . . . . . . . T T . . . . . . . . . . . . . . . . . . . . . . . . . . . . . . . . . . . . . . . . . . . . . . . . . . . . . . . . . . . . . . . . . . . . . . . . . . . . . . . . . . . . . . . . . . . . . . . . . . . . . . . . . . . . . . . . . . . . . . . . . . . . . . .\n",
      ". . . . . . . . . . . . . . . . . . . . . . . . . . . . . . . . . . . . . . . . . . . . . . . . . . . . . . . . . . . . . . . . . . . . . . . . T T T T . . . . . . . . . . . . . . . . . . . . . . . . . . . . . . . . . . . . . . . . . . . . . . . . . . . . . . . . . . . . . . . . . . . . . . . . . . . . . . . . . . . . . . . . . . . . . . . . . . . . . . . . . . . . . . . . . . . . . . . . . . . . .\n",
      ". . . . . . . . . . . . . . . . . . . . . . . . . . . . . . . . . . . . . . . . . . . . . . . . . . . . . . . . . . . . . . . . . . . . . . . . . . . T . . . . . . . . . . . . . . . . . . . . . . . . . . . . . . . . . . . . . . . . . . . . . . . . . . . . . . . . . . . . . . . . . . . . . . . . . . . . . . . . . . . . . . . . . . . . . . . . . . . . . . . . . . . . . . . . . . . . . . . . . . . . .\n",
      ". . . . . . . . . . . . . . . . . . . . . . . . . . . . . . . . . . . . . . . . . . . . . . . . . . . . . . . . . . . . . . . . . . . . . . . . . . . T . . . . . . . . . . . . . . . . . . . . . . . . . . . . . . . . . . . . . . . . . . . . . . . . . . . . . . . . . . . . . . . . . . . . . . . . . . . . . . . . . . . . . . . . . . . . . . . . . . . . . . . . . . . . . . . . . . . . . . . . . . . . .\n",
      ". . . . . . . . . . . . . . . . . . . . . . . . . . . . . . . . . . . . . . . . . . . . . . . . . . . . . . . . . . . . . . . . . . . . . . . . . . . T . . . . . . . . . . . . . . . . . . . . . . . . . . . . . . . . . . . . . . . . . . . . . . . . . . . . . . . . . . . . . . . . . . . . . . . . . . . . . . . . . . . . . . . . . . . . . . . . . . . . . . . . . . . . . . . . . . . . . . . . . . . . .\n",
      ". . . . . . . . . . . . . . . . . . . . . . . . . . . . . . . . . . . . . . . . . . . . . . . . . . . . . . . . . . . . . . . . . . . . . . . . . . . T T . . . . . . . . . . . . . . . . . . . . . . . . . . . . . . . . . . . . . . . . . . . . . . . . . . . . . . . . . . . . . . . . . . . . . . . . . . . . . . . . . . . . . . . . . . . . . . . . . . . . . . . . . . . . . . . . . . . . . . . . . . . .\n",
      ". . . . . . . . . . . . . . . . . . . . . . . . . . . . . . . . . . . . . . . . . . . . . . . . . . . . . . . . . . . . . . . . . . . . . . . . . . . . T T . . . . . . . . . . . . . . . . . . . . . . . . . . . . . . . . . . . . . . . . . . . . . . . . . . . . . . . . . . . . . . . . . . . . . . . . . . . . . . . . . . . . . . . . . . . . . . . . . . . . . . . . . . . . . . . . . . . . . . . . . . .\n",
      ". . . . . . . . . . . . . . . . . . . . . . . . . . . . . . . . . . . . . . . . . . . . . . . . . . . . . . . . . . . . . . . . . . . . . . . . . . . . . T T T T . . . . . . . . . . . . . . . . . . . . . . . . . . . . . . . . . . . . . . . . . . . . . . . . . . . . . . . . . . . . . . . . . . . . . . . . . . . . . . . . . . . . . . . . . . . . . . . . . . . . . . . . . . . . . . . . . . . . . . . .\n",
      ". . . . . . . . . . . . . . . . . . . . . . . . . . . . . . . . . . . . . . . . . . . . . . . . . . . . . . . . . . . . . . . . . . . . . . . . . . . . . . . . T T T . . . . . . . . . . . . . . . . . . . . . . . . . . . . . . . . . . . . . . . . . . . . . . . . . . . . . . . . . . . . . . . . . . . . . . . . . . . . . . . . . . . . . . . . . . . . . . . . . . . . . . . . . . . . . . . . . . . . . .\n",
      ". . . . . . . . . . . . . . . . . . . . . . . . . . . . . . . . . . . . . . . . . . . . . . . . . . . . . . . . . . . . . . . . . . . . . . . . . . . . . . . . . . T . . . . . . . . . . . . . . . . . . . . . . . . . . . . . . . . . . . . . . . . . . . . . . . . . . . . . . . . . . . . . . . . . . . . . . . . . . . . . . . . . . . . . . . . . . . . . . . . . . . . . . . . . . . . . . . . . . . . . .\n",
      ". . . . . . . . . . . . . . . . . . . . . . . . . . . . . . . . . . . . . . . . . . . . . . . . . . . . . . . . . . . . . . . . . . . . . . . . . . . . . . . . . . T T T T T T T . . . . . . . . . . . . . . . . . . . . . . . . . . . . . . . . . . . . . . . . . . . . . . . . . . . . . . . . . . . . . . . . . . . . . . . . . . . . . . . . . . . . . . . . . . . . . . . . . . . . . . . . . . . . . . . .\n",
      ". . . . . . . . . . . . . . . . . . . . . . . . . . . . . . . . . . . . . . . . . . . . . . . . . . . . . . . . . . . . . . . . . . . . . . . . . . . . . . . . . . . . . T . . T T T T T . . . . . . . . . . . . . . . . . . . . . . . . . . . . . . . . . . . . . . . . . . . . . . . . . . . . . . . . . . . . . . . . . . . . . . . . . . . . . . . . . . . . . . . . . . . . . . . . . . . . . . . . . . . .\n",
      ". . . . . . . . . . . . . . . . . . . . . . . . . . . . . . . . . . . . . . . . . . . . . . . . . . . . . . . . . . . . . . . . . . . . . . . . . . . . . . . . . . . . . . . . . . . . T T . . . . . . . . . . . . . . . . . . . . . . . . . . . . . . . . . . . . . . . . . . . . . . . . . . . . . . . . . . . . . . . . . . . . . . . . . . . . . . . . . . . . . . . . . . . . . . . . . . . . . . . . . . .\n",
      ". . . . . . . . . . . . . . . . . . . . . . . . . . . . . . . . . . . . . . . . . . . . . . . . . . . . . . . . . . . . . . . . . . . . . . . . . . . . . . . . . . . . . . . . . . . . T . . . . . . . . . . . . . . . . . . . . . . . . . . . . . . . . . . . . . . . . . . . . . . . . . . . . . . . . . . . . . . . . . . . . . . . . . . . . . . . . . . . . . . . . . . . . . . . . . . . . . . . . . . . .\n",
      ". . . . . . . . . . . . . . . . . . . . . . . . . . . . . . . . . . . . . . . . . . . . . . . . . . . . . . . . . . . . . . . . . . . . . . . . . . . . . . . . . . . . . . . . . . . . T . . . . . . . . . . . . . . . . . . . . . . . . . . . . . . . . . . . . . . . . . . . . . . . . . . . . . . . . . . . . . . . . . . . . . . . . . . . . . . . . . . . . . . . . . . . . . . . . . . . . . . . . . . . .\n",
      ". . . . . . . . . . . . . . . . . . . . . . . . . . . . . . . . . . . . . . . . . . . . . . . . . . . . . . . . . . . . . . . . . . . . . . . . . . . . . . . . . . . . . . . . . . . . T T T . . . . . . . . . . . . . . . . . . . . . . . . . . . . . . . . . . . . . . . . . . . . . . . . . . . . . . . . . . . . . . . . . . . . . . . . . . . . . . . . . . . . . . . . . . . . . . . . . . . . . . . . . .\n",
      ". . . . . . . . . . . . . . . . . . . . . . . . . . . . . . . . . . . . . . . . . . . . . . . . . . . . . . . . . . . . . . . . . . . . . . . . . . . . . . . . . . . . . . . . . . . . . . T T . . . . . . . . . . . . . . . . . . . . . . . . . . . . . . . . . . . . . . . . . . . . . . . . . . . . . . . . . . . . . . . . . . . . . . . . . . . . . . . . . . . . . . . . . . . . . . . . . . . . . . . . .\n",
      ". . . . . . . . . . . . . . . . . . . . . . . . . . . . . . . . . . . . . . . . . . . . . . . . . . . . . . . . . . . . . . . . . . . . . . . . . . . . . . . . . . . . . . . . . . . . . . . T T T T . . . . . . . . . . . . . . . . . . . . . . . . . . . . . . . . . . . . . . . . . . . . . . . . . . . . . . . . . . . . . . . . . . . . . . . . . . . . . . . . . . . . . . . . . . . . . . . . . . . . . .\n",
      ". . . . . . . . . . . . . . . . . . . . . . . . . . . . . . . . . . . . . . . . . . . . . . . . . . . . . . . . . . . . . . . . . . . . . . . . . . . . . . . . . . . . . . . . . . . . . . . T T . T . . . . . . . . . . . . . . . . . . . . . . . . . . . . . . . . . . . . . . . . . . . . . . . . . . . . . . . . . . . . . . . . . . . . . . . . . . . . . . . . . . . . . . . . . . . . . . . . . . . . . .\n",
      ". . . . . . . . . . . . . . . . . . . . . . . . . . . . . . . . . . . . . . . . . . . . . . . . . . . . . . . . . . . . . . . . . . . . . . . . . . . . . . . . . . . . . . . . . . . . . . . . T T T . . . . . . . . . . . . . . . . . . . . . . . . . . . . . . . . . . . . . . . . . . . . . . . . . . . . . . . . . . . . . . . . . . . . . . . . . . . . . . . . . . . . . . . . . . . . . . . . . . . . . .\n",
      ". . . . . . . . . . . . . . . . . . . . . . . . . . . . . . . . . . . . . . . . . . . . . . . . . . . . . . . . . . . . . . . . . . . . . . . . . . . . . . . . . . . . . . . . . . . . . . . . . . T T T . . . . . . . . . . . . . . . . . . . . . . . . . . . . . . . . . . . . . . . . . . . . . . . . . . . . . . . . . . . . . . . . . . . . . . . . . . . . . . . . . . . . . . . . . . . . . . . . . . . .\n",
      ". . . . . . . . . . . . . . . . . . . . . . . . . . . . . . . . . . . . . . . . . . . . . . . . . . . . . . . . . . . . . . . . . . . . . . . . . . . . . . . . . . . . . . . . . . . . . . . . . . T . . . . . . . . . . . . . . . . . . . . . . . . . . . . . . . . . . . . . . . . . . . . . . . . . . . . . . . . . . . . . . . . . . . . . . . . . . . . . . . . . . . . . . . . . . . . . . . . . . . . . .\n",
      ". . . . . . . . . . . . . . . . . . . . . . . . . . . . . . . . . . . . . . . . . . . . . . . . . . . . . . . . . . . . . . . . . . . . . . . . . . . . . . . . . . . . . . . . . . . . . . . . . . T . . . . . . . . . . . . . . . . . . . . . . . . . . . . . . . . . . . . . . . . . . . . . . . . . . . . . . . . . . . . . . . . . . . . . . . . . . . . . . . . . . . . . . . . . . . . . . . . . . . . . .\n",
      ". . . . . . . . . . . . . . . . . . . . . . . . . . . . . . . . . . . . . . . . . . . . . . . . . . . . . . . . . . . . . . . . . . . . . . . . . . . . . . . . . . . . . . . . . . . . . . . . . . T . . . . . . . . . . . . . . . . . . . . . . . . . . . . . . . . . . . . . . . . . . . . . . . . . . . . . . . . . . . . . . . . . . . . . . . . . . . . . . . . . . . . . . . . . . . . . . . . . . . . . .\n",
      ". . . . . . . . . . . . . . . . . . . . . . . . . . . . . . . . . . . . . . . . . . . . . . . . . . . . . . . . . . . . . . . . . . . . . . . . . . . . . . . . . . . . . . . . . . . . . . . . . . T . . . . . . . . . . . . . . . . . . . . . . . . . . . . . . . . . . . . . . . . . . . . . . . . . . . . . . . . . . . . . . . . . . . . . . . . . . . . . . . . . . . . . . . . . . . . . . . . . . . . . .\n",
      ". . . . . . . . . . . . . . . . . . . . . . . . . . . . . . . . . . . . . . . . . . . . . . . . . . . . . . . . . . . . . . . . . . . . . . . . . . . . . . . . . . . . . . . . . . . . . . . . . . T . . . . . . . . . . . . . . . . . . . . . . . . . . . . . . . . . . . . . . . . . . . . . . . . . . . . . . . . . . . . . . . . . . . . . . . . . . . . . . . . . . . . . . . . . . . . . . . . . . . . . .\n",
      ". . . . . . . . . . . . . . . . . . . . . . . . . . . . . . . . . . . . . . . . . . . . . . . . . . . . . . . . . . . . . . . . . . . . . . . . . . . . . . . . . . . . . . . . . . . . . . . . . . T T . . . . . . . . . . . . . . . . . . . . . . . . . . . . . . . . . . . . . . . . . . . . . . . . . . . . . . . . . . . . . . . . . . . . . . . . . . . . . . . . . . . . . . . . . . . . . . . . . . . . .\n",
      ". . . . . . . . . . . . . . . . . . . . . . . . . . . . . . . . . . . . . . . . . . . . . . . . . . . . . . . . . . . . . . . . . . . . . . . . . . . . . . . . . . . . . . . . . . . . . . . . . . T . . . . . . . . . . . . . . . . . . . . . . . . . . . . . . . . . . . . . . . . . . . . . . . . . . . . . . . . . . . . . . . . . . . . . . . . . . . . . . . . . . . . . . . . . . . . . . . . . . . . . .\n",
      ". . . . . . . . . . . . . . . . . . . . . . . . . . . . . . . . . . . . . . . . . . . . . . . . . . . . . . . . . . . . . . . . . . . . . . . . . . . . . . . . . . . . . . . . . . . . . . . . . . T . . . . . . . . . . . . . . . . . . . . . . . . . . . . . . . . . . . . . . . . . . . . . . . . . . . . . . . . . . . . . . . . . . . . . . . . . . . . . . . . . . . . . . . . . . . . . . . . . . . . . .\n",
      ". . . . . . . . . . . . . . . . . . . . . . . . . . . . . . . . . . . . . . . . . . . . . . . . . . . . . . . . . . . . . . . . . . . . . . . . . . . . . . . . . . . . . . . . . . . . . . . . . . T . . . . . . . . . . . . . . . . . . . . . . . . . . . . . . . . . . . . . . . . . . . . . . . . . . . . . . . . . . . . . . . . . . . . . . . . . . . . . . . . . . . . . . . . . . . . . . . . . . . . . .\n",
      ". . . . . . . . . . . . . . . . . . . . . . . . . . . . . . . . . . . . . . . . . . . . . . . . . . . . . . . . . . . . . . . . . . . . . . . . . . . . . . . . . . . . . . . . . . . . . . . . . . T T . . . . . . . . . . . . . . . . . . . . . . . . . . . . . . . . . . . . . . . . . . . . . . . . . . . . . . . . . . . . . . . . . . . . . . . . . . . . . . . . . . . . . . . . . . . . . . . . . . . . .\n",
      ". . . . . . . . . . . . . . . . . . . . . . . . . . . . . . . . . . . . . . . . . . . . . . . . . . . . . . . . . . . . . . . . . . . . . . . . . . . . . . . . . . . . . . . . . . . . . . . . . . . T T . . . . . . . . . . . . . . . . . . . . . . . . . . . . . . . . . . . . . . . . . . . . . . . . . . . . . . . . . . . . . . . . . . . . . . . . . . . . . . . . . . . . . . . . . . . . . . . . . . . .\n",
      ". . . . . . . . . . . . . . . . . . . . . . . . . . . . . . . . . . . . . . . . . . . . . . . . . . . . . . . . . . . . . . . . . . . . . . . . . . . . . . . . . . . . . . . . . . . . . . . . . . . . T T . . . . . . . . . . . . . . . . . . . . . . . . . . . . . . . . . . . . . . . . . . . . . . . . . . . . . . . . . . . . . . . . . . . . . . . . . . . . . . . . . . . . . . . . . . . . . . . . . . .\n",
      ". . . . . . . . . . . . . . . . . . . . . . . . . . . . . . . . . . . . . . . . . . . . . . . . . . . . . . . . . . . . . . . . . . . . . . . . . . . . . . . . . . . . . . . . . . . . . . . . . . . . . T T . . . . . . . . . . . . . . . . . . . . . . . . . . . . . . . . . . . . . . . . . . . . . . . . . . . . . . . . . . . . . . . . . . . . . . . . . . . . . . . . . . . . . . . . . . . . . . . . . .\n",
      ". . . . . . . . . . . . . . . . . . . . . . . . . . . . . . . . . . . . . . . . . . . . . . . . . . . . . . . . . . . . . . . . . . . . . . . . . . . . . . . . . . . . . . . . . . . . . . . . . . . . . . T . . . . . . . . . . . . . . . . . . . . . . . . . . . . . . . . . . . . . . . . . . . . . . . . . . . . . . . . . . . . . . . . . . . . . . . . . . . . . . . . . . . . . . . . . . . . . . . . . .\n",
      ". . . . . . . . . . . . . . . . . . . . . . . . . . . . . . . . . . . . . . . . . . . . . . . . . . . . . . . . . . . . . . . . . . . . . . . . . . . . . . . . . . . . . . . . . . . . . . . . . . . . . . T T T . . . . . . . . . . . . . . . . . . . . . . . . . . . . . . . . . . . . . . . . . . . . . . . . . . . . . . . . . . . . . . . . . . . . . . . . . . . . . . . . . . . . . . . . . . . . . . . .\n",
      ". . . . . . . . . . . . . . . . . . . . . . . . . . . . . . . . . . . . . . . . . . . . . . . . . . . . . . . . . . . . . . . . . . . . . . . . . . . . . . . . . . . . . . . . . . . . . . . . . . . . . . T . T T T . . . . . . . . . . . . . . . . . . . . . . . . . . . . . . . . . . . . . . . . . . . . . . . . . . . . . . . . . . . . . . . . . . . . . . . . . . . . . . . . . . . . . . . . . . . . . .\n",
      ". . . . . . . . . . . . . . . . . . . . . . . . . . . . . . . . . . . . . . . . . . . . . . . . . . . . . . . . . . . . . . . . . . . . . . . . . . . . . . . . . . . . . . . . . . . . . . . . . . . . . . . . . . T . . . . . . . . . . . . . . . . . . . . . . . . . . . . . . . . . . . . . . . . . . . . . . . . . . . . . . . . . . . . . . . . . . . . . . . . . . . . . . . . . . . . . . . . . . . . . .\n",
      ". . . . . . . . . . . . . . . . . . . . . . . . . . . . . . . . . . . . . . . . . . . . . . . . . . . . . . . . . . . . . . . . . . . . . . . . . . . . . . . . . . . . . . . . . . . . . . . . . . . . . . . . . . T T T . . . . . . . . . . . . . . . . . . . . . . . . . . . . . . . . . . . . . . . . . . . . . . . . . . . . . . . . . . . . . . . . . . . . . . . . . . . . . . . . . . . . . . . . . . . .\n",
      ". . . . . . . . . . . . . . . . . . . . . . . . . . . . . . . . . . . . . . . . . . . . . . . . . . . . . . . . . . . . . . . . . . . . . . . . . . . . . . . . . . . . . . . . . . . . . . . . . . . . . . . . . . . T T . . . . . . . . . . . . . . . . . . . . . . . . . . . . . . . . . . . . . . . . . . . . . . . . . . . . . . . . . . . . . . . . . . . . . . . . . . . . . . . . . . . . . . . . . . . .\n",
      ". . . . . . . . . . . . . . . . . . . . . . . . . . . . . . . . . . . . . . . . . . . . . . . . . . . . . . . . . . . . . . . . . . . . . . . . . . . . . . . . . . . . . . . . . . . . . . . . . . . . . . . . . . . . T T . . . . . . . . . . . . . . . . . . . . . . . . . . . . . . . . . . . . . . . . . . . . . . . . . . . . . . . . . . . . . . . . . . . . . . . . . . . . . . . . . . . . . . . . . . .\n",
      ". . . . . . . . . . . . . . . . . . . . . . . . . . . . . . . . . . . . . . . . . . . . . . . . . . . . . . . . . . . . . . . . . . . . . . . . . . . . . . . . . . . . . . . . . . . . . . . . . . . . . . . . . . . . . T T . . . . . . . . . . . . . . . . . . . . . . . . . . . . . . . . . . . . . . . . . . . . . . . . . . . . . . . . . . . . . . . . . . . . . . . . . . . . . . . . . . . . . . . . . .\n",
      ". . . . . . . . . . . . . . . . . . . . . . . . . . . . . . . . . . . . . . . . . . . . . . . . . . . . . . . . . . . . . . . . . . . . . . . . . . . . . . . . . . . . . . . . . . . . . . . . . . . . . . . . . . . . . . T . . . . . . . . . . . . . . . . . . . . . . . . . . . . . . . . . . . . . . . . . . . . . . . . . . . . . . . . . . . . . . . . . . . . . . . . . . . . . . . . . . . . . . . . . .\n",
      ". . . . . . . . . . . . . . . . . . . . . . . . . . . . . . . . . . . . . . . . . . . . . . . . . . . . . . . . . . . . . . . . . . . . . . . . . . . . . . . . . . . . . . . . . . . . . . . . . . . . . . . . . . . . . . T . . . . . . . . . . . . . . . . . . . . . . . . . . . . . . . . . . . . . . . . . . . . . . . . . . . . . . . . . . . . . . . . . . . . . . . . . . . . . . . . . . . . . . . . . .\n",
      ". . . . . . . . . . . . . . . . . . . . . . . . . . . . . . . . . . . . . . . . . . . . . . . . . . . . . . . . . . . . . . . . . . . . . . . . . . . . . . . . . . . . . . . . . . . . . . . . . . . . . . . . . . . . . . T T T . . . . . . . . . . . . . . . . . . . . . . . . . . . . . . . . . . . . . . . . . . . . . . . . . . . . . . . . . . . . . . . . . . . . . . . . . . . . . . . . . . . . . . . .\n",
      ". . . . . . . . . . . . . . . . . . . . . . . . . . . . . . . . . . . . . . . . . . . . . . . . . . . . . . . . . . . . . . . . . . . . . . . . . . . . . . . . . . . . . . . . . . . . . . . . . . . . . . . . . . . . . . . . T T T . . . . . . . . . . . . . . . . . . . . . . . . . . . . . . . . . . . . . . . . . . . . . . . . . . . . . . . . . . . . . . . . . . . . . . . . . . . . . . . . . . . . . .\n",
      ". . . . . . . . . . . . . . . . . . . . . . . . . . . . . . . . . . . . . . . . . . . . . . . . . . . . . . . . . . . . . . . . . . . . . . . . . . . . . . . . . . . . . . . . . . . . . . . . . . . . . . . . . . . . . . . . . . T . . . . . . . . . . . . . . . . . . . . . . . . . . . . . . . . . . . . . . . . . . . . . . . . . . . . . . . . . . . . . . . . . . . . . . . . . . . . . . . . . . . . . .\n",
      ". . . . . . . . . . . . . . . . . . . . . . . . . . . . . . . . . . . . . . . . . . . . . . . . . . . . . . . . . . . . . . . . . . . . . . . . . . . . . . . . . . . . . . . . . . . . . . . . . . . . . . . . . . . . . . . . . . T . . . . . . . . . . . . . . . . . . . . . . . . . . . . . . . . . . . . . . . . . . . . . . . . . . . . . . . . . . . . . . . . . . . . . . . . . . . . . . . . . . . . . .\n",
      ". . . . . . . . . . . . . . . . . . . . . . . . . . . . . . . . . . . . . . . . . . . . . . . . . . . . . . . . . . . . . . . . . . . . . . . . . . . . . . . . . . . . . . . . . . . . . . . . . . . . . . . . . . . . . . . . . . T . . . . . . . . . . . . . . . . . . . . . . . . . . . . . . . . . . . . . . . . . . . . . . . . . . . . . . . . . . . . . . . . . . . . . . . . . . . . . . . . . . . . . .\n",
      ". . . . . . . . . . . . . . . . . . . . . . . . . . . . . . . . . . . . . . . . . . . . . . . . . . . . . . . . . . . . . . . . . . . . . . . . . . . . . . . . . . . . . . . . . . . . . . . . . . . . . . . . . . . . . . . . . . T T . . . . . . . . . . . . . . . . . . . . . . . . . . . . . . . . . . . . . . . . . . . . . . . . . . . . . . . . . . . . . . . . . . . . . . . . . . . . . . . . . . . . .\n",
      ". . . . . . . . . . . . . . . . . . . . . . . . . . . . . . . . . . . . . . . . . . . . . . . . . . . . . . . . . . . . . . . . . . . . . . . . . . . . . . . . . . . . . . . . . . . . . . . . . . . . . . . . . . . . . . . . . . . T T T T . . . . . . . . . . . . . . . . . . . . . . . . . . . . . . . . . . . . . . . . . . . . . . . . . . . . . . . . . . . . . . . . . . . . . . . . . . . . . . . . . .\n",
      ". . . . . . . . . . . . . . . . . . . . . . . . . . . . . . . . . . . . . . . . . . . . . . . . . . . . . . . . . . . . . . . . . . . . . . . . . . . . . . . . . . . . . . . . . . . . . . . . . . . . . . . . . . . . . . . . . . . . T T T T T . . . . . . . . . . . . . . . . . . . . . . . . . . . . . . . . . . . . . . . . . . . . . . . . . . . . . . . . . . . . . . . . . . . . . . . . . . . . . . . .\n",
      ". . . . . . . . . . . . . . . . . . . . . . . . . . . . . . . . . . . . . . . . . . . . . . . . . . . . . . . . . . . . . . . . . . . . . . . . . . . . . . . . . . . . . . . . . . . . . . . . . . . . . . . . . . . . . . . . . . . . . . T . T T . . . . . . . . . . . . . . . . . . . . . . . . . . . . . . . . . . . . . . . . . . . . . . . . . . . . . . . . . . . . . . . . . . . . . . . . . . . . . . .\n",
      ". . . . . . . . . . . . . . . . . . . . . . . . . . . . . . . . . . . . . . . . . . . . . . . . . . . . . . . . . . . . . . . . . . . . . . . . . . . . . . . . . . . . . . . . . . . . . . . . . . . . . . . . . . . . . . . . . . . . . . . . . T . . . . . . . . . . . . . . . . . . . . . . . . . . . . . . . . . . . . . . . . . . . . . . . . . . . . . . . . . . . . . . . . . . . . . . . . . . . . . . .\n",
      ". . . . . . . . . . . . . . . . . . . . . . . . . . . . . . . . . . . . . . . . . . . . . . . . . . . . . . . . . . . . . . . . . . . . . . . . . . . . . . . . . . . . . . . . . . . . . . . . . . . . . . . . . . . . . . . . . . . . . . . . . T . . . . . . . . . . . . . . . . . . . . . . . . . . . . . . . . . . . . . . . . . . . . . . . . . . . . . . . . . . . . . . . . . . . . . . . . . . . . . . .\n",
      ". . . . . . . . . . . . . . . . . . . . . . . . . . . . . . . . . . . . . . . . . . . . . . . . . . . . . . . . . . . . . . . . . . . . . . . . . . . . . . . . . . . . . . . . . . . . . . . . . . . . . . . . . . . . . . . . . . . . . . . . . T T T T T T T . . . . . . . . . . . . . . . . . . . . . . . . . . . . . . . . . . . . . . . . . . . . . . . . . . . . . . . . . . . . . . . . . . . . . . . . .\n",
      ". . . . . . . . . . . . . . . . . . . . . . . . . . . . . . . . . . . . . . . . . . . . . . . . . . . . . . . . . . . . . . . . . . . . . . . . . . . . . . . . . . . . . . . . . . . . . . . . . . . . . . . . . . . . . . . . . . . . . . . . . . . T . . . T . . . . . . . . . . . . . . . . . . . . . . . . . . . . . . . . . . . . . . . . . . . . . . . . . . . . . . . . . . . . . . . . . . . . . . . . .\n",
      ". . . . . . . . . . . . . . . . . . . . . . . . . . . . . . . . . . . . . . . . . . . . . . . . . . . . . . . . . . . . . . . . . . . . . . . . . . . . . . . . . . . . . . . . . . . . . . . . . . . . . . . . . . . . . . . . . . . . . . . . . . . . . . . T . . . . . . . . . . . . . . . . . . . . . . . . . . . . . . . . . . . . . . . . . . . . . . . . . . . . . . . . . . . . . . . . . . . . . . . . .\n",
      ". . . . . . . . . . . . . . . . . . . . . . . . . . . . . . . . . . . . . . . . . . . . . . . . . . . . . . . . . . . . . . . . . . . . . . . . . . . . . . . . . . . . . . . . . . . . . . . . . . . . . . . . . . . . . . . . . . . . . . . . . . . . . . . T T . . . . . . . . . . . . . . . . . . . . . . . . . . . . . . . . . . . . . . . . . . . . . . . . . . . . . . . . . . . . . . . . . . . . . . . .\n",
      ". . . . . . . . . . . . . . . . . . . . . . . . . . . . . . . . . . . . . . . . . . . . . . . . . . . . . . . . . . . . . . . . . . . . . . . . . . . . . . . . . . . . . . . . . . . . . . . . . . . . . . . . . . . . . . . . . . . . . . . . . . . . . . . . T . . . . . . . . . . . . . . . . . . . . . . . . . . . . . . . . . . . . . . . . . . . . . . . . . . . . . . . . . . . . . . . . . . . . . . . .\n",
      ". . . . . . . . . . . . . . . . . . . . . . . . . . . . . . . . . . . . . . . . . . . . . . . . . . . . . . . . . . . . . . . . . . . . . . . . . . . . . . . . . . . . . . . . . . . . . . . . . . . . . . . . . . . . . . . . . . . . . . . . . . . . . . . . T T T . . . . . . . . . . . . . . . . . . . . . . . . . . . . . . . . . . . . . . . . . . . . . . . . . . . . . . . . . . . . . . . . . . . . . .\n",
      ". . . . . . . . . . . . . . . . . . . . . . . . . . . . . . . . . . . . . . . . . . . . . . . . . . . . . . . . . . . . . . . . . . . . . . . . . . . . . . . . . . . . . . . . . . . . . . . . . . . . . . . . . . . . . . . . . . . . . . . . . . . . . . . . . . T . . . . . . . . . . . . . . . . . . . . . . . . . . . . . . . . . . . . . . . . . . . . . . . . . . . . . . . . . . . . . . . . . . . . . .\n",
      ". . . . . . . . . . . . . . . . . . . . . . . . . . . . . . . . . . . . . . . . . . . . . . . . . . . . . . . . . . . . . . . . . . . . . . . . . . . . . . . . . . . . . . . . . . . . . . . . . . . . . . . . . . . . . . . . . . . . . . . . . . . . . . . . . . T T T . . . . . . . . . . . . . . . . . . . . . . . . . . . . . . . . . . . . . . . . . . . . . . . . . . . . . . . . . . . . . . . . . . . .\n",
      ". . . . . . . . . . . . . . . . . . . . . . . . . . . . . . . . . . . . . . . . . . . . . . . . . . . . . . . . . . . . . . . . . . . . . . . . . . . . . . . . . . . . . . . . . . . . . . . . . . . . . . . . . . . . . . . . . . . . . . . . . . . . . . . . . . . T . . . . . . . . . . . . . . . . . . . . . . . . . . . . . . . . . . . . . . . . . . . . . . . . . . . . . . . . . . . . . . . . . . . . .\n",
      ". . . . . . . . . . . . . . . . . . . . . . . . . . . . . . . . . . . . . . . . . . . . . . . . . . . . . . . . . . . . . . . . . . . . . . . . . . . . . . . . . . . . . . . . . . . . . . . . . . . . . . . . . . . . . . . . . . . . . . . . . . . . . . . . . . . T . . . . . . . . . . . . . . . . . . . . . . . . . . . . . . . . . . . . . . . . . . . . . . . . . . . . . . . . . . . . . . . . . . . . .\n",
      ". . . . . . . . . . . . . . . . . . . . . . . . . . . . . . . . . . . . . . . . . . . . . . . . . . . . . . . . . . . . . . . . . . . . . . . . . . . . . . . . . . . . . . . . . . . . . . . . . . . . . . . . . . . . . . . . . . . . . . . . . . . . . . . . . . . T T T . . . . . . . . . . . . . . . . . . . . . . . . . . . . . . . . . . . . . . . . . . . . . . . . . . . . . . . . . . . . . . . . . . .\n",
      ". . . . . . . . . . . . . . . . . . . . . . . . . . . . . . . . . . . . . . . . . . . . . . . . . . . . . . . . . . . . . . . . . . . . . . . . . . . . . . . . . . . . . . . . . . . . . . . . . . . . . . . . . . . . . . . . . . . . . . . . . . . . . . . . . . . . . T T T . . . . . . . . . . . . . . . . . . . . . . . . . . . . . . . . . . . . . . . . . . . . . . . . . . . . . . . . . . . . . . . . .\n",
      ". . . . . . . . . . . . . . . . . . . . . . . . . . . . . . . . . . . . . . . . . . . . . . . . . . . . . . . . . . . . . . . . . . . . . . . . . . . . . . . . . . . . . . . . . . . . . . . . . . . . . . . . . . . . . . . . . . . . . . . . . . . . . . . . . . . . . . . T . . . . . . . . . . . . . . . . . . . . . . . . . . . . . . . . . . . . . . . . . . . . . . . . . . . . . . . . . . . . . . . . .\n",
      ". . . . . . . . . . . . . . . . . . . . . . . . . . . . . . . . . . . . . . . . . . . . . . . . . . . . . . . . . . . . . . . . . . . . . . . . . . . . . . . . . . . . . . . . . . . . . . . . . . . . . . . . . . . . . . . . . . . . . . . . . . . . . . . . . . . . . . . T . . . . . . . . . . . . . . . . . . . . . . . . . . . . . . . . . . . . . . . . . . . . . . . . . . . . . . . . . . . . . . . . .\n",
      ". . . . . . . . . . . . . . . . . . . . . . . . . . . . . . . . . . . . . . . . . . . . . . . . . . . . . . . . . . . . . . . . . . . . . . . . . . . . . . . . . . . . . . . . . . . . . . . . . . . . . . . . . . . . . . . . . . . . . . . . . . . . . . . . . . . . . . . T T . . . . . . . . . . . . . . . . . . . . . . . . . . . . . . . . . . . . . . . . . . . . . . . . . . . . . . . . . . . . . . . .\n",
      ". . . . . . . . . . . . . . . . . . . . . . . . . . . . . . . . . . . . . . . . . . . . . . . . . . . . . . . . . . . . . . . . . . . . . . . . . . . . . . . . . . . . . . . . . . . . . . . . . . . . . . . . . . . . . . . . . . . . . . . . . . . . . . . . . . . . . . . . T . . . . . . . . . . . . . . . . . . . . . . . . . . . . . . . . . . . . . . . . . . . . . . . . . . . . . . . . . . . . . . . .\n",
      ". . . . . . . . . . . . . . . . . . . . . . . . . . . . . . . . . . . . . . . . . . . . . . . . . . . . . . . . . . . . . . . . . . . . . . . . . . . . . . . . . . . . . . . . . . . . . . . . . . . . . . . . . . . . . . . . . . . . . . . . . . . . . . . . . . . . . . . . T . . . . . . . . . . . . . . . . . . . . . . . . . . . . . . . . . . . . . . . . . . . . . . . . . . . . . . . . . . . . . . . .\n",
      ". . . . . . . . . . . . . . . . . . . . . . . . . . . . . . . . . . . . . . . . . . . . . . . . . . . . . . . . . . . . . . . . . . . . . . . . . . . . . . . . . . . . . . . . . . . . . . . . . . . . . . . . . . . . . . . . . . . . . . . . . . . . . . . . . . . . . . . . T . . . . . . . . . . . . . . . . . . . . . . . . . . . . . . . . . . . . . . . . . . . . . . . . . . . . . . . . . . . . . . . .\n",
      ". . . . . . . . . . . . . . . . . . . . . . . . . . . . . . . . . . . . . . . . . . . . . . . . . . . . . . . . . . . . . . . . . . . . . . . . . . . . . . . . . . . . . . . . . . . . . . . . . . . . . . . . . . . . . . . . . . . . . . . . . . . . . . . . . . . . . . . . T . . . . . . . . . . . . . . . . . . . . . . . . . . . . . . . . . . . . . . . . . . . . . . . . . . . . . . . . . . . . . . . .\n",
      ". . . . . . . . . . . . . . . . . . . . . . . . . . . . . . . . . . . . . . . . . . . . . . . . . . . . . . . . . . . . . . . . . . . . . . . . . . . . . . . . . . . . . . . . . . . . . . . . . . . . . . . . . . . . . . . . . . . . . . . . . . . . . . . . . . . . . . . . T T . . . . . . . . . . . . . . . . . . . . . . . . . . . . . . . . . . . . . . . . . . . . . . . . . . . . . . . . . . . . . . .\n",
      ". . . . . . . . . . . . . . . . . . . . . . . . . . . . . . . . . . . . . . . . . . . . . . . . . . . . . . . . . . . . . . . . . . . . . . . . . . . . . . . . . . . . . . . . . . . . . . . . . . . . . . . . . . . . . . . . . . . . . . . . . . . . . . . . . . . . . . . . . T T . . . . . . . . . . . . . . . . . . . . . . . . . . . . . . . . . . . . . . . . . . . . . . . . . . . . . . . . . . . . . .\n",
      ". . . . . . . . . . . . . . . . . . . . . . . . . . . . . . . . . . . . . . . . . . . . . . . . . . . . . . . . . . . . . . . . . . . . . . . . . . . . . . . . . . . . . . . . . . . . . . . . . . . . . . . . . . . . . . . . . . . . . . . . . . . . . . . . . . . . . . . . . T T T . . . . . . . . . . . . . . . . . . . . . . . . . . . . . . . . . . . . . . . . . . . . . . . . . . . . . . . . . . . . .\n",
      ". . . . . . . . . . . . . . . . . . . . . . . . . . . . . . . . . . . . . . . . . . . . . . . . . . . . . . . . . . . . . . . . . . . . . . . . . . . . . . . . . . . . . . . . . . . . . . . . . . . . . . . . . . . . . . . . . . . . . . . . . . . . . . . . . . . . . . . . . . T T T . . . . . . . . . . . . . . . . . . . . . . . . . . . . . . . . . . . . . . . . . . . . . . . . . . . . . . . . . . . .\n",
      ". . . . . . . . . . . . . . . . . . . . . . . . . . . . . . . . . . . . . . . . . . . . . . . . . . . . . . . . . . . . . . . . . . . . . . . . . . . . . . . . . . . . . . . . . . . . . . . . . . . . . . . . . . . . . . . . . . . . . . . . . . . . . . . . . . . . . . . . . . . . T T . . . . . . . . . . . . . . . . . . . . . . . . . . . . . . . . . . . . . . . . . . . . . . . . . . . . . . . . . . .\n",
      ". . . . . . . . . . . . . . . . . . . . . . . . . . . . . . . . . . . . . . . . . . . . . . . . . . . . . . . . . . . . . . . . . . . . . . . . . . . . . . . . . . . . . . . . . . . . . . . . . . . . . . . . . . . . . . . . . . . . . . . . . . . . . . . . . . . . . . . . . . . . . T T . . . . . . . . . . . . . . . . . . . . . . . . . . . . . . . . . . . . . . . . . . . . . . . . . . . . . . . . . .\n",
      ". . . . . . . . . . . . . . . . . . . . . . . . . . . . . . . . . . . . . . . . . . . . . . . . . . . . . . . . . . . . . . . . . . . . . . . . . . . . . . . . . . . . . . . . . . . . . . . . . . . . . . . . . . . . . . . . . . . . . . . . . . . . . . . . . . . . . . . . . . . . . T T T T T . . . . . . . . . . . . . . . . . . . . . . . . . . . . . . . . . . . . . . . . . . . . . . . . . . . . . . .\n",
      ". . . . . . . . . . . . . . . . . . . . . . . . . . . . . . . . . . . . . . . . . . . . . . . . . . . . . . . . . . . . . . . . . . . . . . . . . . . . . . . . . . . . . . . . . . . . . . . . . . . . . . . . . . . . . . . . . . . . . . . . . . . . . . . . . . . . . . . . . . . . . . . . . T T T T . . . . . . . . . . . . . . . . . . . . . . . . . . . . . . . . . . . . . . . . . . . . . . . . . . . .\n",
      ". . . . . . . . . . . . . . . . . . . . . . . . . . . . . . . . . . . . . . . . . . . . . . . . . . . . . . . . . . . . . . . . . . . . . . . . . . . . . . . . . . . . . . . . . . . . . . . . . . . . . . . . . . . . . . . . . . . . . . . . . . . . . . . . . . . . . . . . . . . . . . . . . . . . T . . . . . . . . . . . . . . . . . . . . . . . . . . . . . . . . . . . . . . . . . . . . . . . . . . . .\n",
      ". . . . . . . . . . . . . . . . . . . . . . . . . . . . . . . . . . . . . . . . . . . . . . . . . . . . . . . . . . . . . . . . . . . . . . . . . . . . . . . . . . . . . . . . . . . . . . . . . . . . . . . . . . . . . . . . . . . . . . . . . . . . . . . . . . . . . . . . . . . . . . . . . . . . T T T T . . . . . . . . . . . . . . . . . . . . . . . . . . . . . . . . . . . . . . . . . . . . . . . . .\n",
      ". . . . . . . . . . . . . . . . . . . . . . . . . . . . . . . . . . . . . . . . . . . . . . . . . . . . . . . . . . . . . . . . . . . . . . . . . . . . . . . . . . . . . . . . . . . . . . . . . . . . . . . . . . . . . . . . . . . . . . . . . . . . . . . . . . . . . . . . . . . . . . . . . . . . . . . T . . . . . . . . . . . . . . . . . . . . . . . . . . . . . . . . . . . . . . . . . . . . . . . . .\n",
      ". . . . . . . . . . . . . . . . . . . . . . . . . . . . . . . . . . . . . . . . . . . . . . . . . . . . . . . . . . . . . . . . . . . . . . . . . . . . . . . . . . . . . . . . . . . . . . . . . . . . . . . . . . . . . . . . . . . . . . . . . . . . . . . . . . . . . . . . . . . . . . . . . . . . . . . T T . . . . . . . . . . . . . . . . . . . . . . . . . . . . . . . . . . . . . . . . . . . . . . . .\n",
      ". . . . . . . . . . . . . . . . . . . . . . . . . . . . . . . . . . . . . . . . . . . . . . . . . . . . . . . . . . . . . . . . . . . . . . . . . . . . . . . . . . . . . . . . . . . . . . . . . . . . . . . . . . . . . . . . . . . . . . . . . . . . . . . . . . . . . . . . . . . . . . . . . . . . . . . T . . . . . . . . . . . . . . . . . . . . . . . . . . . . . . . . . . . . . . . . . . . . . . . . .\n",
      ". . . . . . . . . . . . . . . . . . . . . . . . . . . . . . . . . . . . . . . . . . . . . . . . . . . . . . . . . . . . . . . . . . . . . . . . . . . . . . . . . . . . . . . . . . . . . . . . . . . . . . . . . . . . . . . . . . . . . . . . . . . . . . . . . . . . . . . . . . . . . . . . . . . . . . . T T T . . . . . . . . . . . . . . . . . . . . . . . . . . . . . . . . . . . . . . . . . . . . . . .\n",
      ". . . . . . . . . . . . . . . . . . . . . . . . . . . . . . . . . . . . . . . . . . . . . . . . . . . . . . . . . . . . . . . . . . . . . . . . . . . . . . . . . . . . . . . . . . . . . . . . . . . . . . . . . . . . . . . . . . . . . . . . . . . . . . . . . . . . . . . . . . . . . . . . . . . . . . . . . T . . . . . . . . . . . . . . . . . . . . . . . . . . . . . . . . . . . . . . . . . . . . . . .\n",
      ". . . . . . . . . . . . . . . . . . . . . . . . . . . . . . . . . . . . . . . . . . . . . . . . . . . . . . . . . . . . . . . . . . . . . . . . . . . . . . . . . . . . . . . . . . . . . . . . . . . . . . . . . . . . . . . . . . . . . . . . . . . . . . . . . . . . . . . . . . . . . . . . . . . . . . . . . T . . . . . . . . . . . . . . . . . . . . . . . . . . . . . . . . . . . . . . . . . . . . . . .\n",
      ". . . . . . . . . . . . . . . . . . . . . . . . . . . . . . . . . . . . . . . . . . . . . . . . . . . . . . . . . . . . . . . . . . . . . . . . . . . . . . . . . . . . . . . . . . . . . . . . . . . . . . . . . . . . . . . . . . . . . . . . . . . . . . . . . . . . . . . . . . . . . . . . . . . . . . . . . T . . . . . . . . . . . . . . . . . . . . . . . . . . . . . . . . . . . . . . . . . . . . . . .\n",
      ". . . . . . . . . . . . . . . . . . . . . . . . . . . . . . . . . . . . . . . . . . . . . . . . . . . . . . . . . . . . . . . . . . . . . . . . . . . . . . . . . . . . . . . . . . . . . . . . . . . . . . . . . . . . . . . . . . . . . . . . . . . . . . . . . . . . . . . . . . . . . . . . . . . . . . . . . T T . . . . . . . . . . . . . . . . . . . . . . . . . . . . . . . . . . . . . . . . . . . . . .\n",
      ". . . . . . . . . . . . . . . . . . . . . . . . . . . . . . . . . . . . . . . . . . . . . . . . . . . . . . . . . . . . . . . . . . . . . . . . . . . . . . . . . . . . . . . . . . . . . . . . . . . . . . . . . . . . . . . . . . . . . . . . . . . . . . . . . . . . . . . . . . . . . . . . . . . . . . . . . . T T T T . . . . . . . . . . . . . . . . . . . . . . . . . . . . . . . . . . . . . . . . . . .\n",
      ". . . . . . . . . . . . . . . . . . . . . . . . . . . . . . . . . . . . . . . . . . . . . . . . . . . . . . . . . . . . . . . . . . . . . . . . . . . . . . . . . . . . . . . . . . . . . . . . . . . . . . . . . . . . . . . . . . . . . . . . . . . . . . . . . . . . . . . . . . . . . . . . . . . . . . . . . . T . . T T T . . . . . . . . . . . . . . . . . . . . . . . . . . . . . . . . . . . . . . . . .\n",
      ". . . . . . . . . . . . . . . . . . . . . . . . . . . . . . . . . . . . . . . . . . . . . . . . . . . . . . . . . . . . . . . . . . . . . . . . . . . . . . . . . . . . . . . . . . . . . . . . . . . . . . . . . . . . . . . . . . . . . . . . . . . . . . . . . . . . . . . . . . . . . . . . . . . . . . . . . . . . . . . T T . . . . . . . . . . . . . . . . . . . . . . . . . . . . . . . . . . . . . . . .\n",
      ". . . . . . . . . . . . . . . . . . . . . . . . . . . . . . . . . . . . . . . . . . . . . . . . . . . . . . . . . . . . . . . . . . . . . . . . . . . . . . . . . . . . . . . . . . . . . . . . . . . . . . . . . . . . . . . . . . . . . . . . . . . . . . . . . . . . . . . . . . . . . . . . . . . . . . . . . . . . . . . . T . . . . . . . . . . . . . . . . . . . . . . . . . . . . . . . . . . . . . . . .\n",
      ". . . . . . . . . . . . . . . . . . . . . . . . . . . . . . . . . . . . . . . . . . . . . . . . . . . . . . . . . . . . . . . . . . . . . . . . . . . . . . . . . . . . . . . . . . . . . . . . . . . . . . . . . . . . . . . . . . . . . . . . . . . . . . . . . . . . . . . . . . . . . . . . . . . . . . . . . . . . . . . . T . . . . . . . . . . . . . . . . . . . . . . . . . . . . . . . . . . . . . . . .\n",
      ". . . . . . . . . . . . . . . . . . . . . . . . . . . . . . . . . . . . . . . . . . . . . . . . . . . . . . . . . . . . . . . . . . . . . . . . . . . . . . . . . . . . . . . . . . . . . . . . . . . . . . . . . . . . . . . . . . . . . . . . . . . . . . . . . . . . . . . . . . . . . . . . . . . . . . . . . . . . . . . . T T T T T T T . . . . . . . . . . . . . . . . . . . . . . . . . . . . . . . . . .\n",
      ". . . . . . . . . . . . . . . . . . . . . . . . . . . . . . . . . . . . . . . . . . . . . . . . . . . . . . . . . . . . . . . . . . . . . . . . . . . . . . . . . . . . . . . . . . . . . . . . . . . . . . . . . . . . . . . . . . . . . . . . . . . . . . . . . . . . . . . . . . . . . . . . . . . . . . . . . . . . . . . . . . . . . . T . . . . . . . . . . . . . . . . . . . . . . . . . . . . . . . . . .\n",
      ". . . . . . . . . . . . . . . . . . . . . . . . . . . . . . . . . . . . . . . . . . . . . . . . . . . . . . . . . . . . . . . . . . . . . . . . . . . . . . . . . . . . . . . . . . . . . . . . . . . . . . . . . . . . . . . . . . . . . . . . . . . . . . . . . . . . . . . . . . . . . . . . . . . . . . . . . . . . . . . . . . . . . . T T . . . . . . . . . . . . . . . . . . . . . . . . . . . . . . . . .\n",
      ". . . . . . . . . . . . . . . . . . . . . . . . . . . . . . . . . . . . . . . . . . . . . . . . . . . . . . . . . . . . . . . . . . . . . . . . . . . . . . . . . . . . . . . . . . . . . . . . . . . . . . . . . . . . . . . . . . . . . . . . . . . . . . . . . . . . . . . . . . . . . . . . . . . . . . . . . . . . . . . . . . . . . . . T . . . . . . . . . . . . . . . . . . . . . . . . . . . . . . . . .\n",
      ". . . . . . . . . . . . . . . . . . . . . . . . . . . . . . . . . . . . . . . . . . . . . . . . . . . . . . . . . . . . . . . . . . . . . . . . . . . . . . . . . . . . . . . . . . . . . . . . . . . . . . . . . . . . . . . . . . . . . . . . . . . . . . . . . . . . . . . . . . . . . . . . . . . . . . . . . . . . . . . . . . . . . . . T . . . . . . . . . . . . . . . . . . . . . . . . . . . . . . . . .\n",
      ". . . . . . . . . . . . . . . . . . . . . . . . . . . . . . . . . . . . . . . . . . . . . . . . . . . . . . . . . . . . . . . . . . . . . . . . . . . . . . . . . . . . . . . . . . . . . . . . . . . . . . . . . . . . . . . . . . . . . . . . . . . . . . . . . . . . . . . . . . . . . . . . . . . . . . . . . . . . . . . . . . . . . . . T . . . . . . . . . . . . . . . . . . . . . . . . . . . . . . . . .\n",
      ". . . . . . . . . . . . . . . . . . . . . . . . . . . . . . . . . . . . . . . . . . . . . . . . . . . . . . . . . . . . . . . . . . . . . . . . . . . . . . . . . . . . . . . . . . . . . . . . . . . . . . . . . . . . . . . . . . . . . . . . . . . . . . . . . . . . . . . . . . . . . . . . . . . . . . . . . . . . . . . . . . . . . . . T T T T . . . . . . . . . . . . . . . . . . . . . . . . . . . . . .\n",
      ". . . . . . . . . . . . . . . . . . . . . . . . . . . . . . . . . . . . . . . . . . . . . . . . . . . . . . . . . . . . . . . . . . . . . . . . . . . . . . . . . . . . . . . . . . . . . . . . . . . . . . . . . . . . . . . . . . . . . . . . . . . . . . . . . . . . . . . . . . . . . . . . . . . . . . . . . . . . . . . . . . . . . . . T T T . . . . . . . . . . . . . . . . . . . . . . . . . . . . . . .\n",
      ". . . . . . . . . . . . . . . . . . . . . . . . . . . . . . . . . . . . . . . . . . . . . . . . . . . . . . . . . . . . . . . . . . . . . . . . . . . . . . . . . . . . . . . . . . . . . . . . . . . . . . . . . . . . . . . . . . . . . . . . . . . . . . . . . . . . . . . . . . . . . . . . . . . . . . . . . . . . . . . . . . . . . . . . . T T T T T T . . . . . . . . . . . . . . . . . . . . . . . . . .\n",
      ". . . . . . . . . . . . . . . . . . . . . . . . . . . . . . . . . . . . . . . . . . . . . . . . . . . . . . . . . . . . . . . . . . . . . . . . . . . . . . . . . . . . . . . . . . . . . . . . . . . . . . . . . . . . . . . . . . . . . . . . . . . . . . . . . . . . . . . . . . . . . . . . . . . . . . . . . . . . . . . . . . . . . . . . . . . T T . T T T . . . . . . . . . . . . . . . . . . . . . . . .\n",
      ". . . . . . . . . . . . . . . . . . . . . . . . . . . . . . . . . . . . . . . . . . . . . . . . . . . . . . . . . . . . . . . . . . . . . . . . . . . . . . . . . . . . . . . . . . . . . . . . . . . . . . . . . . . . . . . . . . . . . . . . . . . . . . . . . . . . . . . . . . . . . . . . . . . . . . . . . . . . . . . . . . . . . . . . . . . . . . . T T . . . . . . . . . . . . . . . . . . . . . . . .\n",
      ". . . . . . . . . . . . . . . . . . . . . . . . . . . . . . . . . . . . . . . . . . . . . . . . . . . . . . . . . . . . . . . . . . . . . . . . . . . . . . . . . . . . . . . . . . . . . . . . . . . . . . . . . . . . . . . . . . . . . . . . . . . . . . . . . . . . . . . . . . . . . . . . . . . . . . . . . . . . . . . . . . . . . . . . . . . . . . . . T . . . . . . . . . . . . . . . . . . . . . . . .\n",
      ". . . . . . . . . . . . . . . . . . . . . . . . . . . . . . . . . . . . . . . . . . . . . . . . . . . . . . . . . . . . . . . . . . . . . . . . . . . . . . . . . . . . . . . . . . . . . . . . . . . . . . . . . . . . . . . . . . . . . . . . . . . . . . . . . . . . . . . . . . . . . . . . . . . . . . . . . . . . . . . . . . . . . . . . . . . . . . . . T T . . . . . . . . . . . . . . . . . . . . . . .\n",
      ". . . . . . . . . . . . . . . . . . . . . . . . . . . . . . . . . . . . . . . . . . . . . . . . . . . . . . . . . . . . . . . . . . . . . . . . . . . . . . . . . . . . . . . . . . . . . . . . . . . . . . . . . . . . . . . . . . . . . . . . . . . . . . . . . . . . . . . . . . . . . . . . . . . . . . . . . . . . . . . . . . . . . . . . . . . . . . . . . T . . . . . . . . . . . . . . . . . . . . . . .\n",
      ". . . . . . . . . . . . . . . . . . . . . . . . . . . . . . . . . . . . . . . . . . . . . . . . . . . . . . . . . . . . . . . . . . . . . . . . . . . . . . . . . . . . . . . . . . . . . . . . . . . . . . . . . . . . . . . . . . . . . . . . . . . . . . . . . . . . . . . . . . . . . . . . . . . . . . . . . . . . . . . . . . . . . . . . . . . . . . . . . T . . . . . . . . . . . . . . . . . . . . . . .\n",
      ". . . . . . . . . . . . . . . . . . . . . . . . . . . . . . . . . . . . . . . . . . . . . . . . . . . . . . . . . . . . . . . . . . . . . . . . . . . . . . . . . . . . . . . . . . . . . . . . . . . . . . . . . . . . . . . . . . . . . . . . . . . . . . . . . . . . . . . . . . . . . . . . . . . . . . . . . . . . . . . . . . . . . . . . . . . . . . . . . T . . . . . . . . . . . . . . . . . . . . . . .\n",
      ". . . . . . . . . . . . . . . . . . . . . . . . . . . . . . . . . . . . . . . . . . . . . . . . . . . . . . . . . . . . . . . . . . . . . . . . . . . . . . . . . . . . . . . . . . . . . . . . . . . . . . . . . . . . . . . . . . . . . . . . . . . . . . . . . . . . . . . . . . . . . . . . . . . . . . . . . . . . . . . . . . . . . . . . . . . . . . . . . T T T . . . . . . . . . . . . . . . . . . . . .\n",
      ". . . . . . . . . . . . . . . . . . . . . . . . . . . . . . . . . . . . . . . . . . . . . . . . . . . . . . . . . . . . . . . . . . . . . . . . . . . . . . . . . . . . . . . . . . . . . . . . . . . . . . . . . . . . . . . . . . . . . . . . . . . . . . . . . . . . . . . . . . . . . . . . . . . . . . . . . . . . . . . . . . . . . . . . . . . . . . . . . . . T T T . . . . . . . . . . . . . . . . . . .\n",
      ". . . . . . . . . . . . . . . . . . . . . . . . . . . . . . . . . . . . . . . . . . . . . . . . . . . . . . . . . . . . . . . . . . . . . . . . . . . . . . . . . . . . . . . . . . . . . . . . . . . . . . . . . . . . . . . . . . . . . . . . . . . . . . . . . . . . . . . . . . . . . . . . . . . . . . . . . . . . . . . . . . . . . . . . . . . . . . . . . . . . . T T T T T . . . . . . . . . . . . . . .\n",
      ". . . . . . . . . . . . . . . . . . . . . . . . . . . . . . . . . . . . . . . . . . . . . . . . . . . . . . . . . . . . . . . . . . . . . . . . . . . . . . . . . . . . . . . . . . . . . . . . . . . . . . . . . . . . . . . . . . . . . . . . . . . . . . . . . . . . . . . . . . . . . . . . . . . . . . . . . . . . . . . . . . . . . . . . . . . . . . . . . . . . . T . . T T T T T . . . . . . . . . . . .\n",
      ". . . . . . . . . . . . . . . . . . . . . . . . . . . . . . . . . . . . . . . . . . . . . . . . . . . . . . . . . . . . . . . . . . . . . . . . . . . . . . . . . . . . . . . . . . . . . . . . . . . . . . . . . . . . . . . . . . . . . . . . . . . . . . . . . . . . . . . . . . . . . . . . . . . . . . . . . . . . . . . . . . . . . . . . . . . . . . . . . . . . . . . . T . . T T T T T . . . . . . . . .\n",
      ". . . . . . . . . . . . . . . . . . . . . . . . . . . . . . . . . . . . . . . . . . . . . . . . . . . . . . . . . . . . . . . . . . . . . . . . . . . . . . . . . . . . . . . . . . . . . . . . . . . . . . . . . . . . . . . . . . . . . . . . . . . . . . . . . . . . . . . . . . . . . . . . . . . . . . . . . . . . . . . . . . . . . . . . . . . . . . . . . . . . . . . . . . . . . . . T . . . . . . . . .\n",
      ". . . . . . . . . . . . . . . . . . . . . . . . . . . . . . . . . . . . . . . . . . . . . . . . . . . . . . . . . . . . . . . . . . . . . . . . . . . . . . . . . . . . . . . . . . . . . . . . . . . . . . . . . . . . . . . . . . . . . . . . . . . . . . . . . . . . . . . . . . . . . . . . . . . . . . . . . . . . . . . . . . . . . . . . . . . . . . . . . . . . . . . . . . . . . . . T T T . . . . . . .\n",
      ". . . . . . . . . . . . . . . . . . . . . . . . . . . . . . . . . . . . . . . . . . . . . . . . . . . . . . . . . . . . . . . . . . . . . . . . . . . . . . . . . . . . . . . . . . . . . . . . . . . . . . . . . . . . . . . . . . . . . . . . . . . . . . . . . . . . . . . . . . . . . . . . . . . . . . . . . . . . . . . . . . . . . . . . . . . . . . . . . . . . . . . . . . . . . . . . T . . . . . . . .\n",
      ". . . . . . . . . . . . . . . . . . . . . . . . . . . . . . . . . . . . . . . . . . . . . . . . . . . . . . . . . . . . . . . . . . . . . . . . . . . . . . . . . . . . . . . . . . . . . . . . . . . . . . . . . . . . . . . . . . . . . . . . . . . . . . . . . . . . . . . . . . . . . . . . . . . . . . . . . . . . . . . . . . . . . . . . . . . . . . . . . . . . . . . . . . . . . . . . T T T T . . . . .\n",
      ". . . . . . . . . . . . . . . . . . . . . . . . . . . . . . . . . . . . . . . . . . . . . . . . . . . . . . . . . . . . . . . . . . . . . . . . . . . . . . . . . . . . . . . . . . . . . . . . . . . . . . . . . . . . . . . . . . . . . . . . . . . . . . . . . . . . . . . . . . . . . . . . . . . . . . . . . . . . . . . . . . . . . . . . . . . . . . . . . . . . . . . . . . . . . . . . . . T . . . . . .\n",
      ". . . . . . . . . . . . . . . . . . . . . . . . . . . . . . . . . . . . . . . . . . . . . . . . . . . . . . . . . . . . . . . . . . . . . . . . . . . . . . . . . . . . . . . . . . . . . . . . . . . . . . . . . . . . . . . . . . . . . . . . . . . . . . . . . . . . . . . . . . . . . . . . . . . . . . . . . . . . . . . . . . . . . . . . . . . . . . . . . . . . . . . . . . . . . . . . . . T . . . . . .\n",
      ". . . . . . . . . . . . . . . . . . . . . . . . . . . . . . . . . . . . . . . . . . . . . . . . . . . . . . . . . . . . . . . . . . . . . . . . . . . . . . . . . . . . . . . . . . . . . . . . . . . . . . . . . . . . . . . . . . . . . . . . . . . . . . . . . . . . . . . . . . . . . . . . . . . . . . . . . . . . . . . . . . . . . . . . . . . . . . . . . . . . . . . . . . . . . . . . . . T T . . . . .\n",
      ". . . . . . . . . . . . . . . . . . . . . . . . . . . . . . . . . . . . . . . . . . . . . . . . . . . . . . . . . . . . . . . . . . . . . . . . . . . . . . . . . . . . . . . . . . . . . . . . . . . . . . . . . . . . . . . . . . . . . . . . . . . . . . . . . . . . . . . . . . . . . . . . . . . . . . . . . . . . . . . . . . . . . . . . . . . . . . . . . . . . . . . . . . . . . . . . . . . T T T . . .\n",
      ". . . . . . . . . . . . . . . . . . . . . . . . . . . . . . . . . . . . . . . . . . . . . . . . . . . . . . . . . . . . . . . . . . . . . . . . . . . . . . . . . . . . . . . . . . . . . . . . . . . . . . . . . . . . . . . . . . . . . . . . . . . . . . . . . . . . . . . . . . . . . . . . . . . . . . . . . . . . . . . . . . . . . . . . . . . . . . . . . . . . . . . . . . . . . . . . . . . . T . . . .\n",
      ". . . . . . . . . . . . . . . . . . . . . . . . . . . . . . . . . . . . . . . . . . . . . . . . . . . . . . . . . . . . . . . . . . . . . . . . . . . . . . . . . . . . . . . . . . . . . . . . . . . . . . . . . . . . . . . . . . . . . . . . . . . . . . . . . . . . . . . . . . . . . . . . . . . . . . . . . . . . . . . . . . . . . . . . . . . . . . . . . . . . . . . . . . . . . . . . . . . . T . . . .\n",
      ". . . . . . . . . . . . . . . . . . . . . . . . . . . . . . . . . . . . . . . . . . . . . . . . . . . . . . . . . . . . . . . . . . . . . . . . . . . . . . . . . . . . . . . . . . . . . . . . . . . . . . . . . . . . . . . . . . . . . . . . . . . . . . . . . . . . . . . . . . . . . . . . . . . . . . . . . . . . . . . . . . . . . . . . . . . . . . . . . . . . . . . . . . . . . . . . . . . . T T T T T\n",
      "CGbDHeChbaAfahBhHeghefEffGfAcacAfCedADcGGacEEgHgeGBeCEGcDEcgGHBdeAdFadGEHGebcHeFaHdCCHBFCDcHBBHHadgDDCadDcfeCEBfhebfACGCGceBghGacDaBageggGCdeAHBfFagDHAAcGaBcdbGddBCgchbdeBgaafEDFHdeGaHggbGBCEHCBGHEDGGeChGdCbGAfeFbeGAbhHFcDaDGGfgCadFHFDeDcaaAhdHeGFAbfedaaEBCdAEdhAAgBEGbfAbcDHFgADCEAbGeEdDeBeHdDhfdBffeCBgfgCFGEgdHCEGdCbceBhgDhDGGcbabfaHAdEGBBccCEcgaagAcfFDGeGEAEheBccHbcfbBhcbBacgEFbGAgcAFGaDeHBBhdha\n"
     ]
    },
    {
     "data": {
      "text/plain": [
       "True"
      ]
     },
     "execution_count": 34,
     "metadata": {},
     "output_type": "execute_result"
    }
   ],
   "source": [
    "v, bp, t = is_interleave(bills[0], bills[1], bills[30], return_backpointers=True, return_table=True)\n",
    "print(show_table(t))\n",
    "print(show_backtrace_i(bp))\n",
    "v"
   ]
  },
  {
   "cell_type": "code",
   "execution_count": 35,
   "metadata": {},
   "outputs": [
    {
     "data": {
      "text/plain": [
       "[30]"
      ]
     },
     "execution_count": 35,
     "metadata": {},
     "output_type": "execute_result"
    }
   ],
   "source": [
    "[s for s in bills\n",
    "   if is_interleave_recursive(bills[0], bills[1], bills[s])]"
   ]
  },
  {
   "cell_type": "code",
   "execution_count": 36,
   "metadata": {},
   "outputs": [
    {
     "name": "stdout",
     "output_type": "stream",
     "text": [
      "1 loop, best of 3: 3.04 s per loop\n"
     ]
    }
   ],
   "source": [
    "%%timeit\n",
    "[s for s in bills\n",
    "   if is_interleave(bills[0], bills[1], bills[s])]"
   ]
  },
  {
   "cell_type": "code",
   "execution_count": 37,
   "metadata": {},
   "outputs": [
    {
     "name": "stdout",
     "output_type": "stream",
     "text": [
      "1 loop, best of 3: 960 ms per loop\n"
     ]
    }
   ],
   "source": [
    "%%timeit\n",
    "[s for s in bills\n",
    "   if is_interleave_rows(bills[0], bills[1], bills[s])]"
   ]
  },
  {
   "cell_type": "code",
   "execution_count": 38,
   "metadata": {},
   "outputs": [
    {
     "name": "stdout",
     "output_type": "stream",
     "text": [
      "1 loop, best of 3: 1.47 s per loop\n"
     ]
    }
   ],
   "source": [
    "%%timeit\n",
    "[s for s in bills\n",
    "   if is_interleave_rows2(bills[0], bills[1], bills[s])]"
   ]
  },
  {
   "cell_type": "code",
   "execution_count": 39,
   "metadata": {},
   "outputs": [
    {
     "name": "stdout",
     "output_type": "stream",
     "text": [
      "1000 loops, best of 3: 511 µs per loop\n"
     ]
    }
   ],
   "source": [
    "%%timeit\n",
    "[s for s in bills\n",
    "   if is_interleave_recursive(bills[0], bills[1], bills[s])]"
   ]
  },
  {
   "cell_type": "markdown",
   "metadata": {
    "collapsed": true
   },
   "source": [
    "# Sense solution\n",
    "Took \n",
    "* 25.8 seconds to load file\n",
    "* 15203.9 seconds to find subsequences (4.22 hours; 4 hours, 13 minutes, 23.9 seconds)\n",
    "* 40083.8 seconds to check all interleavings (11.13 hours; 11 hours, 8 minutes, 3.8 seconds)\n",
    "\n",
    "Total of 15 hours 21 minutes 53.5 seconds."
   ]
  },
  {
   "cell_type": "code",
   "execution_count": 40,
   "metadata": {},
   "outputs": [
    {
     "data": {
      "text/plain": [
       "(4.223305555555555, 4, 13, 23.899999999999636)"
      ]
     },
     "execution_count": 40,
     "metadata": {},
     "output_type": "execute_result"
    }
   ],
   "source": [
    "rtime = 15203.9\n",
    "(rtime / 3600,\n",
    " int(rtime / 3600), \n",
    " int(rtime / 60 - int(rtime / 3600) * 60), \n",
    " rtime - int(rtime / 60) * 60\n",
    ")"
   ]
  },
  {
   "cell_type": "code",
   "execution_count": 41,
   "metadata": {},
   "outputs": [
    {
     "data": {
      "text/plain": [
       "(11.13438888888889, 11, 8, 3.8000000000029104)"
      ]
     },
     "execution_count": 41,
     "metadata": {},
     "output_type": "execute_result"
    }
   ],
   "source": [
    "rtime = 40083.8\n",
    "(rtime / 3600,\n",
    " int(rtime / 3600), \n",
    " int(rtime / 60 - int(rtime / 3600) * 60), \n",
    " rtime - int(rtime / 60) * 60\n",
    ")"
   ]
  },
  {
   "cell_type": "code",
   "execution_count": 42,
   "metadata": {},
   "outputs": [
    {
     "data": {
      "text/plain": [
       "(15.36486111111111, 15, 21, 53.5)"
      ]
     },
     "execution_count": 42,
     "metadata": {},
     "output_type": "execute_result"
    }
   ],
   "source": [
    "rtime = 25.8 + 15203.9 +40083.8\n",
    "(rtime / 3600,\n",
    " int(rtime / 3600), \n",
    " int(rtime / 60 - int(rtime / 3600) * 60), \n",
    " rtime - int(rtime / 60) * 60\n",
    ")"
   ]
  },
  {
   "cell_type": "markdown",
   "metadata": {
    "collapsed": true
   },
   "source": [
    "# Explanations"
   ]
  },
  {
   "cell_type": "code",
   "execution_count": 43,
   "metadata": {
    "collapsed": true
   },
   "outputs": [],
   "source": [
    "starget = 'acba'\n",
    "swrong = 'cdabcaca'\n",
    "sinterleave = 'abcacbba'\n",
    "ssubseq = 'aaccabab'"
   ]
  },
  {
   "cell_type": "code",
   "execution_count": 44,
   "metadata": {
    "collapsed": true
   },
   "outputs": [],
   "source": [
    "def show_subseq_md_table(short, long, table):\n",
    "    header = '|   |' + '|'.join('{}<br />{}'.format('<br />'.join(str(long[:i])), i) for i in range(len(long) + 1)) + '|'\n",
    "    separator = '|:---:' * (len(long) + 2) + '|'\n",
    "    rows = []\n",
    "    columns = sorted(set(k[1] for k in table))\n",
    "    for r in range(len(short) + 1):\n",
    "        row = '|{}<br />{}|'.format(r, short[:r])\n",
    "        row += '|'.join('T' if table[r, c] else '.' for c in columns)\n",
    "        row += '|'\n",
    "        rows += [row]\n",
    "    return '\\n'.join([header] + [separator] + rows)\n",
    "#     return '\\n'.join(\n",
    "#         ' '.join('T' if table[i, j] else '.' for j in sorted(set([k[1] for k in table])))\n",
    "#         for i in sorted(set([k[0] for k in table])))        "
   ]
  },
  {
   "cell_type": "code",
   "execution_count": 45,
   "metadata": {},
   "outputs": [
    {
     "name": "stdout",
     "output_type": "stream",
     "text": [
      ". . . . . . . . .\n",
      ". a a c c a b a b\n",
      ". . . c c a b a b\n",
      ". . . . . . b a b\n",
      ". . . . . . . a b\n",
      "AcCaBAb\n"
     ]
    }
   ],
   "source": [
    "v, bp, t = is_subseq(starget, ssubseq, return_backpointers=True, return_table=True)\n",
    "print(show_annotated_table(t, bp))\n",
    "print(show_backtrace_s(bp))"
   ]
  },
  {
   "cell_type": "code",
   "execution_count": 46,
   "metadata": {},
   "outputs": [
    {
     "name": "stdout",
     "output_type": "stream",
     "text": [
      "T T T T T T T T T\n",
      ". T T T T T T T T\n",
      ". . . T T T T T T\n",
      ". . . . . . T T T\n",
      ". . . . . . . T T\n"
     ]
    }
   ],
   "source": [
    "print(show_table(t))"
   ]
  },
  {
   "cell_type": "code",
   "execution_count": 47,
   "metadata": {},
   "outputs": [
    {
     "name": "stdout",
     "output_type": "stream",
     "text": [
      "|   |<br />0|a<br />1|a<br />a<br />2|a<br />a<br />c<br />3|a<br />a<br />c<br />c<br />4|a<br />a<br />c<br />c<br />a<br />5|a<br />a<br />c<br />c<br />a<br />b<br />6|a<br />a<br />c<br />c<br />a<br />b<br />a<br />7|a<br />a<br />c<br />c<br />a<br />b<br />a<br />b<br />8|\n",
      "|:---:|:---:|:---:|:---:|:---:|:---:|:---:|:---:|:---:|:---:|\n",
      "|0<br />|T|T|T|T|T|T|T|T|T|\n",
      "|1<br />a|.|T|T|T|T|T|T|T|T|\n",
      "|2<br />ac|.|.|.|T|T|T|T|T|T|\n",
      "|3<br />acb|.|.|.|.|.|.|T|T|T|\n",
      "|4<br />acba|.|.|.|.|.|.|.|T|T|\n"
     ]
    }
   ],
   "source": [
    "print(show_subseq_md_table(starget, ssubseq, t))"
   ]
  },
  {
   "cell_type": "markdown",
   "metadata": {},
   "source": [
    "|   |<br />0|a<br />1|a<br />a<br />2|a<br />a<br />c<br />3|a<br />a<br />c<br />c<br />4|a<br />a<br />c<br />c<br />a<br />5|a<br />a<br />c<br />c<br />a<br />b<br />6|a<br />a<br />c<br />c<br />a<br />b<br />a<br />7|a<br />a<br />c<br />c<br />a<br />b<br />a<br />b<br />8|\n",
    "|:---:|:---:|:---:|:---:|:---:|:---:|:---:|:---:|:---:|:---:|\n",
    "|0<br />|T|T|T|T|T|T|T|T|T|\n",
    "|1<br />a|.|T|T|T|T|T|T|T|T|\n",
    "|2<br />ac|.|.|.|T|T|T|T|T|T|\n",
    "|3<br />acb|.|.|.|.|.|.|T|T|T|\n",
    "|4<br />acba|.|.|.|.|.|.|.|T|T|"
   ]
  },
  {
   "cell_type": "code",
   "execution_count": 48,
   "metadata": {},
   "outputs": [
    {
     "name": "stdout",
     "output_type": "stream",
     "text": [
      ". . . . . . . . .\n",
      ". . . a b c a c a\n",
      ". . . . . c a c a\n",
      ". . . . . . . . .\n",
      ". . . . . . . . .\n",
      "ACa\n"
     ]
    }
   ],
   "source": [
    "v, bp, t = is_subseq(starget, swrong, return_backpointers=True, return_table=True)\n",
    "print(show_annotated_table(t, bp))\n",
    "print(show_backtrace_s(bp))"
   ]
  },
  {
   "cell_type": "code",
   "execution_count": 49,
   "metadata": {},
   "outputs": [
    {
     "name": "stdout",
     "output_type": "stream",
     "text": [
      "|   |<br />0|c<br />1|c<br />d<br />2|c<br />d<br />a<br />3|c<br />d<br />a<br />b<br />4|c<br />d<br />a<br />b<br />c<br />5|c<br />d<br />a<br />b<br />c<br />a<br />6|c<br />d<br />a<br />b<br />c<br />a<br />c<br />7|c<br />d<br />a<br />b<br />c<br />a<br />c<br />a<br />8|\n",
      "|:---:|:---:|:---:|:---:|:---:|:---:|:---:|:---:|:---:|:---:|\n",
      "|0<br />|T|T|T|T|T|T|T|T|T|\n",
      "|1<br />a|.|.|.|T|T|T|T|T|T|\n",
      "|2<br />ac|.|.|.|.|.|T|T|T|T|\n",
      "|3<br />acb|.|.|.|.|.|.|.|.|.|\n",
      "|4<br />acba|.|.|.|.|.|.|.|.|.|\n"
     ]
    }
   ],
   "source": [
    "print(show_subseq_md_table(starget, swrong, t))"
   ]
  },
  {
   "cell_type": "markdown",
   "metadata": {},
   "source": [
    "|   |<br />0|c<br />1|c<br />d<br />2|c<br />d<br />a<br />3|c<br />d<br />a<br />b<br />4|c<br />d<br />a<br />b<br />c<br />5|c<br />d<br />a<br />b<br />c<br />a<br />6|c<br />d<br />a<br />b<br />c<br />a<br />c<br />7|c<br />d<br />a<br />b<br />c<br />a<br />c<br />a<br />8|\n",
    "|:---:|:---:|:---:|:---:|:---:|:---:|:---:|:---:|:---:|:---:|\n",
    "|0<br />|T|T|T|T|T|T|T|T|T|\n",
    "|1<br />a|.|.|.|T|T|T|T|T|T|\n",
    "|2<br />ac|.|.|.|.|.|T|T|T|T|\n",
    "|3<br />acb|.|.|.|.|.|.|.|.|.|\n",
    "|4<br />acba|.|.|.|.|.|.|.|.|.|"
   ]
  },
  {
   "cell_type": "code",
   "execution_count": null,
   "metadata": {
    "collapsed": true
   },
   "outputs": [],
   "source": []
  }
 ],
 "metadata": {
  "kernelspec": {
   "display_name": "Python 3",
   "language": "python",
   "name": "python3"
  },
  "language_info": {
   "codemirror_mode": {
    "name": "ipython",
    "version": 3
   },
   "file_extension": ".py",
   "mimetype": "text/x-python",
   "name": "python",
   "nbconvert_exporter": "python",
   "pygments_lexer": "ipython3",
   "version": "3.5.3"
  }
 },
 "nbformat": 4,
 "nbformat_minor": 1
}
