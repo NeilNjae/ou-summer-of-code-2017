{
 "cells": [
  {
   "cell_type": "markdown",
   "metadata": {},
   "source": [
    "# Resolving the bill\n",
    "\n",
    "It's time to leave the hotel and pay your bill. Unfortunately, there's been some kind of foul-up in the hotel's admin system, and people's bills have been mixed up. Can you help the staff clarify what's happened?\n",
    "\n",
    "The bills are complex, but they are just strings of events that are billed. We can (without loss of generality) use letters for each different event, so we can treat the bills as strings of letters.\n",
    "\n",
    "The set of bills the staff have to work through are given as a bill on each line, with a leading number (an integer) that gives the index of the bill; the index number is separated from the bill by a colon.\n",
    "\n",
    "For instance, the bills could look like this:\n",
    "\n",
    "```\n",
    "0: accbadaadc\n",
    "1: bbbbaabada\n",
    "2: cdaacacadcddbccacdab\n",
    "3: bbcdabbaaabcbcadcaac\n",
    "4: accbbabbdbaaabadaadc\n",
    "5: acadcdddab\n",
    "6: aacccabaddcdaddaabdc\n",
    "```\n",
    "\n",
    "You know what you spent, so you've helpfully included your bill as the first line of the file, at index 0. \n",
    "\n",
    "You can find your bill in the mixed-up line at index 4, like this:\n",
    "\n",
    "```\n",
    "accbbabbdbaaabadaadc\n",
    "*** **  *   *    ***\n",
    "```\n",
    "\n",
    "(the stars indicate the bits that come from your bill). There's more than one way to extract your bill from that mixed-up line, and that's OK: you're just trying to find possible matches at the moment. \n",
    "\n",
    "Your bill is also in the line at index 6:\n",
    "\n",
    "```\n",
    "aacccabaddcdaddaabdc\n",
    " * ** ** *  *   * **\n",
    "```\n",
    "\n",
    "but you can't find your bill in any other lines. That means your bill occurs 2 times in this list of bills, if you exclude the line zero (which you added).\n",
    "\n",
    "## Part 1\n",
    "\n",
    "Given that your bill is at line 0, and the list of bills as [09-bills.txt](09-bills.txt), **how many _other_ lines contain your bill as a subsequence?**"
   ]
  },
  {
   "cell_type": "markdown",
   "metadata": {},
   "source": [
    "It seems there's some method behind the madness of the bills. Enough that you have hope of paying the bill and leaving soon enough to catch your flight home!\n",
    "\n",
    "Somewhere in the list of bills is a line that's a mixture of your bill and your friend's bill. Your bill is still on line 0. Your friend's bill is on line 1. In the example above, you can see that line 4 is the only line that's a mixture of your two bills.\n",
    "\n",
    "## Part 2\n",
    "Given that your bill is at line 0, your friend's is on line 1, and the list of bills is still in [09-bills.txt](09-bills.txt), **which line is a mixture of your bill and your friends's bill?** (There's only one such line.)"
   ]
  },
  {
   "cell_type": "markdown",
   "metadata": {},
   "source": [
    "Given two strings a and b and a target c, could c be formed form some interleaving/merge of a and b?\n",
    "\n",
    "For example,\n",
    "Given:\n",
    "s1 = \"aabcc\",\n",
    "s2 = \"dbbca\",\n",
    "\n",
    "When s3 = \"aadbbcbcac\", return true.\n",
    "When s3 = \"aadbbbaccc\", return false."
   ]
  },
  {
   "cell_type": "code",
   "execution_count": 104,
   "metadata": {},
   "outputs": [
    {
     "data": {
      "text/plain": [
       "148"
      ]
     },
     "execution_count": 104,
     "metadata": {},
     "output_type": "execute_result"
    }
   ],
   "source": [
    "with open('09-bills.txt') as f:\n",
    "    bills = {int(l.strip().split(': ')[0]): l.strip().split(': ')[1] for l  in f.readlines()}\n",
    "len(bills)"
   ]
  },
  {
   "cell_type": "code",
   "execution_count": 105,
   "metadata": {
    "collapsed": true
   },
   "outputs": [],
   "source": [
    "def show_table(table):\n",
    "    return '\\n'.join(\n",
    "        ' '.join('T' if table[i, j] else '.' for j in sorted(set([k[1] for k in table])))\n",
    "        for i in sorted(set([k[0] for k in table])))        "
   ]
  },
  {
   "cell_type": "code",
   "execution_count": 106,
   "metadata": {
    "collapsed": true
   },
   "outputs": [],
   "source": [
    "def show_annotated_table(table, bps):\n",
    "    return '\\n'.join(' '.join('.' if (i, j) not in bps else bps[i, j][2] if table[i, j] else '.' for j in sorted(set([k[1] for k in table])))\n",
    "        for i in sorted(set([k[0] for k in table])))"
   ]
  },
  {
   "cell_type": "markdown",
   "metadata": {},
   "source": [
    "## Part 1"
   ]
  },
  {
   "cell_type": "code",
   "execution_count": 107,
   "metadata": {
    "collapsed": true
   },
   "outputs": [],
   "source": [
    "def show_backtrace_s(bps):\n",
    "    i = max([0] + [k[0] for k in bps])\n",
    "    j = max([0] + [k[1] for k in bps])\n",
    "    chars = ''\n",
    "    if (i, j) in bps:\n",
    "        while i != 0 and j != 0:\n",
    "            if bps[i, j][3] == 'seq1':\n",
    "                chars += bps[i, j][2].upper()\n",
    "            else:\n",
    "                chars += bps[i, j][2]\n",
    "            i, j = bps[i, j][0], bps[i, j][1] \n",
    "        return ''.join(list(reversed(chars)))\n",
    "    else:\n",
    "        return ''"
   ]
  },
  {
   "cell_type": "code",
   "execution_count": 108,
   "metadata": {
    "collapsed": true
   },
   "outputs": [],
   "source": [
    "def is_subseq_recursive(s1, s2):\n",
    "    if not s1:\n",
    "        return True\n",
    "    elif len(s1) > len(s2):\n",
    "        return False\n",
    "    else:\n",
    "        if s1[-1] == s2[-1]:\n",
    "            return is_subseq_recursive(s1, s2[:-1]) or is_subseq_recursive(s1[:-1], s2[:-1])\n",
    "        else:\n",
    "            return is_subseq_recursive(s1, s2[:-1])"
   ]
  },
  {
   "cell_type": "code",
   "execution_count": 109,
   "metadata": {
    "collapsed": true
   },
   "outputs": [],
   "source": [
    "def is_subseq_greedy(s1, s2):\n",
    "    i = j = 0\n",
    "    while i < len(s1) and j < len(s2):\n",
    "        if s1[i] == s2[j]:\n",
    "            i += 1\n",
    "        j += 1\n",
    "    return i == len(s1)"
   ]
  },
  {
   "cell_type": "code",
   "execution_count": 110,
   "metadata": {
    "collapsed": true
   },
   "outputs": [],
   "source": [
    "def is_subseq(seq1, seq2, return_backpointers=False, return_table=False, debug=False):\n",
    "    \"\"\"Return true if seq1 is a subsequence of seq2.\n",
    "    If return_backpointers, also return the set of backpointers to\n",
    "    reconstruct the subsequence\"\"\"\n",
    "    \n",
    "    # dp_table[i, j] is True if first i characters of seq1 can\n",
    "    # be found in the first j characters of seq2\n",
    "  \n",
    "    dp_table = {(i, j): False\n",
    "               for i in range(len(seq1)+1)\n",
    "               for j in range(len(seq2)+1)}\n",
    "\n",
    "    backpointers = {}\n",
    "    \n",
    "    for i in range(len(seq1)+1):\n",
    "        for j in range(i, len(seq2)+1):\n",
    "            if i == 0:\n",
    "                dp_table[i, j] = True\n",
    "                if debug: print('aa', i, j, '!', '!', dp_table[i, j])\n",
    "            elif j == 0:\n",
    "                dp_table[i, j] = False\n",
    "                if debug: print('zz', i, j, '!', '!', dp_table[i, j])\n",
    "            else:\n",
    "                # extend by character from s2\n",
    "                if dp_table[i, j-1]:\n",
    "                    dp_table[i, j] = True\n",
    "                    backpointers[i, j] = (i, j-1, seq2[j-1], 'seq2')\n",
    "                    if debug: print('s2', i, j, seq1[i-1], seq2[j-1], dp_table[i, j])                \n",
    "                # extend by character from s1\n",
    "                if dp_table[i-1, j-1] and seq1[i-1] == seq2[j-1]:\n",
    "                    dp_table[i, j] = True\n",
    "                    backpointers[i, j] = (i-1, j-1, seq1[i-1], 'seq1')                \n",
    "                    if debug: print('s1', i, j, seq1[i-1], seq2[j-1], dp_table[i, j])\n",
    "                if not dp_table[i, j]:\n",
    "                    if debug: print('xx', i, j, seq1[i-1], seq2[j-1], dp_table[i, j]) \n",
    "    \n",
    "    if return_backpointers or return_table:\n",
    "        retval = [dp_table[len(seq1), len(seq2)]]\n",
    "        if return_backpointers:\n",
    "            retval += [backpointers]\n",
    "        if return_table:\n",
    "            retval += [dp_table]\n",
    "        return tuple(retval)\n",
    "    else:\n",
    "        return dp_table[len(seq1), len(seq2)]"
   ]
  },
  {
   "cell_type": "code",
   "execution_count": 111,
   "metadata": {
    "collapsed": true
   },
   "outputs": [],
   "source": [
    "def is_subseq_rows(seq1, seq2, return_backpointers=False, debug=False):\n",
    "    \"\"\"Return true if seq1 is a subsequence of seq2.\n",
    "    If return_backpointers, also return the set of backpointers to\n",
    "    reconstruct the subsequence\"\"\"\n",
    "    \n",
    "    # dp_table[i, j] is True if first i characters of seq1 can\n",
    "    # be found in the first j characters of seq2\n",
    "  \n",
    "    backpointers = {}\n",
    "    \n",
    "    for i in range(len(seq1)+1):\n",
    "        row = [False] * (len(seq2)+1)\n",
    "        for j in range(i, len(seq2)+1):\n",
    "            if i == 0:\n",
    "                row[j] = True\n",
    "                if debug: print('aa', i, j, '!', '!', row[j])\n",
    "            elif j == 0:\n",
    "                row[j] = False\n",
    "                if debug: print('zz', i, j, '!', '!', row[j])\n",
    "            else:\n",
    "                # extend by character from s2\n",
    "                if row[j-1]:\n",
    "                    row[j] = True\n",
    "                    backpointers[i, j] = (i, j-1, seq2[j-1], 'seq2')\n",
    "                    if debug: print('s2', i, j, seq1[i-1], seq2[j-1], row[j])                \n",
    "                # extend by character from s1\n",
    "                if previous_row[j-1] and seq1[i-1] == seq2[j-1]:\n",
    "                    row[j] = True\n",
    "                    backpointers[i, j] = (i-1, j-1, seq1[i-1], 'seq1')                \n",
    "                    if debug: print('s1', i, j, seq1[i-1], seq2[j-1], row[j])\n",
    "                if not row[j]:\n",
    "                    if debug: print('xx', i, j, seq1[i-1], seq2[j-1], row[j])\n",
    "        previous_row = row\n",
    "    \n",
    "    if return_backpointers:\n",
    "        retval = [row[-1]]\n",
    "        if return_backpointers:\n",
    "            retval += [backpointers]\n",
    "        return tuple(retval)\n",
    "    else:\n",
    "        return row[-1]"
   ]
  },
  {
   "cell_type": "code",
   "execution_count": 112,
   "metadata": {},
   "outputs": [
    {
     "data": {
      "text/plain": [
       "22"
      ]
     },
     "execution_count": 112,
     "metadata": {},
     "output_type": "execute_result"
    }
   ],
   "source": [
    "sum(1 for s in bills\n",
    "   if s != 0\n",
    "   if is_subseq(bills[0], bills[s]))"
   ]
  },
  {
   "cell_type": "code",
   "execution_count": 113,
   "metadata": {},
   "outputs": [
    {
     "data": {
      "text/plain": [
       "22"
      ]
     },
     "execution_count": 113,
     "metadata": {},
     "output_type": "execute_result"
    }
   ],
   "source": [
    "sum(1 for s in bills\n",
    "   if s != 0\n",
    "   if is_subseq_rows(bills[0], bills[s]))"
   ]
  },
  {
   "cell_type": "code",
   "execution_count": 114,
   "metadata": {},
   "outputs": [
    {
     "data": {
      "text/plain": [
       "22"
      ]
     },
     "execution_count": 114,
     "metadata": {},
     "output_type": "execute_result"
    }
   ],
   "source": [
    "sum(1 for s in bills\n",
    "   if s != 0\n",
    "   if is_subseq_greedy(bills[0], bills[s]))"
   ]
  },
  {
   "cell_type": "code",
   "execution_count": 12,
   "metadata": {},
   "outputs": [
    {
     "name": "stdout",
     "output_type": "stream",
     "text": [
      "1 loop, best of 3: 7.07 s per loop\n"
     ]
    }
   ],
   "source": [
    "%%timeit\n",
    "sum(1 for s in bills\n",
    "   if s != 0\n",
    "   if is_subseq(bills[0], bills[s]))"
   ]
  },
  {
   "cell_type": "code",
   "execution_count": 14,
   "metadata": {
    "scrolled": true
   },
   "outputs": [
    {
     "data": {
      "text/plain": [
       "[11,\n",
       " 21,\n",
       " 25,\n",
       " 30,\n",
       " 33,\n",
       " 38,\n",
       " 43,\n",
       " 45,\n",
       " 48,\n",
       " 50,\n",
       " 52,\n",
       " 55,\n",
       " 56,\n",
       " 61,\n",
       " 75,\n",
       " 80,\n",
       " 91,\n",
       " 103,\n",
       " 104,\n",
       " 113,\n",
       " 144,\n",
       " 146]"
      ]
     },
     "execution_count": 14,
     "metadata": {},
     "output_type": "execute_result"
    }
   ],
   "source": [
    "[s for s in bills\n",
    "   if s != 0\n",
    "   if is_subseq(bills[0], bills[s])]"
   ]
  },
  {
   "cell_type": "code",
   "execution_count": 15,
   "metadata": {},
   "outputs": [
    {
     "name": "stdout",
     "output_type": "stream",
     "text": [
      "CPU times: user 148 ms, sys: 0 ns, total: 148 ms\n",
      "Wall time: 148 ms\n"
     ]
    },
    {
     "data": {
      "text/plain": [
       "(True, False)"
      ]
     },
     "execution_count": 15,
     "metadata": {},
     "output_type": "execute_result"
    }
   ],
   "source": [
    "%time is_subseq(bills[0], bills[11]), is_subseq(bills[0], bills[3])"
   ]
  },
  {
   "cell_type": "code",
   "execution_count": 16,
   "metadata": {
    "collapsed": true
   },
   "outputs": [],
   "source": [
    "# %time is_subseq_recursive(bills[0], bills[11])"
   ]
  },
  {
   "cell_type": "code",
   "execution_count": 17,
   "metadata": {},
   "outputs": [
    {
     "name": "stdout",
     "output_type": "stream",
     "text": [
      ". . . . . . . . . . . . . . . . . . . . . . . . . . . . . . . . . . . . . . . . . . . . . . . . . . . . . . . . . . . . . . . . . . . . . . . . . . . . . . . . . . . . . . . . . . . . . . . . . . . . . . . . . . . . . . . . . . . . . . . . . . . . . . . . . . . . . . . . . . . . . . . . . . . . . . . . . . . . . . . . . . . . . . . . . . . . . . . . . . . . . . . . . . . . . . . . . . . . . . . . . . . . . . . . . . . . . . . . . . . . . . . . . . . . . . . . . . . . . . . . . . . . . . . . . . . . . . . . . . . . . . . . . . . . . . . . . . . . . . . . . . . . . . . . . . . . . . . . . . . . . . . . . . . . . . . . . . . . . . . . . . . . . . . . . . . . . . . . . . . . . . . . . . . . . . . . . . . . . . . . . . . . . . . . . . . . . . . . . . . . . . . . . . . . . . . . . . . . . . . . .\n",
      ". c g d b h c e c a b h g f e g h a a c a c c h d g g g g e e f g h g b c g e g a e c a e c g d g e e e g g d d h b a e h b d f b g g f g f h b f e b d h c c d c g h c f a b h c c c h b h f f c c d e h b b h g h c g h h h d d c d c h f e d b a b a e a c g d c g f h b g f e d b g c c e d a c h b f d c h b b f a a e g a g b d b g h a f b c b e a a d f h g h g b a c h h g e a h c b g h g f h h f a h e g f a e h d g h d b g c g e c g e e a f g a f d a h f h d d e d b c e g g c f h b f d d a b g f h h h g e h g f a d h f e b c c f f c b a e a e c a b e h g a b g d h f a a d g a c e a d g e a g d c d b h d f b c b c b f g c b f g c e c c b a h a c h c d c f d e f g d b e c b h d a a d g g g d g h c a h e a g e b b c h e a f b h d g g g e a b a e e b h a b f e b c e d f b d h f g b a a f g d h b b\n",
      ". . g d b h c e c a b h g f e g h a a c a c c h d g g g g e e f g h g b c g e g a e c a e c g d g e e e g g d d h b a e h b d f b g g f g f h b f e b d h c c d c g h c f a b h c c c h b h f f c c d e h b b h g h c g h h h d d c d c h f e d b a b a e a c g d c g f h b g f e d b g c c e d a c h b f d c h b b f a a e g a g b d b g h a f b c b e a a d f h g h g b a c h h g e a h c b g h g f h h f a h e g f a e h d g h d b g c g e c g e e a f g a f d a h f h d d e d b c e g g c f h b f d d a b g f h h h g e h g f a d h f e b c c f f c b a e a e c a b e h g a b g d h f a a d g a c e a d g e a g d c d b h d f b c b c b f g c b f g c e c c b a h a c h c d c f d e f g d b e c b h d a a d g g g d g h c a h e a g e b b c h e a f b h d g g g e a b a e e b h a b f e b c e d f b d h f g b a a f g d h b b\n",
      ". . . d b h c e c a b h g f e g h a a c a c c h d g g g g e e f g h g b c g e g a e c a e c g d g e e e g g d d h b a e h b d f b g g f g f h b f e b d h c c d c g h c f a b h c c c h b h f f c c d e h b b h g h c g h h h d d c d c h f e d b a b a e a c g d c g f h b g f e d b g c c e d a c h b f d c h b b f a a e g a g b d b g h a f b c b e a a d f h g h g b a c h h g e a h c b g h g f h h f a h e g f a e h d g h d b g c g e c g e e a f g a f d a h f h d d e d b c e g g c f h b f d d a b g f h h h g e h g f a d h f e b c c f f c b a e a e c a b e h g a b g d h f a a d g a c e a d g e a g d c d b h d f b c b c b f g c b f g c e c c b a h a c h c d c f d e f g d b e c b h d a a d g g g d g h c a h e a g e b b c h e a f b h d g g g e a b a e e b h a b f e b c e d f b d h f g b a a f g d h b b\n",
      ". . . . . h c e c a b h g f e g h a a c a c c h d g g g g e e f g h g b c g e g a e c a e c g d g e e e g g d d h b a e h b d f b g g f g f h b f e b d h c c d c g h c f a b h c c c h b h f f c c d e h b b h g h c g h h h d d c d c h f e d b a b a e a c g d c g f h b g f e d b g c c e d a c h b f d c h b b f a a e g a g b d b g h a f b c b e a a d f h g h g b a c h h g e a h c b g h g f h h f a h e g f a e h d g h d b g c g e c g e e a f g a f d a h f h d d e d b c e g g c f h b f d d a b g f h h h g e h g f a d h f e b c c f f c b a e a e c a b e h g a b g d h f a a d g a c e a d g e a g d c d b h d f b c b c b f g c b f g c e c c b a h a c h c d c f d e f g d b e c b h d a a d g g g d g h c a h e a g e b b c h e a f b h d g g g e a b a e e b h a b f e b c e d f b d h f g b a a f g d h b b\n",
      ". . . . . . c e c a b h g f e g h a a c a c c h d g g g g e e f g h g b c g e g a e c a e c g d g e e e g g d d h b a e h b d f b g g f g f h b f e b d h c c d c g h c f a b h c c c h b h f f c c d e h b b h g h c g h h h d d c d c h f e d b a b a e a c g d c g f h b g f e d b g c c e d a c h b f d c h b b f a a e g a g b d b g h a f b c b e a a d f h g h g b a c h h g e a h c b g h g f h h f a h e g f a e h d g h d b g c g e c g e e a f g a f d a h f h d d e d b c e g g c f h b f d d a b g f h h h g e h g f a d h f e b c c f f c b a e a e c a b e h g a b g d h f a a d g a c e a d g e a g d c d b h d f b c b c b f g c b f g c e c c b a h a c h c d c f d e f g d b e c b h d a a d g g g d g h c a h e a g e b b c h e a f b h d g g g e a b a e e b h a b f e b c e d f b d h f g b a a f g d h b b\n",
      ". . . . . . . . . a b h g f e g h a a c a c c h d g g g g e e f g h g b c g e g a e c a e c g d g e e e g g d d h b a e h b d f b g g f g f h b f e b d h c c d c g h c f a b h c c c h b h f f c c d e h b b h g h c g h h h d d c d c h f e d b a b a e a c g d c g f h b g f e d b g c c e d a c h b f d c h b b f a a e g a g b d b g h a f b c b e a a d f h g h g b a c h h g e a h c b g h g f h h f a h e g f a e h d g h d b g c g e c g e e a f g a f d a h f h d d e d b c e g g c f h b f d d a b g f h h h g e h g f a d h f e b c c f f c b a e a e c a b e h g a b g d h f a a d g a c e a d g e a g d c d b h d f b c b c b f g c b f g c e c c b a h a c h c d c f d e f g d b e c b h d a a d g g g d g h c a h e a g e b b c h e a f b h d g g g e a b a e e b h a b f e b c e d f b d h f g b a a f g d h b b\n",
      ". . . . . . . . . . b h g f e g h a a c a c c h d g g g g e e f g h g b c g e g a e c a e c g d g e e e g g d d h b a e h b d f b g g f g f h b f e b d h c c d c g h c f a b h c c c h b h f f c c d e h b b h g h c g h h h d d c d c h f e d b a b a e a c g d c g f h b g f e d b g c c e d a c h b f d c h b b f a a e g a g b d b g h a f b c b e a a d f h g h g b a c h h g e a h c b g h g f h h f a h e g f a e h d g h d b g c g e c g e e a f g a f d a h f h d d e d b c e g g c f h b f d d a b g f h h h g e h g f a d h f e b c c f f c b a e a e c a b e h g a b g d h f a a d g a c e a d g e a g d c d b h d f b c b c b f g c b f g c e c c b a h a c h c d c f d e f g d b e c b h d a a d g g g d g h c a h e a g e b b c h e a f b h d g g g e a b a e e b h a b f e b c e d f b d h f g b a a f g d h b b\n",
      ". . . . . . . . . . . h g f e g h a a c a c c h d g g g g e e f g h g b c g e g a e c a e c g d g e e e g g d d h b a e h b d f b g g f g f h b f e b d h c c d c g h c f a b h c c c h b h f f c c d e h b b h g h c g h h h d d c d c h f e d b a b a e a c g d c g f h b g f e d b g c c e d a c h b f d c h b b f a a e g a g b d b g h a f b c b e a a d f h g h g b a c h h g e a h c b g h g f h h f a h e g f a e h d g h d b g c g e c g e e a f g a f d a h f h d d e d b c e g g c f h b f d d a b g f h h h g e h g f a d h f e b c c f f c b a e a e c a b e h g a b g d h f a a d g a c e a d g e a g d c d b h d f b c b c b f g c b f g c e c c b a h a c h c d c f d e f g d b e c b h d a a d g g g d g h c a h e a g e b b c h e a f b h d g g g e a b a e e b h a b f e b c e d f b d h f g b a a f g d h b b\n",
      ". . . . . . . . . . . . . . e g h a a c a c c h d g g g g e e f g h g b c g e g a e c a e c g d g e e e g g d d h b a e h b d f b g g f g f h b f e b d h c c d c g h c f a b h c c c h b h f f c c d e h b b h g h c g h h h d d c d c h f e d b a b a e a c g d c g f h b g f e d b g c c e d a c h b f d c h b b f a a e g a g b d b g h a f b c b e a a d f h g h g b a c h h g e a h c b g h g f h h f a h e g f a e h d g h d b g c g e c g e e a f g a f d a h f h d d e d b c e g g c f h b f d d a b g f h h h g e h g f a d h f e b c c f f c b a e a e c a b e h g a b g d h f a a d g a c e a d g e a g d c d b h d f b c b c b f g c b f g c e c c b a h a c h c d c f d e f g d b e c b h d a a d g g g d g h c a h e a g e b b c h e a f b h d g g g e a b a e e b h a b f e b c e d f b d h f g b a a f g d h b b\n",
      ". . . . . . . . . . . . . . . g h a a c a c c h d g g g g e e f g h g b c g e g a e c a e c g d g e e e g g d d h b a e h b d f b g g f g f h b f e b d h c c d c g h c f a b h c c c h b h f f c c d e h b b h g h c g h h h d d c d c h f e d b a b a e a c g d c g f h b g f e d b g c c e d a c h b f d c h b b f a a e g a g b d b g h a f b c b e a a d f h g h g b a c h h g e a h c b g h g f h h f a h e g f a e h d g h d b g c g e c g e e a f g a f d a h f h d d e d b c e g g c f h b f d d a b g f h h h g e h g f a d h f e b c c f f c b a e a e c a b e h g a b g d h f a a d g a c e a d g e a g d c d b h d f b c b c b f g c b f g c e c c b a h a c h c d c f d e f g d b e c b h d a a d g g g d g h c a h e a g e b b c h e a f b h d g g g e a b a e e b h a b f e b c e d f b d h f g b a a f g d h b b\n",
      ". . . . . . . . . . . . . . . . . a a c a c c h d g g g g e e f g h g b c g e g a e c a e c g d g e e e g g d d h b a e h b d f b g g f g f h b f e b d h c c d c g h c f a b h c c c h b h f f c c d e h b b h g h c g h h h d d c d c h f e d b a b a e a c g d c g f h b g f e d b g c c e d a c h b f d c h b b f a a e g a g b d b g h a f b c b e a a d f h g h g b a c h h g e a h c b g h g f h h f a h e g f a e h d g h d b g c g e c g e e a f g a f d a h f h d d e d b c e g g c f h b f d d a b g f h h h g e h g f a d h f e b c c f f c b a e a e c a b e h g a b g d h f a a d g a c e a d g e a g d c d b h d f b c b c b f g c b f g c e c c b a h a c h c d c f d e f g d b e c b h d a a d g g g d g h c a h e a g e b b c h e a f b h d g g g e a b a e e b h a b f e b c e d f b d h f g b a a f g d h b b\n",
      ". . . . . . . . . . . . . . . . . . a c a c c h d g g g g e e f g h g b c g e g a e c a e c g d g e e e g g d d h b a e h b d f b g g f g f h b f e b d h c c d c g h c f a b h c c c h b h f f c c d e h b b h g h c g h h h d d c d c h f e d b a b a e a c g d c g f h b g f e d b g c c e d a c h b f d c h b b f a a e g a g b d b g h a f b c b e a a d f h g h g b a c h h g e a h c b g h g f h h f a h e g f a e h d g h d b g c g e c g e e a f g a f d a h f h d d e d b c e g g c f h b f d d a b g f h h h g e h g f a d h f e b c c f f c b a e a e c a b e h g a b g d h f a a d g a c e a d g e a g d c d b h d f b c b c b f g c b f g c e c c b a h a c h c d c f d e f g d b e c b h d a a d g g g d g h c a h e a g e b b c h e a f b h d g g g e a b a e e b h a b f e b c e d f b d h f g b a a f g d h b b\n",
      ". . . . . . . . . . . . . . . . . . . c a c c h d g g g g e e f g h g b c g e g a e c a e c g d g e e e g g d d h b a e h b d f b g g f g f h b f e b d h c c d c g h c f a b h c c c h b h f f c c d e h b b h g h c g h h h d d c d c h f e d b a b a e a c g d c g f h b g f e d b g c c e d a c h b f d c h b b f a a e g a g b d b g h a f b c b e a a d f h g h g b a c h h g e a h c b g h g f h h f a h e g f a e h d g h d b g c g e c g e e a f g a f d a h f h d d e d b c e g g c f h b f d d a b g f h h h g e h g f a d h f e b c c f f c b a e a e c a b e h g a b g d h f a a d g a c e a d g e a g d c d b h d f b c b c b f g c b f g c e c c b a h a c h c d c f d e f g d b e c b h d a a d g g g d g h c a h e a g e b b c h e a f b h d g g g e a b a e e b h a b f e b c e d f b d h f g b a a f g d h b b\n",
      ". . . . . . . . . . . . . . . . . . . . a c c h d g g g g e e f g h g b c g e g a e c a e c g d g e e e g g d d h b a e h b d f b g g f g f h b f e b d h c c d c g h c f a b h c c c h b h f f c c d e h b b h g h c g h h h d d c d c h f e d b a b a e a c g d c g f h b g f e d b g c c e d a c h b f d c h b b f a a e g a g b d b g h a f b c b e a a d f h g h g b a c h h g e a h c b g h g f h h f a h e g f a e h d g h d b g c g e c g e e a f g a f d a h f h d d e d b c e g g c f h b f d d a b g f h h h g e h g f a d h f e b c c f f c b a e a e c a b e h g a b g d h f a a d g a c e a d g e a g d c d b h d f b c b c b f g c b f g c e c c b a h a c h c d c f d e f g d b e c b h d a a d g g g d g h c a h e a g e b b c h e a f b h d g g g e a b a e e b h a b f e b c e d f b d h f g b a a f g d h b b\n",
      ". . . . . . . . . . . . . . . . . . . . . . . . d g g g g e e f g h g b c g e g a e c a e c g d g e e e g g d d h b a e h b d f b g g f g f h b f e b d h c c d c g h c f a b h c c c h b h f f c c d e h b b h g h c g h h h d d c d c h f e d b a b a e a c g d c g f h b g f e d b g c c e d a c h b f d c h b b f a a e g a g b d b g h a f b c b e a a d f h g h g b a c h h g e a h c b g h g f h h f a h e g f a e h d g h d b g c g e c g e e a f g a f d a h f h d d e d b c e g g c f h b f d d a b g f h h h g e h g f a d h f e b c c f f c b a e a e c a b e h g a b g d h f a a d g a c e a d g e a g d c d b h d f b c b c b f g c b f g c e c c b a h a c h c d c f d e f g d b e c b h d a a d g g g d g h c a h e a g e b b c h e a f b h d g g g e a b a e e b h a b f e b c e d f b d h f g b a a f g d h b b\n",
      ". . . . . . . . . . . . . . . . . . . . . . . . . g g g g e e f g h g b c g e g a e c a e c g d g e e e g g d d h b a e h b d f b g g f g f h b f e b d h c c d c g h c f a b h c c c h b h f f c c d e h b b h g h c g h h h d d c d c h f e d b a b a e a c g d c g f h b g f e d b g c c e d a c h b f d c h b b f a a e g a g b d b g h a f b c b e a a d f h g h g b a c h h g e a h c b g h g f h h f a h e g f a e h d g h d b g c g e c g e e a f g a f d a h f h d d e d b c e g g c f h b f d d a b g f h h h g e h g f a d h f e b c c f f c b a e a e c a b e h g a b g d h f a a d g a c e a d g e a g d c d b h d f b c b c b f g c b f g c e c c b a h a c h c d c f d e f g d b e c b h d a a d g g g d g h c a h e a g e b b c h e a f b h d g g g e a b a e e b h a b f e b c e d f b d h f g b a a f g d h b b\n",
      ". . . . . . . . . . . . . . . . . . . . . . . . . . g g g e e f g h g b c g e g a e c a e c g d g e e e g g d d h b a e h b d f b g g f g f h b f e b d h c c d c g h c f a b h c c c h b h f f c c d e h b b h g h c g h h h d d c d c h f e d b a b a e a c g d c g f h b g f e d b g c c e d a c h b f d c h b b f a a e g a g b d b g h a f b c b e a a d f h g h g b a c h h g e a h c b g h g f h h f a h e g f a e h d g h d b g c g e c g e e a f g a f d a h f h d d e d b c e g g c f h b f d d a b g f h h h g e h g f a d h f e b c c f f c b a e a e c a b e h g a b g d h f a a d g a c e a d g e a g d c d b h d f b c b c b f g c b f g c e c c b a h a c h c d c f d e f g d b e c b h d a a d g g g d g h c a h e a g e b b c h e a f b h d g g g e a b a e e b h a b f e b c e d f b d h f g b a a f g d h b b\n",
      ". . . . . . . . . . . . . . . . . . . . . . . . . . . . . e e f g h g b c g e g a e c a e c g d g e e e g g d d h b a e h b d f b g g f g f h b f e b d h c c d c g h c f a b h c c c h b h f f c c d e h b b h g h c g h h h d d c d c h f e d b a b a e a c g d c g f h b g f e d b g c c e d a c h b f d c h b b f a a e g a g b d b g h a f b c b e a a d f h g h g b a c h h g e a h c b g h g f h h f a h e g f a e h d g h d b g c g e c g e e a f g a f d a h f h d d e d b c e g g c f h b f d d a b g f h h h g e h g f a d h f e b c c f f c b a e a e c a b e h g a b g d h f a a d g a c e a d g e a g d c d b h d f b c b c b f g c b f g c e c c b a h a c h c d c f d e f g d b e c b h d a a d g g g d g h c a h e a g e b b c h e a f b h d g g g e a b a e e b h a b f e b c e d f b d h f g b a a f g d h b b\n",
      ". . . . . . . . . . . . . . . . . . . . . . . . . . . . . . e f g h g b c g e g a e c a e c g d g e e e g g d d h b a e h b d f b g g f g f h b f e b d h c c d c g h c f a b h c c c h b h f f c c d e h b b h g h c g h h h d d c d c h f e d b a b a e a c g d c g f h b g f e d b g c c e d a c h b f d c h b b f a a e g a g b d b g h a f b c b e a a d f h g h g b a c h h g e a h c b g h g f h h f a h e g f a e h d g h d b g c g e c g e e a f g a f d a h f h d d e d b c e g g c f h b f d d a b g f h h h g e h g f a d h f e b c c f f c b a e a e c a b e h g a b g d h f a a d g a c e a d g e a g d c d b h d f b c b c b f g c b f g c e c c b a h a c h c d c f d e f g d b e c b h d a a d g g g d g h c a h e a g e b b c h e a f b h d g g g e a b a e e b h a b f e b c e d f b d h f g b a a f g d h b b\n",
      ". . . . . . . . . . . . . . . . . . . . . . . . . . . . . . . . . h g b c g e g a e c a e c g d g e e e g g d d h b a e h b d f b g g f g f h b f e b d h c c d c g h c f a b h c c c h b h f f c c d e h b b h g h c g h h h d d c d c h f e d b a b a e a c g d c g f h b g f e d b g c c e d a c h b f d c h b b f a a e g a g b d b g h a f b c b e a a d f h g h g b a c h h g e a h c b g h g f h h f a h e g f a e h d g h d b g c g e c g e e a f g a f d a h f h d d e d b c e g g c f h b f d d a b g f h h h g e h g f a d h f e b c c f f c b a e a e c a b e h g a b g d h f a a d g a c e a d g e a g d c d b h d f b c b c b f g c b f g c e c c b a h a c h c d c f d e f g d b e c b h d a a d g g g d g h c a h e a g e b b c h e a f b h d g g g e a b a e e b h a b f e b c e d f b d h f g b a a f g d h b b\n",
      ". . . . . . . . . . . . . . . . . . . . . . . . . . . . . . . . . . g b c g e g a e c a e c g d g e e e g g d d h b a e h b d f b g g f g f h b f e b d h c c d c g h c f a b h c c c h b h f f c c d e h b b h g h c g h h h d d c d c h f e d b a b a e a c g d c g f h b g f e d b g c c e d a c h b f d c h b b f a a e g a g b d b g h a f b c b e a a d f h g h g b a c h h g e a h c b g h g f h h f a h e g f a e h d g h d b g c g e c g e e a f g a f d a h f h d d e d b c e g g c f h b f d d a b g f h h h g e h g f a d h f e b c c f f c b a e a e c a b e h g a b g d h f a a d g a c e a d g e a g d c d b h d f b c b c b f g c b f g c e c c b a h a c h c d c f d e f g d b e c b h d a a d g g g d g h c a h e a g e b b c h e a f b h d g g g e a b a e e b h a b f e b c e d f b d h f g b a a f g d h b b\n",
      ". . . . . . . . . . . . . . . . . . . . . . . . . . . . . . . . . . . b c g e g a e c a e c g d g e e e g g d d h b a e h b d f b g g f g f h b f e b d h c c d c g h c f a b h c c c h b h f f c c d e h b b h g h c g h h h d d c d c h f e d b a b a e a c g d c g f h b g f e d b g c c e d a c h b f d c h b b f a a e g a g b d b g h a f b c b e a a d f h g h g b a c h h g e a h c b g h g f h h f a h e g f a e h d g h d b g c g e c g e e a f g a f d a h f h d d e d b c e g g c f h b f d d a b g f h h h g e h g f a d h f e b c c f f c b a e a e c a b e h g a b g d h f a a d g a c e a d g e a g d c d b h d f b c b c b f g c b f g c e c c b a h a c h c d c f d e f g d b e c b h d a a d g g g d g h c a h e a g e b b c h e a f b h d g g g e a b a e e b h a b f e b c e d f b d h f g b a a f g d h b b\n",
      ". . . . . . . . . . . . . . . . . . . . . . . . . . . . . . . . . . . . c g e g a e c a e c g d g e e e g g d d h b a e h b d f b g g f g f h b f e b d h c c d c g h c f a b h c c c h b h f f c c d e h b b h g h c g h h h d d c d c h f e d b a b a e a c g d c g f h b g f e d b g c c e d a c h b f d c h b b f a a e g a g b d b g h a f b c b e a a d f h g h g b a c h h g e a h c b g h g f h h f a h e g f a e h d g h d b g c g e c g e e a f g a f d a h f h d d e d b c e g g c f h b f d d a b g f h h h g e h g f a d h f e b c c f f c b a e a e c a b e h g a b g d h f a a d g a c e a d g e a g d c d b h d f b c b c b f g c b f g c e c c b a h a c h c d c f d e f g d b e c b h d a a d g g g d g h c a h e a g e b b c h e a f b h d g g g e a b a e e b h a b f e b c e d f b d h f g b a a f g d h b b\n",
      ". . . . . . . . . . . . . . . . . . . . . . . . . . . . . . . . . . . . . . e g a e c a e c g d g e e e g g d d h b a e h b d f b g g f g f h b f e b d h c c d c g h c f a b h c c c h b h f f c c d e h b b h g h c g h h h d d c d c h f e d b a b a e a c g d c g f h b g f e d b g c c e d a c h b f d c h b b f a a e g a g b d b g h a f b c b e a a d f h g h g b a c h h g e a h c b g h g f h h f a h e g f a e h d g h d b g c g e c g e e a f g a f d a h f h d d e d b c e g g c f h b f d d a b g f h h h g e h g f a d h f e b c c f f c b a e a e c a b e h g a b g d h f a a d g a c e a d g e a g d c d b h d f b c b c b f g c b f g c e c c b a h a c h c d c f d e f g d b e c b h d a a d g g g d g h c a h e a g e b b c h e a f b h d g g g e a b a e e b h a b f e b c e d f b d h f g b a a f g d h b b\n",
      ". . . . . . . . . . . . . . . . . . . . . . . . . . . . . . . . . . . . . . . g a e c a e c g d g e e e g g d d h b a e h b d f b g g f g f h b f e b d h c c d c g h c f a b h c c c h b h f f c c d e h b b h g h c g h h h d d c d c h f e d b a b a e a c g d c g f h b g f e d b g c c e d a c h b f d c h b b f a a e g a g b d b g h a f b c b e a a d f h g h g b a c h h g e a h c b g h g f h h f a h e g f a e h d g h d b g c g e c g e e a f g a f d a h f h d d e d b c e g g c f h b f d d a b g f h h h g e h g f a d h f e b c c f f c b a e a e c a b e h g a b g d h f a a d g a c e a d g e a g d c d b h d f b c b c b f g c b f g c e c c b a h a c h c d c f d e f g d b e c b h d a a d g g g d g h c a h e a g e b b c h e a f b h d g g g e a b a e e b h a b f e b c e d f b d h f g b a a f g d h b b\n",
      ". . . . . . . . . . . . . . . . . . . . . . . . . . . . . . . . . . . . . . . . . . . . . . . d g e e e g g d d h b a e h b d f b g g f g f h b f e b d h c c d c g h c f a b h c c c h b h f f c c d e h b b h g h c g h h h d d c d c h f e d b a b a e a c g d c g f h b g f e d b g c c e d a c h b f d c h b b f a a e g a g b d b g h a f b c b e a a d f h g h g b a c h h g e a h c b g h g f h h f a h e g f a e h d g h d b g c g e c g e e a f g a f d a h f h d d e d b c e g g c f h b f d d a b g f h h h g e h g f a d h f e b c c f f c b a e a e c a b e h g a b g d h f a a d g a c e a d g e a g d c d b h d f b c b c b f g c b f g c e c c b a h a c h c d c f d e f g d b e c b h d a a d g g g d g h c a h e a g e b b c h e a f b h d g g g e a b a e e b h a b f e b c e d f b d h f g b a a f g d h b b\n",
      ". . . . . . . . . . . . . . . . . . . . . . . . . . . . . . . . . . . . . . . . . . . . . . . . . e e e g g d d h b a e h b d f b g g f g f h b f e b d h c c d c g h c f a b h c c c h b h f f c c d e h b b h g h c g h h h d d c d c h f e d b a b a e a c g d c g f h b g f e d b g c c e d a c h b f d c h b b f a a e g a g b d b g h a f b c b e a a d f h g h g b a c h h g e a h c b g h g f h h f a h e g f a e h d g h d b g c g e c g e e a f g a f d a h f h d d e d b c e g g c f h b f d d a b g f h h h g e h g f a d h f e b c c f f c b a e a e c a b e h g a b g d h f a a d g a c e a d g e a g d c d b h d f b c b c b f g c b f g c e c c b a h a c h c d c f d e f g d b e c b h d a a d g g g d g h c a h e a g e b b c h e a f b h d g g g e a b a e e b h a b f e b c e d f b d h f g b a a f g d h b b\n",
      ". . . . . . . . . . . . . . . . . . . . . . . . . . . . . . . . . . . . . . . . . . . . . . . . . . . . g g d d h b a e h b d f b g g f g f h b f e b d h c c d c g h c f a b h c c c h b h f f c c d e h b b h g h c g h h h d d c d c h f e d b a b a e a c g d c g f h b g f e d b g c c e d a c h b f d c h b b f a a e g a g b d b g h a f b c b e a a d f h g h g b a c h h g e a h c b g h g f h h f a h e g f a e h d g h d b g c g e c g e e a f g a f d a h f h d d e d b c e g g c f h b f d d a b g f h h h g e h g f a d h f e b c c f f c b a e a e c a b e h g a b g d h f a a d g a c e a d g e a g d c d b h d f b c b c b f g c b f g c e c c b a h a c h c d c f d e f g d b e c b h d a a d g g g d g h c a h e a g e b b c h e a f b h d g g g e a b a e e b h a b f e b c e d f b d h f g b a a f g d h b b\n",
      ". . . . . . . . . . . . . . . . . . . . . . . . . . . . . . . . . . . . . . . . . . . . . . . . . . . . . . . . h b a e h b d f b g g f g f h b f e b d h c c d c g h c f a b h c c c h b h f f c c d e h b b h g h c g h h h d d c d c h f e d b a b a e a c g d c g f h b g f e d b g c c e d a c h b f d c h b b f a a e g a g b d b g h a f b c b e a a d f h g h g b a c h h g e a h c b g h g f h h f a h e g f a e h d g h d b g c g e c g e e a f g a f d a h f h d d e d b c e g g c f h b f d d a b g f h h h g e h g f a d h f e b c c f f c b a e a e c a b e h g a b g d h f a a d g a c e a d g e a g d c d b h d f b c b c b f g c b f g c e c c b a h a c h c d c f d e f g d b e c b h d a a d g g g d g h c a h e a g e b b c h e a f b h d g g g e a b a e e b h a b f e b c e d f b d h f g b a a f g d h b b\n",
      ". . . . . . . . . . . . . . . . . . . . . . . . . . . . . . . . . . . . . . . . . . . . . . . . . . . . . . . . . b a e h b d f b g g f g f h b f e b d h c c d c g h c f a b h c c c h b h f f c c d e h b b h g h c g h h h d d c d c h f e d b a b a e a c g d c g f h b g f e d b g c c e d a c h b f d c h b b f a a e g a g b d b g h a f b c b e a a d f h g h g b a c h h g e a h c b g h g f h h f a h e g f a e h d g h d b g c g e c g e e a f g a f d a h f h d d e d b c e g g c f h b f d d a b g f h h h g e h g f a d h f e b c c f f c b a e a e c a b e h g a b g d h f a a d g a c e a d g e a g d c d b h d f b c b c b f g c b f g c e c c b a h a c h c d c f d e f g d b e c b h d a a d g g g d g h c a h e a g e b b c h e a f b h d g g g e a b a e e b h a b f e b c e d f b d h f g b a a f g d h b b\n",
      ". . . . . . . . . . . . . . . . . . . . . . . . . . . . . . . . . . . . . . . . . . . . . . . . . . . . . . . . . . a e h b d f b g g f g f h b f e b d h c c d c g h c f a b h c c c h b h f f c c d e h b b h g h c g h h h d d c d c h f e d b a b a e a c g d c g f h b g f e d b g c c e d a c h b f d c h b b f a a e g a g b d b g h a f b c b e a a d f h g h g b a c h h g e a h c b g h g f h h f a h e g f a e h d g h d b g c g e c g e e a f g a f d a h f h d d e d b c e g g c f h b f d d a b g f h h h g e h g f a d h f e b c c f f c b a e a e c a b e h g a b g d h f a a d g a c e a d g e a g d c d b h d f b c b c b f g c b f g c e c c b a h a c h c d c f d e f g d b e c b h d a a d g g g d g h c a h e a g e b b c h e a f b h d g g g e a b a e e b h a b f e b c e d f b d h f g b a a f g d h b b\n",
      ". . . . . . . . . . . . . . . . . . . . . . . . . . . . . . . . . . . . . . . . . . . . . . . . . . . . . . . . . . . . . . . f b g g f g f h b f e b d h c c d c g h c f a b h c c c h b h f f c c d e h b b h g h c g h h h d d c d c h f e d b a b a e a c g d c g f h b g f e d b g c c e d a c h b f d c h b b f a a e g a g b d b g h a f b c b e a a d f h g h g b a c h h g e a h c b g h g f h h f a h e g f a e h d g h d b g c g e c g e e a f g a f d a h f h d d e d b c e g g c f h b f d d a b g f h h h g e h g f a d h f e b c c f f c b a e a e c a b e h g a b g d h f a a d g a c e a d g e a g d c d b h d f b c b c b f g c b f g c e c c b a h a c h c d c f d e f g d b e c b h d a a d g g g d g h c a h e a g e b b c h e a f b h d g g g e a b a e e b h a b f e b c e d f b d h f g b a a f g d h b b\n",
      ". . . . . . . . . . . . . . . . . . . . . . . . . . . . . . . . . . . . . . . . . . . . . . . . . . . . . . . . . . . . . . . . . g g f g f h b f e b d h c c d c g h c f a b h c c c h b h f f c c d e h b b h g h c g h h h d d c d c h f e d b a b a e a c g d c g f h b g f e d b g c c e d a c h b f d c h b b f a a e g a g b d b g h a f b c b e a a d f h g h g b a c h h g e a h c b g h g f h h f a h e g f a e h d g h d b g c g e c g e e a f g a f d a h f h d d e d b c e g g c f h b f d d a b g f h h h g e h g f a d h f e b c c f f c b a e a e c a b e h g a b g d h f a a d g a c e a d g e a g d c d b h d f b c b c b f g c b f g c e c c b a h a c h c d c f d e f g d b e c b h d a a d g g g d g h c a h e a g e b b c h e a f b h d g g g e a b a e e b h a b f e b c e d f b d h f g b a a f g d h b b\n",
      ". . . . . . . . . . . . . . . . . . . . . . . . . . . . . . . . . . . . . . . . . . . . . . . . . . . . . . . . . . . . . . . . . . . . . . . . . e b d h c c d c g h c f a b h c c c h b h f f c c d e h b b h g h c g h h h d d c d c h f e d b a b a e a c g d c g f h b g f e d b g c c e d a c h b f d c h b b f a a e g a g b d b g h a f b c b e a a d f h g h g b a c h h g e a h c b g h g f h h f a h e g f a e h d g h d b g c g e c g e e a f g a f d a h f h d d e d b c e g g c f h b f d d a b g f h h h g e h g f a d h f e b c c f f c b a e a e c a b e h g a b g d h f a a d g a c e a d g e a g d c d b h d f b c b c b f g c b f g c e c c b a h a c h c d c f d e f g d b e c b h d a a d g g g d g h c a h e a g e b b c h e a f b h d g g g e a b a e e b h a b f e b c e d f b d h f g b a a f g d h b b\n",
      ". . . . . . . . . . . . . . . . . . . . . . . . . . . . . . . . . . . . . . . . . . . . . . . . . . . . . . . . . . . . . . . . . . . . . . . . . . . . h c c d c g h c f a b h c c c h b h f f c c d e h b b h g h c g h h h d d c d c h f e d b a b a e a c g d c g f h b g f e d b g c c e d a c h b f d c h b b f a a e g a g b d b g h a f b c b e a a d f h g h g b a c h h g e a h c b g h g f h h f a h e g f a e h d g h d b g c g e c g e e a f g a f d a h f h d d e d b c e g g c f h b f d d a b g f h h h g e h g f a d h f e b c c f f c b a e a e c a b e h g a b g d h f a a d g a c e a d g e a g d c d b h d f b c b c b f g c b f g c e c c b a h a c h c d c f d e f g d b e c b h d a a d g g g d g h c a h e a g e b b c h e a f b h d g g g e a b a e e b h a b f e b c e d f b d h f g b a a f g d h b b\n",
      ". . . . . . . . . . . . . . . . . . . . . . . . . . . . . . . . . . . . . . . . . . . . . . . . . . . . . . . . . . . . . . . . . . . . . . . . . . . . . . . . . g h c f a b h c c c h b h f f c c d e h b b h g h c g h h h d d c d c h f e d b a b a e a c g d c g f h b g f e d b g c c e d a c h b f d c h b b f a a e g a g b d b g h a f b c b e a a d f h g h g b a c h h g e a h c b g h g f h h f a h e g f a e h d g h d b g c g e c g e e a f g a f d a h f h d d e d b c e g g c f h b f d d a b g f h h h g e h g f a d h f e b c c f f c b a e a e c a b e h g a b g d h f a a d g a c e a d g e a g d c d b h d f b c b c b f g c b f g c e c c b a h a c h c d c f d e f g d b e c b h d a a d g g g d g h c a h e a g e b b c h e a f b h d g g g e a b a e e b h a b f e b c e d f b d h f g b a a f g d h b b\n",
      ". . . . . . . . . . . . . . . . . . . . . . . . . . . . . . . . . . . . . . . . . . . . . . . . . . . . . . . . . . . . . . . . . . . . . . . . . . . . . . . . . . h c f a b h c c c h b h f f c c d e h b b h g h c g h h h d d c d c h f e d b a b a e a c g d c g f h b g f e d b g c c e d a c h b f d c h b b f a a e g a g b d b g h a f b c b e a a d f h g h g b a c h h g e a h c b g h g f h h f a h e g f a e h d g h d b g c g e c g e e a f g a f d a h f h d d e d b c e g g c f h b f d d a b g f h h h g e h g f a d h f e b c c f f c b a e a e c a b e h g a b g d h f a a d g a c e a d g e a g d c d b h d f b c b c b f g c b f g c e c c b a h a c h c d c f d e f g d b e c b h d a a d g g g d g h c a h e a g e b b c h e a f b h d g g g e a b a e e b h a b f e b c e d f b d h f g b a a f g d h b b\n",
      ". . . . . . . . . . . . . . . . . . . . . . . . . . . . . . . . . . . . . . . . . . . . . . . . . . . . . . . . . . . . . . . . . . . . . . . . . . . . . . . . . . . . f a b h c c c h b h f f c c d e h b b h g h c g h h h d d c d c h f e d b a b a e a c g d c g f h b g f e d b g c c e d a c h b f d c h b b f a a e g a g b d b g h a f b c b e a a d f h g h g b a c h h g e a h c b g h g f h h f a h e g f a e h d g h d b g c g e c g e e a f g a f d a h f h d d e d b c e g g c f h b f d d a b g f h h h g e h g f a d h f e b c c f f c b a e a e c a b e h g a b g d h f a a d g a c e a d g e a g d c d b h d f b c b c b f g c b f g c e c c b a h a c h c d c f d e f g d b e c b h d a a d g g g d g h c a h e a g e b b c h e a f b h d g g g e a b a e e b h a b f e b c e d f b d h f g b a a f g d h b b\n",
      ". . . . . . . . . . . . . . . . . . . . . . . . . . . . . . . . . . . . . . . . . . . . . . . . . . . . . . . . . . . . . . . . . . . . . . . . . . . . . . . . . . . . . . . h c c c h b h f f c c d e h b b h g h c g h h h d d c d c h f e d b a b a e a c g d c g f h b g f e d b g c c e d a c h b f d c h b b f a a e g a g b d b g h a f b c b e a a d f h g h g b a c h h g e a h c b g h g f h h f a h e g f a e h d g h d b g c g e c g e e a f g a f d a h f h d d e d b c e g g c f h b f d d a b g f h h h g e h g f a d h f e b c c f f c b a e a e c a b e h g a b g d h f a a d g a c e a d g e a g d c d b h d f b c b c b f g c b f g c e c c b a h a c h c d c f d e f g d b e c b h d a a d g g g d g h c a h e a g e b b c h e a f b h d g g g e a b a e e b h a b f e b c e d f b d h f g b a a f g d h b b\n",
      ". . . . . . . . . . . . . . . . . . . . . . . . . . . . . . . . . . . . . . . . . . . . . . . . . . . . . . . . . . . . . . . . . . . . . . . . . . . . . . . . . . . . . . . . c c c h b h f f c c d e h b b h g h c g h h h d d c d c h f e d b a b a e a c g d c g f h b g f e d b g c c e d a c h b f d c h b b f a a e g a g b d b g h a f b c b e a a d f h g h g b a c h h g e a h c b g h g f h h f a h e g f a e h d g h d b g c g e c g e e a f g a f d a h f h d d e d b c e g g c f h b f d d a b g f h h h g e h g f a d h f e b c c f f c b a e a e c a b e h g a b g d h f a a d g a c e a d g e a g d c d b h d f b c b c b f g c b f g c e c c b a h a c h c d c f d e f g d b e c b h d a a d g g g d g h c a h e a g e b b c h e a f b h d g g g e a b a e e b h a b f e b c e d f b d h f g b a a f g d h b b\n",
      ". . . . . . . . . . . . . . . . . . . . . . . . . . . . . . . . . . . . . . . . . . . . . . . . . . . . . . . . . . . . . . . . . . . . . . . . . . . . . . . . . . . . . . . . . c c h b h f f c c d e h b b h g h c g h h h d d c d c h f e d b a b a e a c g d c g f h b g f e d b g c c e d a c h b f d c h b b f a a e g a g b d b g h a f b c b e a a d f h g h g b a c h h g e a h c b g h g f h h f a h e g f a e h d g h d b g c g e c g e e a f g a f d a h f h d d e d b c e g g c f h b f d d a b g f h h h g e h g f a d h f e b c c f f c b a e a e c a b e h g a b g d h f a a d g a c e a d g e a g d c d b h d f b c b c b f g c b f g c e c c b a h a c h c d c f d e f g d b e c b h d a a d g g g d g h c a h e a g e b b c h e a f b h d g g g e a b a e e b h a b f e b c e d f b d h f g b a a f g d h b b\n",
      ". . . . . . . . . . . . . . . . . . . . . . . . . . . . . . . . . . . . . . . . . . . . . . . . . . . . . . . . . . . . . . . . . . . . . . . . . . . . . . . . . . . . . . . . . . . h b h f f c c d e h b b h g h c g h h h d d c d c h f e d b a b a e a c g d c g f h b g f e d b g c c e d a c h b f d c h b b f a a e g a g b d b g h a f b c b e a a d f h g h g b a c h h g e a h c b g h g f h h f a h e g f a e h d g h d b g c g e c g e e a f g a f d a h f h d d e d b c e g g c f h b f d d a b g f h h h g e h g f a d h f e b c c f f c b a e a e c a b e h g a b g d h f a a d g a c e a d g e a g d c d b h d f b c b c b f g c b f g c e c c b a h a c h c d c f d e f g d b e c b h d a a d g g g d g h c a h e a g e b b c h e a f b h d g g g e a b a e e b h a b f e b c e d f b d h f g b a a f g d h b b\n",
      ". . . . . . . . . . . . . . . . . . . . . . . . . . . . . . . . . . . . . . . . . . . . . . . . . . . . . . . . . . . . . . . . . . . . . . . . . . . . . . . . . . . . . . . . . . . . b h f f c c d e h b b h g h c g h h h d d c d c h f e d b a b a e a c g d c g f h b g f e d b g c c e d a c h b f d c h b b f a a e g a g b d b g h a f b c b e a a d f h g h g b a c h h g e a h c b g h g f h h f a h e g f a e h d g h d b g c g e c g e e a f g a f d a h f h d d e d b c e g g c f h b f d d a b g f h h h g e h g f a d h f e b c c f f c b a e a e c a b e h g a b g d h f a a d g a c e a d g e a g d c d b h d f b c b c b f g c b f g c e c c b a h a c h c d c f d e f g d b e c b h d a a d g g g d g h c a h e a g e b b c h e a f b h d g g g e a b a e e b h a b f e b c e d f b d h f g b a a f g d h b b\n",
      ". . . . . . . . . . . . . . . . . . . . . . . . . . . . . . . . . . . . . . . . . . . . . . . . . . . . . . . . . . . . . . . . . . . . . . . . . . . . . . . . . . . . . . . . . . . . . . f f c c d e h b b h g h c g h h h d d c d c h f e d b a b a e a c g d c g f h b g f e d b g c c e d a c h b f d c h b b f a a e g a g b d b g h a f b c b e a a d f h g h g b a c h h g e a h c b g h g f h h f a h e g f a e h d g h d b g c g e c g e e a f g a f d a h f h d d e d b c e g g c f h b f d d a b g f h h h g e h g f a d h f e b c c f f c b a e a e c a b e h g a b g d h f a a d g a c e a d g e a g d c d b h d f b c b c b f g c b f g c e c c b a h a c h c d c f d e f g d b e c b h d a a d g g g d g h c a h e a g e b b c h e a f b h d g g g e a b a e e b h a b f e b c e d f b d h f g b a a f g d h b b\n",
      ". . . . . . . . . . . . . . . . . . . . . . . . . . . . . . . . . . . . . . . . . . . . . . . . . . . . . . . . . . . . . . . . . . . . . . . . . . . . . . . . . . . . . . . . . . . . . . . . c c d e h b b h g h c g h h h d d c d c h f e d b a b a e a c g d c g f h b g f e d b g c c e d a c h b f d c h b b f a a e g a g b d b g h a f b c b e a a d f h g h g b a c h h g e a h c b g h g f h h f a h e g f a e h d g h d b g c g e c g e e a f g a f d a h f h d d e d b c e g g c f h b f d d a b g f h h h g e h g f a d h f e b c c f f c b a e a e c a b e h g a b g d h f a a d g a c e a d g e a g d c d b h d f b c b c b f g c b f g c e c c b a h a c h c d c f d e f g d b e c b h d a a d g g g d g h c a h e a g e b b c h e a f b h d g g g e a b a e e b h a b f e b c e d f b d h f g b a a f g d h b b\n",
      ". . . . . . . . . . . . . . . . . . . . . . . . . . . . . . . . . . . . . . . . . . . . . . . . . . . . . . . . . . . . . . . . . . . . . . . . . . . . . . . . . . . . . . . . . . . . . . . . . . d e h b b h g h c g h h h d d c d c h f e d b a b a e a c g d c g f h b g f e d b g c c e d a c h b f d c h b b f a a e g a g b d b g h a f b c b e a a d f h g h g b a c h h g e a h c b g h g f h h f a h e g f a e h d g h d b g c g e c g e e a f g a f d a h f h d d e d b c e g g c f h b f d d a b g f h h h g e h g f a d h f e b c c f f c b a e a e c a b e h g a b g d h f a a d g a c e a d g e a g d c d b h d f b c b c b f g c b f g c e c c b a h a c h c d c f d e f g d b e c b h d a a d g g g d g h c a h e a g e b b c h e a f b h d g g g e a b a e e b h a b f e b c e d f b d h f g b a a f g d h b b\n",
      ". . . . . . . . . . . . . . . . . . . . . . . . . . . . . . . . . . . . . . . . . . . . . . . . . . . . . . . . . . . . . . . . . . . . . . . . . . . . . . . . . . . . . . . . . . . . . . . . . . . . h b b h g h c g h h h d d c d c h f e d b a b a e a c g d c g f h b g f e d b g c c e d a c h b f d c h b b f a a e g a g b d b g h a f b c b e a a d f h g h g b a c h h g e a h c b g h g f h h f a h e g f a e h d g h d b g c g e c g e e a f g a f d a h f h d d e d b c e g g c f h b f d d a b g f h h h g e h g f a d h f e b c c f f c b a e a e c a b e h g a b g d h f a a d g a c e a d g e a g d c d b h d f b c b c b f g c b f g c e c c b a h a c h c d c f d e f g d b e c b h d a a d g g g d g h c a h e a g e b b c h e a f b h d g g g e a b a e e b h a b f e b c e d f b d h f g b a a f g d h b b\n",
      ". . . . . . . . . . . . . . . . . . . . . . . . . . . . . . . . . . . . . . . . . . . . . . . . . . . . . . . . . . . . . . . . . . . . . . . . . . . . . . . . . . . . . . . . . . . . . . . . . . . . . b b h g h c g h h h d d c d c h f e d b a b a e a c g d c g f h b g f e d b g c c e d a c h b f d c h b b f a a e g a g b d b g h a f b c b e a a d f h g h g b a c h h g e a h c b g h g f h h f a h e g f a e h d g h d b g c g e c g e e a f g a f d a h f h d d e d b c e g g c f h b f d d a b g f h h h g e h g f a d h f e b c c f f c b a e a e c a b e h g a b g d h f a a d g a c e a d g e a g d c d b h d f b c b c b f g c b f g c e c c b a h a c h c d c f d e f g d b e c b h d a a d g g g d g h c a h e a g e b b c h e a f b h d g g g e a b a e e b h a b f e b c e d f b d h f g b a a f g d h b b\n",
      ". . . . . . . . . . . . . . . . . . . . . . . . . . . . . . . . . . . . . . . . . . . . . . . . . . . . . . . . . . . . . . . . . . . . . . . . . . . . . . . . . . . . . . . . . . . . . . . . . . . . . . b h g h c g h h h d d c d c h f e d b a b a e a c g d c g f h b g f e d b g c c e d a c h b f d c h b b f a a e g a g b d b g h a f b c b e a a d f h g h g b a c h h g e a h c b g h g f h h f a h e g f a e h d g h d b g c g e c g e e a f g a f d a h f h d d e d b c e g g c f h b f d d a b g f h h h g e h g f a d h f e b c c f f c b a e a e c a b e h g a b g d h f a a d g a c e a d g e a g d c d b h d f b c b c b f g c b f g c e c c b a h a c h c d c f d e f g d b e c b h d a a d g g g d g h c a h e a g e b b c h e a f b h d g g g e a b a e e b h a b f e b c e d f b d h f g b a a f g d h b b\n",
      ". . . . . . . . . . . . . . . . . . . . . . . . . . . . . . . . . . . . . . . . . . . . . . . . . . . . . . . . . . . . . . . . . . . . . . . . . . . . . . . . . . . . . . . . . . . . . . . . . . . . . . . h g h c g h h h d d c d c h f e d b a b a e a c g d c g f h b g f e d b g c c e d a c h b f d c h b b f a a e g a g b d b g h a f b c b e a a d f h g h g b a c h h g e a h c b g h g f h h f a h e g f a e h d g h d b g c g e c g e e a f g a f d a h f h d d e d b c e g g c f h b f d d a b g f h h h g e h g f a d h f e b c c f f c b a e a e c a b e h g a b g d h f a a d g a c e a d g e a g d c d b h d f b c b c b f g c b f g c e c c b a h a c h c d c f d e f g d b e c b h d a a d g g g d g h c a h e a g e b b c h e a f b h d g g g e a b a e e b h a b f e b c e d f b d h f g b a a f g d h b b\n",
      ". . . . . . . . . . . . . . . . . . . . . . . . . . . . . . . . . . . . . . . . . . . . . . . . . . . . . . . . . . . . . . . . . . . . . . . . . . . . . . . . . . . . . . . . . . . . . . . . . . . . . . . . . h c g h h h d d c d c h f e d b a b a e a c g d c g f h b g f e d b g c c e d a c h b f d c h b b f a a e g a g b d b g h a f b c b e a a d f h g h g b a c h h g e a h c b g h g f h h f a h e g f a e h d g h d b g c g e c g e e a f g a f d a h f h d d e d b c e g g c f h b f d d a b g f h h h g e h g f a d h f e b c c f f c b a e a e c a b e h g a b g d h f a a d g a c e a d g e a g d c d b h d f b c b c b f g c b f g c e c c b a h a c h c d c f d e f g d b e c b h d a a d g g g d g h c a h e a g e b b c h e a f b h d g g g e a b a e e b h a b f e b c e d f b d h f g b a a f g d h b b\n",
      ". . . . . . . . . . . . . . . . . . . . . . . . . . . . . . . . . . . . . . . . . . . . . . . . . . . . . . . . . . . . . . . . . . . . . . . . . . . . . . . . . . . . . . . . . . . . . . . . . . . . . . . . . . . . . . . d d c d c h f e d b a b a e a c g d c g f h b g f e d b g c c e d a c h b f d c h b b f a a e g a g b d b g h a f b c b e a a d f h g h g b a c h h g e a h c b g h g f h h f a h e g f a e h d g h d b g c g e c g e e a f g a f d a h f h d d e d b c e g g c f h b f d d a b g f h h h g e h g f a d h f e b c c f f c b a e a e c a b e h g a b g d h f a a d g a c e a d g e a g d c d b h d f b c b c b f g c b f g c e c c b a h a c h c d c f d e f g d b e c b h d a a d g g g d g h c a h e a g e b b c h e a f b h d g g g e a b a e e b h a b f e b c e d f b d h f g b a a f g d h b b\n",
      ". . . . . . . . . . . . . . . . . . . . . . . . . . . . . . . . . . . . . . . . . . . . . . . . . . . . . . . . . . . . . . . . . . . . . . . . . . . . . . . . . . . . . . . . . . . . . . . . . . . . . . . . . . . . . . . . d c d c h f e d b a b a e a c g d c g f h b g f e d b g c c e d a c h b f d c h b b f a a e g a g b d b g h a f b c b e a a d f h g h g b a c h h g e a h c b g h g f h h f a h e g f a e h d g h d b g c g e c g e e a f g a f d a h f h d d e d b c e g g c f h b f d d a b g f h h h g e h g f a d h f e b c c f f c b a e a e c a b e h g a b g d h f a a d g a c e a d g e a g d c d b h d f b c b c b f g c b f g c e c c b a h a c h c d c f d e f g d b e c b h d a a d g g g d g h c a h e a g e b b c h e a f b h d g g g e a b a e e b h a b f e b c e d f b d h f g b a a f g d h b b\n",
      ". . . . . . . . . . . . . . . . . . . . . . . . . . . . . . . . . . . . . . . . . . . . . . . . . . . . . . . . . . . . . . . . . . . . . . . . . . . . . . . . . . . . . . . . . . . . . . . . . . . . . . . . . . . . . . . . . c d c h f e d b a b a e a c g d c g f h b g f e d b g c c e d a c h b f d c h b b f a a e g a g b d b g h a f b c b e a a d f h g h g b a c h h g e a h c b g h g f h h f a h e g f a e h d g h d b g c g e c g e e a f g a f d a h f h d d e d b c e g g c f h b f d d a b g f h h h g e h g f a d h f e b c c f f c b a e a e c a b e h g a b g d h f a a d g a c e a d g e a g d c d b h d f b c b c b f g c b f g c e c c b a h a c h c d c f d e f g d b e c b h d a a d g g g d g h c a h e a g e b b c h e a f b h d g g g e a b a e e b h a b f e b c e d f b d h f g b a a f g d h b b\n",
      ". . . . . . . . . . . . . . . . . . . . . . . . . . . . . . . . . . . . . . . . . . . . . . . . . . . . . . . . . . . . . . . . . . . . . . . . . . . . . . . . . . . . . . . . . . . . . . . . . . . . . . . . . . . . . . . . . . d c h f e d b a b a e a c g d c g f h b g f e d b g c c e d a c h b f d c h b b f a a e g a g b d b g h a f b c b e a a d f h g h g b a c h h g e a h c b g h g f h h f a h e g f a e h d g h d b g c g e c g e e a f g a f d a h f h d d e d b c e g g c f h b f d d a b g f h h h g e h g f a d h f e b c c f f c b a e a e c a b e h g a b g d h f a a d g a c e a d g e a g d c d b h d f b c b c b f g c b f g c e c c b a h a c h c d c f d e f g d b e c b h d a a d g g g d g h c a h e a g e b b c h e a f b h d g g g e a b a e e b h a b f e b c e d f b d h f g b a a f g d h b b\n",
      ". . . . . . . . . . . . . . . . . . . . . . . . . . . . . . . . . . . . . . . . . . . . . . . . . . . . . . . . . . . . . . . . . . . . . . . . . . . . . . . . . . . . . . . . . . . . . . . . . . . . . . . . . . . . . . . . . . . c h f e d b a b a e a c g d c g f h b g f e d b g c c e d a c h b f d c h b b f a a e g a g b d b g h a f b c b e a a d f h g h g b a c h h g e a h c b g h g f h h f a h e g f a e h d g h d b g c g e c g e e a f g a f d a h f h d d e d b c e g g c f h b f d d a b g f h h h g e h g f a d h f e b c c f f c b a e a e c a b e h g a b g d h f a a d g a c e a d g e a g d c d b h d f b c b c b f g c b f g c e c c b a h a c h c d c f d e f g d b e c b h d a a d g g g d g h c a h e a g e b b c h e a f b h d g g g e a b a e e b h a b f e b c e d f b d h f g b a a f g d h b b\n",
      ". . . . . . . . . . . . . . . . . . . . . . . . . . . . . . . . . . . . . . . . . . . . . . . . . . . . . . . . . . . . . . . . . . . . . . . . . . . . . . . . . . . . . . . . . . . . . . . . . . . . . . . . . . . . . . . . . . . . . . e d b a b a e a c g d c g f h b g f e d b g c c e d a c h b f d c h b b f a a e g a g b d b g h a f b c b e a a d f h g h g b a c h h g e a h c b g h g f h h f a h e g f a e h d g h d b g c g e c g e e a f g a f d a h f h d d e d b c e g g c f h b f d d a b g f h h h g e h g f a d h f e b c c f f c b a e a e c a b e h g a b g d h f a a d g a c e a d g e a g d c d b h d f b c b c b f g c b f g c e c c b a h a c h c d c f d e f g d b e c b h d a a d g g g d g h c a h e a g e b b c h e a f b h d g g g e a b a e e b h a b f e b c e d f b d h f g b a a f g d h b b\n",
      ". . . . . . . . . . . . . . . . . . . . . . . . . . . . . . . . . . . . . . . . . . . . . . . . . . . . . . . . . . . . . . . . . . . . . . . . . . . . . . . . . . . . . . . . . . . . . . . . . . . . . . . . . . . . . . . . . . . . . . . . b a b a e a c g d c g f h b g f e d b g c c e d a c h b f d c h b b f a a e g a g b d b g h a f b c b e a a d f h g h g b a c h h g e a h c b g h g f h h f a h e g f a e h d g h d b g c g e c g e e a f g a f d a h f h d d e d b c e g g c f h b f d d a b g f h h h g e h g f a d h f e b c c f f c b a e a e c a b e h g a b g d h f a a d g a c e a d g e a g d c d b h d f b c b c b f g c b f g c e c c b a h a c h c d c f d e f g d b e c b h d a a d g g g d g h c a h e a g e b b c h e a f b h d g g g e a b a e e b h a b f e b c e d f b d h f g b a a f g d h b b\n",
      ". . . . . . . . . . . . . . . . . . . . . . . . . . . . . . . . . . . . . . . . . . . . . . . . . . . . . . . . . . . . . . . . . . . . . . . . . . . . . . . . . . . . . . . . . . . . . . . . . . . . . . . . . . . . . . . . . . . . . . . . . a b a e a c g d c g f h b g f e d b g c c e d a c h b f d c h b b f a a e g a g b d b g h a f b c b e a a d f h g h g b a c h h g e a h c b g h g f h h f a h e g f a e h d g h d b g c g e c g e e a f g a f d a h f h d d e d b c e g g c f h b f d d a b g f h h h g e h g f a d h f e b c c f f c b a e a e c a b e h g a b g d h f a a d g a c e a d g e a g d c d b h d f b c b c b f g c b f g c e c c b a h a c h c d c f d e f g d b e c b h d a a d g g g d g h c a h e a g e b b c h e a f b h d g g g e a b a e e b h a b f e b c e d f b d h f g b a a f g d h b b\n",
      ". . . . . . . . . . . . . . . . . . . . . . . . . . . . . . . . . . . . . . . . . . . . . . . . . . . . . . . . . . . . . . . . . . . . . . . . . . . . . . . . . . . . . . . . . . . . . . . . . . . . . . . . . . . . . . . . . . . . . . . . . . . . . . c g d c g f h b g f e d b g c c e d a c h b f d c h b b f a a e g a g b d b g h a f b c b e a a d f h g h g b a c h h g e a h c b g h g f h h f a h e g f a e h d g h d b g c g e c g e e a f g a f d a h f h d d e d b c e g g c f h b f d d a b g f h h h g e h g f a d h f e b c c f f c b a e a e c a b e h g a b g d h f a a d g a c e a d g e a g d c d b h d f b c b c b f g c b f g c e c c b a h a c h c d c f d e f g d b e c b h d a a d g g g d g h c a h e a g e b b c h e a f b h d g g g e a b a e e b h a b f e b c e d f b d h f g b a a f g d h b b\n",
      ". . . . . . . . . . . . . . . . . . . . . . . . . . . . . . . . . . . . . . . . . . . . . . . . . . . . . . . . . . . . . . . . . . . . . . . . . . . . . . . . . . . . . . . . . . . . . . . . . . . . . . . . . . . . . . . . . . . . . . . . . . . . . . . g d c g f h b g f e d b g c c e d a c h b f d c h b b f a a e g a g b d b g h a f b c b e a a d f h g h g b a c h h g e a h c b g h g f h h f a h e g f a e h d g h d b g c g e c g e e a f g a f d a h f h d d e d b c e g g c f h b f d d a b g f h h h g e h g f a d h f e b c c f f c b a e a e c a b e h g a b g d h f a a d g a c e a d g e a g d c d b h d f b c b c b f g c b f g c e c c b a h a c h c d c f d e f g d b e c b h d a a d g g g d g h c a h e a g e b b c h e a f b h d g g g e a b a e e b h a b f e b c e d f b d h f g b a a f g d h b b\n",
      ". . . . . . . . . . . . . . . . . . . . . . . . . . . . . . . . . . . . . . . . . . . . . . . . . . . . . . . . . . . . . . . . . . . . . . . . . . . . . . . . . . . . . . . . . . . . . . . . . . . . . . . . . . . . . . . . . . . . . . . . . . . . . . . . . c g f h b g f e d b g c c e d a c h b f d c h b b f a a e g a g b d b g h a f b c b e a a d f h g h g b a c h h g e a h c b g h g f h h f a h e g f a e h d g h d b g c g e c g e e a f g a f d a h f h d d e d b c e g g c f h b f d d a b g f h h h g e h g f a d h f e b c c f f c b a e a e c a b e h g a b g d h f a a d g a c e a d g e a g d c d b h d f b c b c b f g c b f g c e c c b a h a c h c d c f d e f g d b e c b h d a a d g g g d g h c a h e a g e b b c h e a f b h d g g g e a b a e e b h a b f e b c e d f b d h f g b a a f g d h b b\n",
      ". . . . . . . . . . . . . . . . . . . . . . . . . . . . . . . . . . . . . . . . . . . . . . . . . . . . . . . . . . . . . . . . . . . . . . . . . . . . . . . . . . . . . . . . . . . . . . . . . . . . . . . . . . . . . . . . . . . . . . . . . . . . . . . . . . g f h b g f e d b g c c e d a c h b f d c h b b f a a e g a g b d b g h a f b c b e a a d f h g h g b a c h h g e a h c b g h g f h h f a h e g f a e h d g h d b g c g e c g e e a f g a f d a h f h d d e d b c e g g c f h b f d d a b g f h h h g e h g f a d h f e b c c f f c b a e a e c a b e h g a b g d h f a a d g a c e a d g e a g d c d b h d f b c b c b f g c b f g c e c c b a h a c h c d c f d e f g d b e c b h d a a d g g g d g h c a h e a g e b b c h e a f b h d g g g e a b a e e b h a b f e b c e d f b d h f g b a a f g d h b b\n",
      ". . . . . . . . . . . . . . . . . . . . . . . . . . . . . . . . . . . . . . . . . . . . . . . . . . . . . . . . . . . . . . . . . . . . . . . . . . . . . . . . . . . . . . . . . . . . . . . . . . . . . . . . . . . . . . . . . . . . . . . . . . . . . . . . . . . . . b g f e d b g c c e d a c h b f d c h b b f a a e g a g b d b g h a f b c b e a a d f h g h g b a c h h g e a h c b g h g f h h f a h e g f a e h d g h d b g c g e c g e e a f g a f d a h f h d d e d b c e g g c f h b f d d a b g f h h h g e h g f a d h f e b c c f f c b a e a e c a b e h g a b g d h f a a d g a c e a d g e a g d c d b h d f b c b c b f g c b f g c e c c b a h a c h c d c f d e f g d b e c b h d a a d g g g d g h c a h e a g e b b c h e a f b h d g g g e a b a e e b h a b f e b c e d f b d h f g b a a f g d h b b\n",
      ". . . . . . . . . . . . . . . . . . . . . . . . . . . . . . . . . . . . . . . . . . . . . . . . . . . . . . . . . . . . . . . . . . . . . . . . . . . . . . . . . . . . . . . . . . . . . . . . . . . . . . . . . . . . . . . . . . . . . . . . . . . . . . . . . . . . . . g f e d b g c c e d a c h b f d c h b b f a a e g a g b d b g h a f b c b e a a d f h g h g b a c h h g e a h c b g h g f h h f a h e g f a e h d g h d b g c g e c g e e a f g a f d a h f h d d e d b c e g g c f h b f d d a b g f h h h g e h g f a d h f e b c c f f c b a e a e c a b e h g a b g d h f a a d g a c e a d g e a g d c d b h d f b c b c b f g c b f g c e c c b a h a c h c d c f d e f g d b e c b h d a a d g g g d g h c a h e a g e b b c h e a f b h d g g g e a b a e e b h a b f e b c e d f b d h f g b a a f g d h b b\n",
      ". . . . . . . . . . . . . . . . . . . . . . . . . . . . . . . . . . . . . . . . . . . . . . . . . . . . . . . . . . . . . . . . . . . . . . . . . . . . . . . . . . . . . . . . . . . . . . . . . . . . . . . . . . . . . . . . . . . . . . . . . . . . . . . . . . . . . . . . . d b g c c e d a c h b f d c h b b f a a e g a g b d b g h a f b c b e a a d f h g h g b a c h h g e a h c b g h g f h h f a h e g f a e h d g h d b g c g e c g e e a f g a f d a h f h d d e d b c e g g c f h b f d d a b g f h h h g e h g f a d h f e b c c f f c b a e a e c a b e h g a b g d h f a a d g a c e a d g e a g d c d b h d f b c b c b f g c b f g c e c c b a h a c h c d c f d e f g d b e c b h d a a d g g g d g h c a h e a g e b b c h e a f b h d g g g e a b a e e b h a b f e b c e d f b d h f g b a a f g d h b b\n",
      ". . . . . . . . . . . . . . . . . . . . . . . . . . . . . . . . . . . . . . . . . . . . . . . . . . . . . . . . . . . . . . . . . . . . . . . . . . . . . . . . . . . . . . . . . . . . . . . . . . . . . . . . . . . . . . . . . . . . . . . . . . . . . . . . . . . . . . . . . . b g c c e d a c h b f d c h b b f a a e g a g b d b g h a f b c b e a a d f h g h g b a c h h g e a h c b g h g f h h f a h e g f a e h d g h d b g c g e c g e e a f g a f d a h f h d d e d b c e g g c f h b f d d a b g f h h h g e h g f a d h f e b c c f f c b a e a e c a b e h g a b g d h f a a d g a c e a d g e a g d c d b h d f b c b c b f g c b f g c e c c b a h a c h c d c f d e f g d b e c b h d a a d g g g d g h c a h e a g e b b c h e a f b h d g g g e a b a e e b h a b f e b c e d f b d h f g b a a f g d h b b\n",
      ". . . . . . . . . . . . . . . . . . . . . . . . . . . . . . . . . . . . . . . . . . . . . . . . . . . . . . . . . . . . . . . . . . . . . . . . . . . . . . . . . . . . . . . . . . . . . . . . . . . . . . . . . . . . . . . . . . . . . . . . . . . . . . . . . . . . . . . . . . . g c c e d a c h b f d c h b b f a a e g a g b d b g h a f b c b e a a d f h g h g b a c h h g e a h c b g h g f h h f a h e g f a e h d g h d b g c g e c g e e a f g a f d a h f h d d e d b c e g g c f h b f d d a b g f h h h g e h g f a d h f e b c c f f c b a e a e c a b e h g a b g d h f a a d g a c e a d g e a g d c d b h d f b c b c b f g c b f g c e c c b a h a c h c d c f d e f g d b e c b h d a a d g g g d g h c a h e a g e b b c h e a f b h d g g g e a b a e e b h a b f e b c e d f b d h f g b a a f g d h b b\n",
      ". . . . . . . . . . . . . . . . . . . . . . . . . . . . . . . . . . . . . . . . . . . . . . . . . . . . . . . . . . . . . . . . . . . . . . . . . . . . . . . . . . . . . . . . . . . . . . . . . . . . . . . . . . . . . . . . . . . . . . . . . . . . . . . . . . . . . . . . . . . . c c e d a c h b f d c h b b f a a e g a g b d b g h a f b c b e a a d f h g h g b a c h h g e a h c b g h g f h h f a h e g f a e h d g h d b g c g e c g e e a f g a f d a h f h d d e d b c e g g c f h b f d d a b g f h h h g e h g f a d h f e b c c f f c b a e a e c a b e h g a b g d h f a a d g a c e a d g e a g d c d b h d f b c b c b f g c b f g c e c c b a h a c h c d c f d e f g d b e c b h d a a d g g g d g h c a h e a g e b b c h e a f b h d g g g e a b a e e b h a b f e b c e d f b d h f g b a a f g d h b b\n",
      ". . . . . . . . . . . . . . . . . . . . . . . . . . . . . . . . . . . . . . . . . . . . . . . . . . . . . . . . . . . . . . . . . . . . . . . . . . . . . . . . . . . . . . . . . . . . . . . . . . . . . . . . . . . . . . . . . . . . . . . . . . . . . . . . . . . . . . . . . . . . . . . . a c h b f d c h b b f a a e g a g b d b g h a f b c b e a a d f h g h g b a c h h g e a h c b g h g f h h f a h e g f a e h d g h d b g c g e c g e e a f g a f d a h f h d d e d b c e g g c f h b f d d a b g f h h h g e h g f a d h f e b c c f f c b a e a e c a b e h g a b g d h f a a d g a c e a d g e a g d c d b h d f b c b c b f g c b f g c e c c b a h a c h c d c f d e f g d b e c b h d a a d g g g d g h c a h e a g e b b c h e a f b h d g g g e a b a e e b h a b f e b c e d f b d h f g b a a f g d h b b\n",
      ". . . . . . . . . . . . . . . . . . . . . . . . . . . . . . . . . . . . . . . . . . . . . . . . . . . . . . . . . . . . . . . . . . . . . . . . . . . . . . . . . . . . . . . . . . . . . . . . . . . . . . . . . . . . . . . . . . . . . . . . . . . . . . . . . . . . . . . . . . . . . . . . . . h b f d c h b b f a a e g a g b d b g h a f b c b e a a d f h g h g b a c h h g e a h c b g h g f h h f a h e g f a e h d g h d b g c g e c g e e a f g a f d a h f h d d e d b c e g g c f h b f d d a b g f h h h g e h g f a d h f e b c c f f c b a e a e c a b e h g a b g d h f a a d g a c e a d g e a g d c d b h d f b c b c b f g c b f g c e c c b a h a c h c d c f d e f g d b e c b h d a a d g g g d g h c a h e a g e b b c h e a f b h d g g g e a b a e e b h a b f e b c e d f b d h f g b a a f g d h b b\n",
      ". . . . . . . . . . . . . . . . . . . . . . . . . . . . . . . . . . . . . . . . . . . . . . . . . . . . . . . . . . . . . . . . . . . . . . . . . . . . . . . . . . . . . . . . . . . . . . . . . . . . . . . . . . . . . . . . . . . . . . . . . . . . . . . . . . . . . . . . . . . . . . . . . . . b f d c h b b f a a e g a g b d b g h a f b c b e a a d f h g h g b a c h h g e a h c b g h g f h h f a h e g f a e h d g h d b g c g e c g e e a f g a f d a h f h d d e d b c e g g c f h b f d d a b g f h h h g e h g f a d h f e b c c f f c b a e a e c a b e h g a b g d h f a a d g a c e a d g e a g d c d b h d f b c b c b f g c b f g c e c c b a h a c h c d c f d e f g d b e c b h d a a d g g g d g h c a h e a g e b b c h e a f b h d g g g e a b a e e b h a b f e b c e d f b d h f g b a a f g d h b b\n",
      ". . . . . . . . . . . . . . . . . . . . . . . . . . . . . . . . . . . . . . . . . . . . . . . . . . . . . . . . . . . . . . . . . . . . . . . . . . . . . . . . . . . . . . . . . . . . . . . . . . . . . . . . . . . . . . . . . . . . . . . . . . . . . . . . . . . . . . . . . . . . . . . . . . . . f d c h b b f a a e g a g b d b g h a f b c b e a a d f h g h g b a c h h g e a h c b g h g f h h f a h e g f a e h d g h d b g c g e c g e e a f g a f d a h f h d d e d b c e g g c f h b f d d a b g f h h h g e h g f a d h f e b c c f f c b a e a e c a b e h g a b g d h f a a d g a c e a d g e a g d c d b h d f b c b c b f g c b f g c e c c b a h a c h c d c f d e f g d b e c b h d a a d g g g d g h c a h e a g e b b c h e a f b h d g g g e a b a e e b h a b f e b c e d f b d h f g b a a f g d h b b\n",
      ". . . . . . . . . . . . . . . . . . . . . . . . . . . . . . . . . . . . . . . . . . . . . . . . . . . . . . . . . . . . . . . . . . . . . . . . . . . . . . . . . . . . . . . . . . . . . . . . . . . . . . . . . . . . . . . . . . . . . . . . . . . . . . . . . . . . . . . . . . . . . . . . . . . . . d c h b b f a a e g a g b d b g h a f b c b e a a d f h g h g b a c h h g e a h c b g h g f h h f a h e g f a e h d g h d b g c g e c g e e a f g a f d a h f h d d e d b c e g g c f h b f d d a b g f h h h g e h g f a d h f e b c c f f c b a e a e c a b e h g a b g d h f a a d g a c e a d g e a g d c d b h d f b c b c b f g c b f g c e c c b a h a c h c d c f d e f g d b e c b h d a a d g g g d g h c a h e a g e b b c h e a f b h d g g g e a b a e e b h a b f e b c e d f b d h f g b a a f g d h b b\n",
      ". . . . . . . . . . . . . . . . . . . . . . . . . . . . . . . . . . . . . . . . . . . . . . . . . . . . . . . . . . . . . . . . . . . . . . . . . . . . . . . . . . . . . . . . . . . . . . . . . . . . . . . . . . . . . . . . . . . . . . . . . . . . . . . . . . . . . . . . . . . . . . . . . . . . . . . h b b f a a e g a g b d b g h a f b c b e a a d f h g h g b a c h h g e a h c b g h g f h h f a h e g f a e h d g h d b g c g e c g e e a f g a f d a h f h d d e d b c e g g c f h b f d d a b g f h h h g e h g f a d h f e b c c f f c b a e a e c a b e h g a b g d h f a a d g a c e a d g e a g d c d b h d f b c b c b f g c b f g c e c c b a h a c h c d c f d e f g d b e c b h d a a d g g g d g h c a h e a g e b b c h e a f b h d g g g e a b a e e b h a b f e b c e d f b d h f g b a a f g d h b b\n",
      ". . . . . . . . . . . . . . . . . . . . . . . . . . . . . . . . . . . . . . . . . . . . . . . . . . . . . . . . . . . . . . . . . . . . . . . . . . . . . . . . . . . . . . . . . . . . . . . . . . . . . . . . . . . . . . . . . . . . . . . . . . . . . . . . . . . . . . . . . . . . . . . . . . . . . . . . . . . a a e g a g b d b g h a f b c b e a a d f h g h g b a c h h g e a h c b g h g f h h f a h e g f a e h d g h d b g c g e c g e e a f g a f d a h f h d d e d b c e g g c f h b f d d a b g f h h h g e h g f a d h f e b c c f f c b a e a e c a b e h g a b g d h f a a d g a c e a d g e a g d c d b h d f b c b c b f g c b f g c e c c b a h a c h c d c f d e f g d b e c b h d a a d g g g d g h c a h e a g e b b c h e a f b h d g g g e a b a e e b h a b f e b c e d f b d h f g b a a f g d h b b\n",
      ". . . . . . . . . . . . . . . . . . . . . . . . . . . . . . . . . . . . . . . . . . . . . . . . . . . . . . . . . . . . . . . . . . . . . . . . . . . . . . . . . . . . . . . . . . . . . . . . . . . . . . . . . . . . . . . . . . . . . . . . . . . . . . . . . . . . . . . . . . . . . . . . . . . . . . . . . . . . a e g a g b d b g h a f b c b e a a d f h g h g b a c h h g e a h c b g h g f h h f a h e g f a e h d g h d b g c g e c g e e a f g a f d a h f h d d e d b c e g g c f h b f d d a b g f h h h g e h g f a d h f e b c c f f c b a e a e c a b e h g a b g d h f a a d g a c e a d g e a g d c d b h d f b c b c b f g c b f g c e c c b a h a c h c d c f d e f g d b e c b h d a a d g g g d g h c a h e a g e b b c h e a f b h d g g g e a b a e e b h a b f e b c e d f b d h f g b a a f g d h b b\n",
      ". . . . . . . . . . . . . . . . . . . . . . . . . . . . . . . . . . . . . . . . . . . . . . . . . . . . . . . . . . . . . . . . . . . . . . . . . . . . . . . . . . . . . . . . . . . . . . . . . . . . . . . . . . . . . . . . . . . . . . . . . . . . . . . . . . . . . . . . . . . . . . . . . . . . . . . . . . . . . . g a g b d b g h a f b c b e a a d f h g h g b a c h h g e a h c b g h g f h h f a h e g f a e h d g h d b g c g e c g e e a f g a f d a h f h d d e d b c e g g c f h b f d d a b g f h h h g e h g f a d h f e b c c f f c b a e a e c a b e h g a b g d h f a a d g a c e a d g e a g d c d b h d f b c b c b f g c b f g c e c c b a h a c h c d c f d e f g d b e c b h d a a d g g g d g h c a h e a g e b b c h e a f b h d g g g e a b a e e b h a b f e b c e d f b d h f g b a a f g d h b b\n",
      ". . . . . . . . . . . . . . . . . . . . . . . . . . . . . . . . . . . . . . . . . . . . . . . . . . . . . . . . . . . . . . . . . . . . . . . . . . . . . . . . . . . . . . . . . . . . . . . . . . . . . . . . . . . . . . . . . . . . . . . . . . . . . . . . . . . . . . . . . . . . . . . . . . . . . . . . . . . . . . . . . b d b g h a f b c b e a a d f h g h g b a c h h g e a h c b g h g f h h f a h e g f a e h d g h d b g c g e c g e e a f g a f d a h f h d d e d b c e g g c f h b f d d a b g f h h h g e h g f a d h f e b c c f f c b a e a e c a b e h g a b g d h f a a d g a c e a d g e a g d c d b h d f b c b c b f g c b f g c e c c b a h a c h c d c f d e f g d b e c b h d a a d g g g d g h c a h e a g e b b c h e a f b h d g g g e a b a e e b h a b f e b c e d f b d h f g b a a f g d h b b\n",
      ". . . . . . . . . . . . . . . . . . . . . . . . . . . . . . . . . . . . . . . . . . . . . . . . . . . . . . . . . . . . . . . . . . . . . . . . . . . . . . . . . . . . . . . . . . . . . . . . . . . . . . . . . . . . . . . . . . . . . . . . . . . . . . . . . . . . . . . . . . . . . . . . . . . . . . . . . . . . . . . . . . . . g h a f b c b e a a d f h g h g b a c h h g e a h c b g h g f h h f a h e g f a e h d g h d b g c g e c g e e a f g a f d a h f h d d e d b c e g g c f h b f d d a b g f h h h g e h g f a d h f e b c c f f c b a e a e c a b e h g a b g d h f a a d g a c e a d g e a g d c d b h d f b c b c b f g c b f g c e c c b a h a c h c d c f d e f g d b e c b h d a a d g g g d g h c a h e a g e b b c h e a f b h d g g g e a b a e e b h a b f e b c e d f b d h f g b a a f g d h b b\n",
      ". . . . . . . . . . . . . . . . . . . . . . . . . . . . . . . . . . . . . . . . . . . . . . . . . . . . . . . . . . . . . . . . . . . . . . . . . . . . . . . . . . . . . . . . . . . . . . . . . . . . . . . . . . . . . . . . . . . . . . . . . . . . . . . . . . . . . . . . . . . . . . . . . . . . . . . . . . . . . . . . . . . . . . . . b c b e a a d f h g h g b a c h h g e a h c b g h g f h h f a h e g f a e h d g h d b g c g e c g e e a f g a f d a h f h d d e d b c e g g c f h b f d d a b g f h h h g e h g f a d h f e b c c f f c b a e a e c a b e h g a b g d h f a a d g a c e a d g e a g d c d b h d f b c b c b f g c b f g c e c c b a h a c h c d c f d e f g d b e c b h d a a d g g g d g h c a h e a g e b b c h e a f b h d g g g e a b a e e b h a b f e b c e d f b d h f g b a a f g d h b b\n",
      ". . . . . . . . . . . . . . . . . . . . . . . . . . . . . . . . . . . . . . . . . . . . . . . . . . . . . . . . . . . . . . . . . . . . . . . . . . . . . . . . . . . . . . . . . . . . . . . . . . . . . . . . . . . . . . . . . . . . . . . . . . . . . . . . . . . . . . . . . . . . . . . . . . . . . . . . . . . . . . . . . . . . . . . . . c b e a a d f h g h g b a c h h g e a h c b g h g f h h f a h e g f a e h d g h d b g c g e c g e e a f g a f d a h f h d d e d b c e g g c f h b f d d a b g f h h h g e h g f a d h f e b c c f f c b a e a e c a b e h g a b g d h f a a d g a c e a d g e a g d c d b h d f b c b c b f g c b f g c e c c b a h a c h c d c f d e f g d b e c b h d a a d g g g d g h c a h e a g e b b c h e a f b h d g g g e a b a e e b h a b f e b c e d f b d h f g b a a f g d h b b\n",
      ". . . . . . . . . . . . . . . . . . . . . . . . . . . . . . . . . . . . . . . . . . . . . . . . . . . . . . . . . . . . . . . . . . . . . . . . . . . . . . . . . . . . . . . . . . . . . . . . . . . . . . . . . . . . . . . . . . . . . . . . . . . . . . . . . . . . . . . . . . . . . . . . . . . . . . . . . . . . . . . . . . . . . . . . . . b e a a d f h g h g b a c h h g e a h c b g h g f h h f a h e g f a e h d g h d b g c g e c g e e a f g a f d a h f h d d e d b c e g g c f h b f d d a b g f h h h g e h g f a d h f e b c c f f c b a e a e c a b e h g a b g d h f a a d g a c e a d g e a g d c d b h d f b c b c b f g c b f g c e c c b a h a c h c d c f d e f g d b e c b h d a a d g g g d g h c a h e a g e b b c h e a f b h d g g g e a b a e e b h a b f e b c e d f b d h f g b a a f g d h b b\n",
      ". . . . . . . . . . . . . . . . . . . . . . . . . . . . . . . . . . . . . . . . . . . . . . . . . . . . . . . . . . . . . . . . . . . . . . . . . . . . . . . . . . . . . . . . . . . . . . . . . . . . . . . . . . . . . . . . . . . . . . . . . . . . . . . . . . . . . . . . . . . . . . . . . . . . . . . . . . . . . . . . . . . . . . . . . . . e a a d f h g h g b a c h h g e a h c b g h g f h h f a h e g f a e h d g h d b g c g e c g e e a f g a f d a h f h d d e d b c e g g c f h b f d d a b g f h h h g e h g f a d h f e b c c f f c b a e a e c a b e h g a b g d h f a a d g a c e a d g e a g d c d b h d f b c b c b f g c b f g c e c c b a h a c h c d c f d e f g d b e c b h d a a d g g g d g h c a h e a g e b b c h e a f b h d g g g e a b a e e b h a b f e b c e d f b d h f g b a a f g d h b b\n",
      ". . . . . . . . . . . . . . . . . . . . . . . . . . . . . . . . . . . . . . . . . . . . . . . . . . . . . . . . . . . . . . . . . . . . . . . . . . . . . . . . . . . . . . . . . . . . . . . . . . . . . . . . . . . . . . . . . . . . . . . . . . . . . . . . . . . . . . . . . . . . . . . . . . . . . . . . . . . . . . . . . . . . . . . . . . . . . . d f h g h g b a c h h g e a h c b g h g f h h f a h e g f a e h d g h d b g c g e c g e e a f g a f d a h f h d d e d b c e g g c f h b f d d a b g f h h h g e h g f a d h f e b c c f f c b a e a e c a b e h g a b g d h f a a d g a c e a d g e a g d c d b h d f b c b c b f g c b f g c e c c b a h a c h c d c f d e f g d b e c b h d a a d g g g d g h c a h e a g e b b c h e a f b h d g g g e a b a e e b h a b f e b c e d f b d h f g b a a f g d h b b\n",
      ". . . . . . . . . . . . . . . . . . . . . . . . . . . . . . . . . . . . . . . . . . . . . . . . . . . . . . . . . . . . . . . . . . . . . . . . . . . . . . . . . . . . . . . . . . . . . . . . . . . . . . . . . . . . . . . . . . . . . . . . . . . . . . . . . . . . . . . . . . . . . . . . . . . . . . . . . . . . . . . . . . . . . . . . . . . . . . . f h g h g b a c h h g e a h c b g h g f h h f a h e g f a e h d g h d b g c g e c g e e a f g a f d a h f h d d e d b c e g g c f h b f d d a b g f h h h g e h g f a d h f e b c c f f c b a e a e c a b e h g a b g d h f a a d g a c e a d g e a g d c d b h d f b c b c b f g c b f g c e c c b a h a c h c d c f d e f g d b e c b h d a a d g g g d g h c a h e a g e b b c h e a f b h d g g g e a b a e e b h a b f e b c e d f b d h f g b a a f g d h b b\n",
      ". . . . . . . . . . . . . . . . . . . . . . . . . . . . . . . . . . . . . . . . . . . . . . . . . . . . . . . . . . . . . . . . . . . . . . . . . . . . . . . . . . . . . . . . . . . . . . . . . . . . . . . . . . . . . . . . . . . . . . . . . . . . . . . . . . . . . . . . . . . . . . . . . . . . . . . . . . . . . . . . . . . . . . . . . . . . . . . . h g h g b a c h h g e a h c b g h g f h h f a h e g f a e h d g h d b g c g e c g e e a f g a f d a h f h d d e d b c e g g c f h b f d d a b g f h h h g e h g f a d h f e b c c f f c b a e a e c a b e h g a b g d h f a a d g a c e a d g e a g d c d b h d f b c b c b f g c b f g c e c c b a h a c h c d c f d e f g d b e c b h d a a d g g g d g h c a h e a g e b b c h e a f b h d g g g e a b a e e b h a b f e b c e d f b d h f g b a a f g d h b b\n",
      ". . . . . . . . . . . . . . . . . . . . . . . . . . . . . . . . . . . . . . . . . . . . . . . . . . . . . . . . . . . . . . . . . . . . . . . . . . . . . . . . . . . . . . . . . . . . . . . . . . . . . . . . . . . . . . . . . . . . . . . . . . . . . . . . . . . . . . . . . . . . . . . . . . . . . . . . . . . . . . . . . . . . . . . . . . . . . . . . . g h g b a c h h g e a h c b g h g f h h f a h e g f a e h d g h d b g c g e c g e e a f g a f d a h f h d d e d b c e g g c f h b f d d a b g f h h h g e h g f a d h f e b c c f f c b a e a e c a b e h g a b g d h f a a d g a c e a d g e a g d c d b h d f b c b c b f g c b f g c e c c b a h a c h c d c f d e f g d b e c b h d a a d g g g d g h c a h e a g e b b c h e a f b h d g g g e a b a e e b h a b f e b c e d f b d h f g b a a f g d h b b\n",
      ". . . . . . . . . . . . . . . . . . . . . . . . . . . . . . . . . . . . . . . . . . . . . . . . . . . . . . . . . . . . . . . . . . . . . . . . . . . . . . . . . . . . . . . . . . . . . . . . . . . . . . . . . . . . . . . . . . . . . . . . . . . . . . . . . . . . . . . . . . . . . . . . . . . . . . . . . . . . . . . . . . . . . . . . . . . . . . . . . . h g b a c h h g e a h c b g h g f h h f a h e g f a e h d g h d b g c g e c g e e a f g a f d a h f h d d e d b c e g g c f h b f d d a b g f h h h g e h g f a d h f e b c c f f c b a e a e c a b e h g a b g d h f a a d g a c e a d g e a g d c d b h d f b c b c b f g c b f g c e c c b a h a c h c d c f d e f g d b e c b h d a a d g g g d g h c a h e a g e b b c h e a f b h d g g g e a b a e e b h a b f e b c e d f b d h f g b a a f g d h b b\n",
      ". . . . . . . . . . . . . . . . . . . . . . . . . . . . . . . . . . . . . . . . . . . . . . . . . . . . . . . . . . . . . . . . . . . . . . . . . . . . . . . . . . . . . . . . . . . . . . . . . . . . . . . . . . . . . . . . . . . . . . . . . . . . . . . . . . . . . . . . . . . . . . . . . . . . . . . . . . . . . . . . . . . . . . . . . . . . . . . . . . . g b a c h h g e a h c b g h g f h h f a h e g f a e h d g h d b g c g e c g e e a f g a f d a h f h d d e d b c e g g c f h b f d d a b g f h h h g e h g f a d h f e b c c f f c b a e a e c a b e h g a b g d h f a a d g a c e a d g e a g d c d b h d f b c b c b f g c b f g c e c c b a h a c h c d c f d e f g d b e c b h d a a d g g g d g h c a h e a g e b b c h e a f b h d g g g e a b a e e b h a b f e b c e d f b d h f g b a a f g d h b b\n",
      ". . . . . . . . . . . . . . . . . . . . . . . . . . . . . . . . . . . . . . . . . . . . . . . . . . . . . . . . . . . . . . . . . . . . . . . . . . . . . . . . . . . . . . . . . . . . . . . . . . . . . . . . . . . . . . . . . . . . . . . . . . . . . . . . . . . . . . . . . . . . . . . . . . . . . . . . . . . . . . . . . . . . . . . . . . . . . . . . . . . . b a c h h g e a h c b g h g f h h f a h e g f a e h d g h d b g c g e c g e e a f g a f d a h f h d d e d b c e g g c f h b f d d a b g f h h h g e h g f a d h f e b c c f f c b a e a e c a b e h g a b g d h f a a d g a c e a d g e a g d c d b h d f b c b c b f g c b f g c e c c b a h a c h c d c f d e f g d b e c b h d a a d g g g d g h c a h e a g e b b c h e a f b h d g g g e a b a e e b h a b f e b c e d f b d h f g b a a f g d h b b\n",
      ". . . . . . . . . . . . . . . . . . . . . . . . . . . . . . . . . . . . . . . . . . . . . . . . . . . . . . . . . . . . . . . . . . . . . . . . . . . . . . . . . . . . . . . . . . . . . . . . . . . . . . . . . . . . . . . . . . . . . . . . . . . . . . . . . . . . . . . . . . . . . . . . . . . . . . . . . . . . . . . . . . . . . . . . . . . . . . . . . . . . . . c h h g e a h c b g h g f h h f a h e g f a e h d g h d b g c g e c g e e a f g a f d a h f h d d e d b c e g g c f h b f d d a b g f h h h g e h g f a d h f e b c c f f c b a e a e c a b e h g a b g d h f a a d g a c e a d g e a g d c d b h d f b c b c b f g c b f g c e c c b a h a c h c d c f d e f g d b e c b h d a a d g g g d g h c a h e a g e b b c h e a f b h d g g g e a b a e e b h a b f e b c e d f b d h f g b a a f g d h b b\n",
      ". . . . . . . . . . . . . . . . . . . . . . . . . . . . . . . . . . . . . . . . . . . . . . . . . . . . . . . . . . . . . . . . . . . . . . . . . . . . . . . . . . . . . . . . . . . . . . . . . . . . . . . . . . . . . . . . . . . . . . . . . . . . . . . . . . . . . . . . . . . . . . . . . . . . . . . . . . . . . . . . . . . . . . . . . . . . . . . . . . . . . . . . . . e a h c b g h g f h h f a h e g f a e h d g h d b g c g e c g e e a f g a f d a h f h d d e d b c e g g c f h b f d d a b g f h h h g e h g f a d h f e b c c f f c b a e a e c a b e h g a b g d h f a a d g a c e a d g e a g d c d b h d f b c b c b f g c b f g c e c c b a h a c h c d c f d e f g d b e c b h d a a d g g g d g h c a h e a g e b b c h e a f b h d g g g e a b a e e b h a b f e b c e d f b d h f g b a a f g d h b b\n",
      ". . . . . . . . . . . . . . . . . . . . . . . . . . . . . . . . . . . . . . . . . . . . . . . . . . . . . . . . . . . . . . . . . . . . . . . . . . . . . . . . . . . . . . . . . . . . . . . . . . . . . . . . . . . . . . . . . . . . . . . . . . . . . . . . . . . . . . . . . . . . . . . . . . . . . . . . . . . . . . . . . . . . . . . . . . . . . . . . . . . . . . . . . . . . h c b g h g f h h f a h e g f a e h d g h d b g c g e c g e e a f g a f d a h f h d d e d b c e g g c f h b f d d a b g f h h h g e h g f a d h f e b c c f f c b a e a e c a b e h g a b g d h f a a d g a c e a d g e a g d c d b h d f b c b c b f g c b f g c e c c b a h a c h c d c f d e f g d b e c b h d a a d g g g d g h c a h e a g e b b c h e a f b h d g g g e a b a e e b h a b f e b c e d f b d h f g b a a f g d h b b\n",
      ". . . . . . . . . . . . . . . . . . . . . . . . . . . . . . . . . . . . . . . . . . . . . . . . . . . . . . . . . . . . . . . . . . . . . . . . . . . . . . . . . . . . . . . . . . . . . . . . . . . . . . . . . . . . . . . . . . . . . . . . . . . . . . . . . . . . . . . . . . . . . . . . . . . . . . . . . . . . . . . . . . . . . . . . . . . . . . . . . . . . . . . . . . . . . c b g h g f h h f a h e g f a e h d g h d b g c g e c g e e a f g a f d a h f h d d e d b c e g g c f h b f d d a b g f h h h g e h g f a d h f e b c c f f c b a e a e c a b e h g a b g d h f a a d g a c e a d g e a g d c d b h d f b c b c b f g c b f g c e c c b a h a c h c d c f d e f g d b e c b h d a a d g g g d g h c a h e a g e b b c h e a f b h d g g g e a b a e e b h a b f e b c e d f b d h f g b a a f g d h b b\n",
      ". . . . . . . . . . . . . . . . . . . . . . . . . . . . . . . . . . . . . . . . . . . . . . . . . . . . . . . . . . . . . . . . . . . . . . . . . . . . . . . . . . . . . . . . . . . . . . . . . . . . . . . . . . . . . . . . . . . . . . . . . . . . . . . . . . . . . . . . . . . . . . . . . . . . . . . . . . . . . . . . . . . . . . . . . . . . . . . . . . . . . . . . . . . . . . b g h g f h h f a h e g f a e h d g h d b g c g e c g e e a f g a f d a h f h d d e d b c e g g c f h b f d d a b g f h h h g e h g f a d h f e b c c f f c b a e a e c a b e h g a b g d h f a a d g a c e a d g e a g d c d b h d f b c b c b f g c b f g c e c c b a h a c h c d c f d e f g d b e c b h d a a d g g g d g h c a h e a g e b b c h e a f b h d g g g e a b a e e b h a b f e b c e d f b d h f g b a a f g d h b b\n",
      ". . . . . . . . . . . . . . . . . . . . . . . . . . . . . . . . . . . . . . . . . . . . . . . . . . . . . . . . . . . . . . . . . . . . . . . . . . . . . . . . . . . . . . . . . . . . . . . . . . . . . . . . . . . . . . . . . . . . . . . . . . . . . . . . . . . . . . . . . . . . . . . . . . . . . . . . . . . . . . . . . . . . . . . . . . . . . . . . . . . . . . . . . . . . . . . g h g f h h f a h e g f a e h d g h d b g c g e c g e e a f g a f d a h f h d d e d b c e g g c f h b f d d a b g f h h h g e h g f a d h f e b c c f f c b a e a e c a b e h g a b g d h f a a d g a c e a d g e a g d c d b h d f b c b c b f g c b f g c e c c b a h a c h c d c f d e f g d b e c b h d a a d g g g d g h c a h e a g e b b c h e a f b h d g g g e a b a e e b h a b f e b c e d f b d h f g b a a f g d h b b\n",
      ". . . . . . . . . . . . . . . . . . . . . . . . . . . . . . . . . . . . . . . . . . . . . . . . . . . . . . . . . . . . . . . . . . . . . . . . . . . . . . . . . . . . . . . . . . . . . . . . . . . . . . . . . . . . . . . . . . . . . . . . . . . . . . . . . . . . . . . . . . . . . . . . . . . . . . . . . . . . . . . . . . . . . . . . . . . . . . . . . . . . . . . . . . . . . . . . h g f h h f a h e g f a e h d g h d b g c g e c g e e a f g a f d a h f h d d e d b c e g g c f h b f d d a b g f h h h g e h g f a d h f e b c c f f c b a e a e c a b e h g a b g d h f a a d g a c e a d g e a g d c d b h d f b c b c b f g c b f g c e c c b a h a c h c d c f d e f g d b e c b h d a a d g g g d g h c a h e a g e b b c h e a f b h d g g g e a b a e e b h a b f e b c e d f b d h f g b a a f g d h b b\n",
      ". . . . . . . . . . . . . . . . . . . . . . . . . . . . . . . . . . . . . . . . . . . . . . . . . . . . . . . . . . . . . . . . . . . . . . . . . . . . . . . . . . . . . . . . . . . . . . . . . . . . . . . . . . . . . . . . . . . . . . . . . . . . . . . . . . . . . . . . . . . . . . . . . . . . . . . . . . . . . . . . . . . . . . . . . . . . . . . . . . . . . . . . . . . . . . . . . . . . . . . . e g f a e h d g h d b g c g e c g e e a f g a f d a h f h d d e d b c e g g c f h b f d d a b g f h h h g e h g f a d h f e b c c f f c b a e a e c a b e h g a b g d h f a a d g a c e a d g e a g d c d b h d f b c b c b f g c b f g c e c c b a h a c h c d c f d e f g d b e c b h d a a d g g g d g h c a h e a g e b b c h e a f b h d g g g e a b a e e b h a b f e b c e d f b d h f g b a a f g d h b b\n",
      ". . . . . . . . . . . . . . . . . . . . . . . . . . . . . . . . . . . . . . . . . . . . . . . . . . . . . . . . . . . . . . . . . . . . . . . . . . . . . . . . . . . . . . . . . . . . . . . . . . . . . . . . . . . . . . . . . . . . . . . . . . . . . . . . . . . . . . . . . . . . . . . . . . . . . . . . . . . . . . . . . . . . . . . . . . . . . . . . . . . . . . . . . . . . . . . . . . . . . . . . . . . . . . d g h d b g c g e c g e e a f g a f d a h f h d d e d b c e g g c f h b f d d a b g f h h h g e h g f a d h f e b c c f f c b a e a e c a b e h g a b g d h f a a d g a c e a d g e a g d c d b h d f b c b c b f g c b f g c e c c b a h a c h c d c f d e f g d b e c b h d a a d g g g d g h c a h e a g e b b c h e a f b h d g g g e a b a e e b h a b f e b c e d f b d h f g b a a f g d h b b\n",
      ". . . . . . . . . . . . . . . . . . . . . . . . . . . . . . . . . . . . . . . . . . . . . . . . . . . . . . . . . . . . . . . . . . . . . . . . . . . . . . . . . . . . . . . . . . . . . . . . . . . . . . . . . . . . . . . . . . . . . . . . . . . . . . . . . . . . . . . . . . . . . . . . . . . . . . . . . . . . . . . . . . . . . . . . . . . . . . . . . . . . . . . . . . . . . . . . . . . . . . . . . . . . . . . g h d b g c g e c g e e a f g a f d a h f h d d e d b c e g g c f h b f d d a b g f h h h g e h g f a d h f e b c c f f c b a e a e c a b e h g a b g d h f a a d g a c e a d g e a g d c d b h d f b c b c b f g c b f g c e c c b a h a c h c d c f d e f g d b e c b h d a a d g g g d g h c a h e a g e b b c h e a f b h d g g g e a b a e e b h a b f e b c e d f b d h f g b a a f g d h b b\n",
      ". . . . . . . . . . . . . . . . . . . . . . . . . . . . . . . . . . . . . . . . . . . . . . . . . . . . . . . . . . . . . . . . . . . . . . . . . . . . . . . . . . . . . . . . . . . . . . . . . . . . . . . . . . . . . . . . . . . . . . . . . . . . . . . . . . . . . . . . . . . . . . . . . . . . . . . . . . . . . . . . . . . . . . . . . . . . . . . . . . . . . . . . . . . . . . . . . . . . . . . . . . . . . . . . . . . g c g e c g e e a f g a f d a h f h d d e d b c e g g c f h b f d d a b g f h h h g e h g f a d h f e b c c f f c b a e a e c a b e h g a b g d h f a a d g a c e a d g e a g d c d b h d f b c b c b f g c b f g c e c c b a h a c h c d c f d e f g d b e c b h d a a d g g g d g h c a h e a g e b b c h e a f b h d g g g e a b a e e b h a b f e b c e d f b d h f g b a a f g d h b b\n",
      ". . . . . . . . . . . . . . . . . . . . . . . . . . . . . . . . . . . . . . . . . . . . . . . . . . . . . . . . . . . . . . . . . . . . . . . . . . . . . . . . . . . . . . . . . . . . . . . . . . . . . . . . . . . . . . . . . . . . . . . . . . . . . . . . . . . . . . . . . . . . . . . . . . . . . . . . . . . . . . . . . . . . . . . . . . . . . . . . . . . . . . . . . . . . . . . . . . . . . . . . . . . . . . . . . . . . c g e c g e e a f g a f d a h f h d d e d b c e g g c f h b f d d a b g f h h h g e h g f a d h f e b c c f f c b a e a e c a b e h g a b g d h f a a d g a c e a d g e a g d c d b h d f b c b c b f g c b f g c e c c b a h a c h c d c f d e f g d b e c b h d a a d g g g d g h c a h e a g e b b c h e a f b h d g g g e a b a e e b h a b f e b c e d f b d h f g b a a f g d h b b\n",
      ". . . . . . . . . . . . . . . . . . . . . . . . . . . . . . . . . . . . . . . . . . . . . . . . . . . . . . . . . . . . . . . . . . . . . . . . . . . . . . . . . . . . . . . . . . . . . . . . . . . . . . . . . . . . . . . . . . . . . . . . . . . . . . . . . . . . . . . . . . . . . . . . . . . . . . . . . . . . . . . . . . . . . . . . . . . . . . . . . . . . . . . . . . . . . . . . . . . . . . . . . . . . . . . . . . . . . g e c g e e a f g a f d a h f h d d e d b c e g g c f h b f d d a b g f h h h g e h g f a d h f e b c c f f c b a e a e c a b e h g a b g d h f a a d g a c e a d g e a g d c d b h d f b c b c b f g c b f g c e c c b a h a c h c d c f d e f g d b e c b h d a a d g g g d g h c a h e a g e b b c h e a f b h d g g g e a b a e e b h a b f e b c e d f b d h f g b a a f g d h b b\n",
      ". . . . . . . . . . . . . . . . . . . . . . . . . . . . . . . . . . . . . . . . . . . . . . . . . . . . . . . . . . . . . . . . . . . . . . . . . . . . . . . . . . . . . . . . . . . . . . . . . . . . . . . . . . . . . . . . . . . . . . . . . . . . . . . . . . . . . . . . . . . . . . . . . . . . . . . . . . . . . . . . . . . . . . . . . . . . . . . . . . . . . . . . . . . . . . . . . . . . . . . . . . . . . . . . . . . . . . . c g e e a f g a f d a h f h d d e d b c e g g c f h b f d d a b g f h h h g e h g f a d h f e b c c f f c b a e a e c a b e h g a b g d h f a a d g a c e a d g e a g d c d b h d f b c b c b f g c b f g c e c c b a h a c h c d c f d e f g d b e c b h d a a d g g g d g h c a h e a g e b b c h e a f b h d g g g e a b a e e b h a b f e b c e d f b d h f g b a a f g d h b b\n",
      ". . . . . . . . . . . . . . . . . . . . . . . . . . . . . . . . . . . . . . . . . . . . . . . . . . . . . . . . . . . . . . . . . . . . . . . . . . . . . . . . . . . . . . . . . . . . . . . . . . . . . . . . . . . . . . . . . . . . . . . . . . . . . . . . . . . . . . . . . . . . . . . . . . . . . . . . . . . . . . . . . . . . . . . . . . . . . . . . . . . . . . . . . . . . . . . . . . . . . . . . . . . . . . . . . . . . . . . . g e e a f g a f d a h f h d d e d b c e g g c f h b f d d a b g f h h h g e h g f a d h f e b c c f f c b a e a e c a b e h g a b g d h f a a d g a c e a d g e a g d c d b h d f b c b c b f g c b f g c e c c b a h a c h c d c f d e f g d b e c b h d a a d g g g d g h c a h e a g e b b c h e a f b h d g g g e a b a e e b h a b f e b c e d f b d h f g b a a f g d h b b\n",
      ". . . . . . . . . . . . . . . . . . . . . . . . . . . . . . . . . . . . . . . . . . . . . . . . . . . . . . . . . . . . . . . . . . . . . . . . . . . . . . . . . . . . . . . . . . . . . . . . . . . . . . . . . . . . . . . . . . . . . . . . . . . . . . . . . . . . . . . . . . . . . . . . . . . . . . . . . . . . . . . . . . . . . . . . . . . . . . . . . . . . . . . . . . . . . . . . . . . . . . . . . . . . . . . . . . . . . . . . . . . a f g a f d a h f h d d e d b c e g g c f h b f d d a b g f h h h g e h g f a d h f e b c c f f c b a e a e c a b e h g a b g d h f a a d g a c e a d g e a g d c d b h d f b c b c b f g c b f g c e c c b a h a c h c d c f d e f g d b e c b h d a a d g g g d g h c a h e a g e b b c h e a f b h d g g g e a b a e e b h a b f e b c e d f b d h f g b a a f g d h b b\n",
      ". . . . . . . . . . . . . . . . . . . . . . . . . . . . . . . . . . . . . . . . . . . . . . . . . . . . . . . . . . . . . . . . . . . . . . . . . . . . . . . . . . . . . . . . . . . . . . . . . . . . . . . . . . . . . . . . . . . . . . . . . . . . . . . . . . . . . . . . . . . . . . . . . . . . . . . . . . . . . . . . . . . . . . . . . . . . . . . . . . . . . . . . . . . . . . . . . . . . . . . . . . . . . . . . . . . . . . . . . . . . f g a f d a h f h d d e d b c e g g c f h b f d d a b g f h h h g e h g f a d h f e b c c f f c b a e a e c a b e h g a b g d h f a a d g a c e a d g e a g d c d b h d f b c b c b f g c b f g c e c c b a h a c h c d c f d e f g d b e c b h d a a d g g g d g h c a h e a g e b b c h e a f b h d g g g e a b a e e b h a b f e b c e d f b d h f g b a a f g d h b b\n",
      ". . . . . . . . . . . . . . . . . . . . . . . . . . . . . . . . . . . . . . . . . . . . . . . . . . . . . . . . . . . . . . . . . . . . . . . . . . . . . . . . . . . . . . . . . . . . . . . . . . . . . . . . . . . . . . . . . . . . . . . . . . . . . . . . . . . . . . . . . . . . . . . . . . . . . . . . . . . . . . . . . . . . . . . . . . . . . . . . . . . . . . . . . . . . . . . . . . . . . . . . . . . . . . . . . . . . . . . . . . . . . g a f d a h f h d d e d b c e g g c f h b f d d a b g f h h h g e h g f a d h f e b c c f f c b a e a e c a b e h g a b g d h f a a d g a c e a d g e a g d c d b h d f b c b c b f g c b f g c e c c b a h a c h c d c f d e f g d b e c b h d a a d g g g d g h c a h e a g e b b c h e a f b h d g g g e a b a e e b h a b f e b c e d f b d h f g b a a f g d h b b\n",
      ". . . . . . . . . . . . . . . . . . . . . . . . . . . . . . . . . . . . . . . . . . . . . . . . . . . . . . . . . . . . . . . . . . . . . . . . . . . . . . . . . . . . . . . . . . . . . . . . . . . . . . . . . . . . . . . . . . . . . . . . . . . . . . . . . . . . . . . . . . . . . . . . . . . . . . . . . . . . . . . . . . . . . . . . . . . . . . . . . . . . . . . . . . . . . . . . . . . . . . . . . . . . . . . . . . . . . . . . . . . . . . a f d a h f h d d e d b c e g g c f h b f d d a b g f h h h g e h g f a d h f e b c c f f c b a e a e c a b e h g a b g d h f a a d g a c e a d g e a g d c d b h d f b c b c b f g c b f g c e c c b a h a c h c d c f d e f g d b e c b h d a a d g g g d g h c a h e a g e b b c h e a f b h d g g g e a b a e e b h a b f e b c e d f b d h f g b a a f g d h b b\n",
      ". . . . . . . . . . . . . . . . . . . . . . . . . . . . . . . . . . . . . . . . . . . . . . . . . . . . . . . . . . . . . . . . . . . . . . . . . . . . . . . . . . . . . . . . . . . . . . . . . . . . . . . . . . . . . . . . . . . . . . . . . . . . . . . . . . . . . . . . . . . . . . . . . . . . . . . . . . . . . . . . . . . . . . . . . . . . . . . . . . . . . . . . . . . . . . . . . . . . . . . . . . . . . . . . . . . . . . . . . . . . . . . . . . h f h d d e d b c e g g c f h b f d d a b g f h h h g e h g f a d h f e b c c f f c b a e a e c a b e h g a b g d h f a a d g a c e a d g e a g d c d b h d f b c b c b f g c b f g c e c c b a h a c h c d c f d e f g d b e c b h d a a d g g g d g h c a h e a g e b b c h e a f b h d g g g e a b a e e b h a b f e b c e d f b d h f g b a a f g d h b b\n",
      ". . . . . . . . . . . . . . . . . . . . . . . . . . . . . . . . . . . . . . . . . . . . . . . . . . . . . . . . . . . . . . . . . . . . . . . . . . . . . . . . . . . . . . . . . . . . . . . . . . . . . . . . . . . . . . . . . . . . . . . . . . . . . . . . . . . . . . . . . . . . . . . . . . . . . . . . . . . . . . . . . . . . . . . . . . . . . . . . . . . . . . . . . . . . . . . . . . . . . . . . . . . . . . . . . . . . . . . . . . . . . . . . . . . f h d d e d b c e g g c f h b f d d a b g f h h h g e h g f a d h f e b c c f f c b a e a e c a b e h g a b g d h f a a d g a c e a d g e a g d c d b h d f b c b c b f g c b f g c e c c b a h a c h c d c f d e f g d b e c b h d a a d g g g d g h c a h e a g e b b c h e a f b h d g g g e a b a e e b h a b f e b c e d f b d h f g b a a f g d h b b\n",
      ". . . . . . . . . . . . . . . . . . . . . . . . . . . . . . . . . . . . . . . . . . . . . . . . . . . . . . . . . . . . . . . . . . . . . . . . . . . . . . . . . . . . . . . . . . . . . . . . . . . . . . . . . . . . . . . . . . . . . . . . . . . . . . . . . . . . . . . . . . . . . . . . . . . . . . . . . . . . . . . . . . . . . . . . . . . . . . . . . . . . . . . . . . . . . . . . . . . . . . . . . . . . . . . . . . . . . . . . . . . . . . . . . . . . . d d e d b c e g g c f h b f d d a b g f h h h g e h g f a d h f e b c c f f c b a e a e c a b e h g a b g d h f a a d g a c e a d g e a g d c d b h d f b c b c b f g c b f g c e c c b a h a c h c d c f d e f g d b e c b h d a a d g g g d g h c a h e a g e b b c h e a f b h d g g g e a b a e e b h a b f e b c e d f b d h f g b a a f g d h b b\n",
      ". . . . . . . . . . . . . . . . . . . . . . . . . . . . . . . . . . . . . . . . . . . . . . . . . . . . . . . . . . . . . . . . . . . . . . . . . . . . . . . . . . . . . . . . . . . . . . . . . . . . . . . . . . . . . . . . . . . . . . . . . . . . . . . . . . . . . . . . . . . . . . . . . . . . . . . . . . . . . . . . . . . . . . . . . . . . . . . . . . . . . . . . . . . . . . . . . . . . . . . . . . . . . . . . . . . . . . . . . . . . . . . . . . . . . . d e d b c e g g c f h b f d d a b g f h h h g e h g f a d h f e b c c f f c b a e a e c a b e h g a b g d h f a a d g a c e a d g e a g d c d b h d f b c b c b f g c b f g c e c c b a h a c h c d c f d e f g d b e c b h d a a d g g g d g h c a h e a g e b b c h e a f b h d g g g e a b a e e b h a b f e b c e d f b d h f g b a a f g d h b b\n",
      ". . . . . . . . . . . . . . . . . . . . . . . . . . . . . . . . . . . . . . . . . . . . . . . . . . . . . . . . . . . . . . . . . . . . . . . . . . . . . . . . . . . . . . . . . . . . . . . . . . . . . . . . . . . . . . . . . . . . . . . . . . . . . . . . . . . . . . . . . . . . . . . . . . . . . . . . . . . . . . . . . . . . . . . . . . . . . . . . . . . . . . . . . . . . . . . . . . . . . . . . . . . . . . . . . . . . . . . . . . . . . . . . . . . . . . . . . . . . g g c f h b f d d a b g f h h h g e h g f a d h f e b c c f f c b a e a e c a b e h g a b g d h f a a d g a c e a d g e a g d c d b h d f b c b c b f g c b f g c e c c b a h a c h c d c f d e f g d b e c b h d a a d g g g d g h c a h e a g e b b c h e a f b h d g g g e a b a e e b h a b f e b c e d f b d h f g b a a f g d h b b\n",
      ". . . . . . . . . . . . . . . . . . . . . . . . . . . . . . . . . . . . . . . . . . . . . . . . . . . . . . . . . . . . . . . . . . . . . . . . . . . . . . . . . . . . . . . . . . . . . . . . . . . . . . . . . . . . . . . . . . . . . . . . . . . . . . . . . . . . . . . . . . . . . . . . . . . . . . . . . . . . . . . . . . . . . . . . . . . . . . . . . . . . . . . . . . . . . . . . . . . . . . . . . . . . . . . . . . . . . . . . . . . . . . . . . . . . . . . . . . . . . g c f h b f d d a b g f h h h g e h g f a d h f e b c c f f c b a e a e c a b e h g a b g d h f a a d g a c e a d g e a g d c d b h d f b c b c b f g c b f g c e c c b a h a c h c d c f d e f g d b e c b h d a a d g g g d g h c a h e a g e b b c h e a f b h d g g g e a b a e e b h a b f e b c e d f b d h f g b a a f g d h b b\n",
      ". . . . . . . . . . . . . . . . . . . . . . . . . . . . . . . . . . . . . . . . . . . . . . . . . . . . . . . . . . . . . . . . . . . . . . . . . . . . . . . . . . . . . . . . . . . . . . . . . . . . . . . . . . . . . . . . . . . . . . . . . . . . . . . . . . . . . . . . . . . . . . . . . . . . . . . . . . . . . . . . . . . . . . . . . . . . . . . . . . . . . . . . . . . . . . . . . . . . . . . . . . . . . . . . . . . . . . . . . . . . . . . . . . . . . . . . . . . . . . c f h b f d d a b g f h h h g e h g f a d h f e b c c f f c b a e a e c a b e h g a b g d h f a a d g a c e a d g e a g d c d b h d f b c b c b f g c b f g c e c c b a h a c h c d c f d e f g d b e c b h d a a d g g g d g h c a h e a g e b b c h e a f b h d g g g e a b a e e b h a b f e b c e d f b d h f g b a a f g d h b b\n",
      ". . . . . . . . . . . . . . . . . . . . . . . . . . . . . . . . . . . . . . . . . . . . . . . . . . . . . . . . . . . . . . . . . . . . . . . . . . . . . . . . . . . . . . . . . . . . . . . . . . . . . . . . . . . . . . . . . . . . . . . . . . . . . . . . . . . . . . . . . . . . . . . . . . . . . . . . . . . . . . . . . . . . . . . . . . . . . . . . . . . . . . . . . . . . . . . . . . . . . . . . . . . . . . . . . . . . . . . . . . . . . . . . . . . . . . . . . . . . . . . f h b f d d a b g f h h h g e h g f a d h f e b c c f f c b a e a e c a b e h g a b g d h f a a d g a c e a d g e a g d c d b h d f b c b c b f g c b f g c e c c b a h a c h c d c f d e f g d b e c b h d a a d g g g d g h c a h e a g e b b c h e a f b h d g g g e a b a e e b h a b f e b c e d f b d h f g b a a f g d h b b\n",
      ". . . . . . . . . . . . . . . . . . . . . . . . . . . . . . . . . . . . . . . . . . . . . . . . . . . . . . . . . . . . . . . . . . . . . . . . . . . . . . . . . . . . . . . . . . . . . . . . . . . . . . . . . . . . . . . . . . . . . . . . . . . . . . . . . . . . . . . . . . . . . . . . . . . . . . . . . . . . . . . . . . . . . . . . . . . . . . . . . . . . . . . . . . . . . . . . . . . . . . . . . . . . . . . . . . . . . . . . . . . . . . . . . . . . . . . . . . . . . . . . h b f d d a b g f h h h g e h g f a d h f e b c c f f c b a e a e c a b e h g a b g d h f a a d g a c e a d g e a g d c d b h d f b c b c b f g c b f g c e c c b a h a c h c d c f d e f g d b e c b h d a a d g g g d g h c a h e a g e b b c h e a f b h d g g g e a b a e e b h a b f e b c e d f b d h f g b a a f g d h b b\n",
      ". . . . . . . . . . . . . . . . . . . . . . . . . . . . . . . . . . . . . . . . . . . . . . . . . . . . . . . . . . . . . . . . . . . . . . . . . . . . . . . . . . . . . . . . . . . . . . . . . . . . . . . . . . . . . . . . . . . . . . . . . . . . . . . . . . . . . . . . . . . . . . . . . . . . . . . . . . . . . . . . . . . . . . . . . . . . . . . . . . . . . . . . . . . . . . . . . . . . . . . . . . . . . . . . . . . . . . . . . . . . . . . . . . . . . . . . . . . . . . . . . . f d d a b g f h h h g e h g f a d h f e b c c f f c b a e a e c a b e h g a b g d h f a a d g a c e a d g e a g d c d b h d f b c b c b f g c b f g c e c c b a h a c h c d c f d e f g d b e c b h d a a d g g g d g h c a h e a g e b b c h e a f b h d g g g e a b a e e b h a b f e b c e d f b d h f g b a a f g d h b b\n",
      ". . . . . . . . . . . . . . . . . . . . . . . . . . . . . . . . . . . . . . . . . . . . . . . . . . . . . . . . . . . . . . . . . . . . . . . . . . . . . . . . . . . . . . . . . . . . . . . . . . . . . . . . . . . . . . . . . . . . . . . . . . . . . . . . . . . . . . . . . . . . . . . . . . . . . . . . . . . . . . . . . . . . . . . . . . . . . . . . . . . . . . . . . . . . . . . . . . . . . . . . . . . . . . . . . . . . . . . . . . . . . . . . . . . . . . . . . . . . . . . . . . . d d a b g f h h h g e h g f a d h f e b c c f f c b a e a e c a b e h g a b g d h f a a d g a c e a d g e a g d c d b h d f b c b c b f g c b f g c e c c b a h a c h c d c f d e f g d b e c b h d a a d g g g d g h c a h e a g e b b c h e a f b h d g g g e a b a e e b h a b f e b c e d f b d h f g b a a f g d h b b\n",
      ". . . . . . . . . . . . . . . . . . . . . . . . . . . . . . . . . . . . . . . . . . . . . . . . . . . . . . . . . . . . . . . . . . . . . . . . . . . . . . . . . . . . . . . . . . . . . . . . . . . . . . . . . . . . . . . . . . . . . . . . . . . . . . . . . . . . . . . . . . . . . . . . . . . . . . . . . . . . . . . . . . . . . . . . . . . . . . . . . . . . . . . . . . . . . . . . . . . . . . . . . . . . . . . . . . . . . . . . . . . . . . . . . . . . . . . . . . . . . . . . . . . . d a b g f h h h g e h g f a d h f e b c c f f c b a e a e c a b e h g a b g d h f a a d g a c e a d g e a g d c d b h d f b c b c b f g c b f g c e c c b a h a c h c d c f d e f g d b e c b h d a a d g g g d g h c a h e a g e b b c h e a f b h d g g g e a b a e e b h a b f e b c e d f b d h f g b a a f g d h b b\n",
      ". . . . . . . . . . . . . . . . . . . . . . . . . . . . . . . . . . . . . . . . . . . . . . . . . . . . . . . . . . . . . . . . . . . . . . . . . . . . . . . . . . . . . . . . . . . . . . . . . . . . . . . . . . . . . . . . . . . . . . . . . . . . . . . . . . . . . . . . . . . . . . . . . . . . . . . . . . . . . . . . . . . . . . . . . . . . . . . . . . . . . . . . . . . . . . . . . . . . . . . . . . . . . . . . . . . . . . . . . . . . . . . . . . . . . . . . . . . . . . . . . . . . . a b g f h h h g e h g f a d h f e b c c f f c b a e a e c a b e h g a b g d h f a a d g a c e a d g e a g d c d b h d f b c b c b f g c b f g c e c c b a h a c h c d c f d e f g d b e c b h d a a d g g g d g h c a h e a g e b b c h e a f b h d g g g e a b a e e b h a b f e b c e d f b d h f g b a a f g d h b b\n",
      ". . . . . . . . . . . . . . . . . . . . . . . . . . . . . . . . . . . . . . . . . . . . . . . . . . . . . . . . . . . . . . . . . . . . . . . . . . . . . . . . . . . . . . . . . . . . . . . . . . . . . . . . . . . . . . . . . . . . . . . . . . . . . . . . . . . . . . . . . . . . . . . . . . . . . . . . . . . . . . . . . . . . . . . . . . . . . . . . . . . . . . . . . . . . . . . . . . . . . . . . . . . . . . . . . . . . . . . . . . . . . . . . . . . . . . . . . . . . . . . . . . . . . . . . . h h h g e h g f a d h f e b c c f f c b a e a e c a b e h g a b g d h f a a d g a c e a d g e a g d c d b h d f b c b c b f g c b f g c e c c b a h a c h c d c f d e f g d b e c b h d a a d g g g d g h c a h e a g e b b c h e a f b h d g g g e a b a e e b h a b f e b c e d f b d h f g b a a f g d h b b\n",
      ". . . . . . . . . . . . . . . . . . . . . . . . . . . . . . . . . . . . . . . . . . . . . . . . . . . . . . . . . . . . . . . . . . . . . . . . . . . . . . . . . . . . . . . . . . . . . . . . . . . . . . . . . . . . . . . . . . . . . . . . . . . . . . . . . . . . . . . . . . . . . . . . . . . . . . . . . . . . . . . . . . . . . . . . . . . . . . . . . . . . . . . . . . . . . . . . . . . . . . . . . . . . . . . . . . . . . . . . . . . . . . . . . . . . . . . . . . . . . . . . . . . . . . . . . . . . g e h g f a d h f e b c c f f c b a e a e c a b e h g a b g d h f a a d g a c e a d g e a g d c d b h d f b c b c b f g c b f g c e c c b a h a c h c d c f d e f g d b e c b h d a a d g g g d g h c a h e a g e b b c h e a f b h d g g g e a b a e e b h a b f e b c e d f b d h f g b a a f g d h b b\n",
      ". . . . . . . . . . . . . . . . . . . . . . . . . . . . . . . . . . . . . . . . . . . . . . . . . . . . . . . . . . . . . . . . . . . . . . . . . . . . . . . . . . . . . . . . . . . . . . . . . . . . . . . . . . . . . . . . . . . . . . . . . . . . . . . . . . . . . . . . . . . . . . . . . . . . . . . . . . . . . . . . . . . . . . . . . . . . . . . . . . . . . . . . . . . . . . . . . . . . . . . . . . . . . . . . . . . . . . . . . . . . . . . . . . . . . . . . . . . . . . . . . . . . . . . . . . . . . . . . f a d h f e b c c f f c b a e a e c a b e h g a b g d h f a a d g a c e a d g e a g d c d b h d f b c b c b f g c b f g c e c c b a h a c h c d c f d e f g d b e c b h d a a d g g g d g h c a h e a g e b b c h e a f b h d g g g e a b a e e b h a b f e b c e d f b d h f g b a a f g d h b b\n",
      ". . . . . . . . . . . . . . . . . . . . . . . . . . . . . . . . . . . . . . . . . . . . . . . . . . . . . . . . . . . . . . . . . . . . . . . . . . . . . . . . . . . . . . . . . . . . . . . . . . . . . . . . . . . . . . . . . . . . . . . . . . . . . . . . . . . . . . . . . . . . . . . . . . . . . . . . . . . . . . . . . . . . . . . . . . . . . . . . . . . . . . . . . . . . . . . . . . . . . . . . . . . . . . . . . . . . . . . . . . . . . . . . . . . . . . . . . . . . . . . . . . . . . . . . . . . . . . . . . a d h f e b c c f f c b a e a e c a b e h g a b g d h f a a d g a c e a d g e a g d c d b h d f b c b c b f g c b f g c e c c b a h a c h c d c f d e f g d b e c b h d a a d g g g d g h c a h e a g e b b c h e a f b h d g g g e a b a e e b h a b f e b c e d f b d h f g b a a f g d h b b\n",
      ". . . . . . . . . . . . . . . . . . . . . . . . . . . . . . . . . . . . . . . . . . . . . . . . . . . . . . . . . . . . . . . . . . . . . . . . . . . . . . . . . . . . . . . . . . . . . . . . . . . . . . . . . . . . . . . . . . . . . . . . . . . . . . . . . . . . . . . . . . . . . . . . . . . . . . . . . . . . . . . . . . . . . . . . . . . . . . . . . . . . . . . . . . . . . . . . . . . . . . . . . . . . . . . . . . . . . . . . . . . . . . . . . . . . . . . . . . . . . . . . . . . . . . . . . . . . . . . . . . . . . e b c c f f c b a e a e c a b e h g a b g d h f a a d g a c e a d g e a g d c d b h d f b c b c b f g c b f g c e c c b a h a c h c d c f d e f g d b e c b h d a a d g g g d g h c a h e a g e b b c h e a f b h d g g g e a b a e e b h a b f e b c e d f b d h f g b a a f g d h b b\n",
      ". . . . . . . . . . . . . . . . . . . . . . . . . . . . . . . . . . . . . . . . . . . . . . . . . . . . . . . . . . . . . . . . . . . . . . . . . . . . . . . . . . . . . . . . . . . . . . . . . . . . . . . . . . . . . . . . . . . . . . . . . . . . . . . . . . . . . . . . . . . . . . . . . . . . . . . . . . . . . . . . . . . . . . . . . . . . . . . . . . . . . . . . . . . . . . . . . . . . . . . . . . . . . . . . . . . . . . . . . . . . . . . . . . . . . . . . . . . . . . . . . . . . . . . . . . . . . . . . . . . . . . b c c f f c b a e a e c a b e h g a b g d h f a a d g a c e a d g e a g d c d b h d f b c b c b f g c b f g c e c c b a h a c h c d c f d e f g d b e c b h d a a d g g g d g h c a h e a g e b b c h e a f b h d g g g e a b a e e b h a b f e b c e d f b d h f g b a a f g d h b b\n",
      ". . . . . . . . . . . . . . . . . . . . . . . . . . . . . . . . . . . . . . . . . . . . . . . . . . . . . . . . . . . . . . . . . . . . . . . . . . . . . . . . . . . . . . . . . . . . . . . . . . . . . . . . . . . . . . . . . . . . . . . . . . . . . . . . . . . . . . . . . . . . . . . . . . . . . . . . . . . . . . . . . . . . . . . . . . . . . . . . . . . . . . . . . . . . . . . . . . . . . . . . . . . . . . . . . . . . . . . . . . . . . . . . . . . . . . . . . . . . . . . . . . . . . . . . . . . . . . . . . . . . . . . c c f f c b a e a e c a b e h g a b g d h f a a d g a c e a d g e a g d c d b h d f b c b c b f g c b f g c e c c b a h a c h c d c f d e f g d b e c b h d a a d g g g d g h c a h e a g e b b c h e a f b h d g g g e a b a e e b h a b f e b c e d f b d h f g b a a f g d h b b\n",
      ". . . . . . . . . . . . . . . . . . . . . . . . . . . . . . . . . . . . . . . . . . . . . . . . . . . . . . . . . . . . . . . . . . . . . . . . . . . . . . . . . . . . . . . . . . . . . . . . . . . . . . . . . . . . . . . . . . . . . . . . . . . . . . . . . . . . . . . . . . . . . . . . . . . . . . . . . . . . . . . . . . . . . . . . . . . . . . . . . . . . . . . . . . . . . . . . . . . . . . . . . . . . . . . . . . . . . . . . . . . . . . . . . . . . . . . . . . . . . . . . . . . . . . . . . . . . . . . . . . . . . . . . . . . . . a e a e c a b e h g a b g d h f a a d g a c e a d g e a g d c d b h d f b c b c b f g c b f g c e c c b a h a c h c d c f d e f g d b e c b h d a a d g g g d g h c a h e a g e b b c h e a f b h d g g g e a b a e e b h a b f e b c e d f b d h f g b a a f g d h b b\n",
      ". . . . . . . . . . . . . . . . . . . . . . . . . . . . . . . . . . . . . . . . . . . . . . . . . . . . . . . . . . . . . . . . . . . . . . . . . . . . . . . . . . . . . . . . . . . . . . . . . . . . . . . . . . . . . . . . . . . . . . . . . . . . . . . . . . . . . . . . . . . . . . . . . . . . . . . . . . . . . . . . . . . . . . . . . . . . . . . . . . . . . . . . . . . . . . . . . . . . . . . . . . . . . . . . . . . . . . . . . . . . . . . . . . . . . . . . . . . . . . . . . . . . . . . . . . . . . . . . . . . . . . . . . . . . . . e a e c a b e h g a b g d h f a a d g a c e a d g e a g d c d b h d f b c b c b f g c b f g c e c c b a h a c h c d c f d e f g d b e c b h d a a d g g g d g h c a h e a g e b b c h e a f b h d g g g e a b a e e b h a b f e b c e d f b d h f g b a a f g d h b b\n",
      ". . . . . . . . . . . . . . . . . . . . . . . . . . . . . . . . . . . . . . . . . . . . . . . . . . . . . . . . . . . . . . . . . . . . . . . . . . . . . . . . . . . . . . . . . . . . . . . . . . . . . . . . . . . . . . . . . . . . . . . . . . . . . . . . . . . . . . . . . . . . . . . . . . . . . . . . . . . . . . . . . . . . . . . . . . . . . . . . . . . . . . . . . . . . . . . . . . . . . . . . . . . . . . . . . . . . . . . . . . . . . . . . . . . . . . . . . . . . . . . . . . . . . . . . . . . . . . . . . . . . . . . . . . . . . . . a e c a b e h g a b g d h f a a d g a c e a d g e a g d c d b h d f b c b c b f g c b f g c e c c b a h a c h c d c f d e f g d b e c b h d a a d g g g d g h c a h e a g e b b c h e a f b h d g g g e a b a e e b h a b f e b c e d f b d h f g b a a f g d h b b\n",
      ". . . . . . . . . . . . . . . . . . . . . . . . . . . . . . . . . . . . . . . . . . . . . . . . . . . . . . . . . . . . . . . . . . . . . . . . . . . . . . . . . . . . . . . . . . . . . . . . . . . . . . . . . . . . . . . . . . . . . . . . . . . . . . . . . . . . . . . . . . . . . . . . . . . . . . . . . . . . . . . . . . . . . . . . . . . . . . . . . . . . . . . . . . . . . . . . . . . . . . . . . . . . . . . . . . . . . . . . . . . . . . . . . . . . . . . . . . . . . . . . . . . . . . . . . . . . . . . . . . . . . . . . . . . . . . . . . . a b e h g a b g d h f a a d g a c e a d g e a g d c d b h d f b c b c b f g c b f g c e c c b a h a c h c d c f d e f g d b e c b h d a a d g g g d g h c a h e a g e b b c h e a f b h d g g g e a b a e e b h a b f e b c e d f b d h f g b a a f g d h b b\n",
      ". . . . . . . . . . . . . . . . . . . . . . . . . . . . . . . . . . . . . . . . . . . . . . . . . . . . . . . . . . . . . . . . . . . . . . . . . . . . . . . . . . . . . . . . . . . . . . . . . . . . . . . . . . . . . . . . . . . . . . . . . . . . . . . . . . . . . . . . . . . . . . . . . . . . . . . . . . . . . . . . . . . . . . . . . . . . . . . . . . . . . . . . . . . . . . . . . . . . . . . . . . . . . . . . . . . . . . . . . . . . . . . . . . . . . . . . . . . . . . . . . . . . . . . . . . . . . . . . . . . . . . . . . . . . . . . . . . . b e h g a b g d h f a a d g a c e a d g e a g d c d b h d f b c b c b f g c b f g c e c c b a h a c h c d c f d e f g d b e c b h d a a d g g g d g h c a h e a g e b b c h e a f b h d g g g e a b a e e b h a b f e b c e d f b d h f g b a a f g d h b b\n",
      ". . . . . . . . . . . . . . . . . . . . . . . . . . . . . . . . . . . . . . . . . . . . . . . . . . . . . . . . . . . . . . . . . . . . . . . . . . . . . . . . . . . . . . . . . . . . . . . . . . . . . . . . . . . . . . . . . . . . . . . . . . . . . . . . . . . . . . . . . . . . . . . . . . . . . . . . . . . . . . . . . . . . . . . . . . . . . . . . . . . . . . . . . . . . . . . . . . . . . . . . . . . . . . . . . . . . . . . . . . . . . . . . . . . . . . . . . . . . . . . . . . . . . . . . . . . . . . . . . . . . . . . . . . . . . . . . . . . . e h g a b g d h f a a d g a c e a d g e a g d c d b h d f b c b c b f g c b f g c e c c b a h a c h c d c f d e f g d b e c b h d a a d g g g d g h c a h e a g e b b c h e a f b h d g g g e a b a e e b h a b f e b c e d f b d h f g b a a f g d h b b\n",
      ". . . . . . . . . . . . . . . . . . . . . . . . . . . . . . . . . . . . . . . . . . . . . . . . . . . . . . . . . . . . . . . . . . . . . . . . . . . . . . . . . . . . . . . . . . . . . . . . . . . . . . . . . . . . . . . . . . . . . . . . . . . . . . . . . . . . . . . . . . . . . . . . . . . . . . . . . . . . . . . . . . . . . . . . . . . . . . . . . . . . . . . . . . . . . . . . . . . . . . . . . . . . . . . . . . . . . . . . . . . . . . . . . . . . . . . . . . . . . . . . . . . . . . . . . . . . . . . . . . . . . . . . . . . . . . . . . . . . . . g a b g d h f a a d g a c e a d g e a g d c d b h d f b c b c b f g c b f g c e c c b a h a c h c d c f d e f g d b e c b h d a a d g g g d g h c a h e a g e b b c h e a f b h d g g g e a b a e e b h a b f e b c e d f b d h f g b a a f g d h b b\n",
      ". . . . . . . . . . . . . . . . . . . . . . . . . . . . . . . . . . . . . . . . . . . . . . . . . . . . . . . . . . . . . . . . . . . . . . . . . . . . . . . . . . . . . . . . . . . . . . . . . . . . . . . . . . . . . . . . . . . . . . . . . . . . . . . . . . . . . . . . . . . . . . . . . . . . . . . . . . . . . . . . . . . . . . . . . . . . . . . . . . . . . . . . . . . . . . . . . . . . . . . . . . . . . . . . . . . . . . . . . . . . . . . . . . . . . . . . . . . . . . . . . . . . . . . . . . . . . . . . . . . . . . . . . . . . . . . . . . . . . . . a b g d h f a a d g a c e a d g e a g d c d b h d f b c b c b f g c b f g c e c c b a h a c h c d c f d e f g d b e c b h d a a d g g g d g h c a h e a g e b b c h e a f b h d g g g e a b a e e b h a b f e b c e d f b d h f g b a a f g d h b b\n",
      ". . . . . . . . . . . . . . . . . . . . . . . . . . . . . . . . . . . . . . . . . . . . . . . . . . . . . . . . . . . . . . . . . . . . . . . . . . . . . . . . . . . . . . . . . . . . . . . . . . . . . . . . . . . . . . . . . . . . . . . . . . . . . . . . . . . . . . . . . . . . . . . . . . . . . . . . . . . . . . . . . . . . . . . . . . . . . . . . . . . . . . . . . . . . . . . . . . . . . . . . . . . . . . . . . . . . . . . . . . . . . . . . . . . . . . . . . . . . . . . . . . . . . . . . . . . . . . . . . . . . . . . . . . . . . . . . . . . . . . . . . . d h f a a d g a c e a d g e a g d c d b h d f b c b c b f g c b f g c e c c b a h a c h c d c f d e f g d b e c b h d a a d g g g d g h c a h e a g e b b c h e a f b h d g g g e a b a e e b h a b f e b c e d f b d h f g b a a f g d h b b\n",
      ". . . . . . . . . . . . . . . . . . . . . . . . . . . . . . . . . . . . . . . . . . . . . . . . . . . . . . . . . . . . . . . . . . . . . . . . . . . . . . . . . . . . . . . . . . . . . . . . . . . . . . . . . . . . . . . . . . . . . . . . . . . . . . . . . . . . . . . . . . . . . . . . . . . . . . . . . . . . . . . . . . . . . . . . . . . . . . . . . . . . . . . . . . . . . . . . . . . . . . . . . . . . . . . . . . . . . . . . . . . . . . . . . . . . . . . . . . . . . . . . . . . . . . . . . . . . . . . . . . . . . . . . . . . . . . . . . . . . . . . . . . . h f a a d g a c e a d g e a g d c d b h d f b c b c b f g c b f g c e c c b a h a c h c d c f d e f g d b e c b h d a a d g g g d g h c a h e a g e b b c h e a f b h d g g g e a b a e e b h a b f e b c e d f b d h f g b a a f g d h b b\n",
      ". . . . . . . . . . . . . . . . . . . . . . . . . . . . . . . . . . . . . . . . . . . . . . . . . . . . . . . . . . . . . . . . . . . . . . . . . . . . . . . . . . . . . . . . . . . . . . . . . . . . . . . . . . . . . . . . . . . . . . . . . . . . . . . . . . . . . . . . . . . . . . . . . . . . . . . . . . . . . . . . . . . . . . . . . . . . . . . . . . . . . . . . . . . . . . . . . . . . . . . . . . . . . . . . . . . . . . . . . . . . . . . . . . . . . . . . . . . . . . . . . . . . . . . . . . . . . . . . . . . . . . . . . . . . . . . . . . . . . . . . . . . . f a a d g a c e a d g e a g d c d b h d f b c b c b f g c b f g c e c c b a h a c h c d c f d e f g d b e c b h d a a d g g g d g h c a h e a g e b b c h e a f b h d g g g e a b a e e b h a b f e b c e d f b d h f g b a a f g d h b b\n",
      ". . . . . . . . . . . . . . . . . . . . . . . . . . . . . . . . . . . . . . . . . . . . . . . . . . . . . . . . . . . . . . . . . . . . . . . . . . . . . . . . . . . . . . . . . . . . . . . . . . . . . . . . . . . . . . . . . . . . . . . . . . . . . . . . . . . . . . . . . . . . . . . . . . . . . . . . . . . . . . . . . . . . . . . . . . . . . . . . . . . . . . . . . . . . . . . . . . . . . . . . . . . . . . . . . . . . . . . . . . . . . . . . . . . . . . . . . . . . . . . . . . . . . . . . . . . . . . . . . . . . . . . . . . . . . . . . . . . . . . . . . . . . . a a d g a c e a d g e a g d c d b h d f b c b c b f g c b f g c e c c b a h a c h c d c f d e f g d b e c b h d a a d g g g d g h c a h e a g e b b c h e a f b h d g g g e a b a e e b h a b f e b c e d f b d h f g b a a f g d h b b\n",
      ". . . . . . . . . . . . . . . . . . . . . . . . . . . . . . . . . . . . . . . . . . . . . . . . . . . . . . . . . . . . . . . . . . . . . . . . . . . . . . . . . . . . . . . . . . . . . . . . . . . . . . . . . . . . . . . . . . . . . . . . . . . . . . . . . . . . . . . . . . . . . . . . . . . . . . . . . . . . . . . . . . . . . . . . . . . . . . . . . . . . . . . . . . . . . . . . . . . . . . . . . . . . . . . . . . . . . . . . . . . . . . . . . . . . . . . . . . . . . . . . . . . . . . . . . . . . . . . . . . . . . . . . . . . . . . . . . . . . . . . . . . . . . . . d g a c e a d g e a g d c d b h d f b c b c b f g c b f g c e c c b a h a c h c d c f d e f g d b e c b h d a a d g g g d g h c a h e a g e b b c h e a f b h d g g g e a b a e e b h a b f e b c e d f b d h f g b a a f g d h b b\n",
      ". . . . . . . . . . . . . . . . . . . . . . . . . . . . . . . . . . . . . . . . . . . . . . . . . . . . . . . . . . . . . . . . . . . . . . . . . . . . . . . . . . . . . . . . . . . . . . . . . . . . . . . . . . . . . . . . . . . . . . . . . . . . . . . . . . . . . . . . . . . . . . . . . . . . . . . . . . . . . . . . . . . . . . . . . . . . . . . . . . . . . . . . . . . . . . . . . . . . . . . . . . . . . . . . . . . . . . . . . . . . . . . . . . . . . . . . . . . . . . . . . . . . . . . . . . . . . . . . . . . . . . . . . . . . . . . . . . . . . . . . . . . . . . . . . . c e a d g e a g d c d b h d f b c b c b f g c b f g c e c c b a h a c h c d c f d e f g d b e c b h d a a d g g g d g h c a h e a g e b b c h e a f b h d g g g e a b a e e b h a b f e b c e d f b d h f g b a a f g d h b b\n",
      ". . . . . . . . . . . . . . . . . . . . . . . . . . . . . . . . . . . . . . . . . . . . . . . . . . . . . . . . . . . . . . . . . . . . . . . . . . . . . . . . . . . . . . . . . . . . . . . . . . . . . . . . . . . . . . . . . . . . . . . . . . . . . . . . . . . . . . . . . . . . . . . . . . . . . . . . . . . . . . . . . . . . . . . . . . . . . . . . . . . . . . . . . . . . . . . . . . . . . . . . . . . . . . . . . . . . . . . . . . . . . . . . . . . . . . . . . . . . . . . . . . . . . . . . . . . . . . . . . . . . . . . . . . . . . . . . . . . . . . . . . . . . . . . . . . . e a d g e a g d c d b h d f b c b c b f g c b f g c e c c b a h a c h c d c f d e f g d b e c b h d a a d g g g d g h c a h e a g e b b c h e a f b h d g g g e a b a e e b h a b f e b c e d f b d h f g b a a f g d h b b\n",
      ". . . . . . . . . . . . . . . . . . . . . . . . . . . . . . . . . . . . . . . . . . . . . . . . . . . . . . . . . . . . . . . . . . . . . . . . . . . . . . . . . . . . . . . . . . . . . . . . . . . . . . . . . . . . . . . . . . . . . . . . . . . . . . . . . . . . . . . . . . . . . . . . . . . . . . . . . . . . . . . . . . . . . . . . . . . . . . . . . . . . . . . . . . . . . . . . . . . . . . . . . . . . . . . . . . . . . . . . . . . . . . . . . . . . . . . . . . . . . . . . . . . . . . . . . . . . . . . . . . . . . . . . . . . . . . . . . . . . . . . . . . . . . . . . . . . . a d g e a g d c d b h d f b c b c b f g c b f g c e c c b a h a c h c d c f d e f g d b e c b h d a a d g g g d g h c a h e a g e b b c h e a f b h d g g g e a b a e e b h a b f e b c e d f b d h f g b a a f g d h b b\n",
      ". . . . . . . . . . . . . . . . . . . . . . . . . . . . . . . . . . . . . . . . . . . . . . . . . . . . . . . . . . . . . . . . . . . . . . . . . . . . . . . . . . . . . . . . . . . . . . . . . . . . . . . . . . . . . . . . . . . . . . . . . . . . . . . . . . . . . . . . . . . . . . . . . . . . . . . . . . . . . . . . . . . . . . . . . . . . . . . . . . . . . . . . . . . . . . . . . . . . . . . . . . . . . . . . . . . . . . . . . . . . . . . . . . . . . . . . . . . . . . . . . . . . . . . . . . . . . . . . . . . . . . . . . . . . . . . . . . . . . . . . . . . . . . . . . . . . . . g e a g d c d b h d f b c b c b f g c b f g c e c c b a h a c h c d c f d e f g d b e c b h d a a d g g g d g h c a h e a g e b b c h e a f b h d g g g e a b a e e b h a b f e b c e d f b d h f g b a a f g d h b b\n",
      ". . . . . . . . . . . . . . . . . . . . . . . . . . . . . . . . . . . . . . . . . . . . . . . . . . . . . . . . . . . . . . . . . . . . . . . . . . . . . . . . . . . . . . . . . . . . . . . . . . . . . . . . . . . . . . . . . . . . . . . . . . . . . . . . . . . . . . . . . . . . . . . . . . . . . . . . . . . . . . . . . . . . . . . . . . . . . . . . . . . . . . . . . . . . . . . . . . . . . . . . . . . . . . . . . . . . . . . . . . . . . . . . . . . . . . . . . . . . . . . . . . . . . . . . . . . . . . . . . . . . . . . . . . . . . . . . . . . . . . . . . . . . . . . . . . . . . . . e a g d c d b h d f b c b c b f g c b f g c e c c b a h a c h c d c f d e f g d b e c b h d a a d g g g d g h c a h e a g e b b c h e a f b h d g g g e a b a e e b h a b f e b c e d f b d h f g b a a f g d h b b\n",
      ". . . . . . . . . . . . . . . . . . . . . . . . . . . . . . . . . . . . . . . . . . . . . . . . . . . . . . . . . . . . . . . . . . . . . . . . . . . . . . . . . . . . . . . . . . . . . . . . . . . . . . . . . . . . . . . . . . . . . . . . . . . . . . . . . . . . . . . . . . . . . . . . . . . . . . . . . . . . . . . . . . . . . . . . . . . . . . . . . . . . . . . . . . . . . . . . . . . . . . . . . . . . . . . . . . . . . . . . . . . . . . . . . . . . . . . . . . . . . . . . . . . . . . . . . . . . . . . . . . . . . . . . . . . . . . . . . . . . . . . . . . . . . . . . . . . . . . . . . . d c d b h d f b c b c b f g c b f g c e c c b a h a c h c d c f d e f g d b e c b h d a a d g g g d g h c a h e a g e b b c h e a f b h d g g g e a b a e e b h a b f e b c e d f b d h f g b a a f g d h b b\n",
      ". . . . . . . . . . . . . . . . . . . . . . . . . . . . . . . . . . . . . . . . . . . . . . . . . . . . . . . . . . . . . . . . . . . . . . . . . . . . . . . . . . . . . . . . . . . . . . . . . . . . . . . . . . . . . . . . . . . . . . . . . . . . . . . . . . . . . . . . . . . . . . . . . . . . . . . . . . . . . . . . . . . . . . . . . . . . . . . . . . . . . . . . . . . . . . . . . . . . . . . . . . . . . . . . . . . . . . . . . . . . . . . . . . . . . . . . . . . . . . . . . . . . . . . . . . . . . . . . . . . . . . . . . . . . . . . . . . . . . . . . . . . . . . . . . . . . . . . . . . . . . b h d f b c b c b f g c b f g c e c c b a h a c h c d c f d e f g d b e c b h d a a d g g g d g h c a h e a g e b b c h e a f b h d g g g e a b a e e b h a b f e b c e d f b d h f g b a a f g d h b b\n",
      ". . . . . . . . . . . . . . . . . . . . . . . . . . . . . . . . . . . . . . . . . . . . . . . . . . . . . . . . . . . . . . . . . . . . . . . . . . . . . . . . . . . . . . . . . . . . . . . . . . . . . . . . . . . . . . . . . . . . . . . . . . . . . . . . . . . . . . . . . . . . . . . . . . . . . . . . . . . . . . . . . . . . . . . . . . . . . . . . . . . . . . . . . . . . . . . . . . . . . . . . . . . . . . . . . . . . . . . . . . . . . . . . . . . . . . . . . . . . . . . . . . . . . . . . . . . . . . . . . . . . . . . . . . . . . . . . . . . . . . . . . . . . . . . . . . . . . . . . . . . . . . h d f b c b c b f g c b f g c e c c b a h a c h c d c f d e f g d b e c b h d a a d g g g d g h c a h e a g e b b c h e a f b h d g g g e a b a e e b h a b f e b c e d f b d h f g b a a f g d h b b\n",
      ". . . . . . . . . . . . . . . . . . . . . . . . . . . . . . . . . . . . . . . . . . . . . . . . . . . . . . . . . . . . . . . . . . . . . . . . . . . . . . . . . . . . . . . . . . . . . . . . . . . . . . . . . . . . . . . . . . . . . . . . . . . . . . . . . . . . . . . . . . . . . . . . . . . . . . . . . . . . . . . . . . . . . . . . . . . . . . . . . . . . . . . . . . . . . . . . . . . . . . . . . . . . . . . . . . . . . . . . . . . . . . . . . . . . . . . . . . . . . . . . . . . . . . . . . . . . . . . . . . . . . . . . . . . . . . . . . . . . . . . . . . . . . . . . . . . . . . . . . . . . . . . d f b c b c b f g c b f g c e c c b a h a c h c d c f d e f g d b e c b h d a a d g g g d g h c a h e a g e b b c h e a f b h d g g g e a b a e e b h a b f e b c e d f b d h f g b a a f g d h b b\n",
      ". . . . . . . . . . . . . . . . . . . . . . . . . . . . . . . . . . . . . . . . . . . . . . . . . . . . . . . . . . . . . . . . . . . . . . . . . . . . . . . . . . . . . . . . . . . . . . . . . . . . . . . . . . . . . . . . . . . . . . . . . . . . . . . . . . . . . . . . . . . . . . . . . . . . . . . . . . . . . . . . . . . . . . . . . . . . . . . . . . . . . . . . . . . . . . . . . . . . . . . . . . . . . . . . . . . . . . . . . . . . . . . . . . . . . . . . . . . . . . . . . . . . . . . . . . . . . . . . . . . . . . . . . . . . . . . . . . . . . . . . . . . . . . . . . . . . . . . . . . . . . . . . . b c b c b f g c b f g c e c c b a h a c h c d c f d e f g d b e c b h d a a d g g g d g h c a h e a g e b b c h e a f b h d g g g e a b a e e b h a b f e b c e d f b d h f g b a a f g d h b b\n",
      ". . . . . . . . . . . . . . . . . . . . . . . . . . . . . . . . . . . . . . . . . . . . . . . . . . . . . . . . . . . . . . . . . . . . . . . . . . . . . . . . . . . . . . . . . . . . . . . . . . . . . . . . . . . . . . . . . . . . . . . . . . . . . . . . . . . . . . . . . . . . . . . . . . . . . . . . . . . . . . . . . . . . . . . . . . . . . . . . . . . . . . . . . . . . . . . . . . . . . . . . . . . . . . . . . . . . . . . . . . . . . . . . . . . . . . . . . . . . . . . . . . . . . . . . . . . . . . . . . . . . . . . . . . . . . . . . . . . . . . . . . . . . . . . . . . . . . . . . . . . . . . . . . . c b c b f g c b f g c e c c b a h a c h c d c f d e f g d b e c b h d a a d g g g d g h c a h e a g e b b c h e a f b h d g g g e a b a e e b h a b f e b c e d f b d h f g b a a f g d h b b\n",
      ". . . . . . . . . . . . . . . . . . . . . . . . . . . . . . . . . . . . . . . . . . . . . . . . . . . . . . . . . . . . . . . . . . . . . . . . . . . . . . . . . . . . . . . . . . . . . . . . . . . . . . . . . . . . . . . . . . . . . . . . . . . . . . . . . . . . . . . . . . . . . . . . . . . . . . . . . . . . . . . . . . . . . . . . . . . . . . . . . . . . . . . . . . . . . . . . . . . . . . . . . . . . . . . . . . . . . . . . . . . . . . . . . . . . . . . . . . . . . . . . . . . . . . . . . . . . . . . . . . . . . . . . . . . . . . . . . . . . . . . . . . . . . . . . . . . . . . . . . . . . . . . . . . . b c b f g c b f g c e c c b a h a c h c d c f d e f g d b e c b h d a a d g g g d g h c a h e a g e b b c h e a f b h d g g g e a b a e e b h a b f e b c e d f b d h f g b a a f g d h b b\n",
      ". . . . . . . . . . . . . . . . . . . . . . . . . . . . . . . . . . . . . . . . . . . . . . . . . . . . . . . . . . . . . . . . . . . . . . . . . . . . . . . . . . . . . . . . . . . . . . . . . . . . . . . . . . . . . . . . . . . . . . . . . . . . . . . . . . . . . . . . . . . . . . . . . . . . . . . . . . . . . . . . . . . . . . . . . . . . . . . . . . . . . . . . . . . . . . . . . . . . . . . . . . . . . . . . . . . . . . . . . . . . . . . . . . . . . . . . . . . . . . . . . . . . . . . . . . . . . . . . . . . . . . . . . . . . . . . . . . . . . . . . . . . . . . . . . . . . . . . . . . . . . . . . . . . . c b f g c b f g c e c c b a h a c h c d c f d e f g d b e c b h d a a d g g g d g h c a h e a g e b b c h e a f b h d g g g e a b a e e b h a b f e b c e d f b d h f g b a a f g d h b b\n",
      ". . . . . . . . . . . . . . . . . . . . . . . . . . . . . . . . . . . . . . . . . . . . . . . . . . . . . . . . . . . . . . . . . . . . . . . . . . . . . . . . . . . . . . . . . . . . . . . . . . . . . . . . . . . . . . . . . . . . . . . . . . . . . . . . . . . . . . . . . . . . . . . . . . . . . . . . . . . . . . . . . . . . . . . . . . . . . . . . . . . . . . . . . . . . . . . . . . . . . . . . . . . . . . . . . . . . . . . . . . . . . . . . . . . . . . . . . . . . . . . . . . . . . . . . . . . . . . . . . . . . . . . . . . . . . . . . . . . . . . . . . . . . . . . . . . . . . . . . . . . . . . . . . . . . . . f g c b f g c e c c b a h a c h c d c f d e f g d b e c b h d a a d g g g d g h c a h e a g e b b c h e a f b h d g g g e a b a e e b h a b f e b c e d f b d h f g b a a f g d h b b\n",
      ". . . . . . . . . . . . . . . . . . . . . . . . . . . . . . . . . . . . . . . . . . . . . . . . . . . . . . . . . . . . . . . . . . . . . . . . . . . . . . . . . . . . . . . . . . . . . . . . . . . . . . . . . . . . . . . . . . . . . . . . . . . . . . . . . . . . . . . . . . . . . . . . . . . . . . . . . . . . . . . . . . . . . . . . . . . . . . . . . . . . . . . . . . . . . . . . . . . . . . . . . . . . . . . . . . . . . . . . . . . . . . . . . . . . . . . . . . . . . . . . . . . . . . . . . . . . . . . . . . . . . . . . . . . . . . . . . . . . . . . . . . . . . . . . . . . . . . . . . . . . . . . . . . . . . . . g c b f g c e c c b a h a c h c d c f d e f g d b e c b h d a a d g g g d g h c a h e a g e b b c h e a f b h d g g g e a b a e e b h a b f e b c e d f b d h f g b a a f g d h b b\n",
      ". . . . . . . . . . . . . . . . . . . . . . . . . . . . . . . . . . . . . . . . . . . . . . . . . . . . . . . . . . . . . . . . . . . . . . . . . . . . . . . . . . . . . . . . . . . . . . . . . . . . . . . . . . . . . . . . . . . . . . . . . . . . . . . . . . . . . . . . . . . . . . . . . . . . . . . . . . . . . . . . . . . . . . . . . . . . . . . . . . . . . . . . . . . . . . . . . . . . . . . . . . . . . . . . . . . . . . . . . . . . . . . . . . . . . . . . . . . . . . . . . . . . . . . . . . . . . . . . . . . . . . . . . . . . . . . . . . . . . . . . . . . . . . . . . . . . . . . . . . . . . . . . . . . . . . . . . . . . . e c c b a h a c h c d c f d e f g d b e c b h d a a d g g g d g h c a h e a g e b b c h e a f b h d g g g e a b a e e b h a b f e b c e d f b d h f g b a a f g d h b b\n",
      ". . . . . . . . . . . . . . . . . . . . . . . . . . . . . . . . . . . . . . . . . . . . . . . . . . . . . . . . . . . . . . . . . . . . . . . . . . . . . . . . . . . . . . . . . . . . . . . . . . . . . . . . . . . . . . . . . . . . . . . . . . . . . . . . . . . . . . . . . . . . . . . . . . . . . . . . . . . . . . . . . . . . . . . . . . . . . . . . . . . . . . . . . . . . . . . . . . . . . . . . . . . . . . . . . . . . . . . . . . . . . . . . . . . . . . . . . . . . . . . . . . . . . . . . . . . . . . . . . . . . . . . . . . . . . . . . . . . . . . . . . . . . . . . . . . . . . . . . . . . . . . . . . . . . . . . . . . . . . . . . . . h a c h c d c f d e f g d b e c b h d a a d g g g d g h c a h e a g e b b c h e a f b h d g g g e a b a e e b h a b f e b c e d f b d h f g b a a f g d h b b\n",
      ". . . . . . . . . . . . . . . . . . . . . . . . . . . . . . . . . . . . . . . . . . . . . . . . . . . . . . . . . . . . . . . . . . . . . . . . . . . . . . . . . . . . . . . . . . . . . . . . . . . . . . . . . . . . . . . . . . . . . . . . . . . . . . . . . . . . . . . . . . . . . . . . . . . . . . . . . . . . . . . . . . . . . . . . . . . . . . . . . . . . . . . . . . . . . . . . . . . . . . . . . . . . . . . . . . . . . . . . . . . . . . . . . . . . . . . . . . . . . . . . . . . . . . . . . . . . . . . . . . . . . . . . . . . . . . . . . . . . . . . . . . . . . . . . . . . . . . . . . . . . . . . . . . . . . . . . . . . . . . . . . . . . c h c d c f d e f g d b e c b h d a a d g g g d g h c a h e a g e b b c h e a f b h d g g g e a b a e e b h a b f e b c e d f b d h f g b a a f g d h b b\n",
      ". . . . . . . . . . . . . . . . . . . . . . . . . . . . . . . . . . . . . . . . . . . . . . . . . . . . . . . . . . . . . . . . . . . . . . . . . . . . . . . . . . . . . . . . . . . . . . . . . . . . . . . . . . . . . . . . . . . . . . . . . . . . . . . . . . . . . . . . . . . . . . . . . . . . . . . . . . . . . . . . . . . . . . . . . . . . . . . . . . . . . . . . . . . . . . . . . . . . . . . . . . . . . . . . . . . . . . . . . . . . . . . . . . . . . . . . . . . . . . . . . . . . . . . . . . . . . . . . . . . . . . . . . . . . . . . . . . . . . . . . . . . . . . . . . . . . . . . . . . . . . . . . . . . . . . . . . . . . . . . . . . . . . . . . . . . e f g d b e c b h d a a d g g g d g h c a h e a g e b b c h e a f b h d g g g e a b a e e b h a b f e b c e d f b d h f g b a a f g d h b b\n",
      ". . . . . . . . . . . . . . . . . . . . . . . . . . . . . . . . . . . . . . . . . . . . . . . . . . . . . . . . . . . . . . . . . . . . . . . . . . . . . . . . . . . . . . . . . . . . . . . . . . . . . . . . . . . . . . . . . . . . . . . . . . . . . . . . . . . . . . . . . . . . . . . . . . . . . . . . . . . . . . . . . . . . . . . . . . . . . . . . . . . . . . . . . . . . . . . . . . . . . . . . . . . . . . . . . . . . . . . . . . . . . . . . . . . . . . . . . . . . . . . . . . . . . . . . . . . . . . . . . . . . . . . . . . . . . . . . . . . . . . . . . . . . . . . . . . . . . . . . . . . . . . . . . . . . . . . . . . . . . . . . . . . . . . . . . . . . . g d b e c b h d a a d g g g d g h c a h e a g e b b c h e a f b h d g g g e a b a e e b h a b f e b c e d f b d h f g b a a f g d h b b\n",
      ". . . . . . . . . . . . . . . . . . . . . . . . . . . . . . . . . . . . . . . . . . . . . . . . . . . . . . . . . . . . . . . . . . . . . . . . . . . . . . . . . . . . . . . . . . . . . . . . . . . . . . . . . . . . . . . . . . . . . . . . . . . . . . . . . . . . . . . . . . . . . . . . . . . . . . . . . . . . . . . . . . . . . . . . . . . . . . . . . . . . . . . . . . . . . . . . . . . . . . . . . . . . . . . . . . . . . . . . . . . . . . . . . . . . . . . . . . . . . . . . . . . . . . . . . . . . . . . . . . . . . . . . . . . . . . . . . . . . . . . . . . . . . . . . . . . . . . . . . . . . . . . . . . . . . . . . . . . . . . . . . . . . . . . . . . . . . . . . . c b h d a a d g g g d g h c a h e a g e b b c h e a f b h d g g g e a b a e e b h a b f e b c e d f b d h f g b a a f g d h b b\n",
      ". . . . . . . . . . . . . . . . . . . . . . . . . . . . . . . . . . . . . . . . . . . . . . . . . . . . . . . . . . . . . . . . . . . . . . . . . . . . . . . . . . . . . . . . . . . . . . . . . . . . . . . . . . . . . . . . . . . . . . . . . . . . . . . . . . . . . . . . . . . . . . . . . . . . . . . . . . . . . . . . . . . . . . . . . . . . . . . . . . . . . . . . . . . . . . . . . . . . . . . . . . . . . . . . . . . . . . . . . . . . . . . . . . . . . . . . . . . . . . . . . . . . . . . . . . . . . . . . . . . . . . . . . . . . . . . . . . . . . . . . . . . . . . . . . . . . . . . . . . . . . . . . . . . . . . . . . . . . . . . . . . . . . . . . . . . . . . . . . . b h d a a d g g g d g h c a h e a g e b b c h e a f b h d g g g e a b a e e b h a b f e b c e d f b d h f g b a a f g d h b b\n",
      ". . . . . . . . . . . . . . . . . . . . . . . . . . . . . . . . . . . . . . . . . . . . . . . . . . . . . . . . . . . . . . . . . . . . . . . . . . . . . . . . . . . . . . . . . . . . . . . . . . . . . . . . . . . . . . . . . . . . . . . . . . . . . . . . . . . . . . . . . . . . . . . . . . . . . . . . . . . . . . . . . . . . . . . . . . . . . . . . . . . . . . . . . . . . . . . . . . . . . . . . . . . . . . . . . . . . . . . . . . . . . . . . . . . . . . . . . . . . . . . . . . . . . . . . . . . . . . . . . . . . . . . . . . . . . . . . . . . . . . . . . . . . . . . . . . . . . . . . . . . . . . . . . . . . . . . . . . . . . . . . . . . . . . . . . . . . . . . . . . . . d a a d g g g d g h c a h e a g e b b c h e a f b h d g g g e a b a e e b h a b f e b c e d f b d h f g b a a f g d h b b\n",
      ". . . . . . . . . . . . . . . . . . . . . . . . . . . . . . . . . . . . . . . . . . . . . . . . . . . . . . . . . . . . . . . . . . . . . . . . . . . . . . . . . . . . . . . . . . . . . . . . . . . . . . . . . . . . . . . . . . . . . . . . . . . . . . . . . . . . . . . . . . . . . . . . . . . . . . . . . . . . . . . . . . . . . . . . . . . . . . . . . . . . . . . . . . . . . . . . . . . . . . . . . . . . . . . . . . . . . . . . . . . . . . . . . . . . . . . . . . . . . . . . . . . . . . . . . . . . . . . . . . . . . . . . . . . . . . . . . . . . . . . . . . . . . . . . . . . . . . . . . . . . . . . . . . . . . . . . . . . . . . . . . . . . . . . . . . . . . . . . . . . . . . . d g g g d g h c a h e a g e b b c h e a f b h d g g g e a b a e e b h a b f e b c e d f b d h f g b a a f g d h b b\n",
      ". . . . . . . . . . . . . . . . . . . . . . . . . . . . . . . . . . . . . . . . . . . . . . . . . . . . . . . . . . . . . . . . . . . . . . . . . . . . . . . . . . . . . . . . . . . . . . . . . . . . . . . . . . . . . . . . . . . . . . . . . . . . . . . . . . . . . . . . . . . . . . . . . . . . . . . . . . . . . . . . . . . . . . . . . . . . . . . . . . . . . . . . . . . . . . . . . . . . . . . . . . . . . . . . . . . . . . . . . . . . . . . . . . . . . . . . . . . . . . . . . . . . . . . . . . . . . . . . . . . . . . . . . . . . . . . . . . . . . . . . . . . . . . . . . . . . . . . . . . . . . . . . . . . . . . . . . . . . . . . . . . . . . . . . . . . . . . . . . . . . . . . . g g g d g h c a h e a g e b b c h e a f b h d g g g e a b a e e b h a b f e b c e d f b d h f g b a a f g d h b b\n",
      ". . . . . . . . . . . . . . . . . . . . . . . . . . . . . . . . . . . . . . . . . . . . . . . . . . . . . . . . . . . . . . . . . . . . . . . . . . . . . . . . . . . . . . . . . . . . . . . . . . . . . . . . . . . . . . . . . . . . . . . . . . . . . . . . . . . . . . . . . . . . . . . . . . . . . . . . . . . . . . . . . . . . . . . . . . . . . . . . . . . . . . . . . . . . . . . . . . . . . . . . . . . . . . . . . . . . . . . . . . . . . . . . . . . . . . . . . . . . . . . . . . . . . . . . . . . . . . . . . . . . . . . . . . . . . . . . . . . . . . . . . . . . . . . . . . . . . . . . . . . . . . . . . . . . . . . . . . . . . . . . . . . . . . . . . . . . . . . . . . . . . . . . . g g d g h c a h e a g e b b c h e a f b h d g g g e a b a e e b h a b f e b c e d f b d h f g b a a f g d h b b\n",
      ". . . . . . . . . . . . . . . . . . . . . . . . . . . . . . . . . . . . . . . . . . . . . . . . . . . . . . . . . . . . . . . . . . . . . . . . . . . . . . . . . . . . . . . . . . . . . . . . . . . . . . . . . . . . . . . . . . . . . . . . . . . . . . . . . . . . . . . . . . . . . . . . . . . . . . . . . . . . . . . . . . . . . . . . . . . . . . . . . . . . . . . . . . . . . . . . . . . . . . . . . . . . . . . . . . . . . . . . . . . . . . . . . . . . . . . . . . . . . . . . . . . . . . . . . . . . . . . . . . . . . . . . . . . . . . . . . . . . . . . . . . . . . . . . . . . . . . . . . . . . . . . . . . . . . . . . . . . . . . . . . . . . . . . . . . . . . . . . . . . . . . . . . . . . . h c a h e a g e b b c h e a f b h d g g g e a b a e e b h a b f e b c e d f b d h f g b a a f g d h b b\n",
      ". . . . . . . . . . . . . . . . . . . . . . . . . . . . . . . . . . . . . . . . . . . . . . . . . . . . . . . . . . . . . . . . . . . . . . . . . . . . . . . . . . . . . . . . . . . . . . . . . . . . . . . . . . . . . . . . . . . . . . . . . . . . . . . . . . . . . . . . . . . . . . . . . . . . . . . . . . . . . . . . . . . . . . . . . . . . . . . . . . . . . . . . . . . . . . . . . . . . . . . . . . . . . . . . . . . . . . . . . . . . . . . . . . . . . . . . . . . . . . . . . . . . . . . . . . . . . . . . . . . . . . . . . . . . . . . . . . . . . . . . . . . . . . . . . . . . . . . . . . . . . . . . . . . . . . . . . . . . . . . . . . . . . . . . . . . . . . . . . . . . . . . . . . . . . . . a h e a g e b b c h e a f b h d g g g e a b a e e b h a b f e b c e d f b d h f g b a a f g d h b b\n",
      ". . . . . . . . . . . . . . . . . . . . . . . . . . . . . . . . . . . . . . . . . . . . . . . . . . . . . . . . . . . . . . . . . . . . . . . . . . . . . . . . . . . . . . . . . . . . . . . . . . . . . . . . . . . . . . . . . . . . . . . . . . . . . . . . . . . . . . . . . . . . . . . . . . . . . . . . . . . . . . . . . . . . . . . . . . . . . . . . . . . . . . . . . . . . . . . . . . . . . . . . . . . . . . . . . . . . . . . . . . . . . . . . . . . . . . . . . . . . . . . . . . . . . . . . . . . . . . . . . . . . . . . . . . . . . . . . . . . . . . . . . . . . . . . . . . . . . . . . . . . . . . . . . . . . . . . . . . . . . . . . . . . . . . . . . . . . . . . . . . . . . . . . . . . . . . . . . e a g e b b c h e a f b h d g g g e a b a e e b h a b f e b c e d f b d h f g b a a f g d h b b\n",
      ". . . . . . . . . . . . . . . . . . . . . . . . . . . . . . . . . . . . . . . . . . . . . . . . . . . . . . . . . . . . . . . . . . . . . . . . . . . . . . . . . . . . . . . . . . . . . . . . . . . . . . . . . . . . . . . . . . . . . . . . . . . . . . . . . . . . . . . . . . . . . . . . . . . . . . . . . . . . . . . . . . . . . . . . . . . . . . . . . . . . . . . . . . . . . . . . . . . . . . . . . . . . . . . . . . . . . . . . . . . . . . . . . . . . . . . . . . . . . . . . . . . . . . . . . . . . . . . . . . . . . . . . . . . . . . . . . . . . . . . . . . . . . . . . . . . . . . . . . . . . . . . . . . . . . . . . . . . . . . . . . . . . . . . . . . . . . . . . . . . . . . . . . . . . . . . . . . . g e b b c h e a f b h d g g g e a b a e e b h a b f e b c e d f b d h f g b a a f g d h b b\n",
      ". . . . . . . . . . . . . . . . . . . . . . . . . . . . . . . . . . . . . . . . . . . . . . . . . . . . . . . . . . . . . . . . . . . . . . . . . . . . . . . . . . . . . . . . . . . . . . . . . . . . . . . . . . . . . . . . . . . . . . . . . . . . . . . . . . . . . . . . . . . . . . . . . . . . . . . . . . . . . . . . . . . . . . . . . . . . . . . . . . . . . . . . . . . . . . . . . . . . . . . . . . . . . . . . . . . . . . . . . . . . . . . . . . . . . . . . . . . . . . . . . . . . . . . . . . . . . . . . . . . . . . . . . . . . . . . . . . . . . . . . . . . . . . . . . . . . . . . . . . . . . . . . . . . . . . . . . . . . . . . . . . . . . . . . . . . . . . . . . . . . . . . . . . . . . . . . . . . . . b b c h e a f b h d g g g e a b a e e b h a b f e b c e d f b d h f g b a a f g d h b b\n",
      ". . . . . . . . . . . . . . . . . . . . . . . . . . . . . . . . . . . . . . . . . . . . . . . . . . . . . . . . . . . . . . . . . . . . . . . . . . . . . . . . . . . . . . . . . . . . . . . . . . . . . . . . . . . . . . . . . . . . . . . . . . . . . . . . . . . . . . . . . . . . . . . . . . . . . . . . . . . . . . . . . . . . . . . . . . . . . . . . . . . . . . . . . . . . . . . . . . . . . . . . . . . . . . . . . . . . . . . . . . . . . . . . . . . . . . . . . . . . . . . . . . . . . . . . . . . . . . . . . . . . . . . . . . . . . . . . . . . . . . . . . . . . . . . . . . . . . . . . . . . . . . . . . . . . . . . . . . . . . . . . . . . . . . . . . . . . . . . . . . . . . . . . . . . . . . . . . . . . . . b c h e a f b h d g g g e a b a e e b h a b f e b c e d f b d h f g b a a f g d h b b\n",
      ". . . . . . . . . . . . . . . . . . . . . . . . . . . . . . . . . . . . . . . . . . . . . . . . . . . . . . . . . . . . . . . . . . . . . . . . . . . . . . . . . . . . . . . . . . . . . . . . . . . . . . . . . . . . . . . . . . . . . . . . . . . . . . . . . . . . . . . . . . . . . . . . . . . . . . . . . . . . . . . . . . . . . . . . . . . . . . . . . . . . . . . . . . . . . . . . . . . . . . . . . . . . . . . . . . . . . . . . . . . . . . . . . . . . . . . . . . . . . . . . . . . . . . . . . . . . . . . . . . . . . . . . . . . . . . . . . . . . . . . . . . . . . . . . . . . . . . . . . . . . . . . . . . . . . . . . . . . . . . . . . . . . . . . . . . . . . . . . . . . . . . . . . . . . . . . . . . . . . . . c h e a f b h d g g g e a b a e e b h a b f e b c e d f b d h f g b a a f g d h b b\n",
      ". . . . . . . . . . . . . . . . . . . . . . . . . . . . . . . . . . . . . . . . . . . . . . . . . . . . . . . . . . . . . . . . . . . . . . . . . . . . . . . . . . . . . . . . . . . . . . . . . . . . . . . . . . . . . . . . . . . . . . . . . . . . . . . . . . . . . . . . . . . . . . . . . . . . . . . . . . . . . . . . . . . . . . . . . . . . . . . . . . . . . . . . . . . . . . . . . . . . . . . . . . . . . . . . . . . . . . . . . . . . . . . . . . . . . . . . . . . . . . . . . . . . . . . . . . . . . . . . . . . . . . . . . . . . . . . . . . . . . . . . . . . . . . . . . . . . . . . . . . . . . . . . . . . . . . . . . . . . . . . . . . . . . . . . . . . . . . . . . . . . . . . . . . . . . . . . . . . . . . . . . e a f b h d g g g e a b a e e b h a b f e b c e d f b d h f g b a a f g d h b b\n",
      ". . . . . . . . . . . . . . . . . . . . . . . . . . . . . . . . . . . . . . . . . . . . . . . . . . . . . . . . . . . . . . . . . . . . . . . . . . . . . . . . . . . . . . . . . . . . . . . . . . . . . . . . . . . . . . . . . . . . . . . . . . . . . . . . . . . . . . . . . . . . . . . . . . . . . . . . . . . . . . . . . . . . . . . . . . . . . . . . . . . . . . . . . . . . . . . . . . . . . . . . . . . . . . . . . . . . . . . . . . . . . . . . . . . . . . . . . . . . . . . . . . . . . . . . . . . . . . . . . . . . . . . . . . . . . . . . . . . . . . . . . . . . . . . . . . . . . . . . . . . . . . . . . . . . . . . . . . . . . . . . . . . . . . . . . . . . . . . . . . . . . . . . . . . . . . . . . . . . . . . . . . a f b h d g g g e a b a e e b h a b f e b c e d f b d h f g b a a f g d h b b\n",
      ". . . . . . . . . . . . . . . . . . . . . . . . . . . . . . . . . . . . . . . . . . . . . . . . . . . . . . . . . . . . . . . . . . . . . . . . . . . . . . . . . . . . . . . . . . . . . . . . . . . . . . . . . . . . . . . . . . . . . . . . . . . . . . . . . . . . . . . . . . . . . . . . . . . . . . . . . . . . . . . . . . . . . . . . . . . . . . . . . . . . . . . . . . . . . . . . . . . . . . . . . . . . . . . . . . . . . . . . . . . . . . . . . . . . . . . . . . . . . . . . . . . . . . . . . . . . . . . . . . . . . . . . . . . . . . . . . . . . . . . . . . . . . . . . . . . . . . . . . . . . . . . . . . . . . . . . . . . . . . . . . . . . . . . . . . . . . . . . . . . . . . . . . . . . . . . . . . . . . . . . . . . f b h d g g g e a b a e e b h a b f e b c e d f b d h f g b a a f g d h b b\n",
      ". . . . . . . . . . . . . . . . . . . . . . . . . . . . . . . . . . . . . . . . . . . . . . . . . . . . . . . . . . . . . . . . . . . . . . . . . . . . . . . . . . . . . . . . . . . . . . . . . . . . . . . . . . . . . . . . . . . . . . . . . . . . . . . . . . . . . . . . . . . . . . . . . . . . . . . . . . . . . . . . . . . . . . . . . . . . . . . . . . . . . . . . . . . . . . . . . . . . . . . . . . . . . . . . . . . . . . . . . . . . . . . . . . . . . . . . . . . . . . . . . . . . . . . . . . . . . . . . . . . . . . . . . . . . . . . . . . . . . . . . . . . . . . . . . . . . . . . . . . . . . . . . . . . . . . . . . . . . . . . . . . . . . . . . . . . . . . . . . . . . . . . . . . . . . . . . . . . . . . . . . . . . . . d g g g e a b a e e b h a b f e b c e d f b d h f g b a a f g d h b b\n",
      ". . . . . . . . . . . . . . . . . . . . . . . . . . . . . . . . . . . . . . . . . . . . . . . . . . . . . . . . . . . . . . . . . . . . . . . . . . . . . . . . . . . . . . . . . . . . . . . . . . . . . . . . . . . . . . . . . . . . . . . . . . . . . . . . . . . . . . . . . . . . . . . . . . . . . . . . . . . . . . . . . . . . . . . . . . . . . . . . . . . . . . . . . . . . . . . . . . . . . . . . . . . . . . . . . . . . . . . . . . . . . . . . . . . . . . . . . . . . . . . . . . . . . . . . . . . . . . . . . . . . . . . . . . . . . . . . . . . . . . . . . . . . . . . . . . . . . . . . . . . . . . . . . . . . . . . . . . . . . . . . . . . . . . . . . . . . . . . . . . . . . . . . . . . . . . . . . . . . . . . . . . . . . . . g g g e a b a e e b h a b f e b c e d f b d h f g b a a f g d h b b\n",
      ". . . . . . . . . . . . . . . . . . . . . . . . . . . . . . . . . . . . . . . . . . . . . . . . . . . . . . . . . . . . . . . . . . . . . . . . . . . . . . . . . . . . . . . . . . . . . . . . . . . . . . . . . . . . . . . . . . . . . . . . . . . . . . . . . . . . . . . . . . . . . . . . . . . . . . . . . . . . . . . . . . . . . . . . . . . . . . . . . . . . . . . . . . . . . . . . . . . . . . . . . . . . . . . . . . . . . . . . . . . . . . . . . . . . . . . . . . . . . . . . . . . . . . . . . . . . . . . . . . . . . . . . . . . . . . . . . . . . . . . . . . . . . . . . . . . . . . . . . . . . . . . . . . . . . . . . . . . . . . . . . . . . . . . . . . . . . . . . . . . . . . . . . . . . . . . . . . . . . . . . . . . . . . . . g g e a b a e e b h a b f e b c e d f b d h f g b a a f g d h b b\n",
      ". . . . . . . . . . . . . . . . . . . . . . . . . . . . . . . . . . . . . . . . . . . . . . . . . . . . . . . . . . . . . . . . . . . . . . . . . . . . . . . . . . . . . . . . . . . . . . . . . . . . . . . . . . . . . . . . . . . . . . . . . . . . . . . . . . . . . . . . . . . . . . . . . . . . . . . . . . . . . . . . . . . . . . . . . . . . . . . . . . . . . . . . . . . . . . . . . . . . . . . . . . . . . . . . . . . . . . . . . . . . . . . . . . . . . . . . . . . . . . . . . . . . . . . . . . . . . . . . . . . . . . . . . . . . . . . . . . . . . . . . . . . . . . . . . . . . . . . . . . . . . . . . . . . . . . . . . . . . . . . . . . . . . . . . . . . . . . . . . . . . . . . . . . . . . . . . . . . . . . . . . . . . . . . . . . e a b a e e b h a b f e b c e d f b d h f g b a a f g d h b b\n",
      ". . . . . . . . . . . . . . . . . . . . . . . . . . . . . . . . . . . . . . . . . . . . . . . . . . . . . . . . . . . . . . . . . . . . . . . . . . . . . . . . . . . . . . . . . . . . . . . . . . . . . . . . . . . . . . . . . . . . . . . . . . . . . . . . . . . . . . . . . . . . . . . . . . . . . . . . . . . . . . . . . . . . . . . . . . . . . . . . . . . . . . . . . . . . . . . . . . . . . . . . . . . . . . . . . . . . . . . . . . . . . . . . . . . . . . . . . . . . . . . . . . . . . . . . . . . . . . . . . . . . . . . . . . . . . . . . . . . . . . . . . . . . . . . . . . . . . . . . . . . . . . . . . . . . . . . . . . . . . . . . . . . . . . . . . . . . . . . . . . . . . . . . . . . . . . . . . . . . . . . . . . . . . . . . . . . a b a e e b h a b f e b c e d f b d h f g b a a f g d h b b\n",
      ". . . . . . . . . . . . . . . . . . . . . . . . . . . . . . . . . . . . . . . . . . . . . . . . . . . . . . . . . . . . . . . . . . . . . . . . . . . . . . . . . . . . . . . . . . . . . . . . . . . . . . . . . . . . . . . . . . . . . . . . . . . . . . . . . . . . . . . . . . . . . . . . . . . . . . . . . . . . . . . . . . . . . . . . . . . . . . . . . . . . . . . . . . . . . . . . . . . . . . . . . . . . . . . . . . . . . . . . . . . . . . . . . . . . . . . . . . . . . . . . . . . . . . . . . . . . . . . . . . . . . . . . . . . . . . . . . . . . . . . . . . . . . . . . . . . . . . . . . . . . . . . . . . . . . . . . . . . . . . . . . . . . . . . . . . . . . . . . . . . . . . . . . . . . . . . . . . . . . . . . . . . . . . . . . . . . . . e e b h a b f e b c e d f b d h f g b a a f g d h b b\n",
      ". . . . . . . . . . . . . . . . . . . . . . . . . . . . . . . . . . . . . . . . . . . . . . . . . . . . . . . . . . . . . . . . . . . . . . . . . . . . . . . . . . . . . . . . . . . . . . . . . . . . . . . . . . . . . . . . . . . . . . . . . . . . . . . . . . . . . . . . . . . . . . . . . . . . . . . . . . . . . . . . . . . . . . . . . . . . . . . . . . . . . . . . . . . . . . . . . . . . . . . . . . . . . . . . . . . . . . . . . . . . . . . . . . . . . . . . . . . . . . . . . . . . . . . . . . . . . . . . . . . . . . . . . . . . . . . . . . . . . . . . . . . . . . . . . . . . . . . . . . . . . . . . . . . . . . . . . . . . . . . . . . . . . . . . . . . . . . . . . . . . . . . . . . . . . . . . . . . . . . . . . . . . . . . . . . . . . . . . b h a b f e b c e d f b d h f g b a a f g d h b b\n",
      ". . . . . . . . . . . . . . . . . . . . . . . . . . . . . . . . . . . . . . . . . . . . . . . . . . . . . . . . . . . . . . . . . . . . . . . . . . . . . . . . . . . . . . . . . . . . . . . . . . . . . . . . . . . . . . . . . . . . . . . . . . . . . . . . . . . . . . . . . . . . . . . . . . . . . . . . . . . . . . . . . . . . . . . . . . . . . . . . . . . . . . . . . . . . . . . . . . . . . . . . . . . . . . . . . . . . . . . . . . . . . . . . . . . . . . . . . . . . . . . . . . . . . . . . . . . . . . . . . . . . . . . . . . . . . . . . . . . . . . . . . . . . . . . . . . . . . . . . . . . . . . . . . . . . . . . . . . . . . . . . . . . . . . . . . . . . . . . . . . . . . . . . . . . . . . . . . . . . . . . . . . . . . . . . . . . . . . . . . h a b f e b c e d f b d h f g b a a f g d h b b\n",
      ". . . . . . . . . . . . . . . . . . . . . . . . . . . . . . . . . . . . . . . . . . . . . . . . . . . . . . . . . . . . . . . . . . . . . . . . . . . . . . . . . . . . . . . . . . . . . . . . . . . . . . . . . . . . . . . . . . . . . . . . . . . . . . . . . . . . . . . . . . . . . . . . . . . . . . . . . . . . . . . . . . . . . . . . . . . . . . . . . . . . . . . . . . . . . . . . . . . . . . . . . . . . . . . . . . . . . . . . . . . . . . . . . . . . . . . . . . . . . . . . . . . . . . . . . . . . . . . . . . . . . . . . . . . . . . . . . . . . . . . . . . . . . . . . . . . . . . . . . . . . . . . . . . . . . . . . . . . . . . . . . . . . . . . . . . . . . . . . . . . . . . . . . . . . . . . . . . . . . . . . . . . . . . . . . . . . . . . . . . . b f e b c e d f b d h f g b a a f g d h b b\n",
      ". . . . . . . . . . . . . . . . . . . . . . . . . . . . . . . . . . . . . . . . . . . . . . . . . . . . . . . . . . . . . . . . . . . . . . . . . . . . . . . . . . . . . . . . . . . . . . . . . . . . . . . . . . . . . . . . . . . . . . . . . . . . . . . . . . . . . . . . . . . . . . . . . . . . . . . . . . . . . . . . . . . . . . . . . . . . . . . . . . . . . . . . . . . . . . . . . . . . . . . . . . . . . . . . . . . . . . . . . . . . . . . . . . . . . . . . . . . . . . . . . . . . . . . . . . . . . . . . . . . . . . . . . . . . . . . . . . . . . . . . . . . . . . . . . . . . . . . . . . . . . . . . . . . . . . . . . . . . . . . . . . . . . . . . . . . . . . . . . . . . . . . . . . . . . . . . . . . . . . . . . . . . . . . . . . . . . . . . . . . . . . b c e d f b d h f g b a a f g d h b b\n",
      ". . . . . . . . . . . . . . . . . . . . . . . . . . . . . . . . . . . . . . . . . . . . . . . . . . . . . . . . . . . . . . . . . . . . . . . . . . . . . . . . . . . . . . . . . . . . . . . . . . . . . . . . . . . . . . . . . . . . . . . . . . . . . . . . . . . . . . . . . . . . . . . . . . . . . . . . . . . . . . . . . . . . . . . . . . . . . . . . . . . . . . . . . . . . . . . . . . . . . . . . . . . . . . . . . . . . . . . . . . . . . . . . . . . . . . . . . . . . . . . . . . . . . . . . . . . . . . . . . . . . . . . . . . . . . . . . . . . . . . . . . . . . . . . . . . . . . . . . . . . . . . . . . . . . . . . . . . . . . . . . . . . . . . . . . . . . . . . . . . . . . . . . . . . . . . . . . . . . . . . . . . . . . . . . . . . . . . . . . . . . . . . . e d f b d h f g b a a f g d h b b\n",
      ". . . . . . . . . . . . . . . . . . . . . . . . . . . . . . . . . . . . . . . . . . . . . . . . . . . . . . . . . . . . . . . . . . . . . . . . . . . . . . . . . . . . . . . . . . . . . . . . . . . . . . . . . . . . . . . . . . . . . . . . . . . . . . . . . . . . . . . . . . . . . . . . . . . . . . . . . . . . . . . . . . . . . . . . . . . . . . . . . . . . . . . . . . . . . . . . . . . . . . . . . . . . . . . . . . . . . . . . . . . . . . . . . . . . . . . . . . . . . . . . . . . . . . . . . . . . . . . . . . . . . . . . . . . . . . . . . . . . . . . . . . . . . . . . . . . . . . . . . . . . . . . . . . . . . . . . . . . . . . . . . . . . . . . . . . . . . . . . . . . . . . . . . . . . . . . . . . . . . . . . . . . . . . . . . . . . . . . . . . . . . . . . . . f b d h f g b a a f g d h b b\n",
      ". . . . . . . . . . . . . . . . . . . . . . . . . . . . . . . . . . . . . . . . . . . . . . . . . . . . . . . . . . . . . . . . . . . . . . . . . . . . . . . . . . . . . . . . . . . . . . . . . . . . . . . . . . . . . . . . . . . . . . . . . . . . . . . . . . . . . . . . . . . . . . . . . . . . . . . . . . . . . . . . . . . . . . . . . . . . . . . . . . . . . . . . . . . . . . . . . . . . . . . . . . . . . . . . . . . . . . . . . . . . . . . . . . . . . . . . . . . . . . . . . . . . . . . . . . . . . . . . . . . . . . . . . . . . . . . . . . . . . . . . . . . . . . . . . . . . . . . . . . . . . . . . . . . . . . . . . . . . . . . . . . . . . . . . . . . . . . . . . . . . . . . . . . . . . . . . . . . . . . . . . . . . . . . . . . . . . . . . . . . . . . . . . . . . . . . g b a a f g d h b b\n",
      ". . . . . . . . . . . . . . . . . . . . . . . . . . . . . . . . . . . . . . . . . . . . . . . . . . . . . . . . . . . . . . . . . . . . . . . . . . . . . . . . . . . . . . . . . . . . . . . . . . . . . . . . . . . . . . . . . . . . . . . . . . . . . . . . . . . . . . . . . . . . . . . . . . . . . . . . . . . . . . . . . . . . . . . . . . . . . . . . . . . . . . . . . . . . . . . . . . . . . . . . . . . . . . . . . . . . . . . . . . . . . . . . . . . . . . . . . . . . . . . . . . . . . . . . . . . . . . . . . . . . . . . . . . . . . . . . . . . . . . . . . . . . . . . . . . . . . . . . . . . . . . . . . . . . . . . . . . . . . . . . . . . . . . . . . . . . . . . . . . . . . . . . . . . . . . . . . . . . . . . . . . . . . . . . . . . . . . . . . . . . . . . . . . . . . . . . . a a f g d h b b\n",
      ". . . . . . . . . . . . . . . . . . . . . . . . . . . . . . . . . . . . . . . . . . . . . . . . . . . . . . . . . . . . . . . . . . . . . . . . . . . . . . . . . . . . . . . . . . . . . . . . . . . . . . . . . . . . . . . . . . . . . . . . . . . . . . . . . . . . . . . . . . . . . . . . . . . . . . . . . . . . . . . . . . . . . . . . . . . . . . . . . . . . . . . . . . . . . . . . . . . . . . . . . . . . . . . . . . . . . . . . . . . . . . . . . . . . . . . . . . . . . . . . . . . . . . . . . . . . . . . . . . . . . . . . . . . . . . . . . . . . . . . . . . . . . . . . . . . . . . . . . . . . . . . . . . . . . . . . . . . . . . . . . . . . . . . . . . . . . . . . . . . . . . . . . . . . . . . . . . . . . . . . . . . . . . . . . . . . . . . . . . . . . . . . . . . . . . . . . . a f g d h b b\n",
      ". . . . . . . . . . . . . . . . . . . . . . . . . . . . . . . . . . . . . . . . . . . . . . . . . . . . . . . . . . . . . . . . . . . . . . . . . . . . . . . . . . . . . . . . . . . . . . . . . . . . . . . . . . . . . . . . . . . . . . . . . . . . . . . . . . . . . . . . . . . . . . . . . . . . . . . . . . . . . . . . . . . . . . . . . . . . . . . . . . . . . . . . . . . . . . . . . . . . . . . . . . . . . . . . . . . . . . . . . . . . . . . . . . . . . . . . . . . . . . . . . . . . . . . . . . . . . . . . . . . . . . . . . . . . . . . . . . . . . . . . . . . . . . . . . . . . . . . . . . . . . . . . . . . . . . . . . . . . . . . . . . . . . . . . . . . . . . . . . . . . . . . . . . . . . . . . . . . . . . . . . . . . . . . . . . . . . . . . . . . . . . . . . . . . . . . . . . . f g d h b b\n",
      ". . . . . . . . . . . . . . . . . . . . . . . . . . . . . . . . . . . . . . . . . . . . . . . . . . . . . . . . . . . . . . . . . . . . . . . . . . . . . . . . . . . . . . . . . . . . . . . . . . . . . . . . . . . . . . . . . . . . . . . . . . . . . . . . . . . . . . . . . . . . . . . . . . . . . . . . . . . . . . . . . . . . . . . . . . . . . . . . . . . . . . . . . . . . . . . . . . . . . . . . . . . . . . . . . . . . . . . . . . . . . . . . . . . . . . . . . . . . . . . . . . . . . . . . . . . . . . . . . . . . . . . . . . . . . . . . . . . . . . . . . . . . . . . . . . . . . . . . . . . . . . . . . . . . . . . . . . . . . . . . . . . . . . . . . . . . . . . . . . . . . . . . . . . . . . . . . . . . . . . . . . . . . . . . . . . . . . . . . . . . . . . . . . . . . . . . . . . . g d h b b\n",
      ". . . . . . . . . . . . . . . . . . . . . . . . . . . . . . . . . . . . . . . . . . . . . . . . . . . . . . . . . . . . . . . . . . . . . . . . . . . . . . . . . . . . . . . . . . . . . . . . . . . . . . . . . . . . . . . . . . . . . . . . . . . . . . . . . . . . . . . . . . . . . . . . . . . . . . . . . . . . . . . . . . . . . . . . . . . . . . . . . . . . . . . . . . . . . . . . . . . . . . . . . . . . . . . . . . . . . . . . . . . . . . . . . . . . . . . . . . . . . . . . . . . . . . . . . . . . . . . . . . . . . . . . . . . . . . . . . . . . . . . . . . . . . . . . . . . . . . . . . . . . . . . . . . . . . . . . . . . . . . . . . . . . . . . . . . . . . . . . . . . . . . . . . . . . . . . . . . . . . . . . . . . . . . . . . . . . . . . . . . . . . . . . . . . . . . . . . . . . . d h b b\n",
      ". . . . . . . . . . . . . . . . . . . . . . . . . . . . . . . . . . . . . . . . . . . . . . . . . . . . . . . . . . . . . . . . . . . . . . . . . . . . . . . . . . . . . . . . . . . . . . . . . . . . . . . . . . . . . . . . . . . . . . . . . . . . . . . . . . . . . . . . . . . . . . . . . . . . . . . . . . . . . . . . . . . . . . . . . . . . . . . . . . . . . . . . . . . . . . . . . . . . . . . . . . . . . . . . . . . . . . . . . . . . . . . . . . . . . . . . . . . . . . . . . . . . . . . . . . . . . . . . . . . . . . . . . . . . . . . . . . . . . . . . . . . . . . . . . . . . . . . . . . . . . . . . . . . . . . . . . . . . . . . . . . . . . . . . . . . . . . . . . . . . . . . . . . . . . . . . . . . . . . . . . . . . . . . . . . . . . . . . . . . . . . . . . . . . . . . . . . . . . . h b b\n",
      ". . . . . . . . . . . . . . . . . . . . . . . . . . . . . . . . . . . . . . . . . . . . . . . . . . . . . . . . . . . . . . . . . . . . . . . . . . . . . . . . . . . . . . . . . . . . . . . . . . . . . . . . . . . . . . . . . . . . . . . . . . . . . . . . . . . . . . . . . . . . . . . . . . . . . . . . . . . . . . . . . . . . . . . . . . . . . . . . . . . . . . . . . . . . . . . . . . . . . . . . . . . . . . . . . . . . . . . . . . . . . . . . . . . . . . . . . . . . . . . . . . . . . . . . . . . . . . . . . . . . . . . . . . . . . . . . . . . . . . . . . . . . . . . . . . . . . . . . . . . . . . . . . . . . . . . . . . . . . . . . . . . . . . . . . . . . . . . . . . . . . . . . . . . . . . . . . . . . . . . . . . . . . . . . . . . . . . . . . . . . . . . . . . . . . . . . . . . . . . . b b\n",
      ". . . . . . . . . . . . . . . . . . . . . . . . . . . . . . . . . . . . . . . . . . . . . . . . . . . . . . . . . . . . . . . . . . . . . . . . . . . . . . . . . . . . . . . . . . . . . . . . . . . . . . . . . . . . . . . . . . . . . . . . . . . . . . . . . . . . . . . . . . . . . . . . . . . . . . . . . . . . . . . . . . . . . . . . . . . . . . . . . . . . . . . . . . . . . . . . . . . . . . . . . . . . . . . . . . . . . . . . . . . . . . . . . . . . . . . . . . . . . . . . . . . . . . . . . . . . . . . . . . . . . . . . . . . . . . . . . . . . . . . . . . . . . . . . . . . . . . . . . . . . . . . . . . . . . . . . . . . . . . . . . . . . . . . . . . . . . . . . . . . . . . . . . . . . . . . . . . . . . . . . . . . . . . . . . . . . . . . . . . . . . . . . . . . . . . . . . . . . . . . . b\n",
      "CGDbHceCABHgfEGhAACAcchDggGGEEfgHGBcgegaeCaEcGDgeeEgGddHBAehbdfbggFGfhbfEbdHccdcGHcFabHcCCHBhfFcCDeHBBhghcghHHDDCDChfEdbaBaeACGdCGfhBGfeDBGcCedAcHBFDcHbbfaAegAGbdBGhafBCBEaaDFHGHGBaChhgEaHCBghGfhhfaHegfaEhDGhdbGCGeCGeeAFGafdAHFhdDeDbceGGCFHbFDDAbgfhhhgeHGFAdhfEBccffCbAEAecABEhGAbgDHFaADgaCEAdGEagdcDBHDfbcBCBfgCbFGcEccbahacHcdCfdEfGdbeCBhDaaDggGdGHcAhEaGeBBChEAFbhDgGGEabAeEBHaBfeBcEdfbdhFGbAAFGDHBB\n"
     ]
    }
   ],
   "source": [
    "v, bp, t = is_subseq(bills[0], bills[11], return_backpointers=True, return_table=True)\n",
    "print(show_annotated_table(t, bp))\n",
    "print(show_backtrace_s(bp))"
   ]
  },
  {
   "cell_type": "markdown",
   "metadata": {},
   "source": [
    "## Part 2"
   ]
  },
  {
   "cell_type": "code",
   "execution_count": 18,
   "metadata": {
    "collapsed": true
   },
   "outputs": [],
   "source": [
    "def is_interleave_recursive(s1, s2, s3):\n",
    "    if not s1:\n",
    "        return s2 == s3\n",
    "    elif not s2:\n",
    "        return s1 == s3\n",
    "    else:\n",
    "        if s1[-1] == s2[-1] and s1[-1] == s3[-1]:\n",
    "            return is_interleave_recursive(s1[:-1], s2, s3[:-1]) or is_interleave(s1, s2[:-1], s3[:-1])\n",
    "        elif s1[-1] == s3[-1]:\n",
    "            return is_interleave_recursive(s1[:-1], s2, s3[:-1])\n",
    "        elif s2[-1] == s3[-1]:\n",
    "            return is_interleave(s1, s2[:-1], s3[:-1])\n",
    "        else:\n",
    "            return False"
   ]
  },
  {
   "cell_type": "code",
   "execution_count": 19,
   "metadata": {
    "collapsed": true
   },
   "outputs": [],
   "source": [
    "def is_interleave(seq1, seq2, seq3, return_backpointers=False, return_table=False, debug=False):\n",
    "    \"\"\"Return true if seq3 is some interleaved merge of seq1 and seq2.\n",
    "    If return_backpointers, also return the set of backpointers to\n",
    "    reconstruct the interleaving\"\"\"\n",
    "    \n",
    "    # dp_table[i, j] is True if first i+j characters of seq is made up of \n",
    "    # an interleaving of the first i characters of seq1 and the \n",
    "    # first j characters of seq2\n",
    "    \n",
    "    if len(seq1) + len(seq2) != len(seq3):\n",
    "        if return_backpointers or return_table:\n",
    "            retval = [False]\n",
    "            if return_backpointers:\n",
    "                retval += [{}]\n",
    "            if return_table:\n",
    "                retval += [{}]\n",
    "            return tuple(retval)\n",
    "        else:\n",
    "            return False\n",
    "    \n",
    "    dp_table = {(i, j): False\n",
    "               for i in range(len(seq1)+1)\n",
    "               for j in range(len(seq2)+1)}\n",
    "\n",
    "    backpointers = {}\n",
    "\n",
    "    for i in range(len(seq1)+1):\n",
    "        for j in range(len(seq2)+1):\n",
    "            if i == 0 and j == 0:\n",
    "                dp_table[i, j] = True\n",
    "                if debug: print('xxxx', i, j, '!', '!', '!', dp_table[i, j])\n",
    "            elif i == 0:\n",
    "                # extend by character from seq2\n",
    "                if dp_table[i, j-1] and seq2[j-1] == seq3[i+j-1]:\n",
    "                    dp_table[i, j] = True\n",
    "                    backpointers[i, j] = (i, j-1, seq2[j-1], 'seq2')\n",
    "                if debug: print('seq2', i, j, '!', seq2[j-1], seq3[i+j-1], dp_table[i, j])\n",
    "            elif j == 0:\n",
    "                # extend by character from seq1\n",
    "                if dp_table[i-1, j] and seq1[i-1] == seq3[i+j-1]:\n",
    "                    dp_table[i, j] = True\n",
    "                    backpointers[i, j] = (i-1, j, seq1[i-1], 'seq1')\n",
    "                if debug: print('seq1', i, j, seq1[i-1], '!', seq3[i+j-1], dp_table[i, j])\n",
    "            else:\n",
    "                # extend by character from seq2\n",
    "                if dp_table[i, j-1] and seq2[j-1] == seq3[i+j-1]:\n",
    "                    dp_table[i, j] = True\n",
    "                    backpointers[i, j] = (i, j-1, seq2[j-1], 'seq2')\n",
    "                    if debug: print('seq2', i, j, seq1[i-1], seq2[j-1], seq3[i+j-1], dp_table[i, j])                \n",
    "                # extend by character from seq1\n",
    "                if dp_table[i-1, j] and seq1[i-1] == seq3[i+j-1]:\n",
    "                    dp_table[i, j] = True\n",
    "                    backpointers[i, j] = (i-1, j, seq1[i-1], 'seq1')                \n",
    "                    if debug: print('seq1', i, j, seq1[i-1], seq2[j-1], seq3[i+j-1], dp_table[i, j])\n",
    "                if not dp_table[i, j]:\n",
    "                    if debug: print('xxxx', i, j, seq1[i-1], seq2[j-1], seq3[i+j-1], dp_table[i, j])\n",
    "\n",
    "    if return_backpointers or return_table:\n",
    "        retval = [dp_table[len(seq1), len(seq2)]]\n",
    "        if return_backpointers:\n",
    "            retval += [backpointers]\n",
    "        if return_table:\n",
    "            retval += [dp_table]\n",
    "        return tuple(retval)\n",
    "    else:\n",
    "        return dp_table[len(seq1), len(seq2)]"
   ]
  },
  {
   "cell_type": "code",
   "execution_count": 20,
   "metadata": {
    "collapsed": true
   },
   "outputs": [],
   "source": [
    "def is_interleave_rows(seq1, seq2, seq3, return_backpointers=False, debug=False):\n",
    "    \"\"\"Return true if seq3 is some interleaved merge of seq1 and seq2.\n",
    "    If return_backpointers, also return the set of backpointers to\n",
    "    reconstruct the interleaving.\n",
    "    \n",
    "    This version doesn't build the whole table, just keeps the current and previous rows\"\"\"\n",
    "    \n",
    "    # dp_table[i, j] is True if first i+j characters of seq is made up of \n",
    "    # an interleaving of the first i characters of seq1 and the \n",
    "    # first j characters of seq2\n",
    "    \n",
    "    if len(seq1) + len(seq2) != len(seq3):\n",
    "        if return_backpointers:\n",
    "            retval = [False]\n",
    "            if return_backpointers:\n",
    "                retval += [{}]\n",
    "            return tuple(retval)\n",
    "        else:\n",
    "            return False\n",
    "    \n",
    "\n",
    "    backpointers = {}\n",
    "\n",
    "    for i in range(len(seq1)+1):\n",
    "        row = [False] * (len(seq2)+1)\n",
    "        for j in range(len(seq2)+1):\n",
    "            if i == 0 and j == 0:\n",
    "                row[j] = True\n",
    "                if debug: print('xxxx', i, j, '!', '!', '!', row[j])\n",
    "            elif i == 0:\n",
    "                # extend by character from seq2\n",
    "                if row[j-1] and seq2[j-1] == seq3[i+j-1]:\n",
    "                    row[j] = True\n",
    "                    backpointers[i, j] = (i, j-1, seq2[j-1], 'seq2')\n",
    "                if debug: print('seq2', i, j, '!', seq2[j-1], seq3[i+j-1], row[j])\n",
    "            elif j == 0:\n",
    "                # extend by character from seq1\n",
    "                if previous_row[j] and seq1[i-1] == seq3[i+j-1]:\n",
    "                    row[j] = True\n",
    "                    backpointers[i, j] = (i-1, j, seq1[i-1], 'seq1')\n",
    "                if debug: print('seq1', i, j, seq1[i-1], '!', seq3[i+j-1], row[j])\n",
    "            else:\n",
    "                # extend by character from seq2\n",
    "                if row[j-1] and seq2[j-1] == seq3[i+j-1]:\n",
    "                    row[j] = True\n",
    "                    backpointers[i, j] = (i, j-1, seq2[j-1], 'seq2')\n",
    "                    if debug: print('seq2', i, j, seq1[i-1], seq2[j-1], seq3[i+j-1], row[j])                \n",
    "                # extend by character from seq1\n",
    "                if previous_row[j] and seq1[i-1] == seq3[i+j-1]:\n",
    "                    row[j] = True\n",
    "                    backpointers[i, j] = (i-1, j, seq1[i-1], 'seq1')                \n",
    "                    if debug: print('seq1', i, j, seq1[i-1], seq2[j-1], seq3[i+j-1], row[j])\n",
    "                if not row[j]:\n",
    "                    if debug: print('xxxx', i, j, seq1[i-1], seq2[j-1], seq3[i+j-1], row[j])\n",
    "        previous_row = row\n",
    "\n",
    "    if return_backpointers:\n",
    "        retval = [row[-1]]\n",
    "        if return_backpointers:\n",
    "            retval += [backpointers]\n",
    "        return tuple(retval)\n",
    "    else:\n",
    "        return row[-1]"
   ]
  },
  {
   "cell_type": "code",
   "execution_count": 21,
   "metadata": {
    "collapsed": true
   },
   "outputs": [],
   "source": [
    "def is_interleave_rows2(seq1, seq2, seq3, return_backpointers=False, debug=False):\n",
    "    \"\"\"Return true if seq3 is some interleaved merge of seq1 and seq2.\n",
    "    If return_backpointers, also return the set of backpointers to\n",
    "    reconstruct the interleaving.\n",
    "    \n",
    "    This version doesn't keep the whole table, just the current and previous\n",
    "    rows. It also builds the current row as it goes along, rather than\n",
    "    building the whole row and updating elements as required.\"\"\"\n",
    "    \n",
    "    # dp_table[i, j] is True if first i+j characters of seq is made up of \n",
    "    # an interleaving of the first i characters of seq1 and the \n",
    "    # first j characters of seq2\n",
    "    \n",
    "    if len(seq1) + len(seq2) != len(seq3):\n",
    "        if return_backpointers:\n",
    "            retval = [False]\n",
    "            if return_backpointers:\n",
    "                retval += [{}]\n",
    "            return tuple(retval)\n",
    "        else:\n",
    "            return False\n",
    "    \n",
    "\n",
    "    backpointers = {}\n",
    "\n",
    "    for i in range(len(seq1)+1):\n",
    "        row = []\n",
    "        for j in range(len(seq2)+1):\n",
    "            if i == 0 and j == 0:\n",
    "                row += [True]\n",
    "                if debug: print('xxxx', i, j, '!', '!', '!', row[j])\n",
    "            elif i == 0:\n",
    "                # extend by character from seq2\n",
    "                if row[j-1] and seq2[j-1] == seq3[i+j-1]:\n",
    "                    row += [True]\n",
    "                    backpointers[i, j] = (i, j-1, seq2[j-1], 'seq2')\n",
    "                else:\n",
    "                    row += [False]\n",
    "                if debug: print('seq2', i, j, '!', seq2[j-1], seq3[i+j-1], row[j])\n",
    "            elif j == 0:\n",
    "                # extend by character from seq1\n",
    "                if previous_row[j] and seq1[i-1] == seq3[i+j-1]:\n",
    "                    row += [True]\n",
    "                    backpointers[i, j] = (i-1, j, seq1[i-1], 'seq1')\n",
    "                else:\n",
    "                    row += [False]\n",
    "                if debug: print('seq1', i, j, seq1[i-1], '!', seq3[i+j-1], row[j])\n",
    "            else:\n",
    "                # extend by character from seq2\n",
    "                if row[j-1] and seq2[j-1] == seq3[i+j-1]:\n",
    "                    row += [True]\n",
    "                    backpointers[i, j] = (i, j-1, seq2[j-1], 'seq2')\n",
    "                    if debug: print('seq2', i, j, seq1[i-1], seq2[j-1], seq3[i+j-1], row[j])                \n",
    "                # extend by character from seq1\n",
    "                elif previous_row[j] and seq1[i-1] == seq3[i+j-1]:\n",
    "                    row += [True]\n",
    "                    backpointers[i, j] = (i-1, j, seq1[i-1], 'seq1')                \n",
    "                    if debug: print('seq1', i, j, seq1[i-1], seq2[j-1], seq3[i+j-1], row[j])\n",
    "                else:\n",
    "                    row += [False]\n",
    "                    if debug: print('xxxx', i, j, seq1[i-1], seq2[j-1], seq3[i+j-1], row[j])\n",
    "        previous_row = row\n",
    "\n",
    "    if return_backpointers:\n",
    "        retval = [row[-1]]\n",
    "        if return_backpointers:\n",
    "            retval += [backpointers]\n",
    "        return tuple(retval)\n",
    "    else:\n",
    "        return row[-1]"
   ]
  },
  {
   "cell_type": "code",
   "execution_count": 22,
   "metadata": {
    "collapsed": true
   },
   "outputs": [],
   "source": [
    "def show_backtrace_i(bps):\n",
    "    i = max([0] + [k[0] for k in bps])\n",
    "    j = max([0] + [k[1] for k in bps])\n",
    "    chars = ''\n",
    "    if (i, j) in bps:\n",
    "        while i != 0 or j != 0:\n",
    "            if bps[i, j][3] == 'seq1':\n",
    "                chars += bps[i, j][2].upper()\n",
    "            else:\n",
    "                chars += bps[i, j][2]\n",
    "            i, j = bps[i, j][0], bps[i, j][1] \n",
    "        return ''.join(list(reversed(chars)))\n",
    "    else:\n",
    "        return ''"
   ]
  },
  {
   "cell_type": "code",
   "execution_count": 23,
   "metadata": {},
   "outputs": [
    {
     "data": {
      "text/plain": [
       "[30]"
      ]
     },
     "execution_count": 23,
     "metadata": {},
     "output_type": "execute_result"
    }
   ],
   "source": [
    "[s for s in bills\n",
    "   if is_interleave(bills[0], bills[1], bills[s])]"
   ]
  },
  {
   "cell_type": "code",
   "execution_count": 24,
   "metadata": {},
   "outputs": [
    {
     "data": {
      "text/plain": [
       "[30]"
      ]
     },
     "execution_count": 24,
     "metadata": {},
     "output_type": "execute_result"
    }
   ],
   "source": [
    "[s for s in bills\n",
    "   if is_interleave_rows(bills[0], bills[1], bills[s])]"
   ]
  },
  {
   "cell_type": "code",
   "execution_count": 25,
   "metadata": {},
   "outputs": [
    {
     "data": {
      "text/plain": [
       "[30]"
      ]
     },
     "execution_count": 25,
     "metadata": {},
     "output_type": "execute_result"
    }
   ],
   "source": [
    "[s for s in bills\n",
    "   if is_interleave_rows2(bills[0], bills[1], bills[s])]"
   ]
  },
  {
   "cell_type": "code",
   "execution_count": 102,
   "metadata": {},
   "outputs": [
    {
     "data": {
      "text/plain": [
       "[30]"
      ]
     },
     "execution_count": 102,
     "metadata": {},
     "output_type": "execute_result"
    }
   ],
   "source": [
    "[s for s in bills\n",
    "   if is_subseq(bills[0], bills[s])\n",
    "   if is_subseq(bills[1], bills[s])]"
   ]
  },
  {
   "cell_type": "code",
   "execution_count": 26,
   "metadata": {},
   "outputs": [
    {
     "name": "stdout",
     "output_type": "stream",
     "text": [
      "T . . . . . . . . . . . . . . . . . . . . . . . . . . . . . . . . . . . . . . . . . . . . . . . . . . . . . . . . . . . . . . . . . . . . . . . . . . . . . . . . . . . . . . . . . . . . . . . . . . . . . . . . . . . . . . . . . . . . . . . . . . . . . . . . . . . . . . . . . . . . . . . . . . . . . . . . . . . . . . . . . . . . . . . . . . . . . . . . . . . . . . . . . . . . . . . . . . . . . . . .\n",
      "T . . . . . . . . . . . . . . . . . . . . . . . . . . . . . . . . . . . . . . . . . . . . . . . . . . . . . . . . . . . . . . . . . . . . . . . . . . . . . . . . . . . . . . . . . . . . . . . . . . . . . . . . . . . . . . . . . . . . . . . . . . . . . . . . . . . . . . . . . . . . . . . . . . . . . . . . . . . . . . . . . . . . . . . . . . . . . . . . . . . . . . . . . . . . . . . . . . . . . . . .\n",
      "T T . . . . . . . . . . . . . . . . . . . . . . . . . . . . . . . . . . . . . . . . . . . . . . . . . . . . . . . . . . . . . . . . . . . . . . . . . . . . . . . . . . . . . . . . . . . . . . . . . . . . . . . . . . . . . . . . . . . . . . . . . . . . . . . . . . . . . . . . . . . . . . . . . . . . . . . . . . . . . . . . . . . . . . . . . . . . . . . . . . . . . . . . . . . . . . . . . . . . . . .\n",
      ". T . . . . . . . . . . . . . . . . . . . . . . . . . . . . . . . . . . . . . . . . . . . . . . . . . . . . . . . . . . . . . . . . . . . . . . . . . . . . . . . . . . . . . . . . . . . . . . . . . . . . . . . . . . . . . . . . . . . . . . . . . . . . . . . . . . . . . . . . . . . . . . . . . . . . . . . . . . . . . . . . . . . . . . . . . . . . . . . . . . . . . . . . . . . . . . . . . . . . . . .\n",
      ". T T . . . . . . . . . . . . . . . . . . . . . . . . . . . . . . . . . . . . . . . . . . . . . . . . . . . . . . . . . . . . . . . . . . . . . . . . . . . . . . . . . . . . . . . . . . . . . . . . . . . . . . . . . . . . . . . . . . . . . . . . . . . . . . . . . . . . . . . . . . . . . . . . . . . . . . . . . . . . . . . . . . . . . . . . . . . . . . . . . . . . . . . . . . . . . . . . . . . . . .\n",
      ". . T T T T . . . . . . . . . . . . . . . . . . . . . . . . . . . . . . . . . . . . . . . . . . . . . . . . . . . . . . . . . . . . . . . . . . . . . . . . . . . . . . . . . . . . . . . . . . . . . . . . . . . . . . . . . . . . . . . . . . . . . . . . . . . . . . . . . . . . . . . . . . . . . . . . . . . . . . . . . . . . . . . . . . . . . . . . . . . . . . . . . . . . . . . . . . . . . . . . . . .\n",
      ". . . . T T T T T . . . . . . . . . . . . . . . . . . . . . . . . . . . . . . . . . . . . . . . . . . . . . . . . . . . . . . . . . . . . . . . . . . . . . . . . . . . . . . . . . . . . . . . . . . . . . . . . . . . . . . . . . . . . . . . . . . . . . . . . . . . . . . . . . . . . . . . . . . . . . . . . . . . . . . . . . . . . . . . . . . . . . . . . . . . . . . . . . . . . . . . . . . . . . . . .\n",
      ". . . . . . . . T T . . . . . . . . . . . . . . . . . . . . . . . . . . . . . . . . . . . . . . . . . . . . . . . . . . . . . . . . . . . . . . . . . . . . . . . . . . . . . . . . . . . . . . . . . . . . . . . . . . . . . . . . . . . . . . . . . . . . . . . . . . . . . . . . . . . . . . . . . . . . . . . . . . . . . . . . . . . . . . . . . . . . . . . . . . . . . . . . . . . . . . . . . . . . . . .\n",
      ". . . . . . . . T T T T T T T . . . . . . . . . . . . . . . . . . . . . . . . . . . . . . . . . . . . . . . . . . . . . . . . . . . . . . . . . . . . . . . . . . . . . . . . . . . . . . . . . . . . . . . . . . . . . . . . . . . . . . . . . . . . . . . . . . . . . . . . . . . . . . . . . . . . . . . . . . . . . . . . . . . . . . . . . . . . . . . . . . . . . . . . . . . . . . . . . . . . . . . . . .\n",
      ". . . . . . . . . T . . T . T T T . . . . . . . . . . . . . . . . . . . . . . . . . . . . . . . . . . . . . . . . . . . . . . . . . . . . . . . . . . . . . . . . . . . . . . . . . . . . . . . . . . . . . . . . . . . . . . . . . . . . . . . . . . . . . . . . . . . . . . . . . . . . . . . . . . . . . . . . . . . . . . . . . . . . . . . . . . . . . . . . . . . . . . . . . . . . . . . . . . . . . . . .\n",
      ". . . . . . . . . T . . . . . . T T . . . . . . . . . . . . . . . . . . . . . . . . . . . . . . . . . . . . . . . . . . . . . . . . . . . . . . . . . . . . . . . . . . . . . . . . . . . . . . . . . . . . . . . . . . . . . . . . . . . . . . . . . . . . . . . . . . . . . . . . . . . . . . . . . . . . . . . . . . . . . . . . . . . . . . . . . . . . . . . . . . . . . . . . . . . . . . . . . . . . . . .\n",
      ". . . . . . . . . . . . . . . . . T T T T . . . . . . . . . . . . . . . . . . . . . . . . . . . . . . . . . . . . . . . . . . . . . . . . . . . . . . . . . . . . . . . . . . . . . . . . . . . . . . . . . . . . . . . . . . . . . . . . . . . . . . . . . . . . . . . . . . . . . . . . . . . . . . . . . . . . . . . . . . . . . . . . . . . . . . . . . . . . . . . . . . . . . . . . . . . . . . . . . . . .\n",
      ". . . . . . . . . . . . . . . . . . T . T T . . . . . . . . . . . . . . . . . . . . . . . . . . . . . . . . . . . . . . . . . . . . . . . . . . . . . . . . . . . . . . . . . . . . . . . . . . . . . . . . . . . . . . . . . . . . . . . . . . . . . . . . . . . . . . . . . . . . . . . . . . . . . . . . . . . . . . . . . . . . . . . . . . . . . . . . . . . . . . . . . . . . . . . . . . . . . . . . . . .\n",
      ". . . . . . . . . . . . . . . . . . T T . T T T . . . . . . . . . . . . . . . . . . . . . . . . . . . . . . . . . . . . . . . . . . . . . . . . . . . . . . . . . . . . . . . . . . . . . . . . . . . . . . . . . . . . . . . . . . . . . . . . . . . . . . . . . . . . . . . . . . . . . . . . . . . . . . . . . . . . . . . . . . . . . . . . . . . . . . . . . . . . . . . . . . . . . . . . . . . . . . . . .\n",
      ". . . . . . . . . . . . . . . . . . T . . . . T . . . . . . . . . . . . . . . . . . . . . . . . . . . . . . . . . . . . . . . . . . . . . . . . . . . . . . . . . . . . . . . . . . . . . . . . . . . . . . . . . . . . . . . . . . . . . . . . . . . . . . . . . . . . . . . . . . . . . . . . . . . . . . . . . . . . . . . . . . . . . . . . . . . . . . . . . . . . . . . . . . . . . . . . . . . . . . . . .\n",
      ". . . . . . . . . . . . . . . . . . . . . . . T T . . . . . . . . . . . . . . . . . . . . . . . . . . . . . . . . . . . . . . . . . . . . . . . . . . . . . . . . . . . . . . . . . . . . . . . . . . . . . . . . . . . . . . . . . . . . . . . . . . . . . . . . . . . . . . . . . . . . . . . . . . . . . . . . . . . . . . . . . . . . . . . . . . . . . . . . . . . . . . . . . . . . . . . . . . . . . . . .\n",
      ". . . . . . . . . . . . . . . . . . . . . . . . T . . . . . . . . . . . . . . . . . . . . . . . . . . . . . . . . . . . . . . . . . . . . . . . . . . . . . . . . . . . . . . . . . . . . . . . . . . . . . . . . . . . . . . . . . . . . . . . . . . . . . . . . . . . . . . . . . . . . . . . . . . . . . . . . . . . . . . . . . . . . . . . . . . . . . . . . . . . . . . . . . . . . . . . . . . . . . . . .\n",
      ". . . . . . . . . . . . . . . . . . . . . . . . T T T . . . . . . . . . . . . . . . . . . . . . . . . . . . . . . . . . . . . . . . . . . . . . . . . . . . . . . . . . . . . . . . . . . . . . . . . . . . . . . . . . . . . . . . . . . . . . . . . . . . . . . . . . . . . . . . . . . . . . . . . . . . . . . . . . . . . . . . . . . . . . . . . . . . . . . . . . . . . . . . . . . . . . . . . . . . . . .\n",
      ". . . . . . . . . . . . . . . . . . . . . . . . . . T . . . . . . . . . . . . . . . . . . . . . . . . . . . . . . . . . . . . . . . . . . . . . . . . . . . . . . . . . . . . . . . . . . . . . . . . . . . . . . . . . . . . . . . . . . . . . . . . . . . . . . . . . . . . . . . . . . . . . . . . . . . . . . . . . . . . . . . . . . . . . . . . . . . . . . . . . . . . . . . . . . . . . . . . . . . . . .\n",
      ". . . . . . . . . . . . . . . . . . . . . . . . . . T T . . . . . . . . . . . . . . . . . . . . . . . . . . . . . . . . . . . . . . . . . . . . . . . . . . . . . . . . . . . . . . . . . . . . . . . . . . . . . . . . . . . . . . . . . . . . . . . . . . . . . . . . . . . . . . . . . . . . . . . . . . . . . . . . . . . . . . . . . . . . . . . . . . . . . . . . . . . . . . . . . . . . . . . . . . . . .\n",
      ". . . . . . . . . . . . . . . . . . . . . . . . . . . T T T . . . . . . . . . . . . . . . . . . . . . . . . . . . . . . . . . . . . . . . . . . . . . . . . . . . . . . . . . . . . . . . . . . . . . . . . . . . . . . . . . . . . . . . . . . . . . . . . . . . . . . . . . . . . . . . . . . . . . . . . . . . . . . . . . . . . . . . . . . . . . . . . . . . . . . . . . . . . . . . . . . . . . . . . . . .\n",
      ". . . . . . . . . . . . . . . . . . . . . . . . . . . T . T . . . . . . . . . . . . . . . . . . . . . . . . . . . . . . . . . . . . . . . . . . . . . . . . . . . . . . . . . . . . . . . . . . . . . . . . . . . . . . . . . . . . . . . . . . . . . . . . . . . . . . . . . . . . . . . . . . . . . . . . . . . . . . . . . . . . . . . . . . . . . . . . . . . . . . . . . . . . . . . . . . . . . . . . . . .\n",
      ". . . . . . . . . . . . . . . . . . . . . . . . . . . . . T T T . . . . . . . . . . . . . . . . . . . . . . . . . . . . . . . . . . . . . . . . . . . . . . . . . . . . . . . . . . . . . . . . . . . . . . . . . . . . . . . . . . . . . . . . . . . . . . . . . . . . . . . . . . . . . . . . . . . . . . . . . . . . . . . . . . . . . . . . . . . . . . . . . . . . . . . . . . . . . . . . . . . . . . . . .\n",
      ". . . . . . . . . . . . . . . . . . . . . . . . . . . . . . T . . . . . . . . . . . . . . . . . . . . . . . . . . . . . . . . . . . . . . . . . . . . . . . . . . . . . . . . . . . . . . . . . . . . . . . . . . . . . . . . . . . . . . . . . . . . . . . . . . . . . . . . . . . . . . . . . . . . . . . . . . . . . . . . . . . . . . . . . . . . . . . . . . . . . . . . . . . . . . . . . . . . . . . . . .\n",
      ". . . . . . . . . . . . . . . . . . . . . . . . . . . . . . T . . . . . . . . . . . . . . . . . . . . . . . . . . . . . . . . . . . . . . . . . . . . . . . . . . . . . . . . . . . . . . . . . . . . . . . . . . . . . . . . . . . . . . . . . . . . . . . . . . . . . . . . . . . . . . . . . . . . . . . . . . . . . . . . . . . . . . . . . . . . . . . . . . . . . . . . . . . . . . . . . . . . . . . . . .\n",
      ". . . . . . . . . . . . . . . . . . . . . . . . . . . . . . T T . . . . . . . . . . . . . . . . . . . . . . . . . . . . . . . . . . . . . . . . . . . . . . . . . . . . . . . . . . . . . . . . . . . . . . . . . . . . . . . . . . . . . . . . . . . . . . . . . . . . . . . . . . . . . . . . . . . . . . . . . . . . . . . . . . . . . . . . . . . . . . . . . . . . . . . . . . . . . . . . . . . . . . . . .\n",
      ". . . . . . . . . . . . . . . . . . . . . . . . . . . . . . . T . . . . . . . . . . . . . . . . . . . . . . . . . . . . . . . . . . . . . . . . . . . . . . . . . . . . . . . . . . . . . . . . . . . . . . . . . . . . . . . . . . . . . . . . . . . . . . . . . . . . . . . . . . . . . . . . . . . . . . . . . . . . . . . . . . . . . . . . . . . . . . . . . . . . . . . . . . . . . . . . . . . . . . . . .\n",
      ". . . . . . . . . . . . . . . . . . . . . . . . . . . . . . . T T T . . . . . . . . . . . . . . . . . . . . . . . . . . . . . . . . . . . . . . . . . . . . . . . . . . . . . . . . . . . . . . . . . . . . . . . . . . . . . . . . . . . . . . . . . . . . . . . . . . . . . . . . . . . . . . . . . . . . . . . . . . . . . . . . . . . . . . . . . . . . . . . . . . . . . . . . . . . . . . . . . . . . . . .\n",
      ". . . . . . . . . . . . . . . . . . . . . . . . . . . . . . . . T T . . . . . . . . . . . . . . . . . . . . . . . . . . . . . . . . . . . . . . . . . . . . . . . . . . . . . . . . . . . . . . . . . . . . . . . . . . . . . . . . . . . . . . . . . . . . . . . . . . . . . . . . . . . . . . . . . . . . . . . . . . . . . . . . . . . . . . . . . . . . . . . . . . . . . . . . . . . . . . . . . . . . . . .\n",
      ". . . . . . . . . . . . . . . . . . . . . . . . . . . . . . . . . T . . . . . . . . . . . . . . . . . . . . . . . . . . . . . . . . . . . . . . . . . . . . . . . . . . . . . . . . . . . . . . . . . . . . . . . . . . . . . . . . . . . . . . . . . . . . . . . . . . . . . . . . . . . . . . . . . . . . . . . . . . . . . . . . . . . . . . . . . . . . . . . . . . . . . . . . . . . . . . . . . . . . . . .\n",
      ". . . . . . . . . . . . . . . . . . . . . . . . . . . . . . . . . T T T . . . . . . . . . . . . . . . . . . . . . . . . . . . . . . . . . . . . . . . . . . . . . . . . . . . . . . . . . . . . . . . . . . . . . . . . . . . . . . . . . . . . . . . . . . . . . . . . . . . . . . . . . . . . . . . . . . . . . . . . . . . . . . . . . . . . . . . . . . . . . . . . . . . . . . . . . . . . . . . . . . . . .\n",
      ". . . . . . . . . . . . . . . . . . . . . . . . . . . . . . . . . . . T T . . . . . . . . . . . . . . . . . . . . . . . . . . . . . . . . . . . . . . . . . . . . . . . . . . . . . . . . . . . . . . . . . . . . . . . . . . . . . . . . . . . . . . . . . . . . . . . . . . . . . . . . . . . . . . . . . . . . . . . . . . . . . . . . . . . . . . . . . . . . . . . . . . . . . . . . . . . . . . . . . . . .\n",
      ". . . . . . . . . . . . . . . . . . . . . . . . . . . . . . . . . . . . T T T . . . . . . . . . . . . . . . . . . . . . . . . . . . . . . . . . . . . . . . . . . . . . . . . . . . . . . . . . . . . . . . . . . . . . . . . . . . . . . . . . . . . . . . . . . . . . . . . . . . . . . . . . . . . . . . . . . . . . . . . . . . . . . . . . . . . . . . . . . . . . . . . . . . . . . . . . . . . . . . . . .\n",
      ". . . . . . . . . . . . . . . . . . . . . . . . . . . . . . . . . . . . . . T T . . . . . . . . . . . . . . . . . . . . . . . . . . . . . . . . . . . . . . . . . . . . . . . . . . . . . . . . . . . . . . . . . . . . . . . . . . . . . . . . . . . . . . . . . . . . . . . . . . . . . . . . . . . . . . . . . . . . . . . . . . . . . . . . . . . . . . . . . . . . . . . . . . . . . . . . . . . . . . . . .\n",
      ". . . . . . . . . . . . . . . . . . . . . . . . . . . . . . . . . . . . . . T . . . . . . . . . . . . . . . . . . . . . . . . . . . . . . . . . . . . . . . . . . . . . . . . . . . . . . . . . . . . . . . . . . . . . . . . . . . . . . . . . . . . . . . . . . . . . . . . . . . . . . . . . . . . . . . . . . . . . . . . . . . . . . . . . . . . . . . . . . . . . . . . . . . . . . . . . . . . . . . . . .\n",
      ". . . . . . . . . . . . . . . . . . . . . . . . . . . . . . . . . . . . . . T . . . . . . . . . . . . . . . . . . . . . . . . . . . . . . . . . . . . . . . . . . . . . . . . . . . . . . . . . . . . . . . . . . . . . . . . . . . . . . . . . . . . . . . . . . . . . . . . . . . . . . . . . . . . . . . . . . . . . . . . . . . . . . . . . . . . . . . . . . . . . . . . . . . . . . . . . . . . . . . . . .\n",
      ". . . . . . . . . . . . . . . . . . . . . . . . . . . . . . . . . . . . . . T T T T . . . . . . . . . . . . . . . . . . . . . . . . . . . . . . . . . . . . . . . . . . . . . . . . . . . . . . . . . . . . . . . . . . . . . . . . . . . . . . . . . . . . . . . . . . . . . . . . . . . . . . . . . . . . . . . . . . . . . . . . . . . . . . . . . . . . . . . . . . . . . . . . . . . . . . . . . . . . . . .\n",
      ". . . . . . . . . . . . . . . . . . . . . . . . . . . . . . . . . . . . . . . . . T T . . . . . . . . . . . . . . . . . . . . . . . . . . . . . . . . . . . . . . . . . . . . . . . . . . . . . . . . . . . . . . . . . . . . . . . . . . . . . . . . . . . . . . . . . . . . . . . . . . . . . . . . . . . . . . . . . . . . . . . . . . . . . . . . . . . . . . . . . . . . . . . . . . . . . . . . . . . . . .\n",
      ". . . . . . . . . . . . . . . . . . . . . . . . . . . . . . . . . . . . . . . . . . T T . . . . . . . . . . . . . . . . . . . . . . . . . . . . . . . . . . . . . . . . . . . . . . . . . . . . . . . . . . . . . . . . . . . . . . . . . . . . . . . . . . . . . . . . . . . . . . . . . . . . . . . . . . . . . . . . . . . . . . . . . . . . . . . . . . . . . . . . . . . . . . . . . . . . . . . . . . . . .\n",
      ". . . . . . . . . . . . . . . . . . . . . . . . . . . . . . . . . . . . . . . . . . . T T T . . . . . . . . . . . . . . . . . . . . . . . . . . . . . . . . . . . . . . . . . . . . . . . . . . . . . . . . . . . . . . . . . . . . . . . . . . . . . . . . . . . . . . . . . . . . . . . . . . . . . . . . . . . . . . . . . . . . . . . . . . . . . . . . . . . . . . . . . . . . . . . . . . . . . . . . . . .\n",
      ". . . . . . . . . . . . . . . . . . . . . . . . . . . . . . . . . . . . . . . . . . . . T T . . . . . . . . . . . . . . . . . . . . . . . . . . . . . . . . . . . . . . . . . . . . . . . . . . . . . . . . . . . . . . . . . . . . . . . . . . . . . . . . . . . . . . . . . . . . . . . . . . . . . . . . . . . . . . . . . . . . . . . . . . . . . . . . . . . . . . . . . . . . . . . . . . . . . . . . . . .\n",
      ". . . . . . . . . . . . . . . . . . . . . . . . . . . . . . . . . . . . . . . . . . . . T . . . . . . . . . . . . . . . . . . . . . . . . . . . . . . . . . . . . . . . . . . . . . . . . . . . . . . . . . . . . . . . . . . . . . . . . . . . . . . . . . . . . . . . . . . . . . . . . . . . . . . . . . . . . . . . . . . . . . . . . . . . . . . . . . . . . . . . . . . . . . . . . . . . . . . . . . . . .\n",
      ". . . . . . . . . . . . . . . . . . . . . . . . . . . . . . . . . . . . . . . . . . . . T . . . . . . . . . . . . . . . . . . . . . . . . . . . . . . . . . . . . . . . . . . . . . . . . . . . . . . . . . . . . . . . . . . . . . . . . . . . . . . . . . . . . . . . . . . . . . . . . . . . . . . . . . . . . . . . . . . . . . . . . . . . . . . . . . . . . . . . . . . . . . . . . . . . . . . . . . . . .\n",
      ". . . . . . . . . . . . . . . . . . . . . . . . . . . . . . . . . . . . . . . . . . . . T . . . . . . . . . . . . . . . . . . . . . . . . . . . . . . . . . . . . . . . . . . . . . . . . . . . . . . . . . . . . . . . . . . . . . . . . . . . . . . . . . . . . . . . . . . . . . . . . . . . . . . . . . . . . . . . . . . . . . . . . . . . . . . . . . . . . . . . . . . . . . . . . . . . . . . . . . . . .\n",
      ". . . . . . . . . . . . . . . . . . . . . . . . . . . . . . . . . . . . . . . . . . . . T T . . . . . . . . . . . . . . . . . . . . . . . . . . . . . . . . . . . . . . . . . . . . . . . . . . . . . . . . . . . . . . . . . . . . . . . . . . . . . . . . . . . . . . . . . . . . . . . . . . . . . . . . . . . . . . . . . . . . . . . . . . . . . . . . . . . . . . . . . . . . . . . . . . . . . . . . . . .\n",
      ". . . . . . . . . . . . . . . . . . . . . . . . . . . . . . . . . . . . . . . . . . . . T . . . . . . . . . . . . . . . . . . . . . . . . . . . . . . . . . . . . . . . . . . . . . . . . . . . . . . . . . . . . . . . . . . . . . . . . . . . . . . . . . . . . . . . . . . . . . . . . . . . . . . . . . . . . . . . . . . . . . . . . . . . . . . . . . . . . . . . . . . . . . . . . . . . . . . . . . . . .\n",
      ". . . . . . . . . . . . . . . . . . . . . . . . . . . . . . . . . . . . . . . . . . . . T T . . . . . . . . . . . . . . . . . . . . . . . . . . . . . . . . . . . . . . . . . . . . . . . . . . . . . . . . . . . . . . . . . . . . . . . . . . . . . . . . . . . . . . . . . . . . . . . . . . . . . . . . . . . . . . . . . . . . . . . . . . . . . . . . . . . . . . . . . . . . . . . . . . . . . . . . . . .\n",
      ". . . . . . . . . . . . . . . . . . . . . . . . . . . . . . . . . . . . . . . . . . . . . T . . . . . . . . . . . . . . . . . . . . . . . . . . . . . . . . . . . . . . . . . . . . . . . . . . . . . . . . . . . . . . . . . . . . . . . . . . . . . . . . . . . . . . . . . . . . . . . . . . . . . . . . . . . . . . . . . . . . . . . . . . . . . . . . . . . . . . . . . . . . . . . . . . . . . . . . . . .\n",
      ". . . . . . . . . . . . . . . . . . . . . . . . . . . . . . . . . . . . . . . . . . . . . T . . . . . . . . . . . . . . . . . . . . . . . . . . . . . . . . . . . . . . . . . . . . . . . . . . . . . . . . . . . . . . . . . . . . . . . . . . . . . . . . . . . . . . . . . . . . . . . . . . . . . . . . . . . . . . . . . . . . . . . . . . . . . . . . . . . . . . . . . . . . . . . . . . . . . . . . . . .\n",
      ". . . . . . . . . . . . . . . . . . . . . . . . . . . . . . . . . . . . . . . . . . . . . T . . . . . . . . . . . . . . . . . . . . . . . . . . . . . . . . . . . . . . . . . . . . . . . . . . . . . . . . . . . . . . . . . . . . . . . . . . . . . . . . . . . . . . . . . . . . . . . . . . . . . . . . . . . . . . . . . . . . . . . . . . . . . . . . . . . . . . . . . . . . . . . . . . . . . . . . . . .\n",
      ". . . . . . . . . . . . . . . . . . . . . . . . . . . . . . . . . . . . . . . . . . . . . T . . . . . . . . . . . . . . . . . . . . . . . . . . . . . . . . . . . . . . . . . . . . . . . . . . . . . . . . . . . . . . . . . . . . . . . . . . . . . . . . . . . . . . . . . . . . . . . . . . . . . . . . . . . . . . . . . . . . . . . . . . . . . . . . . . . . . . . . . . . . . . . . . . . . . . . . . . .\n",
      ". . . . . . . . . . . . . . . . . . . . . . . . . . . . . . . . . . . . . . . . . . . . . T T T T . . . . . . . . . . . . . . . . . . . . . . . . . . . . . . . . . . . . . . . . . . . . . . . . . . . . . . . . . . . . . . . . . . . . . . . . . . . . . . . . . . . . . . . . . . . . . . . . . . . . . . . . . . . . . . . . . . . . . . . . . . . . . . . . . . . . . . . . . . . . . . . . . . . . . . . .\n",
      ". . . . . . . . . . . . . . . . . . . . . . . . . . . . . . . . . . . . . . . . . . . . . . T . T . . . . . . . . . . . . . . . . . . . . . . . . . . . . . . . . . . . . . . . . . . . . . . . . . . . . . . . . . . . . . . . . . . . . . . . . . . . . . . . . . . . . . . . . . . . . . . . . . . . . . . . . . . . . . . . . . . . . . . . . . . . . . . . . . . . . . . . . . . . . . . . . . . . . . . . .\n",
      ". . . . . . . . . . . . . . . . . . . . . . . . . . . . . . . . . . . . . . . . . . . . . . . . T . . . . . . . . . . . . . . . . . . . . . . . . . . . . . . . . . . . . . . . . . . . . . . . . . . . . . . . . . . . . . . . . . . . . . . . . . . . . . . . . . . . . . . . . . . . . . . . . . . . . . . . . . . . . . . . . . . . . . . . . . . . . . . . . . . . . . . . . . . . . . . . . . . . . . . . .\n",
      ". . . . . . . . . . . . . . . . . . . . . . . . . . . . . . . . . . . . . . . . . . . . . . . . T T T . . . . . . . . . . . . . . . . . . . . . . . . . . . . . . . . . . . . . . . . . . . . . . . . . . . . . . . . . . . . . . . . . . . . . . . . . . . . . . . . . . . . . . . . . . . . . . . . . . . . . . . . . . . . . . . . . . . . . . . . . . . . . . . . . . . . . . . . . . . . . . . . . . . . . .\n",
      ". . . . . . . . . . . . . . . . . . . . . . . . . . . . . . . . . . . . . . . . . . . . . . . . . T T T T T . . . . . . . . . . . . . . . . . . . . . . . . . . . . . . . . . . . . . . . . . . . . . . . . . . . . . . . . . . . . . . . . . . . . . . . . . . . . . . . . . . . . . . . . . . . . . . . . . . . . . . . . . . . . . . . . . . . . . . . . . . . . . . . . . . . . . . . . . . . . . . . . . . .\n",
      ". . . . . . . . . . . . . . . . . . . . . . . . . . . . . . . . . . . . . . . . . . . . . . . . . . T . . T . . . . . . . . . . . . . . . . . . . . . . . . . . . . . . . . . . . . . . . . . . . . . . . . . . . . . . . . . . . . . . . . . . . . . . . . . . . . . . . . . . . . . . . . . . . . . . . . . . . . . . . . . . . . . . . . . . . . . . . . . . . . . . . . . . . . . . . . . . . . . . . . . . .\n",
      ". . . . . . . . . . . . . . . . . . . . . . . . . . . . . . . . . . . . . . . . . . . . . . . . . . . . . T . . . . . . . . . . . . . . . . . . . . . . . . . . . . . . . . . . . . . . . . . . . . . . . . . . . . . . . . . . . . . . . . . . . . . . . . . . . . . . . . . . . . . . . . . . . . . . . . . . . . . . . . . . . . . . . . . . . . . . . . . . . . . . . . . . . . . . . . . . . . . . . . . . .\n",
      ". . . . . . . . . . . . . . . . . . . . . . . . . . . . . . . . . . . . . . . . . . . . . . . . . . . . . T T T T T T . . . . . . . . . . . . . . . . . . . . . . . . . . . . . . . . . . . . . . . . . . . . . . . . . . . . . . . . . . . . . . . . . . . . . . . . . . . . . . . . . . . . . . . . . . . . . . . . . . . . . . . . . . . . . . . . . . . . . . . . . . . . . . . . . . . . . . . . . . . . . .\n",
      ". . . . . . . . . . . . . . . . . . . . . . . . . . . . . . . . . . . . . . . . . . . . . . . . . . . . . . . . . . T T . . . . . . . . . . . . . . . . . . . . . . . . . . . . . . . . . . . . . . . . . . . . . . . . . . . . . . . . . . . . . . . . . . . . . . . . . . . . . . . . . . . . . . . . . . . . . . . . . . . . . . . . . . . . . . . . . . . . . . . . . . . . . . . . . . . . . . . . . . . . .\n",
      ". . . . . . . . . . . . . . . . . . . . . . . . . . . . . . . . . . . . . . . . . . . . . . . . . . . . . . . . . . T . . . . . . . . . . . . . . . . . . . . . . . . . . . . . . . . . . . . . . . . . . . . . . . . . . . . . . . . . . . . . . . . . . . . . . . . . . . . . . . . . . . . . . . . . . . . . . . . . . . . . . . . . . . . . . . . . . . . . . . . . . . . . . . . . . . . . . . . . . . . . .\n",
      ". . . . . . . . . . . . . . . . . . . . . . . . . . . . . . . . . . . . . . . . . . . . . . . . . . . . . . . . . . T T . . . . . . . . . . . . . . . . . . . . . . . . . . . . . . . . . . . . . . . . . . . . . . . . . . . . . . . . . . . . . . . . . . . . . . . . . . . . . . . . . . . . . . . . . . . . . . . . . . . . . . . . . . . . . . . . . . . . . . . . . . . . . . . . . . . . . . . . . . . . .\n",
      ". . . . . . . . . . . . . . . . . . . . . . . . . . . . . . . . . . . . . . . . . . . . . . . . . . . . . . . . . . T . . . . . . . . . . . . . . . . . . . . . . . . . . . . . . . . . . . . . . . . . . . . . . . . . . . . . . . . . . . . . . . . . . . . . . . . . . . . . . . . . . . . . . . . . . . . . . . . . . . . . . . . . . . . . . . . . . . . . . . . . . . . . . . . . . . . . . . . . . . . . .\n",
      ". . . . . . . . . . . . . . . . . . . . . . . . . . . . . . . . . . . . . . . . . . . . . . . . . . . . . . . . . . T T T . . . . . . . . . . . . . . . . . . . . . . . . . . . . . . . . . . . . . . . . . . . . . . . . . . . . . . . . . . . . . . . . . . . . . . . . . . . . . . . . . . . . . . . . . . . . . . . . . . . . . . . . . . . . . . . . . . . . . . . . . . . . . . . . . . . . . . . . . . . .\n",
      ". . . . . . . . . . . . . . . . . . . . . . . . . . . . . . . . . . . . . . . . . . . . . . . . . . . . . . . . . . . . T T T . . . . . . . . . . . . . . . . . . . . . . . . . . . . . . . . . . . . . . . . . . . . . . . . . . . . . . . . . . . . . . . . . . . . . . . . . . . . . . . . . . . . . . . . . . . . . . . . . . . . . . . . . . . . . . . . . . . . . . . . . . . . . . . . . . . . . . . . . .\n",
      ". . . . . . . . . . . . . . . . . . . . . . . . . . . . . . . . . . . . . . . . . . . . . . . . . . . . . . . . . . . . T . T T T . . . . . . . . . . . . . . . . . . . . . . . . . . . . . . . . . . . . . . . . . . . . . . . . . . . . . . . . . . . . . . . . . . . . . . . . . . . . . . . . . . . . . . . . . . . . . . . . . . . . . . . . . . . . . . . . . . . . . . . . . . . . . . . . . . . . . . . .\n",
      ". . . . . . . . . . . . . . . . . . . . . . . . . . . . . . . . . . . . . . . . . . . . . . . . . . . . . . . . . . . . . . . . T T . . . . . . . . . . . . . . . . . . . . . . . . . . . . . . . . . . . . . . . . . . . . . . . . . . . . . . . . . . . . . . . . . . . . . . . . . . . . . . . . . . . . . . . . . . . . . . . . . . . . . . . . . . . . . . . . . . . . . . . . . . . . . . . . . . . . . . .\n",
      ". . . . . . . . . . . . . . . . . . . . . . . . . . . . . . . . . . . . . . . . . . . . . . . . . . . . . . . . . . . . . . . . . T T T T T T . . . . . . . . . . . . . . . . . . . . . . . . . . . . . . . . . . . . . . . . . . . . . . . . . . . . . . . . . . . . . . . . . . . . . . . . . . . . . . . . . . . . . . . . . . . . . . . . . . . . . . . . . . . . . . . . . . . . . . . . . . . . . . . . . .\n",
      ". . . . . . . . . . . . . . . . . . . . . . . . . . . . . . . . . . . . . . . . . . . . . . . . . . . . . . . . . . . . . . . . . . T . T T T . . . . . . . . . . . . . . . . . . . . . . . . . . . . . . . . . . . . . . . . . . . . . . . . . . . . . . . . . . . . . . . . . . . . . . . . . . . . . . . . . . . . . . . . . . . . . . . . . . . . . . . . . . . . . . . . . . . . . . . . . . . . . . . . . .\n",
      ". . . . . . . . . . . . . . . . . . . . . . . . . . . . . . . . . . . . . . . . . . . . . . . . . . . . . . . . . . . . . . . . . . . . . . T T T . . . . . . . . . . . . . . . . . . . . . . . . . . . . . . . . . . . . . . . . . . . . . . . . . . . . . . . . . . . . . . . . . . . . . . . . . . . . . . . . . . . . . . . . . . . . . . . . . . . . . . . . . . . . . . . . . . . . . . . . . . . . . . . .\n",
      ". . . . . . . . . . . . . . . . . . . . . . . . . . . . . . . . . . . . . . . . . . . . . . . . . . . . . . . . . . . . . . . . . . . . . . . . T . . . . . . . . . . . . . . . . . . . . . . . . . . . . . . . . . . . . . . . . . . . . . . . . . . . . . . . . . . . . . . . . . . . . . . . . . . . . . . . . . . . . . . . . . . . . . . . . . . . . . . . . . . . . . . . . . . . . . . . . . . . . . . . .\n",
      ". . . . . . . . . . . . . . . . . . . . . . . . . . . . . . . . . . . . . . . . . . . . . . . . . . . . . . . . . . . . . . . . . . . . . . . . T . . . . . . . . . . . . . . . . . . . . . . . . . . . . . . . . . . . . . . . . . . . . . . . . . . . . . . . . . . . . . . . . . . . . . . . . . . . . . . . . . . . . . . . . . . . . . . . . . . . . . . . . . . . . . . . . . . . . . . . . . . . . . . . .\n",
      ". . . . . . . . . . . . . . . . . . . . . . . . . . . . . . . . . . . . . . . . . . . . . . . . . . . . . . . . . . . . . . . . . . . . . . . . T T . . . . . . . . . . . . . . . . . . . . . . . . . . . . . . . . . . . . . . . . . . . . . . . . . . . . . . . . . . . . . . . . . . . . . . . . . . . . . . . . . . . . . . . . . . . . . . . . . . . . . . . . . . . . . . . . . . . . . . . . . . . . . . .\n",
      ". . . . . . . . . . . . . . . . . . . . . . . . . . . . . . . . . . . . . . . . . . . . . . . . . . . . . . . . . . . . . . . . . . . . . . . . T T T T . . . . . . . . . . . . . . . . . . . . . . . . . . . . . . . . . . . . . . . . . . . . . . . . . . . . . . . . . . . . . . . . . . . . . . . . . . . . . . . . . . . . . . . . . . . . . . . . . . . . . . . . . . . . . . . . . . . . . . . . . . . . .\n",
      ". . . . . . . . . . . . . . . . . . . . . . . . . . . . . . . . . . . . . . . . . . . . . . . . . . . . . . . . . . . . . . . . . . . . . . . . . . . T . . . . . . . . . . . . . . . . . . . . . . . . . . . . . . . . . . . . . . . . . . . . . . . . . . . . . . . . . . . . . . . . . . . . . . . . . . . . . . . . . . . . . . . . . . . . . . . . . . . . . . . . . . . . . . . . . . . . . . . . . . . . .\n",
      ". . . . . . . . . . . . . . . . . . . . . . . . . . . . . . . . . . . . . . . . . . . . . . . . . . . . . . . . . . . . . . . . . . . . . . . . . . . T . . . . . . . . . . . . . . . . . . . . . . . . . . . . . . . . . . . . . . . . . . . . . . . . . . . . . . . . . . . . . . . . . . . . . . . . . . . . . . . . . . . . . . . . . . . . . . . . . . . . . . . . . . . . . . . . . . . . . . . . . . . . .\n",
      ". . . . . . . . . . . . . . . . . . . . . . . . . . . . . . . . . . . . . . . . . . . . . . . . . . . . . . . . . . . . . . . . . . . . . . . . . . . T . . . . . . . . . . . . . . . . . . . . . . . . . . . . . . . . . . . . . . . . . . . . . . . . . . . . . . . . . . . . . . . . . . . . . . . . . . . . . . . . . . . . . . . . . . . . . . . . . . . . . . . . . . . . . . . . . . . . . . . . . . . . .\n",
      ". . . . . . . . . . . . . . . . . . . . . . . . . . . . . . . . . . . . . . . . . . . . . . . . . . . . . . . . . . . . . . . . . . . . . . . . . . . T T . . . . . . . . . . . . . . . . . . . . . . . . . . . . . . . . . . . . . . . . . . . . . . . . . . . . . . . . . . . . . . . . . . . . . . . . . . . . . . . . . . . . . . . . . . . . . . . . . . . . . . . . . . . . . . . . . . . . . . . . . . . .\n",
      ". . . . . . . . . . . . . . . . . . . . . . . . . . . . . . . . . . . . . . . . . . . . . . . . . . . . . . . . . . . . . . . . . . . . . . . . . . . . T T . . . . . . . . . . . . . . . . . . . . . . . . . . . . . . . . . . . . . . . . . . . . . . . . . . . . . . . . . . . . . . . . . . . . . . . . . . . . . . . . . . . . . . . . . . . . . . . . . . . . . . . . . . . . . . . . . . . . . . . . . . .\n",
      ". . . . . . . . . . . . . . . . . . . . . . . . . . . . . . . . . . . . . . . . . . . . . . . . . . . . . . . . . . . . . . . . . . . . . . . . . . . . . T T T T . . . . . . . . . . . . . . . . . . . . . . . . . . . . . . . . . . . . . . . . . . . . . . . . . . . . . . . . . . . . . . . . . . . . . . . . . . . . . . . . . . . . . . . . . . . . . . . . . . . . . . . . . . . . . . . . . . . . . . . .\n",
      ". . . . . . . . . . . . . . . . . . . . . . . . . . . . . . . . . . . . . . . . . . . . . . . . . . . . . . . . . . . . . . . . . . . . . . . . . . . . . . . . T T T . . . . . . . . . . . . . . . . . . . . . . . . . . . . . . . . . . . . . . . . . . . . . . . . . . . . . . . . . . . . . . . . . . . . . . . . . . . . . . . . . . . . . . . . . . . . . . . . . . . . . . . . . . . . . . . . . . . . . .\n",
      ". . . . . . . . . . . . . . . . . . . . . . . . . . . . . . . . . . . . . . . . . . . . . . . . . . . . . . . . . . . . . . . . . . . . . . . . . . . . . . . . . . T . . . . . . . . . . . . . . . . . . . . . . . . . . . . . . . . . . . . . . . . . . . . . . . . . . . . . . . . . . . . . . . . . . . . . . . . . . . . . . . . . . . . . . . . . . . . . . . . . . . . . . . . . . . . . . . . . . . . . .\n",
      ". . . . . . . . . . . . . . . . . . . . . . . . . . . . . . . . . . . . . . . . . . . . . . . . . . . . . . . . . . . . . . . . . . . . . . . . . . . . . . . . . . T T T T T T T . . . . . . . . . . . . . . . . . . . . . . . . . . . . . . . . . . . . . . . . . . . . . . . . . . . . . . . . . . . . . . . . . . . . . . . . . . . . . . . . . . . . . . . . . . . . . . . . . . . . . . . . . . . . . . . .\n",
      ". . . . . . . . . . . . . . . . . . . . . . . . . . . . . . . . . . . . . . . . . . . . . . . . . . . . . . . . . . . . . . . . . . . . . . . . . . . . . . . . . . . . . T . . T T T T T . . . . . . . . . . . . . . . . . . . . . . . . . . . . . . . . . . . . . . . . . . . . . . . . . . . . . . . . . . . . . . . . . . . . . . . . . . . . . . . . . . . . . . . . . . . . . . . . . . . . . . . . . . . .\n",
      ". . . . . . . . . . . . . . . . . . . . . . . . . . . . . . . . . . . . . . . . . . . . . . . . . . . . . . . . . . . . . . . . . . . . . . . . . . . . . . . . . . . . . . . . . . . . T T . . . . . . . . . . . . . . . . . . . . . . . . . . . . . . . . . . . . . . . . . . . . . . . . . . . . . . . . . . . . . . . . . . . . . . . . . . . . . . . . . . . . . . . . . . . . . . . . . . . . . . . . . . .\n",
      ". . . . . . . . . . . . . . . . . . . . . . . . . . . . . . . . . . . . . . . . . . . . . . . . . . . . . . . . . . . . . . . . . . . . . . . . . . . . . . . . . . . . . . . . . . . . T . . . . . . . . . . . . . . . . . . . . . . . . . . . . . . . . . . . . . . . . . . . . . . . . . . . . . . . . . . . . . . . . . . . . . . . . . . . . . . . . . . . . . . . . . . . . . . . . . . . . . . . . . . . .\n",
      ". . . . . . . . . . . . . . . . . . . . . . . . . . . . . . . . . . . . . . . . . . . . . . . . . . . . . . . . . . . . . . . . . . . . . . . . . . . . . . . . . . . . . . . . . . . . T . . . . . . . . . . . . . . . . . . . . . . . . . . . . . . . . . . . . . . . . . . . . . . . . . . . . . . . . . . . . . . . . . . . . . . . . . . . . . . . . . . . . . . . . . . . . . . . . . . . . . . . . . . . .\n",
      ". . . . . . . . . . . . . . . . . . . . . . . . . . . . . . . . . . . . . . . . . . . . . . . . . . . . . . . . . . . . . . . . . . . . . . . . . . . . . . . . . . . . . . . . . . . . T T T . . . . . . . . . . . . . . . . . . . . . . . . . . . . . . . . . . . . . . . . . . . . . . . . . . . . . . . . . . . . . . . . . . . . . . . . . . . . . . . . . . . . . . . . . . . . . . . . . . . . . . . . . .\n",
      ". . . . . . . . . . . . . . . . . . . . . . . . . . . . . . . . . . . . . . . . . . . . . . . . . . . . . . . . . . . . . . . . . . . . . . . . . . . . . . . . . . . . . . . . . . . . . . T T . . . . . . . . . . . . . . . . . . . . . . . . . . . . . . . . . . . . . . . . . . . . . . . . . . . . . . . . . . . . . . . . . . . . . . . . . . . . . . . . . . . . . . . . . . . . . . . . . . . . . . . . .\n",
      ". . . . . . . . . . . . . . . . . . . . . . . . . . . . . . . . . . . . . . . . . . . . . . . . . . . . . . . . . . . . . . . . . . . . . . . . . . . . . . . . . . . . . . . . . . . . . . . T T T T . . . . . . . . . . . . . . . . . . . . . . . . . . . . . . . . . . . . . . . . . . . . . . . . . . . . . . . . . . . . . . . . . . . . . . . . . . . . . . . . . . . . . . . . . . . . . . . . . . . . . .\n",
      ". . . . . . . . . . . . . . . . . . . . . . . . . . . . . . . . . . . . . . . . . . . . . . . . . . . . . . . . . . . . . . . . . . . . . . . . . . . . . . . . . . . . . . . . . . . . . . . T T . T . . . . . . . . . . . . . . . . . . . . . . . . . . . . . . . . . . . . . . . . . . . . . . . . . . . . . . . . . . . . . . . . . . . . . . . . . . . . . . . . . . . . . . . . . . . . . . . . . . . . . .\n",
      ". . . . . . . . . . . . . . . . . . . . . . . . . . . . . . . . . . . . . . . . . . . . . . . . . . . . . . . . . . . . . . . . . . . . . . . . . . . . . . . . . . . . . . . . . . . . . . . . T T T . . . . . . . . . . . . . . . . . . . . . . . . . . . . . . . . . . . . . . . . . . . . . . . . . . . . . . . . . . . . . . . . . . . . . . . . . . . . . . . . . . . . . . . . . . . . . . . . . . . . . .\n",
      ". . . . . . . . . . . . . . . . . . . . . . . . . . . . . . . . . . . . . . . . . . . . . . . . . . . . . . . . . . . . . . . . . . . . . . . . . . . . . . . . . . . . . . . . . . . . . . . . . . T T T . . . . . . . . . . . . . . . . . . . . . . . . . . . . . . . . . . . . . . . . . . . . . . . . . . . . . . . . . . . . . . . . . . . . . . . . . . . . . . . . . . . . . . . . . . . . . . . . . . . .\n",
      ". . . . . . . . . . . . . . . . . . . . . . . . . . . . . . . . . . . . . . . . . . . . . . . . . . . . . . . . . . . . . . . . . . . . . . . . . . . . . . . . . . . . . . . . . . . . . . . . . . T . . . . . . . . . . . . . . . . . . . . . . . . . . . . . . . . . . . . . . . . . . . . . . . . . . . . . . . . . . . . . . . . . . . . . . . . . . . . . . . . . . . . . . . . . . . . . . . . . . . . . .\n",
      ". . . . . . . . . . . . . . . . . . . . . . . . . . . . . . . . . . . . . . . . . . . . . . . . . . . . . . . . . . . . . . . . . . . . . . . . . . . . . . . . . . . . . . . . . . . . . . . . . . T . . . . . . . . . . . . . . . . . . . . . . . . . . . . . . . . . . . . . . . . . . . . . . . . . . . . . . . . . . . . . . . . . . . . . . . . . . . . . . . . . . . . . . . . . . . . . . . . . . . . . .\n",
      ". . . . . . . . . . . . . . . . . . . . . . . . . . . . . . . . . . . . . . . . . . . . . . . . . . . . . . . . . . . . . . . . . . . . . . . . . . . . . . . . . . . . . . . . . . . . . . . . . . T . . . . . . . . . . . . . . . . . . . . . . . . . . . . . . . . . . . . . . . . . . . . . . . . . . . . . . . . . . . . . . . . . . . . . . . . . . . . . . . . . . . . . . . . . . . . . . . . . . . . . .\n",
      ". . . . . . . . . . . . . . . . . . . . . . . . . . . . . . . . . . . . . . . . . . . . . . . . . . . . . . . . . . . . . . . . . . . . . . . . . . . . . . . . . . . . . . . . . . . . . . . . . . T . . . . . . . . . . . . . . . . . . . . . . . . . . . . . . . . . . . . . . . . . . . . . . . . . . . . . . . . . . . . . . . . . . . . . . . . . . . . . . . . . . . . . . . . . . . . . . . . . . . . . .\n",
      ". . . . . . . . . . . . . . . . . . . . . . . . . . . . . . . . . . . . . . . . . . . . . . . . . . . . . . . . . . . . . . . . . . . . . . . . . . . . . . . . . . . . . . . . . . . . . . . . . . T . . . . . . . . . . . . . . . . . . . . . . . . . . . . . . . . . . . . . . . . . . . . . . . . . . . . . . . . . . . . . . . . . . . . . . . . . . . . . . . . . . . . . . . . . . . . . . . . . . . . . .\n",
      ". . . . . . . . . . . . . . . . . . . . . . . . . . . . . . . . . . . . . . . . . . . . . . . . . . . . . . . . . . . . . . . . . . . . . . . . . . . . . . . . . . . . . . . . . . . . . . . . . . T T . . . . . . . . . . . . . . . . . . . . . . . . . . . . . . . . . . . . . . . . . . . . . . . . . . . . . . . . . . . . . . . . . . . . . . . . . . . . . . . . . . . . . . . . . . . . . . . . . . . . .\n",
      ". . . . . . . . . . . . . . . . . . . . . . . . . . . . . . . . . . . . . . . . . . . . . . . . . . . . . . . . . . . . . . . . . . . . . . . . . . . . . . . . . . . . . . . . . . . . . . . . . . T . . . . . . . . . . . . . . . . . . . . . . . . . . . . . . . . . . . . . . . . . . . . . . . . . . . . . . . . . . . . . . . . . . . . . . . . . . . . . . . . . . . . . . . . . . . . . . . . . . . . . .\n",
      ". . . . . . . . . . . . . . . . . . . . . . . . . . . . . . . . . . . . . . . . . . . . . . . . . . . . . . . . . . . . . . . . . . . . . . . . . . . . . . . . . . . . . . . . . . . . . . . . . . T . . . . . . . . . . . . . . . . . . . . . . . . . . . . . . . . . . . . . . . . . . . . . . . . . . . . . . . . . . . . . . . . . . . . . . . . . . . . . . . . . . . . . . . . . . . . . . . . . . . . . .\n",
      ". . . . . . . . . . . . . . . . . . . . . . . . . . . . . . . . . . . . . . . . . . . . . . . . . . . . . . . . . . . . . . . . . . . . . . . . . . . . . . . . . . . . . . . . . . . . . . . . . . T . . . . . . . . . . . . . . . . . . . . . . . . . . . . . . . . . . . . . . . . . . . . . . . . . . . . . . . . . . . . . . . . . . . . . . . . . . . . . . . . . . . . . . . . . . . . . . . . . . . . . .\n",
      ". . . . . . . . . . . . . . . . . . . . . . . . . . . . . . . . . . . . . . . . . . . . . . . . . . . . . . . . . . . . . . . . . . . . . . . . . . . . . . . . . . . . . . . . . . . . . . . . . . T T . . . . . . . . . . . . . . . . . . . . . . . . . . . . . . . . . . . . . . . . . . . . . . . . . . . . . . . . . . . . . . . . . . . . . . . . . . . . . . . . . . . . . . . . . . . . . . . . . . . . .\n",
      ". . . . . . . . . . . . . . . . . . . . . . . . . . . . . . . . . . . . . . . . . . . . . . . . . . . . . . . . . . . . . . . . . . . . . . . . . . . . . . . . . . . . . . . . . . . . . . . . . . . T T . . . . . . . . . . . . . . . . . . . . . . . . . . . . . . . . . . . . . . . . . . . . . . . . . . . . . . . . . . . . . . . . . . . . . . . . . . . . . . . . . . . . . . . . . . . . . . . . . . . .\n",
      ". . . . . . . . . . . . . . . . . . . . . . . . . . . . . . . . . . . . . . . . . . . . . . . . . . . . . . . . . . . . . . . . . . . . . . . . . . . . . . . . . . . . . . . . . . . . . . . . . . . . T T . . . . . . . . . . . . . . . . . . . . . . . . . . . . . . . . . . . . . . . . . . . . . . . . . . . . . . . . . . . . . . . . . . . . . . . . . . . . . . . . . . . . . . . . . . . . . . . . . . .\n",
      ". . . . . . . . . . . . . . . . . . . . . . . . . . . . . . . . . . . . . . . . . . . . . . . . . . . . . . . . . . . . . . . . . . . . . . . . . . . . . . . . . . . . . . . . . . . . . . . . . . . . . T T . . . . . . . . . . . . . . . . . . . . . . . . . . . . . . . . . . . . . . . . . . . . . . . . . . . . . . . . . . . . . . . . . . . . . . . . . . . . . . . . . . . . . . . . . . . . . . . . . .\n",
      ". . . . . . . . . . . . . . . . . . . . . . . . . . . . . . . . . . . . . . . . . . . . . . . . . . . . . . . . . . . . . . . . . . . . . . . . . . . . . . . . . . . . . . . . . . . . . . . . . . . . . . T . . . . . . . . . . . . . . . . . . . . . . . . . . . . . . . . . . . . . . . . . . . . . . . . . . . . . . . . . . . . . . . . . . . . . . . . . . . . . . . . . . . . . . . . . . . . . . . . . .\n",
      ". . . . . . . . . . . . . . . . . . . . . . . . . . . . . . . . . . . . . . . . . . . . . . . . . . . . . . . . . . . . . . . . . . . . . . . . . . . . . . . . . . . . . . . . . . . . . . . . . . . . . . T T T . . . . . . . . . . . . . . . . . . . . . . . . . . . . . . . . . . . . . . . . . . . . . . . . . . . . . . . . . . . . . . . . . . . . . . . . . . . . . . . . . . . . . . . . . . . . . . . .\n",
      ". . . . . . . . . . . . . . . . . . . . . . . . . . . . . . . . . . . . . . . . . . . . . . . . . . . . . . . . . . . . . . . . . . . . . . . . . . . . . . . . . . . . . . . . . . . . . . . . . . . . . . T . T T T . . . . . . . . . . . . . . . . . . . . . . . . . . . . . . . . . . . . . . . . . . . . . . . . . . . . . . . . . . . . . . . . . . . . . . . . . . . . . . . . . . . . . . . . . . . . . .\n",
      ". . . . . . . . . . . . . . . . . . . . . . . . . . . . . . . . . . . . . . . . . . . . . . . . . . . . . . . . . . . . . . . . . . . . . . . . . . . . . . . . . . . . . . . . . . . . . . . . . . . . . . . . . . T . . . . . . . . . . . . . . . . . . . . . . . . . . . . . . . . . . . . . . . . . . . . . . . . . . . . . . . . . . . . . . . . . . . . . . . . . . . . . . . . . . . . . . . . . . . . . .\n",
      ". . . . . . . . . . . . . . . . . . . . . . . . . . . . . . . . . . . . . . . . . . . . . . . . . . . . . . . . . . . . . . . . . . . . . . . . . . . . . . . . . . . . . . . . . . . . . . . . . . . . . . . . . . T T T . . . . . . . . . . . . . . . . . . . . . . . . . . . . . . . . . . . . . . . . . . . . . . . . . . . . . . . . . . . . . . . . . . . . . . . . . . . . . . . . . . . . . . . . . . . .\n",
      ". . . . . . . . . . . . . . . . . . . . . . . . . . . . . . . . . . . . . . . . . . . . . . . . . . . . . . . . . . . . . . . . . . . . . . . . . . . . . . . . . . . . . . . . . . . . . . . . . . . . . . . . . . . T T . . . . . . . . . . . . . . . . . . . . . . . . . . . . . . . . . . . . . . . . . . . . . . . . . . . . . . . . . . . . . . . . . . . . . . . . . . . . . . . . . . . . . . . . . . . .\n",
      ". . . . . . . . . . . . . . . . . . . . . . . . . . . . . . . . . . . . . . . . . . . . . . . . . . . . . . . . . . . . . . . . . . . . . . . . . . . . . . . . . . . . . . . . . . . . . . . . . . . . . . . . . . . . T T . . . . . . . . . . . . . . . . . . . . . . . . . . . . . . . . . . . . . . . . . . . . . . . . . . . . . . . . . . . . . . . . . . . . . . . . . . . . . . . . . . . . . . . . . . .\n",
      ". . . . . . . . . . . . . . . . . . . . . . . . . . . . . . . . . . . . . . . . . . . . . . . . . . . . . . . . . . . . . . . . . . . . . . . . . . . . . . . . . . . . . . . . . . . . . . . . . . . . . . . . . . . . . T T . . . . . . . . . . . . . . . . . . . . . . . . . . . . . . . . . . . . . . . . . . . . . . . . . . . . . . . . . . . . . . . . . . . . . . . . . . . . . . . . . . . . . . . . . .\n",
      ". . . . . . . . . . . . . . . . . . . . . . . . . . . . . . . . . . . . . . . . . . . . . . . . . . . . . . . . . . . . . . . . . . . . . . . . . . . . . . . . . . . . . . . . . . . . . . . . . . . . . . . . . . . . . . T . . . . . . . . . . . . . . . . . . . . . . . . . . . . . . . . . . . . . . . . . . . . . . . . . . . . . . . . . . . . . . . . . . . . . . . . . . . . . . . . . . . . . . . . . .\n",
      ". . . . . . . . . . . . . . . . . . . . . . . . . . . . . . . . . . . . . . . . . . . . . . . . . . . . . . . . . . . . . . . . . . . . . . . . . . . . . . . . . . . . . . . . . . . . . . . . . . . . . . . . . . . . . . T . . . . . . . . . . . . . . . . . . . . . . . . . . . . . . . . . . . . . . . . . . . . . . . . . . . . . . . . . . . . . . . . . . . . . . . . . . . . . . . . . . . . . . . . . .\n",
      ". . . . . . . . . . . . . . . . . . . . . . . . . . . . . . . . . . . . . . . . . . . . . . . . . . . . . . . . . . . . . . . . . . . . . . . . . . . . . . . . . . . . . . . . . . . . . . . . . . . . . . . . . . . . . . T T T . . . . . . . . . . . . . . . . . . . . . . . . . . . . . . . . . . . . . . . . . . . . . . . . . . . . . . . . . . . . . . . . . . . . . . . . . . . . . . . . . . . . . . . .\n",
      ". . . . . . . . . . . . . . . . . . . . . . . . . . . . . . . . . . . . . . . . . . . . . . . . . . . . . . . . . . . . . . . . . . . . . . . . . . . . . . . . . . . . . . . . . . . . . . . . . . . . . . . . . . . . . . . . T T T . . . . . . . . . . . . . . . . . . . . . . . . . . . . . . . . . . . . . . . . . . . . . . . . . . . . . . . . . . . . . . . . . . . . . . . . . . . . . . . . . . . . . .\n",
      ". . . . . . . . . . . . . . . . . . . . . . . . . . . . . . . . . . . . . . . . . . . . . . . . . . . . . . . . . . . . . . . . . . . . . . . . . . . . . . . . . . . . . . . . . . . . . . . . . . . . . . . . . . . . . . . . . . T . . . . . . . . . . . . . . . . . . . . . . . . . . . . . . . . . . . . . . . . . . . . . . . . . . . . . . . . . . . . . . . . . . . . . . . . . . . . . . . . . . . . . .\n",
      ". . . . . . . . . . . . . . . . . . . . . . . . . . . . . . . . . . . . . . . . . . . . . . . . . . . . . . . . . . . . . . . . . . . . . . . . . . . . . . . . . . . . . . . . . . . . . . . . . . . . . . . . . . . . . . . . . . T . . . . . . . . . . . . . . . . . . . . . . . . . . . . . . . . . . . . . . . . . . . . . . . . . . . . . . . . . . . . . . . . . . . . . . . . . . . . . . . . . . . . . .\n",
      ". . . . . . . . . . . . . . . . . . . . . . . . . . . . . . . . . . . . . . . . . . . . . . . . . . . . . . . . . . . . . . . . . . . . . . . . . . . . . . . . . . . . . . . . . . . . . . . . . . . . . . . . . . . . . . . . . . T . . . . . . . . . . . . . . . . . . . . . . . . . . . . . . . . . . . . . . . . . . . . . . . . . . . . . . . . . . . . . . . . . . . . . . . . . . . . . . . . . . . . . .\n",
      ". . . . . . . . . . . . . . . . . . . . . . . . . . . . . . . . . . . . . . . . . . . . . . . . . . . . . . . . . . . . . . . . . . . . . . . . . . . . . . . . . . . . . . . . . . . . . . . . . . . . . . . . . . . . . . . . . . T T . . . . . . . . . . . . . . . . . . . . . . . . . . . . . . . . . . . . . . . . . . . . . . . . . . . . . . . . . . . . . . . . . . . . . . . . . . . . . . . . . . . . .\n",
      ". . . . . . . . . . . . . . . . . . . . . . . . . . . . . . . . . . . . . . . . . . . . . . . . . . . . . . . . . . . . . . . . . . . . . . . . . . . . . . . . . . . . . . . . . . . . . . . . . . . . . . . . . . . . . . . . . . . T T T T . . . . . . . . . . . . . . . . . . . . . . . . . . . . . . . . . . . . . . . . . . . . . . . . . . . . . . . . . . . . . . . . . . . . . . . . . . . . . . . . . .\n",
      ". . . . . . . . . . . . . . . . . . . . . . . . . . . . . . . . . . . . . . . . . . . . . . . . . . . . . . . . . . . . . . . . . . . . . . . . . . . . . . . . . . . . . . . . . . . . . . . . . . . . . . . . . . . . . . . . . . . . T T T T T . . . . . . . . . . . . . . . . . . . . . . . . . . . . . . . . . . . . . . . . . . . . . . . . . . . . . . . . . . . . . . . . . . . . . . . . . . . . . . . .\n",
      ". . . . . . . . . . . . . . . . . . . . . . . . . . . . . . . . . . . . . . . . . . . . . . . . . . . . . . . . . . . . . . . . . . . . . . . . . . . . . . . . . . . . . . . . . . . . . . . . . . . . . . . . . . . . . . . . . . . . . . T . T T . . . . . . . . . . . . . . . . . . . . . . . . . . . . . . . . . . . . . . . . . . . . . . . . . . . . . . . . . . . . . . . . . . . . . . . . . . . . . . .\n",
      ". . . . . . . . . . . . . . . . . . . . . . . . . . . . . . . . . . . . . . . . . . . . . . . . . . . . . . . . . . . . . . . . . . . . . . . . . . . . . . . . . . . . . . . . . . . . . . . . . . . . . . . . . . . . . . . . . . . . . . . . . T . . . . . . . . . . . . . . . . . . . . . . . . . . . . . . . . . . . . . . . . . . . . . . . . . . . . . . . . . . . . . . . . . . . . . . . . . . . . . . .\n",
      ". . . . . . . . . . . . . . . . . . . . . . . . . . . . . . . . . . . . . . . . . . . . . . . . . . . . . . . . . . . . . . . . . . . . . . . . . . . . . . . . . . . . . . . . . . . . . . . . . . . . . . . . . . . . . . . . . . . . . . . . . T . . . . . . . . . . . . . . . . . . . . . . . . . . . . . . . . . . . . . . . . . . . . . . . . . . . . . . . . . . . . . . . . . . . . . . . . . . . . . . .\n",
      ". . . . . . . . . . . . . . . . . . . . . . . . . . . . . . . . . . . . . . . . . . . . . . . . . . . . . . . . . . . . . . . . . . . . . . . . . . . . . . . . . . . . . . . . . . . . . . . . . . . . . . . . . . . . . . . . . . . . . . . . . T T T T T T T . . . . . . . . . . . . . . . . . . . . . . . . . . . . . . . . . . . . . . . . . . . . . . . . . . . . . . . . . . . . . . . . . . . . . . . . .\n",
      ". . . . . . . . . . . . . . . . . . . . . . . . . . . . . . . . . . . . . . . . . . . . . . . . . . . . . . . . . . . . . . . . . . . . . . . . . . . . . . . . . . . . . . . . . . . . . . . . . . . . . . . . . . . . . . . . . . . . . . . . . . . T . . . T . . . . . . . . . . . . . . . . . . . . . . . . . . . . . . . . . . . . . . . . . . . . . . . . . . . . . . . . . . . . . . . . . . . . . . . . .\n",
      ". . . . . . . . . . . . . . . . . . . . . . . . . . . . . . . . . . . . . . . . . . . . . . . . . . . . . . . . . . . . . . . . . . . . . . . . . . . . . . . . . . . . . . . . . . . . . . . . . . . . . . . . . . . . . . . . . . . . . . . . . . . . . . . T . . . . . . . . . . . . . . . . . . . . . . . . . . . . . . . . . . . . . . . . . . . . . . . . . . . . . . . . . . . . . . . . . . . . . . . . .\n",
      ". . . . . . . . . . . . . . . . . . . . . . . . . . . . . . . . . . . . . . . . . . . . . . . . . . . . . . . . . . . . . . . . . . . . . . . . . . . . . . . . . . . . . . . . . . . . . . . . . . . . . . . . . . . . . . . . . . . . . . . . . . . . . . . T T . . . . . . . . . . . . . . . . . . . . . . . . . . . . . . . . . . . . . . . . . . . . . . . . . . . . . . . . . . . . . . . . . . . . . . . .\n",
      ". . . . . . . . . . . . . . . . . . . . . . . . . . . . . . . . . . . . . . . . . . . . . . . . . . . . . . . . . . . . . . . . . . . . . . . . . . . . . . . . . . . . . . . . . . . . . . . . . . . . . . . . . . . . . . . . . . . . . . . . . . . . . . . . T . . . . . . . . . . . . . . . . . . . . . . . . . . . . . . . . . . . . . . . . . . . . . . . . . . . . . . . . . . . . . . . . . . . . . . . .\n",
      ". . . . . . . . . . . . . . . . . . . . . . . . . . . . . . . . . . . . . . . . . . . . . . . . . . . . . . . . . . . . . . . . . . . . . . . . . . . . . . . . . . . . . . . . . . . . . . . . . . . . . . . . . . . . . . . . . . . . . . . . . . . . . . . . T T T . . . . . . . . . . . . . . . . . . . . . . . . . . . . . . . . . . . . . . . . . . . . . . . . . . . . . . . . . . . . . . . . . . . . . .\n",
      ". . . . . . . . . . . . . . . . . . . . . . . . . . . . . . . . . . . . . . . . . . . . . . . . . . . . . . . . . . . . . . . . . . . . . . . . . . . . . . . . . . . . . . . . . . . . . . . . . . . . . . . . . . . . . . . . . . . . . . . . . . . . . . . . . . T . . . . . . . . . . . . . . . . . . . . . . . . . . . . . . . . . . . . . . . . . . . . . . . . . . . . . . . . . . . . . . . . . . . . . .\n",
      ". . . . . . . . . . . . . . . . . . . . . . . . . . . . . . . . . . . . . . . . . . . . . . . . . . . . . . . . . . . . . . . . . . . . . . . . . . . . . . . . . . . . . . . . . . . . . . . . . . . . . . . . . . . . . . . . . . . . . . . . . . . . . . . . . . T T T . . . . . . . . . . . . . . . . . . . . . . . . . . . . . . . . . . . . . . . . . . . . . . . . . . . . . . . . . . . . . . . . . . . .\n",
      ". . . . . . . . . . . . . . . . . . . . . . . . . . . . . . . . . . . . . . . . . . . . . . . . . . . . . . . . . . . . . . . . . . . . . . . . . . . . . . . . . . . . . . . . . . . . . . . . . . . . . . . . . . . . . . . . . . . . . . . . . . . . . . . . . . . T . . . . . . . . . . . . . . . . . . . . . . . . . . . . . . . . . . . . . . . . . . . . . . . . . . . . . . . . . . . . . . . . . . . . .\n",
      ". . . . . . . . . . . . . . . . . . . . . . . . . . . . . . . . . . . . . . . . . . . . . . . . . . . . . . . . . . . . . . . . . . . . . . . . . . . . . . . . . . . . . . . . . . . . . . . . . . . . . . . . . . . . . . . . . . . . . . . . . . . . . . . . . . . T . . . . . . . . . . . . . . . . . . . . . . . . . . . . . . . . . . . . . . . . . . . . . . . . . . . . . . . . . . . . . . . . . . . . .\n",
      ". . . . . . . . . . . . . . . . . . . . . . . . . . . . . . . . . . . . . . . . . . . . . . . . . . . . . . . . . . . . . . . . . . . . . . . . . . . . . . . . . . . . . . . . . . . . . . . . . . . . . . . . . . . . . . . . . . . . . . . . . . . . . . . . . . . T T T . . . . . . . . . . . . . . . . . . . . . . . . . . . . . . . . . . . . . . . . . . . . . . . . . . . . . . . . . . . . . . . . . . .\n",
      ". . . . . . . . . . . . . . . . . . . . . . . . . . . . . . . . . . . . . . . . . . . . . . . . . . . . . . . . . . . . . . . . . . . . . . . . . . . . . . . . . . . . . . . . . . . . . . . . . . . . . . . . . . . . . . . . . . . . . . . . . . . . . . . . . . . . . T T T . . . . . . . . . . . . . . . . . . . . . . . . . . . . . . . . . . . . . . . . . . . . . . . . . . . . . . . . . . . . . . . . .\n",
      ". . . . . . . . . . . . . . . . . . . . . . . . . . . . . . . . . . . . . . . . . . . . . . . . . . . . . . . . . . . . . . . . . . . . . . . . . . . . . . . . . . . . . . . . . . . . . . . . . . . . . . . . . . . . . . . . . . . . . . . . . . . . . . . . . . . . . . . T . . . . . . . . . . . . . . . . . . . . . . . . . . . . . . . . . . . . . . . . . . . . . . . . . . . . . . . . . . . . . . . . .\n",
      ". . . . . . . . . . . . . . . . . . . . . . . . . . . . . . . . . . . . . . . . . . . . . . . . . . . . . . . . . . . . . . . . . . . . . . . . . . . . . . . . . . . . . . . . . . . . . . . . . . . . . . . . . . . . . . . . . . . . . . . . . . . . . . . . . . . . . . . T . . . . . . . . . . . . . . . . . . . . . . . . . . . . . . . . . . . . . . . . . . . . . . . . . . . . . . . . . . . . . . . . .\n",
      ". . . . . . . . . . . . . . . . . . . . . . . . . . . . . . . . . . . . . . . . . . . . . . . . . . . . . . . . . . . . . . . . . . . . . . . . . . . . . . . . . . . . . . . . . . . . . . . . . . . . . . . . . . . . . . . . . . . . . . . . . . . . . . . . . . . . . . . T T . . . . . . . . . . . . . . . . . . . . . . . . . . . . . . . . . . . . . . . . . . . . . . . . . . . . . . . . . . . . . . . .\n",
      ". . . . . . . . . . . . . . . . . . . . . . . . . . . . . . . . . . . . . . . . . . . . . . . . . . . . . . . . . . . . . . . . . . . . . . . . . . . . . . . . . . . . . . . . . . . . . . . . . . . . . . . . . . . . . . . . . . . . . . . . . . . . . . . . . . . . . . . . T . . . . . . . . . . . . . . . . . . . . . . . . . . . . . . . . . . . . . . . . . . . . . . . . . . . . . . . . . . . . . . . .\n",
      ". . . . . . . . . . . . . . . . . . . . . . . . . . . . . . . . . . . . . . . . . . . . . . . . . . . . . . . . . . . . . . . . . . . . . . . . . . . . . . . . . . . . . . . . . . . . . . . . . . . . . . . . . . . . . . . . . . . . . . . . . . . . . . . . . . . . . . . . T . . . . . . . . . . . . . . . . . . . . . . . . . . . . . . . . . . . . . . . . . . . . . . . . . . . . . . . . . . . . . . . .\n",
      ". . . . . . . . . . . . . . . . . . . . . . . . . . . . . . . . . . . . . . . . . . . . . . . . . . . . . . . . . . . . . . . . . . . . . . . . . . . . . . . . . . . . . . . . . . . . . . . . . . . . . . . . . . . . . . . . . . . . . . . . . . . . . . . . . . . . . . . . T . . . . . . . . . . . . . . . . . . . . . . . . . . . . . . . . . . . . . . . . . . . . . . . . . . . . . . . . . . . . . . . .\n",
      ". . . . . . . . . . . . . . . . . . . . . . . . . . . . . . . . . . . . . . . . . . . . . . . . . . . . . . . . . . . . . . . . . . . . . . . . . . . . . . . . . . . . . . . . . . . . . . . . . . . . . . . . . . . . . . . . . . . . . . . . . . . . . . . . . . . . . . . . T . . . . . . . . . . . . . . . . . . . . . . . . . . . . . . . . . . . . . . . . . . . . . . . . . . . . . . . . . . . . . . . .\n",
      ". . . . . . . . . . . . . . . . . . . . . . . . . . . . . . . . . . . . . . . . . . . . . . . . . . . . . . . . . . . . . . . . . . . . . . . . . . . . . . . . . . . . . . . . . . . . . . . . . . . . . . . . . . . . . . . . . . . . . . . . . . . . . . . . . . . . . . . . T T . . . . . . . . . . . . . . . . . . . . . . . . . . . . . . . . . . . . . . . . . . . . . . . . . . . . . . . . . . . . . . .\n",
      ". . . . . . . . . . . . . . . . . . . . . . . . . . . . . . . . . . . . . . . . . . . . . . . . . . . . . . . . . . . . . . . . . . . . . . . . . . . . . . . . . . . . . . . . . . . . . . . . . . . . . . . . . . . . . . . . . . . . . . . . . . . . . . . . . . . . . . . . . T T . . . . . . . . . . . . . . . . . . . . . . . . . . . . . . . . . . . . . . . . . . . . . . . . . . . . . . . . . . . . . .\n",
      ". . . . . . . . . . . . . . . . . . . . . . . . . . . . . . . . . . . . . . . . . . . . . . . . . . . . . . . . . . . . . . . . . . . . . . . . . . . . . . . . . . . . . . . . . . . . . . . . . . . . . . . . . . . . . . . . . . . . . . . . . . . . . . . . . . . . . . . . . T T T . . . . . . . . . . . . . . . . . . . . . . . . . . . . . . . . . . . . . . . . . . . . . . . . . . . . . . . . . . . . .\n",
      ". . . . . . . . . . . . . . . . . . . . . . . . . . . . . . . . . . . . . . . . . . . . . . . . . . . . . . . . . . . . . . . . . . . . . . . . . . . . . . . . . . . . . . . . . . . . . . . . . . . . . . . . . . . . . . . . . . . . . . . . . . . . . . . . . . . . . . . . . . T T T . . . . . . . . . . . . . . . . . . . . . . . . . . . . . . . . . . . . . . . . . . . . . . . . . . . . . . . . . . . .\n",
      ". . . . . . . . . . . . . . . . . . . . . . . . . . . . . . . . . . . . . . . . . . . . . . . . . . . . . . . . . . . . . . . . . . . . . . . . . . . . . . . . . . . . . . . . . . . . . . . . . . . . . . . . . . . . . . . . . . . . . . . . . . . . . . . . . . . . . . . . . . . . T T . . . . . . . . . . . . . . . . . . . . . . . . . . . . . . . . . . . . . . . . . . . . . . . . . . . . . . . . . . .\n",
      ". . . . . . . . . . . . . . . . . . . . . . . . . . . . . . . . . . . . . . . . . . . . . . . . . . . . . . . . . . . . . . . . . . . . . . . . . . . . . . . . . . . . . . . . . . . . . . . . . . . . . . . . . . . . . . . . . . . . . . . . . . . . . . . . . . . . . . . . . . . . . T T . . . . . . . . . . . . . . . . . . . . . . . . . . . . . . . . . . . . . . . . . . . . . . . . . . . . . . . . . .\n",
      ". . . . . . . . . . . . . . . . . . . . . . . . . . . . . . . . . . . . . . . . . . . . . . . . . . . . . . . . . . . . . . . . . . . . . . . . . . . . . . . . . . . . . . . . . . . . . . . . . . . . . . . . . . . . . . . . . . . . . . . . . . . . . . . . . . . . . . . . . . . . . T T T T T . . . . . . . . . . . . . . . . . . . . . . . . . . . . . . . . . . . . . . . . . . . . . . . . . . . . . . .\n",
      ". . . . . . . . . . . . . . . . . . . . . . . . . . . . . . . . . . . . . . . . . . . . . . . . . . . . . . . . . . . . . . . . . . . . . . . . . . . . . . . . . . . . . . . . . . . . . . . . . . . . . . . . . . . . . . . . . . . . . . . . . . . . . . . . . . . . . . . . . . . . . . . . . T T T T . . . . . . . . . . . . . . . . . . . . . . . . . . . . . . . . . . . . . . . . . . . . . . . . . . . .\n",
      ". . . . . . . . . . . . . . . . . . . . . . . . . . . . . . . . . . . . . . . . . . . . . . . . . . . . . . . . . . . . . . . . . . . . . . . . . . . . . . . . . . . . . . . . . . . . . . . . . . . . . . . . . . . . . . . . . . . . . . . . . . . . . . . . . . . . . . . . . . . . . . . . . . . . T . . . . . . . . . . . . . . . . . . . . . . . . . . . . . . . . . . . . . . . . . . . . . . . . . . . .\n",
      ". . . . . . . . . . . . . . . . . . . . . . . . . . . . . . . . . . . . . . . . . . . . . . . . . . . . . . . . . . . . . . . . . . . . . . . . . . . . . . . . . . . . . . . . . . . . . . . . . . . . . . . . . . . . . . . . . . . . . . . . . . . . . . . . . . . . . . . . . . . . . . . . . . . . T T T T . . . . . . . . . . . . . . . . . . . . . . . . . . . . . . . . . . . . . . . . . . . . . . . . .\n",
      ". . . . . . . . . . . . . . . . . . . . . . . . . . . . . . . . . . . . . . . . . . . . . . . . . . . . . . . . . . . . . . . . . . . . . . . . . . . . . . . . . . . . . . . . . . . . . . . . . . . . . . . . . . . . . . . . . . . . . . . . . . . . . . . . . . . . . . . . . . . . . . . . . . . . . . . T . . . . . . . . . . . . . . . . . . . . . . . . . . . . . . . . . . . . . . . . . . . . . . . . .\n",
      ". . . . . . . . . . . . . . . . . . . . . . . . . . . . . . . . . . . . . . . . . . . . . . . . . . . . . . . . . . . . . . . . . . . . . . . . . . . . . . . . . . . . . . . . . . . . . . . . . . . . . . . . . . . . . . . . . . . . . . . . . . . . . . . . . . . . . . . . . . . . . . . . . . . . . . . T T . . . . . . . . . . . . . . . . . . . . . . . . . . . . . . . . . . . . . . . . . . . . . . . .\n",
      ". . . . . . . . . . . . . . . . . . . . . . . . . . . . . . . . . . . . . . . . . . . . . . . . . . . . . . . . . . . . . . . . . . . . . . . . . . . . . . . . . . . . . . . . . . . . . . . . . . . . . . . . . . . . . . . . . . . . . . . . . . . . . . . . . . . . . . . . . . . . . . . . . . . . . . . T . . . . . . . . . . . . . . . . . . . . . . . . . . . . . . . . . . . . . . . . . . . . . . . . .\n",
      ". . . . . . . . . . . . . . . . . . . . . . . . . . . . . . . . . . . . . . . . . . . . . . . . . . . . . . . . . . . . . . . . . . . . . . . . . . . . . . . . . . . . . . . . . . . . . . . . . . . . . . . . . . . . . . . . . . . . . . . . . . . . . . . . . . . . . . . . . . . . . . . . . . . . . . . T T T . . . . . . . . . . . . . . . . . . . . . . . . . . . . . . . . . . . . . . . . . . . . . . .\n",
      ". . . . . . . . . . . . . . . . . . . . . . . . . . . . . . . . . . . . . . . . . . . . . . . . . . . . . . . . . . . . . . . . . . . . . . . . . . . . . . . . . . . . . . . . . . . . . . . . . . . . . . . . . . . . . . . . . . . . . . . . . . . . . . . . . . . . . . . . . . . . . . . . . . . . . . . . . T . . . . . . . . . . . . . . . . . . . . . . . . . . . . . . . . . . . . . . . . . . . . . . .\n",
      ". . . . . . . . . . . . . . . . . . . . . . . . . . . . . . . . . . . . . . . . . . . . . . . . . . . . . . . . . . . . . . . . . . . . . . . . . . . . . . . . . . . . . . . . . . . . . . . . . . . . . . . . . . . . . . . . . . . . . . . . . . . . . . . . . . . . . . . . . . . . . . . . . . . . . . . . . T . . . . . . . . . . . . . . . . . . . . . . . . . . . . . . . . . . . . . . . . . . . . . . .\n",
      ". . . . . . . . . . . . . . . . . . . . . . . . . . . . . . . . . . . . . . . . . . . . . . . . . . . . . . . . . . . . . . . . . . . . . . . . . . . . . . . . . . . . . . . . . . . . . . . . . . . . . . . . . . . . . . . . . . . . . . . . . . . . . . . . . . . . . . . . . . . . . . . . . . . . . . . . . T . . . . . . . . . . . . . . . . . . . . . . . . . . . . . . . . . . . . . . . . . . . . . . .\n",
      ". . . . . . . . . . . . . . . . . . . . . . . . . . . . . . . . . . . . . . . . . . . . . . . . . . . . . . . . . . . . . . . . . . . . . . . . . . . . . . . . . . . . . . . . . . . . . . . . . . . . . . . . . . . . . . . . . . . . . . . . . . . . . . . . . . . . . . . . . . . . . . . . . . . . . . . . . T T . . . . . . . . . . . . . . . . . . . . . . . . . . . . . . . . . . . . . . . . . . . . . .\n",
      ". . . . . . . . . . . . . . . . . . . . . . . . . . . . . . . . . . . . . . . . . . . . . . . . . . . . . . . . . . . . . . . . . . . . . . . . . . . . . . . . . . . . . . . . . . . . . . . . . . . . . . . . . . . . . . . . . . . . . . . . . . . . . . . . . . . . . . . . . . . . . . . . . . . . . . . . . . T T T T . . . . . . . . . . . . . . . . . . . . . . . . . . . . . . . . . . . . . . . . . . .\n",
      ". . . . . . . . . . . . . . . . . . . . . . . . . . . . . . . . . . . . . . . . . . . . . . . . . . . . . . . . . . . . . . . . . . . . . . . . . . . . . . . . . . . . . . . . . . . . . . . . . . . . . . . . . . . . . . . . . . . . . . . . . . . . . . . . . . . . . . . . . . . . . . . . . . . . . . . . . . T . . T T T . . . . . . . . . . . . . . . . . . . . . . . . . . . . . . . . . . . . . . . . .\n",
      ". . . . . . . . . . . . . . . . . . . . . . . . . . . . . . . . . . . . . . . . . . . . . . . . . . . . . . . . . . . . . . . . . . . . . . . . . . . . . . . . . . . . . . . . . . . . . . . . . . . . . . . . . . . . . . . . . . . . . . . . . . . . . . . . . . . . . . . . . . . . . . . . . . . . . . . . . . . . . . . T T . . . . . . . . . . . . . . . . . . . . . . . . . . . . . . . . . . . . . . . .\n",
      ". . . . . . . . . . . . . . . . . . . . . . . . . . . . . . . . . . . . . . . . . . . . . . . . . . . . . . . . . . . . . . . . . . . . . . . . . . . . . . . . . . . . . . . . . . . . . . . . . . . . . . . . . . . . . . . . . . . . . . . . . . . . . . . . . . . . . . . . . . . . . . . . . . . . . . . . . . . . . . . . T . . . . . . . . . . . . . . . . . . . . . . . . . . . . . . . . . . . . . . . .\n",
      ". . . . . . . . . . . . . . . . . . . . . . . . . . . . . . . . . . . . . . . . . . . . . . . . . . . . . . . . . . . . . . . . . . . . . . . . . . . . . . . . . . . . . . . . . . . . . . . . . . . . . . . . . . . . . . . . . . . . . . . . . . . . . . . . . . . . . . . . . . . . . . . . . . . . . . . . . . . . . . . . T . . . . . . . . . . . . . . . . . . . . . . . . . . . . . . . . . . . . . . . .\n",
      ". . . . . . . . . . . . . . . . . . . . . . . . . . . . . . . . . . . . . . . . . . . . . . . . . . . . . . . . . . . . . . . . . . . . . . . . . . . . . . . . . . . . . . . . . . . . . . . . . . . . . . . . . . . . . . . . . . . . . . . . . . . . . . . . . . . . . . . . . . . . . . . . . . . . . . . . . . . . . . . . T T T T T T T . . . . . . . . . . . . . . . . . . . . . . . . . . . . . . . . . .\n",
      ". . . . . . . . . . . . . . . . . . . . . . . . . . . . . . . . . . . . . . . . . . . . . . . . . . . . . . . . . . . . . . . . . . . . . . . . . . . . . . . . . . . . . . . . . . . . . . . . . . . . . . . . . . . . . . . . . . . . . . . . . . . . . . . . . . . . . . . . . . . . . . . . . . . . . . . . . . . . . . . . . . . . . . T . . . . . . . . . . . . . . . . . . . . . . . . . . . . . . . . . .\n",
      ". . . . . . . . . . . . . . . . . . . . . . . . . . . . . . . . . . . . . . . . . . . . . . . . . . . . . . . . . . . . . . . . . . . . . . . . . . . . . . . . . . . . . . . . . . . . . . . . . . . . . . . . . . . . . . . . . . . . . . . . . . . . . . . . . . . . . . . . . . . . . . . . . . . . . . . . . . . . . . . . . . . . . . T T . . . . . . . . . . . . . . . . . . . . . . . . . . . . . . . . .\n",
      ". . . . . . . . . . . . . . . . . . . . . . . . . . . . . . . . . . . . . . . . . . . . . . . . . . . . . . . . . . . . . . . . . . . . . . . . . . . . . . . . . . . . . . . . . . . . . . . . . . . . . . . . . . . . . . . . . . . . . . . . . . . . . . . . . . . . . . . . . . . . . . . . . . . . . . . . . . . . . . . . . . . . . . . T . . . . . . . . . . . . . . . . . . . . . . . . . . . . . . . . .\n",
      ". . . . . . . . . . . . . . . . . . . . . . . . . . . . . . . . . . . . . . . . . . . . . . . . . . . . . . . . . . . . . . . . . . . . . . . . . . . . . . . . . . . . . . . . . . . . . . . . . . . . . . . . . . . . . . . . . . . . . . . . . . . . . . . . . . . . . . . . . . . . . . . . . . . . . . . . . . . . . . . . . . . . . . . T . . . . . . . . . . . . . . . . . . . . . . . . . . . . . . . . .\n",
      ". . . . . . . . . . . . . . . . . . . . . . . . . . . . . . . . . . . . . . . . . . . . . . . . . . . . . . . . . . . . . . . . . . . . . . . . . . . . . . . . . . . . . . . . . . . . . . . . . . . . . . . . . . . . . . . . . . . . . . . . . . . . . . . . . . . . . . . . . . . . . . . . . . . . . . . . . . . . . . . . . . . . . . . T . . . . . . . . . . . . . . . . . . . . . . . . . . . . . . . . .\n",
      ". . . . . . . . . . . . . . . . . . . . . . . . . . . . . . . . . . . . . . . . . . . . . . . . . . . . . . . . . . . . . . . . . . . . . . . . . . . . . . . . . . . . . . . . . . . . . . . . . . . . . . . . . . . . . . . . . . . . . . . . . . . . . . . . . . . . . . . . . . . . . . . . . . . . . . . . . . . . . . . . . . . . . . . T T T T . . . . . . . . . . . . . . . . . . . . . . . . . . . . . .\n",
      ". . . . . . . . . . . . . . . . . . . . . . . . . . . . . . . . . . . . . . . . . . . . . . . . . . . . . . . . . . . . . . . . . . . . . . . . . . . . . . . . . . . . . . . . . . . . . . . . . . . . . . . . . . . . . . . . . . . . . . . . . . . . . . . . . . . . . . . . . . . . . . . . . . . . . . . . . . . . . . . . . . . . . . . T T T . . . . . . . . . . . . . . . . . . . . . . . . . . . . . . .\n",
      ". . . . . . . . . . . . . . . . . . . . . . . . . . . . . . . . . . . . . . . . . . . . . . . . . . . . . . . . . . . . . . . . . . . . . . . . . . . . . . . . . . . . . . . . . . . . . . . . . . . . . . . . . . . . . . . . . . . . . . . . . . . . . . . . . . . . . . . . . . . . . . . . . . . . . . . . . . . . . . . . . . . . . . . . . T T T T T T . . . . . . . . . . . . . . . . . . . . . . . . . .\n",
      ". . . . . . . . . . . . . . . . . . . . . . . . . . . . . . . . . . . . . . . . . . . . . . . . . . . . . . . . . . . . . . . . . . . . . . . . . . . . . . . . . . . . . . . . . . . . . . . . . . . . . . . . . . . . . . . . . . . . . . . . . . . . . . . . . . . . . . . . . . . . . . . . . . . . . . . . . . . . . . . . . . . . . . . . . . . T T . T T T . . . . . . . . . . . . . . . . . . . . . . . .\n",
      ". . . . . . . . . . . . . . . . . . . . . . . . . . . . . . . . . . . . . . . . . . . . . . . . . . . . . . . . . . . . . . . . . . . . . . . . . . . . . . . . . . . . . . . . . . . . . . . . . . . . . . . . . . . . . . . . . . . . . . . . . . . . . . . . . . . . . . . . . . . . . . . . . . . . . . . . . . . . . . . . . . . . . . . . . . . . . . . T T . . . . . . . . . . . . . . . . . . . . . . . .\n",
      ". . . . . . . . . . . . . . . . . . . . . . . . . . . . . . . . . . . . . . . . . . . . . . . . . . . . . . . . . . . . . . . . . . . . . . . . . . . . . . . . . . . . . . . . . . . . . . . . . . . . . . . . . . . . . . . . . . . . . . . . . . . . . . . . . . . . . . . . . . . . . . . . . . . . . . . . . . . . . . . . . . . . . . . . . . . . . . . . T . . . . . . . . . . . . . . . . . . . . . . . .\n",
      ". . . . . . . . . . . . . . . . . . . . . . . . . . . . . . . . . . . . . . . . . . . . . . . . . . . . . . . . . . . . . . . . . . . . . . . . . . . . . . . . . . . . . . . . . . . . . . . . . . . . . . . . . . . . . . . . . . . . . . . . . . . . . . . . . . . . . . . . . . . . . . . . . . . . . . . . . . . . . . . . . . . . . . . . . . . . . . . . T T . . . . . . . . . . . . . . . . . . . . . . .\n",
      ". . . . . . . . . . . . . . . . . . . . . . . . . . . . . . . . . . . . . . . . . . . . . . . . . . . . . . . . . . . . . . . . . . . . . . . . . . . . . . . . . . . . . . . . . . . . . . . . . . . . . . . . . . . . . . . . . . . . . . . . . . . . . . . . . . . . . . . . . . . . . . . . . . . . . . . . . . . . . . . . . . . . . . . . . . . . . . . . . T . . . . . . . . . . . . . . . . . . . . . . .\n",
      ". . . . . . . . . . . . . . . . . . . . . . . . . . . . . . . . . . . . . . . . . . . . . . . . . . . . . . . . . . . . . . . . . . . . . . . . . . . . . . . . . . . . . . . . . . . . . . . . . . . . . . . . . . . . . . . . . . . . . . . . . . . . . . . . . . . . . . . . . . . . . . . . . . . . . . . . . . . . . . . . . . . . . . . . . . . . . . . . . T . . . . . . . . . . . . . . . . . . . . . . .\n",
      ". . . . . . . . . . . . . . . . . . . . . . . . . . . . . . . . . . . . . . . . . . . . . . . . . . . . . . . . . . . . . . . . . . . . . . . . . . . . . . . . . . . . . . . . . . . . . . . . . . . . . . . . . . . . . . . . . . . . . . . . . . . . . . . . . . . . . . . . . . . . . . . . . . . . . . . . . . . . . . . . . . . . . . . . . . . . . . . . . T . . . . . . . . . . . . . . . . . . . . . . .\n",
      ". . . . . . . . . . . . . . . . . . . . . . . . . . . . . . . . . . . . . . . . . . . . . . . . . . . . . . . . . . . . . . . . . . . . . . . . . . . . . . . . . . . . . . . . . . . . . . . . . . . . . . . . . . . . . . . . . . . . . . . . . . . . . . . . . . . . . . . . . . . . . . . . . . . . . . . . . . . . . . . . . . . . . . . . . . . . . . . . . T T T . . . . . . . . . . . . . . . . . . . . .\n",
      ". . . . . . . . . . . . . . . . . . . . . . . . . . . . . . . . . . . . . . . . . . . . . . . . . . . . . . . . . . . . . . . . . . . . . . . . . . . . . . . . . . . . . . . . . . . . . . . . . . . . . . . . . . . . . . . . . . . . . . . . . . . . . . . . . . . . . . . . . . . . . . . . . . . . . . . . . . . . . . . . . . . . . . . . . . . . . . . . . . . T T T . . . . . . . . . . . . . . . . . . .\n",
      ". . . . . . . . . . . . . . . . . . . . . . . . . . . . . . . . . . . . . . . . . . . . . . . . . . . . . . . . . . . . . . . . . . . . . . . . . . . . . . . . . . . . . . . . . . . . . . . . . . . . . . . . . . . . . . . . . . . . . . . . . . . . . . . . . . . . . . . . . . . . . . . . . . . . . . . . . . . . . . . . . . . . . . . . . . . . . . . . . . . . . T T T T T . . . . . . . . . . . . . . .\n",
      ". . . . . . . . . . . . . . . . . . . . . . . . . . . . . . . . . . . . . . . . . . . . . . . . . . . . . . . . . . . . . . . . . . . . . . . . . . . . . . . . . . . . . . . . . . . . . . . . . . . . . . . . . . . . . . . . . . . . . . . . . . . . . . . . . . . . . . . . . . . . . . . . . . . . . . . . . . . . . . . . . . . . . . . . . . . . . . . . . . . . . T . . T T T T T . . . . . . . . . . . .\n",
      ". . . . . . . . . . . . . . . . . . . . . . . . . . . . . . . . . . . . . . . . . . . . . . . . . . . . . . . . . . . . . . . . . . . . . . . . . . . . . . . . . . . . . . . . . . . . . . . . . . . . . . . . . . . . . . . . . . . . . . . . . . . . . . . . . . . . . . . . . . . . . . . . . . . . . . . . . . . . . . . . . . . . . . . . . . . . . . . . . . . . . . . . T . . T T T T T . . . . . . . . .\n",
      ". . . . . . . . . . . . . . . . . . . . . . . . . . . . . . . . . . . . . . . . . . . . . . . . . . . . . . . . . . . . . . . . . . . . . . . . . . . . . . . . . . . . . . . . . . . . . . . . . . . . . . . . . . . . . . . . . . . . . . . . . . . . . . . . . . . . . . . . . . . . . . . . . . . . . . . . . . . . . . . . . . . . . . . . . . . . . . . . . . . . . . . . . . . . . . . T . . . . . . . . .\n",
      ". . . . . . . . . . . . . . . . . . . . . . . . . . . . . . . . . . . . . . . . . . . . . . . . . . . . . . . . . . . . . . . . . . . . . . . . . . . . . . . . . . . . . . . . . . . . . . . . . . . . . . . . . . . . . . . . . . . . . . . . . . . . . . . . . . . . . . . . . . . . . . . . . . . . . . . . . . . . . . . . . . . . . . . . . . . . . . . . . . . . . . . . . . . . . . . T T T . . . . . . .\n",
      ". . . . . . . . . . . . . . . . . . . . . . . . . . . . . . . . . . . . . . . . . . . . . . . . . . . . . . . . . . . . . . . . . . . . . . . . . . . . . . . . . . . . . . . . . . . . . . . . . . . . . . . . . . . . . . . . . . . . . . . . . . . . . . . . . . . . . . . . . . . . . . . . . . . . . . . . . . . . . . . . . . . . . . . . . . . . . . . . . . . . . . . . . . . . . . . . T . . . . . . . .\n",
      ". . . . . . . . . . . . . . . . . . . . . . . . . . . . . . . . . . . . . . . . . . . . . . . . . . . . . . . . . . . . . . . . . . . . . . . . . . . . . . . . . . . . . . . . . . . . . . . . . . . . . . . . . . . . . . . . . . . . . . . . . . . . . . . . . . . . . . . . . . . . . . . . . . . . . . . . . . . . . . . . . . . . . . . . . . . . . . . . . . . . . . . . . . . . . . . . T T T T . . . . .\n",
      ". . . . . . . . . . . . . . . . . . . . . . . . . . . . . . . . . . . . . . . . . . . . . . . . . . . . . . . . . . . . . . . . . . . . . . . . . . . . . . . . . . . . . . . . . . . . . . . . . . . . . . . . . . . . . . . . . . . . . . . . . . . . . . . . . . . . . . . . . . . . . . . . . . . . . . . . . . . . . . . . . . . . . . . . . . . . . . . . . . . . . . . . . . . . . . . . . . T . . . . . .\n",
      ". . . . . . . . . . . . . . . . . . . . . . . . . . . . . . . . . . . . . . . . . . . . . . . . . . . . . . . . . . . . . . . . . . . . . . . . . . . . . . . . . . . . . . . . . . . . . . . . . . . . . . . . . . . . . . . . . . . . . . . . . . . . . . . . . . . . . . . . . . . . . . . . . . . . . . . . . . . . . . . . . . . . . . . . . . . . . . . . . . . . . . . . . . . . . . . . . . T . . . . . .\n",
      ". . . . . . . . . . . . . . . . . . . . . . . . . . . . . . . . . . . . . . . . . . . . . . . . . . . . . . . . . . . . . . . . . . . . . . . . . . . . . . . . . . . . . . . . . . . . . . . . . . . . . . . . . . . . . . . . . . . . . . . . . . . . . . . . . . . . . . . . . . . . . . . . . . . . . . . . . . . . . . . . . . . . . . . . . . . . . . . . . . . . . . . . . . . . . . . . . . T T . . . . .\n",
      ". . . . . . . . . . . . . . . . . . . . . . . . . . . . . . . . . . . . . . . . . . . . . . . . . . . . . . . . . . . . . . . . . . . . . . . . . . . . . . . . . . . . . . . . . . . . . . . . . . . . . . . . . . . . . . . . . . . . . . . . . . . . . . . . . . . . . . . . . . . . . . . . . . . . . . . . . . . . . . . . . . . . . . . . . . . . . . . . . . . . . . . . . . . . . . . . . . . T T T . . .\n",
      ". . . . . . . . . . . . . . . . . . . . . . . . . . . . . . . . . . . . . . . . . . . . . . . . . . . . . . . . . . . . . . . . . . . . . . . . . . . . . . . . . . . . . . . . . . . . . . . . . . . . . . . . . . . . . . . . . . . . . . . . . . . . . . . . . . . . . . . . . . . . . . . . . . . . . . . . . . . . . . . . . . . . . . . . . . . . . . . . . . . . . . . . . . . . . . . . . . . . T . . . .\n",
      ". . . . . . . . . . . . . . . . . . . . . . . . . . . . . . . . . . . . . . . . . . . . . . . . . . . . . . . . . . . . . . . . . . . . . . . . . . . . . . . . . . . . . . . . . . . . . . . . . . . . . . . . . . . . . . . . . . . . . . . . . . . . . . . . . . . . . . . . . . . . . . . . . . . . . . . . . . . . . . . . . . . . . . . . . . . . . . . . . . . . . . . . . . . . . . . . . . . . T . . . .\n",
      ". . . . . . . . . . . . . . . . . . . . . . . . . . . . . . . . . . . . . . . . . . . . . . . . . . . . . . . . . . . . . . . . . . . . . . . . . . . . . . . . . . . . . . . . . . . . . . . . . . . . . . . . . . . . . . . . . . . . . . . . . . . . . . . . . . . . . . . . . . . . . . . . . . . . . . . . . . . . . . . . . . . . . . . . . . . . . . . . . . . . . . . . . . . . . . . . . . . . T T T T T\n",
      "CGbDHeChbaAfahBhHeghefEffGfAcacAfCedADcGGacEEgHgeGBeCEGcDEcgGHBdeAdFadGEHGebcHeFaHdCCHBFCDcHBBHHadgDDCadDcfeCEBfhebfACGCGceBghGacDaBageggGCdeAHBfFagDHAAcGaBcdbGddBCgchbdeBgaafEDFHdeGaHggbGBCEHCBGHEDGGeChGdCbGAfeFbeGAbhHFcDaDGGfgCadFHFDeDcaaAhdHeGFAbfedaaEBCdAEdhAAgBEGbfAbcDHFgADCEAbGeEdDeBeHdDhfdBffeCBgfgCFGEgdHCEGdCbceBhgDhDGGcbabfaHAdEGBBccCEcgaagAcfFDGeGEAEheBccHbcfbBhcbBacgEFbGAgcAFGaDeHBBhdha\n"
     ]
    },
    {
     "data": {
      "text/plain": [
       "True"
      ]
     },
     "execution_count": 26,
     "metadata": {},
     "output_type": "execute_result"
    }
   ],
   "source": [
    "v, bp, t = is_interleave(bills[0], bills[1], bills[30], return_backpointers=True, return_table=True)\n",
    "print(show_table(t))\n",
    "print(show_backtrace_i(bp))\n",
    "v"
   ]
  },
  {
   "cell_type": "code",
   "execution_count": 27,
   "metadata": {},
   "outputs": [
    {
     "data": {
      "text/plain": [
       "[30]"
      ]
     },
     "execution_count": 27,
     "metadata": {},
     "output_type": "execute_result"
    }
   ],
   "source": [
    "[s for s in bills\n",
    "   if is_interleave_recursive(bills[0], bills[1], bills[s])]"
   ]
  },
  {
   "cell_type": "code",
   "execution_count": 28,
   "metadata": {},
   "outputs": [
    {
     "name": "stdout",
     "output_type": "stream",
     "text": [
      "1 loop, best of 3: 2.81 s per loop\n"
     ]
    }
   ],
   "source": [
    "%%timeit\n",
    "[s for s in bills\n",
    "   if is_interleave(bills[0], bills[1], bills[s])]"
   ]
  },
  {
   "cell_type": "code",
   "execution_count": 29,
   "metadata": {},
   "outputs": [
    {
     "name": "stdout",
     "output_type": "stream",
     "text": [
      "1 loop, best of 3: 916 ms per loop\n"
     ]
    }
   ],
   "source": [
    "%%timeit\n",
    "[s for s in bills\n",
    "   if is_interleave_rows(bills[0], bills[1], bills[s])]"
   ]
  },
  {
   "cell_type": "code",
   "execution_count": 30,
   "metadata": {},
   "outputs": [
    {
     "name": "stdout",
     "output_type": "stream",
     "text": [
      "1 loop, best of 3: 1.45 s per loop\n"
     ]
    }
   ],
   "source": [
    "%%timeit\n",
    "[s for s in bills\n",
    "   if is_interleave_rows2(bills[0], bills[1], bills[s])]"
   ]
  },
  {
   "cell_type": "code",
   "execution_count": 31,
   "metadata": {},
   "outputs": [
    {
     "name": "stdout",
     "output_type": "stream",
     "text": [
      "1 loop, best of 3: 705 ms per loop\n"
     ]
    }
   ],
   "source": [
    "%%timeit\n",
    "[s for s in bills\n",
    "   if is_interleave_recursive(bills[0], bills[1], bills[s])]"
   ]
  },
  {
   "cell_type": "markdown",
   "metadata": {
    "collapsed": true
   },
   "source": [
    "# Sense solution\n",
    "Took \n",
    "* 25.8 seconds to load file\n",
    "* 15203.9 seconds to find subsequences (4.22 hours; 4 hours, 13 minutes, 23.9 seconds)\n",
    "* 40083.8 seconds to check all interleavings (11.13 hours; 11 hours, 8 minutes, 3.8 seconds)\n",
    "\n",
    "Total of 15 hours 21 minutes 53.5 seconds."
   ]
  },
  {
   "cell_type": "code",
   "execution_count": 32,
   "metadata": {},
   "outputs": [
    {
     "data": {
      "text/plain": [
       "(4.223305555555555, 4, 13, 23.899999999999636)"
      ]
     },
     "execution_count": 32,
     "metadata": {},
     "output_type": "execute_result"
    }
   ],
   "source": [
    "rtime = 15203.9\n",
    "(rtime / 3600,\n",
    " int(rtime / 3600), \n",
    " int(rtime / 60 - int(rtime / 3600) * 60), \n",
    " rtime - int(rtime / 60) * 60\n",
    ")"
   ]
  },
  {
   "cell_type": "code",
   "execution_count": 33,
   "metadata": {},
   "outputs": [
    {
     "data": {
      "text/plain": [
       "(11.13438888888889, 11, 8, 3.8000000000029104)"
      ]
     },
     "execution_count": 33,
     "metadata": {},
     "output_type": "execute_result"
    }
   ],
   "source": [
    "rtime = 40083.8\n",
    "(rtime / 3600,\n",
    " int(rtime / 3600), \n",
    " int(rtime / 60 - int(rtime / 3600) * 60), \n",
    " rtime - int(rtime / 60) * 60\n",
    ")"
   ]
  },
  {
   "cell_type": "code",
   "execution_count": 34,
   "metadata": {},
   "outputs": [
    {
     "data": {
      "text/plain": [
       "(15.36486111111111, 15, 21, 53.5)"
      ]
     },
     "execution_count": 34,
     "metadata": {},
     "output_type": "execute_result"
    }
   ],
   "source": [
    "rtime = 25.8 + 15203.9 +40083.8\n",
    "(rtime / 3600,\n",
    " int(rtime / 3600), \n",
    " int(rtime / 60 - int(rtime / 3600) * 60), \n",
    " rtime - int(rtime / 60) * 60\n",
    ")"
   ]
  },
  {
   "cell_type": "markdown",
   "metadata": {
    "collapsed": true
   },
   "source": [
    "# Explanations"
   ]
  },
  {
   "cell_type": "code",
   "execution_count": 95,
   "metadata": {
    "collapsed": true
   },
   "outputs": [],
   "source": [
    "starget = 'acba'\n",
    "swrong = 'cdabcaca'\n",
    "sinterleave = 'abcacbba'\n",
    "ssubseq = 'aaccabab'"
   ]
  },
  {
   "cell_type": "code",
   "execution_count": 84,
   "metadata": {
    "collapsed": true
   },
   "outputs": [],
   "source": [
    "def show_subseq_md_table(short, long, table):\n",
    "    header = '|   |' + '|'.join('{}<br />{}'.format('<br />'.join(str(long[:i])), i) for i in range(len(long) + 1)) + '|'\n",
    "    separator = '|:---:' * (len(long) + 2) + '|'\n",
    "    rows = []\n",
    "    columns = sorted(set(k[1] for k in table))\n",
    "    for r in range(len(short) + 1):\n",
    "        row = '|{}<br />{}|'.format(r, short[:r])\n",
    "        row += '|'.join('T' if table[r, c] else '.' for c in columns)\n",
    "        row += '|'\n",
    "        rows += [row]\n",
    "    return '\\n'.join([header] + [separator] + rows)\n",
    "#     return '\\n'.join(\n",
    "#         ' '.join('T' if table[i, j] else '.' for j in sorted(set([k[1] for k in table])))\n",
    "#         for i in sorted(set([k[0] for k in table])))        "
   ]
  },
  {
   "cell_type": "code",
   "execution_count": 82,
   "metadata": {},
   "outputs": [
    {
     "name": "stdout",
     "output_type": "stream",
     "text": [
      ". . . . . . . . .\n",
      ". a a c c a b a b\n",
      ". . . c c a b a b\n",
      ". . . . . . b a b\n",
      ". . . . . . . a b\n",
      "AcCaBAb\n"
     ]
    }
   ],
   "source": [
    "v, bp, t = is_subseq(starget, ssubseq, return_backpointers=True, return_table=True)\n",
    "print(show_annotated_table(t, bp))\n",
    "print(show_backtrace_s(bp))"
   ]
  },
  {
   "cell_type": "code",
   "execution_count": 83,
   "metadata": {},
   "outputs": [
    {
     "name": "stdout",
     "output_type": "stream",
     "text": [
      "T T T T T T T T T\n",
      ". T T T T T T T T\n",
      ". . . T T T T T T\n",
      ". . . . . . T T T\n",
      ". . . . . . . T T\n"
     ]
    }
   ],
   "source": [
    "print(show_table(t))"
   ]
  },
  {
   "cell_type": "code",
   "execution_count": 85,
   "metadata": {},
   "outputs": [
    {
     "name": "stdout",
     "output_type": "stream",
     "text": [
      "|   |<br />0|a<br />1|a<br />a<br />2|a<br />a<br />c<br />3|a<br />a<br />c<br />c<br />4|a<br />a<br />c<br />c<br />a<br />5|a<br />a<br />c<br />c<br />a<br />b<br />6|a<br />a<br />c<br />c<br />a<br />b<br />a<br />7|a<br />a<br />c<br />c<br />a<br />b<br />a<br />b<br />8|\n",
      "|:---:|:---:|:---:|:---:|:---:|:---:|:---:|:---:|:---:|:---:|\n",
      "|0<br />|T|T|T|T|T|T|T|T|T|\n",
      "|1<br />a|.|T|T|T|T|T|T|T|T|\n",
      "|2<br />ac|.|.|.|T|T|T|T|T|T|\n",
      "|3<br />acb|.|.|.|.|.|.|T|T|T|\n",
      "|4<br />acba|.|.|.|.|.|.|.|T|T|\n"
     ]
    }
   ],
   "source": [
    "print(show_subseq_md_table(starget, ssubseq, t))"
   ]
  },
  {
   "cell_type": "markdown",
   "metadata": {},
   "source": [
    "|   |<br />0|a<br />1|a<br />a<br />2|a<br />a<br />c<br />3|a<br />a<br />c<br />c<br />4|a<br />a<br />c<br />c<br />a<br />5|a<br />a<br />c<br />c<br />a<br />b<br />6|a<br />a<br />c<br />c<br />a<br />b<br />a<br />7|a<br />a<br />c<br />c<br />a<br />b<br />a<br />b<br />8|\n",
    "|:---:|:---:|:---:|:---:|:---:|:---:|:---:|:---:|:---:|:---:|\n",
    "|0<br />|T|T|T|T|T|T|T|T|T|\n",
    "|1<br />a|.|T|T|T|T|T|T|T|T|\n",
    "|2<br />ac|.|.|.|T|T|T|T|T|T|\n",
    "|3<br />acb|.|.|.|.|.|.|T|T|T|\n",
    "|4<br />acba|.|.|.|.|.|.|.|T|T|"
   ]
  },
  {
   "cell_type": "code",
   "execution_count": 99,
   "metadata": {},
   "outputs": [
    {
     "name": "stdout",
     "output_type": "stream",
     "text": [
      ". . . . . . . . .\n",
      ". . . a b c a c a\n",
      ". . . . . c a c a\n",
      ". . . . . . . . .\n",
      ". . . . . . . . .\n",
      "ACa\n"
     ]
    }
   ],
   "source": [
    "v, bp, t = is_subseq(starget, swrong, return_backpointers=True, return_table=True)\n",
    "print(show_annotated_table(t, bp))\n",
    "print(show_backtrace_s(bp))"
   ]
  },
  {
   "cell_type": "code",
   "execution_count": 100,
   "metadata": {},
   "outputs": [
    {
     "name": "stdout",
     "output_type": "stream",
     "text": [
      "|   |<br />0|c<br />1|c<br />d<br />2|c<br />d<br />a<br />3|c<br />d<br />a<br />b<br />4|c<br />d<br />a<br />b<br />c<br />5|c<br />d<br />a<br />b<br />c<br />a<br />6|c<br />d<br />a<br />b<br />c<br />a<br />c<br />7|c<br />d<br />a<br />b<br />c<br />a<br />c<br />a<br />8|\n",
      "|:---:|:---:|:---:|:---:|:---:|:---:|:---:|:---:|:---:|:---:|\n",
      "|0<br />|T|T|T|T|T|T|T|T|T|\n",
      "|1<br />a|.|.|.|T|T|T|T|T|T|\n",
      "|2<br />ac|.|.|.|.|.|T|T|T|T|\n",
      "|3<br />acb|.|.|.|.|.|.|.|.|.|\n",
      "|4<br />acba|.|.|.|.|.|.|.|.|.|\n"
     ]
    }
   ],
   "source": [
    "print(show_subseq_md_table(starget, swrong, t))"
   ]
  },
  {
   "cell_type": "markdown",
   "metadata": {},
   "source": [
    "|   |<br />0|c<br />1|c<br />d<br />2|c<br />d<br />a<br />3|c<br />d<br />a<br />b<br />4|c<br />d<br />a<br />b<br />c<br />5|c<br />d<br />a<br />b<br />c<br />a<br />6|c<br />d<br />a<br />b<br />c<br />a<br />c<br />7|c<br />d<br />a<br />b<br />c<br />a<br />c<br />a<br />8|\n",
    "|:---:|:---:|:---:|:---:|:---:|:---:|:---:|:---:|:---:|:---:|\n",
    "|0<br />|T|T|T|T|T|T|T|T|T|\n",
    "|1<br />a|.|.|.|T|T|T|T|T|T|\n",
    "|2<br />ac|.|.|.|.|.|T|T|T|T|\n",
    "|3<br />acb|.|.|.|.|.|.|.|.|.|\n",
    "|4<br />acba|.|.|.|.|.|.|.|.|.|"
   ]
  },
  {
   "cell_type": "code",
   "execution_count": null,
   "metadata": {
    "collapsed": true
   },
   "outputs": [],
   "source": []
  }
 ],
 "metadata": {
  "kernelspec": {
   "display_name": "Python 3",
   "language": "python",
   "name": "python3"
  },
  "language_info": {
   "codemirror_mode": {
    "name": "ipython",
    "version": 3
   },
   "file_extension": ".py",
   "mimetype": "text/x-python",
   "name": "python",
   "nbconvert_exporter": "python",
   "pygments_lexer": "ipython3",
   "version": "3.5.2+"
  }
 },
 "nbformat": 4,
 "nbformat_minor": 1
}
